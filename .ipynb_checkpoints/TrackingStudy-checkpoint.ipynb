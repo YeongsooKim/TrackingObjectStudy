{
 "cells": [
  {
   "cell_type": "markdown",
   "metadata": {},
   "source": [
    "# Test"
   ]
  },
  {
   "cell_type": "code",
   "execution_count": 1,
   "metadata": {},
   "outputs": [],
   "source": [
    "# for i in range(objectNum):\n",
    "#     print (objectsTime[i][0], objectsTime[i][1], objectsTime[i][2])\n",
    "\n",
    "# N = int(objectsTime[0][2]/dtObject)\n",
    "# endTime = objectsTime[0][0] + (N - 1)*dtObject\n",
    "# groundtruth = np.linspace (objectsTime[0][0], endTime, N)\n",
    "# print (\"groundtruth - length:\", len (groundtruth), \", start time:\", groundtruth[0], \", end time:\", groundtruth[-1])\n",
    "\n",
    "# print (objectsTime[0][2])"
   ]
  },
  {
   "cell_type": "code",
   "execution_count": 2,
   "metadata": {},
   "outputs": [],
   "source": [
    "# for i in range (objectNum):\n",
    "#     N = int(objects[i].intervalTime/dtObject)\n",
    "#     endTime = objects[i].startTime + (N - 1)*dtObject\n",
    "#     objectInfo = np.linspace (objects[i].startTime, endTime, N)\n",
    "#     print (\"object - length:\", len (objectInfo), \", start time:\", objectInfo[0], \", end time:\", objectInfo[-1])"
   ]
  },
  {
   "cell_type": "code",
   "execution_count": 3,
   "metadata": {},
   "outputs": [],
   "source": [
    "# for i in range (objectNum):\n",
    "#     measurementNumber = int(objects[i].intervalTime/dtRadar)\n",
    "#     endTime = objects[i].startTime + (measurementNumber - 1)*dtRadar\n",
    "\n",
    "#     timesRadar_test = np.linspace (objects[i].startTime, endTime, measurementNumber)\n",
    "\n",
    "#     print (\"timesRadar_test - length:\", len (timesRadar_test), \", start time:\", timesRadar_test[0], \", end time:\", timesRadar_test[-1])"
   ]
  },
  {
   "cell_type": "markdown",
   "metadata": {},
   "source": [
    "# 1. Ground truth\n",
    "\n",
    "## Import\n",
    "\n",
    "* import numpy for matrix\n",
    "* import matplotlib.pyplot for plotting\n",
    "* import math for math function\n",
    "* import random for random variable. Creating noise or start point etc"
   ]
  },
  {
   "cell_type": "code",
   "execution_count": 4,
   "metadata": {},
   "outputs": [],
   "source": [
    "import numpy as np\n",
    "import matplotlib.pyplot as plt\n",
    "\n",
    "import math\n",
    "import random\n",
    "import copy"
   ]
  },
  {
   "cell_type": "markdown",
   "metadata": {},
   "source": [
    "## Init constant value and other functions\n",
    "\n",
    "* Init object number\n",
    "* Create object which life time is random\n",
    "* object ground truth dt is 5 ms  \n",
    "\n",
    "\n",
    "* Lidar detecting dt is 25 ms\n",
    "* Radar detecting dt is 50 ms"
   ]
  },
  {
   "cell_type": "code",
   "execution_count": 5,
   "metadata": {},
   "outputs": [],
   "source": [
    "objectNum = 5\n",
    "\n",
    "# time const\n",
    "startTime_Sec = 0.0\n",
    "endTime_Sec = 20.0\n",
    "\n",
    "objectsTime = []\n",
    "\n",
    "dtObject = 0.005 # 5ms\n",
    "dtLidar = 0.025 # 25ms\n",
    "dtRadar = 0.050 # 50ms\n",
    "dtTracking = 0.01 # 10ms\n",
    "\n",
    "# create objects time\n",
    "for _ in range(objectNum):\n",
    "    startTime = random.uniform(startTime_Sec, endTime_Sec)\n",
    "    \n",
    "    endTime = 0.0\n",
    "    while (endTime < (startTime)):\n",
    "        endTime = random.uniform(startTime_Sec, endTime_Sec)\n",
    "        \n",
    "    intervalTime = endTime - startTime\n",
    "    \n",
    "    objectsTime.append([startTime, endTime, intervalTime])\n",
    "\n",
    "\n",
    "# plot type\n",
    "TRAJECTORY = 1\n",
    "X = 2\n",
    "Y = 3\n",
    "\n",
    "\n",
    "# noise size\n",
    "LidarNoiseSize = 2\n",
    "RadarNoiseSize = 2 # 0 < RadarNoiseSize < 1000\n",
    "\n",
    "\n",
    "# convenient function and class\n",
    "def cart2pol(x, y):\n",
    "    rho = np.sqrt(x**2 + y**2)\n",
    "    phi = np.arctan2(y, x)\n",
    "    return(rho, phi)\n",
    "\n",
    "def pol2cart(rho, phi):\n",
    "    x = rho * np.cos(phi)\n",
    "    y = rho * np.sin(phi)\n",
    "    return (x, y)\n",
    "\n",
    "class Trajectory():\n",
    "    def __init__ (self):\n",
    "        self.x = []\n",
    "        self.y = []\n",
    "        self.rho = []\n",
    "        self.phi = []\n",
    "        \n",
    "# model\n",
    "CV = 0\n",
    "CA = 1\n",
    "\n",
    "# measurement type\n",
    "LIDAR = 0\n",
    "RADAR = 1"
   ]
  },
  {
   "cell_type": "markdown",
   "metadata": {},
   "source": [
    "### [matplotlib color](https://matplotlib.org/3.1.0/api/_as_gen/matplotlib.pyplot.plot.html)\n",
    "\n",
    "The supported color abbreviations are the single letter codes\n",
    "\n",
    "|character|color\n",
    "|:-------:|:-------:\n",
    "|'b'      |blue\n",
    "|'g'      |green\n",
    "|'r'      |red\n",
    "|'c'      |cyan\n",
    "|'m'      |magenta\n",
    "|'y'      |yellow\n",
    "|'k'      |black\n",
    "|'w'      |white\n",
    "\n",
    "### [python dictionary](https://wikidocs.net/16043)\n",
    "\n",
    "* 딕셔너리 타입은 immutable한 키(key)와 mutable한 값(value)으로 맵핑되어 있는 순서가 없는 집합\n",
    "* 일반적인 딕셔너리 타입의 모습, 중괄호로 되어 있고 키와 값\n",
    "\n",
    "```python\n",
    ">>> {\"a\" : 1, \"b\":2}\n",
    "{'a': 1, 'b': 2}\n",
    "```\n",
    "\n",
    "* 순서가 없기 때문에 인덱스로는 접근할수 없고, 키로 접근 할 수 있음\n",
    "\n",
    "```python\n",
    ">>> d = {'abc' : 1, 'def' : 2}\n",
    ">>> d[0]\n",
    "Traceback (most recent call last):\n",
    "  File \"<stdin>\", line 1, in <module>\n",
    "KeyError: 0\n",
    ">>> d['abc']\n",
    "1\n",
    "```"
   ]
  },
  {
   "cell_type": "code",
   "execution_count": 6,
   "metadata": {},
   "outputs": [],
   "source": [
    "# color define\n",
    "COLOR = {'blue' : 'b',\n",
    "         'green' : 'g',\n",
    "         'red' : 'r',\n",
    "         'cyan' : 'c',\n",
    "         'magenta' : 'm',\n",
    "         'yellow' : 'y',\n",
    "         'black' : 'k',\n",
    "         'white' : 'w'}"
   ]
  },
  {
   "cell_type": "markdown",
   "metadata": {},
   "source": [
    "## Object model\n",
    "\n",
    "* Const accelerate model\n",
    "\n",
    "$x' = Ax + Bu$\n",
    "\n",
    "<img src=\"./img/ConstantVelocitySystemModel.png\" width=\"50%\" height=\"50%\">\n",
    "\n",
    "* Const velocity model"
   ]
  },
  {
   "cell_type": "code",
   "execution_count": 7,
   "metadata": {},
   "outputs": [],
   "source": [
    "class Object():\n",
    "    def __init__ (self, times, x, y, ID, model):\n",
    "        self.ID = ID\n",
    "        self.states = []\n",
    "        self.trajectory = Trajectory()\n",
    "        self.model = model\n",
    "        \n",
    "        self.times = times\n",
    "        self.startTime = times[0]\n",
    "        self.endTime = times[-1]\n",
    "        self.intervalTime = self.endTime - self.startTime\n",
    "        \n",
    "        self.isDetected = False\n",
    "        \n",
    "        # state: x, y, x`, y`, x``, y``\n",
    "        self.state_ca = np.matrix([0.0, 0.0, 0.0, 0.0, 0.0, 0.0]).T\n",
    "        \n",
    "        # state: x, y, x`, y`\n",
    "        self.state_cv = np.matrix([0.0, 0.0, 0.0, 0.0]).T\n",
    "        \n",
    "        # state: x, y, x`, y`, x``, y``\n",
    "        self.state_ca[0] = x\n",
    "        self.state_ca[1] = y\n",
    "        \n",
    "        # state: x, y, x`, y`\n",
    "        self.state_cv[0] = x\n",
    "        self.state_cv[1] = y\n",
    "        \n",
    "        # select model\n",
    "        if self.model == CV:\n",
    "            self.F = np.matrix([[1.0, 0.0, dtObject, 0.0],\n",
    "                             [0.0, 1.0, 0.0, dtObject],\n",
    "                             [0.0, 0.0, 1.0, 0.0],\n",
    "                             [0.0, 0.0, 0.0, 1.0]])\n",
    "\n",
    "            self.B = np.matrix([[0.0, 0.0],\n",
    "                               [0.0, 0.0],\n",
    "                               [1.0, 0.0],\n",
    "                               [0.0, 1.0]])\n",
    "            \n",
    "        elif self.model == CA:\n",
    "            self.F = np.matrix([[1.0, 0.0, dtObject, 0.0, 1/2.0*dtObject**2, 0.0],\n",
    "                             [0.0, 1.0, 0.0, dtObject, 0.0, 1/2.0*dtObject**2],\n",
    "                             [0.0, 0.0, 1.0, 0.0, dtObject, 0.0],\n",
    "                             [0.0, 0.0, 0.0, 1.0, 0.0, dtObject],\n",
    "                             [0.0, 0.0, 0.0, 0.0, 1.0, 0.0],\n",
    "                             [0.0, 0.0, 0.0, 0.0, 0.0, 1.0]])\n",
    "\n",
    "            self.B = np.matrix([[0.0, 0.0],\n",
    "                               [0.0, 0.0],\n",
    "                               [0.0, 0.0],\n",
    "                               [0.0, 0.0],\n",
    "                               [1.0, 0.0],\n",
    "                               [0.0, 1.0]])\n",
    "    \n",
    "    def getState(self, u):\n",
    "        if self.model == CV:\n",
    "            self.state_cv = self.F*self.state_cv + self.B*u\n",
    "            return self.state_cv\n",
    "        \n",
    "        elif self.model == CA:\n",
    "            self.state_ca = self.F*self.state_ca + self.B*u\n",
    "            return self.state_ca\n",
    "        \n",
    "    def getStatus(self, time, dt):\n",
    "        prevTime = time - dt\n",
    "        nextTime = time + dt\n",
    "        \n",
    "        if (self.startTime > prevTime) and (self.startTime < nextTime):\n",
    "            self.isDetected = True\n",
    "        \n",
    "        \n",
    "    def subplots(self, axes, ID, color):\n",
    "        \n",
    "        axes[0].plot (self.trajectory.x, self.trajectory.y, color=color, label='Ground truth{0}'.format(ID))\n",
    "        axes[1].plot (self.times, self.trajectory.x, color=color, label='Ground truth{0}'.format(ID))\n",
    "        axes[1].set_xlim ([0.0, 10.0])\n",
    "\n",
    "        axes[2].plot (self.times, self.trajectory.y, color=color, label='Ground truth{0}'.format(ID))\n",
    "        axes[2].set_xlim ([0.0, 10.0])\n",
    "        \n",
    "        \n",
    "    def plot (self, ID, pltType, color):\n",
    "        if pltType == TRAJECTORY:\n",
    "            plt.plot(self.trajectory.x, self.trajectory.y, color=color, linewidth=1.5, linestyle=\"-\",label=\"Ground truth {0}\".format(ID))\n",
    "                \n",
    "        elif pltType == X:\n",
    "            plt.plot(self.times, self.trajectory.x, color=color, linewidth=1.5, linestyle=\"-\",label=\"Ground truth {0}\".format(ID))\n",
    "                \n",
    "        elif pltType == Y:\n",
    "            plt.plot(self.times, self.trajectory.y, color=color, linewidth=1.5, linestyle=\"-\",label=\"Ground truth {0}\".format(ID))"
   ]
  },
  {
   "cell_type": "markdown",
   "metadata": {},
   "source": [
    "## Object simulation\n",
    "\n",
    "whole system's start time = 0\n",
    "whole system's end time = 10"
   ]
  },
  {
   "cell_type": "code",
   "execution_count": 8,
   "metadata": {},
   "outputs": [],
   "source": [
    "objects = []\n",
    "\n",
    "# create object with random position\n",
    "for objectIdx in range(objectNum):\n",
    "    measurementNumber = int(objectsTime[objectIdx][2]/dtObject)\n",
    "    endTime = objectsTime[objectIdx][0] + (measurementNumber - 1)*dtObject\n",
    "    objectsTimes = np.linspace (objectsTime[objectIdx][0], endTime, measurementNumber)\n",
    "    \n",
    "    x = random.uniform(0.0, 1000.0)\n",
    "    y = random.uniform(0.0, 1000.0)\n",
    "    \n",
    "    object = Object(objectsTimes, x, y, objectIdx, CV)\n",
    "    objects.append(object)\n",
    "\n",
    "\n",
    "# get object state\n",
    "for objectIdx, object in enumerate(objects):\n",
    "    for t in range(len(object.times)):\n",
    "    \n",
    "        if (t % 5) == 0:\n",
    "            if object.model == CV:\n",
    "                vel = random.uniform(-10.0, 10.0)\n",
    "                radian = random.uniform(-math.pi, math.pi)\n",
    "\n",
    "                u = np.matrix([vel*math.cos(radian), vel*math.sin(radian)]).T\n",
    "                \n",
    "            if object.model == CA:\n",
    "                accel = random.uniform(-10.0, 10.0)\n",
    "                radian = random.uniform(-math.pi, math.pi)\n",
    "\n",
    "                u = np.matrix([accel*math.cos(radian), accel*math.sin(radian)]).T\n",
    "        \n",
    "        state = object.getState(u)\n",
    "\n",
    "        object.states.append(state)\n",
    "        object.trajectory.x.append (state[0, 0])\n",
    "        object.trajectory.y.append (state[1, 0])"
   ]
  },
  {
   "cell_type": "markdown",
   "metadata": {},
   "source": [
    "## Plotting object trajectory and x, y"
   ]
  },
  {
   "cell_type": "code",
   "execution_count": 9,
   "metadata": {},
   "outputs": [
    {
     "data": {
      "image/png": "[encoded data removed]",
      "text/plain": [
       "<Figure size 1152x360 with 3 Axes>"
      ]
     },
     "metadata": {
      "needs_background": "light"
     },
     "output_type": "display_data"
    }
   ],
   "source": [
    "fig, axes = plt.subplots(1, 3, figsize = (16, 5))\n",
    "colors = list(COLOR.values())\n",
    "\n",
    "for objectIdx, object in enumerate (objects):\n",
    "    object.subplots (axes, objectIdx, colors[objectIdx])\n",
    "    \n",
    "    axes[0].legend(loc=\"upper right\")\n",
    "    axes[0].set(xlabel = 'x (m)', ylabel = 'y (m)')\n",
    "    axes[0].set_title('Trajectory')\n",
    "    \n",
    "    axes[1].legend(loc=\"upper right\")\n",
    "    axes[1].set(xlabel = 'times (s)', ylabel = 'x (m)')\n",
    "    axes[1].set_title('x over time')\n",
    "    \n",
    "    axes[2].legend(loc=\"upper right\")\n",
    "    axes[2].set(xlabel = 'times (s)', ylabel = 'y (m)')\n",
    "    axes[2].set_title('y over time')\n",
    "\n",
    "    plt.tight_layout()"
   ]
  },
  {
   "cell_type": "markdown",
   "metadata": {},
   "source": [
    "# 2. Sensor model\n",
    "\n",
    "Lidar dt: 25 ms  \n",
    "Radar dt: 50 ms"
   ]
  },
  {
   "cell_type": "markdown",
   "metadata": {},
   "source": [
    "### 2.1 Lidar model"
   ]
  },
  {
   "cell_type": "code",
   "execution_count": 10,
   "metadata": {},
   "outputs": [],
   "source": [
    "class LiDAR():\n",
    "    def __init__(self, times):\n",
    "        self.times = times\n",
    "        self.measurements = []\n",
    "        self.trajectory = Trajectory()\n",
    "        self.H = np.matrix([[1.0, 0.0, 0.0, 0.0, 0.0, 0.0],\n",
    "                           [0.0, 1.0, 0.0, 0.0, 0.0, 0.0]])\n",
    "            \n",
    "            \n",
    "    def measure(self, states):\n",
    "        measurementIdx = 0\n",
    "        \n",
    "        for stateIdx, state in enumerate(states):\n",
    "            \n",
    "            # 25ms \n",
    "            if (stateIdx % (dtLidar/dtObject)) == 0:\n",
    "                measurement = self.H*state\n",
    "\n",
    "                # Noise\n",
    "                sensor_noise = np.random.randn()*LidarNoiseSize\n",
    "                measurement[0, 0] = measurement[0, 0] + sensor_noise\n",
    "                \n",
    "                sensor_noise = np.random.randn()*LidarNoiseSize\n",
    "                measurement[1, 0] = measurement[1, 0] + sensor_noise\n",
    "                \n",
    "                self.measurements.append(measurement)\n",
    "                self.trajectory.x[measurementIdx] = measurement[0, 0]\n",
    "                self.trajectory.y[measurementIdx] = measurement[1, 0]\n",
    "                \n",
    "                measurementIdx = measurementIdx + 1\n",
    "                \n",
    "            else:\n",
    "                continue\n",
    "                \n",
    "    def subplots(self, times, axes, ID):\n",
    "        axes[0].plot (self.trajectory.x, self.trajectory.y, 'b.', markersize=4, label='Lidar{0}'.format(ID))\n",
    "        axes[1].plot (times, self.trajectory.x, 'b.', markersize=4, label='Lidar{0}'.format(ID))\n",
    "        axes[2].plot (times, self.trajectory.y, 'b.', markersize=4, label='Lidar{0}'.format(ID))\n",
    "    \n",
    "    \n",
    "    def plot (self, ID, pltType):\n",
    "        if pltType == TRAJECTORY:\n",
    "            plt.plot(self.trajectory.x, self.trajectory.y, 'bo', markersize=4, label=\"Lidar {0}\".format(ID))\n",
    "                \n",
    "        elif pltType == X:\n",
    "            plt.plot(self.times, self.trajectory.x, 'bo', markersize=4, label=\"Lidar {0}\".format(ID))\n",
    "                \n",
    "        elif pltType == Y:\n",
    "            plt.plot(self.times, self.trajectory.y, 'bo', markersize=4, label=\"Lidar {0}\".format(ID))"
   ]
  },
  {
   "cell_type": "markdown",
   "metadata": {},
   "source": [
    "### 2.2 Radar model\n",
    "\n",
    "Radar is no __H__ matrix that will map the state vector __x__ into polar coordinates. Instead, you need to calculate the mapping manually to convert from cartesian coordinates to polar coordinates.\n",
    "\n",
    "Here is the __h__ function that specifies how the predicted position and speed get mapped to the polar coordinates of range, bearing and range rate.\n",
    "\n",
    "![Img](./img/RadarSystemModeling.PNG)"
   ]
  },
  {
   "cell_type": "code",
   "execution_count": 11,
   "metadata": {},
   "outputs": [],
   "source": [
    "class Radar():\n",
    "    def __init__ (self, times):\n",
    "        self.times = times\n",
    "        self.measurements = []\n",
    "        self.trajectory = Trajectory()\n",
    "\n",
    "    def measure(self, state):\n",
    "        measurement = np.matrix([0.0, 0.0, 0.0]).T  \n",
    "\n",
    "        px = state[0, 0]\n",
    "        py = state[1, 0]\n",
    "        vx = state[2, 0]\n",
    "        vy = state[3, 0]\n",
    "\n",
    "        rho = math.sqrt(px**2 + py**2)\n",
    "        phi = math.atan2(py, px)\n",
    "\n",
    "        if rho < 0.0001:\n",
    "            rho = 0.0001\n",
    "        rhoDot = (px*vx + py*vy)/rho\n",
    "\n",
    "        # noise\n",
    "        sensorNoise = np.random.randn() * math.pi * (RadarNoiseSize/1000)\n",
    "        phi = phi + sensorNoise\n",
    "\n",
    "        measurement[0, 0] = rho\n",
    "        measurement[1, 0] = phi\n",
    "        measurement[2, 0] = rhoDot\n",
    "\n",
    "        self.measurements.append(measurement)\n",
    "        self.trajectory.rho.append (rho)\n",
    "        self.trajectory.phi.append (phi)\n",
    "        x, y = pol2cart(rho, phi)\n",
    "        self.trajectory.x.append (x)\n",
    "        self.trajectory.y.append (y)\n",
    "\n",
    "                \n",
    "    def subplots(self, axes, ID):\n",
    "        axes[0].plot (self.trajectory.x, self.trajectory.y, 'g.', markersize=4, label='Radar{0}'.format(ID))\n",
    "        axes[1].plot (self.times, self.trajectory.x, 'g.', markersize=4, label='Radar{0}'.format(ID))\n",
    "        axes[2].plot (self.times, self.trajectory.y, 'g.', markersize=4, label='Radar{0}'.format(ID))\n",
    "    \n",
    "    \n",
    "    def plot (self, ID, pltType):\n",
    "        if pltType == TRAJECTORY:\n",
    "            plt.plot(self.trajectory.x, self.trajectory.y, 'go', markersize=4, label=\"Radar {0}\".format(ID))\n",
    "            \n",
    "        elif pltType == X:\n",
    "            plt.plot(self.times, self.trajectory.x, 'go', markersize=4, label=\"Radar {0}\".format(ID))   \n",
    "        elif pltType == Y:\n",
    "            plt.plot(self.times, self.trajectory.y, 'go', markersize=4, label=\"Radar {0}\".format(ID))"
   ]
  },
  {
   "cell_type": "markdown",
   "metadata": {},
   "source": [
    "## Generate LiDAR measurement and Radar measurement"
   ]
  },
  {
   "cell_type": "code",
   "execution_count": 12,
   "metadata": {
    "scrolled": false
   },
   "outputs": [],
   "source": [
    "# lidars = []\n",
    "# timesLidar = np.linspace (startTime_Sec, endTime_Sec, int (endTime_Sec/dtLidar))\n",
    "\n",
    "radars = []\n",
    "\n",
    "for object in objects:\n",
    "#     lidar = LiDAR(timesLidar)\n",
    "#     lidar.measure(object.states)\n",
    "#     lidars.append(lidar)\n",
    "\n",
    "    measurementNumber = int (object.intervalTime/dtRadar)\n",
    "    endTime = object.startTime + (measurementNumber - 1)*dtRadar\n",
    "    timesRadar = np.linspace (object.startTime, endTime, measurementNumber)\n",
    "    \n",
    "    radar = Radar(timesRadar)\n",
    "\n",
    "    RadarMeasIdx = 0\n",
    "    for t_Idx, t in enumerate (object.times):\n",
    "        minTime = t - 0.000001\n",
    "        maxTime = t + 0.000001\n",
    "        \n",
    "        if ((radar.times[RadarMeasIdx] > minTime) and (radar.times[RadarMeasIdx] < maxTime)):\n",
    "            radar.measure(object.states[t_Idx])\n",
    "            RadarMeasIdx = RadarMeasIdx + 1\n",
    "            \n",
    "            if (RadarMeasIdx == len (radar.times)):\n",
    "                break\n",
    "    radars.append(radar)"
   ]
  },
  {
   "cell_type": "markdown",
   "metadata": {},
   "source": [
    "## Comparison ground truth with Radar"
   ]
  },
  {
   "cell_type": "code",
   "execution_count": 13,
   "metadata": {
    "scrolled": false
   },
   "outputs": [
    {
     "data": {
      "image/png": "[encoded data removed]",
      "text/plain": [
       "<Figure size 1080x216 with 3 Axes>"
      ]
     },
     "metadata": {
      "needs_background": "light"
     },
     "output_type": "display_data"
    },
    {
     "data": {
      "image/png": "[encoded data removed]",
      "text/plain": [
       "<Figure size 1080x216 with 3 Axes>"
      ]
     },
     "metadata": {
      "needs_background": "light"
     },
     "output_type": "display_data"
    },
    {
     "data": {
      "image/png": "[encoded data removed]",
      "text/plain": [
       "<Figure size 1080x216 with 3 Axes>"
      ]
     },
     "metadata": {
      "needs_background": "light"
     },
     "output_type": "display_data"
    },
    {
     "data": {
      "image/png": "[encoded data removed]",
      "text/plain": [
       "<Figure size 1080x216 with 3 Axes>"
      ]
     },
     "metadata": {
      "needs_background": "light"
     },
     "output_type": "display_data"
    },
    {
     "data": {
      "image/png": "[encoded data removed]",
      "text/plain": [
       "<Figure size 1080x216 with 3 Axes>"
      ]
     },
     "metadata": {
      "needs_background": "light"
     },
     "output_type": "display_data"
    }
   ],
   "source": [
    "for Idx, radar in enumerate(radars):\n",
    "    fig, axes = plt.subplots(1, 3, figsize = (15,3))\n",
    "    radar.subplots(axes, Idx)\n",
    "    objects[Idx].subplots (axes, objectIdx, COLOR['red'])\n",
    "    \n",
    "    axes[0].legend(loc=\"upper right\")\n",
    "    axes[0].set(xlabel = 'x', ylabel = 'y')\n",
    "    axes[0].set_title('Trajectory')\n",
    "\n",
    "    axes[1].legend(loc=\"upper right\")\n",
    "    axes[1].set(xlabel = 'times', ylabel = 'x')\n",
    "    axes[1].set_title('x over time')\n",
    "\n",
    "    axes[2].legend(loc=\"upper right\")\n",
    "    axes[2].set(xlabel = 'times', ylabel = 'y')\n",
    "    axes[2].set_title('y over time')\n",
    "    \n",
    "    plt.tight_layout()\n",
    "    plt.show()"
   ]
  },
  {
   "cell_type": "code",
   "execution_count": 14,
   "metadata": {},
   "outputs": [
    {
     "name": "stdout",
     "output_type": "stream",
     "text": [
      "Input radar number: \n",
      "0\n"
     ]
    },
    {
     "data": {
      "image/png": "[encoded data removed]",
      "text/plain": [
       "<Figure size 800x480 with 1 Axes>"
      ]
     },
     "metadata": {
      "needs_background": "light"
     },
     "output_type": "display_data"
    },
    {
     "data": {
      "image/png": "[encoded data removed]",
      "text/plain": [
       "<Figure size 800x480 with 1 Axes>"
      ]
     },
     "metadata": {
      "needs_background": "light"
     },
     "output_type": "display_data"
    },
    {
     "data": {
      "image/png": "[encoded data removed]",
      "text/plain": [
       "<Figure size 800x480 with 1 Axes>"
      ]
     },
     "metadata": {
      "needs_background": "light"
     },
     "output_type": "display_data"
    }
   ],
   "source": [
    "print (\"Input radar number: \")\n",
    "obj = int(input())\n",
    "\n",
    "# Trajectory\n",
    "plt.figure(figsize=(10,6), dpi=80)\n",
    "plt.title(\"Trajectory\")\n",
    "radars[obj].plot (obj, TRAJECTORY)\n",
    "objects[obj].plot (obj, TRAJECTORY, COLOR['red'])\n",
    "\n",
    "plt.legend(loc='upper right', frameon=False)\n",
    "plt.xlabel('x (m)')\n",
    "plt.ylabel('y (m)')\n",
    "plt.show()\n",
    "\n",
    "# x over time\n",
    "plt.figure(figsize=(10,6), dpi=80)\n",
    "plt.title(\"x over time\")\n",
    "radars[obj].plot (obj, X)\n",
    "objects[obj].plot (obj, X, COLOR['red'])\n",
    "\n",
    "plt.legend(loc='upper right', frameon=False)\n",
    "plt.xlabel('time (sec)')\n",
    "plt.ylabel('x distance (m)')\n",
    "plt.show()\n",
    "\n",
    "# y over time\n",
    "plt.figure(figsize=(10,6), dpi=80)\n",
    "plt.title(\"y over time\")\n",
    "radars[obj].plot (obj, Y)\n",
    "objects[obj].plot (obj, Y, COLOR['red'])\n",
    "\n",
    "plt.legend(loc='upper right', frameon=False)\n",
    "plt.xlabel('time (sec)')\n",
    "plt.ylabel('y distance (m)')\n",
    "plt.show()"
   ]
  },
  {
   "cell_type": "markdown",
   "metadata": {},
   "source": [
    "# 3. Tracking \n",
    "\n",
    "dt = 10 ms"
   ]
  },
  {
   "cell_type": "markdown",
   "metadata": {},
   "source": [
    "### Mapping predicted state into Radar measurement\n",
    "\n",
    "Radar Measurements lecture that the __h__ function is composed of three equations that show how the predcited state, $x' = (p'_x, p'_y, v'_x, v'_y)^T$, is mapped into the measurement space, $z = (\\rho, \\phi, \\dot{\\rho})^T$\n",
    "\n",
    "![Img](./img/RadarSystemModeling.PNG)"
   ]
  },
  {
   "cell_type": "code",
   "execution_count": 15,
   "metadata": {},
   "outputs": [],
   "source": [
    "def h (state):\n",
    "    px = state[0, 0]\n",
    "    py = state[1, 0]\n",
    "    vx = state[2, 0]\n",
    "    vy = state[3, 0]\n",
    "\n",
    "    rho = math.sqrt(px**2 + py**2)\n",
    "    phi = math.atan2(py, px)\n",
    "    rhoRate = (px*vx + py*vy)/rho\n",
    "    \n",
    "    x = np.matrix([rho, phi, rhoRate]).T\n",
    "    \n",
    "    return x"
   ]
  },
  {
   "cell_type": "markdown",
   "metadata": {},
   "source": [
    "### [Jacobian matrix](https://en.wikipedia.org/wiki/Jacobian_matrix_and_determinant#Jacobian_matrix)\n",
    "\n",
    "* Jacobian matrix \n",
    "\n",
    "The Jacobian of a [vector-valued function](https://math.boisestate.edu/~jaimos/classes/m275-fall2017/notes/vector-fcn1.html) in several variables generalizes the gradient of a [scalar-valued function](http://web.mit.edu/wwmath/vectorc/scalar/intro.html) in several variables, which in turn generalizes the derivative of a scalar-valued function of a single variable. In other words, the Jacobian matrix of a scalar-valued function in several variables is (the transpose of) its gradient and the gradient of a scalar-valued function of a single variable is its derivative.\n",
    "\n",
    "* Critical points\n",
    "\n",
    "If $f : ℝ^n → ℝ^m$ is a differentiable function, a critical point of __f__ is a point where the rank of the Jacobian matrix is not maximal. This means that the rank at the critical point is lower than the rank at some neighbour point. In other words, let _k_ be the maximal dimension of the open balls contained in the image of __f__; then a point is critical if all minors of rank _k_ of __f__ are zero.\n",
    "\n",
    "* __Examples1__\n",
    "\n",
    "Consider the function $f : ℝ^2 → ℝ^2$, with $(x, y) ↦ (f1(x, y), f2(x, y))$, given by\n",
    "\n",
    "![Img](./img/JacobianExample1-1.PNG)\n",
    "\n",
    "Then we have $f_1(x, y) = x^2y$ and $f_2(x, y) = 5x + siny$ and the Jacobian matrix of __f__ is\n",
    "\n",
    "![Img](./img/JacobianExample1-2.PNG)\n",
    "\n",
    "and the Jacobian determinant is $det(J_f(x, y)) = 2xycosy - 5x^2$\n",
    "\n",
    "* __Examples2:__ spherical-Cartesian trasnformation\n",
    "\n",
    "The transformation form spherical coordinates $(r, \\theta, \\phi)$ to Cartesian coordinates $(x, y, z)$, is given by the function $F: ℝ^+× [0, π] × [0, 2 π) → ℝ^3$ with components:\n",
    "\n",
    "$x = rsin(\\theta)cos(\\phi);$  \n",
    "$y = rsin(\\theta)sin(\\phi);$  \n",
    "$z = rcos(\\theta)$\n",
    "\n",
    "The jacobian matrix for this coordinate change is\n",
    "\n",
    "![Img](./img/JacobianExample2-1.PNG)\n",
    "\n",
    "The determinant is $r^2 sin\\theta$. As an example, since $dV = dx dy dz$ this determinant implies that the differential volume elemnet $dV = r^2 sin\\theta drd\\theta d\\phi $. Unlike for a change of Cartesian coordinates, this determinant is not a constant, and varies with coordinates $(r and \\theta)$\n",
    "\n",
    "* __Examples3:__ Multivariate Taylor Series with a one-dimensional equation\n",
    "\n",
    "__h__ function is composed by multi-dimensional equations, so we will need to use a multi-dimensional Taylor series expansion to make a linear approximation of the __h__ function. Here is a general formula for the multi-dimensional Taylor series expansion\n",
    "\n",
    "![Img](./img/multi-dimensional_Taylor_series_expansion.PNG)\n",
    "\n",
    "$Df(a)$ is called the __Jacobian matrix__ and $D^2f(a)$ is called the [__Hessian matrix__](https://www.khanacademy.org/math/multivariable-calculus/applications-of-multivariable-derivatives/quadratic-approximations/a/the-hessian). To derive a linear approximation for the h function, we will only keep the expansion up to the Jacobian matrix $Df(a)$.\n",
    "\n",
    "![Img](./img/Jacobian_H_j_matrix.PNG)\n",
    "\n",
    "![Img](./img/Jacobian_H_j_matrix_result.PNG)\n",
    "\n",
    "you have to check that neither x nor y is zero.\" What is meant is: \"you have to check that x and y are not both zero"
   ]
  },
  {
   "cell_type": "code",
   "execution_count": 16,
   "metadata": {},
   "outputs": [],
   "source": [
    "def calculateJacobian (state, Hj):\n",
    "    \n",
    "    px = state[0, 0]; py = state[1, 0]\n",
    "    vx = state[2, 0]; vy = state[3, 0]\n",
    "    \n",
    "    if len(state) == 6:\n",
    "        ax = state[4, 0]; ay = state[5, 0]\n",
    "    \n",
    "    c1 = px**2 + py**2\n",
    "    c2 = math.sqrt(c1)\n",
    "    c3 = c1*c2\n",
    "    \n",
    "    \n",
    "    if math.fabs(c1) < 0.0001:\n",
    "        return Hj\n",
    "    \n",
    "    rhoDpx = px/c2\n",
    "    rhoDpy = py/c2\n",
    "    rhoDvx = 0; rhoDvy = 0\n",
    "    if len(state) == 6:\n",
    "        rhoDax = 0; rhoDay = 0\n",
    "    \n",
    "    phiDpx = -py/c1\n",
    "    phiDpy = px/c1\n",
    "    phiDvx = 0; phiDvy = 0\n",
    "    if len(state) == 6:\n",
    "        phiDax = 0; phiDay = 0\n",
    "    \n",
    "    rhoDotDpx = py*(vx*py - vy*px)/c3\n",
    "    rhoDotDpy = px*(vy*px - vx*py)/c3\n",
    "    rhoDotDvx = px/c2\n",
    "    rhoDotDvy = py/c2\n",
    "    if len(state) == 6:\n",
    "        rhoDotDax = 0; rhoDotDay = 0\n",
    "    \n",
    "    if len(state) == 6:\n",
    "        Hj = np.matrix([[rhoDpx, rhoDpy, rhoDvx, rhoDvy, rhoDax, rhoDay],\n",
    "                      [phiDpx, phiDpy, phiDvx, phiDvy, phiDax, phiDay],\n",
    "                      [rhoDotDpx, rhoDotDpy, rhoDotDvx, rhoDotDvy, rhoDotDax, rhoDotDay]])\n",
    "    \n",
    "    else:\n",
    "        Hj = np.matrix([[rhoDpx, rhoDpy, rhoDvx, rhoDvy],\n",
    "                      [phiDpx, phiDpy, phiDvx, phiDvy],\n",
    "                      [rhoDotDpx, rhoDotDpy, rhoDotDvx, rhoDotDvy]])\n",
    "    return Hj"
   ]
  },
  {
   "cell_type": "markdown",
   "metadata": {},
   "source": [
    "## Kalman Filter"
   ]
  },
  {
   "cell_type": "code",
   "execution_count": 17,
   "metadata": {},
   "outputs": [],
   "source": [
    "class KalmanFilter():\n",
    "    def __init__(self, model):\n",
    "        \n",
    "        self.model = model\n",
    "        self.varState = 1000.0\n",
    "        self.varMeas = 1000.0\n",
    "        \n",
    "        if self.model == CV:\n",
    "            self.x = np.matrix([0.0, 0.0, 0.0, 0.0]).T\n",
    "\n",
    "            self.initCovar = 10*np.eye(4)\n",
    "            self.P = np.matrix([[1.0, 0.0, 0.0, 0.0],\n",
    "                             [0.0, 1.0, 0.0, 0.0],\n",
    "                             [0.0, 0.0, 1.0, 0.0],\n",
    "                             [0.0, 0.0, 0.0, 1.0]])\n",
    "\n",
    "            self.F = np.matrix([[1.0, 0.0, 0.0, 0.0],\n",
    "                             [0.0, 1.0, 0.0, 0.0],\n",
    "                             [0.0, 0.0, 1.0, 0.0],\n",
    "                             [0.0, 0.0, 0.0, 1.0]])\n",
    "            \n",
    "            # Process model                     \n",
    "            a = 0.5 * dtTracking**2\n",
    "            b = dtTracking\n",
    "            c = 1.0\n",
    "            # varState = 1000.0 # sigma x = sigma y\n",
    "            self.Q = np.matrix([[a*a*self.varState, 0.0, a*b*self.varState, 0.0],\n",
    "                             [0.0, a*a*self.varState, 0.0, a*b*self.varState],\n",
    "                             [a*b*self.varState, 0.0, b*b*self.varState, 0.0],\n",
    "                             [0.0, a*b*self.varState, 0.0, b*b*self.varState]])\n",
    "\n",
    "            self.H = np.matrix([[1.0, 0.0, 0.0, 0.0], \n",
    "                             [0.0, 1.0, 0.0, 0.0]])\n",
    "\n",
    "            self.Hj = np.matrix ([[1.0, 1.0, 0.0, 0.0],\n",
    "                                 [1.0, 1.0, 0.0, 0.0],\n",
    "                                 [1.0, 1.0, 1.0, 1.0]])\n",
    "\n",
    "\n",
    "        if self.model == CA:\n",
    "            self.x = np.matrix([0.0, 0.0, 0.0, 0.0, 0.0, 0.0]).T\n",
    "\n",
    "            self.initCovar = 10*np.eye(6)\n",
    "            self.P = self.initCovar\n",
    "\n",
    "\n",
    "            self.F = np.matrix([[1.0, 0.0, dtTracking, 0.0, 1/2.0*dtTracking**2, 0.0],\n",
    "                             [0.0, 1.0, 0.0, dtTracking, 0.0, 1/2.0*dtTracking**2],\n",
    "                             [0.0, 0.0, 1.0, 0.0, dtTracking, 0.0],\n",
    "                             [0.0, 0.0, 0.0, 1.0, 0.0, dtTracking],\n",
    "                             [0.0, 0.0, 0.0, 0.0, 1.0, 0.0],\n",
    "                             [0.0, 0.0, 0.0, 0.0, 0.0, 1.0]])\n",
    "\n",
    "            # Process model                     \n",
    "            a = 0.5 * dtTracking**2\n",
    "            b = dtTracking\n",
    "            c = 1.0\n",
    "            # varState = 1000.0 # sigma x = sigma y\n",
    "            self.Q = np.matrix([[a*a*varState, 0.0, a*b*varState, 0.0, a*c*varState, 0.0],\n",
    "                             [0.0, a*a*varState, 0.0, a*b*varState, 0.0, a*c*varState],\n",
    "                             [a*b*varState, 0.0, b*b*varState, 0.0, b*c*varState, 0.0],\n",
    "                             [0.0, a*b*varState, 0.0, b*b*varState, 0.0, b*c*varState],\n",
    "                             [a*c*varState, 0.0, b*c*varState, 0.0, c*c*varState, 0.0],\n",
    "                             [0.0, a*c*varState, 0.0, b*c*varState, 0.0, c*c*varState]])\n",
    "\n",
    "            self.H = np.matrix([[1.0, 0.0, 0.0, 0.0, 0.0, 0.0], \n",
    "                             [0.0, 1.0, 0.0, 0.0, 0.0, 0.0]])\n",
    "\n",
    "            self.Hj = np.matrix ([[1.0, 1.0, 0.0, 0.0, 0.0, 0.0],\n",
    "                                 [1.0, 1.0, 0.0, 0.0, 0.0, 0.0],\n",
    "                                 [1.0, 1.0, 1.0, 1.0, 0.0, 0.0]])\n",
    "\n",
    "\n",
    "        # varMeas = 10.0\n",
    "        self.R = np.matrix([[self.varMeas, 0.0],\n",
    "                           [0.0, self.varMeas]])\n",
    "\n",
    "        self.Rj = np.matrix([[self.varMeas, 0.0, 0.0],\n",
    "                            [0.0, self.varMeas, 0.0],\n",
    "                            [0.0, 0.0, self.varMeas]])\n",
    "\n",
    "        \n",
    "    def predict (self, dt):\n",
    "        self.F[0, 2] = dt\n",
    "        self.F[1, 3] = dt\n",
    "        \n",
    "        # Process model                     \n",
    "        a = 0.5 * dt**2\n",
    "        b = dt\n",
    "        c = 1.0\n",
    "        # varState = 1000.0 # sigma x = sigma y\n",
    "        self.Q = np.matrix([[a*a*self.varState, 0.0, a*b*self.varState, 0.0],\n",
    "                         [0.0, a*a*self.varState, 0.0, a*b*self.varState],\n",
    "                         [a*b*self.varState, 0.0, b*b*self.varState, 0.0],\n",
    "                         [0.0, a*b*self.varState, 0.0, b*b*self.varState]])\n",
    "        \n",
    "        display (self.F)\n",
    "        display (self.x)\n",
    "        \n",
    "        self.x = self.F * self.x\n",
    "        self.P = self.F * self.P * self.F.T + self.Q\n",
    "    \n",
    "    def updateKF (self, z):\n",
    "        e = z - self.H*self.x\n",
    "        S = self.H*self.P*self.H.T + self.R\n",
    "        K = self.P*self.H.T*np.linalg.pinv(S)\n",
    "\n",
    "        self.x = self.x + K*e\n",
    "        self.P = self.P - K*S*K.T\n",
    "            \n",
    "    def updateEKF (self, z):\n",
    "        self.Hj = calculateJacobian (self.x, self.Hj)\n",
    "        e = z - h(self.x)\n",
    "        \n",
    "        while (e[1, 0] > math.pi or e[1, 0] < -math.pi):\n",
    "            if e[1, 0] > math.pi:\n",
    "                e[1, 0] = e[1, 0] - math.pi\n",
    "            else:\n",
    "                e[1, 0] = e[1, 0] + math.pi\n",
    "        \n",
    "        S = self.Hj*self.P*self.Hj.T + self.Rj\n",
    "        K = self.P*self.Hj.T*np.linalg.pinv(S)\n",
    "\n",
    "        self.x = self.x + K*e\n",
    "        if self.model == CV:\n",
    "            I = np.eye(4)\n",
    "        elif self.model == CA:\n",
    "            I = np.eye(6)\n",
    "\n",
    "        self.P = (I - (K*self.Hj))*self.P"
   ]
  },
  {
   "cell_type": "code",
   "execution_count": 18,
   "metadata": {},
   "outputs": [],
   "source": [
    "class Tracking ():\n",
    "\n",
    "    def __init__ (self, ID, model, measurement, measType, time):\n",
    "        self.times = []\n",
    "        self.states = []\n",
    "        self.model = model\n",
    "        \n",
    "        self.trajectory = Trajectory()\n",
    "        self.filter = KalmanFilter(model)\n",
    "        \n",
    "        \n",
    "        self.prevTime = time\n",
    "        self.currTime = time\n",
    "        \n",
    "        self.isFirstTime = True\n",
    "\n",
    "        if measType == LIDAR:\n",
    "            print (\"lidar\")\n",
    "            \n",
    "        elif measType == RADAR:\n",
    "            rho = measurement[0, 0]\n",
    "            phi = measurement[1, 0]\n",
    "            rhoDot = measurement[2, 0]\n",
    "            \n",
    "            px = rho * math.cos(phi)\n",
    "            py = rho * math.sin(phi)\n",
    "            vx = rhoDot * math.cos(phi)\n",
    "            vy = rhoDot * math.sin(phi)\n",
    "            \n",
    "            self.filter.x[0, 0] = px\n",
    "            self.filter.x[1, 0] = py\n",
    "            self.filter.x[2, 0] = vx\n",
    "            self.filter.x[3, 0] = vy\n",
    "            \n",
    "            self.times.append (time)\n",
    "            self.states.append (self.filter.x)\n",
    "            self.trajectory.x.append (px)\n",
    "            self.trajectory.y.append (py)\n",
    "            \n",
    "            \n",
    "    def subplots(self, times, axes, ID):\n",
    "        axes[0].plot (self.trajectory.x, self.trajectory.y, 'm.', markersize=4, label='Tracking{0}'.format(ID))\n",
    "        axes[1].plot (times, self.trajectory.x, 'm.', markersize=4, label='Tracking{0}'.format(ID))\n",
    "        axes[2].plot (times, self.trajectory.y, 'm.', markersize=4, label='Tracking{0}'.format(ID))\n",
    "    \n",
    "    \n",
    "    def plot (self, ID, pltType, color):\n",
    "        if pltType == TRAJECTORY:\n",
    "            plt.plot(self.trajectory.x, self.trajectory.y, '{0}o'.format(color), markersize=4, label=\"Tracking {0}, v_s={1}, v_m={2}\".format(ID, self.filter.varState, self.filter.varMeas))\n",
    "                \n",
    "        elif pltType == X:\n",
    "            plt.plot(self.times, self.trajectory.x, '{0}o'.format(color), markersize=4, label=\"Tracking {0}, v_s={1}, v_m={2}\".format(ID, self.filter.varState, self.filter.varMeas))\n",
    "                \n",
    "        elif pltType == Y:\n",
    "            plt.plot(self.times, self.trajectory.y, '{0}o'.format(color), markersize=4, label=\"Tracking {0}, v_s={1}, v_m={2}\".format(ID, self.filter.varState, self.filter.varMeas))"
   ]
  },
  {
   "cell_type": "markdown",
   "metadata": {},
   "source": [
    "# Tracking simulation\n",
    "\n",
    "times dt: 5 ms  \n",
    "tracking dt: 10 ms"
   ]
  },
  {
   "cell_type": "code",
   "execution_count": 19,
   "metadata": {
    "scrolled": false
   },
   "outputs": [
    {
     "name": "stdout",
     "output_type": "stream",
     "text": [
      "0\n"
     ]
    },
    {
     "data": {
      "text/plain": [
       "matrix([[1.  , 0.  , 0.01, 0.  ],\n",
       "        [0.  , 1.  , 0.  , 0.01],\n",
       "        [0.  , 0.  , 1.  , 0.  ],\n",
       "        [0.  , 0.  , 0.  , 1.  ]])"
      ]
     },
     "metadata": {},
     "output_type": "display_data"
    },
    {
     "data": {
      "text/plain": [
       "matrix([[ 7.97536730e+02],\n",
       "        [ 4.93392450e+01],\n",
       "        [-6.59016532e-01],\n",
       "        [-4.07697563e-02]])"
      ]
     },
     "metadata": {},
     "output_type": "display_data"
    },
    {
     "data": {
      "text/plain": [
       "matrix([[1.  , 0.  , 0.01, 0.  ],\n",
       "        [0.  , 1.  , 0.  , 0.01],\n",
       "        [0.  , 0.  , 1.  , 0.  ],\n",
       "        [0.  , 0.  , 0.  , 1.  ]])"
      ]
     },
     "metadata": {},
     "output_type": "display_data"
    },
    {
     "data": {
      "text/plain": [
       "matrix([[ 7.97530140e+02],\n",
       "        [ 4.93388373e+01],\n",
       "        [-6.59016532e-01],\n",
       "        [-4.07697563e-02]])"
      ]
     },
     "metadata": {},
     "output_type": "display_data"
    },
    {
     "data": {
      "text/plain": [
       "matrix([[1.  , 0.  , 0.01, 0.  ],\n",
       "        [0.  , 1.  , 0.  , 0.01],\n",
       "        [0.  , 0.  , 1.  , 0.  ],\n",
       "        [0.  , 0.  , 0.  , 1.  ]])"
      ]
     },
     "metadata": {},
     "output_type": "display_data"
    },
    {
     "data": {
      "text/plain": [
       "matrix([[ 7.97523550e+02],\n",
       "        [ 4.93384296e+01],\n",
       "        [-6.59016532e-01],\n",
       "        [-4.07697563e-02]])"
      ]
     },
     "metadata": {},
     "output_type": "display_data"
    },
    {
     "data": {
      "text/plain": [
       "matrix([[1.  , 0.  , 0.01, 0.  ],\n",
       "        [0.  , 1.  , 0.  , 0.01],\n",
       "        [0.  , 0.  , 1.  , 0.  ],\n",
       "        [0.  , 0.  , 0.  , 1.  ]])"
      ]
     },
     "metadata": {},
     "output_type": "display_data"
    },
    {
     "data": {
      "text/plain": [
       "matrix([[ 7.97516960e+02],\n",
       "        [ 4.93380219e+01],\n",
       "        [-6.59016532e-01],\n",
       "        [-4.07697563e-02]])"
      ]
     },
     "metadata": {},
     "output_type": "display_data"
    },
    {
     "data": {
      "text/plain": [
       "matrix([[1.  , 0.  , 0.01, 0.  ],\n",
       "        [0.  , 1.  , 0.  , 0.01],\n",
       "        [0.  , 0.  , 1.  , 0.  ],\n",
       "        [0.  , 0.  , 0.  , 1.  ]])"
      ]
     },
     "metadata": {},
     "output_type": "display_data"
    },
    {
     "data": {
      "text/plain": [
       "matrix([[ 7.97510369e+02],\n",
       "        [ 4.93376142e+01],\n",
       "        [-6.59016532e-01],\n",
       "        [-4.07697563e-02]])"
      ]
     },
     "metadata": {},
     "output_type": "display_data"
    },
    {
     "data": {
      "text/plain": [
       "matrix([[1.  , 0.  , 0.01, 0.  ],\n",
       "        [0.  , 1.  , 0.  , 0.01],\n",
       "        [0.  , 0.  , 1.  , 0.  ],\n",
       "        [0.  , 0.  , 0.  , 1.  ]])"
      ]
     },
     "metadata": {},
     "output_type": "display_data"
    },
    {
     "data": {
      "text/plain": [
       "matrix([[ 7.97503779e+02],\n",
       "        [ 4.93372065e+01],\n",
       "        [-6.59016532e-01],\n",
       "        [-4.07697563e-02]])"
      ]
     },
     "metadata": {},
     "output_type": "display_data"
    },
    {
     "data": {
      "text/plain": [
       "matrix([[1.  , 0.  , 0.01, 0.  ],\n",
       "        [0.  , 1.  , 0.  , 0.01],\n",
       "        [0.  , 0.  , 1.  , 0.  ],\n",
       "        [0.  , 0.  , 0.  , 1.  ]])"
      ]
     },
     "metadata": {},
     "output_type": "display_data"
    },
    {
     "data": {
      "text/plain": [
       "matrix([[ 7.97497189e+02],\n",
       "        [ 4.93367988e+01],\n",
       "        [-6.59016532e-01],\n",
       "        [-4.07697563e-02]])"
      ]
     },
     "metadata": {},
     "output_type": "display_data"
    },
    {
     "data": {
      "text/plain": [
       "matrix([[1.  , 0.  , 0.01, 0.  ],\n",
       "        [0.  , 1.  , 0.  , 0.01],\n",
       "        [0.  , 0.  , 1.  , 0.  ],\n",
       "        [0.  , 0.  , 0.  , 1.  ]])"
      ]
     },
     "metadata": {},
     "output_type": "display_data"
    },
    {
     "data": {
      "text/plain": [
       "matrix([[ 7.97490599e+02],\n",
       "        [ 4.93363911e+01],\n",
       "        [-6.59016532e-01],\n",
       "        [-4.07697563e-02]])"
      ]
     },
     "metadata": {},
     "output_type": "display_data"
    },
    {
     "data": {
      "text/plain": [
       "matrix([[1.  , 0.  , 0.01, 0.  ],\n",
       "        [0.  , 1.  , 0.  , 0.01],\n",
       "        [0.  , 0.  , 1.  , 0.  ],\n",
       "        [0.  , 0.  , 0.  , 1.  ]])"
      ]
     },
     "metadata": {},
     "output_type": "display_data"
    },
    {
     "data": {
      "text/plain": [
       "matrix([[ 7.97484009e+02],\n",
       "        [ 4.93359834e+01],\n",
       "        [-6.59016532e-01],\n",
       "        [-4.07697563e-02]])"
      ]
     },
     "metadata": {},
     "output_type": "display_data"
    },
    {
     "data": {
      "text/plain": [
       "matrix([[1.  , 0.  , 0.01, 0.  ],\n",
       "        [0.  , 1.  , 0.  , 0.01],\n",
       "        [0.  , 0.  , 1.  , 0.  ],\n",
       "        [0.  , 0.  , 0.  , 1.  ]])"
      ]
     },
     "metadata": {},
     "output_type": "display_data"
    },
    {
     "data": {
      "text/plain": [
       "matrix([[ 7.97477419e+02],\n",
       "        [ 4.93355757e+01],\n",
       "        [-6.59016532e-01],\n",
       "        [-4.07697563e-02]])"
      ]
     },
     "metadata": {},
     "output_type": "display_data"
    },
    {
     "data": {
      "text/plain": [
       "matrix([[1.  , 0.  , 0.01, 0.  ],\n",
       "        [0.  , 1.  , 0.  , 0.01],\n",
       "        [0.  , 0.  , 1.  , 0.  ],\n",
       "        [0.  , 0.  , 0.  , 1.  ]])"
      ]
     },
     "metadata": {},
     "output_type": "display_data"
    },
    {
     "data": {
      "text/plain": [
       "matrix([[ 7.97470828e+02],\n",
       "        [ 4.93351680e+01],\n",
       "        [-6.59016532e-01],\n",
       "        [-4.07697563e-02]])"
      ]
     },
     "metadata": {},
     "output_type": "display_data"
    },
    {
     "data": {
      "text/plain": [
       "matrix([[1.  , 0.  , 0.01, 0.  ],\n",
       "        [0.  , 1.  , 0.  , 0.01],\n",
       "        [0.  , 0.  , 1.  , 0.  ],\n",
       "        [0.  , 0.  , 0.  , 1.  ]])"
      ]
     },
     "metadata": {},
     "output_type": "display_data"
    },
    {
     "data": {
      "text/plain": [
       "matrix([[ 7.97464238e+02],\n",
       "        [ 4.93347603e+01],\n",
       "        [-6.59016532e-01],\n",
       "        [-4.07697563e-02]])"
      ]
     },
     "metadata": {},
     "output_type": "display_data"
    },
    {
     "data": {
      "text/plain": [
       "matrix([[1.  , 0.  , 0.01, 0.  ],\n",
       "        [0.  , 1.  , 0.  , 0.01],\n",
       "        [0.  , 0.  , 1.  , 0.  ],\n",
       "        [0.  , 0.  , 0.  , 1.  ]])"
      ]
     },
     "metadata": {},
     "output_type": "display_data"
    },
    {
     "data": {
      "text/plain": [
       "matrix([[ 7.97457648e+02],\n",
       "        [ 4.93343526e+01],\n",
       "        [-6.59016532e-01],\n",
       "        [-4.07697563e-02]])"
      ]
     },
     "metadata": {},
     "output_type": "display_data"
    },
    {
     "data": {
      "text/plain": [
       "matrix([[1.  , 0.  , 0.01, 0.  ],\n",
       "        [0.  , 1.  , 0.  , 0.01],\n",
       "        [0.  , 0.  , 1.  , 0.  ],\n",
       "        [0.  , 0.  , 0.  , 1.  ]])"
      ]
     },
     "metadata": {},
     "output_type": "display_data"
    },
    {
     "data": {
      "text/plain": [
       "matrix([[ 7.97451058e+02],\n",
       "        [ 4.93339449e+01],\n",
       "        [-6.59016532e-01],\n",
       "        [-4.07697563e-02]])"
      ]
     },
     "metadata": {},
     "output_type": "display_data"
    },
    {
     "data": {
      "text/plain": [
       "matrix([[1.  , 0.  , 0.01, 0.  ],\n",
       "        [0.  , 1.  , 0.  , 0.01],\n",
       "        [0.  , 0.  , 1.  , 0.  ],\n",
       "        [0.  , 0.  , 0.  , 1.  ]])"
      ]
     },
     "metadata": {},
     "output_type": "display_data"
    },
    {
     "data": {
      "text/plain": [
       "matrix([[ 7.97444468e+02],\n",
       "        [ 4.93335372e+01],\n",
       "        [-6.59016532e-01],\n",
       "        [-4.07697563e-02]])"
      ]
     },
     "metadata": {},
     "output_type": "display_data"
    },
    {
     "data": {
      "text/plain": [
       "matrix([[1.  , 0.  , 0.01, 0.  ],\n",
       "        [0.  , 1.  , 0.  , 0.01],\n",
       "        [0.  , 0.  , 1.  , 0.  ],\n",
       "        [0.  , 0.  , 0.  , 1.  ]])"
      ]
     },
     "metadata": {},
     "output_type": "display_data"
    },
    {
     "data": {
      "text/plain": [
       "matrix([[ 7.97437878e+02],\n",
       "        [ 4.93331295e+01],\n",
       "        [-6.59016532e-01],\n",
       "        [-4.07697563e-02]])"
      ]
     },
     "metadata": {},
     "output_type": "display_data"
    },
    {
     "data": {
      "text/plain": [
       "matrix([[1.  , 0.  , 0.01, 0.  ],\n",
       "        [0.  , 1.  , 0.  , 0.01],\n",
       "        [0.  , 0.  , 1.  , 0.  ],\n",
       "        [0.  , 0.  , 0.  , 1.  ]])"
      ]
     },
     "metadata": {},
     "output_type": "display_data"
    },
    {
     "data": {
      "text/plain": [
       "matrix([[ 7.97431287e+02],\n",
       "        [ 4.93327218e+01],\n",
       "        [-6.59016532e-01],\n",
       "        [-4.07697563e-02]])"
      ]
     },
     "metadata": {},
     "output_type": "display_data"
    },
    {
     "data": {
      "text/plain": [
       "matrix([[1.  , 0.  , 0.01, 0.  ],\n",
       "        [0.  , 1.  , 0.  , 0.01],\n",
       "        [0.  , 0.  , 1.  , 0.  ],\n",
       "        [0.  , 0.  , 0.  , 1.  ]])"
      ]
     },
     "metadata": {},
     "output_type": "display_data"
    },
    {
     "data": {
      "text/plain": [
       "matrix([[ 7.97424697e+02],\n",
       "        [ 4.93323141e+01],\n",
       "        [-6.59016532e-01],\n",
       "        [-4.07697563e-02]])"
      ]
     },
     "metadata": {},
     "output_type": "display_data"
    },
    {
     "data": {
      "text/plain": [
       "matrix([[1.  , 0.  , 0.01, 0.  ],\n",
       "        [0.  , 1.  , 0.  , 0.01],\n",
       "        [0.  , 0.  , 1.  , 0.  ],\n",
       "        [0.  , 0.  , 0.  , 1.  ]])"
      ]
     },
     "metadata": {},
     "output_type": "display_data"
    },
    {
     "data": {
      "text/plain": [
       "matrix([[ 7.97418107e+02],\n",
       "        [ 4.93319064e+01],\n",
       "        [-6.59016532e-01],\n",
       "        [-4.07697563e-02]])"
      ]
     },
     "metadata": {},
     "output_type": "display_data"
    },
    {
     "data": {
      "text/plain": [
       "matrix([[1.  , 0.  , 0.01, 0.  ],\n",
       "        [0.  , 1.  , 0.  , 0.01],\n",
       "        [0.  , 0.  , 1.  , 0.  ],\n",
       "        [0.  , 0.  , 0.  , 1.  ]])"
      ]
     },
     "metadata": {},
     "output_type": "display_data"
    },
    {
     "data": {
      "text/plain": [
       "matrix([[ 7.97411517e+02],\n",
       "        [ 4.93314987e+01],\n",
       "        [-6.59016532e-01],\n",
       "        [-4.07697563e-02]])"
      ]
     },
     "metadata": {},
     "output_type": "display_data"
    },
    {
     "data": {
      "text/plain": [
       "matrix([[1.  , 0.  , 0.01, 0.  ],\n",
       "        [0.  , 1.  , 0.  , 0.01],\n",
       "        [0.  , 0.  , 1.  , 0.  ],\n",
       "        [0.  , 0.  , 0.  , 1.  ]])"
      ]
     },
     "metadata": {},
     "output_type": "display_data"
    },
    {
     "data": {
      "text/plain": [
       "matrix([[ 7.97404927e+02],\n",
       "        [ 4.93310911e+01],\n",
       "        [-6.59016532e-01],\n",
       "        [-4.07697563e-02]])"
      ]
     },
     "metadata": {},
     "output_type": "display_data"
    },
    {
     "data": {
      "text/plain": [
       "matrix([[1.  , 0.  , 0.01, 0.  ],\n",
       "        [0.  , 1.  , 0.  , 0.01],\n",
       "        [0.  , 0.  , 1.  , 0.  ],\n",
       "        [0.  , 0.  , 0.  , 1.  ]])"
      ]
     },
     "metadata": {},
     "output_type": "display_data"
    },
    {
     "data": {
      "text/plain": [
       "matrix([[ 7.97398337e+02],\n",
       "        [ 4.93306834e+01],\n",
       "        [-6.59016532e-01],\n",
       "        [-4.07697563e-02]])"
      ]
     },
     "metadata": {},
     "output_type": "display_data"
    },
    {
     "data": {
      "text/plain": [
       "matrix([[1.  , 0.  , 0.01, 0.  ],\n",
       "        [0.  , 1.  , 0.  , 0.01],\n",
       "        [0.  , 0.  , 1.  , 0.  ],\n",
       "        [0.  , 0.  , 0.  , 1.  ]])"
      ]
     },
     "metadata": {},
     "output_type": "display_data"
    },
    {
     "data": {
      "text/plain": [
       "matrix([[ 7.97391746e+02],\n",
       "        [ 4.93302757e+01],\n",
       "        [-6.59016532e-01],\n",
       "        [-4.07697563e-02]])"
      ]
     },
     "metadata": {},
     "output_type": "display_data"
    },
    {
     "data": {
      "text/plain": [
       "matrix([[1.  , 0.  , 0.01, 0.  ],\n",
       "        [0.  , 1.  , 0.  , 0.01],\n",
       "        [0.  , 0.  , 1.  , 0.  ],\n",
       "        [0.  , 0.  , 0.  , 1.  ]])"
      ]
     },
     "metadata": {},
     "output_type": "display_data"
    },
    {
     "data": {
      "text/plain": [
       "matrix([[ 7.97385156e+02],\n",
       "        [ 4.93298680e+01],\n",
       "        [-6.59016532e-01],\n",
       "        [-4.07697563e-02]])"
      ]
     },
     "metadata": {},
     "output_type": "display_data"
    },
    {
     "data": {
      "text/plain": [
       "matrix([[1.  , 0.  , 0.01, 0.  ],\n",
       "        [0.  , 1.  , 0.  , 0.01],\n",
       "        [0.  , 0.  , 1.  , 0.  ],\n",
       "        [0.  , 0.  , 0.  , 1.  ]])"
      ]
     },
     "metadata": {},
     "output_type": "display_data"
    },
    {
     "data": {
      "text/plain": [
       "matrix([[ 7.97378566e+02],\n",
       "        [ 4.93294603e+01],\n",
       "        [-6.59016532e-01],\n",
       "        [-4.07697563e-02]])"
      ]
     },
     "metadata": {},
     "output_type": "display_data"
    },
    {
     "data": {
      "text/plain": [
       "matrix([[1.  , 0.  , 0.01, 0.  ],\n",
       "        [0.  , 1.  , 0.  , 0.01],\n",
       "        [0.  , 0.  , 1.  , 0.  ],\n",
       "        [0.  , 0.  , 0.  , 1.  ]])"
      ]
     },
     "metadata": {},
     "output_type": "display_data"
    },
    {
     "data": {
      "text/plain": [
       "matrix([[ 7.97371976e+02],\n",
       "        [ 4.93290526e+01],\n",
       "        [-6.59016532e-01],\n",
       "        [-4.07697563e-02]])"
      ]
     },
     "metadata": {},
     "output_type": "display_data"
    },
    {
     "data": {
      "text/plain": [
       "matrix([[1.  , 0.  , 0.01, 0.  ],\n",
       "        [0.  , 1.  , 0.  , 0.01],\n",
       "        [0.  , 0.  , 1.  , 0.  ],\n",
       "        [0.  , 0.  , 0.  , 1.  ]])"
      ]
     },
     "metadata": {},
     "output_type": "display_data"
    },
    {
     "data": {
      "text/plain": [
       "matrix([[ 7.97365386e+02],\n",
       "        [ 4.93286449e+01],\n",
       "        [-6.59016532e-01],\n",
       "        [-4.07697563e-02]])"
      ]
     },
     "metadata": {},
     "output_type": "display_data"
    },
    {
     "data": {
      "text/plain": [
       "matrix([[1.  , 0.  , 0.01, 0.  ],\n",
       "        [0.  , 1.  , 0.  , 0.01],\n",
       "        [0.  , 0.  , 1.  , 0.  ],\n",
       "        [0.  , 0.  , 0.  , 1.  ]])"
      ]
     },
     "metadata": {},
     "output_type": "display_data"
    },
    {
     "data": {
      "text/plain": [
       "matrix([[ 7.97358796e+02],\n",
       "        [ 4.93282372e+01],\n",
       "        [-6.59016532e-01],\n",
       "        [-4.07697563e-02]])"
      ]
     },
     "metadata": {},
     "output_type": "display_data"
    },
    {
     "data": {
      "text/plain": [
       "matrix([[1.  , 0.  , 0.01, 0.  ],\n",
       "        [0.  , 1.  , 0.  , 0.01],\n",
       "        [0.  , 0.  , 1.  , 0.  ],\n",
       "        [0.  , 0.  , 0.  , 1.  ]])"
      ]
     },
     "metadata": {},
     "output_type": "display_data"
    },
    {
     "data": {
      "text/plain": [
       "matrix([[ 7.97352205e+02],\n",
       "        [ 4.93278295e+01],\n",
       "        [-6.59016532e-01],\n",
       "        [-4.07697563e-02]])"
      ]
     },
     "metadata": {},
     "output_type": "display_data"
    },
    {
     "data": {
      "text/plain": [
       "matrix([[1.  , 0.  , 0.01, 0.  ],\n",
       "        [0.  , 1.  , 0.  , 0.01],\n",
       "        [0.  , 0.  , 1.  , 0.  ],\n",
       "        [0.  , 0.  , 0.  , 1.  ]])"
      ]
     },
     "metadata": {},
     "output_type": "display_data"
    },
    {
     "data": {
      "text/plain": [
       "matrix([[ 7.97345615e+02],\n",
       "        [ 4.93274218e+01],\n",
       "        [-6.59016532e-01],\n",
       "        [-4.07697563e-02]])"
      ]
     },
     "metadata": {},
     "output_type": "display_data"
    },
    {
     "data": {
      "text/plain": [
       "matrix([[1.  , 0.  , 0.01, 0.  ],\n",
       "        [0.  , 1.  , 0.  , 0.01],\n",
       "        [0.  , 0.  , 1.  , 0.  ],\n",
       "        [0.  , 0.  , 0.  , 1.  ]])"
      ]
     },
     "metadata": {},
     "output_type": "display_data"
    },
    {
     "data": {
      "text/plain": [
       "matrix([[ 7.97339025e+02],\n",
       "        [ 4.93270141e+01],\n",
       "        [-6.59016532e-01],\n",
       "        [-4.07697563e-02]])"
      ]
     },
     "metadata": {},
     "output_type": "display_data"
    },
    {
     "data": {
      "text/plain": [
       "matrix([[1.  , 0.  , 0.01, 0.  ],\n",
       "        [0.  , 1.  , 0.  , 0.01],\n",
       "        [0.  , 0.  , 1.  , 0.  ],\n",
       "        [0.  , 0.  , 0.  , 1.  ]])"
      ]
     },
     "metadata": {},
     "output_type": "display_data"
    },
    {
     "data": {
      "text/plain": [
       "matrix([[ 7.97332435e+02],\n",
       "        [ 4.93266064e+01],\n",
       "        [-6.59016532e-01],\n",
       "        [-4.07697563e-02]])"
      ]
     },
     "metadata": {},
     "output_type": "display_data"
    },
    {
     "data": {
      "text/plain": [
       "matrix([[1.  , 0.  , 0.01, 0.  ],\n",
       "        [0.  , 1.  , 0.  , 0.01],\n",
       "        [0.  , 0.  , 1.  , 0.  ],\n",
       "        [0.  , 0.  , 0.  , 1.  ]])"
      ]
     },
     "metadata": {},
     "output_type": "display_data"
    },
    {
     "data": {
      "text/plain": [
       "matrix([[ 7.97325845e+02],\n",
       "        [ 4.93261987e+01],\n",
       "        [-6.59016532e-01],\n",
       "        [-4.07697563e-02]])"
      ]
     },
     "metadata": {},
     "output_type": "display_data"
    },
    {
     "data": {
      "text/plain": [
       "matrix([[1.  , 0.  , 0.01, 0.  ],\n",
       "        [0.  , 1.  , 0.  , 0.01],\n",
       "        [0.  , 0.  , 1.  , 0.  ],\n",
       "        [0.  , 0.  , 0.  , 1.  ]])"
      ]
     },
     "metadata": {},
     "output_type": "display_data"
    },
    {
     "data": {
      "text/plain": [
       "matrix([[ 7.97319255e+02],\n",
       "        [ 4.93257910e+01],\n",
       "        [-6.59016532e-01],\n",
       "        [-4.07697563e-02]])"
      ]
     },
     "metadata": {},
     "output_type": "display_data"
    },
    {
     "data": {
      "text/plain": [
       "matrix([[1.  , 0.  , 0.01, 0.  ],\n",
       "        [0.  , 1.  , 0.  , 0.01],\n",
       "        [0.  , 0.  , 1.  , 0.  ],\n",
       "        [0.  , 0.  , 0.  , 1.  ]])"
      ]
     },
     "metadata": {},
     "output_type": "display_data"
    },
    {
     "data": {
      "text/plain": [
       "matrix([[ 7.97312664e+02],\n",
       "        [ 4.93253833e+01],\n",
       "        [-6.59016532e-01],\n",
       "        [-4.07697563e-02]])"
      ]
     },
     "metadata": {},
     "output_type": "display_data"
    }
   ],
   "source": [
    "# print (\"Input track number: \")\n",
    "objectID = int(input())\n",
    "\n",
    "times = np.linspace (startTime_Sec, endTime_Sec, int ((endTime_Sec/dtObject)))\n",
    "\n",
    "# varPx = np.zeros (len (timesTracking))\n",
    "# varPy = np.zeros (len (timesTracking))\n",
    "# varVx = np.zeros (len (timesTracking))\n",
    "# varVy = np.zeros (len (timesTracking))\n",
    "# varAx = np.zeros (len (timesTracking))\n",
    "# varAy = np.zeros (len (timesTracking))\n",
    "\n",
    "tracks = []\n",
    "\n",
    "RadarIdx = 1\n",
    "trackingIdx = 1\n",
    "\n",
    "for t_Idx, t in enumerate (times):\n",
    "    prevTime = t - dtObject\n",
    "    currTime = t\n",
    "    nextTime = t + dtObject\n",
    "    \n",
    "#    print ('object time:', t)\n",
    "    \n",
    "    if (objects[objectID].startTime > currTime) and (objects[objectID].startTime <= nextTime):\n",
    "#        print ('track initialized time:', objects[objectID].startTime)\n",
    "\n",
    "        # track initialize\n",
    "        track = Tracking(objectID, CV, radars[objectID].measurements[0], RADAR, objects[objectID].startTime)\n",
    "        tracks.append (track)\n",
    "        \n",
    "    if (objects[objectID].endTime > prevTime) and (objects[objectID].endTime < currTime):\n",
    "#        print ('track terminated time:', objects[objectID].endTime)\n",
    "        \n",
    "        # track terminate\n",
    "        trackForPlot = tracks[0]\n",
    "        del tracks[objectID]\n",
    "    \n",
    "    if tracks:\n",
    "        for trackIdx, track in enumerate (tracks):\n",
    "\n",
    "            if track.isFirstTime:\n",
    "#                print (\"track first time:\", t)\n",
    "                track.isFirstTime = False\n",
    "                continue\n",
    "            else:\n",
    "                predictTime = track.prevTime + dtTracking\n",
    "                updateTime = radars[objectID].times[RadarIdx]\n",
    "                \n",
    "#                 if (updateTime > currTime) and (updateTime <= nextTime):\n",
    "#                     dt = updateTime - track.prevTime\n",
    "#                     z = radars[objectID].measurements[RadarIdx]\n",
    "#                     track.filter.predict(dt)\n",
    "#                     track.filter.updateEKF(z)\n",
    "                    \n",
    "#                     track.prevTime = updateTime\n",
    "#                     track.times.append (updateTime)\n",
    "#                     track.states.append (track.filter.x)\n",
    "#                     track.trajectory.x.append (track.filter.x[0, 0])\n",
    "#                     track.trajectory.y.append (track.filter.x[1, 0])\n",
    "                    \n",
    "#                 elif (predictTime > currTime and predictTime <= nextTime):\n",
    "#                     dt = predictTime - track.prevTime\n",
    "#                     track.filter.predict(dt)\n",
    "                    \n",
    "#                     track.prevTime = predictTime\n",
    "#                     track.times.append (predictTime)\n",
    "#                     track.states.append (track.filter.x)\n",
    "#                     track.trajectory.x.append (track.filter.x[0, 0])\n",
    "#                     track.trajectory.y.append (track.filter.x[1, 0])\n",
    "                if (predictTime > currTime and predictTime <= nextTime):\n",
    "#                    print (\"prediction time:\", predictTime)\n",
    "            \n",
    "                    dt = predictTime - track.prevTime\n",
    "                    track.filter.predict(dt)\n",
    "                    \n",
    "                    track.prevTime = predictTime\n",
    "                    track.times.append (predictTime)\n",
    "                    track.states.append (track.filter.x)\n",
    "                    track.trajectory.x.append (track.filter.x[0, 0])\n",
    "                    track.trajectory.y.append (track.filter.x[1, 0])"
   ]
  },
  {
   "cell_type": "code",
   "execution_count": 20,
   "metadata": {},
   "outputs": [],
   "source": [
    "# # Tracking plot\n",
    "# plt.figure(figsize=(10,6), dpi=80)\n",
    "# plt.title(\"Covariance\")\n",
    "# plt.plot (timesTracking, varPx, label='variance Px')\n",
    "# plt.plot (timesTracking, varPy, label='variance Py')\n",
    "# plt.plot (timesTracking, varVx, label='variance Vx')\n",
    "# plt.plot (timesTracking, varVy, label='variance Vy')\n",
    "# # plt.plot (timesTracking, varAx, label='variance Ax')\n",
    "# # plt.plot (timesTracking, varAy, label='variance Ay')\n",
    "\n",
    "# plt.legend(loc='upper right', frameon=False)\n",
    "# plt.xlabel('time (sec)')\n",
    "# plt.ylabel('Variance')\n",
    "\n",
    "# plt.show()"
   ]
  },
  {
   "cell_type": "markdown",
   "metadata": {},
   "source": [
    "## Plot comparing Radar Tracking with Radar measurement and Ground truth"
   ]
  },
  {
   "cell_type": "code",
   "execution_count": 21,
   "metadata": {
    "scrolled": false
   },
   "outputs": [
    {
     "data": {
      "image/png": "[encoded data removed]",
      "text/plain": [
       "<Figure size 800x480 with 1 Axes>"
      ]
     },
     "metadata": {
      "needs_background": "light"
     },
     "output_type": "display_data"
    },
    {
     "data": {
      "image/png": "[encoded data removed]",
      "text/plain": [
       "<Figure size 800x480 with 1 Axes>"
      ]
     },
     "metadata": {
      "needs_background": "light"
     },
     "output_type": "display_data"
    },
    {
     "data": {
      "image/png": "[encoded data removed]",
      "text/plain": [
       "<Figure size 800x480 with 1 Axes>"
      ]
     },
     "metadata": {
      "needs_background": "light"
     },
     "output_type": "display_data"
    }
   ],
   "source": [
    "# Tracking plot\n",
    "plt.figure(figsize=(10,6), dpi=80)\n",
    "plt.title(\"Tracking\")\n",
    "radars[objectID].plot (objectID, TRAJECTORY)\n",
    "trackForPlot.plot (objectID, TRAJECTORY, COLOR['yellow'])\n",
    "objects[objectID].plot (objectID, TRAJECTORY, COLOR['red'])\n",
    "\n",
    "plt.legend(loc='upper right', frameon=False)\n",
    "plt.xlabel('x (m)')\n",
    "plt.ylabel('y (m)')\n",
    "plt.show()\n",
    "\n",
    "# x over time\n",
    "plt.figure(figsize=(10,6), dpi=80)\n",
    "plt.title(\"x over time\")\n",
    "radars[objectID].plot (objectID, X)\n",
    "trackForPlot.plot (objectID, X, COLOR['yellow'])\n",
    "objects[objectID].plot (objectID, X, COLOR['red'])\n",
    "\n",
    "plt.legend(loc='upper right', frameon=False)\n",
    "plt.xlabel('time (sec)')\n",
    "plt.ylabel('x distance (m)')\n",
    "plt.show()\n",
    "\n",
    "# y over time\n",
    "plt.figure(figsize=(10,6), dpi=80)\n",
    "plt.title(\"y over time\")\n",
    "radars[objectID].plot (objectID, Y)\n",
    "trackForPlot.plot (objectID, Y, COLOR['yellow'])\n",
    "objects[objectID].plot (objectID, Y, COLOR['red'])\n",
    "\n",
    "plt.legend(loc='upper right', frameon=False)\n",
    "plt.xlabel('time (sec)')\n",
    "plt.ylabel('y distance (m)')\n",
    "plt.show()"
   ]
  },
  {
   "cell_type": "code",
   "execution_count": 22,
   "metadata": {},
   "outputs": [
    {
     "name": "stdout",
     "output_type": "stream",
     "text": [
      "797.5367300866034 49.339245001924695\n"
     ]
    }
   ],
   "source": [
    "print (radars[0].trajectory.x[0], radars[0].trajectory.y[0])"
   ]
  }
 ],
 "metadata": {
  "kernelspec": {
   "display_name": "Python 3",
   "language": "python",
   "name": "python3"
  },
  "language_info": {
   "codemirror_mode": {
    "name": "ipython",
    "version": 3
   },
   "file_extension": ".py",
   "mimetype": "text/x-python",
   "name": "python",
   "nbconvert_exporter": "python",
   "pygments_lexer": "ipython3",
   "version": "3.7.3"
  }
 },
 "nbformat": 4,
 "nbformat_minor": 2
}
