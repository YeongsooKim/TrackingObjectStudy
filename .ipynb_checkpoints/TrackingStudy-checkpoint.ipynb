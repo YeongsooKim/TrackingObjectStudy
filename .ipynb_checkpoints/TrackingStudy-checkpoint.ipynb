{
 "cells": [
  {
   "cell_type": "markdown",
   "metadata": {},
   "source": [
    "# Test"
   ]
  },
  {
   "cell_type": "code",
   "execution_count": 1,
   "metadata": {},
   "outputs": [],
   "source": [
    "# for i in range(objectNum):\n",
    "#     print (objectsTime[i][0], objectsTime[i][1], objectsTime[i][2])\n",
    "\n",
    "# N = int(objectsTime[0][2]/dtObject)\n",
    "# endTime = objectsTime[0][0] + (N - 1)*dtObject\n",
    "# groundtruth = np.linspace (objectsTime[0][0], endTime, N)\n",
    "# print (\"groundtruth - length:\", len (groundtruth), \", start time:\", groundtruth[0], \", end time:\", groundtruth[-1])\n",
    "\n",
    "# print (objectsTime[0][2])"
   ]
  },
  {
   "cell_type": "code",
   "execution_count": 2,
   "metadata": {},
   "outputs": [],
   "source": [
    "# for i in range (objectNum):\n",
    "#     N = int(objects[i].intervalTime/dtObject)\n",
    "#     endTime = objects[i].startTime + (N - 1)*dtObject\n",
    "#     objectInfo = np.linspace (objects[i].startTime, endTime, N)\n",
    "#     print (\"object - length:\", len (objectInfo), \", start time:\", objectInfo[0], \", end time:\", objectInfo[-1])"
   ]
  },
  {
   "cell_type": "code",
   "execution_count": 3,
   "metadata": {},
   "outputs": [],
   "source": [
    "# for i in range (objectNum):\n",
    "#     measurementNumber = int(objects[i].intervalTime/dtRadar)\n",
    "#     endTime = objects[i].startTime + (measurementNumber - 1)*dtRadar\n",
    "\n",
    "#     timesRadar_test = np.linspace (objects[i].startTime, endTime, measurementNumber)\n",
    "\n",
    "#     print (\"timesRadar_test - length:\", len (timesRadar_test), \", start time:\", timesRadar_test[0], \", end time:\", timesRadar_test[-1])"
   ]
  },
  {
   "cell_type": "markdown",
   "metadata": {},
   "source": [
    "# 1. Ground truth\n",
    "\n",
    "## Import\n",
    "\n",
    "* import numpy for matrix\n",
    "* import matplotlib.pyplot for plotting\n",
    "* import math for math function\n",
    "* import random for random variable. Creating noise or start point etc"
   ]
  },
  {
   "cell_type": "code",
   "execution_count": 4,
   "metadata": {},
   "outputs": [],
   "source": [
    "import numpy as np\n",
    "import matplotlib.pyplot as plt\n",
    "\n",
    "import math\n",
    "import random\n",
    "import copy"
   ]
  },
  {
   "cell_type": "markdown",
   "metadata": {},
   "source": [
    "## Init constant value and other functions\n",
    "\n",
    "* Init object number\n",
    "* Create object which life time is random\n",
    "* object ground truth dt is 5 ms  \n",
    "\n",
    "\n",
    "* Lidar detecting dt is 25 ms\n",
    "* Radar detecting dt is 50 ms"
   ]
  },
  {
   "cell_type": "code",
   "execution_count": 5,
   "metadata": {},
   "outputs": [],
   "source": [
    "objectNum = 5\n",
    "\n",
    "# time const\n",
    "startTime_Sec = 0.0\n",
    "endTime_Sec = 20.0\n",
    "\n",
    "objectsTime = []\n",
    "\n",
    "dtObject = 0.005 # 5ms\n",
    "dtLidar = 0.025 # 25ms\n",
    "dtRadar = 0.050 # 50ms\n",
    "dtTracking = 0.01 # 10ms\n",
    "\n",
    "# create objects time\n",
    "for _ in range(objectNum):\n",
    "    startTime = random.uniform(startTime_Sec, endTime_Sec)\n",
    "    \n",
    "    endTime = 0.0\n",
    "    while (endTime < (startTime)):\n",
    "        endTime = random.uniform(startTime_Sec, endTime_Sec)\n",
    "        \n",
    "    intervalTime = endTime - startTime\n",
    "    \n",
    "    objectsTime.append([startTime, endTime, intervalTime])\n",
    "\n",
    "\n",
    "# plot type\n",
    "TRAJECTORY = 1\n",
    "X = 2\n",
    "Y = 3\n",
    "\n",
    "\n",
    "# noise size\n",
    "LidarNoiseSize = 2\n",
    "RadarNoiseSize = 2 # 0 < RadarNoiseSize < 1000\n",
    "\n",
    "\n",
    "# convenient function and class\n",
    "def cart2pol(x, y):\n",
    "    rho = np.sqrt(x**2 + y**2)\n",
    "    phi = np.arctan2(y, x)\n",
    "    return(rho, phi)\n",
    "\n",
    "def pol2cart(rho, phi):\n",
    "    x = rho * np.cos(phi)\n",
    "    y = rho * np.sin(phi)\n",
    "    return (x, y)\n",
    "\n",
    "class Trajectory():\n",
    "    def __init__ (self):\n",
    "        self.x = []\n",
    "        self.y = []\n",
    "        self.rho = []\n",
    "        self.phi = []\n",
    "        \n",
    "# model\n",
    "CV = 0\n",
    "CA = 1\n",
    "\n",
    "# measurement type\n",
    "LIDAR = 0\n",
    "RADAR = 1"
   ]
  },
  {
   "cell_type": "markdown",
   "metadata": {},
   "source": [
    "### [matplotlib color](https://matplotlib.org/3.1.0/api/_as_gen/matplotlib.pyplot.plot.html)\n",
    "\n",
    "The supported color abbreviations are the single letter codes\n",
    "\n",
    "|character|color\n",
    "|:-------:|:-------:\n",
    "|'b'      |blue\n",
    "|'g'      |green\n",
    "|'r'      |red\n",
    "|'c'      |cyan\n",
    "|'m'      |magenta\n",
    "|'y'      |yellow\n",
    "|'k'      |black\n",
    "|'w'      |white\n",
    "\n",
    "### [python dictionary](https://wikidocs.net/16043)\n",
    "\n",
    "* 딕셔너리 타입은 immutable한 키(key)와 mutable한 값(value)으로 맵핑되어 있는 순서가 없는 집합\n",
    "* 일반적인 딕셔너리 타입의 모습, 중괄호로 되어 있고 키와 값\n",
    "\n",
    "```python\n",
    ">>> {\"a\" : 1, \"b\":2}\n",
    "{'a': 1, 'b': 2}\n",
    "```\n",
    "\n",
    "* 순서가 없기 때문에 인덱스로는 접근할수 없고, 키로 접근 할 수 있음\n",
    "\n",
    "```python\n",
    ">>> d = {'abc' : 1, 'def' : 2}\n",
    ">>> d[0]\n",
    "Traceback (most recent call last):\n",
    "  File \"<stdin>\", line 1, in <module>\n",
    "KeyError: 0\n",
    ">>> d['abc']\n",
    "1\n",
    "```"
   ]
  },
  {
   "cell_type": "code",
   "execution_count": 6,
   "metadata": {},
   "outputs": [],
   "source": [
    "# color define\n",
    "COLOR = {'blue' : 'b',\n",
    "         'green' : 'g',\n",
    "         'red' : 'r',\n",
    "         'cyan' : 'c',\n",
    "         'magenta' : 'm',\n",
    "         'yellow' : 'y',\n",
    "         'black' : 'k',\n",
    "         'white' : 'w'}"
   ]
  },
  {
   "cell_type": "markdown",
   "metadata": {},
   "source": [
    "## Object model\n",
    "\n",
    "* Const accelerate model\n",
    "\n",
    "$x' = Ax + Bu$\n",
    "\n",
    "<img src=\"./img/ConstantVelocitySystemModel.png\" width=\"50%\" height=\"50%\">\n",
    "\n",
    "* Const velocity model"
   ]
  },
  {
   "cell_type": "code",
   "execution_count": 7,
   "metadata": {},
   "outputs": [],
   "source": [
    "class Object():\n",
    "    def __init__ (self, times, x, y, ID, model):\n",
    "        self.ID = ID\n",
    "        self.states = []\n",
    "        self.trajectory = Trajectory()\n",
    "        self.model = model\n",
    "        \n",
    "        self.times = times\n",
    "        self.startTime = times[0]\n",
    "        self.endTime = times[-1]\n",
    "        self.intervalTime = self.endTime - self.startTime\n",
    "        \n",
    "        self.isDetected = False\n",
    "        \n",
    "        # state: x, y, x`, y`, x``, y``\n",
    "        self.state_ca = np.matrix([0.0, 0.0, 0.0, 0.0, 0.0, 0.0]).T\n",
    "        \n",
    "        # state: x, y, x`, y`\n",
    "        self.state_cv = np.matrix([0.0, 0.0, 0.0, 0.0]).T\n",
    "        \n",
    "        # state: x, y, x`, y`, x``, y``\n",
    "        self.state_ca[0] = x\n",
    "        self.state_ca[1] = y\n",
    "        \n",
    "        # state: x, y, x`, y`\n",
    "        self.state_cv[0] = x\n",
    "        self.state_cv[1] = y\n",
    "        \n",
    "        # select model\n",
    "        if self.model == CV:\n",
    "            self.F = np.matrix([[1.0, 0.0, dtObject, 0.0],\n",
    "                             [0.0, 1.0, 0.0, dtObject],\n",
    "                             [0.0, 0.0, 1.0, 0.0],\n",
    "                             [0.0, 0.0, 0.0, 1.0]])\n",
    "\n",
    "            self.B = np.matrix([[0.0, 0.0],\n",
    "                               [0.0, 0.0],\n",
    "                               [1.0, 0.0],\n",
    "                               [0.0, 1.0]])\n",
    "            \n",
    "        elif self.model == CA:\n",
    "            self.F = np.matrix([[1.0, 0.0, dtObject, 0.0, 1/2.0*dtObject**2, 0.0],\n",
    "                             [0.0, 1.0, 0.0, dtObject, 0.0, 1/2.0*dtObject**2],\n",
    "                             [0.0, 0.0, 1.0, 0.0, dtObject, 0.0],\n",
    "                             [0.0, 0.0, 0.0, 1.0, 0.0, dtObject],\n",
    "                             [0.0, 0.0, 0.0, 0.0, 1.0, 0.0],\n",
    "                             [0.0, 0.0, 0.0, 0.0, 0.0, 1.0]])\n",
    "\n",
    "            self.B = np.matrix([[0.0, 0.0],\n",
    "                               [0.0, 0.0],\n",
    "                               [0.0, 0.0],\n",
    "                               [0.0, 0.0],\n",
    "                               [1.0, 0.0],\n",
    "                               [0.0, 1.0]])\n",
    "    \n",
    "    def getState(self, u):\n",
    "        if self.model == CV:\n",
    "            self.state_cv = self.F*self.state_cv + self.B*u\n",
    "            return self.state_cv\n",
    "        \n",
    "        elif self.model == CA:\n",
    "            self.state_ca = self.F*self.state_ca + self.B*u\n",
    "            return self.state_ca\n",
    "        \n",
    "    def getStatus(self, time, dt):\n",
    "        prevTime = time - dt\n",
    "        nextTime = time + dt\n",
    "        \n",
    "        if (self.startTime > prevTime) and (self.startTime < nextTime):\n",
    "            self.isDetected = True\n",
    "        \n",
    "        \n",
    "    def subplots(self, axes, ID, color):\n",
    "        \n",
    "        axes[0].plot (self.trajectory.x, self.trajectory.y, color=color, label='Ground truth{0}'.format(ID))\n",
    "        axes[1].plot (self.times, self.trajectory.x, color=color, label='Ground truth{0}'.format(ID))\n",
    "        axes[1].set_xlim ([0.0, 10.0])\n",
    "\n",
    "        axes[2].plot (self.times, self.trajectory.y, color=color, label='Ground truth{0}'.format(ID))\n",
    "        axes[2].set_xlim ([0.0, 10.0])\n",
    "        \n",
    "        \n",
    "    def plot (self, ID, pltType, color):\n",
    "        if pltType == TRAJECTORY:\n",
    "            plt.plot(self.trajectory.x, self.trajectory.y, color=color, linewidth=1.5, linestyle=\"-\",label=\"Ground truth {0}\".format(ID))\n",
    "                \n",
    "        elif pltType == X:\n",
    "            plt.plot(self.times, self.trajectory.x, color=color, linewidth=1.5, linestyle=\"-\",label=\"Ground truth {0}\".format(ID))\n",
    "                \n",
    "        elif pltType == Y:\n",
    "            plt.plot(self.times, self.trajectory.y, color=color, linewidth=1.5, linestyle=\"-\",label=\"Ground truth {0}\".format(ID))"
   ]
  },
  {
   "cell_type": "markdown",
   "metadata": {},
   "source": [
    "## Object simulation\n",
    "\n",
    "whole system's start time = 0\n",
    "whole system's end time = 10"
   ]
  },
  {
   "cell_type": "code",
   "execution_count": 8,
   "metadata": {},
   "outputs": [],
   "source": [
    "objects = []\n",
    "\n",
    "# create object with random position\n",
    "for objectIdx in range(objectNum):\n",
    "    measurementNumber = int(objectsTime[objectIdx][2]/dtObject)\n",
    "    endTime = objectsTime[objectIdx][0] + (measurementNumber - 1)*dtObject\n",
    "    objectsTimes = np.linspace (objectsTime[objectIdx][0], endTime, measurementNumber)\n",
    "    \n",
    "    x = random.uniform(0.0, 1000.0)\n",
    "    y = random.uniform(0.0, 1000.0)\n",
    "    \n",
    "    object = Object(objectsTimes, x, y, objectIdx, CV)\n",
    "    objects.append(object)\n",
    "\n",
    "\n",
    "# get object state\n",
    "for objectIdx, object in enumerate(objects):\n",
    "    for t in range(len(object.times)):\n",
    "    \n",
    "        if (t % 5) == 0:\n",
    "            if object.model == CV:\n",
    "                vel = random.uniform(-10.0, 10.0)\n",
    "                radian = random.uniform(-math.pi, math.pi)\n",
    "\n",
    "                u = np.matrix([vel*math.cos(radian), vel*math.sin(radian)]).T\n",
    "                \n",
    "            if object.model == CA:\n",
    "                accel = random.uniform(-10.0, 10.0)\n",
    "                radian = random.uniform(-math.pi, math.pi)\n",
    "\n",
    "                u = np.matrix([accel*math.cos(radian), accel*math.sin(radian)]).T\n",
    "        \n",
    "        state = object.getState(u)\n",
    "\n",
    "        object.states.append(state)\n",
    "        object.trajectory.x.append (state[0, 0])\n",
    "        object.trajectory.y.append (state[1, 0])"
   ]
  },
  {
   "cell_type": "markdown",
   "metadata": {},
   "source": [
    "## Plotting object trajectory and x, y"
   ]
  },
  {
   "cell_type": "code",
   "execution_count": 9,
   "metadata": {},
   "outputs": [
    {
     "data": {
      "image/png": "[encoded data removed]",
      "text/plain": [
       "<Figure size 1152x360 with 3 Axes>"
      ]
     },
     "metadata": {
      "needs_background": "light"
     },
     "output_type": "display_data"
    }
   ],
   "source": [
    "fig, axes = plt.subplots(1, 3, figsize = (16, 5))\n",
    "colors = list(COLOR.values())\n",
    "\n",
    "for objectIdx, object in enumerate (objects):\n",
    "    object.subplots (axes, objectIdx, colors[objectIdx])\n",
    "    \n",
    "    axes[0].legend(loc=\"upper right\")\n",
    "    axes[0].set(xlabel = 'x (m)', ylabel = 'y (m)')\n",
    "    axes[0].set_title('Trajectory')\n",
    "    \n",
    "    axes[1].legend(loc=\"upper right\")\n",
    "    axes[1].set(xlabel = 'times (s)', ylabel = 'x (m)')\n",
    "    axes[1].set_title('x over time')\n",
    "    \n",
    "    axes[2].legend(loc=\"upper right\")\n",
    "    axes[2].set(xlabel = 'times (s)', ylabel = 'y (m)')\n",
    "    axes[2].set_title('y over time')\n",
    "\n",
    "    plt.tight_layout()"
   ]
  },
  {
   "cell_type": "markdown",
   "metadata": {},
   "source": [
    "# 2. Sensor model\n",
    "\n",
    "Lidar dt: 25 ms  \n",
    "Radar dt: 50 ms"
   ]
  },
  {
   "cell_type": "markdown",
   "metadata": {},
   "source": [
    "### 2.1 Lidar model"
   ]
  },
  {
   "cell_type": "code",
   "execution_count": 10,
   "metadata": {},
   "outputs": [],
   "source": [
    "class LiDAR():\n",
    "    def __init__(self, times):\n",
    "        self.times = times\n",
    "        self.measurements = []\n",
    "        self.trajectory = Trajectory()\n",
    "        self.H = np.matrix([[1.0, 0.0, 0.0, 0.0, 0.0, 0.0],\n",
    "                           [0.0, 1.0, 0.0, 0.0, 0.0, 0.0]])\n",
    "            \n",
    "            \n",
    "    def measure(self, states):\n",
    "        measurementIdx = 0\n",
    "        \n",
    "        for stateIdx, state in enumerate(states):\n",
    "            \n",
    "            # 25ms \n",
    "            if (stateIdx % (dtLidar/dtObject)) == 0:\n",
    "                measurement = self.H*state\n",
    "\n",
    "                # Noise\n",
    "                sensor_noise = np.random.randn()*LidarNoiseSize\n",
    "                measurement[0, 0] = measurement[0, 0] + sensor_noise\n",
    "                \n",
    "                sensor_noise = np.random.randn()*LidarNoiseSize\n",
    "                measurement[1, 0] = measurement[1, 0] + sensor_noise\n",
    "                \n",
    "                self.measurements.append(measurement)\n",
    "                self.trajectory.x[measurementIdx] = measurement[0, 0]\n",
    "                self.trajectory.y[measurementIdx] = measurement[1, 0]\n",
    "                \n",
    "                measurementIdx = measurementIdx + 1\n",
    "                \n",
    "            else:\n",
    "                continue\n",
    "                \n",
    "    def subplots(self, times, axes, ID):\n",
    "        axes[0].plot (self.trajectory.x, self.trajectory.y, 'b.', markersize=4, label='Lidar{0}'.format(ID))\n",
    "        axes[1].plot (times, self.trajectory.x, 'b.', markersize=4, label='Lidar{0}'.format(ID))\n",
    "        axes[2].plot (times, self.trajectory.y, 'b.', markersize=4, label='Lidar{0}'.format(ID))\n",
    "    \n",
    "    \n",
    "    def plot (self, ID, pltType):\n",
    "        if pltType == TRAJECTORY:\n",
    "            plt.plot(self.trajectory.x, self.trajectory.y, 'bo', markersize=4, label=\"Lidar {0}\".format(ID))\n",
    "                \n",
    "        elif pltType == X:\n",
    "            plt.plot(self.times, self.trajectory.x, 'bo', markersize=4, label=\"Lidar {0}\".format(ID))\n",
    "                \n",
    "        elif pltType == Y:\n",
    "            plt.plot(self.times, self.trajectory.y, 'bo', markersize=4, label=\"Lidar {0}\".format(ID))"
   ]
  },
  {
   "cell_type": "markdown",
   "metadata": {},
   "source": [
    "### 2.2 Radar model\n",
    "\n",
    "Radar is no __H__ matrix that will map the state vector __x__ into polar coordinates. Instead, you need to calculate the mapping manually to convert from cartesian coordinates to polar coordinates.\n",
    "\n",
    "Here is the __h__ function that specifies how the predicted position and speed get mapped to the polar coordinates of range, bearing and range rate.\n",
    "\n",
    "![Img](./img/RadarSystemModeling.PNG)"
   ]
  },
  {
   "cell_type": "code",
   "execution_count": 11,
   "metadata": {},
   "outputs": [],
   "source": [
    "class Radar():\n",
    "    def __init__ (self, times):\n",
    "        self.times = times\n",
    "        self.measurements = []\n",
    "        self.trajectory = Trajectory()\n",
    "\n",
    "    def measure(self, state):\n",
    "        measurement = np.matrix([0.0, 0.0, 0.0]).T  \n",
    "\n",
    "        px = state[0, 0]\n",
    "        py = state[1, 0]\n",
    "        vx = state[2, 0]\n",
    "        vy = state[3, 0]\n",
    "\n",
    "        rho = math.sqrt(px**2 + py**2)\n",
    "        phi = math.atan2(py, px)\n",
    "\n",
    "        if rho < 0.0001:\n",
    "            rho = 0.0001\n",
    "        rhoDot = (px*vx + py*vy)/rho\n",
    "\n",
    "        # noise\n",
    "        sensorNoise = np.random.randn() * math.pi * (RadarNoiseSize/1000)\n",
    "        phi = phi + sensorNoise\n",
    "\n",
    "        measurement[0, 0] = rho\n",
    "        measurement[1, 0] = phi\n",
    "        measurement[2, 0] = rhoDot\n",
    "\n",
    "        self.measurements.append(measurement)\n",
    "        self.trajectory.rho.append (rho)\n",
    "        self.trajectory.phi.append (phi)\n",
    "        x, y = pol2cart(rho, phi)\n",
    "        self.trajectory.x.append (x)\n",
    "        self.trajectory.y.append (y)\n",
    "\n",
    "                \n",
    "    def subplots(self, axes, ID):\n",
    "        axes[0].plot (self.trajectory.x, self.trajectory.y, 'g.', markersize=4, label='Radar{0}'.format(ID))\n",
    "        axes[1].plot (self.times, self.trajectory.x, 'g.', markersize=4, label='Radar{0}'.format(ID))\n",
    "        axes[2].plot (self.times, self.trajectory.y, 'g.', markersize=4, label='Radar{0}'.format(ID))\n",
    "    \n",
    "    \n",
    "    def plot (self, ID, pltType):\n",
    "        if pltType == TRAJECTORY:\n",
    "            plt.plot(self.trajectory.x, self.trajectory.y, 'go', markersize=4, label=\"Radar {0}\".format(ID))\n",
    "            \n",
    "        elif pltType == X:\n",
    "            plt.plot(self.times, self.trajectory.x, 'go', markersize=4, label=\"Radar {0}\".format(ID))   \n",
    "        elif pltType == Y:\n",
    "            plt.plot(self.times, self.trajectory.y, 'go', markersize=4, label=\"Radar {0}\".format(ID))"
   ]
  },
  {
   "cell_type": "markdown",
   "metadata": {},
   "source": [
    "## Generate LiDAR measurement and Radar measurement"
   ]
  },
  {
   "cell_type": "code",
   "execution_count": 12,
   "metadata": {
    "scrolled": false
   },
   "outputs": [],
   "source": [
    "# lidars = []\n",
    "# timesLidar = np.linspace (startTime_Sec, endTime_Sec, int (endTime_Sec/dtLidar))\n",
    "\n",
    "radars = []\n",
    "\n",
    "for object in objects:\n",
    "#     lidar = LiDAR(timesLidar)\n",
    "#     lidar.measure(object.states)\n",
    "#     lidars.append(lidar)\n",
    "\n",
    "    measurementNumber = int (object.intervalTime/dtRadar)\n",
    "    endTime = object.startTime + (measurementNumber - 1)*dtRadar\n",
    "    timesRadar = np.linspace (object.startTime, endTime, measurementNumber)\n",
    "    \n",
    "    radar = Radar(timesRadar)\n",
    "\n",
    "    RadarMeasIdx = 0\n",
    "    for t_Idx, t in enumerate (object.times):\n",
    "        minTime = t - 0.000001\n",
    "        maxTime = t + 0.000001\n",
    "        \n",
    "        if ((radar.times[RadarMeasIdx] > minTime) and (radar.times[RadarMeasIdx] < maxTime)):\n",
    "            radar.measure(object.states[t_Idx])\n",
    "            RadarMeasIdx = RadarMeasIdx + 1\n",
    "            \n",
    "            if (RadarMeasIdx == len (radar.times)):\n",
    "                break\n",
    "    radars.append(radar)"
   ]
  },
  {
   "cell_type": "markdown",
   "metadata": {},
   "source": [
    "## Comparison ground truth with Radar"
   ]
  },
  {
   "cell_type": "code",
   "execution_count": 13,
   "metadata": {
    "scrolled": false
   },
   "outputs": [
    {
     "data": {
      "image/png": "[encoded data removed]",
      "text/plain": [
       "<Figure size 1080x216 with 3 Axes>"
      ]
     },
     "metadata": {
      "needs_background": "light"
     },
     "output_type": "display_data"
    },
    {
     "data": {
      "image/png": "[encoded data removed]",
      "text/plain": [
       "<Figure size 1080x216 with 3 Axes>"
      ]
     },
     "metadata": {
      "needs_background": "light"
     },
     "output_type": "display_data"
    },
    {
     "data": {
      "image/png": "[encoded data removed]",
      "text/plain": [
       "<Figure size 1080x216 with 3 Axes>"
      ]
     },
     "metadata": {
      "needs_background": "light"
     },
     "output_type": "display_data"
    },
    {
     "data": {
      "image/png": "[encoded data removed]",
      "text/plain": [
       "<Figure size 1080x216 with 3 Axes>"
      ]
     },
     "metadata": {
      "needs_background": "light"
     },
     "output_type": "display_data"
    },
    {
     "data": {
      "image/png": "[encoded data removed]",
      "text/plain": [
       "<Figure size 1080x216 with 3 Axes>"
      ]
     },
     "metadata": {
      "needs_background": "light"
     },
     "output_type": "display_data"
    }
   ],
   "source": [
    "for Idx, radar in enumerate(radars):\n",
    "    fig, axes = plt.subplots(1, 3, figsize = (15,3))\n",
    "    radar.subplots(axes, Idx)\n",
    "    objects[Idx].subplots (axes, objectIdx, COLOR['red'])\n",
    "    \n",
    "    axes[0].legend(loc=\"upper right\")\n",
    "    axes[0].set(xlabel = 'x', ylabel = 'y')\n",
    "    axes[0].set_title('Trajectory')\n",
    "\n",
    "    axes[1].legend(loc=\"upper right\")\n",
    "    axes[1].set(xlabel = 'times', ylabel = 'x')\n",
    "    axes[1].set_title('x over time')\n",
    "\n",
    "    axes[2].legend(loc=\"upper right\")\n",
    "    axes[2].set(xlabel = 'times', ylabel = 'y')\n",
    "    axes[2].set_title('y over time')\n",
    "    \n",
    "    plt.tight_layout()\n",
    "    plt.show()"
   ]
  },
  {
   "cell_type": "code",
   "execution_count": 14,
   "metadata": {},
   "outputs": [
    {
     "name": "stdout",
     "output_type": "stream",
     "text": [
      "Input radar number: \n",
      "0\n"
     ]
    },
    {
     "data": {
      "image/png": "[encoded data removed]",
      "text/plain": [
       "<Figure size 800x480 with 1 Axes>"
      ]
     },
     "metadata": {
      "needs_background": "light"
     },
     "output_type": "display_data"
    },
    {
     "data": {
      "image/png": "[encoded data removed]",
      "text/plain": [
       "<Figure size 800x480 with 1 Axes>"
      ]
     },
     "metadata": {
      "needs_background": "light"
     },
     "output_type": "display_data"
    },
    {
     "data": {
      "image/png": "[encoded data removed]",
      "text/plain": [
       "<Figure size 800x480 with 1 Axes>"
      ]
     },
     "metadata": {
      "needs_background": "light"
     },
     "output_type": "display_data"
    }
   ],
   "source": [
    "print (\"Input radar number: \")\n",
    "obj = int(input())\n",
    "\n",
    "# Trajectory\n",
    "plt.figure(figsize=(10,6), dpi=80)\n",
    "plt.title(\"Trajectory\")\n",
    "radars[obj].plot (obj, TRAJECTORY)\n",
    "objects[obj].plot (obj, TRAJECTORY, COLOR['red'])\n",
    "\n",
    "plt.legend(loc='upper right', frameon=False)\n",
    "plt.xlabel('x (m)')\n",
    "plt.ylabel('y (m)')\n",
    "plt.show()\n",
    "\n",
    "# x over time\n",
    "plt.figure(figsize=(10,6), dpi=80)\n",
    "plt.title(\"x over time\")\n",
    "radars[obj].plot (obj, X)\n",
    "objects[obj].plot (obj, X, COLOR['red'])\n",
    "\n",
    "plt.legend(loc='upper right', frameon=False)\n",
    "plt.xlabel('time (sec)')\n",
    "plt.ylabel('x distance (m)')\n",
    "plt.show()\n",
    "\n",
    "# y over time\n",
    "plt.figure(figsize=(10,6), dpi=80)\n",
    "plt.title(\"y over time\")\n",
    "radars[obj].plot (obj, Y)\n",
    "objects[obj].plot (obj, Y, COLOR['red'])\n",
    "\n",
    "plt.legend(loc='upper right', frameon=False)\n",
    "plt.xlabel('time (sec)')\n",
    "plt.ylabel('y distance (m)')\n",
    "plt.show()"
   ]
  },
  {
   "cell_type": "markdown",
   "metadata": {},
   "source": [
    "# 3. Tracking \n",
    "\n",
    "dt = 10 ms"
   ]
  },
  {
   "cell_type": "markdown",
   "metadata": {},
   "source": [
    "### Mapping predicted state into Radar measurement\n",
    "\n",
    "Radar Measurements lecture that the __h__ function is composed of three equations that show how the predcited state, $x' = (p'_x, p'_y, v'_x, v'_y)^T$, is mapped into the measurement space, $z = (\\rho, \\phi, \\dot{\\rho})^T$\n",
    "\n",
    "![Img](./img/RadarSystemModeling.PNG)"
   ]
  },
  {
   "cell_type": "code",
   "execution_count": 15,
   "metadata": {},
   "outputs": [],
   "source": [
    "def h (state):\n",
    "    px = state[0, 0]\n",
    "    py = state[1, 0]\n",
    "    vx = state[2, 0]\n",
    "    vy = state[3, 0]\n",
    "\n",
    "    rho = math.sqrt(px**2 + py**2)\n",
    "    phi = math.atan2(py, px)\n",
    "    rhoRate = (px*vx + py*vy)/rho\n",
    "    \n",
    "    x = np.matrix([rho, phi, rhoRate]).T\n",
    "    \n",
    "    return x"
   ]
  },
  {
   "cell_type": "markdown",
   "metadata": {},
   "source": [
    "### [Jacobian matrix](https://en.wikipedia.org/wiki/Jacobian_matrix_and_determinant#Jacobian_matrix)\n",
    "\n",
    "* Jacobian matrix \n",
    "\n",
    "The Jacobian of a [vector-valued function](https://math.boisestate.edu/~jaimos/classes/m275-fall2017/notes/vector-fcn1.html) in several variables generalizes the gradient of a [scalar-valued function](http://web.mit.edu/wwmath/vectorc/scalar/intro.html) in several variables, which in turn generalizes the derivative of a scalar-valued function of a single variable. In other words, the Jacobian matrix of a scalar-valued function in several variables is (the transpose of) its gradient and the gradient of a scalar-valued function of a single variable is its derivative.\n",
    "\n",
    "* Critical points\n",
    "\n",
    "If $f : ℝ^n → ℝ^m$ is a differentiable function, a critical point of __f__ is a point where the rank of the Jacobian matrix is not maximal. This means that the rank at the critical point is lower than the rank at some neighbour point. In other words, let _k_ be the maximal dimension of the open balls contained in the image of __f__; then a point is critical if all minors of rank _k_ of __f__ are zero.\n",
    "\n",
    "* __Examples1__\n",
    "\n",
    "Consider the function $f : ℝ^2 → ℝ^2$, with $(x, y) ↦ (f1(x, y), f2(x, y))$, given by\n",
    "\n",
    "![Img](./img/JacobianExample1-1.PNG)\n",
    "\n",
    "Then we have $f_1(x, y) = x^2y$ and $f_2(x, y) = 5x + siny$ and the Jacobian matrix of __f__ is\n",
    "\n",
    "![Img](./img/JacobianExample1-2.PNG)\n",
    "\n",
    "and the Jacobian determinant is $det(J_f(x, y)) = 2xycosy - 5x^2$\n",
    "\n",
    "* __Examples2:__ spherical-Cartesian trasnformation\n",
    "\n",
    "The transformation form spherical coordinates $(r, \\theta, \\phi)$ to Cartesian coordinates $(x, y, z)$, is given by the function $F: ℝ^+× [0, π] × [0, 2 π) → ℝ^3$ with components:\n",
    "\n",
    "$x = rsin(\\theta)cos(\\phi);$  \n",
    "$y = rsin(\\theta)sin(\\phi);$  \n",
    "$z = rcos(\\theta)$\n",
    "\n",
    "The jacobian matrix for this coordinate change is\n",
    "\n",
    "![Img](./img/JacobianExample2-1.PNG)\n",
    "\n",
    "The determinant is $r^2 sin\\theta$. As an example, since $dV = dx dy dz$ this determinant implies that the differential volume elemnet $dV = r^2 sin\\theta drd\\theta d\\phi $. Unlike for a change of Cartesian coordinates, this determinant is not a constant, and varies with coordinates $(r and \\theta)$\n",
    "\n",
    "* __Examples3:__ Multivariate Taylor Series with a one-dimensional equation\n",
    "\n",
    "__h__ function is composed by multi-dimensional equations, so we will need to use a multi-dimensional Taylor series expansion to make a linear approximation of the __h__ function. Here is a general formula for the multi-dimensional Taylor series expansion\n",
    "\n",
    "![Img](./img/multi-dimensional_Taylor_series_expansion.PNG)\n",
    "\n",
    "$Df(a)$ is called the __Jacobian matrix__ and $D^2f(a)$ is called the [__Hessian matrix__](https://www.khanacademy.org/math/multivariable-calculus/applications-of-multivariable-derivatives/quadratic-approximations/a/the-hessian). To derive a linear approximation for the h function, we will only keep the expansion up to the Jacobian matrix $Df(a)$.\n",
    "\n",
    "![Img](./img/Jacobian_H_j_matrix.PNG)\n",
    "\n",
    "![Img](./img/Jacobian_H_j_matrix_result.PNG)\n",
    "\n",
    "you have to check that neither x nor y is zero.\" What is meant is: \"you have to check that x and y are not both zero"
   ]
  },
  {
   "cell_type": "code",
   "execution_count": 16,
   "metadata": {},
   "outputs": [],
   "source": [
    "def calculateJacobian (state, Hj):\n",
    "    \n",
    "    px = state[0, 0]; py = state[1, 0]\n",
    "    vx = state[2, 0]; vy = state[3, 0]\n",
    "    \n",
    "    if len(state) == 6:\n",
    "        ax = state[4, 0]; ay = state[5, 0]\n",
    "    \n",
    "    c1 = px**2 + py**2\n",
    "    c2 = math.sqrt(c1)\n",
    "    c3 = c1*c2\n",
    "    \n",
    "    \n",
    "    if math.fabs(c1) < 0.0001:\n",
    "        return Hj\n",
    "    \n",
    "    rhoDpx = px/c2\n",
    "    rhoDpy = py/c2\n",
    "    rhoDvx = 0; rhoDvy = 0\n",
    "    if len(state) == 6:\n",
    "        rhoDax = 0; rhoDay = 0\n",
    "    \n",
    "    phiDpx = -py/c1\n",
    "    phiDpy = px/c1\n",
    "    phiDvx = 0; phiDvy = 0\n",
    "    if len(state) == 6:\n",
    "        phiDax = 0; phiDay = 0\n",
    "    \n",
    "    rhoDotDpx = py*(vx*py - vy*px)/c3\n",
    "    rhoDotDpy = px*(vy*px - vx*py)/c3\n",
    "    rhoDotDvx = px/c2\n",
    "    rhoDotDvy = py/c2\n",
    "    if len(state) == 6:\n",
    "        rhoDotDax = 0; rhoDotDay = 0\n",
    "    \n",
    "    if len(state) == 6:\n",
    "        Hj = np.matrix([[rhoDpx, rhoDpy, rhoDvx, rhoDvy, rhoDax, rhoDay],\n",
    "                      [phiDpx, phiDpy, phiDvx, phiDvy, phiDax, phiDay],\n",
    "                      [rhoDotDpx, rhoDotDpy, rhoDotDvx, rhoDotDvy, rhoDotDax, rhoDotDay]])\n",
    "    \n",
    "    else:\n",
    "        Hj = np.matrix([[rhoDpx, rhoDpy, rhoDvx, rhoDvy],\n",
    "                      [phiDpx, phiDpy, phiDvx, phiDvy],\n",
    "                      [rhoDotDpx, rhoDotDpy, rhoDotDvx, rhoDotDvy]])\n",
    "    return Hj"
   ]
  },
  {
   "cell_type": "markdown",
   "metadata": {},
   "source": [
    "## Kalman Filter"
   ]
  },
  {
   "cell_type": "code",
   "execution_count": 17,
   "metadata": {},
   "outputs": [],
   "source": [
    "class KalmanFilter():\n",
    "    def __init__(self, model):\n",
    "        \n",
    "        self.model = model\n",
    "        self.varState = 1000.0\n",
    "        self.varMeas = 1000.0\n",
    "        \n",
    "        if self.model == CV:\n",
    "            self.x = np.matrix([0.0, 0.0, 0.0, 0.0]).T\n",
    "\n",
    "            self.initCovar = 10*np.eye(4)\n",
    "            self.P = np.matrix([[1.0, 0.0, 0.0, 0.0],\n",
    "                             [0.0, 1.0, 0.0, 0.0],\n",
    "                             [0.0, 0.0, 1.0, 0.0],\n",
    "                             [0.0, 0.0, 0.0, 1.0]])\n",
    "\n",
    "            self.F = np.matrix([[1.0, 0.0, 0.0, 0.0],\n",
    "                             [0.0, 1.0, 0.0, 0.0],\n",
    "                             [0.0, 0.0, 1.0, 0.0],\n",
    "                             [0.0, 0.0, 0.0, 1.0]])\n",
    "            \n",
    "            # Process model                     \n",
    "            a = 0.5 * dtTracking**2\n",
    "            b = dtTracking\n",
    "            c = 1.0\n",
    "            # varState = 1000.0 # sigma x = sigma y\n",
    "            self.Q = np.matrix([[a*a*self.varState, 0.0, a*b*self.varState, 0.0],\n",
    "                             [0.0, a*a*self.varState, 0.0, a*b*self.varState],\n",
    "                             [a*b*self.varState, 0.0, b*b*self.varState, 0.0],\n",
    "                             [0.0, a*b*self.varState, 0.0, b*b*self.varState]])\n",
    "\n",
    "            self.H = np.matrix([[1.0, 0.0, 0.0, 0.0], \n",
    "                             [0.0, 1.0, 0.0, 0.0]])\n",
    "\n",
    "            self.Hj = np.matrix ([[1.0, 1.0, 0.0, 0.0],\n",
    "                                 [1.0, 1.0, 0.0, 0.0],\n",
    "                                 [1.0, 1.0, 1.0, 1.0]])\n",
    "\n",
    "\n",
    "        if self.model == CA:\n",
    "            self.x = np.matrix([0.0, 0.0, 0.0, 0.0, 0.0, 0.0]).T\n",
    "\n",
    "            self.initCovar = 10*np.eye(6)\n",
    "            self.P = self.initCovar\n",
    "\n",
    "\n",
    "            self.F = np.matrix([[1.0, 0.0, dtTracking, 0.0, 1/2.0*dtTracking**2, 0.0],\n",
    "                             [0.0, 1.0, 0.0, dtTracking, 0.0, 1/2.0*dtTracking**2],\n",
    "                             [0.0, 0.0, 1.0, 0.0, dtTracking, 0.0],\n",
    "                             [0.0, 0.0, 0.0, 1.0, 0.0, dtTracking],\n",
    "                             [0.0, 0.0, 0.0, 0.0, 1.0, 0.0],\n",
    "                             [0.0, 0.0, 0.0, 0.0, 0.0, 1.0]])\n",
    "\n",
    "            # Process model                     \n",
    "            a = 0.5 * dtTracking**2\n",
    "            b = dtTracking\n",
    "            c = 1.0\n",
    "            # varState = 1000.0 # sigma x = sigma y\n",
    "            self.Q = np.matrix([[a*a*varState, 0.0, a*b*varState, 0.0, a*c*varState, 0.0],\n",
    "                             [0.0, a*a*varState, 0.0, a*b*varState, 0.0, a*c*varState],\n",
    "                             [a*b*varState, 0.0, b*b*varState, 0.0, b*c*varState, 0.0],\n",
    "                             [0.0, a*b*varState, 0.0, b*b*varState, 0.0, b*c*varState],\n",
    "                             [a*c*varState, 0.0, b*c*varState, 0.0, c*c*varState, 0.0],\n",
    "                             [0.0, a*c*varState, 0.0, b*c*varState, 0.0, c*c*varState]])\n",
    "\n",
    "            self.H = np.matrix([[1.0, 0.0, 0.0, 0.0, 0.0, 0.0], \n",
    "                             [0.0, 1.0, 0.0, 0.0, 0.0, 0.0]])\n",
    "\n",
    "            self.Hj = np.matrix ([[1.0, 1.0, 0.0, 0.0, 0.0, 0.0],\n",
    "                                 [1.0, 1.0, 0.0, 0.0, 0.0, 0.0],\n",
    "                                 [1.0, 1.0, 1.0, 1.0, 0.0, 0.0]])\n",
    "\n",
    "\n",
    "        # varMeas = 10.0\n",
    "        self.R = np.matrix([[self.varMeas, 0.0],\n",
    "                           [0.0, self.varMeas]])\n",
    "\n",
    "        self.Rj = np.matrix([[self.varMeas, 0.0, 0.0],\n",
    "                            [0.0, self.varMeas, 0.0],\n",
    "                            [0.0, 0.0, self.varMeas]])\n",
    "\n",
    "        \n",
    "    def predict (self, dt):\n",
    "        self.F[0, 2] = dt\n",
    "        self.F[1, 3] = dt\n",
    "        \n",
    "        # Process model                     \n",
    "        a = 0.5 * dt**2\n",
    "        b = dt\n",
    "        c = 1.0\n",
    "        # varState = 1000.0 # sigma x = sigma y\n",
    "        self.Q = np.matrix([[a*a*self.varState, 0.0, a*b*self.varState, 0.0],\n",
    "                         [0.0, a*a*self.varState, 0.0, a*b*self.varState],\n",
    "                         [a*b*self.varState, 0.0, b*b*self.varState, 0.0],\n",
    "                         [0.0, a*b*self.varState, 0.0, b*b*self.varState]])\n",
    "\n",
    "        self.x = self.F * self.x\n",
    "        self.P = self.F * self.P * self.F.T + self.Q\n",
    "    \n",
    "    def updateKF (self, z):\n",
    "        e = z - self.H*self.x\n",
    "        S = self.H*self.P*self.H.T + self.R\n",
    "        K = self.P*self.H.T*np.linalg.pinv(S)\n",
    "\n",
    "        self.x = self.x + K*e\n",
    "        self.P = self.P - K*S*K.T\n",
    "            \n",
    "    def updateEKF (self, z):\n",
    "        self.Hj = calculateJacobian (self.x, self.Hj)\n",
    "        e = z - h(self.x)\n",
    "        \n",
    "        while (e[1, 0] > math.pi or e[1, 0] < -math.pi):\n",
    "            if e[1, 0] > math.pi:\n",
    "                e[1, 0] = e[1, 0] - 2*math.pi\n",
    "            else:\n",
    "                e[1, 0] = e[1, 0] + 2*math.pi\n",
    "        \n",
    "        S = self.Hj*self.P*self.Hj.T + self.Rj\n",
    "        K = self.P*self.Hj.T*np.linalg.pinv(S)\n",
    "\n",
    "        self.x = self.x + K*e\n",
    "        if self.model == CV:\n",
    "            I = np.eye(4)\n",
    "        elif self.model == CA:\n",
    "            I = np.eye(6)\n",
    "\n",
    "        self.P = (I - (K*self.Hj))*self.P"
   ]
  },
  {
   "cell_type": "code",
   "execution_count": 18,
   "metadata": {},
   "outputs": [],
   "source": [
    "class Tracking ():\n",
    "\n",
    "    def __init__ (self, ID, model, measurement, measType, time):\n",
    "        self.times = []\n",
    "        self.states = []\n",
    "        self.model = model\n",
    "        \n",
    "        self.trajectory = Trajectory()\n",
    "        self.filter = KalmanFilter(model)\n",
    "        \n",
    "        \n",
    "        self.prevTime = time\n",
    "        self.currTime = time\n",
    "        \n",
    "        self.isFirstTime = True\n",
    "\n",
    "        if measType == LIDAR:\n",
    "            print (\"lidar\")\n",
    "            \n",
    "        elif measType == RADAR:\n",
    "            rho = measurement[0, 0]\n",
    "            phi = measurement[1, 0]\n",
    "            rhoDot = measurement[2, 0]\n",
    "            \n",
    "            px = rho * math.cos(phi)\n",
    "            py = rho * math.sin(phi)\n",
    "            vx = rhoDot * math.cos(phi)\n",
    "            vy = rhoDot * math.sin(phi)\n",
    "            \n",
    "            self.filter.x[0, 0] = px\n",
    "            self.filter.x[1, 0] = py\n",
    "            self.filter.x[2, 0] = vx\n",
    "            self.filter.x[3, 0] = vy\n",
    "            \n",
    "            self.times.append (time)\n",
    "            self.states.append (self.filter.x)\n",
    "            self.trajectory.x.append (px)\n",
    "            self.trajectory.y.append (py)\n",
    "            \n",
    "            \n",
    "    def subplots(self, times, axes, ID):\n",
    "        axes[0].plot (self.trajectory.x, self.trajectory.y, 'm.', markersize=4, label='Tracking{0}'.format(ID))\n",
    "        axes[1].plot (times, self.trajectory.x, 'm.', markersize=4, label='Tracking{0}'.format(ID))\n",
    "        axes[2].plot (times, self.trajectory.y, 'm.', markersize=4, label='Tracking{0}'.format(ID))\n",
    "    \n",
    "    \n",
    "    def plot (self, ID, pltType, color):\n",
    "        if pltType == TRAJECTORY:\n",
    "            plt.plot(self.trajectory.x, self.trajectory.y, '{0}o'.format(color), markersize=4, label=\"Tracking {0}, v_s={1}, v_m={2}\".format(ID, self.filter.varState, self.filter.varMeas))\n",
    "                \n",
    "        elif pltType == X:\n",
    "            plt.plot(self.times, self.trajectory.x, '{0}o'.format(color), markersize=4, label=\"Tracking {0}, v_s={1}, v_m={2}\".format(ID, self.filter.varState, self.filter.varMeas))\n",
    "                \n",
    "        elif pltType == Y:\n",
    "            plt.plot(self.times, self.trajectory.y, '{0}o'.format(color), markersize=4, label=\"Tracking {0}, v_s={1}, v_m={2}\".format(ID, self.filter.varState, self.filter.varMeas))"
   ]
  },
  {
   "cell_type": "markdown",
   "metadata": {},
   "source": [
    "# Tracking simulation\n",
    "\n",
    "times dt: 5 ms  \n",
    "tracking dt: 10 ms"
   ]
  },
  {
   "cell_type": "code",
   "execution_count": 19,
   "metadata": {
    "scrolled": false
   },
   "outputs": [
    {
     "name": "stdout",
     "output_type": "stream",
     "text": [
      "0\n"
     ]
    },
    {
     "data": {
      "text/plain": [
       "matrix([[1.  , 0.  , 0.01, 0.  ],\n",
       "        [0.  , 1.  , 0.  , 0.01],\n",
       "        [0.  , 0.  , 1.  , 0.  ],\n",
       "        [0.  , 0.  , 0.  , 1.  ]])"
      ]
     },
     "metadata": {},
     "output_type": "display_data"
    },
    {
     "data": {
      "text/plain": [
       "matrix([[ 7.57482431e+02],\n",
       "        [ 7.89993615e+01],\n",
       "        [-1.14445086e+00],\n",
       "        [-1.19357075e-01]])"
      ]
     },
     "metadata": {},
     "output_type": "display_data"
    },
    {
     "data": {
      "text/plain": [
       "matrix([[1.  , 0.  , 0.01, 0.  ],\n",
       "        [0.  , 1.  , 0.  , 0.01],\n",
       "        [0.  , 0.  , 1.  , 0.  ],\n",
       "        [0.  , 0.  , 0.  , 1.  ]])"
      ]
     },
     "metadata": {},
     "output_type": "display_data"
    },
    {
     "data": {
      "text/plain": [
       "matrix([[ 7.57470987e+02],\n",
       "        [ 7.89981679e+01],\n",
       "        [-1.14445086e+00],\n",
       "        [-1.19357075e-01]])"
      ]
     },
     "metadata": {},
     "output_type": "display_data"
    },
    {
     "data": {
      "text/plain": [
       "matrix([[1.  , 0.  , 0.01, 0.  ],\n",
       "        [0.  , 1.  , 0.  , 0.01],\n",
       "        [0.  , 0.  , 1.  , 0.  ],\n",
       "        [0.  , 0.  , 0.  , 1.  ]])"
      ]
     },
     "metadata": {},
     "output_type": "display_data"
    },
    {
     "data": {
      "text/plain": [
       "matrix([[ 7.57459542e+02],\n",
       "        [ 7.89969743e+01],\n",
       "        [-1.14445086e+00],\n",
       "        [-1.19357075e-01]])"
      ]
     },
     "metadata": {},
     "output_type": "display_data"
    },
    {
     "data": {
      "text/plain": [
       "matrix([[1.  , 0.  , 0.01, 0.  ],\n",
       "        [0.  , 1.  , 0.  , 0.01],\n",
       "        [0.  , 0.  , 1.  , 0.  ],\n",
       "        [0.  , 0.  , 0.  , 1.  ]])"
      ]
     },
     "metadata": {},
     "output_type": "display_data"
    },
    {
     "data": {
      "text/plain": [
       "matrix([[ 7.57448098e+02],\n",
       "        [ 7.89957807e+01],\n",
       "        [-1.14445086e+00],\n",
       "        [-1.19357075e-01]])"
      ]
     },
     "metadata": {},
     "output_type": "display_data"
    },
    {
     "data": {
      "text/plain": [
       "matrix([[1.  , 0.  , 0.01, 0.  ],\n",
       "        [0.  , 1.  , 0.  , 0.01],\n",
       "        [0.  , 0.  , 1.  , 0.  ],\n",
       "        [0.  , 0.  , 0.  , 1.  ]])"
      ]
     },
     "metadata": {},
     "output_type": "display_data"
    },
    {
     "data": {
      "text/plain": [
       "matrix([[ 7.57436653e+02],\n",
       "        [ 7.89945872e+01],\n",
       "        [-1.14445086e+00],\n",
       "        [-1.19357075e-01]])"
      ]
     },
     "metadata": {},
     "output_type": "display_data"
    },
    {
     "data": {
      "text/plain": [
       "matrix([[1.  , 0.  , 0.01, 0.  ],\n",
       "        [0.  , 1.  , 0.  , 0.01],\n",
       "        [0.  , 0.  , 1.  , 0.  ],\n",
       "        [0.  , 0.  , 0.  , 1.  ]])"
      ]
     },
     "metadata": {},
     "output_type": "display_data"
    },
    {
     "data": {
      "text/plain": [
       "matrix([[ 7.57427254e+02],\n",
       "        [ 7.89936070e+01],\n",
       "        [-1.10273163e+00],\n",
       "        [-1.15006092e-01]])"
      ]
     },
     "metadata": {},
     "output_type": "display_data"
    },
    {
     "data": {
      "text/plain": [
       "matrix([[1.  , 0.  , 0.01, 0.  ],\n",
       "        [0.  , 1.  , 0.  , 0.01],\n",
       "        [0.  , 0.  , 1.  , 0.  ],\n",
       "        [0.  , 0.  , 0.  , 1.  ]])"
      ]
     },
     "metadata": {},
     "output_type": "display_data"
    },
    {
     "data": {
      "text/plain": [
       "matrix([[ 7.57416227e+02],\n",
       "        [ 7.89924569e+01],\n",
       "        [-1.10273163e+00],\n",
       "        [-1.15006092e-01]])"
      ]
     },
     "metadata": {},
     "output_type": "display_data"
    },
    {
     "data": {
      "text/plain": [
       "matrix([[1.  , 0.  , 0.01, 0.  ],\n",
       "        [0.  , 1.  , 0.  , 0.01],\n",
       "        [0.  , 0.  , 1.  , 0.  ],\n",
       "        [0.  , 0.  , 0.  , 1.  ]])"
      ]
     },
     "metadata": {},
     "output_type": "display_data"
    },
    {
     "data": {
      "text/plain": [
       "matrix([[ 7.57405200e+02],\n",
       "        [ 7.89913069e+01],\n",
       "        [-1.10273163e+00],\n",
       "        [-1.15006092e-01]])"
      ]
     },
     "metadata": {},
     "output_type": "display_data"
    },
    {
     "data": {
      "text/plain": [
       "matrix([[1.  , 0.  , 0.01, 0.  ],\n",
       "        [0.  , 1.  , 0.  , 0.01],\n",
       "        [0.  , 0.  , 1.  , 0.  ],\n",
       "        [0.  , 0.  , 0.  , 1.  ]])"
      ]
     },
     "metadata": {},
     "output_type": "display_data"
    },
    {
     "data": {
      "text/plain": [
       "matrix([[ 7.57394172e+02],\n",
       "        [ 7.89901568e+01],\n",
       "        [-1.10273163e+00],\n",
       "        [-1.15006092e-01]])"
      ]
     },
     "metadata": {},
     "output_type": "display_data"
    },
    {
     "data": {
      "text/plain": [
       "matrix([[1.  , 0.  , 0.01, 0.  ],\n",
       "        [0.  , 1.  , 0.  , 0.01],\n",
       "        [0.  , 0.  , 1.  , 0.  ],\n",
       "        [0.  , 0.  , 0.  , 1.  ]])"
      ]
     },
     "metadata": {},
     "output_type": "display_data"
    },
    {
     "data": {
      "text/plain": [
       "matrix([[ 7.57383145e+02],\n",
       "        [ 7.89890067e+01],\n",
       "        [-1.10273163e+00],\n",
       "        [-1.15006092e-01]])"
      ]
     },
     "metadata": {},
     "output_type": "display_data"
    },
    {
     "data": {
      "text/plain": [
       "matrix([[1.  , 0.  , 0.01, 0.  ],\n",
       "        [0.  , 1.  , 0.  , 0.01],\n",
       "        [0.  , 0.  , 1.  , 0.  ],\n",
       "        [0.  , 0.  , 0.  , 1.  ]])"
      ]
     },
     "metadata": {},
     "output_type": "display_data"
    },
    {
     "data": {
      "text/plain": [
       "matrix([[ 7.57372118e+02],\n",
       "        [ 7.89878567e+01],\n",
       "        [-1.10273163e+00],\n",
       "        [-1.15006092e-01]])"
      ]
     },
     "metadata": {},
     "output_type": "display_data"
    },
    {
     "data": {
      "text/plain": [
       "matrix([[1.  , 0.  , 0.01, 0.  ],\n",
       "        [0.  , 1.  , 0.  , 0.01],\n",
       "        [0.  , 0.  , 1.  , 0.  ],\n",
       "        [0.  , 0.  , 0.  , 1.  ]])"
      ]
     },
     "metadata": {},
     "output_type": "display_data"
    },
    {
     "data": {
      "text/plain": [
       "matrix([[ 7.57361091e+02],\n",
       "        [ 7.89867066e+01],\n",
       "        [-1.10273163e+00],\n",
       "        [-1.15006092e-01]])"
      ]
     },
     "metadata": {},
     "output_type": "display_data"
    },
    {
     "data": {
      "text/plain": [
       "matrix([[1.  , 0.  , 0.01, 0.  ],\n",
       "        [0.  , 1.  , 0.  , 0.01],\n",
       "        [0.  , 0.  , 1.  , 0.  ],\n",
       "        [0.  , 0.  , 0.  , 1.  ]])"
      ]
     },
     "metadata": {},
     "output_type": "display_data"
    },
    {
     "data": {
      "text/plain": [
       "matrix([[ 7.57350063e+02],\n",
       "        [ 7.89855566e+01],\n",
       "        [-1.10273163e+00],\n",
       "        [-1.15006092e-01]])"
      ]
     },
     "metadata": {},
     "output_type": "display_data"
    },
    {
     "data": {
      "text/plain": [
       "matrix([[1.  , 0.  , 0.01, 0.  ],\n",
       "        [0.  , 1.  , 0.  , 0.01],\n",
       "        [0.  , 0.  , 1.  , 0.  ],\n",
       "        [0.  , 0.  , 0.  , 1.  ]])"
      ]
     },
     "metadata": {},
     "output_type": "display_data"
    },
    {
     "data": {
      "text/plain": [
       "matrix([[ 7.57339036e+02],\n",
       "        [ 7.89844065e+01],\n",
       "        [-1.10273163e+00],\n",
       "        [-1.15006092e-01]])"
      ]
     },
     "metadata": {},
     "output_type": "display_data"
    },
    {
     "data": {
      "text/plain": [
       "matrix([[1.  , 0.  , 0.01, 0.  ],\n",
       "        [0.  , 1.  , 0.  , 0.01],\n",
       "        [0.  , 0.  , 1.  , 0.  ],\n",
       "        [0.  , 0.  , 0.  , 1.  ]])"
      ]
     },
     "metadata": {},
     "output_type": "display_data"
    },
    {
     "data": {
      "text/plain": [
       "matrix([[ 7.57328009e+02],\n",
       "        [ 7.89832564e+01],\n",
       "        [-1.10273163e+00],\n",
       "        [-1.15006092e-01]])"
      ]
     },
     "metadata": {},
     "output_type": "display_data"
    },
    {
     "data": {
      "text/plain": [
       "matrix([[1.  , 0.  , 0.01, 0.  ],\n",
       "        [0.  , 1.  , 0.  , 0.01],\n",
       "        [0.  , 0.  , 1.  , 0.  ],\n",
       "        [0.  , 0.  , 0.  , 1.  ]])"
      ]
     },
     "metadata": {},
     "output_type": "display_data"
    },
    {
     "data": {
      "text/plain": [
       "matrix([[ 7.57316981e+02],\n",
       "        [ 7.89821064e+01],\n",
       "        [-1.10273163e+00],\n",
       "        [-1.15006092e-01]])"
      ]
     },
     "metadata": {},
     "output_type": "display_data"
    },
    {
     "data": {
      "text/plain": [
       "matrix([[1.  , 0.  , 0.01, 0.  ],\n",
       "        [0.  , 1.  , 0.  , 0.01],\n",
       "        [0.  , 0.  , 1.  , 0.  ],\n",
       "        [0.  , 0.  , 0.  , 1.  ]])"
      ]
     },
     "metadata": {},
     "output_type": "display_data"
    },
    {
     "data": {
      "text/plain": [
       "matrix([[ 7.57305954e+02],\n",
       "        [ 7.89809563e+01],\n",
       "        [-1.10273163e+00],\n",
       "        [-1.15006092e-01]])"
      ]
     },
     "metadata": {},
     "output_type": "display_data"
    },
    {
     "data": {
      "text/plain": [
       "matrix([[1.  , 0.  , 0.01, 0.  ],\n",
       "        [0.  , 1.  , 0.  , 0.01],\n",
       "        [0.  , 0.  , 1.  , 0.  ],\n",
       "        [0.  , 0.  , 0.  , 1.  ]])"
      ]
     },
     "metadata": {},
     "output_type": "display_data"
    },
    {
     "data": {
      "text/plain": [
       "matrix([[ 7.57294927e+02],\n",
       "        [ 7.89798062e+01],\n",
       "        [-1.10273163e+00],\n",
       "        [-1.15006092e-01]])"
      ]
     },
     "metadata": {},
     "output_type": "display_data"
    },
    {
     "data": {
      "text/plain": [
       "matrix([[1.  , 0.  , 0.01, 0.  ],\n",
       "        [0.  , 1.  , 0.  , 0.01],\n",
       "        [0.  , 0.  , 1.  , 0.  ],\n",
       "        [0.  , 0.  , 0.  , 1.  ]])"
      ]
     },
     "metadata": {},
     "output_type": "display_data"
    },
    {
     "data": {
      "text/plain": [
       "matrix([[ 7.57283899e+02],\n",
       "        [ 7.89786562e+01],\n",
       "        [-1.10273163e+00],\n",
       "        [-1.15006092e-01]])"
      ]
     },
     "metadata": {},
     "output_type": "display_data"
    },
    {
     "data": {
      "text/plain": [
       "matrix([[1.  , 0.  , 0.01, 0.  ],\n",
       "        [0.  , 1.  , 0.  , 0.01],\n",
       "        [0.  , 0.  , 1.  , 0.  ],\n",
       "        [0.  , 0.  , 0.  , 1.  ]])"
      ]
     },
     "metadata": {},
     "output_type": "display_data"
    },
    {
     "data": {
      "text/plain": [
       "matrix([[ 7.57272872e+02],\n",
       "        [ 7.89775061e+01],\n",
       "        [-1.10273163e+00],\n",
       "        [-1.15006092e-01]])"
      ]
     },
     "metadata": {},
     "output_type": "display_data"
    },
    {
     "data": {
      "text/plain": [
       "matrix([[1.  , 0.  , 0.01, 0.  ],\n",
       "        [0.  , 1.  , 0.  , 0.01],\n",
       "        [0.  , 0.  , 1.  , 0.  ],\n",
       "        [0.  , 0.  , 0.  , 1.  ]])"
      ]
     },
     "metadata": {},
     "output_type": "display_data"
    },
    {
     "data": {
      "text/plain": [
       "matrix([[ 7.57261845e+02],\n",
       "        [ 7.89763561e+01],\n",
       "        [-1.10273163e+00],\n",
       "        [-1.15006092e-01]])"
      ]
     },
     "metadata": {},
     "output_type": "display_data"
    },
    {
     "data": {
      "text/plain": [
       "matrix([[1.  , 0.  , 0.01, 0.  ],\n",
       "        [0.  , 1.  , 0.  , 0.01],\n",
       "        [0.  , 0.  , 1.  , 0.  ],\n",
       "        [0.  , 0.  , 0.  , 1.  ]])"
      ]
     },
     "metadata": {},
     "output_type": "display_data"
    },
    {
     "data": {
      "text/plain": [
       "matrix([[ 7.57250817e+02],\n",
       "        [ 7.89752060e+01],\n",
       "        [-1.10273163e+00],\n",
       "        [-1.15006092e-01]])"
      ]
     },
     "metadata": {},
     "output_type": "display_data"
    },
    {
     "data": {
      "text/plain": [
       "matrix([[1.  , 0.  , 0.01, 0.  ],\n",
       "        [0.  , 1.  , 0.  , 0.01],\n",
       "        [0.  , 0.  , 1.  , 0.  ],\n",
       "        [0.  , 0.  , 0.  , 1.  ]])"
      ]
     },
     "metadata": {},
     "output_type": "display_data"
    },
    {
     "data": {
      "text/plain": [
       "matrix([[ 7.57239790e+02],\n",
       "        [ 7.89740559e+01],\n",
       "        [-1.10273163e+00],\n",
       "        [-1.15006092e-01]])"
      ]
     },
     "metadata": {},
     "output_type": "display_data"
    },
    {
     "data": {
      "text/plain": [
       "matrix([[1.  , 0.  , 0.01, 0.  ],\n",
       "        [0.  , 1.  , 0.  , 0.01],\n",
       "        [0.  , 0.  , 1.  , 0.  ],\n",
       "        [0.  , 0.  , 0.  , 1.  ]])"
      ]
     },
     "metadata": {},
     "output_type": "display_data"
    },
    {
     "data": {
      "text/plain": [
       "matrix([[ 7.57228763e+02],\n",
       "        [ 7.89729059e+01],\n",
       "        [-1.10273163e+00],\n",
       "        [-1.15006092e-01]])"
      ]
     },
     "metadata": {},
     "output_type": "display_data"
    },
    {
     "data": {
      "text/plain": [
       "matrix([[1.  , 0.  , 0.01, 0.  ],\n",
       "        [0.  , 1.  , 0.  , 0.01],\n",
       "        [0.  , 0.  , 1.  , 0.  ],\n",
       "        [0.  , 0.  , 0.  , 1.  ]])"
      ]
     },
     "metadata": {},
     "output_type": "display_data"
    },
    {
     "data": {
      "text/plain": [
       "matrix([[ 7.57217735e+02],\n",
       "        [ 7.89717558e+01],\n",
       "        [-1.10273163e+00],\n",
       "        [-1.15006092e-01]])"
      ]
     },
     "metadata": {},
     "output_type": "display_data"
    },
    {
     "data": {
      "text/plain": [
       "matrix([[1.  , 0.  , 0.01, 0.  ],\n",
       "        [0.  , 1.  , 0.  , 0.01],\n",
       "        [0.  , 0.  , 1.  , 0.  ],\n",
       "        [0.  , 0.  , 0.  , 1.  ]])"
      ]
     },
     "metadata": {},
     "output_type": "display_data"
    },
    {
     "data": {
      "text/plain": [
       "matrix([[ 7.57206708e+02],\n",
       "        [ 7.89706058e+01],\n",
       "        [-1.10273163e+00],\n",
       "        [-1.15006092e-01]])"
      ]
     },
     "metadata": {},
     "output_type": "display_data"
    },
    {
     "data": {
      "text/plain": [
       "matrix([[1.  , 0.  , 0.01, 0.  ],\n",
       "        [0.  , 1.  , 0.  , 0.01],\n",
       "        [0.  , 0.  , 1.  , 0.  ],\n",
       "        [0.  , 0.  , 0.  , 1.  ]])"
      ]
     },
     "metadata": {},
     "output_type": "display_data"
    },
    {
     "data": {
      "text/plain": [
       "matrix([[ 7.57195681e+02],\n",
       "        [ 7.89694557e+01],\n",
       "        [-1.10273163e+00],\n",
       "        [-1.15006092e-01]])"
      ]
     },
     "metadata": {},
     "output_type": "display_data"
    },
    {
     "data": {
      "text/plain": [
       "matrix([[1.  , 0.  , 0.01, 0.  ],\n",
       "        [0.  , 1.  , 0.  , 0.01],\n",
       "        [0.  , 0.  , 1.  , 0.  ],\n",
       "        [0.  , 0.  , 0.  , 1.  ]])"
      ]
     },
     "metadata": {},
     "output_type": "display_data"
    },
    {
     "data": {
      "text/plain": [
       "matrix([[ 7.57184653e+02],\n",
       "        [ 7.89683056e+01],\n",
       "        [-1.10273163e+00],\n",
       "        [-1.15006092e-01]])"
      ]
     },
     "metadata": {},
     "output_type": "display_data"
    },
    {
     "data": {
      "text/plain": [
       "matrix([[1.  , 0.  , 0.01, 0.  ],\n",
       "        [0.  , 1.  , 0.  , 0.01],\n",
       "        [0.  , 0.  , 1.  , 0.  ],\n",
       "        [0.  , 0.  , 0.  , 1.  ]])"
      ]
     },
     "metadata": {},
     "output_type": "display_data"
    },
    {
     "data": {
      "text/plain": [
       "matrix([[ 7.57173626e+02],\n",
       "        [ 7.89671556e+01],\n",
       "        [-1.10273163e+00],\n",
       "        [-1.15006092e-01]])"
      ]
     },
     "metadata": {},
     "output_type": "display_data"
    },
    {
     "data": {
      "text/plain": [
       "matrix([[1.  , 0.  , 0.01, 0.  ],\n",
       "        [0.  , 1.  , 0.  , 0.01],\n",
       "        [0.  , 0.  , 1.  , 0.  ],\n",
       "        [0.  , 0.  , 0.  , 1.  ]])"
      ]
     },
     "metadata": {},
     "output_type": "display_data"
    },
    {
     "data": {
      "text/plain": [
       "matrix([[ 7.57162599e+02],\n",
       "        [ 7.89660055e+01],\n",
       "        [-1.10273163e+00],\n",
       "        [-1.15006092e-01]])"
      ]
     },
     "metadata": {},
     "output_type": "display_data"
    },
    {
     "data": {
      "text/plain": [
       "matrix([[1.  , 0.  , 0.01, 0.  ],\n",
       "        [0.  , 1.  , 0.  , 0.01],\n",
       "        [0.  , 0.  , 1.  , 0.  ],\n",
       "        [0.  , 0.  , 0.  , 1.  ]])"
      ]
     },
     "metadata": {},
     "output_type": "display_data"
    },
    {
     "data": {
      "text/plain": [
       "matrix([[ 7.57151572e+02],\n",
       "        [ 7.89648555e+01],\n",
       "        [-1.10273163e+00],\n",
       "        [-1.15006092e-01]])"
      ]
     },
     "metadata": {},
     "output_type": "display_data"
    },
    {
     "data": {
      "text/plain": [
       "matrix([[1.  , 0.  , 0.01, 0.  ],\n",
       "        [0.  , 1.  , 0.  , 0.01],\n",
       "        [0.  , 0.  , 1.  , 0.  ],\n",
       "        [0.  , 0.  , 0.  , 1.  ]])"
      ]
     },
     "metadata": {},
     "output_type": "display_data"
    },
    {
     "data": {
      "text/plain": [
       "matrix([[ 7.57140544e+02],\n",
       "        [ 7.89637054e+01],\n",
       "        [-1.10273163e+00],\n",
       "        [-1.15006092e-01]])"
      ]
     },
     "metadata": {},
     "output_type": "display_data"
    },
    {
     "data": {
      "text/plain": [
       "matrix([[1.  , 0.  , 0.01, 0.  ],\n",
       "        [0.  , 1.  , 0.  , 0.01],\n",
       "        [0.  , 0.  , 1.  , 0.  ],\n",
       "        [0.  , 0.  , 0.  , 1.  ]])"
      ]
     },
     "metadata": {},
     "output_type": "display_data"
    },
    {
     "data": {
      "text/plain": [
       "matrix([[ 7.57129517e+02],\n",
       "        [ 7.89625553e+01],\n",
       "        [-1.10273163e+00],\n",
       "        [-1.15006092e-01]])"
      ]
     },
     "metadata": {},
     "output_type": "display_data"
    },
    {
     "data": {
      "text/plain": [
       "matrix([[1.  , 0.  , 0.01, 0.  ],\n",
       "        [0.  , 1.  , 0.  , 0.01],\n",
       "        [0.  , 0.  , 1.  , 0.  ],\n",
       "        [0.  , 0.  , 0.  , 1.  ]])"
      ]
     },
     "metadata": {},
     "output_type": "display_data"
    },
    {
     "data": {
      "text/plain": [
       "matrix([[ 7.57118490e+02],\n",
       "        [ 7.89614053e+01],\n",
       "        [-1.10273163e+00],\n",
       "        [-1.15006092e-01]])"
      ]
     },
     "metadata": {},
     "output_type": "display_data"
    },
    {
     "data": {
      "text/plain": [
       "matrix([[1.  , 0.  , 0.01, 0.  ],\n",
       "        [0.  , 1.  , 0.  , 0.01],\n",
       "        [0.  , 0.  , 1.  , 0.  ],\n",
       "        [0.  , 0.  , 0.  , 1.  ]])"
      ]
     },
     "metadata": {},
     "output_type": "display_data"
    },
    {
     "data": {
      "text/plain": [
       "matrix([[ 7.57107462e+02],\n",
       "        [ 7.89602552e+01],\n",
       "        [-1.10273163e+00],\n",
       "        [-1.15006092e-01]])"
      ]
     },
     "metadata": {},
     "output_type": "display_data"
    },
    {
     "data": {
      "text/plain": [
       "matrix([[1.  , 0.  , 0.01, 0.  ],\n",
       "        [0.  , 1.  , 0.  , 0.01],\n",
       "        [0.  , 0.  , 1.  , 0.  ],\n",
       "        [0.  , 0.  , 0.  , 1.  ]])"
      ]
     },
     "metadata": {},
     "output_type": "display_data"
    },
    {
     "data": {
      "text/plain": [
       "matrix([[ 7.57096435e+02],\n",
       "        [ 7.89591051e+01],\n",
       "        [-1.10273163e+00],\n",
       "        [-1.15006092e-01]])"
      ]
     },
     "metadata": {},
     "output_type": "display_data"
    },
    {
     "data": {
      "text/plain": [
       "matrix([[1.  , 0.  , 0.01, 0.  ],\n",
       "        [0.  , 1.  , 0.  , 0.01],\n",
       "        [0.  , 0.  , 1.  , 0.  ],\n",
       "        [0.  , 0.  , 0.  , 1.  ]])"
      ]
     },
     "metadata": {},
     "output_type": "display_data"
    },
    {
     "data": {
      "text/plain": [
       "matrix([[ 7.57085408e+02],\n",
       "        [ 7.89579551e+01],\n",
       "        [-1.10273163e+00],\n",
       "        [-1.15006092e-01]])"
      ]
     },
     "metadata": {},
     "output_type": "display_data"
    },
    {
     "data": {
      "text/plain": [
       "matrix([[1.  , 0.  , 0.01, 0.  ],\n",
       "        [0.  , 1.  , 0.  , 0.01],\n",
       "        [0.  , 0.  , 1.  , 0.  ],\n",
       "        [0.  , 0.  , 0.  , 1.  ]])"
      ]
     },
     "metadata": {},
     "output_type": "display_data"
    },
    {
     "data": {
      "text/plain": [
       "matrix([[ 7.57074380e+02],\n",
       "        [ 7.89568050e+01],\n",
       "        [-1.10273163e+00],\n",
       "        [-1.15006092e-01]])"
      ]
     },
     "metadata": {},
     "output_type": "display_data"
    },
    {
     "data": {
      "text/plain": [
       "matrix([[1.  , 0.  , 0.01, 0.  ],\n",
       "        [0.  , 1.  , 0.  , 0.01],\n",
       "        [0.  , 0.  , 1.  , 0.  ],\n",
       "        [0.  , 0.  , 0.  , 1.  ]])"
      ]
     },
     "metadata": {},
     "output_type": "display_data"
    },
    {
     "data": {
      "text/plain": [
       "matrix([[ 7.57063353e+02],\n",
       "        [ 7.89556550e+01],\n",
       "        [-1.10273163e+00],\n",
       "        [-1.15006092e-01]])"
      ]
     },
     "metadata": {},
     "output_type": "display_data"
    },
    {
     "data": {
      "text/plain": [
       "matrix([[1.  , 0.  , 0.01, 0.  ],\n",
       "        [0.  , 1.  , 0.  , 0.01],\n",
       "        [0.  , 0.  , 1.  , 0.  ],\n",
       "        [0.  , 0.  , 0.  , 1.  ]])"
      ]
     },
     "metadata": {},
     "output_type": "display_data"
    },
    {
     "data": {
      "text/plain": [
       "matrix([[ 7.57052326e+02],\n",
       "        [ 7.89545049e+01],\n",
       "        [-1.10273163e+00],\n",
       "        [-1.15006092e-01]])"
      ]
     },
     "metadata": {},
     "output_type": "display_data"
    },
    {
     "data": {
      "text/plain": [
       "matrix([[1.  , 0.  , 0.01, 0.  ],\n",
       "        [0.  , 1.  , 0.  , 0.01],\n",
       "        [0.  , 0.  , 1.  , 0.  ],\n",
       "        [0.  , 0.  , 0.  , 1.  ]])"
      ]
     },
     "metadata": {},
     "output_type": "display_data"
    },
    {
     "data": {
      "text/plain": [
       "matrix([[ 7.57041298e+02],\n",
       "        [ 7.89533548e+01],\n",
       "        [-1.10273163e+00],\n",
       "        [-1.15006092e-01]])"
      ]
     },
     "metadata": {},
     "output_type": "display_data"
    },
    {
     "data": {
      "text/plain": [
       "matrix([[1.  , 0.  , 0.01, 0.  ],\n",
       "        [0.  , 1.  , 0.  , 0.01],\n",
       "        [0.  , 0.  , 1.  , 0.  ],\n",
       "        [0.  , 0.  , 0.  , 1.  ]])"
      ]
     },
     "metadata": {},
     "output_type": "display_data"
    },
    {
     "data": {
      "text/plain": [
       "matrix([[ 7.57030271e+02],\n",
       "        [ 7.89522048e+01],\n",
       "        [-1.10273163e+00],\n",
       "        [-1.15006092e-01]])"
      ]
     },
     "metadata": {},
     "output_type": "display_data"
    },
    {
     "data": {
      "text/plain": [
       "matrix([[1.  , 0.  , 0.01, 0.  ],\n",
       "        [0.  , 1.  , 0.  , 0.01],\n",
       "        [0.  , 0.  , 1.  , 0.  ],\n",
       "        [0.  , 0.  , 0.  , 1.  ]])"
      ]
     },
     "metadata": {},
     "output_type": "display_data"
    },
    {
     "data": {
      "text/plain": [
       "matrix([[ 7.57019244e+02],\n",
       "        [ 7.89510547e+01],\n",
       "        [-1.10273163e+00],\n",
       "        [-1.15006092e-01]])"
      ]
     },
     "metadata": {},
     "output_type": "display_data"
    },
    {
     "data": {
      "text/plain": [
       "matrix([[1.  , 0.  , 0.01, 0.  ],\n",
       "        [0.  , 1.  , 0.  , 0.01],\n",
       "        [0.  , 0.  , 1.  , 0.  ],\n",
       "        [0.  , 0.  , 0.  , 1.  ]])"
      ]
     },
     "metadata": {},
     "output_type": "display_data"
    },
    {
     "data": {
      "text/plain": [
       "matrix([[ 7.57008216e+02],\n",
       "        [ 7.89499047e+01],\n",
       "        [-1.10273163e+00],\n",
       "        [-1.15006092e-01]])"
      ]
     },
     "metadata": {},
     "output_type": "display_data"
    },
    {
     "data": {
      "text/plain": [
       "matrix([[1.  , 0.  , 0.01, 0.  ],\n",
       "        [0.  , 1.  , 0.  , 0.01],\n",
       "        [0.  , 0.  , 1.  , 0.  ],\n",
       "        [0.  , 0.  , 0.  , 1.  ]])"
      ]
     },
     "metadata": {},
     "output_type": "display_data"
    },
    {
     "data": {
      "text/plain": [
       "matrix([[ 7.56997189e+02],\n",
       "        [ 7.89487546e+01],\n",
       "        [-1.10273163e+00],\n",
       "        [-1.15006092e-01]])"
      ]
     },
     "metadata": {},
     "output_type": "display_data"
    },
    {
     "data": {
      "text/plain": [
       "matrix([[1.  , 0.  , 0.01, 0.  ],\n",
       "        [0.  , 1.  , 0.  , 0.01],\n",
       "        [0.  , 0.  , 1.  , 0.  ],\n",
       "        [0.  , 0.  , 0.  , 1.  ]])"
      ]
     },
     "metadata": {},
     "output_type": "display_data"
    },
    {
     "data": {
      "text/plain": [
       "matrix([[ 7.56986162e+02],\n",
       "        [ 7.89476045e+01],\n",
       "        [-1.10273163e+00],\n",
       "        [-1.15006092e-01]])"
      ]
     },
     "metadata": {},
     "output_type": "display_data"
    },
    {
     "data": {
      "text/plain": [
       "matrix([[1.  , 0.  , 0.01, 0.  ],\n",
       "        [0.  , 1.  , 0.  , 0.01],\n",
       "        [0.  , 0.  , 1.  , 0.  ],\n",
       "        [0.  , 0.  , 0.  , 1.  ]])"
      ]
     },
     "metadata": {},
     "output_type": "display_data"
    },
    {
     "data": {
      "text/plain": [
       "matrix([[ 7.56975134e+02],\n",
       "        [ 7.89464545e+01],\n",
       "        [-1.10273163e+00],\n",
       "        [-1.15006092e-01]])"
      ]
     },
     "metadata": {},
     "output_type": "display_data"
    },
    {
     "data": {
      "text/plain": [
       "matrix([[1.  , 0.  , 0.01, 0.  ],\n",
       "        [0.  , 1.  , 0.  , 0.01],\n",
       "        [0.  , 0.  , 1.  , 0.  ],\n",
       "        [0.  , 0.  , 0.  , 1.  ]])"
      ]
     },
     "metadata": {},
     "output_type": "display_data"
    },
    {
     "data": {
      "text/plain": [
       "matrix([[ 7.56964107e+02],\n",
       "        [ 7.89453044e+01],\n",
       "        [-1.10273163e+00],\n",
       "        [-1.15006092e-01]])"
      ]
     },
     "metadata": {},
     "output_type": "display_data"
    },
    {
     "data": {
      "text/plain": [
       "matrix([[1.  , 0.  , 0.01, 0.  ],\n",
       "        [0.  , 1.  , 0.  , 0.01],\n",
       "        [0.  , 0.  , 1.  , 0.  ],\n",
       "        [0.  , 0.  , 0.  , 1.  ]])"
      ]
     },
     "metadata": {},
     "output_type": "display_data"
    },
    {
     "data": {
      "text/plain": [
       "matrix([[ 7.56953080e+02],\n",
       "        [ 7.89441544e+01],\n",
       "        [-1.10273163e+00],\n",
       "        [-1.15006092e-01]])"
      ]
     },
     "metadata": {},
     "output_type": "display_data"
    },
    {
     "data": {
      "text/plain": [
       "matrix([[1.  , 0.  , 0.01, 0.  ],\n",
       "        [0.  , 1.  , 0.  , 0.01],\n",
       "        [0.  , 0.  , 1.  , 0.  ],\n",
       "        [0.  , 0.  , 0.  , 1.  ]])"
      ]
     },
     "metadata": {},
     "output_type": "display_data"
    },
    {
     "data": {
      "text/plain": [
       "matrix([[ 7.56942053e+02],\n",
       "        [ 7.89430043e+01],\n",
       "        [-1.10273163e+00],\n",
       "        [-1.15006092e-01]])"
      ]
     },
     "metadata": {},
     "output_type": "display_data"
    },
    {
     "data": {
      "text/plain": [
       "matrix([[1.  , 0.  , 0.01, 0.  ],\n",
       "        [0.  , 1.  , 0.  , 0.01],\n",
       "        [0.  , 0.  , 1.  , 0.  ],\n",
       "        [0.  , 0.  , 0.  , 1.  ]])"
      ]
     },
     "metadata": {},
     "output_type": "display_data"
    },
    {
     "data": {
      "text/plain": [
       "matrix([[ 7.56931025e+02],\n",
       "        [ 7.89418542e+01],\n",
       "        [-1.10273163e+00],\n",
       "        [-1.15006092e-01]])"
      ]
     },
     "metadata": {},
     "output_type": "display_data"
    },
    {
     "data": {
      "text/plain": [
       "matrix([[1.  , 0.  , 0.01, 0.  ],\n",
       "        [0.  , 1.  , 0.  , 0.01],\n",
       "        [0.  , 0.  , 1.  , 0.  ],\n",
       "        [0.  , 0.  , 0.  , 1.  ]])"
      ]
     },
     "metadata": {},
     "output_type": "display_data"
    },
    {
     "data": {
      "text/plain": [
       "matrix([[ 7.56919998e+02],\n",
       "        [ 7.89407042e+01],\n",
       "        [-1.10273163e+00],\n",
       "        [-1.15006092e-01]])"
      ]
     },
     "metadata": {},
     "output_type": "display_data"
    },
    {
     "data": {
      "text/plain": [
       "matrix([[1.  , 0.  , 0.01, 0.  ],\n",
       "        [0.  , 1.  , 0.  , 0.01],\n",
       "        [0.  , 0.  , 1.  , 0.  ],\n",
       "        [0.  , 0.  , 0.  , 1.  ]])"
      ]
     },
     "metadata": {},
     "output_type": "display_data"
    },
    {
     "data": {
      "text/plain": [
       "matrix([[ 7.56908971e+02],\n",
       "        [ 7.89395541e+01],\n",
       "        [-1.10273163e+00],\n",
       "        [-1.15006092e-01]])"
      ]
     },
     "metadata": {},
     "output_type": "display_data"
    },
    {
     "data": {
      "text/plain": [
       "matrix([[1.  , 0.  , 0.01, 0.  ],\n",
       "        [0.  , 1.  , 0.  , 0.01],\n",
       "        [0.  , 0.  , 1.  , 0.  ],\n",
       "        [0.  , 0.  , 0.  , 1.  ]])"
      ]
     },
     "metadata": {},
     "output_type": "display_data"
    },
    {
     "data": {
      "text/plain": [
       "matrix([[ 7.56897943e+02],\n",
       "        [ 7.89384041e+01],\n",
       "        [-1.10273163e+00],\n",
       "        [-1.15006092e-01]])"
      ]
     },
     "metadata": {},
     "output_type": "display_data"
    },
    {
     "data": {
      "text/plain": [
       "matrix([[1.  , 0.  , 0.01, 0.  ],\n",
       "        [0.  , 1.  , 0.  , 0.01],\n",
       "        [0.  , 0.  , 1.  , 0.  ],\n",
       "        [0.  , 0.  , 0.  , 1.  ]])"
      ]
     },
     "metadata": {},
     "output_type": "display_data"
    },
    {
     "data": {
      "text/plain": [
       "matrix([[ 7.56886916e+02],\n",
       "        [ 7.89372540e+01],\n",
       "        [-1.10273163e+00],\n",
       "        [-1.15006092e-01]])"
      ]
     },
     "metadata": {},
     "output_type": "display_data"
    },
    {
     "data": {
      "text/plain": [
       "matrix([[1.  , 0.  , 0.01, 0.  ],\n",
       "        [0.  , 1.  , 0.  , 0.01],\n",
       "        [0.  , 0.  , 1.  , 0.  ],\n",
       "        [0.  , 0.  , 0.  , 1.  ]])"
      ]
     },
     "metadata": {},
     "output_type": "display_data"
    },
    {
     "data": {
      "text/plain": [
       "matrix([[ 7.56875889e+02],\n",
       "        [ 7.89361039e+01],\n",
       "        [-1.10273163e+00],\n",
       "        [-1.15006092e-01]])"
      ]
     },
     "metadata": {},
     "output_type": "display_data"
    },
    {
     "data": {
      "text/plain": [
       "matrix([[1.  , 0.  , 0.01, 0.  ],\n",
       "        [0.  , 1.  , 0.  , 0.01],\n",
       "        [0.  , 0.  , 1.  , 0.  ],\n",
       "        [0.  , 0.  , 0.  , 1.  ]])"
      ]
     },
     "metadata": {},
     "output_type": "display_data"
    },
    {
     "data": {
      "text/plain": [
       "matrix([[ 7.56864861e+02],\n",
       "        [ 7.89349539e+01],\n",
       "        [-1.10273163e+00],\n",
       "        [-1.15006092e-01]])"
      ]
     },
     "metadata": {},
     "output_type": "display_data"
    },
    {
     "data": {
      "text/plain": [
       "matrix([[1.  , 0.  , 0.01, 0.  ],\n",
       "        [0.  , 1.  , 0.  , 0.01],\n",
       "        [0.  , 0.  , 1.  , 0.  ],\n",
       "        [0.  , 0.  , 0.  , 1.  ]])"
      ]
     },
     "metadata": {},
     "output_type": "display_data"
    },
    {
     "data": {
      "text/plain": [
       "matrix([[ 7.56853834e+02],\n",
       "        [ 7.89338038e+01],\n",
       "        [-1.10273163e+00],\n",
       "        [-1.15006092e-01]])"
      ]
     },
     "metadata": {},
     "output_type": "display_data"
    },
    {
     "data": {
      "text/plain": [
       "matrix([[1.  , 0.  , 0.01, 0.  ],\n",
       "        [0.  , 1.  , 0.  , 0.01],\n",
       "        [0.  , 0.  , 1.  , 0.  ],\n",
       "        [0.  , 0.  , 0.  , 1.  ]])"
      ]
     },
     "metadata": {},
     "output_type": "display_data"
    },
    {
     "data": {
      "text/plain": [
       "matrix([[ 7.56842807e+02],\n",
       "        [ 7.89326537e+01],\n",
       "        [-1.10273163e+00],\n",
       "        [-1.15006092e-01]])"
      ]
     },
     "metadata": {},
     "output_type": "display_data"
    },
    {
     "data": {
      "text/plain": [
       "matrix([[1.  , 0.  , 0.01, 0.  ],\n",
       "        [0.  , 1.  , 0.  , 0.01],\n",
       "        [0.  , 0.  , 1.  , 0.  ],\n",
       "        [0.  , 0.  , 0.  , 1.  ]])"
      ]
     },
     "metadata": {},
     "output_type": "display_data"
    },
    {
     "data": {
      "text/plain": [
       "matrix([[ 7.56831779e+02],\n",
       "        [ 7.89315037e+01],\n",
       "        [-1.10273163e+00],\n",
       "        [-1.15006092e-01]])"
      ]
     },
     "metadata": {},
     "output_type": "display_data"
    },
    {
     "data": {
      "text/plain": [
       "matrix([[1.  , 0.  , 0.01, 0.  ],\n",
       "        [0.  , 1.  , 0.  , 0.01],\n",
       "        [0.  , 0.  , 1.  , 0.  ],\n",
       "        [0.  , 0.  , 0.  , 1.  ]])"
      ]
     },
     "metadata": {},
     "output_type": "display_data"
    },
    {
     "data": {
      "text/plain": [
       "matrix([[ 7.56820752e+02],\n",
       "        [ 7.89303536e+01],\n",
       "        [-1.10273163e+00],\n",
       "        [-1.15006092e-01]])"
      ]
     },
     "metadata": {},
     "output_type": "display_data"
    },
    {
     "data": {
      "text/plain": [
       "matrix([[1.  , 0.  , 0.01, 0.  ],\n",
       "        [0.  , 1.  , 0.  , 0.01],\n",
       "        [0.  , 0.  , 1.  , 0.  ],\n",
       "        [0.  , 0.  , 0.  , 1.  ]])"
      ]
     },
     "metadata": {},
     "output_type": "display_data"
    },
    {
     "data": {
      "text/plain": [
       "matrix([[ 7.56809725e+02],\n",
       "        [ 7.89292036e+01],\n",
       "        [-1.10273163e+00],\n",
       "        [-1.15006092e-01]])"
      ]
     },
     "metadata": {},
     "output_type": "display_data"
    },
    {
     "data": {
      "text/plain": [
       "matrix([[1.  , 0.  , 0.01, 0.  ],\n",
       "        [0.  , 1.  , 0.  , 0.01],\n",
       "        [0.  , 0.  , 1.  , 0.  ],\n",
       "        [0.  , 0.  , 0.  , 1.  ]])"
      ]
     },
     "metadata": {},
     "output_type": "display_data"
    },
    {
     "data": {
      "text/plain": [
       "matrix([[ 7.56798697e+02],\n",
       "        [ 7.89280535e+01],\n",
       "        [-1.10273163e+00],\n",
       "        [-1.15006092e-01]])"
      ]
     },
     "metadata": {},
     "output_type": "display_data"
    },
    {
     "data": {
      "text/plain": [
       "matrix([[1.  , 0.  , 0.01, 0.  ],\n",
       "        [0.  , 1.  , 0.  , 0.01],\n",
       "        [0.  , 0.  , 1.  , 0.  ],\n",
       "        [0.  , 0.  , 0.  , 1.  ]])"
      ]
     },
     "metadata": {},
     "output_type": "display_data"
    },
    {
     "data": {
      "text/plain": [
       "matrix([[ 7.56787670e+02],\n",
       "        [ 7.89269034e+01],\n",
       "        [-1.10273163e+00],\n",
       "        [-1.15006092e-01]])"
      ]
     },
     "metadata": {},
     "output_type": "display_data"
    },
    {
     "data": {
      "text/plain": [
       "matrix([[1.  , 0.  , 0.01, 0.  ],\n",
       "        [0.  , 1.  , 0.  , 0.01],\n",
       "        [0.  , 0.  , 1.  , 0.  ],\n",
       "        [0.  , 0.  , 0.  , 1.  ]])"
      ]
     },
     "metadata": {},
     "output_type": "display_data"
    },
    {
     "data": {
      "text/plain": [
       "matrix([[ 7.56776643e+02],\n",
       "        [ 7.89257534e+01],\n",
       "        [-1.10273163e+00],\n",
       "        [-1.15006092e-01]])"
      ]
     },
     "metadata": {},
     "output_type": "display_data"
    },
    {
     "data": {
      "text/plain": [
       "matrix([[1.  , 0.  , 0.01, 0.  ],\n",
       "        [0.  , 1.  , 0.  , 0.01],\n",
       "        [0.  , 0.  , 1.  , 0.  ],\n",
       "        [0.  , 0.  , 0.  , 1.  ]])"
      ]
     },
     "metadata": {},
     "output_type": "display_data"
    },
    {
     "data": {
      "text/plain": [
       "matrix([[ 7.56765615e+02],\n",
       "        [ 7.89246033e+01],\n",
       "        [-1.10273163e+00],\n",
       "        [-1.15006092e-01]])"
      ]
     },
     "metadata": {},
     "output_type": "display_data"
    },
    {
     "data": {
      "text/plain": [
       "matrix([[1.  , 0.  , 0.01, 0.  ],\n",
       "        [0.  , 1.  , 0.  , 0.01],\n",
       "        [0.  , 0.  , 1.  , 0.  ],\n",
       "        [0.  , 0.  , 0.  , 1.  ]])"
      ]
     },
     "metadata": {},
     "output_type": "display_data"
    },
    {
     "data": {
      "text/plain": [
       "matrix([[ 7.56754588e+02],\n",
       "        [ 7.89234533e+01],\n",
       "        [-1.10273163e+00],\n",
       "        [-1.15006092e-01]])"
      ]
     },
     "metadata": {},
     "output_type": "display_data"
    },
    {
     "data": {
      "text/plain": [
       "matrix([[1.  , 0.  , 0.01, 0.  ],\n",
       "        [0.  , 1.  , 0.  , 0.01],\n",
       "        [0.  , 0.  , 1.  , 0.  ],\n",
       "        [0.  , 0.  , 0.  , 1.  ]])"
      ]
     },
     "metadata": {},
     "output_type": "display_data"
    },
    {
     "data": {
      "text/plain": [
       "matrix([[ 7.56743561e+02],\n",
       "        [ 7.89223032e+01],\n",
       "        [-1.10273163e+00],\n",
       "        [-1.15006092e-01]])"
      ]
     },
     "metadata": {},
     "output_type": "display_data"
    },
    {
     "data": {
      "text/plain": [
       "matrix([[1.  , 0.  , 0.01, 0.  ],\n",
       "        [0.  , 1.  , 0.  , 0.01],\n",
       "        [0.  , 0.  , 1.  , 0.  ],\n",
       "        [0.  , 0.  , 0.  , 1.  ]])"
      ]
     },
     "metadata": {},
     "output_type": "display_data"
    },
    {
     "data": {
      "text/plain": [
       "matrix([[ 7.56732534e+02],\n",
       "        [ 7.89211531e+01],\n",
       "        [-1.10273163e+00],\n",
       "        [-1.15006092e-01]])"
      ]
     },
     "metadata": {},
     "output_type": "display_data"
    },
    {
     "data": {
      "text/plain": [
       "matrix([[1.  , 0.  , 0.01, 0.  ],\n",
       "        [0.  , 1.  , 0.  , 0.01],\n",
       "        [0.  , 0.  , 1.  , 0.  ],\n",
       "        [0.  , 0.  , 0.  , 1.  ]])"
      ]
     },
     "metadata": {},
     "output_type": "display_data"
    },
    {
     "data": {
      "text/plain": [
       "matrix([[ 7.56721506e+02],\n",
       "        [ 7.89200031e+01],\n",
       "        [-1.10273163e+00],\n",
       "        [-1.15006092e-01]])"
      ]
     },
     "metadata": {},
     "output_type": "display_data"
    },
    {
     "data": {
      "text/plain": [
       "matrix([[1.  , 0.  , 0.01, 0.  ],\n",
       "        [0.  , 1.  , 0.  , 0.01],\n",
       "        [0.  , 0.  , 1.  , 0.  ],\n",
       "        [0.  , 0.  , 0.  , 1.  ]])"
      ]
     },
     "metadata": {},
     "output_type": "display_data"
    },
    {
     "data": {
      "text/plain": [
       "matrix([[ 7.56710479e+02],\n",
       "        [ 7.89188530e+01],\n",
       "        [-1.10273163e+00],\n",
       "        [-1.15006092e-01]])"
      ]
     },
     "metadata": {},
     "output_type": "display_data"
    },
    {
     "data": {
      "text/plain": [
       "matrix([[1.  , 0.  , 0.01, 0.  ],\n",
       "        [0.  , 1.  , 0.  , 0.01],\n",
       "        [0.  , 0.  , 1.  , 0.  ],\n",
       "        [0.  , 0.  , 0.  , 1.  ]])"
      ]
     },
     "metadata": {},
     "output_type": "display_data"
    },
    {
     "data": {
      "text/plain": [
       "matrix([[ 7.56699452e+02],\n",
       "        [ 7.89177030e+01],\n",
       "        [-1.10273163e+00],\n",
       "        [-1.15006092e-01]])"
      ]
     },
     "metadata": {},
     "output_type": "display_data"
    },
    {
     "data": {
      "text/plain": [
       "matrix([[1.  , 0.  , 0.01, 0.  ],\n",
       "        [0.  , 1.  , 0.  , 0.01],\n",
       "        [0.  , 0.  , 1.  , 0.  ],\n",
       "        [0.  , 0.  , 0.  , 1.  ]])"
      ]
     },
     "metadata": {},
     "output_type": "display_data"
    },
    {
     "data": {
      "text/plain": [
       "matrix([[ 7.56688424e+02],\n",
       "        [ 7.89165529e+01],\n",
       "        [-1.10273163e+00],\n",
       "        [-1.15006092e-01]])"
      ]
     },
     "metadata": {},
     "output_type": "display_data"
    },
    {
     "data": {
      "text/plain": [
       "matrix([[1.  , 0.  , 0.01, 0.  ],\n",
       "        [0.  , 1.  , 0.  , 0.01],\n",
       "        [0.  , 0.  , 1.  , 0.  ],\n",
       "        [0.  , 0.  , 0.  , 1.  ]])"
      ]
     },
     "metadata": {},
     "output_type": "display_data"
    },
    {
     "data": {
      "text/plain": [
       "matrix([[ 7.56677397e+02],\n",
       "        [ 7.89154028e+01],\n",
       "        [-1.10273163e+00],\n",
       "        [-1.15006092e-01]])"
      ]
     },
     "metadata": {},
     "output_type": "display_data"
    },
    {
     "data": {
      "text/plain": [
       "matrix([[1.  , 0.  , 0.01, 0.  ],\n",
       "        [0.  , 1.  , 0.  , 0.01],\n",
       "        [0.  , 0.  , 1.  , 0.  ],\n",
       "        [0.  , 0.  , 0.  , 1.  ]])"
      ]
     },
     "metadata": {},
     "output_type": "display_data"
    },
    {
     "data": {
      "text/plain": [
       "matrix([[ 7.56666370e+02],\n",
       "        [ 7.89142528e+01],\n",
       "        [-1.10273163e+00],\n",
       "        [-1.15006092e-01]])"
      ]
     },
     "metadata": {},
     "output_type": "display_data"
    },
    {
     "data": {
      "text/plain": [
       "matrix([[1.  , 0.  , 0.01, 0.  ],\n",
       "        [0.  , 1.  , 0.  , 0.01],\n",
       "        [0.  , 0.  , 1.  , 0.  ],\n",
       "        [0.  , 0.  , 0.  , 1.  ]])"
      ]
     },
     "metadata": {},
     "output_type": "display_data"
    },
    {
     "data": {
      "text/plain": [
       "matrix([[ 7.56655342e+02],\n",
       "        [ 7.89131027e+01],\n",
       "        [-1.10273163e+00],\n",
       "        [-1.15006092e-01]])"
      ]
     },
     "metadata": {},
     "output_type": "display_data"
    },
    {
     "data": {
      "text/plain": [
       "matrix([[1.  , 0.  , 0.01, 0.  ],\n",
       "        [0.  , 1.  , 0.  , 0.01],\n",
       "        [0.  , 0.  , 1.  , 0.  ],\n",
       "        [0.  , 0.  , 0.  , 1.  ]])"
      ]
     },
     "metadata": {},
     "output_type": "display_data"
    },
    {
     "data": {
      "text/plain": [
       "matrix([[ 7.56644315e+02],\n",
       "        [ 7.89119527e+01],\n",
       "        [-1.10273163e+00],\n",
       "        [-1.15006092e-01]])"
      ]
     },
     "metadata": {},
     "output_type": "display_data"
    },
    {
     "data": {
      "text/plain": [
       "matrix([[1.  , 0.  , 0.01, 0.  ],\n",
       "        [0.  , 1.  , 0.  , 0.01],\n",
       "        [0.  , 0.  , 1.  , 0.  ],\n",
       "        [0.  , 0.  , 0.  , 1.  ]])"
      ]
     },
     "metadata": {},
     "output_type": "display_data"
    },
    {
     "data": {
      "text/plain": [
       "matrix([[ 7.56633288e+02],\n",
       "        [ 7.89108026e+01],\n",
       "        [-1.10273163e+00],\n",
       "        [-1.15006092e-01]])"
      ]
     },
     "metadata": {},
     "output_type": "display_data"
    },
    {
     "data": {
      "text/plain": [
       "matrix([[1.  , 0.  , 0.01, 0.  ],\n",
       "        [0.  , 1.  , 0.  , 0.01],\n",
       "        [0.  , 0.  , 1.  , 0.  ],\n",
       "        [0.  , 0.  , 0.  , 1.  ]])"
      ]
     },
     "metadata": {},
     "output_type": "display_data"
    },
    {
     "data": {
      "text/plain": [
       "matrix([[ 7.56622260e+02],\n",
       "        [ 7.89096525e+01],\n",
       "        [-1.10273163e+00],\n",
       "        [-1.15006092e-01]])"
      ]
     },
     "metadata": {},
     "output_type": "display_data"
    },
    {
     "data": {
      "text/plain": [
       "matrix([[1.  , 0.  , 0.01, 0.  ],\n",
       "        [0.  , 1.  , 0.  , 0.01],\n",
       "        [0.  , 0.  , 1.  , 0.  ],\n",
       "        [0.  , 0.  , 0.  , 1.  ]])"
      ]
     },
     "metadata": {},
     "output_type": "display_data"
    },
    {
     "data": {
      "text/plain": [
       "matrix([[ 7.56611233e+02],\n",
       "        [ 7.89085025e+01],\n",
       "        [-1.10273163e+00],\n",
       "        [-1.15006092e-01]])"
      ]
     },
     "metadata": {},
     "output_type": "display_data"
    },
    {
     "data": {
      "text/plain": [
       "matrix([[1.  , 0.  , 0.01, 0.  ],\n",
       "        [0.  , 1.  , 0.  , 0.01],\n",
       "        [0.  , 0.  , 1.  , 0.  ],\n",
       "        [0.  , 0.  , 0.  , 1.  ]])"
      ]
     },
     "metadata": {},
     "output_type": "display_data"
    },
    {
     "data": {
      "text/plain": [
       "matrix([[ 7.56600206e+02],\n",
       "        [ 7.89073524e+01],\n",
       "        [-1.10273163e+00],\n",
       "        [-1.15006092e-01]])"
      ]
     },
     "metadata": {},
     "output_type": "display_data"
    },
    {
     "data": {
      "text/plain": [
       "matrix([[1.  , 0.  , 0.01, 0.  ],\n",
       "        [0.  , 1.  , 0.  , 0.01],\n",
       "        [0.  , 0.  , 1.  , 0.  ],\n",
       "        [0.  , 0.  , 0.  , 1.  ]])"
      ]
     },
     "metadata": {},
     "output_type": "display_data"
    },
    {
     "data": {
      "text/plain": [
       "matrix([[ 7.56589178e+02],\n",
       "        [ 7.89062023e+01],\n",
       "        [-1.10273163e+00],\n",
       "        [-1.15006092e-01]])"
      ]
     },
     "metadata": {},
     "output_type": "display_data"
    },
    {
     "data": {
      "text/plain": [
       "matrix([[1.  , 0.  , 0.01, 0.  ],\n",
       "        [0.  , 1.  , 0.  , 0.01],\n",
       "        [0.  , 0.  , 1.  , 0.  ],\n",
       "        [0.  , 0.  , 0.  , 1.  ]])"
      ]
     },
     "metadata": {},
     "output_type": "display_data"
    },
    {
     "data": {
      "text/plain": [
       "matrix([[ 7.56578151e+02],\n",
       "        [ 7.89050523e+01],\n",
       "        [-1.10273163e+00],\n",
       "        [-1.15006092e-01]])"
      ]
     },
     "metadata": {},
     "output_type": "display_data"
    },
    {
     "data": {
      "text/plain": [
       "matrix([[1.  , 0.  , 0.01, 0.  ],\n",
       "        [0.  , 1.  , 0.  , 0.01],\n",
       "        [0.  , 0.  , 1.  , 0.  ],\n",
       "        [0.  , 0.  , 0.  , 1.  ]])"
      ]
     },
     "metadata": {},
     "output_type": "display_data"
    },
    {
     "data": {
      "text/plain": [
       "matrix([[ 7.56567124e+02],\n",
       "        [ 7.89039022e+01],\n",
       "        [-1.10273163e+00],\n",
       "        [-1.15006092e-01]])"
      ]
     },
     "metadata": {},
     "output_type": "display_data"
    },
    {
     "data": {
      "text/plain": [
       "matrix([[1.  , 0.  , 0.01, 0.  ],\n",
       "        [0.  , 1.  , 0.  , 0.01],\n",
       "        [0.  , 0.  , 1.  , 0.  ],\n",
       "        [0.  , 0.  , 0.  , 1.  ]])"
      ]
     },
     "metadata": {},
     "output_type": "display_data"
    },
    {
     "data": {
      "text/plain": [
       "matrix([[ 7.56556096e+02],\n",
       "        [ 7.89027522e+01],\n",
       "        [-1.10273163e+00],\n",
       "        [-1.15006092e-01]])"
      ]
     },
     "metadata": {},
     "output_type": "display_data"
    },
    {
     "data": {
      "text/plain": [
       "matrix([[1.  , 0.  , 0.01, 0.  ],\n",
       "        [0.  , 1.  , 0.  , 0.01],\n",
       "        [0.  , 0.  , 1.  , 0.  ],\n",
       "        [0.  , 0.  , 0.  , 1.  ]])"
      ]
     },
     "metadata": {},
     "output_type": "display_data"
    },
    {
     "data": {
      "text/plain": [
       "matrix([[ 7.56545069e+02],\n",
       "        [ 7.89016021e+01],\n",
       "        [-1.10273163e+00],\n",
       "        [-1.15006092e-01]])"
      ]
     },
     "metadata": {},
     "output_type": "display_data"
    },
    {
     "data": {
      "text/plain": [
       "matrix([[1.  , 0.  , 0.01, 0.  ],\n",
       "        [0.  , 1.  , 0.  , 0.01],\n",
       "        [0.  , 0.  , 1.  , 0.  ],\n",
       "        [0.  , 0.  , 0.  , 1.  ]])"
      ]
     },
     "metadata": {},
     "output_type": "display_data"
    },
    {
     "data": {
      "text/plain": [
       "matrix([[ 7.56534042e+02],\n",
       "        [ 7.89004520e+01],\n",
       "        [-1.10273163e+00],\n",
       "        [-1.15006092e-01]])"
      ]
     },
     "metadata": {},
     "output_type": "display_data"
    },
    {
     "data": {
      "text/plain": [
       "matrix([[1.  , 0.  , 0.01, 0.  ],\n",
       "        [0.  , 1.  , 0.  , 0.01],\n",
       "        [0.  , 0.  , 1.  , 0.  ],\n",
       "        [0.  , 0.  , 0.  , 1.  ]])"
      ]
     },
     "metadata": {},
     "output_type": "display_data"
    },
    {
     "data": {
      "text/plain": [
       "matrix([[ 7.56523015e+02],\n",
       "        [ 7.88993020e+01],\n",
       "        [-1.10273163e+00],\n",
       "        [-1.15006092e-01]])"
      ]
     },
     "metadata": {},
     "output_type": "display_data"
    },
    {
     "data": {
      "text/plain": [
       "matrix([[1.  , 0.  , 0.01, 0.  ],\n",
       "        [0.  , 1.  , 0.  , 0.01],\n",
       "        [0.  , 0.  , 1.  , 0.  ],\n",
       "        [0.  , 0.  , 0.  , 1.  ]])"
      ]
     },
     "metadata": {},
     "output_type": "display_data"
    },
    {
     "data": {
      "text/plain": [
       "matrix([[ 7.56511987e+02],\n",
       "        [ 7.88981519e+01],\n",
       "        [-1.10273163e+00],\n",
       "        [-1.15006092e-01]])"
      ]
     },
     "metadata": {},
     "output_type": "display_data"
    },
    {
     "data": {
      "text/plain": [
       "matrix([[1.  , 0.  , 0.01, 0.  ],\n",
       "        [0.  , 1.  , 0.  , 0.01],\n",
       "        [0.  , 0.  , 1.  , 0.  ],\n",
       "        [0.  , 0.  , 0.  , 1.  ]])"
      ]
     },
     "metadata": {},
     "output_type": "display_data"
    },
    {
     "data": {
      "text/plain": [
       "matrix([[ 7.56500960e+02],\n",
       "        [ 7.88970019e+01],\n",
       "        [-1.10273163e+00],\n",
       "        [-1.15006092e-01]])"
      ]
     },
     "metadata": {},
     "output_type": "display_data"
    },
    {
     "data": {
      "text/plain": [
       "matrix([[1.  , 0.  , 0.01, 0.  ],\n",
       "        [0.  , 1.  , 0.  , 0.01],\n",
       "        [0.  , 0.  , 1.  , 0.  ],\n",
       "        [0.  , 0.  , 0.  , 1.  ]])"
      ]
     },
     "metadata": {},
     "output_type": "display_data"
    },
    {
     "data": {
      "text/plain": [
       "matrix([[ 7.56489933e+02],\n",
       "        [ 7.88958518e+01],\n",
       "        [-1.10273163e+00],\n",
       "        [-1.15006092e-01]])"
      ]
     },
     "metadata": {},
     "output_type": "display_data"
    },
    {
     "data": {
      "text/plain": [
       "matrix([[1.  , 0.  , 0.01, 0.  ],\n",
       "        [0.  , 1.  , 0.  , 0.01],\n",
       "        [0.  , 0.  , 1.  , 0.  ],\n",
       "        [0.  , 0.  , 0.  , 1.  ]])"
      ]
     },
     "metadata": {},
     "output_type": "display_data"
    },
    {
     "data": {
      "text/plain": [
       "matrix([[ 7.56478905e+02],\n",
       "        [ 7.88947017e+01],\n",
       "        [-1.10273163e+00],\n",
       "        [-1.15006092e-01]])"
      ]
     },
     "metadata": {},
     "output_type": "display_data"
    },
    {
     "data": {
      "text/plain": [
       "matrix([[1.  , 0.  , 0.01, 0.  ],\n",
       "        [0.  , 1.  , 0.  , 0.01],\n",
       "        [0.  , 0.  , 1.  , 0.  ],\n",
       "        [0.  , 0.  , 0.  , 1.  ]])"
      ]
     },
     "metadata": {},
     "output_type": "display_data"
    },
    {
     "data": {
      "text/plain": [
       "matrix([[ 7.56467878e+02],\n",
       "        [ 7.88935517e+01],\n",
       "        [-1.10273163e+00],\n",
       "        [-1.15006092e-01]])"
      ]
     },
     "metadata": {},
     "output_type": "display_data"
    },
    {
     "data": {
      "text/plain": [
       "matrix([[1.  , 0.  , 0.01, 0.  ],\n",
       "        [0.  , 1.  , 0.  , 0.01],\n",
       "        [0.  , 0.  , 1.  , 0.  ],\n",
       "        [0.  , 0.  , 0.  , 1.  ]])"
      ]
     },
     "metadata": {},
     "output_type": "display_data"
    },
    {
     "data": {
      "text/plain": [
       "matrix([[ 7.56456851e+02],\n",
       "        [ 7.88924016e+01],\n",
       "        [-1.10273163e+00],\n",
       "        [-1.15006092e-01]])"
      ]
     },
     "metadata": {},
     "output_type": "display_data"
    },
    {
     "data": {
      "text/plain": [
       "matrix([[1.  , 0.  , 0.01, 0.  ],\n",
       "        [0.  , 1.  , 0.  , 0.01],\n",
       "        [0.  , 0.  , 1.  , 0.  ],\n",
       "        [0.  , 0.  , 0.  , 1.  ]])"
      ]
     },
     "metadata": {},
     "output_type": "display_data"
    },
    {
     "data": {
      "text/plain": [
       "matrix([[ 7.56445823e+02],\n",
       "        [ 7.88912516e+01],\n",
       "        [-1.10273163e+00],\n",
       "        [-1.15006092e-01]])"
      ]
     },
     "metadata": {},
     "output_type": "display_data"
    },
    {
     "data": {
      "text/plain": [
       "matrix([[1.  , 0.  , 0.01, 0.  ],\n",
       "        [0.  , 1.  , 0.  , 0.01],\n",
       "        [0.  , 0.  , 1.  , 0.  ],\n",
       "        [0.  , 0.  , 0.  , 1.  ]])"
      ]
     },
     "metadata": {},
     "output_type": "display_data"
    },
    {
     "data": {
      "text/plain": [
       "matrix([[ 7.56434796e+02],\n",
       "        [ 7.88901015e+01],\n",
       "        [-1.10273163e+00],\n",
       "        [-1.15006092e-01]])"
      ]
     },
     "metadata": {},
     "output_type": "display_data"
    },
    {
     "data": {
      "text/plain": [
       "matrix([[1.  , 0.  , 0.01, 0.  ],\n",
       "        [0.  , 1.  , 0.  , 0.01],\n",
       "        [0.  , 0.  , 1.  , 0.  ],\n",
       "        [0.  , 0.  , 0.  , 1.  ]])"
      ]
     },
     "metadata": {},
     "output_type": "display_data"
    },
    {
     "data": {
      "text/plain": [
       "matrix([[ 7.56423769e+02],\n",
       "        [ 7.88889514e+01],\n",
       "        [-1.10273163e+00],\n",
       "        [-1.15006092e-01]])"
      ]
     },
     "metadata": {},
     "output_type": "display_data"
    },
    {
     "data": {
      "text/plain": [
       "matrix([[1.  , 0.  , 0.01, 0.  ],\n",
       "        [0.  , 1.  , 0.  , 0.01],\n",
       "        [0.  , 0.  , 1.  , 0.  ],\n",
       "        [0.  , 0.  , 0.  , 1.  ]])"
      ]
     },
     "metadata": {},
     "output_type": "display_data"
    },
    {
     "data": {
      "text/plain": [
       "matrix([[ 7.56412741e+02],\n",
       "        [ 7.88878014e+01],\n",
       "        [-1.10273163e+00],\n",
       "        [-1.15006092e-01]])"
      ]
     },
     "metadata": {},
     "output_type": "display_data"
    },
    {
     "data": {
      "text/plain": [
       "matrix([[1.  , 0.  , 0.01, 0.  ],\n",
       "        [0.  , 1.  , 0.  , 0.01],\n",
       "        [0.  , 0.  , 1.  , 0.  ],\n",
       "        [0.  , 0.  , 0.  , 1.  ]])"
      ]
     },
     "metadata": {},
     "output_type": "display_data"
    },
    {
     "data": {
      "text/plain": [
       "matrix([[ 7.56401714e+02],\n",
       "        [ 7.88866513e+01],\n",
       "        [-1.10273163e+00],\n",
       "        [-1.15006092e-01]])"
      ]
     },
     "metadata": {},
     "output_type": "display_data"
    },
    {
     "data": {
      "text/plain": [
       "matrix([[1.  , 0.  , 0.01, 0.  ],\n",
       "        [0.  , 1.  , 0.  , 0.01],\n",
       "        [0.  , 0.  , 1.  , 0.  ],\n",
       "        [0.  , 0.  , 0.  , 1.  ]])"
      ]
     },
     "metadata": {},
     "output_type": "display_data"
    },
    {
     "data": {
      "text/plain": [
       "matrix([[ 7.56390687e+02],\n",
       "        [ 7.88855012e+01],\n",
       "        [-1.10273163e+00],\n",
       "        [-1.15006092e-01]])"
      ]
     },
     "metadata": {},
     "output_type": "display_data"
    },
    {
     "data": {
      "text/plain": [
       "matrix([[1.  , 0.  , 0.01, 0.  ],\n",
       "        [0.  , 1.  , 0.  , 0.01],\n",
       "        [0.  , 0.  , 1.  , 0.  ],\n",
       "        [0.  , 0.  , 0.  , 1.  ]])"
      ]
     },
     "metadata": {},
     "output_type": "display_data"
    },
    {
     "data": {
      "text/plain": [
       "matrix([[ 7.56379659e+02],\n",
       "        [ 7.88843512e+01],\n",
       "        [-1.10273163e+00],\n",
       "        [-1.15006092e-01]])"
      ]
     },
     "metadata": {},
     "output_type": "display_data"
    },
    {
     "data": {
      "text/plain": [
       "matrix([[1.  , 0.  , 0.01, 0.  ],\n",
       "        [0.  , 1.  , 0.  , 0.01],\n",
       "        [0.  , 0.  , 1.  , 0.  ],\n",
       "        [0.  , 0.  , 0.  , 1.  ]])"
      ]
     },
     "metadata": {},
     "output_type": "display_data"
    },
    {
     "data": {
      "text/plain": [
       "matrix([[ 7.56368632e+02],\n",
       "        [ 7.88832011e+01],\n",
       "        [-1.10273163e+00],\n",
       "        [-1.15006092e-01]])"
      ]
     },
     "metadata": {},
     "output_type": "display_data"
    },
    {
     "data": {
      "text/plain": [
       "matrix([[1.  , 0.  , 0.01, 0.  ],\n",
       "        [0.  , 1.  , 0.  , 0.01],\n",
       "        [0.  , 0.  , 1.  , 0.  ],\n",
       "        [0.  , 0.  , 0.  , 1.  ]])"
      ]
     },
     "metadata": {},
     "output_type": "display_data"
    },
    {
     "data": {
      "text/plain": [
       "matrix([[ 7.56357605e+02],\n",
       "        [ 7.88820511e+01],\n",
       "        [-1.10273163e+00],\n",
       "        [-1.15006092e-01]])"
      ]
     },
     "metadata": {},
     "output_type": "display_data"
    },
    {
     "data": {
      "text/plain": [
       "matrix([[1.  , 0.  , 0.01, 0.  ],\n",
       "        [0.  , 1.  , 0.  , 0.01],\n",
       "        [0.  , 0.  , 1.  , 0.  ],\n",
       "        [0.  , 0.  , 0.  , 1.  ]])"
      ]
     },
     "metadata": {},
     "output_type": "display_data"
    },
    {
     "data": {
      "text/plain": [
       "matrix([[ 7.56346577e+02],\n",
       "        [ 7.88809010e+01],\n",
       "        [-1.10273163e+00],\n",
       "        [-1.15006092e-01]])"
      ]
     },
     "metadata": {},
     "output_type": "display_data"
    },
    {
     "data": {
      "text/plain": [
       "matrix([[1.  , 0.  , 0.01, 0.  ],\n",
       "        [0.  , 1.  , 0.  , 0.01],\n",
       "        [0.  , 0.  , 1.  , 0.  ],\n",
       "        [0.  , 0.  , 0.  , 1.  ]])"
      ]
     },
     "metadata": {},
     "output_type": "display_data"
    },
    {
     "data": {
      "text/plain": [
       "matrix([[ 7.56335550e+02],\n",
       "        [ 7.88797509e+01],\n",
       "        [-1.10273163e+00],\n",
       "        [-1.15006092e-01]])"
      ]
     },
     "metadata": {},
     "output_type": "display_data"
    },
    {
     "data": {
      "text/plain": [
       "matrix([[1.  , 0.  , 0.01, 0.  ],\n",
       "        [0.  , 1.  , 0.  , 0.01],\n",
       "        [0.  , 0.  , 1.  , 0.  ],\n",
       "        [0.  , 0.  , 0.  , 1.  ]])"
      ]
     },
     "metadata": {},
     "output_type": "display_data"
    },
    {
     "data": {
      "text/plain": [
       "matrix([[ 7.56324523e+02],\n",
       "        [ 7.88786009e+01],\n",
       "        [-1.10273163e+00],\n",
       "        [-1.15006092e-01]])"
      ]
     },
     "metadata": {},
     "output_type": "display_data"
    },
    {
     "data": {
      "text/plain": [
       "matrix([[1.  , 0.  , 0.01, 0.  ],\n",
       "        [0.  , 1.  , 0.  , 0.01],\n",
       "        [0.  , 0.  , 1.  , 0.  ],\n",
       "        [0.  , 0.  , 0.  , 1.  ]])"
      ]
     },
     "metadata": {},
     "output_type": "display_data"
    },
    {
     "data": {
      "text/plain": [
       "matrix([[ 7.56313495e+02],\n",
       "        [ 7.88774508e+01],\n",
       "        [-1.10273163e+00],\n",
       "        [-1.15006092e-01]])"
      ]
     },
     "metadata": {},
     "output_type": "display_data"
    },
    {
     "data": {
      "text/plain": [
       "matrix([[1.  , 0.  , 0.01, 0.  ],\n",
       "        [0.  , 1.  , 0.  , 0.01],\n",
       "        [0.  , 0.  , 1.  , 0.  ],\n",
       "        [0.  , 0.  , 0.  , 1.  ]])"
      ]
     },
     "metadata": {},
     "output_type": "display_data"
    },
    {
     "data": {
      "text/plain": [
       "matrix([[ 7.56302468e+02],\n",
       "        [ 7.88763008e+01],\n",
       "        [-1.10273163e+00],\n",
       "        [-1.15006092e-01]])"
      ]
     },
     "metadata": {},
     "output_type": "display_data"
    },
    {
     "data": {
      "text/plain": [
       "matrix([[1.  , 0.  , 0.01, 0.  ],\n",
       "        [0.  , 1.  , 0.  , 0.01],\n",
       "        [0.  , 0.  , 1.  , 0.  ],\n",
       "        [0.  , 0.  , 0.  , 1.  ]])"
      ]
     },
     "metadata": {},
     "output_type": "display_data"
    },
    {
     "data": {
      "text/plain": [
       "matrix([[ 7.56291441e+02],\n",
       "        [ 7.88751507e+01],\n",
       "        [-1.10273163e+00],\n",
       "        [-1.15006092e-01]])"
      ]
     },
     "metadata": {},
     "output_type": "display_data"
    },
    {
     "data": {
      "text/plain": [
       "matrix([[1.  , 0.  , 0.01, 0.  ],\n",
       "        [0.  , 1.  , 0.  , 0.01],\n",
       "        [0.  , 0.  , 1.  , 0.  ],\n",
       "        [0.  , 0.  , 0.  , 1.  ]])"
      ]
     },
     "metadata": {},
     "output_type": "display_data"
    },
    {
     "data": {
      "text/plain": [
       "matrix([[ 7.56280414e+02],\n",
       "        [ 7.88740006e+01],\n",
       "        [-1.10273163e+00],\n",
       "        [-1.15006092e-01]])"
      ]
     },
     "metadata": {},
     "output_type": "display_data"
    },
    {
     "data": {
      "text/plain": [
       "matrix([[1.  , 0.  , 0.01, 0.  ],\n",
       "        [0.  , 1.  , 0.  , 0.01],\n",
       "        [0.  , 0.  , 1.  , 0.  ],\n",
       "        [0.  , 0.  , 0.  , 1.  ]])"
      ]
     },
     "metadata": {},
     "output_type": "display_data"
    },
    {
     "data": {
      "text/plain": [
       "matrix([[ 7.56269386e+02],\n",
       "        [ 7.88728506e+01],\n",
       "        [-1.10273163e+00],\n",
       "        [-1.15006092e-01]])"
      ]
     },
     "metadata": {},
     "output_type": "display_data"
    },
    {
     "data": {
      "text/plain": [
       "matrix([[1.  , 0.  , 0.01, 0.  ],\n",
       "        [0.  , 1.  , 0.  , 0.01],\n",
       "        [0.  , 0.  , 1.  , 0.  ],\n",
       "        [0.  , 0.  , 0.  , 1.  ]])"
      ]
     },
     "metadata": {},
     "output_type": "display_data"
    },
    {
     "data": {
      "text/plain": [
       "matrix([[ 7.56258359e+02],\n",
       "        [ 7.88717005e+01],\n",
       "        [-1.10273163e+00],\n",
       "        [-1.15006092e-01]])"
      ]
     },
     "metadata": {},
     "output_type": "display_data"
    },
    {
     "data": {
      "text/plain": [
       "matrix([[1.  , 0.  , 0.01, 0.  ],\n",
       "        [0.  , 1.  , 0.  , 0.01],\n",
       "        [0.  , 0.  , 1.  , 0.  ],\n",
       "        [0.  , 0.  , 0.  , 1.  ]])"
      ]
     },
     "metadata": {},
     "output_type": "display_data"
    },
    {
     "data": {
      "text/plain": [
       "matrix([[ 7.56247332e+02],\n",
       "        [ 7.88705505e+01],\n",
       "        [-1.10273163e+00],\n",
       "        [-1.15006092e-01]])"
      ]
     },
     "metadata": {},
     "output_type": "display_data"
    },
    {
     "data": {
      "text/plain": [
       "matrix([[1.  , 0.  , 0.01, 0.  ],\n",
       "        [0.  , 1.  , 0.  , 0.01],\n",
       "        [0.  , 0.  , 1.  , 0.  ],\n",
       "        [0.  , 0.  , 0.  , 1.  ]])"
      ]
     },
     "metadata": {},
     "output_type": "display_data"
    },
    {
     "data": {
      "text/plain": [
       "matrix([[ 7.56236304e+02],\n",
       "        [ 7.88694004e+01],\n",
       "        [-1.10273163e+00],\n",
       "        [-1.15006092e-01]])"
      ]
     },
     "metadata": {},
     "output_type": "display_data"
    },
    {
     "data": {
      "text/plain": [
       "matrix([[1.  , 0.  , 0.01, 0.  ],\n",
       "        [0.  , 1.  , 0.  , 0.01],\n",
       "        [0.  , 0.  , 1.  , 0.  ],\n",
       "        [0.  , 0.  , 0.  , 1.  ]])"
      ]
     },
     "metadata": {},
     "output_type": "display_data"
    },
    {
     "data": {
      "text/plain": [
       "matrix([[ 7.56225277e+02],\n",
       "        [ 7.88682503e+01],\n",
       "        [-1.10273163e+00],\n",
       "        [-1.15006092e-01]])"
      ]
     },
     "metadata": {},
     "output_type": "display_data"
    },
    {
     "data": {
      "text/plain": [
       "matrix([[1.  , 0.  , 0.01, 0.  ],\n",
       "        [0.  , 1.  , 0.  , 0.01],\n",
       "        [0.  , 0.  , 1.  , 0.  ],\n",
       "        [0.  , 0.  , 0.  , 1.  ]])"
      ]
     },
     "metadata": {},
     "output_type": "display_data"
    },
    {
     "data": {
      "text/plain": [
       "matrix([[ 7.56214250e+02],\n",
       "        [ 7.88671003e+01],\n",
       "        [-1.10273163e+00],\n",
       "        [-1.15006092e-01]])"
      ]
     },
     "metadata": {},
     "output_type": "display_data"
    },
    {
     "data": {
      "text/plain": [
       "matrix([[1.  , 0.  , 0.01, 0.  ],\n",
       "        [0.  , 1.  , 0.  , 0.01],\n",
       "        [0.  , 0.  , 1.  , 0.  ],\n",
       "        [0.  , 0.  , 0.  , 1.  ]])"
      ]
     },
     "metadata": {},
     "output_type": "display_data"
    },
    {
     "data": {
      "text/plain": [
       "matrix([[ 7.56203222e+02],\n",
       "        [ 7.88659502e+01],\n",
       "        [-1.10273163e+00],\n",
       "        [-1.15006092e-01]])"
      ]
     },
     "metadata": {},
     "output_type": "display_data"
    },
    {
     "data": {
      "text/plain": [
       "matrix([[1.  , 0.  , 0.01, 0.  ],\n",
       "        [0.  , 1.  , 0.  , 0.01],\n",
       "        [0.  , 0.  , 1.  , 0.  ],\n",
       "        [0.  , 0.  , 0.  , 1.  ]])"
      ]
     },
     "metadata": {},
     "output_type": "display_data"
    },
    {
     "data": {
      "text/plain": [
       "matrix([[ 7.56192195e+02],\n",
       "        [ 7.88648002e+01],\n",
       "        [-1.10273163e+00],\n",
       "        [-1.15006092e-01]])"
      ]
     },
     "metadata": {},
     "output_type": "display_data"
    },
    {
     "data": {
      "text/plain": [
       "matrix([[1.  , 0.  , 0.01, 0.  ],\n",
       "        [0.  , 1.  , 0.  , 0.01],\n",
       "        [0.  , 0.  , 1.  , 0.  ],\n",
       "        [0.  , 0.  , 0.  , 1.  ]])"
      ]
     },
     "metadata": {},
     "output_type": "display_data"
    },
    {
     "data": {
      "text/plain": [
       "matrix([[ 7.56181168e+02],\n",
       "        [ 7.88636501e+01],\n",
       "        [-1.10273163e+00],\n",
       "        [-1.15006092e-01]])"
      ]
     },
     "metadata": {},
     "output_type": "display_data"
    },
    {
     "data": {
      "text/plain": [
       "matrix([[1.  , 0.  , 0.01, 0.  ],\n",
       "        [0.  , 1.  , 0.  , 0.01],\n",
       "        [0.  , 0.  , 1.  , 0.  ],\n",
       "        [0.  , 0.  , 0.  , 1.  ]])"
      ]
     },
     "metadata": {},
     "output_type": "display_data"
    },
    {
     "data": {
      "text/plain": [
       "matrix([[ 7.56170140e+02],\n",
       "        [ 7.88625000e+01],\n",
       "        [-1.10273163e+00],\n",
       "        [-1.15006092e-01]])"
      ]
     },
     "metadata": {},
     "output_type": "display_data"
    },
    {
     "data": {
      "text/plain": [
       "matrix([[1.  , 0.  , 0.01, 0.  ],\n",
       "        [0.  , 1.  , 0.  , 0.01],\n",
       "        [0.  , 0.  , 1.  , 0.  ],\n",
       "        [0.  , 0.  , 0.  , 1.  ]])"
      ]
     },
     "metadata": {},
     "output_type": "display_data"
    },
    {
     "data": {
      "text/plain": [
       "matrix([[ 7.56159113e+02],\n",
       "        [ 7.88613500e+01],\n",
       "        [-1.10273163e+00],\n",
       "        [-1.15006092e-01]])"
      ]
     },
     "metadata": {},
     "output_type": "display_data"
    },
    {
     "data": {
      "text/plain": [
       "matrix([[1.  , 0.  , 0.01, 0.  ],\n",
       "        [0.  , 1.  , 0.  , 0.01],\n",
       "        [0.  , 0.  , 1.  , 0.  ],\n",
       "        [0.  , 0.  , 0.  , 1.  ]])"
      ]
     },
     "metadata": {},
     "output_type": "display_data"
    },
    {
     "data": {
      "text/plain": [
       "matrix([[ 7.56148086e+02],\n",
       "        [ 7.88601999e+01],\n",
       "        [-1.10273163e+00],\n",
       "        [-1.15006092e-01]])"
      ]
     },
     "metadata": {},
     "output_type": "display_data"
    },
    {
     "data": {
      "text/plain": [
       "matrix([[1.  , 0.  , 0.01, 0.  ],\n",
       "        [0.  , 1.  , 0.  , 0.01],\n",
       "        [0.  , 0.  , 1.  , 0.  ],\n",
       "        [0.  , 0.  , 0.  , 1.  ]])"
      ]
     },
     "metadata": {},
     "output_type": "display_data"
    },
    {
     "data": {
      "text/plain": [
       "matrix([[ 7.56137058e+02],\n",
       "        [ 7.88590498e+01],\n",
       "        [-1.10273163e+00],\n",
       "        [-1.15006092e-01]])"
      ]
     },
     "metadata": {},
     "output_type": "display_data"
    },
    {
     "data": {
      "text/plain": [
       "matrix([[1.  , 0.  , 0.01, 0.  ],\n",
       "        [0.  , 1.  , 0.  , 0.01],\n",
       "        [0.  , 0.  , 1.  , 0.  ],\n",
       "        [0.  , 0.  , 0.  , 1.  ]])"
      ]
     },
     "metadata": {},
     "output_type": "display_data"
    },
    {
     "data": {
      "text/plain": [
       "matrix([[ 7.56126031e+02],\n",
       "        [ 7.88578998e+01],\n",
       "        [-1.10273163e+00],\n",
       "        [-1.15006092e-01]])"
      ]
     },
     "metadata": {},
     "output_type": "display_data"
    },
    {
     "data": {
      "text/plain": [
       "matrix([[1.  , 0.  , 0.01, 0.  ],\n",
       "        [0.  , 1.  , 0.  , 0.01],\n",
       "        [0.  , 0.  , 1.  , 0.  ],\n",
       "        [0.  , 0.  , 0.  , 1.  ]])"
      ]
     },
     "metadata": {},
     "output_type": "display_data"
    },
    {
     "data": {
      "text/plain": [
       "matrix([[ 7.56115004e+02],\n",
       "        [ 7.88567497e+01],\n",
       "        [-1.10273163e+00],\n",
       "        [-1.15006092e-01]])"
      ]
     },
     "metadata": {},
     "output_type": "display_data"
    },
    {
     "data": {
      "text/plain": [
       "matrix([[1.  , 0.  , 0.01, 0.  ],\n",
       "        [0.  , 1.  , 0.  , 0.01],\n",
       "        [0.  , 0.  , 1.  , 0.  ],\n",
       "        [0.  , 0.  , 0.  , 1.  ]])"
      ]
     },
     "metadata": {},
     "output_type": "display_data"
    },
    {
     "data": {
      "text/plain": [
       "matrix([[ 7.56103976e+02],\n",
       "        [ 7.88555997e+01],\n",
       "        [-1.10273163e+00],\n",
       "        [-1.15006092e-01]])"
      ]
     },
     "metadata": {},
     "output_type": "display_data"
    },
    {
     "data": {
      "text/plain": [
       "matrix([[1.  , 0.  , 0.01, 0.  ],\n",
       "        [0.  , 1.  , 0.  , 0.01],\n",
       "        [0.  , 0.  , 1.  , 0.  ],\n",
       "        [0.  , 0.  , 0.  , 1.  ]])"
      ]
     },
     "metadata": {},
     "output_type": "display_data"
    },
    {
     "data": {
      "text/plain": [
       "matrix([[ 7.56092949e+02],\n",
       "        [ 7.88544496e+01],\n",
       "        [-1.10273163e+00],\n",
       "        [-1.15006092e-01]])"
      ]
     },
     "metadata": {},
     "output_type": "display_data"
    },
    {
     "data": {
      "text/plain": [
       "matrix([[1.  , 0.  , 0.01, 0.  ],\n",
       "        [0.  , 1.  , 0.  , 0.01],\n",
       "        [0.  , 0.  , 1.  , 0.  ],\n",
       "        [0.  , 0.  , 0.  , 1.  ]])"
      ]
     },
     "metadata": {},
     "output_type": "display_data"
    },
    {
     "data": {
      "text/plain": [
       "matrix([[ 7.56081922e+02],\n",
       "        [ 7.88532995e+01],\n",
       "        [-1.10273163e+00],\n",
       "        [-1.15006092e-01]])"
      ]
     },
     "metadata": {},
     "output_type": "display_data"
    },
    {
     "data": {
      "text/plain": [
       "matrix([[1.  , 0.  , 0.01, 0.  ],\n",
       "        [0.  , 1.  , 0.  , 0.01],\n",
       "        [0.  , 0.  , 1.  , 0.  ],\n",
       "        [0.  , 0.  , 0.  , 1.  ]])"
      ]
     },
     "metadata": {},
     "output_type": "display_data"
    },
    {
     "data": {
      "text/plain": [
       "matrix([[ 7.56070895e+02],\n",
       "        [ 7.88521495e+01],\n",
       "        [-1.10273163e+00],\n",
       "        [-1.15006092e-01]])"
      ]
     },
     "metadata": {},
     "output_type": "display_data"
    },
    {
     "data": {
      "text/plain": [
       "matrix([[1.  , 0.  , 0.01, 0.  ],\n",
       "        [0.  , 1.  , 0.  , 0.01],\n",
       "        [0.  , 0.  , 1.  , 0.  ],\n",
       "        [0.  , 0.  , 0.  , 1.  ]])"
      ]
     },
     "metadata": {},
     "output_type": "display_data"
    },
    {
     "data": {
      "text/plain": [
       "matrix([[ 7.56059867e+02],\n",
       "        [ 7.88509994e+01],\n",
       "        [-1.10273163e+00],\n",
       "        [-1.15006092e-01]])"
      ]
     },
     "metadata": {},
     "output_type": "display_data"
    },
    {
     "data": {
      "text/plain": [
       "matrix([[1.  , 0.  , 0.01, 0.  ],\n",
       "        [0.  , 1.  , 0.  , 0.01],\n",
       "        [0.  , 0.  , 1.  , 0.  ],\n",
       "        [0.  , 0.  , 0.  , 1.  ]])"
      ]
     },
     "metadata": {},
     "output_type": "display_data"
    },
    {
     "data": {
      "text/plain": [
       "matrix([[ 7.56048840e+02],\n",
       "        [ 7.88498494e+01],\n",
       "        [-1.10273163e+00],\n",
       "        [-1.15006092e-01]])"
      ]
     },
     "metadata": {},
     "output_type": "display_data"
    },
    {
     "data": {
      "text/plain": [
       "matrix([[1.  , 0.  , 0.01, 0.  ],\n",
       "        [0.  , 1.  , 0.  , 0.01],\n",
       "        [0.  , 0.  , 1.  , 0.  ],\n",
       "        [0.  , 0.  , 0.  , 1.  ]])"
      ]
     },
     "metadata": {},
     "output_type": "display_data"
    },
    {
     "data": {
      "text/plain": [
       "matrix([[ 7.56037813e+02],\n",
       "        [ 7.88486993e+01],\n",
       "        [-1.10273163e+00],\n",
       "        [-1.15006092e-01]])"
      ]
     },
     "metadata": {},
     "output_type": "display_data"
    },
    {
     "data": {
      "text/plain": [
       "matrix([[1.  , 0.  , 0.01, 0.  ],\n",
       "        [0.  , 1.  , 0.  , 0.01],\n",
       "        [0.  , 0.  , 1.  , 0.  ],\n",
       "        [0.  , 0.  , 0.  , 1.  ]])"
      ]
     },
     "metadata": {},
     "output_type": "display_data"
    },
    {
     "data": {
      "text/plain": [
       "matrix([[ 7.56026785e+02],\n",
       "        [ 7.88475492e+01],\n",
       "        [-1.10273163e+00],\n",
       "        [-1.15006092e-01]])"
      ]
     },
     "metadata": {},
     "output_type": "display_data"
    },
    {
     "data": {
      "text/plain": [
       "matrix([[1.  , 0.  , 0.01, 0.  ],\n",
       "        [0.  , 1.  , 0.  , 0.01],\n",
       "        [0.  , 0.  , 1.  , 0.  ],\n",
       "        [0.  , 0.  , 0.  , 1.  ]])"
      ]
     },
     "metadata": {},
     "output_type": "display_data"
    },
    {
     "data": {
      "text/plain": [
       "matrix([[ 7.56015758e+02],\n",
       "        [ 7.88463992e+01],\n",
       "        [-1.10273163e+00],\n",
       "        [-1.15006092e-01]])"
      ]
     },
     "metadata": {},
     "output_type": "display_data"
    },
    {
     "data": {
      "text/plain": [
       "matrix([[1.  , 0.  , 0.01, 0.  ],\n",
       "        [0.  , 1.  , 0.  , 0.01],\n",
       "        [0.  , 0.  , 1.  , 0.  ],\n",
       "        [0.  , 0.  , 0.  , 1.  ]])"
      ]
     },
     "metadata": {},
     "output_type": "display_data"
    },
    {
     "data": {
      "text/plain": [
       "matrix([[ 7.56004731e+02],\n",
       "        [ 7.88452491e+01],\n",
       "        [-1.10273163e+00],\n",
       "        [-1.15006092e-01]])"
      ]
     },
     "metadata": {},
     "output_type": "display_data"
    },
    {
     "data": {
      "text/plain": [
       "matrix([[1.  , 0.  , 0.01, 0.  ],\n",
       "        [0.  , 1.  , 0.  , 0.01],\n",
       "        [0.  , 0.  , 1.  , 0.  ],\n",
       "        [0.  , 0.  , 0.  , 1.  ]])"
      ]
     },
     "metadata": {},
     "output_type": "display_data"
    },
    {
     "data": {
      "text/plain": [
       "matrix([[ 7.55993703e+02],\n",
       "        [ 7.88440991e+01],\n",
       "        [-1.10273163e+00],\n",
       "        [-1.15006092e-01]])"
      ]
     },
     "metadata": {},
     "output_type": "display_data"
    },
    {
     "data": {
      "text/plain": [
       "matrix([[1.  , 0.  , 0.01, 0.  ],\n",
       "        [0.  , 1.  , 0.  , 0.01],\n",
       "        [0.  , 0.  , 1.  , 0.  ],\n",
       "        [0.  , 0.  , 0.  , 1.  ]])"
      ]
     },
     "metadata": {},
     "output_type": "display_data"
    },
    {
     "data": {
      "text/plain": [
       "matrix([[ 7.55982676e+02],\n",
       "        [ 7.88429490e+01],\n",
       "        [-1.10273163e+00],\n",
       "        [-1.15006092e-01]])"
      ]
     },
     "metadata": {},
     "output_type": "display_data"
    },
    {
     "data": {
      "text/plain": [
       "matrix([[1.  , 0.  , 0.01, 0.  ],\n",
       "        [0.  , 1.  , 0.  , 0.01],\n",
       "        [0.  , 0.  , 1.  , 0.  ],\n",
       "        [0.  , 0.  , 0.  , 1.  ]])"
      ]
     },
     "metadata": {},
     "output_type": "display_data"
    },
    {
     "data": {
      "text/plain": [
       "matrix([[ 7.55971649e+02],\n",
       "        [ 7.88417989e+01],\n",
       "        [-1.10273163e+00],\n",
       "        [-1.15006092e-01]])"
      ]
     },
     "metadata": {},
     "output_type": "display_data"
    },
    {
     "data": {
      "text/plain": [
       "matrix([[1.  , 0.  , 0.01, 0.  ],\n",
       "        [0.  , 1.  , 0.  , 0.01],\n",
       "        [0.  , 0.  , 1.  , 0.  ],\n",
       "        [0.  , 0.  , 0.  , 1.  ]])"
      ]
     },
     "metadata": {},
     "output_type": "display_data"
    },
    {
     "data": {
      "text/plain": [
       "matrix([[ 7.55960621e+02],\n",
       "        [ 7.88406489e+01],\n",
       "        [-1.10273163e+00],\n",
       "        [-1.15006092e-01]])"
      ]
     },
     "metadata": {},
     "output_type": "display_data"
    },
    {
     "data": {
      "text/plain": [
       "matrix([[1.  , 0.  , 0.01, 0.  ],\n",
       "        [0.  , 1.  , 0.  , 0.01],\n",
       "        [0.  , 0.  , 1.  , 0.  ],\n",
       "        [0.  , 0.  , 0.  , 1.  ]])"
      ]
     },
     "metadata": {},
     "output_type": "display_data"
    },
    {
     "data": {
      "text/plain": [
       "matrix([[ 7.55949594e+02],\n",
       "        [ 7.88394988e+01],\n",
       "        [-1.10273163e+00],\n",
       "        [-1.15006092e-01]])"
      ]
     },
     "metadata": {},
     "output_type": "display_data"
    },
    {
     "data": {
      "text/plain": [
       "matrix([[1.  , 0.  , 0.01, 0.  ],\n",
       "        [0.  , 1.  , 0.  , 0.01],\n",
       "        [0.  , 0.  , 1.  , 0.  ],\n",
       "        [0.  , 0.  , 0.  , 1.  ]])"
      ]
     },
     "metadata": {},
     "output_type": "display_data"
    },
    {
     "data": {
      "text/plain": [
       "matrix([[ 7.55938567e+02],\n",
       "        [ 7.88383488e+01],\n",
       "        [-1.10273163e+00],\n",
       "        [-1.15006092e-01]])"
      ]
     },
     "metadata": {},
     "output_type": "display_data"
    },
    {
     "data": {
      "text/plain": [
       "matrix([[1.  , 0.  , 0.01, 0.  ],\n",
       "        [0.  , 1.  , 0.  , 0.01],\n",
       "        [0.  , 0.  , 1.  , 0.  ],\n",
       "        [0.  , 0.  , 0.  , 1.  ]])"
      ]
     },
     "metadata": {},
     "output_type": "display_data"
    },
    {
     "data": {
      "text/plain": [
       "matrix([[ 7.55927539e+02],\n",
       "        [ 7.88371987e+01],\n",
       "        [-1.10273163e+00],\n",
       "        [-1.15006092e-01]])"
      ]
     },
     "metadata": {},
     "output_type": "display_data"
    },
    {
     "data": {
      "text/plain": [
       "matrix([[1.  , 0.  , 0.01, 0.  ],\n",
       "        [0.  , 1.  , 0.  , 0.01],\n",
       "        [0.  , 0.  , 1.  , 0.  ],\n",
       "        [0.  , 0.  , 0.  , 1.  ]])"
      ]
     },
     "metadata": {},
     "output_type": "display_data"
    },
    {
     "data": {
      "text/plain": [
       "matrix([[ 7.55916512e+02],\n",
       "        [ 7.88360486e+01],\n",
       "        [-1.10273163e+00],\n",
       "        [-1.15006092e-01]])"
      ]
     },
     "metadata": {},
     "output_type": "display_data"
    },
    {
     "data": {
      "text/plain": [
       "matrix([[1.  , 0.  , 0.01, 0.  ],\n",
       "        [0.  , 1.  , 0.  , 0.01],\n",
       "        [0.  , 0.  , 1.  , 0.  ],\n",
       "        [0.  , 0.  , 0.  , 1.  ]])"
      ]
     },
     "metadata": {},
     "output_type": "display_data"
    },
    {
     "data": {
      "text/plain": [
       "matrix([[ 7.55905485e+02],\n",
       "        [ 7.88348986e+01],\n",
       "        [-1.10273163e+00],\n",
       "        [-1.15006092e-01]])"
      ]
     },
     "metadata": {},
     "output_type": "display_data"
    },
    {
     "data": {
      "text/plain": [
       "matrix([[1.  , 0.  , 0.01, 0.  ],\n",
       "        [0.  , 1.  , 0.  , 0.01],\n",
       "        [0.  , 0.  , 1.  , 0.  ],\n",
       "        [0.  , 0.  , 0.  , 1.  ]])"
      ]
     },
     "metadata": {},
     "output_type": "display_data"
    },
    {
     "data": {
      "text/plain": [
       "matrix([[ 7.55894457e+02],\n",
       "        [ 7.88337485e+01],\n",
       "        [-1.10273163e+00],\n",
       "        [-1.15006092e-01]])"
      ]
     },
     "metadata": {},
     "output_type": "display_data"
    },
    {
     "data": {
      "text/plain": [
       "matrix([[1.  , 0.  , 0.01, 0.  ],\n",
       "        [0.  , 1.  , 0.  , 0.01],\n",
       "        [0.  , 0.  , 1.  , 0.  ],\n",
       "        [0.  , 0.  , 0.  , 1.  ]])"
      ]
     },
     "metadata": {},
     "output_type": "display_data"
    },
    {
     "data": {
      "text/plain": [
       "matrix([[ 7.55883430e+02],\n",
       "        [ 7.88325984e+01],\n",
       "        [-1.10273163e+00],\n",
       "        [-1.15006092e-01]])"
      ]
     },
     "metadata": {},
     "output_type": "display_data"
    },
    {
     "data": {
      "text/plain": [
       "matrix([[1.  , 0.  , 0.01, 0.  ],\n",
       "        [0.  , 1.  , 0.  , 0.01],\n",
       "        [0.  , 0.  , 1.  , 0.  ],\n",
       "        [0.  , 0.  , 0.  , 1.  ]])"
      ]
     },
     "metadata": {},
     "output_type": "display_data"
    },
    {
     "data": {
      "text/plain": [
       "matrix([[ 7.55872403e+02],\n",
       "        [ 7.88314484e+01],\n",
       "        [-1.10273163e+00],\n",
       "        [-1.15006092e-01]])"
      ]
     },
     "metadata": {},
     "output_type": "display_data"
    },
    {
     "data": {
      "text/plain": [
       "matrix([[1.  , 0.  , 0.01, 0.  ],\n",
       "        [0.  , 1.  , 0.  , 0.01],\n",
       "        [0.  , 0.  , 1.  , 0.  ],\n",
       "        [0.  , 0.  , 0.  , 1.  ]])"
      ]
     },
     "metadata": {},
     "output_type": "display_data"
    },
    {
     "data": {
      "text/plain": [
       "matrix([[ 7.55861376e+02],\n",
       "        [ 7.88302983e+01],\n",
       "        [-1.10273163e+00],\n",
       "        [-1.15006092e-01]])"
      ]
     },
     "metadata": {},
     "output_type": "display_data"
    },
    {
     "data": {
      "text/plain": [
       "matrix([[1.  , 0.  , 0.01, 0.  ],\n",
       "        [0.  , 1.  , 0.  , 0.01],\n",
       "        [0.  , 0.  , 1.  , 0.  ],\n",
       "        [0.  , 0.  , 0.  , 1.  ]])"
      ]
     },
     "metadata": {},
     "output_type": "display_data"
    },
    {
     "data": {
      "text/plain": [
       "matrix([[ 7.55850348e+02],\n",
       "        [ 7.88291483e+01],\n",
       "        [-1.10273163e+00],\n",
       "        [-1.15006092e-01]])"
      ]
     },
     "metadata": {},
     "output_type": "display_data"
    },
    {
     "data": {
      "text/plain": [
       "matrix([[1.  , 0.  , 0.01, 0.  ],\n",
       "        [0.  , 1.  , 0.  , 0.01],\n",
       "        [0.  , 0.  , 1.  , 0.  ],\n",
       "        [0.  , 0.  , 0.  , 1.  ]])"
      ]
     },
     "metadata": {},
     "output_type": "display_data"
    },
    {
     "data": {
      "text/plain": [
       "matrix([[ 7.55839321e+02],\n",
       "        [ 7.88279982e+01],\n",
       "        [-1.10273163e+00],\n",
       "        [-1.15006092e-01]])"
      ]
     },
     "metadata": {},
     "output_type": "display_data"
    },
    {
     "data": {
      "text/plain": [
       "matrix([[1.  , 0.  , 0.01, 0.  ],\n",
       "        [0.  , 1.  , 0.  , 0.01],\n",
       "        [0.  , 0.  , 1.  , 0.  ],\n",
       "        [0.  , 0.  , 0.  , 1.  ]])"
      ]
     },
     "metadata": {},
     "output_type": "display_data"
    },
    {
     "data": {
      "text/plain": [
       "matrix([[ 7.55828294e+02],\n",
       "        [ 7.88268481e+01],\n",
       "        [-1.10273163e+00],\n",
       "        [-1.15006092e-01]])"
      ]
     },
     "metadata": {},
     "output_type": "display_data"
    },
    {
     "data": {
      "text/plain": [
       "matrix([[1.  , 0.  , 0.01, 0.  ],\n",
       "        [0.  , 1.  , 0.  , 0.01],\n",
       "        [0.  , 0.  , 1.  , 0.  ],\n",
       "        [0.  , 0.  , 0.  , 1.  ]])"
      ]
     },
     "metadata": {},
     "output_type": "display_data"
    },
    {
     "data": {
      "text/plain": [
       "matrix([[ 7.55817266e+02],\n",
       "        [ 7.88256981e+01],\n",
       "        [-1.10273163e+00],\n",
       "        [-1.15006092e-01]])"
      ]
     },
     "metadata": {},
     "output_type": "display_data"
    },
    {
     "data": {
      "text/plain": [
       "matrix([[1.  , 0.  , 0.01, 0.  ],\n",
       "        [0.  , 1.  , 0.  , 0.01],\n",
       "        [0.  , 0.  , 1.  , 0.  ],\n",
       "        [0.  , 0.  , 0.  , 1.  ]])"
      ]
     },
     "metadata": {},
     "output_type": "display_data"
    },
    {
     "data": {
      "text/plain": [
       "matrix([[ 7.55806239e+02],\n",
       "        [ 7.88245480e+01],\n",
       "        [-1.10273163e+00],\n",
       "        [-1.15006092e-01]])"
      ]
     },
     "metadata": {},
     "output_type": "display_data"
    },
    {
     "data": {
      "text/plain": [
       "matrix([[1.  , 0.  , 0.01, 0.  ],\n",
       "        [0.  , 1.  , 0.  , 0.01],\n",
       "        [0.  , 0.  , 1.  , 0.  ],\n",
       "        [0.  , 0.  , 0.  , 1.  ]])"
      ]
     },
     "metadata": {},
     "output_type": "display_data"
    },
    {
     "data": {
      "text/plain": [
       "matrix([[ 7.55795212e+02],\n",
       "        [ 7.88233980e+01],\n",
       "        [-1.10273163e+00],\n",
       "        [-1.15006092e-01]])"
      ]
     },
     "metadata": {},
     "output_type": "display_data"
    },
    {
     "data": {
      "text/plain": [
       "matrix([[1.  , 0.  , 0.01, 0.  ],\n",
       "        [0.  , 1.  , 0.  , 0.01],\n",
       "        [0.  , 0.  , 1.  , 0.  ],\n",
       "        [0.  , 0.  , 0.  , 1.  ]])"
      ]
     },
     "metadata": {},
     "output_type": "display_data"
    },
    {
     "data": {
      "text/plain": [
       "matrix([[ 7.55784184e+02],\n",
       "        [ 7.88222479e+01],\n",
       "        [-1.10273163e+00],\n",
       "        [-1.15006092e-01]])"
      ]
     },
     "metadata": {},
     "output_type": "display_data"
    },
    {
     "data": {
      "text/plain": [
       "matrix([[1.  , 0.  , 0.01, 0.  ],\n",
       "        [0.  , 1.  , 0.  , 0.01],\n",
       "        [0.  , 0.  , 1.  , 0.  ],\n",
       "        [0.  , 0.  , 0.  , 1.  ]])"
      ]
     },
     "metadata": {},
     "output_type": "display_data"
    },
    {
     "data": {
      "text/plain": [
       "matrix([[ 7.55773157e+02],\n",
       "        [ 7.88210978e+01],\n",
       "        [-1.10273163e+00],\n",
       "        [-1.15006092e-01]])"
      ]
     },
     "metadata": {},
     "output_type": "display_data"
    },
    {
     "data": {
      "text/plain": [
       "matrix([[1.  , 0.  , 0.01, 0.  ],\n",
       "        [0.  , 1.  , 0.  , 0.01],\n",
       "        [0.  , 0.  , 1.  , 0.  ],\n",
       "        [0.  , 0.  , 0.  , 1.  ]])"
      ]
     },
     "metadata": {},
     "output_type": "display_data"
    },
    {
     "data": {
      "text/plain": [
       "matrix([[ 7.55762130e+02],\n",
       "        [ 7.88199478e+01],\n",
       "        [-1.10273163e+00],\n",
       "        [-1.15006092e-01]])"
      ]
     },
     "metadata": {},
     "output_type": "display_data"
    },
    {
     "data": {
      "text/plain": [
       "matrix([[1.  , 0.  , 0.01, 0.  ],\n",
       "        [0.  , 1.  , 0.  , 0.01],\n",
       "        [0.  , 0.  , 1.  , 0.  ],\n",
       "        [0.  , 0.  , 0.  , 1.  ]])"
      ]
     },
     "metadata": {},
     "output_type": "display_data"
    },
    {
     "data": {
      "text/plain": [
       "matrix([[ 7.55751102e+02],\n",
       "        [ 7.88187977e+01],\n",
       "        [-1.10273163e+00],\n",
       "        [-1.15006092e-01]])"
      ]
     },
     "metadata": {},
     "output_type": "display_data"
    },
    {
     "data": {
      "text/plain": [
       "matrix([[1.  , 0.  , 0.01, 0.  ],\n",
       "        [0.  , 1.  , 0.  , 0.01],\n",
       "        [0.  , 0.  , 1.  , 0.  ],\n",
       "        [0.  , 0.  , 0.  , 1.  ]])"
      ]
     },
     "metadata": {},
     "output_type": "display_data"
    },
    {
     "data": {
      "text/plain": [
       "matrix([[ 7.55740075e+02],\n",
       "        [ 7.88176477e+01],\n",
       "        [-1.10273163e+00],\n",
       "        [-1.15006092e-01]])"
      ]
     },
     "metadata": {},
     "output_type": "display_data"
    },
    {
     "data": {
      "text/plain": [
       "matrix([[1.  , 0.  , 0.01, 0.  ],\n",
       "        [0.  , 1.  , 0.  , 0.01],\n",
       "        [0.  , 0.  , 1.  , 0.  ],\n",
       "        [0.  , 0.  , 0.  , 1.  ]])"
      ]
     },
     "metadata": {},
     "output_type": "display_data"
    },
    {
     "data": {
      "text/plain": [
       "matrix([[ 7.55729048e+02],\n",
       "        [ 7.88164976e+01],\n",
       "        [-1.10273163e+00],\n",
       "        [-1.15006092e-01]])"
      ]
     },
     "metadata": {},
     "output_type": "display_data"
    },
    {
     "data": {
      "text/plain": [
       "matrix([[1.  , 0.  , 0.01, 0.  ],\n",
       "        [0.  , 1.  , 0.  , 0.01],\n",
       "        [0.  , 0.  , 1.  , 0.  ],\n",
       "        [0.  , 0.  , 0.  , 1.  ]])"
      ]
     },
     "metadata": {},
     "output_type": "display_data"
    },
    {
     "data": {
      "text/plain": [
       "matrix([[ 7.55718020e+02],\n",
       "        [ 7.88153475e+01],\n",
       "        [-1.10273163e+00],\n",
       "        [-1.15006092e-01]])"
      ]
     },
     "metadata": {},
     "output_type": "display_data"
    },
    {
     "data": {
      "text/plain": [
       "matrix([[1.  , 0.  , 0.01, 0.  ],\n",
       "        [0.  , 1.  , 0.  , 0.01],\n",
       "        [0.  , 0.  , 1.  , 0.  ],\n",
       "        [0.  , 0.  , 0.  , 1.  ]])"
      ]
     },
     "metadata": {},
     "output_type": "display_data"
    },
    {
     "data": {
      "text/plain": [
       "matrix([[ 7.55706993e+02],\n",
       "        [ 7.88141975e+01],\n",
       "        [-1.10273163e+00],\n",
       "        [-1.15006092e-01]])"
      ]
     },
     "metadata": {},
     "output_type": "display_data"
    },
    {
     "data": {
      "text/plain": [
       "matrix([[1.  , 0.  , 0.01, 0.  ],\n",
       "        [0.  , 1.  , 0.  , 0.01],\n",
       "        [0.  , 0.  , 1.  , 0.  ],\n",
       "        [0.  , 0.  , 0.  , 1.  ]])"
      ]
     },
     "metadata": {},
     "output_type": "display_data"
    },
    {
     "data": {
      "text/plain": [
       "matrix([[ 7.55695966e+02],\n",
       "        [ 7.88130474e+01],\n",
       "        [-1.10273163e+00],\n",
       "        [-1.15006092e-01]])"
      ]
     },
     "metadata": {},
     "output_type": "display_data"
    },
    {
     "data": {
      "text/plain": [
       "matrix([[1.  , 0.  , 0.01, 0.  ],\n",
       "        [0.  , 1.  , 0.  , 0.01],\n",
       "        [0.  , 0.  , 1.  , 0.  ],\n",
       "        [0.  , 0.  , 0.  , 1.  ]])"
      ]
     },
     "metadata": {},
     "output_type": "display_data"
    },
    {
     "data": {
      "text/plain": [
       "matrix([[ 7.55684938e+02],\n",
       "        [ 7.88118974e+01],\n",
       "        [-1.10273163e+00],\n",
       "        [-1.15006092e-01]])"
      ]
     },
     "metadata": {},
     "output_type": "display_data"
    },
    {
     "data": {
      "text/plain": [
       "matrix([[1.  , 0.  , 0.01, 0.  ],\n",
       "        [0.  , 1.  , 0.  , 0.01],\n",
       "        [0.  , 0.  , 1.  , 0.  ],\n",
       "        [0.  , 0.  , 0.  , 1.  ]])"
      ]
     },
     "metadata": {},
     "output_type": "display_data"
    },
    {
     "data": {
      "text/plain": [
       "matrix([[ 7.55673911e+02],\n",
       "        [ 7.88107473e+01],\n",
       "        [-1.10273163e+00],\n",
       "        [-1.15006092e-01]])"
      ]
     },
     "metadata": {},
     "output_type": "display_data"
    },
    {
     "data": {
      "text/plain": [
       "matrix([[1.  , 0.  , 0.01, 0.  ],\n",
       "        [0.  , 1.  , 0.  , 0.01],\n",
       "        [0.  , 0.  , 1.  , 0.  ],\n",
       "        [0.  , 0.  , 0.  , 1.  ]])"
      ]
     },
     "metadata": {},
     "output_type": "display_data"
    },
    {
     "data": {
      "text/plain": [
       "matrix([[ 7.55662884e+02],\n",
       "        [ 7.88095972e+01],\n",
       "        [-1.10273163e+00],\n",
       "        [-1.15006092e-01]])"
      ]
     },
     "metadata": {},
     "output_type": "display_data"
    },
    {
     "data": {
      "text/plain": [
       "matrix([[1.  , 0.  , 0.01, 0.  ],\n",
       "        [0.  , 1.  , 0.  , 0.01],\n",
       "        [0.  , 0.  , 1.  , 0.  ],\n",
       "        [0.  , 0.  , 0.  , 1.  ]])"
      ]
     },
     "metadata": {},
     "output_type": "display_data"
    },
    {
     "data": {
      "text/plain": [
       "matrix([[ 7.55651857e+02],\n",
       "        [ 7.88084472e+01],\n",
       "        [-1.10273163e+00],\n",
       "        [-1.15006092e-01]])"
      ]
     },
     "metadata": {},
     "output_type": "display_data"
    },
    {
     "data": {
      "text/plain": [
       "matrix([[1.  , 0.  , 0.01, 0.  ],\n",
       "        [0.  , 1.  , 0.  , 0.01],\n",
       "        [0.  , 0.  , 1.  , 0.  ],\n",
       "        [0.  , 0.  , 0.  , 1.  ]])"
      ]
     },
     "metadata": {},
     "output_type": "display_data"
    },
    {
     "data": {
      "text/plain": [
       "matrix([[ 7.55640829e+02],\n",
       "        [ 7.88072971e+01],\n",
       "        [-1.10273163e+00],\n",
       "        [-1.15006092e-01]])"
      ]
     },
     "metadata": {},
     "output_type": "display_data"
    },
    {
     "data": {
      "text/plain": [
       "matrix([[1.  , 0.  , 0.01, 0.  ],\n",
       "        [0.  , 1.  , 0.  , 0.01],\n",
       "        [0.  , 0.  , 1.  , 0.  ],\n",
       "        [0.  , 0.  , 0.  , 1.  ]])"
      ]
     },
     "metadata": {},
     "output_type": "display_data"
    },
    {
     "data": {
      "text/plain": [
       "matrix([[ 7.55629802e+02],\n",
       "        [ 7.88061470e+01],\n",
       "        [-1.10273163e+00],\n",
       "        [-1.15006092e-01]])"
      ]
     },
     "metadata": {},
     "output_type": "display_data"
    },
    {
     "data": {
      "text/plain": [
       "matrix([[1.  , 0.  , 0.01, 0.  ],\n",
       "        [0.  , 1.  , 0.  , 0.01],\n",
       "        [0.  , 0.  , 1.  , 0.  ],\n",
       "        [0.  , 0.  , 0.  , 1.  ]])"
      ]
     },
     "metadata": {},
     "output_type": "display_data"
    },
    {
     "data": {
      "text/plain": [
       "matrix([[ 7.55618775e+02],\n",
       "        [ 7.88049970e+01],\n",
       "        [-1.10273163e+00],\n",
       "        [-1.15006092e-01]])"
      ]
     },
     "metadata": {},
     "output_type": "display_data"
    },
    {
     "data": {
      "text/plain": [
       "matrix([[1.  , 0.  , 0.01, 0.  ],\n",
       "        [0.  , 1.  , 0.  , 0.01],\n",
       "        [0.  , 0.  , 1.  , 0.  ],\n",
       "        [0.  , 0.  , 0.  , 1.  ]])"
      ]
     },
     "metadata": {},
     "output_type": "display_data"
    },
    {
     "data": {
      "text/plain": [
       "matrix([[ 7.55607747e+02],\n",
       "        [ 7.88038469e+01],\n",
       "        [-1.10273163e+00],\n",
       "        [-1.15006092e-01]])"
      ]
     },
     "metadata": {},
     "output_type": "display_data"
    },
    {
     "data": {
      "text/plain": [
       "matrix([[1.  , 0.  , 0.01, 0.  ],\n",
       "        [0.  , 1.  , 0.  , 0.01],\n",
       "        [0.  , 0.  , 1.  , 0.  ],\n",
       "        [0.  , 0.  , 0.  , 1.  ]])"
      ]
     },
     "metadata": {},
     "output_type": "display_data"
    },
    {
     "data": {
      "text/plain": [
       "matrix([[ 7.55596720e+02],\n",
       "        [ 7.88026969e+01],\n",
       "        [-1.10273163e+00],\n",
       "        [-1.15006092e-01]])"
      ]
     },
     "metadata": {},
     "output_type": "display_data"
    },
    {
     "data": {
      "text/plain": [
       "matrix([[1.  , 0.  , 0.01, 0.  ],\n",
       "        [0.  , 1.  , 0.  , 0.01],\n",
       "        [0.  , 0.  , 1.  , 0.  ],\n",
       "        [0.  , 0.  , 0.  , 1.  ]])"
      ]
     },
     "metadata": {},
     "output_type": "display_data"
    },
    {
     "data": {
      "text/plain": [
       "matrix([[ 7.55585693e+02],\n",
       "        [ 7.88015468e+01],\n",
       "        [-1.10273163e+00],\n",
       "        [-1.15006092e-01]])"
      ]
     },
     "metadata": {},
     "output_type": "display_data"
    },
    {
     "data": {
      "text/plain": [
       "matrix([[1.  , 0.  , 0.01, 0.  ],\n",
       "        [0.  , 1.  , 0.  , 0.01],\n",
       "        [0.  , 0.  , 1.  , 0.  ],\n",
       "        [0.  , 0.  , 0.  , 1.  ]])"
      ]
     },
     "metadata": {},
     "output_type": "display_data"
    },
    {
     "data": {
      "text/plain": [
       "matrix([[ 7.55574665e+02],\n",
       "        [ 7.88003967e+01],\n",
       "        [-1.10273163e+00],\n",
       "        [-1.15006092e-01]])"
      ]
     },
     "metadata": {},
     "output_type": "display_data"
    },
    {
     "data": {
      "text/plain": [
       "matrix([[1.  , 0.  , 0.01, 0.  ],\n",
       "        [0.  , 1.  , 0.  , 0.01],\n",
       "        [0.  , 0.  , 1.  , 0.  ],\n",
       "        [0.  , 0.  , 0.  , 1.  ]])"
      ]
     },
     "metadata": {},
     "output_type": "display_data"
    },
    {
     "data": {
      "text/plain": [
       "matrix([[ 7.55563638e+02],\n",
       "        [ 7.87992467e+01],\n",
       "        [-1.10273163e+00],\n",
       "        [-1.15006092e-01]])"
      ]
     },
     "metadata": {},
     "output_type": "display_data"
    },
    {
     "data": {
      "text/plain": [
       "matrix([[1.  , 0.  , 0.01, 0.  ],\n",
       "        [0.  , 1.  , 0.  , 0.01],\n",
       "        [0.  , 0.  , 1.  , 0.  ],\n",
       "        [0.  , 0.  , 0.  , 1.  ]])"
      ]
     },
     "metadata": {},
     "output_type": "display_data"
    },
    {
     "data": {
      "text/plain": [
       "matrix([[ 7.55552611e+02],\n",
       "        [ 7.87980966e+01],\n",
       "        [-1.10273163e+00],\n",
       "        [-1.15006092e-01]])"
      ]
     },
     "metadata": {},
     "output_type": "display_data"
    },
    {
     "data": {
      "text/plain": [
       "matrix([[1.  , 0.  , 0.01, 0.  ],\n",
       "        [0.  , 1.  , 0.  , 0.01],\n",
       "        [0.  , 0.  , 1.  , 0.  ],\n",
       "        [0.  , 0.  , 0.  , 1.  ]])"
      ]
     },
     "metadata": {},
     "output_type": "display_data"
    },
    {
     "data": {
      "text/plain": [
       "matrix([[ 7.55541583e+02],\n",
       "        [ 7.87969466e+01],\n",
       "        [-1.10273163e+00],\n",
       "        [-1.15006092e-01]])"
      ]
     },
     "metadata": {},
     "output_type": "display_data"
    },
    {
     "data": {
      "text/plain": [
       "matrix([[1.  , 0.  , 0.01, 0.  ],\n",
       "        [0.  , 1.  , 0.  , 0.01],\n",
       "        [0.  , 0.  , 1.  , 0.  ],\n",
       "        [0.  , 0.  , 0.  , 1.  ]])"
      ]
     },
     "metadata": {},
     "output_type": "display_data"
    },
    {
     "data": {
      "text/plain": [
       "matrix([[ 7.55530556e+02],\n",
       "        [ 7.87957965e+01],\n",
       "        [-1.10273163e+00],\n",
       "        [-1.15006092e-01]])"
      ]
     },
     "metadata": {},
     "output_type": "display_data"
    },
    {
     "data": {
      "text/plain": [
       "matrix([[1.  , 0.  , 0.01, 0.  ],\n",
       "        [0.  , 1.  , 0.  , 0.01],\n",
       "        [0.  , 0.  , 1.  , 0.  ],\n",
       "        [0.  , 0.  , 0.  , 1.  ]])"
      ]
     },
     "metadata": {},
     "output_type": "display_data"
    },
    {
     "data": {
      "text/plain": [
       "matrix([[ 7.55519529e+02],\n",
       "        [ 7.87946464e+01],\n",
       "        [-1.10273163e+00],\n",
       "        [-1.15006092e-01]])"
      ]
     },
     "metadata": {},
     "output_type": "display_data"
    },
    {
     "data": {
      "text/plain": [
       "matrix([[1.  , 0.  , 0.01, 0.  ],\n",
       "        [0.  , 1.  , 0.  , 0.01],\n",
       "        [0.  , 0.  , 1.  , 0.  ],\n",
       "        [0.  , 0.  , 0.  , 1.  ]])"
      ]
     },
     "metadata": {},
     "output_type": "display_data"
    },
    {
     "data": {
      "text/plain": [
       "matrix([[ 7.55508501e+02],\n",
       "        [ 7.87934964e+01],\n",
       "        [-1.10273163e+00],\n",
       "        [-1.15006092e-01]])"
      ]
     },
     "metadata": {},
     "output_type": "display_data"
    },
    {
     "data": {
      "text/plain": [
       "matrix([[1.  , 0.  , 0.01, 0.  ],\n",
       "        [0.  , 1.  , 0.  , 0.01],\n",
       "        [0.  , 0.  , 1.  , 0.  ],\n",
       "        [0.  , 0.  , 0.  , 1.  ]])"
      ]
     },
     "metadata": {},
     "output_type": "display_data"
    },
    {
     "data": {
      "text/plain": [
       "matrix([[ 7.55497474e+02],\n",
       "        [ 7.87923463e+01],\n",
       "        [-1.10273163e+00],\n",
       "        [-1.15006092e-01]])"
      ]
     },
     "metadata": {},
     "output_type": "display_data"
    },
    {
     "data": {
      "text/plain": [
       "matrix([[1.  , 0.  , 0.01, 0.  ],\n",
       "        [0.  , 1.  , 0.  , 0.01],\n",
       "        [0.  , 0.  , 1.  , 0.  ],\n",
       "        [0.  , 0.  , 0.  , 1.  ]])"
      ]
     },
     "metadata": {},
     "output_type": "display_data"
    },
    {
     "data": {
      "text/plain": [
       "matrix([[ 7.55486447e+02],\n",
       "        [ 7.87911963e+01],\n",
       "        [-1.10273163e+00],\n",
       "        [-1.15006092e-01]])"
      ]
     },
     "metadata": {},
     "output_type": "display_data"
    },
    {
     "data": {
      "text/plain": [
       "matrix([[1.  , 0.  , 0.01, 0.  ],\n",
       "        [0.  , 1.  , 0.  , 0.01],\n",
       "        [0.  , 0.  , 1.  , 0.  ],\n",
       "        [0.  , 0.  , 0.  , 1.  ]])"
      ]
     },
     "metadata": {},
     "output_type": "display_data"
    },
    {
     "data": {
      "text/plain": [
       "matrix([[ 7.55475419e+02],\n",
       "        [ 7.87900462e+01],\n",
       "        [-1.10273163e+00],\n",
       "        [-1.15006092e-01]])"
      ]
     },
     "metadata": {},
     "output_type": "display_data"
    },
    {
     "data": {
      "text/plain": [
       "matrix([[1.  , 0.  , 0.01, 0.  ],\n",
       "        [0.  , 1.  , 0.  , 0.01],\n",
       "        [0.  , 0.  , 1.  , 0.  ],\n",
       "        [0.  , 0.  , 0.  , 1.  ]])"
      ]
     },
     "metadata": {},
     "output_type": "display_data"
    },
    {
     "data": {
      "text/plain": [
       "matrix([[ 7.55464392e+02],\n",
       "        [ 7.87888961e+01],\n",
       "        [-1.10273163e+00],\n",
       "        [-1.15006092e-01]])"
      ]
     },
     "metadata": {},
     "output_type": "display_data"
    },
    {
     "data": {
      "text/plain": [
       "matrix([[1.  , 0.  , 0.01, 0.  ],\n",
       "        [0.  , 1.  , 0.  , 0.01],\n",
       "        [0.  , 0.  , 1.  , 0.  ],\n",
       "        [0.  , 0.  , 0.  , 1.  ]])"
      ]
     },
     "metadata": {},
     "output_type": "display_data"
    },
    {
     "data": {
      "text/plain": [
       "matrix([[ 7.55453365e+02],\n",
       "        [ 7.87877461e+01],\n",
       "        [-1.10273163e+00],\n",
       "        [-1.15006092e-01]])"
      ]
     },
     "metadata": {},
     "output_type": "display_data"
    },
    {
     "data": {
      "text/plain": [
       "matrix([[1.  , 0.  , 0.01, 0.  ],\n",
       "        [0.  , 1.  , 0.  , 0.01],\n",
       "        [0.  , 0.  , 1.  , 0.  ],\n",
       "        [0.  , 0.  , 0.  , 1.  ]])"
      ]
     },
     "metadata": {},
     "output_type": "display_data"
    },
    {
     "data": {
      "text/plain": [
       "matrix([[ 7.55442338e+02],\n",
       "        [ 7.87865960e+01],\n",
       "        [-1.10273163e+00],\n",
       "        [-1.15006092e-01]])"
      ]
     },
     "metadata": {},
     "output_type": "display_data"
    },
    {
     "data": {
      "text/plain": [
       "matrix([[1.  , 0.  , 0.01, 0.  ],\n",
       "        [0.  , 1.  , 0.  , 0.01],\n",
       "        [0.  , 0.  , 1.  , 0.  ],\n",
       "        [0.  , 0.  , 0.  , 1.  ]])"
      ]
     },
     "metadata": {},
     "output_type": "display_data"
    },
    {
     "data": {
      "text/plain": [
       "matrix([[ 7.55431310e+02],\n",
       "        [ 7.87854459e+01],\n",
       "        [-1.10273163e+00],\n",
       "        [-1.15006092e-01]])"
      ]
     },
     "metadata": {},
     "output_type": "display_data"
    },
    {
     "data": {
      "text/plain": [
       "matrix([[1.  , 0.  , 0.01, 0.  ],\n",
       "        [0.  , 1.  , 0.  , 0.01],\n",
       "        [0.  , 0.  , 1.  , 0.  ],\n",
       "        [0.  , 0.  , 0.  , 1.  ]])"
      ]
     },
     "metadata": {},
     "output_type": "display_data"
    },
    {
     "data": {
      "text/plain": [
       "matrix([[ 7.55420283e+02],\n",
       "        [ 7.87842959e+01],\n",
       "        [-1.10273163e+00],\n",
       "        [-1.15006092e-01]])"
      ]
     },
     "metadata": {},
     "output_type": "display_data"
    },
    {
     "data": {
      "text/plain": [
       "matrix([[1.  , 0.  , 0.01, 0.  ],\n",
       "        [0.  , 1.  , 0.  , 0.01],\n",
       "        [0.  , 0.  , 1.  , 0.  ],\n",
       "        [0.  , 0.  , 0.  , 1.  ]])"
      ]
     },
     "metadata": {},
     "output_type": "display_data"
    },
    {
     "data": {
      "text/plain": [
       "matrix([[ 7.55409256e+02],\n",
       "        [ 7.87831458e+01],\n",
       "        [-1.10273163e+00],\n",
       "        [-1.15006092e-01]])"
      ]
     },
     "metadata": {},
     "output_type": "display_data"
    },
    {
     "data": {
      "text/plain": [
       "matrix([[1.  , 0.  , 0.01, 0.  ],\n",
       "        [0.  , 1.  , 0.  , 0.01],\n",
       "        [0.  , 0.  , 1.  , 0.  ],\n",
       "        [0.  , 0.  , 0.  , 1.  ]])"
      ]
     },
     "metadata": {},
     "output_type": "display_data"
    },
    {
     "data": {
      "text/plain": [
       "matrix([[ 7.55398228e+02],\n",
       "        [ 7.87819958e+01],\n",
       "        [-1.10273163e+00],\n",
       "        [-1.15006092e-01]])"
      ]
     },
     "metadata": {},
     "output_type": "display_data"
    },
    {
     "data": {
      "text/plain": [
       "matrix([[1.  , 0.  , 0.01, 0.  ],\n",
       "        [0.  , 1.  , 0.  , 0.01],\n",
       "        [0.  , 0.  , 1.  , 0.  ],\n",
       "        [0.  , 0.  , 0.  , 1.  ]])"
      ]
     },
     "metadata": {},
     "output_type": "display_data"
    },
    {
     "data": {
      "text/plain": [
       "matrix([[ 7.55387201e+02],\n",
       "        [ 7.87808457e+01],\n",
       "        [-1.10273163e+00],\n",
       "        [-1.15006092e-01]])"
      ]
     },
     "metadata": {},
     "output_type": "display_data"
    },
    {
     "data": {
      "text/plain": [
       "matrix([[1.  , 0.  , 0.01, 0.  ],\n",
       "        [0.  , 1.  , 0.  , 0.01],\n",
       "        [0.  , 0.  , 1.  , 0.  ],\n",
       "        [0.  , 0.  , 0.  , 1.  ]])"
      ]
     },
     "metadata": {},
     "output_type": "display_data"
    },
    {
     "data": {
      "text/plain": [
       "matrix([[ 7.55376174e+02],\n",
       "        [ 7.87796956e+01],\n",
       "        [-1.10273163e+00],\n",
       "        [-1.15006092e-01]])"
      ]
     },
     "metadata": {},
     "output_type": "display_data"
    },
    {
     "data": {
      "text/plain": [
       "matrix([[1.  , 0.  , 0.01, 0.  ],\n",
       "        [0.  , 1.  , 0.  , 0.01],\n",
       "        [0.  , 0.  , 1.  , 0.  ],\n",
       "        [0.  , 0.  , 0.  , 1.  ]])"
      ]
     },
     "metadata": {},
     "output_type": "display_data"
    },
    {
     "data": {
      "text/plain": [
       "matrix([[ 7.55365146e+02],\n",
       "        [ 7.87785456e+01],\n",
       "        [-1.10273163e+00],\n",
       "        [-1.15006092e-01]])"
      ]
     },
     "metadata": {},
     "output_type": "display_data"
    },
    {
     "data": {
      "text/plain": [
       "matrix([[1.  , 0.  , 0.01, 0.  ],\n",
       "        [0.  , 1.  , 0.  , 0.01],\n",
       "        [0.  , 0.  , 1.  , 0.  ],\n",
       "        [0.  , 0.  , 0.  , 1.  ]])"
      ]
     },
     "metadata": {},
     "output_type": "display_data"
    },
    {
     "data": {
      "text/plain": [
       "matrix([[ 7.55354119e+02],\n",
       "        [ 7.87773955e+01],\n",
       "        [-1.10273163e+00],\n",
       "        [-1.15006092e-01]])"
      ]
     },
     "metadata": {},
     "output_type": "display_data"
    },
    {
     "data": {
      "text/plain": [
       "matrix([[1.  , 0.  , 0.01, 0.  ],\n",
       "        [0.  , 1.  , 0.  , 0.01],\n",
       "        [0.  , 0.  , 1.  , 0.  ],\n",
       "        [0.  , 0.  , 0.  , 1.  ]])"
      ]
     },
     "metadata": {},
     "output_type": "display_data"
    },
    {
     "data": {
      "text/plain": [
       "matrix([[ 7.55343092e+02],\n",
       "        [ 7.87762455e+01],\n",
       "        [-1.10273163e+00],\n",
       "        [-1.15006092e-01]])"
      ]
     },
     "metadata": {},
     "output_type": "display_data"
    },
    {
     "data": {
      "text/plain": [
       "matrix([[1.  , 0.  , 0.01, 0.  ],\n",
       "        [0.  , 1.  , 0.  , 0.01],\n",
       "        [0.  , 0.  , 1.  , 0.  ],\n",
       "        [0.  , 0.  , 0.  , 1.  ]])"
      ]
     },
     "metadata": {},
     "output_type": "display_data"
    },
    {
     "data": {
      "text/plain": [
       "matrix([[ 7.55332064e+02],\n",
       "        [ 7.87750954e+01],\n",
       "        [-1.10273163e+00],\n",
       "        [-1.15006092e-01]])"
      ]
     },
     "metadata": {},
     "output_type": "display_data"
    },
    {
     "data": {
      "text/plain": [
       "matrix([[1.  , 0.  , 0.01, 0.  ],\n",
       "        [0.  , 1.  , 0.  , 0.01],\n",
       "        [0.  , 0.  , 1.  , 0.  ],\n",
       "        [0.  , 0.  , 0.  , 1.  ]])"
      ]
     },
     "metadata": {},
     "output_type": "display_data"
    },
    {
     "data": {
      "text/plain": [
       "matrix([[ 7.55321037e+02],\n",
       "        [ 7.87739453e+01],\n",
       "        [-1.10273163e+00],\n",
       "        [-1.15006092e-01]])"
      ]
     },
     "metadata": {},
     "output_type": "display_data"
    },
    {
     "data": {
      "text/plain": [
       "matrix([[1.  , 0.  , 0.01, 0.  ],\n",
       "        [0.  , 1.  , 0.  , 0.01],\n",
       "        [0.  , 0.  , 1.  , 0.  ],\n",
       "        [0.  , 0.  , 0.  , 1.  ]])"
      ]
     },
     "metadata": {},
     "output_type": "display_data"
    },
    {
     "data": {
      "text/plain": [
       "matrix([[ 7.55310010e+02],\n",
       "        [ 7.87727953e+01],\n",
       "        [-1.10273163e+00],\n",
       "        [-1.15006092e-01]])"
      ]
     },
     "metadata": {},
     "output_type": "display_data"
    },
    {
     "data": {
      "text/plain": [
       "matrix([[1.  , 0.  , 0.01, 0.  ],\n",
       "        [0.  , 1.  , 0.  , 0.01],\n",
       "        [0.  , 0.  , 1.  , 0.  ],\n",
       "        [0.  , 0.  , 0.  , 1.  ]])"
      ]
     },
     "metadata": {},
     "output_type": "display_data"
    },
    {
     "data": {
      "text/plain": [
       "matrix([[ 7.55298982e+02],\n",
       "        [ 7.87716452e+01],\n",
       "        [-1.10273163e+00],\n",
       "        [-1.15006092e-01]])"
      ]
     },
     "metadata": {},
     "output_type": "display_data"
    },
    {
     "data": {
      "text/plain": [
       "matrix([[1.  , 0.  , 0.01, 0.  ],\n",
       "        [0.  , 1.  , 0.  , 0.01],\n",
       "        [0.  , 0.  , 1.  , 0.  ],\n",
       "        [0.  , 0.  , 0.  , 1.  ]])"
      ]
     },
     "metadata": {},
     "output_type": "display_data"
    },
    {
     "data": {
      "text/plain": [
       "matrix([[ 7.55287955e+02],\n",
       "        [ 7.87704952e+01],\n",
       "        [-1.10273163e+00],\n",
       "        [-1.15006092e-01]])"
      ]
     },
     "metadata": {},
     "output_type": "display_data"
    },
    {
     "data": {
      "text/plain": [
       "matrix([[1.  , 0.  , 0.01, 0.  ],\n",
       "        [0.  , 1.  , 0.  , 0.01],\n",
       "        [0.  , 0.  , 1.  , 0.  ],\n",
       "        [0.  , 0.  , 0.  , 1.  ]])"
      ]
     },
     "metadata": {},
     "output_type": "display_data"
    },
    {
     "data": {
      "text/plain": [
       "matrix([[ 7.55276928e+02],\n",
       "        [ 7.87693451e+01],\n",
       "        [-1.10273163e+00],\n",
       "        [-1.15006092e-01]])"
      ]
     },
     "metadata": {},
     "output_type": "display_data"
    },
    {
     "data": {
      "text/plain": [
       "matrix([[1.  , 0.  , 0.01, 0.  ],\n",
       "        [0.  , 1.  , 0.  , 0.01],\n",
       "        [0.  , 0.  , 1.  , 0.  ],\n",
       "        [0.  , 0.  , 0.  , 1.  ]])"
      ]
     },
     "metadata": {},
     "output_type": "display_data"
    },
    {
     "data": {
      "text/plain": [
       "matrix([[ 7.55265900e+02],\n",
       "        [ 7.87681950e+01],\n",
       "        [-1.10273163e+00],\n",
       "        [-1.15006092e-01]])"
      ]
     },
     "metadata": {},
     "output_type": "display_data"
    },
    {
     "data": {
      "text/plain": [
       "matrix([[1.  , 0.  , 0.01, 0.  ],\n",
       "        [0.  , 1.  , 0.  , 0.01],\n",
       "        [0.  , 0.  , 1.  , 0.  ],\n",
       "        [0.  , 0.  , 0.  , 1.  ]])"
      ]
     },
     "metadata": {},
     "output_type": "display_data"
    },
    {
     "data": {
      "text/plain": [
       "matrix([[ 7.55254873e+02],\n",
       "        [ 7.87670450e+01],\n",
       "        [-1.10273163e+00],\n",
       "        [-1.15006092e-01]])"
      ]
     },
     "metadata": {},
     "output_type": "display_data"
    },
    {
     "data": {
      "text/plain": [
       "matrix([[1.  , 0.  , 0.01, 0.  ],\n",
       "        [0.  , 1.  , 0.  , 0.01],\n",
       "        [0.  , 0.  , 1.  , 0.  ],\n",
       "        [0.  , 0.  , 0.  , 1.  ]])"
      ]
     },
     "metadata": {},
     "output_type": "display_data"
    },
    {
     "data": {
      "text/plain": [
       "matrix([[ 7.55243846e+02],\n",
       "        [ 7.87658949e+01],\n",
       "        [-1.10273163e+00],\n",
       "        [-1.15006092e-01]])"
      ]
     },
     "metadata": {},
     "output_type": "display_data"
    },
    {
     "data": {
      "text/plain": [
       "matrix([[1.  , 0.  , 0.01, 0.  ],\n",
       "        [0.  , 1.  , 0.  , 0.01],\n",
       "        [0.  , 0.  , 1.  , 0.  ],\n",
       "        [0.  , 0.  , 0.  , 1.  ]])"
      ]
     },
     "metadata": {},
     "output_type": "display_data"
    },
    {
     "data": {
      "text/plain": [
       "matrix([[ 7.55232819e+02],\n",
       "        [ 7.87647449e+01],\n",
       "        [-1.10273163e+00],\n",
       "        [-1.15006092e-01]])"
      ]
     },
     "metadata": {},
     "output_type": "display_data"
    },
    {
     "data": {
      "text/plain": [
       "matrix([[1.  , 0.  , 0.01, 0.  ],\n",
       "        [0.  , 1.  , 0.  , 0.01],\n",
       "        [0.  , 0.  , 1.  , 0.  ],\n",
       "        [0.  , 0.  , 0.  , 1.  ]])"
      ]
     },
     "metadata": {},
     "output_type": "display_data"
    },
    {
     "data": {
      "text/plain": [
       "matrix([[ 7.55221791e+02],\n",
       "        [ 7.87635948e+01],\n",
       "        [-1.10273163e+00],\n",
       "        [-1.15006092e-01]])"
      ]
     },
     "metadata": {},
     "output_type": "display_data"
    },
    {
     "data": {
      "text/plain": [
       "matrix([[1.  , 0.  , 0.01, 0.  ],\n",
       "        [0.  , 1.  , 0.  , 0.01],\n",
       "        [0.  , 0.  , 1.  , 0.  ],\n",
       "        [0.  , 0.  , 0.  , 1.  ]])"
      ]
     },
     "metadata": {},
     "output_type": "display_data"
    },
    {
     "data": {
      "text/plain": [
       "matrix([[ 7.55210764e+02],\n",
       "        [ 7.87624447e+01],\n",
       "        [-1.10273163e+00],\n",
       "        [-1.15006092e-01]])"
      ]
     },
     "metadata": {},
     "output_type": "display_data"
    },
    {
     "data": {
      "text/plain": [
       "matrix([[1.  , 0.  , 0.01, 0.  ],\n",
       "        [0.  , 1.  , 0.  , 0.01],\n",
       "        [0.  , 0.  , 1.  , 0.  ],\n",
       "        [0.  , 0.  , 0.  , 1.  ]])"
      ]
     },
     "metadata": {},
     "output_type": "display_data"
    },
    {
     "data": {
      "text/plain": [
       "matrix([[ 7.55199737e+02],\n",
       "        [ 7.87612947e+01],\n",
       "        [-1.10273163e+00],\n",
       "        [-1.15006092e-01]])"
      ]
     },
     "metadata": {},
     "output_type": "display_data"
    },
    {
     "data": {
      "text/plain": [
       "matrix([[1.  , 0.  , 0.01, 0.  ],\n",
       "        [0.  , 1.  , 0.  , 0.01],\n",
       "        [0.  , 0.  , 1.  , 0.  ],\n",
       "        [0.  , 0.  , 0.  , 1.  ]])"
      ]
     },
     "metadata": {},
     "output_type": "display_data"
    },
    {
     "data": {
      "text/plain": [
       "matrix([[ 7.55188709e+02],\n",
       "        [ 7.87601446e+01],\n",
       "        [-1.10273163e+00],\n",
       "        [-1.15006092e-01]])"
      ]
     },
     "metadata": {},
     "output_type": "display_data"
    },
    {
     "data": {
      "text/plain": [
       "matrix([[1.  , 0.  , 0.01, 0.  ],\n",
       "        [0.  , 1.  , 0.  , 0.01],\n",
       "        [0.  , 0.  , 1.  , 0.  ],\n",
       "        [0.  , 0.  , 0.  , 1.  ]])"
      ]
     },
     "metadata": {},
     "output_type": "display_data"
    },
    {
     "data": {
      "text/plain": [
       "matrix([[ 7.55177682e+02],\n",
       "        [ 7.87589945e+01],\n",
       "        [-1.10273163e+00],\n",
       "        [-1.15006092e-01]])"
      ]
     },
     "metadata": {},
     "output_type": "display_data"
    },
    {
     "data": {
      "text/plain": [
       "matrix([[1.  , 0.  , 0.01, 0.  ],\n",
       "        [0.  , 1.  , 0.  , 0.01],\n",
       "        [0.  , 0.  , 1.  , 0.  ],\n",
       "        [0.  , 0.  , 0.  , 1.  ]])"
      ]
     },
     "metadata": {},
     "output_type": "display_data"
    },
    {
     "data": {
      "text/plain": [
       "matrix([[ 7.55166655e+02],\n",
       "        [ 7.87578445e+01],\n",
       "        [-1.10273163e+00],\n",
       "        [-1.15006092e-01]])"
      ]
     },
     "metadata": {},
     "output_type": "display_data"
    },
    {
     "data": {
      "text/plain": [
       "matrix([[1.  , 0.  , 0.01, 0.  ],\n",
       "        [0.  , 1.  , 0.  , 0.01],\n",
       "        [0.  , 0.  , 1.  , 0.  ],\n",
       "        [0.  , 0.  , 0.  , 1.  ]])"
      ]
     },
     "metadata": {},
     "output_type": "display_data"
    },
    {
     "data": {
      "text/plain": [
       "matrix([[ 7.55155627e+02],\n",
       "        [ 7.87566944e+01],\n",
       "        [-1.10273163e+00],\n",
       "        [-1.15006092e-01]])"
      ]
     },
     "metadata": {},
     "output_type": "display_data"
    },
    {
     "data": {
      "text/plain": [
       "matrix([[1.  , 0.  , 0.01, 0.  ],\n",
       "        [0.  , 1.  , 0.  , 0.01],\n",
       "        [0.  , 0.  , 1.  , 0.  ],\n",
       "        [0.  , 0.  , 0.  , 1.  ]])"
      ]
     },
     "metadata": {},
     "output_type": "display_data"
    },
    {
     "data": {
      "text/plain": [
       "matrix([[ 7.55144600e+02],\n",
       "        [ 7.87555444e+01],\n",
       "        [-1.10273163e+00],\n",
       "        [-1.15006092e-01]])"
      ]
     },
     "metadata": {},
     "output_type": "display_data"
    },
    {
     "data": {
      "text/plain": [
       "matrix([[1.  , 0.  , 0.01, 0.  ],\n",
       "        [0.  , 1.  , 0.  , 0.01],\n",
       "        [0.  , 0.  , 1.  , 0.  ],\n",
       "        [0.  , 0.  , 0.  , 1.  ]])"
      ]
     },
     "metadata": {},
     "output_type": "display_data"
    },
    {
     "data": {
      "text/plain": [
       "matrix([[ 7.55133573e+02],\n",
       "        [ 7.87543943e+01],\n",
       "        [-1.10273163e+00],\n",
       "        [-1.15006092e-01]])"
      ]
     },
     "metadata": {},
     "output_type": "display_data"
    },
    {
     "data": {
      "text/plain": [
       "matrix([[1.  , 0.  , 0.01, 0.  ],\n",
       "        [0.  , 1.  , 0.  , 0.01],\n",
       "        [0.  , 0.  , 1.  , 0.  ],\n",
       "        [0.  , 0.  , 0.  , 1.  ]])"
      ]
     },
     "metadata": {},
     "output_type": "display_data"
    },
    {
     "data": {
      "text/plain": [
       "matrix([[ 7.55122545e+02],\n",
       "        [ 7.87532442e+01],\n",
       "        [-1.10273163e+00],\n",
       "        [-1.15006092e-01]])"
      ]
     },
     "metadata": {},
     "output_type": "display_data"
    },
    {
     "data": {
      "text/plain": [
       "matrix([[1.  , 0.  , 0.01, 0.  ],\n",
       "        [0.  , 1.  , 0.  , 0.01],\n",
       "        [0.  , 0.  , 1.  , 0.  ],\n",
       "        [0.  , 0.  , 0.  , 1.  ]])"
      ]
     },
     "metadata": {},
     "output_type": "display_data"
    },
    {
     "data": {
      "text/plain": [
       "matrix([[ 7.55111518e+02],\n",
       "        [ 7.87520942e+01],\n",
       "        [-1.10273163e+00],\n",
       "        [-1.15006092e-01]])"
      ]
     },
     "metadata": {},
     "output_type": "display_data"
    },
    {
     "data": {
      "text/plain": [
       "matrix([[1.  , 0.  , 0.01, 0.  ],\n",
       "        [0.  , 1.  , 0.  , 0.01],\n",
       "        [0.  , 0.  , 1.  , 0.  ],\n",
       "        [0.  , 0.  , 0.  , 1.  ]])"
      ]
     },
     "metadata": {},
     "output_type": "display_data"
    },
    {
     "data": {
      "text/plain": [
       "matrix([[ 7.55100491e+02],\n",
       "        [ 7.87509441e+01],\n",
       "        [-1.10273163e+00],\n",
       "        [-1.15006092e-01]])"
      ]
     },
     "metadata": {},
     "output_type": "display_data"
    },
    {
     "data": {
      "text/plain": [
       "matrix([[1.  , 0.  , 0.01, 0.  ],\n",
       "        [0.  , 1.  , 0.  , 0.01],\n",
       "        [0.  , 0.  , 1.  , 0.  ],\n",
       "        [0.  , 0.  , 0.  , 1.  ]])"
      ]
     },
     "metadata": {},
     "output_type": "display_data"
    },
    {
     "data": {
      "text/plain": [
       "matrix([[ 7.55089463e+02],\n",
       "        [ 7.87497941e+01],\n",
       "        [-1.10273163e+00],\n",
       "        [-1.15006092e-01]])"
      ]
     },
     "metadata": {},
     "output_type": "display_data"
    },
    {
     "data": {
      "text/plain": [
       "matrix([[1.  , 0.  , 0.01, 0.  ],\n",
       "        [0.  , 1.  , 0.  , 0.01],\n",
       "        [0.  , 0.  , 1.  , 0.  ],\n",
       "        [0.  , 0.  , 0.  , 1.  ]])"
      ]
     },
     "metadata": {},
     "output_type": "display_data"
    },
    {
     "data": {
      "text/plain": [
       "matrix([[ 7.55078436e+02],\n",
       "        [ 7.87486440e+01],\n",
       "        [-1.10273163e+00],\n",
       "        [-1.15006092e-01]])"
      ]
     },
     "metadata": {},
     "output_type": "display_data"
    },
    {
     "data": {
      "text/plain": [
       "matrix([[1.  , 0.  , 0.01, 0.  ],\n",
       "        [0.  , 1.  , 0.  , 0.01],\n",
       "        [0.  , 0.  , 1.  , 0.  ],\n",
       "        [0.  , 0.  , 0.  , 1.  ]])"
      ]
     },
     "metadata": {},
     "output_type": "display_data"
    },
    {
     "data": {
      "text/plain": [
       "matrix([[ 7.55067409e+02],\n",
       "        [ 7.87474939e+01],\n",
       "        [-1.10273163e+00],\n",
       "        [-1.15006092e-01]])"
      ]
     },
     "metadata": {},
     "output_type": "display_data"
    },
    {
     "data": {
      "text/plain": [
       "matrix([[1.  , 0.  , 0.01, 0.  ],\n",
       "        [0.  , 1.  , 0.  , 0.01],\n",
       "        [0.  , 0.  , 1.  , 0.  ],\n",
       "        [0.  , 0.  , 0.  , 1.  ]])"
      ]
     },
     "metadata": {},
     "output_type": "display_data"
    },
    {
     "data": {
      "text/plain": [
       "matrix([[ 7.55056381e+02],\n",
       "        [ 7.87463439e+01],\n",
       "        [-1.10273163e+00],\n",
       "        [-1.15006092e-01]])"
      ]
     },
     "metadata": {},
     "output_type": "display_data"
    },
    {
     "data": {
      "text/plain": [
       "matrix([[1.  , 0.  , 0.01, 0.  ],\n",
       "        [0.  , 1.  , 0.  , 0.01],\n",
       "        [0.  , 0.  , 1.  , 0.  ],\n",
       "        [0.  , 0.  , 0.  , 1.  ]])"
      ]
     },
     "metadata": {},
     "output_type": "display_data"
    },
    {
     "data": {
      "text/plain": [
       "matrix([[ 7.55045354e+02],\n",
       "        [ 7.87451938e+01],\n",
       "        [-1.10273163e+00],\n",
       "        [-1.15006092e-01]])"
      ]
     },
     "metadata": {},
     "output_type": "display_data"
    },
    {
     "data": {
      "text/plain": [
       "matrix([[1.  , 0.  , 0.01, 0.  ],\n",
       "        [0.  , 1.  , 0.  , 0.01],\n",
       "        [0.  , 0.  , 1.  , 0.  ],\n",
       "        [0.  , 0.  , 0.  , 1.  ]])"
      ]
     },
     "metadata": {},
     "output_type": "display_data"
    },
    {
     "data": {
      "text/plain": [
       "matrix([[ 7.55034327e+02],\n",
       "        [ 7.87440438e+01],\n",
       "        [-1.10273163e+00],\n",
       "        [-1.15006092e-01]])"
      ]
     },
     "metadata": {},
     "output_type": "display_data"
    },
    {
     "data": {
      "text/plain": [
       "matrix([[1.  , 0.  , 0.01, 0.  ],\n",
       "        [0.  , 1.  , 0.  , 0.01],\n",
       "        [0.  , 0.  , 1.  , 0.  ],\n",
       "        [0.  , 0.  , 0.  , 1.  ]])"
      ]
     },
     "metadata": {},
     "output_type": "display_data"
    },
    {
     "data": {
      "text/plain": [
       "matrix([[ 7.55023299e+02],\n",
       "        [ 7.87428937e+01],\n",
       "        [-1.10273163e+00],\n",
       "        [-1.15006092e-01]])"
      ]
     },
     "metadata": {},
     "output_type": "display_data"
    },
    {
     "data": {
      "text/plain": [
       "matrix([[1.  , 0.  , 0.01, 0.  ],\n",
       "        [0.  , 1.  , 0.  , 0.01],\n",
       "        [0.  , 0.  , 1.  , 0.  ],\n",
       "        [0.  , 0.  , 0.  , 1.  ]])"
      ]
     },
     "metadata": {},
     "output_type": "display_data"
    },
    {
     "data": {
      "text/plain": [
       "matrix([[ 7.55012272e+02],\n",
       "        [ 7.87417436e+01],\n",
       "        [-1.10273163e+00],\n",
       "        [-1.15006092e-01]])"
      ]
     },
     "metadata": {},
     "output_type": "display_data"
    },
    {
     "data": {
      "text/plain": [
       "matrix([[1.  , 0.  , 0.01, 0.  ],\n",
       "        [0.  , 1.  , 0.  , 0.01],\n",
       "        [0.  , 0.  , 1.  , 0.  ],\n",
       "        [0.  , 0.  , 0.  , 1.  ]])"
      ]
     },
     "metadata": {},
     "output_type": "display_data"
    },
    {
     "data": {
      "text/plain": [
       "matrix([[ 7.55001245e+02],\n",
       "        [ 7.87405936e+01],\n",
       "        [-1.10273163e+00],\n",
       "        [-1.15006092e-01]])"
      ]
     },
     "metadata": {},
     "output_type": "display_data"
    },
    {
     "data": {
      "text/plain": [
       "matrix([[1.  , 0.  , 0.01, 0.  ],\n",
       "        [0.  , 1.  , 0.  , 0.01],\n",
       "        [0.  , 0.  , 1.  , 0.  ],\n",
       "        [0.  , 0.  , 0.  , 1.  ]])"
      ]
     },
     "metadata": {},
     "output_type": "display_data"
    },
    {
     "data": {
      "text/plain": [
       "matrix([[ 7.54990218e+02],\n",
       "        [ 7.87394435e+01],\n",
       "        [-1.10273163e+00],\n",
       "        [-1.15006092e-01]])"
      ]
     },
     "metadata": {},
     "output_type": "display_data"
    },
    {
     "data": {
      "text/plain": [
       "matrix([[1.  , 0.  , 0.01, 0.  ],\n",
       "        [0.  , 1.  , 0.  , 0.01],\n",
       "        [0.  , 0.  , 1.  , 0.  ],\n",
       "        [0.  , 0.  , 0.  , 1.  ]])"
      ]
     },
     "metadata": {},
     "output_type": "display_data"
    },
    {
     "data": {
      "text/plain": [
       "matrix([[ 7.54979190e+02],\n",
       "        [ 7.87382935e+01],\n",
       "        [-1.10273163e+00],\n",
       "        [-1.15006092e-01]])"
      ]
     },
     "metadata": {},
     "output_type": "display_data"
    },
    {
     "data": {
      "text/plain": [
       "matrix([[1.  , 0.  , 0.01, 0.  ],\n",
       "        [0.  , 1.  , 0.  , 0.01],\n",
       "        [0.  , 0.  , 1.  , 0.  ],\n",
       "        [0.  , 0.  , 0.  , 1.  ]])"
      ]
     },
     "metadata": {},
     "output_type": "display_data"
    },
    {
     "data": {
      "text/plain": [
       "matrix([[ 7.54968163e+02],\n",
       "        [ 7.87371434e+01],\n",
       "        [-1.10273163e+00],\n",
       "        [-1.15006092e-01]])"
      ]
     },
     "metadata": {},
     "output_type": "display_data"
    },
    {
     "data": {
      "text/plain": [
       "matrix([[1.  , 0.  , 0.01, 0.  ],\n",
       "        [0.  , 1.  , 0.  , 0.01],\n",
       "        [0.  , 0.  , 1.  , 0.  ],\n",
       "        [0.  , 0.  , 0.  , 1.  ]])"
      ]
     },
     "metadata": {},
     "output_type": "display_data"
    },
    {
     "data": {
      "text/plain": [
       "matrix([[ 7.54957136e+02],\n",
       "        [ 7.87359933e+01],\n",
       "        [-1.10273163e+00],\n",
       "        [-1.15006092e-01]])"
      ]
     },
     "metadata": {},
     "output_type": "display_data"
    },
    {
     "data": {
      "text/plain": [
       "matrix([[1.  , 0.  , 0.01, 0.  ],\n",
       "        [0.  , 1.  , 0.  , 0.01],\n",
       "        [0.  , 0.  , 1.  , 0.  ],\n",
       "        [0.  , 0.  , 0.  , 1.  ]])"
      ]
     },
     "metadata": {},
     "output_type": "display_data"
    },
    {
     "data": {
      "text/plain": [
       "matrix([[ 7.54946108e+02],\n",
       "        [ 7.87348433e+01],\n",
       "        [-1.10273163e+00],\n",
       "        [-1.15006092e-01]])"
      ]
     },
     "metadata": {},
     "output_type": "display_data"
    },
    {
     "data": {
      "text/plain": [
       "matrix([[1.  , 0.  , 0.01, 0.  ],\n",
       "        [0.  , 1.  , 0.  , 0.01],\n",
       "        [0.  , 0.  , 1.  , 0.  ],\n",
       "        [0.  , 0.  , 0.  , 1.  ]])"
      ]
     },
     "metadata": {},
     "output_type": "display_data"
    },
    {
     "data": {
      "text/plain": [
       "matrix([[ 7.54935081e+02],\n",
       "        [ 7.87336932e+01],\n",
       "        [-1.10273163e+00],\n",
       "        [-1.15006092e-01]])"
      ]
     },
     "metadata": {},
     "output_type": "display_data"
    },
    {
     "data": {
      "text/plain": [
       "matrix([[1.  , 0.  , 0.01, 0.  ],\n",
       "        [0.  , 1.  , 0.  , 0.01],\n",
       "        [0.  , 0.  , 1.  , 0.  ],\n",
       "        [0.  , 0.  , 0.  , 1.  ]])"
      ]
     },
     "metadata": {},
     "output_type": "display_data"
    },
    {
     "data": {
      "text/plain": [
       "matrix([[ 7.54924054e+02],\n",
       "        [ 7.87325431e+01],\n",
       "        [-1.10273163e+00],\n",
       "        [-1.15006092e-01]])"
      ]
     },
     "metadata": {},
     "output_type": "display_data"
    },
    {
     "data": {
      "text/plain": [
       "matrix([[1.  , 0.  , 0.01, 0.  ],\n",
       "        [0.  , 1.  , 0.  , 0.01],\n",
       "        [0.  , 0.  , 1.  , 0.  ],\n",
       "        [0.  , 0.  , 0.  , 1.  ]])"
      ]
     },
     "metadata": {},
     "output_type": "display_data"
    },
    {
     "data": {
      "text/plain": [
       "matrix([[ 7.54913026e+02],\n",
       "        [ 7.87313931e+01],\n",
       "        [-1.10273163e+00],\n",
       "        [-1.15006092e-01]])"
      ]
     },
     "metadata": {},
     "output_type": "display_data"
    },
    {
     "data": {
      "text/plain": [
       "matrix([[1.  , 0.  , 0.01, 0.  ],\n",
       "        [0.  , 1.  , 0.  , 0.01],\n",
       "        [0.  , 0.  , 1.  , 0.  ],\n",
       "        [0.  , 0.  , 0.  , 1.  ]])"
      ]
     },
     "metadata": {},
     "output_type": "display_data"
    },
    {
     "data": {
      "text/plain": [
       "matrix([[ 7.54901999e+02],\n",
       "        [ 7.87302430e+01],\n",
       "        [-1.10273163e+00],\n",
       "        [-1.15006092e-01]])"
      ]
     },
     "metadata": {},
     "output_type": "display_data"
    },
    {
     "data": {
      "text/plain": [
       "matrix([[1.  , 0.  , 0.01, 0.  ],\n",
       "        [0.  , 1.  , 0.  , 0.01],\n",
       "        [0.  , 0.  , 1.  , 0.  ],\n",
       "        [0.  , 0.  , 0.  , 1.  ]])"
      ]
     },
     "metadata": {},
     "output_type": "display_data"
    },
    {
     "data": {
      "text/plain": [
       "matrix([[ 7.54890972e+02],\n",
       "        [ 7.87290930e+01],\n",
       "        [-1.10273163e+00],\n",
       "        [-1.15006092e-01]])"
      ]
     },
     "metadata": {},
     "output_type": "display_data"
    },
    {
     "data": {
      "text/plain": [
       "matrix([[1.  , 0.  , 0.01, 0.  ],\n",
       "        [0.  , 1.  , 0.  , 0.01],\n",
       "        [0.  , 0.  , 1.  , 0.  ],\n",
       "        [0.  , 0.  , 0.  , 1.  ]])"
      ]
     },
     "metadata": {},
     "output_type": "display_data"
    },
    {
     "data": {
      "text/plain": [
       "matrix([[ 7.54879944e+02],\n",
       "        [ 7.87279429e+01],\n",
       "        [-1.10273163e+00],\n",
       "        [-1.15006092e-01]])"
      ]
     },
     "metadata": {},
     "output_type": "display_data"
    },
    {
     "data": {
      "text/plain": [
       "matrix([[1.  , 0.  , 0.01, 0.  ],\n",
       "        [0.  , 1.  , 0.  , 0.01],\n",
       "        [0.  , 0.  , 1.  , 0.  ],\n",
       "        [0.  , 0.  , 0.  , 1.  ]])"
      ]
     },
     "metadata": {},
     "output_type": "display_data"
    },
    {
     "data": {
      "text/plain": [
       "matrix([[ 7.54868917e+02],\n",
       "        [ 7.87267928e+01],\n",
       "        [-1.10273163e+00],\n",
       "        [-1.15006092e-01]])"
      ]
     },
     "metadata": {},
     "output_type": "display_data"
    },
    {
     "data": {
      "text/plain": [
       "matrix([[1.  , 0.  , 0.01, 0.  ],\n",
       "        [0.  , 1.  , 0.  , 0.01],\n",
       "        [0.  , 0.  , 1.  , 0.  ],\n",
       "        [0.  , 0.  , 0.  , 1.  ]])"
      ]
     },
     "metadata": {},
     "output_type": "display_data"
    },
    {
     "data": {
      "text/plain": [
       "matrix([[ 7.54857890e+02],\n",
       "        [ 7.87256428e+01],\n",
       "        [-1.10273163e+00],\n",
       "        [-1.15006092e-01]])"
      ]
     },
     "metadata": {},
     "output_type": "display_data"
    },
    {
     "data": {
      "text/plain": [
       "matrix([[1.  , 0.  , 0.01, 0.  ],\n",
       "        [0.  , 1.  , 0.  , 0.01],\n",
       "        [0.  , 0.  , 1.  , 0.  ],\n",
       "        [0.  , 0.  , 0.  , 1.  ]])"
      ]
     },
     "metadata": {},
     "output_type": "display_data"
    },
    {
     "data": {
      "text/plain": [
       "matrix([[ 7.54846862e+02],\n",
       "        [ 7.87244927e+01],\n",
       "        [-1.10273163e+00],\n",
       "        [-1.15006092e-01]])"
      ]
     },
     "metadata": {},
     "output_type": "display_data"
    },
    {
     "data": {
      "text/plain": [
       "matrix([[1.  , 0.  , 0.01, 0.  ],\n",
       "        [0.  , 1.  , 0.  , 0.01],\n",
       "        [0.  , 0.  , 1.  , 0.  ],\n",
       "        [0.  , 0.  , 0.  , 1.  ]])"
      ]
     },
     "metadata": {},
     "output_type": "display_data"
    },
    {
     "data": {
      "text/plain": [
       "matrix([[ 7.54835835e+02],\n",
       "        [ 7.87233427e+01],\n",
       "        [-1.10273163e+00],\n",
       "        [-1.15006092e-01]])"
      ]
     },
     "metadata": {},
     "output_type": "display_data"
    },
    {
     "data": {
      "text/plain": [
       "matrix([[1.  , 0.  , 0.01, 0.  ],\n",
       "        [0.  , 1.  , 0.  , 0.01],\n",
       "        [0.  , 0.  , 1.  , 0.  ],\n",
       "        [0.  , 0.  , 0.  , 1.  ]])"
      ]
     },
     "metadata": {},
     "output_type": "display_data"
    },
    {
     "data": {
      "text/plain": [
       "matrix([[ 7.54824808e+02],\n",
       "        [ 7.87221926e+01],\n",
       "        [-1.10273163e+00],\n",
       "        [-1.15006092e-01]])"
      ]
     },
     "metadata": {},
     "output_type": "display_data"
    },
    {
     "data": {
      "text/plain": [
       "matrix([[1.  , 0.  , 0.01, 0.  ],\n",
       "        [0.  , 1.  , 0.  , 0.01],\n",
       "        [0.  , 0.  , 1.  , 0.  ],\n",
       "        [0.  , 0.  , 0.  , 1.  ]])"
      ]
     },
     "metadata": {},
     "output_type": "display_data"
    },
    {
     "data": {
      "text/plain": [
       "matrix([[ 7.54813780e+02],\n",
       "        [ 7.87210425e+01],\n",
       "        [-1.10273163e+00],\n",
       "        [-1.15006092e-01]])"
      ]
     },
     "metadata": {},
     "output_type": "display_data"
    },
    {
     "data": {
      "text/plain": [
       "matrix([[1.  , 0.  , 0.01, 0.  ],\n",
       "        [0.  , 1.  , 0.  , 0.01],\n",
       "        [0.  , 0.  , 1.  , 0.  ],\n",
       "        [0.  , 0.  , 0.  , 1.  ]])"
      ]
     },
     "metadata": {},
     "output_type": "display_data"
    },
    {
     "data": {
      "text/plain": [
       "matrix([[ 7.54802753e+02],\n",
       "        [ 7.87198925e+01],\n",
       "        [-1.10273163e+00],\n",
       "        [-1.15006092e-01]])"
      ]
     },
     "metadata": {},
     "output_type": "display_data"
    },
    {
     "data": {
      "text/plain": [
       "matrix([[1.  , 0.  , 0.01, 0.  ],\n",
       "        [0.  , 1.  , 0.  , 0.01],\n",
       "        [0.  , 0.  , 1.  , 0.  ],\n",
       "        [0.  , 0.  , 0.  , 1.  ]])"
      ]
     },
     "metadata": {},
     "output_type": "display_data"
    },
    {
     "data": {
      "text/plain": [
       "matrix([[ 7.54791726e+02],\n",
       "        [ 7.87187424e+01],\n",
       "        [-1.10273163e+00],\n",
       "        [-1.15006092e-01]])"
      ]
     },
     "metadata": {},
     "output_type": "display_data"
    },
    {
     "data": {
      "text/plain": [
       "matrix([[1.  , 0.  , 0.01, 0.  ],\n",
       "        [0.  , 1.  , 0.  , 0.01],\n",
       "        [0.  , 0.  , 1.  , 0.  ],\n",
       "        [0.  , 0.  , 0.  , 1.  ]])"
      ]
     },
     "metadata": {},
     "output_type": "display_data"
    },
    {
     "data": {
      "text/plain": [
       "matrix([[ 7.54780699e+02],\n",
       "        [ 7.87175924e+01],\n",
       "        [-1.10273163e+00],\n",
       "        [-1.15006092e-01]])"
      ]
     },
     "metadata": {},
     "output_type": "display_data"
    },
    {
     "data": {
      "text/plain": [
       "matrix([[1.  , 0.  , 0.01, 0.  ],\n",
       "        [0.  , 1.  , 0.  , 0.01],\n",
       "        [0.  , 0.  , 1.  , 0.  ],\n",
       "        [0.  , 0.  , 0.  , 1.  ]])"
      ]
     },
     "metadata": {},
     "output_type": "display_data"
    },
    {
     "data": {
      "text/plain": [
       "matrix([[ 7.54769671e+02],\n",
       "        [ 7.87164423e+01],\n",
       "        [-1.10273163e+00],\n",
       "        [-1.15006092e-01]])"
      ]
     },
     "metadata": {},
     "output_type": "display_data"
    },
    {
     "data": {
      "text/plain": [
       "matrix([[1.  , 0.  , 0.01, 0.  ],\n",
       "        [0.  , 1.  , 0.  , 0.01],\n",
       "        [0.  , 0.  , 1.  , 0.  ],\n",
       "        [0.  , 0.  , 0.  , 1.  ]])"
      ]
     },
     "metadata": {},
     "output_type": "display_data"
    },
    {
     "data": {
      "text/plain": [
       "matrix([[ 7.54758644e+02],\n",
       "        [ 7.87152922e+01],\n",
       "        [-1.10273163e+00],\n",
       "        [-1.15006092e-01]])"
      ]
     },
     "metadata": {},
     "output_type": "display_data"
    },
    {
     "data": {
      "text/plain": [
       "matrix([[1.  , 0.  , 0.01, 0.  ],\n",
       "        [0.  , 1.  , 0.  , 0.01],\n",
       "        [0.  , 0.  , 1.  , 0.  ],\n",
       "        [0.  , 0.  , 0.  , 1.  ]])"
      ]
     },
     "metadata": {},
     "output_type": "display_data"
    },
    {
     "data": {
      "text/plain": [
       "matrix([[ 7.54747617e+02],\n",
       "        [ 7.87141422e+01],\n",
       "        [-1.10273163e+00],\n",
       "        [-1.15006092e-01]])"
      ]
     },
     "metadata": {},
     "output_type": "display_data"
    },
    {
     "data": {
      "text/plain": [
       "matrix([[1.  , 0.  , 0.01, 0.  ],\n",
       "        [0.  , 1.  , 0.  , 0.01],\n",
       "        [0.  , 0.  , 1.  , 0.  ],\n",
       "        [0.  , 0.  , 0.  , 1.  ]])"
      ]
     },
     "metadata": {},
     "output_type": "display_data"
    },
    {
     "data": {
      "text/plain": [
       "matrix([[ 7.54736589e+02],\n",
       "        [ 7.87129921e+01],\n",
       "        [-1.10273163e+00],\n",
       "        [-1.15006092e-01]])"
      ]
     },
     "metadata": {},
     "output_type": "display_data"
    },
    {
     "data": {
      "text/plain": [
       "matrix([[1.  , 0.  , 0.01, 0.  ],\n",
       "        [0.  , 1.  , 0.  , 0.01],\n",
       "        [0.  , 0.  , 1.  , 0.  ],\n",
       "        [0.  , 0.  , 0.  , 1.  ]])"
      ]
     },
     "metadata": {},
     "output_type": "display_data"
    },
    {
     "data": {
      "text/plain": [
       "matrix([[ 7.54725562e+02],\n",
       "        [ 7.87118421e+01],\n",
       "        [-1.10273163e+00],\n",
       "        [-1.15006092e-01]])"
      ]
     },
     "metadata": {},
     "output_type": "display_data"
    },
    {
     "data": {
      "text/plain": [
       "matrix([[1.  , 0.  , 0.01, 0.  ],\n",
       "        [0.  , 1.  , 0.  , 0.01],\n",
       "        [0.  , 0.  , 1.  , 0.  ],\n",
       "        [0.  , 0.  , 0.  , 1.  ]])"
      ]
     },
     "metadata": {},
     "output_type": "display_data"
    },
    {
     "data": {
      "text/plain": [
       "matrix([[ 7.54714535e+02],\n",
       "        [ 7.87106920e+01],\n",
       "        [-1.10273163e+00],\n",
       "        [-1.15006092e-01]])"
      ]
     },
     "metadata": {},
     "output_type": "display_data"
    },
    {
     "data": {
      "text/plain": [
       "matrix([[1.  , 0.  , 0.01, 0.  ],\n",
       "        [0.  , 1.  , 0.  , 0.01],\n",
       "        [0.  , 0.  , 1.  , 0.  ],\n",
       "        [0.  , 0.  , 0.  , 1.  ]])"
      ]
     },
     "metadata": {},
     "output_type": "display_data"
    },
    {
     "data": {
      "text/plain": [
       "matrix([[ 7.54703507e+02],\n",
       "        [ 7.87095419e+01],\n",
       "        [-1.10273163e+00],\n",
       "        [-1.15006092e-01]])"
      ]
     },
     "metadata": {},
     "output_type": "display_data"
    },
    {
     "data": {
      "text/plain": [
       "matrix([[1.  , 0.  , 0.01, 0.  ],\n",
       "        [0.  , 1.  , 0.  , 0.01],\n",
       "        [0.  , 0.  , 1.  , 0.  ],\n",
       "        [0.  , 0.  , 0.  , 1.  ]])"
      ]
     },
     "metadata": {},
     "output_type": "display_data"
    },
    {
     "data": {
      "text/plain": [
       "matrix([[ 7.54692480e+02],\n",
       "        [ 7.87083919e+01],\n",
       "        [-1.10273163e+00],\n",
       "        [-1.15006092e-01]])"
      ]
     },
     "metadata": {},
     "output_type": "display_data"
    },
    {
     "data": {
      "text/plain": [
       "matrix([[1.  , 0.  , 0.01, 0.  ],\n",
       "        [0.  , 1.  , 0.  , 0.01],\n",
       "        [0.  , 0.  , 1.  , 0.  ],\n",
       "        [0.  , 0.  , 0.  , 1.  ]])"
      ]
     },
     "metadata": {},
     "output_type": "display_data"
    },
    {
     "data": {
      "text/plain": [
       "matrix([[ 7.54681453e+02],\n",
       "        [ 7.87072418e+01],\n",
       "        [-1.10273163e+00],\n",
       "        [-1.15006092e-01]])"
      ]
     },
     "metadata": {},
     "output_type": "display_data"
    },
    {
     "data": {
      "text/plain": [
       "matrix([[1.  , 0.  , 0.01, 0.  ],\n",
       "        [0.  , 1.  , 0.  , 0.01],\n",
       "        [0.  , 0.  , 1.  , 0.  ],\n",
       "        [0.  , 0.  , 0.  , 1.  ]])"
      ]
     },
     "metadata": {},
     "output_type": "display_data"
    },
    {
     "data": {
      "text/plain": [
       "matrix([[ 7.54670425e+02],\n",
       "        [ 7.87060917e+01],\n",
       "        [-1.10273163e+00],\n",
       "        [-1.15006092e-01]])"
      ]
     },
     "metadata": {},
     "output_type": "display_data"
    },
    {
     "data": {
      "text/plain": [
       "matrix([[1.  , 0.  , 0.01, 0.  ],\n",
       "        [0.  , 1.  , 0.  , 0.01],\n",
       "        [0.  , 0.  , 1.  , 0.  ],\n",
       "        [0.  , 0.  , 0.  , 1.  ]])"
      ]
     },
     "metadata": {},
     "output_type": "display_data"
    },
    {
     "data": {
      "text/plain": [
       "matrix([[ 7.54659398e+02],\n",
       "        [ 7.87049417e+01],\n",
       "        [-1.10273163e+00],\n",
       "        [-1.15006092e-01]])"
      ]
     },
     "metadata": {},
     "output_type": "display_data"
    },
    {
     "data": {
      "text/plain": [
       "matrix([[1.  , 0.  , 0.01, 0.  ],\n",
       "        [0.  , 1.  , 0.  , 0.01],\n",
       "        [0.  , 0.  , 1.  , 0.  ],\n",
       "        [0.  , 0.  , 0.  , 1.  ]])"
      ]
     },
     "metadata": {},
     "output_type": "display_data"
    },
    {
     "data": {
      "text/plain": [
       "matrix([[ 7.54648371e+02],\n",
       "        [ 7.87037916e+01],\n",
       "        [-1.10273163e+00],\n",
       "        [-1.15006092e-01]])"
      ]
     },
     "metadata": {},
     "output_type": "display_data"
    },
    {
     "data": {
      "text/plain": [
       "matrix([[1.  , 0.  , 0.01, 0.  ],\n",
       "        [0.  , 1.  , 0.  , 0.01],\n",
       "        [0.  , 0.  , 1.  , 0.  ],\n",
       "        [0.  , 0.  , 0.  , 1.  ]])"
      ]
     },
     "metadata": {},
     "output_type": "display_data"
    },
    {
     "data": {
      "text/plain": [
       "matrix([[ 7.54637343e+02],\n",
       "        [ 7.87026416e+01],\n",
       "        [-1.10273163e+00],\n",
       "        [-1.15006092e-01]])"
      ]
     },
     "metadata": {},
     "output_type": "display_data"
    },
    {
     "data": {
      "text/plain": [
       "matrix([[1.  , 0.  , 0.01, 0.  ],\n",
       "        [0.  , 1.  , 0.  , 0.01],\n",
       "        [0.  , 0.  , 1.  , 0.  ],\n",
       "        [0.  , 0.  , 0.  , 1.  ]])"
      ]
     },
     "metadata": {},
     "output_type": "display_data"
    },
    {
     "data": {
      "text/plain": [
       "matrix([[ 7.54626316e+02],\n",
       "        [ 7.87014915e+01],\n",
       "        [-1.10273163e+00],\n",
       "        [-1.15006092e-01]])"
      ]
     },
     "metadata": {},
     "output_type": "display_data"
    },
    {
     "data": {
      "text/plain": [
       "matrix([[1.  , 0.  , 0.01, 0.  ],\n",
       "        [0.  , 1.  , 0.  , 0.01],\n",
       "        [0.  , 0.  , 1.  , 0.  ],\n",
       "        [0.  , 0.  , 0.  , 1.  ]])"
      ]
     },
     "metadata": {},
     "output_type": "display_data"
    },
    {
     "data": {
      "text/plain": [
       "matrix([[ 7.54615289e+02],\n",
       "        [ 7.87003414e+01],\n",
       "        [-1.10273163e+00],\n",
       "        [-1.15006092e-01]])"
      ]
     },
     "metadata": {},
     "output_type": "display_data"
    },
    {
     "data": {
      "text/plain": [
       "matrix([[1.  , 0.  , 0.01, 0.  ],\n",
       "        [0.  , 1.  , 0.  , 0.01],\n",
       "        [0.  , 0.  , 1.  , 0.  ],\n",
       "        [0.  , 0.  , 0.  , 1.  ]])"
      ]
     },
     "metadata": {},
     "output_type": "display_data"
    },
    {
     "data": {
      "text/plain": [
       "matrix([[ 7.54604261e+02],\n",
       "        [ 7.86991914e+01],\n",
       "        [-1.10273163e+00],\n",
       "        [-1.15006092e-01]])"
      ]
     },
     "metadata": {},
     "output_type": "display_data"
    },
    {
     "data": {
      "text/plain": [
       "matrix([[1.  , 0.  , 0.01, 0.  ],\n",
       "        [0.  , 1.  , 0.  , 0.01],\n",
       "        [0.  , 0.  , 1.  , 0.  ],\n",
       "        [0.  , 0.  , 0.  , 1.  ]])"
      ]
     },
     "metadata": {},
     "output_type": "display_data"
    },
    {
     "data": {
      "text/plain": [
       "matrix([[ 7.54593234e+02],\n",
       "        [ 7.86980413e+01],\n",
       "        [-1.10273163e+00],\n",
       "        [-1.15006092e-01]])"
      ]
     },
     "metadata": {},
     "output_type": "display_data"
    },
    {
     "data": {
      "text/plain": [
       "matrix([[1.  , 0.  , 0.01, 0.  ],\n",
       "        [0.  , 1.  , 0.  , 0.01],\n",
       "        [0.  , 0.  , 1.  , 0.  ],\n",
       "        [0.  , 0.  , 0.  , 1.  ]])"
      ]
     },
     "metadata": {},
     "output_type": "display_data"
    },
    {
     "data": {
      "text/plain": [
       "matrix([[ 7.54582207e+02],\n",
       "        [ 7.86968913e+01],\n",
       "        [-1.10273163e+00],\n",
       "        [-1.15006092e-01]])"
      ]
     },
     "metadata": {},
     "output_type": "display_data"
    },
    {
     "data": {
      "text/plain": [
       "matrix([[1.  , 0.  , 0.01, 0.  ],\n",
       "        [0.  , 1.  , 0.  , 0.01],\n",
       "        [0.  , 0.  , 1.  , 0.  ],\n",
       "        [0.  , 0.  , 0.  , 1.  ]])"
      ]
     },
     "metadata": {},
     "output_type": "display_data"
    },
    {
     "data": {
      "text/plain": [
       "matrix([[ 7.54571180e+02],\n",
       "        [ 7.86957412e+01],\n",
       "        [-1.10273163e+00],\n",
       "        [-1.15006092e-01]])"
      ]
     },
     "metadata": {},
     "output_type": "display_data"
    },
    {
     "data": {
      "text/plain": [
       "matrix([[1.  , 0.  , 0.01, 0.  ],\n",
       "        [0.  , 1.  , 0.  , 0.01],\n",
       "        [0.  , 0.  , 1.  , 0.  ],\n",
       "        [0.  , 0.  , 0.  , 1.  ]])"
      ]
     },
     "metadata": {},
     "output_type": "display_data"
    },
    {
     "data": {
      "text/plain": [
       "matrix([[ 7.54560152e+02],\n",
       "        [ 7.86945911e+01],\n",
       "        [-1.10273163e+00],\n",
       "        [-1.15006092e-01]])"
      ]
     },
     "metadata": {},
     "output_type": "display_data"
    },
    {
     "data": {
      "text/plain": [
       "matrix([[1.  , 0.  , 0.01, 0.  ],\n",
       "        [0.  , 1.  , 0.  , 0.01],\n",
       "        [0.  , 0.  , 1.  , 0.  ],\n",
       "        [0.  , 0.  , 0.  , 1.  ]])"
      ]
     },
     "metadata": {},
     "output_type": "display_data"
    },
    {
     "data": {
      "text/plain": [
       "matrix([[ 7.54549125e+02],\n",
       "        [ 7.86934411e+01],\n",
       "        [-1.10273163e+00],\n",
       "        [-1.15006092e-01]])"
      ]
     },
     "metadata": {},
     "output_type": "display_data"
    },
    {
     "data": {
      "text/plain": [
       "matrix([[1.  , 0.  , 0.01, 0.  ],\n",
       "        [0.  , 1.  , 0.  , 0.01],\n",
       "        [0.  , 0.  , 1.  , 0.  ],\n",
       "        [0.  , 0.  , 0.  , 1.  ]])"
      ]
     },
     "metadata": {},
     "output_type": "display_data"
    },
    {
     "data": {
      "text/plain": [
       "matrix([[ 7.54538098e+02],\n",
       "        [ 7.86922910e+01],\n",
       "        [-1.10273163e+00],\n",
       "        [-1.15006092e-01]])"
      ]
     },
     "metadata": {},
     "output_type": "display_data"
    },
    {
     "data": {
      "text/plain": [
       "matrix([[1.  , 0.  , 0.01, 0.  ],\n",
       "        [0.  , 1.  , 0.  , 0.01],\n",
       "        [0.  , 0.  , 1.  , 0.  ],\n",
       "        [0.  , 0.  , 0.  , 1.  ]])"
      ]
     },
     "metadata": {},
     "output_type": "display_data"
    },
    {
     "data": {
      "text/plain": [
       "matrix([[ 7.54527070e+02],\n",
       "        [ 7.86911410e+01],\n",
       "        [-1.10273163e+00],\n",
       "        [-1.15006092e-01]])"
      ]
     },
     "metadata": {},
     "output_type": "display_data"
    },
    {
     "data": {
      "text/plain": [
       "matrix([[1.  , 0.  , 0.01, 0.  ],\n",
       "        [0.  , 1.  , 0.  , 0.01],\n",
       "        [0.  , 0.  , 1.  , 0.  ],\n",
       "        [0.  , 0.  , 0.  , 1.  ]])"
      ]
     },
     "metadata": {},
     "output_type": "display_data"
    },
    {
     "data": {
      "text/plain": [
       "matrix([[ 7.54516043e+02],\n",
       "        [ 7.86899909e+01],\n",
       "        [-1.10273163e+00],\n",
       "        [-1.15006092e-01]])"
      ]
     },
     "metadata": {},
     "output_type": "display_data"
    },
    {
     "data": {
      "text/plain": [
       "matrix([[1.  , 0.  , 0.01, 0.  ],\n",
       "        [0.  , 1.  , 0.  , 0.01],\n",
       "        [0.  , 0.  , 1.  , 0.  ],\n",
       "        [0.  , 0.  , 0.  , 1.  ]])"
      ]
     },
     "metadata": {},
     "output_type": "display_data"
    },
    {
     "data": {
      "text/plain": [
       "matrix([[ 7.54505016e+02],\n",
       "        [ 7.86888408e+01],\n",
       "        [-1.10273163e+00],\n",
       "        [-1.15006092e-01]])"
      ]
     },
     "metadata": {},
     "output_type": "display_data"
    },
    {
     "data": {
      "text/plain": [
       "matrix([[1.  , 0.  , 0.01, 0.  ],\n",
       "        [0.  , 1.  , 0.  , 0.01],\n",
       "        [0.  , 0.  , 1.  , 0.  ],\n",
       "        [0.  , 0.  , 0.  , 1.  ]])"
      ]
     },
     "metadata": {},
     "output_type": "display_data"
    },
    {
     "data": {
      "text/plain": [
       "matrix([[ 7.54493988e+02],\n",
       "        [ 7.86876908e+01],\n",
       "        [-1.10273163e+00],\n",
       "        [-1.15006092e-01]])"
      ]
     },
     "metadata": {},
     "output_type": "display_data"
    },
    {
     "data": {
      "text/plain": [
       "matrix([[1.  , 0.  , 0.01, 0.  ],\n",
       "        [0.  , 1.  , 0.  , 0.01],\n",
       "        [0.  , 0.  , 1.  , 0.  ],\n",
       "        [0.  , 0.  , 0.  , 1.  ]])"
      ]
     },
     "metadata": {},
     "output_type": "display_data"
    },
    {
     "data": {
      "text/plain": [
       "matrix([[ 7.54482961e+02],\n",
       "        [ 7.86865407e+01],\n",
       "        [-1.10273163e+00],\n",
       "        [-1.15006092e-01]])"
      ]
     },
     "metadata": {},
     "output_type": "display_data"
    },
    {
     "data": {
      "text/plain": [
       "matrix([[1.  , 0.  , 0.01, 0.  ],\n",
       "        [0.  , 1.  , 0.  , 0.01],\n",
       "        [0.  , 0.  , 1.  , 0.  ],\n",
       "        [0.  , 0.  , 0.  , 1.  ]])"
      ]
     },
     "metadata": {},
     "output_type": "display_data"
    },
    {
     "data": {
      "text/plain": [
       "matrix([[ 7.54471934e+02],\n",
       "        [ 7.86853906e+01],\n",
       "        [-1.10273163e+00],\n",
       "        [-1.15006092e-01]])"
      ]
     },
     "metadata": {},
     "output_type": "display_data"
    },
    {
     "data": {
      "text/plain": [
       "matrix([[1.  , 0.  , 0.01, 0.  ],\n",
       "        [0.  , 1.  , 0.  , 0.01],\n",
       "        [0.  , 0.  , 1.  , 0.  ],\n",
       "        [0.  , 0.  , 0.  , 1.  ]])"
      ]
     },
     "metadata": {},
     "output_type": "display_data"
    },
    {
     "data": {
      "text/plain": [
       "matrix([[ 7.54460906e+02],\n",
       "        [ 7.86842406e+01],\n",
       "        [-1.10273163e+00],\n",
       "        [-1.15006092e-01]])"
      ]
     },
     "metadata": {},
     "output_type": "display_data"
    },
    {
     "data": {
      "text/plain": [
       "matrix([[1.  , 0.  , 0.01, 0.  ],\n",
       "        [0.  , 1.  , 0.  , 0.01],\n",
       "        [0.  , 0.  , 1.  , 0.  ],\n",
       "        [0.  , 0.  , 0.  , 1.  ]])"
      ]
     },
     "metadata": {},
     "output_type": "display_data"
    },
    {
     "data": {
      "text/plain": [
       "matrix([[ 7.54449879e+02],\n",
       "        [ 7.86830905e+01],\n",
       "        [-1.10273163e+00],\n",
       "        [-1.15006092e-01]])"
      ]
     },
     "metadata": {},
     "output_type": "display_data"
    },
    {
     "data": {
      "text/plain": [
       "matrix([[1.  , 0.  , 0.01, 0.  ],\n",
       "        [0.  , 1.  , 0.  , 0.01],\n",
       "        [0.  , 0.  , 1.  , 0.  ],\n",
       "        [0.  , 0.  , 0.  , 1.  ]])"
      ]
     },
     "metadata": {},
     "output_type": "display_data"
    },
    {
     "data": {
      "text/plain": [
       "matrix([[ 7.54438852e+02],\n",
       "        [ 7.86819405e+01],\n",
       "        [-1.10273163e+00],\n",
       "        [-1.15006092e-01]])"
      ]
     },
     "metadata": {},
     "output_type": "display_data"
    },
    {
     "data": {
      "text/plain": [
       "matrix([[1.  , 0.  , 0.01, 0.  ],\n",
       "        [0.  , 1.  , 0.  , 0.01],\n",
       "        [0.  , 0.  , 1.  , 0.  ],\n",
       "        [0.  , 0.  , 0.  , 1.  ]])"
      ]
     },
     "metadata": {},
     "output_type": "display_data"
    },
    {
     "data": {
      "text/plain": [
       "matrix([[ 7.54427824e+02],\n",
       "        [ 7.86807904e+01],\n",
       "        [-1.10273163e+00],\n",
       "        [-1.15006092e-01]])"
      ]
     },
     "metadata": {},
     "output_type": "display_data"
    },
    {
     "data": {
      "text/plain": [
       "matrix([[1.  , 0.  , 0.01, 0.  ],\n",
       "        [0.  , 1.  , 0.  , 0.01],\n",
       "        [0.  , 0.  , 1.  , 0.  ],\n",
       "        [0.  , 0.  , 0.  , 1.  ]])"
      ]
     },
     "metadata": {},
     "output_type": "display_data"
    },
    {
     "data": {
      "text/plain": [
       "matrix([[ 7.54416797e+02],\n",
       "        [ 7.86796403e+01],\n",
       "        [-1.10273163e+00],\n",
       "        [-1.15006092e-01]])"
      ]
     },
     "metadata": {},
     "output_type": "display_data"
    },
    {
     "data": {
      "text/plain": [
       "matrix([[1.  , 0.  , 0.01, 0.  ],\n",
       "        [0.  , 1.  , 0.  , 0.01],\n",
       "        [0.  , 0.  , 1.  , 0.  ],\n",
       "        [0.  , 0.  , 0.  , 1.  ]])"
      ]
     },
     "metadata": {},
     "output_type": "display_data"
    },
    {
     "data": {
      "text/plain": [
       "matrix([[ 7.54405770e+02],\n",
       "        [ 7.86784903e+01],\n",
       "        [-1.10273163e+00],\n",
       "        [-1.15006092e-01]])"
      ]
     },
     "metadata": {},
     "output_type": "display_data"
    },
    {
     "data": {
      "text/plain": [
       "matrix([[1.  , 0.  , 0.01, 0.  ],\n",
       "        [0.  , 1.  , 0.  , 0.01],\n",
       "        [0.  , 0.  , 1.  , 0.  ],\n",
       "        [0.  , 0.  , 0.  , 1.  ]])"
      ]
     },
     "metadata": {},
     "output_type": "display_data"
    },
    {
     "data": {
      "text/plain": [
       "matrix([[ 7.54394742e+02],\n",
       "        [ 7.86773402e+01],\n",
       "        [-1.10273163e+00],\n",
       "        [-1.15006092e-01]])"
      ]
     },
     "metadata": {},
     "output_type": "display_data"
    },
    {
     "data": {
      "text/plain": [
       "matrix([[1.  , 0.  , 0.01, 0.  ],\n",
       "        [0.  , 1.  , 0.  , 0.01],\n",
       "        [0.  , 0.  , 1.  , 0.  ],\n",
       "        [0.  , 0.  , 0.  , 1.  ]])"
      ]
     },
     "metadata": {},
     "output_type": "display_data"
    },
    {
     "data": {
      "text/plain": [
       "matrix([[ 7.54383715e+02],\n",
       "        [ 7.86761902e+01],\n",
       "        [-1.10273163e+00],\n",
       "        [-1.15006092e-01]])"
      ]
     },
     "metadata": {},
     "output_type": "display_data"
    },
    {
     "data": {
      "text/plain": [
       "matrix([[1.  , 0.  , 0.01, 0.  ],\n",
       "        [0.  , 1.  , 0.  , 0.01],\n",
       "        [0.  , 0.  , 1.  , 0.  ],\n",
       "        [0.  , 0.  , 0.  , 1.  ]])"
      ]
     },
     "metadata": {},
     "output_type": "display_data"
    },
    {
     "data": {
      "text/plain": [
       "matrix([[ 7.54372688e+02],\n",
       "        [ 7.86750401e+01],\n",
       "        [-1.10273163e+00],\n",
       "        [-1.15006092e-01]])"
      ]
     },
     "metadata": {},
     "output_type": "display_data"
    },
    {
     "data": {
      "text/plain": [
       "matrix([[1.  , 0.  , 0.01, 0.  ],\n",
       "        [0.  , 1.  , 0.  , 0.01],\n",
       "        [0.  , 0.  , 1.  , 0.  ],\n",
       "        [0.  , 0.  , 0.  , 1.  ]])"
      ]
     },
     "metadata": {},
     "output_type": "display_data"
    },
    {
     "data": {
      "text/plain": [
       "matrix([[ 7.54361661e+02],\n",
       "        [ 7.86738900e+01],\n",
       "        [-1.10273163e+00],\n",
       "        [-1.15006092e-01]])"
      ]
     },
     "metadata": {},
     "output_type": "display_data"
    },
    {
     "data": {
      "text/plain": [
       "matrix([[1.  , 0.  , 0.01, 0.  ],\n",
       "        [0.  , 1.  , 0.  , 0.01],\n",
       "        [0.  , 0.  , 1.  , 0.  ],\n",
       "        [0.  , 0.  , 0.  , 1.  ]])"
      ]
     },
     "metadata": {},
     "output_type": "display_data"
    },
    {
     "data": {
      "text/plain": [
       "matrix([[ 7.54350633e+02],\n",
       "        [ 7.86727400e+01],\n",
       "        [-1.10273163e+00],\n",
       "        [-1.15006092e-01]])"
      ]
     },
     "metadata": {},
     "output_type": "display_data"
    },
    {
     "data": {
      "text/plain": [
       "matrix([[1.  , 0.  , 0.01, 0.  ],\n",
       "        [0.  , 1.  , 0.  , 0.01],\n",
       "        [0.  , 0.  , 1.  , 0.  ],\n",
       "        [0.  , 0.  , 0.  , 1.  ]])"
      ]
     },
     "metadata": {},
     "output_type": "display_data"
    },
    {
     "data": {
      "text/plain": [
       "matrix([[ 7.54339606e+02],\n",
       "        [ 7.86715899e+01],\n",
       "        [-1.10273163e+00],\n",
       "        [-1.15006092e-01]])"
      ]
     },
     "metadata": {},
     "output_type": "display_data"
    },
    {
     "data": {
      "text/plain": [
       "matrix([[1.  , 0.  , 0.01, 0.  ],\n",
       "        [0.  , 1.  , 0.  , 0.01],\n",
       "        [0.  , 0.  , 1.  , 0.  ],\n",
       "        [0.  , 0.  , 0.  , 1.  ]])"
      ]
     },
     "metadata": {},
     "output_type": "display_data"
    },
    {
     "data": {
      "text/plain": [
       "matrix([[ 7.54328579e+02],\n",
       "        [ 7.86704399e+01],\n",
       "        [-1.10273163e+00],\n",
       "        [-1.15006092e-01]])"
      ]
     },
     "metadata": {},
     "output_type": "display_data"
    },
    {
     "data": {
      "text/plain": [
       "matrix([[1.  , 0.  , 0.01, 0.  ],\n",
       "        [0.  , 1.  , 0.  , 0.01],\n",
       "        [0.  , 0.  , 1.  , 0.  ],\n",
       "        [0.  , 0.  , 0.  , 1.  ]])"
      ]
     },
     "metadata": {},
     "output_type": "display_data"
    },
    {
     "data": {
      "text/plain": [
       "matrix([[ 7.54317551e+02],\n",
       "        [ 7.86692898e+01],\n",
       "        [-1.10273163e+00],\n",
       "        [-1.15006092e-01]])"
      ]
     },
     "metadata": {},
     "output_type": "display_data"
    },
    {
     "data": {
      "text/plain": [
       "matrix([[1.  , 0.  , 0.01, 0.  ],\n",
       "        [0.  , 1.  , 0.  , 0.01],\n",
       "        [0.  , 0.  , 1.  , 0.  ],\n",
       "        [0.  , 0.  , 0.  , 1.  ]])"
      ]
     },
     "metadata": {},
     "output_type": "display_data"
    },
    {
     "data": {
      "text/plain": [
       "matrix([[ 7.54306524e+02],\n",
       "        [ 7.86681397e+01],\n",
       "        [-1.10273163e+00],\n",
       "        [-1.15006092e-01]])"
      ]
     },
     "metadata": {},
     "output_type": "display_data"
    },
    {
     "data": {
      "text/plain": [
       "matrix([[1.  , 0.  , 0.01, 0.  ],\n",
       "        [0.  , 1.  , 0.  , 0.01],\n",
       "        [0.  , 0.  , 1.  , 0.  ],\n",
       "        [0.  , 0.  , 0.  , 1.  ]])"
      ]
     },
     "metadata": {},
     "output_type": "display_data"
    },
    {
     "data": {
      "text/plain": [
       "matrix([[ 7.54295497e+02],\n",
       "        [ 7.86669897e+01],\n",
       "        [-1.10273163e+00],\n",
       "        [-1.15006092e-01]])"
      ]
     },
     "metadata": {},
     "output_type": "display_data"
    },
    {
     "data": {
      "text/plain": [
       "matrix([[1.  , 0.  , 0.01, 0.  ],\n",
       "        [0.  , 1.  , 0.  , 0.01],\n",
       "        [0.  , 0.  , 1.  , 0.  ],\n",
       "        [0.  , 0.  , 0.  , 1.  ]])"
      ]
     },
     "metadata": {},
     "output_type": "display_data"
    },
    {
     "data": {
      "text/plain": [
       "matrix([[ 7.54284469e+02],\n",
       "        [ 7.86658396e+01],\n",
       "        [-1.10273163e+00],\n",
       "        [-1.15006092e-01]])"
      ]
     },
     "metadata": {},
     "output_type": "display_data"
    },
    {
     "data": {
      "text/plain": [
       "matrix([[1.  , 0.  , 0.01, 0.  ],\n",
       "        [0.  , 1.  , 0.  , 0.01],\n",
       "        [0.  , 0.  , 1.  , 0.  ],\n",
       "        [0.  , 0.  , 0.  , 1.  ]])"
      ]
     },
     "metadata": {},
     "output_type": "display_data"
    },
    {
     "data": {
      "text/plain": [
       "matrix([[ 7.54273442e+02],\n",
       "        [ 7.86646896e+01],\n",
       "        [-1.10273163e+00],\n",
       "        [-1.15006092e-01]])"
      ]
     },
     "metadata": {},
     "output_type": "display_data"
    },
    {
     "data": {
      "text/plain": [
       "matrix([[1.  , 0.  , 0.01, 0.  ],\n",
       "        [0.  , 1.  , 0.  , 0.01],\n",
       "        [0.  , 0.  , 1.  , 0.  ],\n",
       "        [0.  , 0.  , 0.  , 1.  ]])"
      ]
     },
     "metadata": {},
     "output_type": "display_data"
    },
    {
     "data": {
      "text/plain": [
       "matrix([[ 7.54262415e+02],\n",
       "        [ 7.86635395e+01],\n",
       "        [-1.10273163e+00],\n",
       "        [-1.15006092e-01]])"
      ]
     },
     "metadata": {},
     "output_type": "display_data"
    },
    {
     "data": {
      "text/plain": [
       "matrix([[1.  , 0.  , 0.01, 0.  ],\n",
       "        [0.  , 1.  , 0.  , 0.01],\n",
       "        [0.  , 0.  , 1.  , 0.  ],\n",
       "        [0.  , 0.  , 0.  , 1.  ]])"
      ]
     },
     "metadata": {},
     "output_type": "display_data"
    },
    {
     "data": {
      "text/plain": [
       "matrix([[ 7.54251387e+02],\n",
       "        [ 7.86623894e+01],\n",
       "        [-1.10273163e+00],\n",
       "        [-1.15006092e-01]])"
      ]
     },
     "metadata": {},
     "output_type": "display_data"
    },
    {
     "data": {
      "text/plain": [
       "matrix([[1.  , 0.  , 0.01, 0.  ],\n",
       "        [0.  , 1.  , 0.  , 0.01],\n",
       "        [0.  , 0.  , 1.  , 0.  ],\n",
       "        [0.  , 0.  , 0.  , 1.  ]])"
      ]
     },
     "metadata": {},
     "output_type": "display_data"
    },
    {
     "data": {
      "text/plain": [
       "matrix([[ 7.54240360e+02],\n",
       "        [ 7.86612394e+01],\n",
       "        [-1.10273163e+00],\n",
       "        [-1.15006092e-01]])"
      ]
     },
     "metadata": {},
     "output_type": "display_data"
    },
    {
     "data": {
      "text/plain": [
       "matrix([[1.  , 0.  , 0.01, 0.  ],\n",
       "        [0.  , 1.  , 0.  , 0.01],\n",
       "        [0.  , 0.  , 1.  , 0.  ],\n",
       "        [0.  , 0.  , 0.  , 1.  ]])"
      ]
     },
     "metadata": {},
     "output_type": "display_data"
    },
    {
     "data": {
      "text/plain": [
       "matrix([[ 7.54229333e+02],\n",
       "        [ 7.86600893e+01],\n",
       "        [-1.10273163e+00],\n",
       "        [-1.15006092e-01]])"
      ]
     },
     "metadata": {},
     "output_type": "display_data"
    },
    {
     "data": {
      "text/plain": [
       "matrix([[1.  , 0.  , 0.01, 0.  ],\n",
       "        [0.  , 1.  , 0.  , 0.01],\n",
       "        [0.  , 0.  , 1.  , 0.  ],\n",
       "        [0.  , 0.  , 0.  , 1.  ]])"
      ]
     },
     "metadata": {},
     "output_type": "display_data"
    },
    {
     "data": {
      "text/plain": [
       "matrix([[ 7.54218305e+02],\n",
       "        [ 7.86589392e+01],\n",
       "        [-1.10273163e+00],\n",
       "        [-1.15006092e-01]])"
      ]
     },
     "metadata": {},
     "output_type": "display_data"
    },
    {
     "data": {
      "text/plain": [
       "matrix([[1.  , 0.  , 0.01, 0.  ],\n",
       "        [0.  , 1.  , 0.  , 0.01],\n",
       "        [0.  , 0.  , 1.  , 0.  ],\n",
       "        [0.  , 0.  , 0.  , 1.  ]])"
      ]
     },
     "metadata": {},
     "output_type": "display_data"
    },
    {
     "data": {
      "text/plain": [
       "matrix([[ 7.54207278e+02],\n",
       "        [ 7.86577892e+01],\n",
       "        [-1.10273163e+00],\n",
       "        [-1.15006092e-01]])"
      ]
     },
     "metadata": {},
     "output_type": "display_data"
    },
    {
     "data": {
      "text/plain": [
       "matrix([[1.  , 0.  , 0.01, 0.  ],\n",
       "        [0.  , 1.  , 0.  , 0.01],\n",
       "        [0.  , 0.  , 1.  , 0.  ],\n",
       "        [0.  , 0.  , 0.  , 1.  ]])"
      ]
     },
     "metadata": {},
     "output_type": "display_data"
    },
    {
     "data": {
      "text/plain": [
       "matrix([[ 7.54196251e+02],\n",
       "        [ 7.86566391e+01],\n",
       "        [-1.10273163e+00],\n",
       "        [-1.15006092e-01]])"
      ]
     },
     "metadata": {},
     "output_type": "display_data"
    },
    {
     "data": {
      "text/plain": [
       "matrix([[1.  , 0.  , 0.01, 0.  ],\n",
       "        [0.  , 1.  , 0.  , 0.01],\n",
       "        [0.  , 0.  , 1.  , 0.  ],\n",
       "        [0.  , 0.  , 0.  , 1.  ]])"
      ]
     },
     "metadata": {},
     "output_type": "display_data"
    },
    {
     "data": {
      "text/plain": [
       "matrix([[ 7.54185223e+02],\n",
       "        [ 7.86554891e+01],\n",
       "        [-1.10273163e+00],\n",
       "        [-1.15006092e-01]])"
      ]
     },
     "metadata": {},
     "output_type": "display_data"
    },
    {
     "data": {
      "text/plain": [
       "matrix([[1.  , 0.  , 0.01, 0.  ],\n",
       "        [0.  , 1.  , 0.  , 0.01],\n",
       "        [0.  , 0.  , 1.  , 0.  ],\n",
       "        [0.  , 0.  , 0.  , 1.  ]])"
      ]
     },
     "metadata": {},
     "output_type": "display_data"
    },
    {
     "data": {
      "text/plain": [
       "matrix([[ 7.54174196e+02],\n",
       "        [ 7.86543390e+01],\n",
       "        [-1.10273163e+00],\n",
       "        [-1.15006092e-01]])"
      ]
     },
     "metadata": {},
     "output_type": "display_data"
    },
    {
     "data": {
      "text/plain": [
       "matrix([[1.  , 0.  , 0.01, 0.  ],\n",
       "        [0.  , 1.  , 0.  , 0.01],\n",
       "        [0.  , 0.  , 1.  , 0.  ],\n",
       "        [0.  , 0.  , 0.  , 1.  ]])"
      ]
     },
     "metadata": {},
     "output_type": "display_data"
    },
    {
     "data": {
      "text/plain": [
       "matrix([[ 7.54163169e+02],\n",
       "        [ 7.86531889e+01],\n",
       "        [-1.10273163e+00],\n",
       "        [-1.15006092e-01]])"
      ]
     },
     "metadata": {},
     "output_type": "display_data"
    },
    {
     "data": {
      "text/plain": [
       "matrix([[1.  , 0.  , 0.01, 0.  ],\n",
       "        [0.  , 1.  , 0.  , 0.01],\n",
       "        [0.  , 0.  , 1.  , 0.  ],\n",
       "        [0.  , 0.  , 0.  , 1.  ]])"
      ]
     },
     "metadata": {},
     "output_type": "display_data"
    },
    {
     "data": {
      "text/plain": [
       "matrix([[ 7.54152142e+02],\n",
       "        [ 7.86520389e+01],\n",
       "        [-1.10273163e+00],\n",
       "        [-1.15006092e-01]])"
      ]
     },
     "metadata": {},
     "output_type": "display_data"
    },
    {
     "data": {
      "text/plain": [
       "matrix([[1.  , 0.  , 0.01, 0.  ],\n",
       "        [0.  , 1.  , 0.  , 0.01],\n",
       "        [0.  , 0.  , 1.  , 0.  ],\n",
       "        [0.  , 0.  , 0.  , 1.  ]])"
      ]
     },
     "metadata": {},
     "output_type": "display_data"
    },
    {
     "data": {
      "text/plain": [
       "matrix([[ 7.54141114e+02],\n",
       "        [ 7.86508888e+01],\n",
       "        [-1.10273163e+00],\n",
       "        [-1.15006092e-01]])"
      ]
     },
     "metadata": {},
     "output_type": "display_data"
    },
    {
     "data": {
      "text/plain": [
       "matrix([[1.  , 0.  , 0.01, 0.  ],\n",
       "        [0.  , 1.  , 0.  , 0.01],\n",
       "        [0.  , 0.  , 1.  , 0.  ],\n",
       "        [0.  , 0.  , 0.  , 1.  ]])"
      ]
     },
     "metadata": {},
     "output_type": "display_data"
    },
    {
     "data": {
      "text/plain": [
       "matrix([[ 7.54130087e+02],\n",
       "        [ 7.86497388e+01],\n",
       "        [-1.10273163e+00],\n",
       "        [-1.15006092e-01]])"
      ]
     },
     "metadata": {},
     "output_type": "display_data"
    },
    {
     "data": {
      "text/plain": [
       "matrix([[1.  , 0.  , 0.01, 0.  ],\n",
       "        [0.  , 1.  , 0.  , 0.01],\n",
       "        [0.  , 0.  , 1.  , 0.  ],\n",
       "        [0.  , 0.  , 0.  , 1.  ]])"
      ]
     },
     "metadata": {},
     "output_type": "display_data"
    },
    {
     "data": {
      "text/plain": [
       "matrix([[ 7.54119060e+02],\n",
       "        [ 7.86485887e+01],\n",
       "        [-1.10273163e+00],\n",
       "        [-1.15006092e-01]])"
      ]
     },
     "metadata": {},
     "output_type": "display_data"
    },
    {
     "data": {
      "text/plain": [
       "matrix([[1.  , 0.  , 0.01, 0.  ],\n",
       "        [0.  , 1.  , 0.  , 0.01],\n",
       "        [0.  , 0.  , 1.  , 0.  ],\n",
       "        [0.  , 0.  , 0.  , 1.  ]])"
      ]
     },
     "metadata": {},
     "output_type": "display_data"
    },
    {
     "data": {
      "text/plain": [
       "matrix([[ 7.54108032e+02],\n",
       "        [ 7.86474386e+01],\n",
       "        [-1.10273163e+00],\n",
       "        [-1.15006092e-01]])"
      ]
     },
     "metadata": {},
     "output_type": "display_data"
    },
    {
     "data": {
      "text/plain": [
       "matrix([[1.  , 0.  , 0.01, 0.  ],\n",
       "        [0.  , 1.  , 0.  , 0.01],\n",
       "        [0.  , 0.  , 1.  , 0.  ],\n",
       "        [0.  , 0.  , 0.  , 1.  ]])"
      ]
     },
     "metadata": {},
     "output_type": "display_data"
    },
    {
     "data": {
      "text/plain": [
       "matrix([[ 7.54097005e+02],\n",
       "        [ 7.86462886e+01],\n",
       "        [-1.10273163e+00],\n",
       "        [-1.15006092e-01]])"
      ]
     },
     "metadata": {},
     "output_type": "display_data"
    },
    {
     "data": {
      "text/plain": [
       "matrix([[1.  , 0.  , 0.01, 0.  ],\n",
       "        [0.  , 1.  , 0.  , 0.01],\n",
       "        [0.  , 0.  , 1.  , 0.  ],\n",
       "        [0.  , 0.  , 0.  , 1.  ]])"
      ]
     },
     "metadata": {},
     "output_type": "display_data"
    },
    {
     "data": {
      "text/plain": [
       "matrix([[ 7.54085978e+02],\n",
       "        [ 7.86451385e+01],\n",
       "        [-1.10273163e+00],\n",
       "        [-1.15006092e-01]])"
      ]
     },
     "metadata": {},
     "output_type": "display_data"
    },
    {
     "data": {
      "text/plain": [
       "matrix([[1.  , 0.  , 0.01, 0.  ],\n",
       "        [0.  , 1.  , 0.  , 0.01],\n",
       "        [0.  , 0.  , 1.  , 0.  ],\n",
       "        [0.  , 0.  , 0.  , 1.  ]])"
      ]
     },
     "metadata": {},
     "output_type": "display_data"
    },
    {
     "data": {
      "text/plain": [
       "matrix([[ 7.54074950e+02],\n",
       "        [ 7.86439885e+01],\n",
       "        [-1.10273163e+00],\n",
       "        [-1.15006092e-01]])"
      ]
     },
     "metadata": {},
     "output_type": "display_data"
    },
    {
     "data": {
      "text/plain": [
       "matrix([[1.  , 0.  , 0.01, 0.  ],\n",
       "        [0.  , 1.  , 0.  , 0.01],\n",
       "        [0.  , 0.  , 1.  , 0.  ],\n",
       "        [0.  , 0.  , 0.  , 1.  ]])"
      ]
     },
     "metadata": {},
     "output_type": "display_data"
    },
    {
     "data": {
      "text/plain": [
       "matrix([[ 7.54063923e+02],\n",
       "        [ 7.86428384e+01],\n",
       "        [-1.10273163e+00],\n",
       "        [-1.15006092e-01]])"
      ]
     },
     "metadata": {},
     "output_type": "display_data"
    },
    {
     "data": {
      "text/plain": [
       "matrix([[1.  , 0.  , 0.01, 0.  ],\n",
       "        [0.  , 1.  , 0.  , 0.01],\n",
       "        [0.  , 0.  , 1.  , 0.  ],\n",
       "        [0.  , 0.  , 0.  , 1.  ]])"
      ]
     },
     "metadata": {},
     "output_type": "display_data"
    },
    {
     "data": {
      "text/plain": [
       "matrix([[ 7.54052896e+02],\n",
       "        [ 7.86416883e+01],\n",
       "        [-1.10273163e+00],\n",
       "        [-1.15006092e-01]])"
      ]
     },
     "metadata": {},
     "output_type": "display_data"
    },
    {
     "data": {
      "text/plain": [
       "matrix([[1.  , 0.  , 0.01, 0.  ],\n",
       "        [0.  , 1.  , 0.  , 0.01],\n",
       "        [0.  , 0.  , 1.  , 0.  ],\n",
       "        [0.  , 0.  , 0.  , 1.  ]])"
      ]
     },
     "metadata": {},
     "output_type": "display_data"
    },
    {
     "data": {
      "text/plain": [
       "matrix([[ 7.54041868e+02],\n",
       "        [ 7.86405383e+01],\n",
       "        [-1.10273163e+00],\n",
       "        [-1.15006092e-01]])"
      ]
     },
     "metadata": {},
     "output_type": "display_data"
    },
    {
     "data": {
      "text/plain": [
       "matrix([[1.  , 0.  , 0.01, 0.  ],\n",
       "        [0.  , 1.  , 0.  , 0.01],\n",
       "        [0.  , 0.  , 1.  , 0.  ],\n",
       "        [0.  , 0.  , 0.  , 1.  ]])"
      ]
     },
     "metadata": {},
     "output_type": "display_data"
    },
    {
     "data": {
      "text/plain": [
       "matrix([[ 7.54030841e+02],\n",
       "        [ 7.86393882e+01],\n",
       "        [-1.10273163e+00],\n",
       "        [-1.15006092e-01]])"
      ]
     },
     "metadata": {},
     "output_type": "display_data"
    },
    {
     "data": {
      "text/plain": [
       "matrix([[1.  , 0.  , 0.01, 0.  ],\n",
       "        [0.  , 1.  , 0.  , 0.01],\n",
       "        [0.  , 0.  , 1.  , 0.  ],\n",
       "        [0.  , 0.  , 0.  , 1.  ]])"
      ]
     },
     "metadata": {},
     "output_type": "display_data"
    },
    {
     "data": {
      "text/plain": [
       "matrix([[ 7.54019814e+02],\n",
       "        [ 7.86382382e+01],\n",
       "        [-1.10273163e+00],\n",
       "        [-1.15006092e-01]])"
      ]
     },
     "metadata": {},
     "output_type": "display_data"
    },
    {
     "data": {
      "text/plain": [
       "matrix([[1.  , 0.  , 0.01, 0.  ],\n",
       "        [0.  , 1.  , 0.  , 0.01],\n",
       "        [0.  , 0.  , 1.  , 0.  ],\n",
       "        [0.  , 0.  , 0.  , 1.  ]])"
      ]
     },
     "metadata": {},
     "output_type": "display_data"
    },
    {
     "data": {
      "text/plain": [
       "matrix([[ 7.54008786e+02],\n",
       "        [ 7.86370881e+01],\n",
       "        [-1.10273163e+00],\n",
       "        [-1.15006092e-01]])"
      ]
     },
     "metadata": {},
     "output_type": "display_data"
    },
    {
     "data": {
      "text/plain": [
       "matrix([[1.  , 0.  , 0.01, 0.  ],\n",
       "        [0.  , 1.  , 0.  , 0.01],\n",
       "        [0.  , 0.  , 1.  , 0.  ],\n",
       "        [0.  , 0.  , 0.  , 1.  ]])"
      ]
     },
     "metadata": {},
     "output_type": "display_data"
    },
    {
     "data": {
      "text/plain": [
       "matrix([[ 7.53997759e+02],\n",
       "        [ 7.86359380e+01],\n",
       "        [-1.10273163e+00],\n",
       "        [-1.15006092e-01]])"
      ]
     },
     "metadata": {},
     "output_type": "display_data"
    },
    {
     "data": {
      "text/plain": [
       "matrix([[1.  , 0.  , 0.01, 0.  ],\n",
       "        [0.  , 1.  , 0.  , 0.01],\n",
       "        [0.  , 0.  , 1.  , 0.  ],\n",
       "        [0.  , 0.  , 0.  , 1.  ]])"
      ]
     },
     "metadata": {},
     "output_type": "display_data"
    },
    {
     "data": {
      "text/plain": [
       "matrix([[ 7.53986732e+02],\n",
       "        [ 7.86347880e+01],\n",
       "        [-1.10273163e+00],\n",
       "        [-1.15006092e-01]])"
      ]
     },
     "metadata": {},
     "output_type": "display_data"
    },
    {
     "data": {
      "text/plain": [
       "matrix([[1.  , 0.  , 0.01, 0.  ],\n",
       "        [0.  , 1.  , 0.  , 0.01],\n",
       "        [0.  , 0.  , 1.  , 0.  ],\n",
       "        [0.  , 0.  , 0.  , 1.  ]])"
      ]
     },
     "metadata": {},
     "output_type": "display_data"
    },
    {
     "data": {
      "text/plain": [
       "matrix([[ 7.53975704e+02],\n",
       "        [ 7.86336379e+01],\n",
       "        [-1.10273163e+00],\n",
       "        [-1.15006092e-01]])"
      ]
     },
     "metadata": {},
     "output_type": "display_data"
    },
    {
     "data": {
      "text/plain": [
       "matrix([[1.  , 0.  , 0.01, 0.  ],\n",
       "        [0.  , 1.  , 0.  , 0.01],\n",
       "        [0.  , 0.  , 1.  , 0.  ],\n",
       "        [0.  , 0.  , 0.  , 1.  ]])"
      ]
     },
     "metadata": {},
     "output_type": "display_data"
    },
    {
     "data": {
      "text/plain": [
       "matrix([[ 7.53964677e+02],\n",
       "        [ 7.86324878e+01],\n",
       "        [-1.10273163e+00],\n",
       "        [-1.15006092e-01]])"
      ]
     },
     "metadata": {},
     "output_type": "display_data"
    },
    {
     "data": {
      "text/plain": [
       "matrix([[1.  , 0.  , 0.01, 0.  ],\n",
       "        [0.  , 1.  , 0.  , 0.01],\n",
       "        [0.  , 0.  , 1.  , 0.  ],\n",
       "        [0.  , 0.  , 0.  , 1.  ]])"
      ]
     },
     "metadata": {},
     "output_type": "display_data"
    },
    {
     "data": {
      "text/plain": [
       "matrix([[ 7.53953650e+02],\n",
       "        [ 7.86313378e+01],\n",
       "        [-1.10273163e+00],\n",
       "        [-1.15006092e-01]])"
      ]
     },
     "metadata": {},
     "output_type": "display_data"
    },
    {
     "data": {
      "text/plain": [
       "matrix([[1.  , 0.  , 0.01, 0.  ],\n",
       "        [0.  , 1.  , 0.  , 0.01],\n",
       "        [0.  , 0.  , 1.  , 0.  ],\n",
       "        [0.  , 0.  , 0.  , 1.  ]])"
      ]
     },
     "metadata": {},
     "output_type": "display_data"
    },
    {
     "data": {
      "text/plain": [
       "matrix([[ 7.53942622e+02],\n",
       "        [ 7.86301877e+01],\n",
       "        [-1.10273163e+00],\n",
       "        [-1.15006092e-01]])"
      ]
     },
     "metadata": {},
     "output_type": "display_data"
    },
    {
     "data": {
      "text/plain": [
       "matrix([[1.  , 0.  , 0.01, 0.  ],\n",
       "        [0.  , 1.  , 0.  , 0.01],\n",
       "        [0.  , 0.  , 1.  , 0.  ],\n",
       "        [0.  , 0.  , 0.  , 1.  ]])"
      ]
     },
     "metadata": {},
     "output_type": "display_data"
    },
    {
     "data": {
      "text/plain": [
       "matrix([[ 7.53931595e+02],\n",
       "        [ 7.86290377e+01],\n",
       "        [-1.10273163e+00],\n",
       "        [-1.15006092e-01]])"
      ]
     },
     "metadata": {},
     "output_type": "display_data"
    },
    {
     "data": {
      "text/plain": [
       "matrix([[1.  , 0.  , 0.01, 0.  ],\n",
       "        [0.  , 1.  , 0.  , 0.01],\n",
       "        [0.  , 0.  , 1.  , 0.  ],\n",
       "        [0.  , 0.  , 0.  , 1.  ]])"
      ]
     },
     "metadata": {},
     "output_type": "display_data"
    },
    {
     "data": {
      "text/plain": [
       "matrix([[ 7.53920568e+02],\n",
       "        [ 7.86278876e+01],\n",
       "        [-1.10273163e+00],\n",
       "        [-1.15006092e-01]])"
      ]
     },
     "metadata": {},
     "output_type": "display_data"
    },
    {
     "data": {
      "text/plain": [
       "matrix([[1.  , 0.  , 0.01, 0.  ],\n",
       "        [0.  , 1.  , 0.  , 0.01],\n",
       "        [0.  , 0.  , 1.  , 0.  ],\n",
       "        [0.  , 0.  , 0.  , 1.  ]])"
      ]
     },
     "metadata": {},
     "output_type": "display_data"
    },
    {
     "data": {
      "text/plain": [
       "matrix([[ 7.53909541e+02],\n",
       "        [ 7.86267375e+01],\n",
       "        [-1.10273163e+00],\n",
       "        [-1.15006092e-01]])"
      ]
     },
     "metadata": {},
     "output_type": "display_data"
    },
    {
     "data": {
      "text/plain": [
       "matrix([[1.  , 0.  , 0.01, 0.  ],\n",
       "        [0.  , 1.  , 0.  , 0.01],\n",
       "        [0.  , 0.  , 1.  , 0.  ],\n",
       "        [0.  , 0.  , 0.  , 1.  ]])"
      ]
     },
     "metadata": {},
     "output_type": "display_data"
    },
    {
     "data": {
      "text/plain": [
       "matrix([[ 7.53898513e+02],\n",
       "        [ 7.86255875e+01],\n",
       "        [-1.10273163e+00],\n",
       "        [-1.15006092e-01]])"
      ]
     },
     "metadata": {},
     "output_type": "display_data"
    },
    {
     "data": {
      "text/plain": [
       "matrix([[1.  , 0.  , 0.01, 0.  ],\n",
       "        [0.  , 1.  , 0.  , 0.01],\n",
       "        [0.  , 0.  , 1.  , 0.  ],\n",
       "        [0.  , 0.  , 0.  , 1.  ]])"
      ]
     },
     "metadata": {},
     "output_type": "display_data"
    },
    {
     "data": {
      "text/plain": [
       "matrix([[ 7.53887486e+02],\n",
       "        [ 7.86244374e+01],\n",
       "        [-1.10273163e+00],\n",
       "        [-1.15006092e-01]])"
      ]
     },
     "metadata": {},
     "output_type": "display_data"
    },
    {
     "data": {
      "text/plain": [
       "matrix([[1.  , 0.  , 0.01, 0.  ],\n",
       "        [0.  , 1.  , 0.  , 0.01],\n",
       "        [0.  , 0.  , 1.  , 0.  ],\n",
       "        [0.  , 0.  , 0.  , 1.  ]])"
      ]
     },
     "metadata": {},
     "output_type": "display_data"
    },
    {
     "data": {
      "text/plain": [
       "matrix([[ 7.53876459e+02],\n",
       "        [ 7.86232874e+01],\n",
       "        [-1.10273163e+00],\n",
       "        [-1.15006092e-01]])"
      ]
     },
     "metadata": {},
     "output_type": "display_data"
    },
    {
     "data": {
      "text/plain": [
       "matrix([[1.  , 0.  , 0.01, 0.  ],\n",
       "        [0.  , 1.  , 0.  , 0.01],\n",
       "        [0.  , 0.  , 1.  , 0.  ],\n",
       "        [0.  , 0.  , 0.  , 1.  ]])"
      ]
     },
     "metadata": {},
     "output_type": "display_data"
    },
    {
     "data": {
      "text/plain": [
       "matrix([[ 7.53865431e+02],\n",
       "        [ 7.86221373e+01],\n",
       "        [-1.10273163e+00],\n",
       "        [-1.15006092e-01]])"
      ]
     },
     "metadata": {},
     "output_type": "display_data"
    },
    {
     "data": {
      "text/plain": [
       "matrix([[1.  , 0.  , 0.01, 0.  ],\n",
       "        [0.  , 1.  , 0.  , 0.01],\n",
       "        [0.  , 0.  , 1.  , 0.  ],\n",
       "        [0.  , 0.  , 0.  , 1.  ]])"
      ]
     },
     "metadata": {},
     "output_type": "display_data"
    },
    {
     "data": {
      "text/plain": [
       "matrix([[ 7.53854404e+02],\n",
       "        [ 7.86209872e+01],\n",
       "        [-1.10273163e+00],\n",
       "        [-1.15006092e-01]])"
      ]
     },
     "metadata": {},
     "output_type": "display_data"
    },
    {
     "data": {
      "text/plain": [
       "matrix([[1.  , 0.  , 0.01, 0.  ],\n",
       "        [0.  , 1.  , 0.  , 0.01],\n",
       "        [0.  , 0.  , 1.  , 0.  ],\n",
       "        [0.  , 0.  , 0.  , 1.  ]])"
      ]
     },
     "metadata": {},
     "output_type": "display_data"
    },
    {
     "data": {
      "text/plain": [
       "matrix([[ 7.53843377e+02],\n",
       "        [ 7.86198372e+01],\n",
       "        [-1.10273163e+00],\n",
       "        [-1.15006092e-01]])"
      ]
     },
     "metadata": {},
     "output_type": "display_data"
    },
    {
     "data": {
      "text/plain": [
       "matrix([[1.  , 0.  , 0.01, 0.  ],\n",
       "        [0.  , 1.  , 0.  , 0.01],\n",
       "        [0.  , 0.  , 1.  , 0.  ],\n",
       "        [0.  , 0.  , 0.  , 1.  ]])"
      ]
     },
     "metadata": {},
     "output_type": "display_data"
    },
    {
     "data": {
      "text/plain": [
       "matrix([[ 7.53832349e+02],\n",
       "        [ 7.86186871e+01],\n",
       "        [-1.10273163e+00],\n",
       "        [-1.15006092e-01]])"
      ]
     },
     "metadata": {},
     "output_type": "display_data"
    },
    {
     "data": {
      "text/plain": [
       "matrix([[1.  , 0.  , 0.01, 0.  ],\n",
       "        [0.  , 1.  , 0.  , 0.01],\n",
       "        [0.  , 0.  , 1.  , 0.  ],\n",
       "        [0.  , 0.  , 0.  , 1.  ]])"
      ]
     },
     "metadata": {},
     "output_type": "display_data"
    },
    {
     "data": {
      "text/plain": [
       "matrix([[ 7.53821322e+02],\n",
       "        [ 7.86175371e+01],\n",
       "        [-1.10273163e+00],\n",
       "        [-1.15006092e-01]])"
      ]
     },
     "metadata": {},
     "output_type": "display_data"
    },
    {
     "data": {
      "text/plain": [
       "matrix([[1.  , 0.  , 0.01, 0.  ],\n",
       "        [0.  , 1.  , 0.  , 0.01],\n",
       "        [0.  , 0.  , 1.  , 0.  ],\n",
       "        [0.  , 0.  , 0.  , 1.  ]])"
      ]
     },
     "metadata": {},
     "output_type": "display_data"
    },
    {
     "data": {
      "text/plain": [
       "matrix([[ 7.53810295e+02],\n",
       "        [ 7.86163870e+01],\n",
       "        [-1.10273163e+00],\n",
       "        [-1.15006092e-01]])"
      ]
     },
     "metadata": {},
     "output_type": "display_data"
    },
    {
     "data": {
      "text/plain": [
       "matrix([[1.  , 0.  , 0.01, 0.  ],\n",
       "        [0.  , 1.  , 0.  , 0.01],\n",
       "        [0.  , 0.  , 1.  , 0.  ],\n",
       "        [0.  , 0.  , 0.  , 1.  ]])"
      ]
     },
     "metadata": {},
     "output_type": "display_data"
    },
    {
     "data": {
      "text/plain": [
       "matrix([[ 7.53799267e+02],\n",
       "        [ 7.86152369e+01],\n",
       "        [-1.10273163e+00],\n",
       "        [-1.15006092e-01]])"
      ]
     },
     "metadata": {},
     "output_type": "display_data"
    },
    {
     "data": {
      "text/plain": [
       "matrix([[1.  , 0.  , 0.01, 0.  ],\n",
       "        [0.  , 1.  , 0.  , 0.01],\n",
       "        [0.  , 0.  , 1.  , 0.  ],\n",
       "        [0.  , 0.  , 0.  , 1.  ]])"
      ]
     },
     "metadata": {},
     "output_type": "display_data"
    },
    {
     "data": {
      "text/plain": [
       "matrix([[ 7.53788240e+02],\n",
       "        [ 7.86140869e+01],\n",
       "        [-1.10273163e+00],\n",
       "        [-1.15006092e-01]])"
      ]
     },
     "metadata": {},
     "output_type": "display_data"
    },
    {
     "data": {
      "text/plain": [
       "matrix([[1.  , 0.  , 0.01, 0.  ],\n",
       "        [0.  , 1.  , 0.  , 0.01],\n",
       "        [0.  , 0.  , 1.  , 0.  ],\n",
       "        [0.  , 0.  , 0.  , 1.  ]])"
      ]
     },
     "metadata": {},
     "output_type": "display_data"
    },
    {
     "data": {
      "text/plain": [
       "matrix([[ 7.53777213e+02],\n",
       "        [ 7.86129368e+01],\n",
       "        [-1.10273163e+00],\n",
       "        [-1.15006092e-01]])"
      ]
     },
     "metadata": {},
     "output_type": "display_data"
    },
    {
     "data": {
      "text/plain": [
       "matrix([[1.  , 0.  , 0.01, 0.  ],\n",
       "        [0.  , 1.  , 0.  , 0.01],\n",
       "        [0.  , 0.  , 1.  , 0.  ],\n",
       "        [0.  , 0.  , 0.  , 1.  ]])"
      ]
     },
     "metadata": {},
     "output_type": "display_data"
    },
    {
     "data": {
      "text/plain": [
       "matrix([[ 7.53766185e+02],\n",
       "        [ 7.86117867e+01],\n",
       "        [-1.10273163e+00],\n",
       "        [-1.15006092e-01]])"
      ]
     },
     "metadata": {},
     "output_type": "display_data"
    },
    {
     "data": {
      "text/plain": [
       "matrix([[1.  , 0.  , 0.01, 0.  ],\n",
       "        [0.  , 1.  , 0.  , 0.01],\n",
       "        [0.  , 0.  , 1.  , 0.  ],\n",
       "        [0.  , 0.  , 0.  , 1.  ]])"
      ]
     },
     "metadata": {},
     "output_type": "display_data"
    },
    {
     "data": {
      "text/plain": [
       "matrix([[ 7.53755158e+02],\n",
       "        [ 7.86106367e+01],\n",
       "        [-1.10273163e+00],\n",
       "        [-1.15006092e-01]])"
      ]
     },
     "metadata": {},
     "output_type": "display_data"
    },
    {
     "data": {
      "text/plain": [
       "matrix([[1.  , 0.  , 0.01, 0.  ],\n",
       "        [0.  , 1.  , 0.  , 0.01],\n",
       "        [0.  , 0.  , 1.  , 0.  ],\n",
       "        [0.  , 0.  , 0.  , 1.  ]])"
      ]
     },
     "metadata": {},
     "output_type": "display_data"
    },
    {
     "data": {
      "text/plain": [
       "matrix([[ 7.53744131e+02],\n",
       "        [ 7.86094866e+01],\n",
       "        [-1.10273163e+00],\n",
       "        [-1.15006092e-01]])"
      ]
     },
     "metadata": {},
     "output_type": "display_data"
    },
    {
     "data": {
      "text/plain": [
       "matrix([[1.  , 0.  , 0.01, 0.  ],\n",
       "        [0.  , 1.  , 0.  , 0.01],\n",
       "        [0.  , 0.  , 1.  , 0.  ],\n",
       "        [0.  , 0.  , 0.  , 1.  ]])"
      ]
     },
     "metadata": {},
     "output_type": "display_data"
    },
    {
     "data": {
      "text/plain": [
       "matrix([[ 7.53733103e+02],\n",
       "        [ 7.86083366e+01],\n",
       "        [-1.10273163e+00],\n",
       "        [-1.15006092e-01]])"
      ]
     },
     "metadata": {},
     "output_type": "display_data"
    },
    {
     "data": {
      "text/plain": [
       "matrix([[1.  , 0.  , 0.01, 0.  ],\n",
       "        [0.  , 1.  , 0.  , 0.01],\n",
       "        [0.  , 0.  , 1.  , 0.  ],\n",
       "        [0.  , 0.  , 0.  , 1.  ]])"
      ]
     },
     "metadata": {},
     "output_type": "display_data"
    },
    {
     "data": {
      "text/plain": [
       "matrix([[ 7.53722076e+02],\n",
       "        [ 7.86071865e+01],\n",
       "        [-1.10273163e+00],\n",
       "        [-1.15006092e-01]])"
      ]
     },
     "metadata": {},
     "output_type": "display_data"
    },
    {
     "data": {
      "text/plain": [
       "matrix([[1.  , 0.  , 0.01, 0.  ],\n",
       "        [0.  , 1.  , 0.  , 0.01],\n",
       "        [0.  , 0.  , 1.  , 0.  ],\n",
       "        [0.  , 0.  , 0.  , 1.  ]])"
      ]
     },
     "metadata": {},
     "output_type": "display_data"
    },
    {
     "data": {
      "text/plain": [
       "matrix([[ 7.53711049e+02],\n",
       "        [ 7.86060364e+01],\n",
       "        [-1.10273163e+00],\n",
       "        [-1.15006092e-01]])"
      ]
     },
     "metadata": {},
     "output_type": "display_data"
    },
    {
     "data": {
      "text/plain": [
       "matrix([[1.  , 0.  , 0.01, 0.  ],\n",
       "        [0.  , 1.  , 0.  , 0.01],\n",
       "        [0.  , 0.  , 1.  , 0.  ],\n",
       "        [0.  , 0.  , 0.  , 1.  ]])"
      ]
     },
     "metadata": {},
     "output_type": "display_data"
    },
    {
     "data": {
      "text/plain": [
       "matrix([[ 7.53700022e+02],\n",
       "        [ 7.86048864e+01],\n",
       "        [-1.10273163e+00],\n",
       "        [-1.15006092e-01]])"
      ]
     },
     "metadata": {},
     "output_type": "display_data"
    },
    {
     "data": {
      "text/plain": [
       "matrix([[1.  , 0.  , 0.01, 0.  ],\n",
       "        [0.  , 1.  , 0.  , 0.01],\n",
       "        [0.  , 0.  , 1.  , 0.  ],\n",
       "        [0.  , 0.  , 0.  , 1.  ]])"
      ]
     },
     "metadata": {},
     "output_type": "display_data"
    },
    {
     "data": {
      "text/plain": [
       "matrix([[ 7.53688994e+02],\n",
       "        [ 7.86037363e+01],\n",
       "        [-1.10273163e+00],\n",
       "        [-1.15006092e-01]])"
      ]
     },
     "metadata": {},
     "output_type": "display_data"
    },
    {
     "data": {
      "text/plain": [
       "matrix([[1.  , 0.  , 0.01, 0.  ],\n",
       "        [0.  , 1.  , 0.  , 0.01],\n",
       "        [0.  , 0.  , 1.  , 0.  ],\n",
       "        [0.  , 0.  , 0.  , 1.  ]])"
      ]
     },
     "metadata": {},
     "output_type": "display_data"
    },
    {
     "data": {
      "text/plain": [
       "matrix([[ 7.53677967e+02],\n",
       "        [ 7.86025863e+01],\n",
       "        [-1.10273163e+00],\n",
       "        [-1.15006092e-01]])"
      ]
     },
     "metadata": {},
     "output_type": "display_data"
    },
    {
     "data": {
      "text/plain": [
       "matrix([[1.  , 0.  , 0.01, 0.  ],\n",
       "        [0.  , 1.  , 0.  , 0.01],\n",
       "        [0.  , 0.  , 1.  , 0.  ],\n",
       "        [0.  , 0.  , 0.  , 1.  ]])"
      ]
     },
     "metadata": {},
     "output_type": "display_data"
    },
    {
     "data": {
      "text/plain": [
       "matrix([[ 7.53666940e+02],\n",
       "        [ 7.86014362e+01],\n",
       "        [-1.10273163e+00],\n",
       "        [-1.15006092e-01]])"
      ]
     },
     "metadata": {},
     "output_type": "display_data"
    },
    {
     "data": {
      "text/plain": [
       "matrix([[1.  , 0.  , 0.01, 0.  ],\n",
       "        [0.  , 1.  , 0.  , 0.01],\n",
       "        [0.  , 0.  , 1.  , 0.  ],\n",
       "        [0.  , 0.  , 0.  , 1.  ]])"
      ]
     },
     "metadata": {},
     "output_type": "display_data"
    },
    {
     "data": {
      "text/plain": [
       "matrix([[ 7.53655912e+02],\n",
       "        [ 7.86002861e+01],\n",
       "        [-1.10273163e+00],\n",
       "        [-1.15006092e-01]])"
      ]
     },
     "metadata": {},
     "output_type": "display_data"
    },
    {
     "data": {
      "text/plain": [
       "matrix([[1.  , 0.  , 0.01, 0.  ],\n",
       "        [0.  , 1.  , 0.  , 0.01],\n",
       "        [0.  , 0.  , 1.  , 0.  ],\n",
       "        [0.  , 0.  , 0.  , 1.  ]])"
      ]
     },
     "metadata": {},
     "output_type": "display_data"
    },
    {
     "data": {
      "text/plain": [
       "matrix([[ 7.53644885e+02],\n",
       "        [ 7.85991361e+01],\n",
       "        [-1.10273163e+00],\n",
       "        [-1.15006092e-01]])"
      ]
     },
     "metadata": {},
     "output_type": "display_data"
    },
    {
     "data": {
      "text/plain": [
       "matrix([[1.  , 0.  , 0.01, 0.  ],\n",
       "        [0.  , 1.  , 0.  , 0.01],\n",
       "        [0.  , 0.  , 1.  , 0.  ],\n",
       "        [0.  , 0.  , 0.  , 1.  ]])"
      ]
     },
     "metadata": {},
     "output_type": "display_data"
    },
    {
     "data": {
      "text/plain": [
       "matrix([[ 7.53633858e+02],\n",
       "        [ 7.85979860e+01],\n",
       "        [-1.10273163e+00],\n",
       "        [-1.15006092e-01]])"
      ]
     },
     "metadata": {},
     "output_type": "display_data"
    },
    {
     "data": {
      "text/plain": [
       "matrix([[1.  , 0.  , 0.01, 0.  ],\n",
       "        [0.  , 1.  , 0.  , 0.01],\n",
       "        [0.  , 0.  , 1.  , 0.  ],\n",
       "        [0.  , 0.  , 0.  , 1.  ]])"
      ]
     },
     "metadata": {},
     "output_type": "display_data"
    },
    {
     "data": {
      "text/plain": [
       "matrix([[ 7.53622830e+02],\n",
       "        [ 7.85968360e+01],\n",
       "        [-1.10273163e+00],\n",
       "        [-1.15006092e-01]])"
      ]
     },
     "metadata": {},
     "output_type": "display_data"
    },
    {
     "data": {
      "text/plain": [
       "matrix([[1.  , 0.  , 0.01, 0.  ],\n",
       "        [0.  , 1.  , 0.  , 0.01],\n",
       "        [0.  , 0.  , 1.  , 0.  ],\n",
       "        [0.  , 0.  , 0.  , 1.  ]])"
      ]
     },
     "metadata": {},
     "output_type": "display_data"
    },
    {
     "data": {
      "text/plain": [
       "matrix([[ 7.53611803e+02],\n",
       "        [ 7.85956859e+01],\n",
       "        [-1.10273163e+00],\n",
       "        [-1.15006092e-01]])"
      ]
     },
     "metadata": {},
     "output_type": "display_data"
    },
    {
     "data": {
      "text/plain": [
       "matrix([[1.  , 0.  , 0.01, 0.  ],\n",
       "        [0.  , 1.  , 0.  , 0.01],\n",
       "        [0.  , 0.  , 1.  , 0.  ],\n",
       "        [0.  , 0.  , 0.  , 1.  ]])"
      ]
     },
     "metadata": {},
     "output_type": "display_data"
    },
    {
     "data": {
      "text/plain": [
       "matrix([[ 7.53600776e+02],\n",
       "        [ 7.85945358e+01],\n",
       "        [-1.10273163e+00],\n",
       "        [-1.15006092e-01]])"
      ]
     },
     "metadata": {},
     "output_type": "display_data"
    },
    {
     "data": {
      "text/plain": [
       "matrix([[1.  , 0.  , 0.01, 0.  ],\n",
       "        [0.  , 1.  , 0.  , 0.01],\n",
       "        [0.  , 0.  , 1.  , 0.  ],\n",
       "        [0.  , 0.  , 0.  , 1.  ]])"
      ]
     },
     "metadata": {},
     "output_type": "display_data"
    },
    {
     "data": {
      "text/plain": [
       "matrix([[ 7.53589748e+02],\n",
       "        [ 7.85933858e+01],\n",
       "        [-1.10273163e+00],\n",
       "        [-1.15006092e-01]])"
      ]
     },
     "metadata": {},
     "output_type": "display_data"
    },
    {
     "data": {
      "text/plain": [
       "matrix([[1.  , 0.  , 0.01, 0.  ],\n",
       "        [0.  , 1.  , 0.  , 0.01],\n",
       "        [0.  , 0.  , 1.  , 0.  ],\n",
       "        [0.  , 0.  , 0.  , 1.  ]])"
      ]
     },
     "metadata": {},
     "output_type": "display_data"
    },
    {
     "data": {
      "text/plain": [
       "matrix([[ 7.53578721e+02],\n",
       "        [ 7.85922357e+01],\n",
       "        [-1.10273163e+00],\n",
       "        [-1.15006092e-01]])"
      ]
     },
     "metadata": {},
     "output_type": "display_data"
    },
    {
     "data": {
      "text/plain": [
       "matrix([[1.  , 0.  , 0.01, 0.  ],\n",
       "        [0.  , 1.  , 0.  , 0.01],\n",
       "        [0.  , 0.  , 1.  , 0.  ],\n",
       "        [0.  , 0.  , 0.  , 1.  ]])"
      ]
     },
     "metadata": {},
     "output_type": "display_data"
    },
    {
     "data": {
      "text/plain": [
       "matrix([[ 7.53567694e+02],\n",
       "        [ 7.85910857e+01],\n",
       "        [-1.10273163e+00],\n",
       "        [-1.15006092e-01]])"
      ]
     },
     "metadata": {},
     "output_type": "display_data"
    },
    {
     "data": {
      "text/plain": [
       "matrix([[1.  , 0.  , 0.01, 0.  ],\n",
       "        [0.  , 1.  , 0.  , 0.01],\n",
       "        [0.  , 0.  , 1.  , 0.  ],\n",
       "        [0.  , 0.  , 0.  , 1.  ]])"
      ]
     },
     "metadata": {},
     "output_type": "display_data"
    },
    {
     "data": {
      "text/plain": [
       "matrix([[ 7.53556666e+02],\n",
       "        [ 7.85899356e+01],\n",
       "        [-1.10273163e+00],\n",
       "        [-1.15006092e-01]])"
      ]
     },
     "metadata": {},
     "output_type": "display_data"
    },
    {
     "data": {
      "text/plain": [
       "matrix([[1.  , 0.  , 0.01, 0.  ],\n",
       "        [0.  , 1.  , 0.  , 0.01],\n",
       "        [0.  , 0.  , 1.  , 0.  ],\n",
       "        [0.  , 0.  , 0.  , 1.  ]])"
      ]
     },
     "metadata": {},
     "output_type": "display_data"
    },
    {
     "data": {
      "text/plain": [
       "matrix([[ 7.53545639e+02],\n",
       "        [ 7.85887855e+01],\n",
       "        [-1.10273163e+00],\n",
       "        [-1.15006092e-01]])"
      ]
     },
     "metadata": {},
     "output_type": "display_data"
    },
    {
     "data": {
      "text/plain": [
       "matrix([[1.  , 0.  , 0.01, 0.  ],\n",
       "        [0.  , 1.  , 0.  , 0.01],\n",
       "        [0.  , 0.  , 1.  , 0.  ],\n",
       "        [0.  , 0.  , 0.  , 1.  ]])"
      ]
     },
     "metadata": {},
     "output_type": "display_data"
    },
    {
     "data": {
      "text/plain": [
       "matrix([[ 7.53534612e+02],\n",
       "        [ 7.85876355e+01],\n",
       "        [-1.10273163e+00],\n",
       "        [-1.15006092e-01]])"
      ]
     },
     "metadata": {},
     "output_type": "display_data"
    },
    {
     "data": {
      "text/plain": [
       "matrix([[1.  , 0.  , 0.01, 0.  ],\n",
       "        [0.  , 1.  , 0.  , 0.01],\n",
       "        [0.  , 0.  , 1.  , 0.  ],\n",
       "        [0.  , 0.  , 0.  , 1.  ]])"
      ]
     },
     "metadata": {},
     "output_type": "display_data"
    },
    {
     "data": {
      "text/plain": [
       "matrix([[ 7.53523584e+02],\n",
       "        [ 7.85864854e+01],\n",
       "        [-1.10273163e+00],\n",
       "        [-1.15006092e-01]])"
      ]
     },
     "metadata": {},
     "output_type": "display_data"
    },
    {
     "data": {
      "text/plain": [
       "matrix([[1.  , 0.  , 0.01, 0.  ],\n",
       "        [0.  , 1.  , 0.  , 0.01],\n",
       "        [0.  , 0.  , 1.  , 0.  ],\n",
       "        [0.  , 0.  , 0.  , 1.  ]])"
      ]
     },
     "metadata": {},
     "output_type": "display_data"
    },
    {
     "data": {
      "text/plain": [
       "matrix([[ 7.53512557e+02],\n",
       "        [ 7.85853353e+01],\n",
       "        [-1.10273163e+00],\n",
       "        [-1.15006092e-01]])"
      ]
     },
     "metadata": {},
     "output_type": "display_data"
    },
    {
     "data": {
      "text/plain": [
       "matrix([[1.  , 0.  , 0.01, 0.  ],\n",
       "        [0.  , 1.  , 0.  , 0.01],\n",
       "        [0.  , 0.  , 1.  , 0.  ],\n",
       "        [0.  , 0.  , 0.  , 1.  ]])"
      ]
     },
     "metadata": {},
     "output_type": "display_data"
    },
    {
     "data": {
      "text/plain": [
       "matrix([[ 7.53501530e+02],\n",
       "        [ 7.85841853e+01],\n",
       "        [-1.10273163e+00],\n",
       "        [-1.15006092e-01]])"
      ]
     },
     "metadata": {},
     "output_type": "display_data"
    },
    {
     "data": {
      "text/plain": [
       "matrix([[1.  , 0.  , 0.01, 0.  ],\n",
       "        [0.  , 1.  , 0.  , 0.01],\n",
       "        [0.  , 0.  , 1.  , 0.  ],\n",
       "        [0.  , 0.  , 0.  , 1.  ]])"
      ]
     },
     "metadata": {},
     "output_type": "display_data"
    },
    {
     "data": {
      "text/plain": [
       "matrix([[ 7.53490503e+02],\n",
       "        [ 7.85830352e+01],\n",
       "        [-1.10273163e+00],\n",
       "        [-1.15006092e-01]])"
      ]
     },
     "metadata": {},
     "output_type": "display_data"
    },
    {
     "data": {
      "text/plain": [
       "matrix([[1.  , 0.  , 0.01, 0.  ],\n",
       "        [0.  , 1.  , 0.  , 0.01],\n",
       "        [0.  , 0.  , 1.  , 0.  ],\n",
       "        [0.  , 0.  , 0.  , 1.  ]])"
      ]
     },
     "metadata": {},
     "output_type": "display_data"
    },
    {
     "data": {
      "text/plain": [
       "matrix([[ 7.53479475e+02],\n",
       "        [ 7.85818852e+01],\n",
       "        [-1.10273163e+00],\n",
       "        [-1.15006092e-01]])"
      ]
     },
     "metadata": {},
     "output_type": "display_data"
    },
    {
     "data": {
      "text/plain": [
       "matrix([[1.  , 0.  , 0.01, 0.  ],\n",
       "        [0.  , 1.  , 0.  , 0.01],\n",
       "        [0.  , 0.  , 1.  , 0.  ],\n",
       "        [0.  , 0.  , 0.  , 1.  ]])"
      ]
     },
     "metadata": {},
     "output_type": "display_data"
    },
    {
     "data": {
      "text/plain": [
       "matrix([[ 7.53468448e+02],\n",
       "        [ 7.85807351e+01],\n",
       "        [-1.10273163e+00],\n",
       "        [-1.15006092e-01]])"
      ]
     },
     "metadata": {},
     "output_type": "display_data"
    },
    {
     "data": {
      "text/plain": [
       "matrix([[1.  , 0.  , 0.01, 0.  ],\n",
       "        [0.  , 1.  , 0.  , 0.01],\n",
       "        [0.  , 0.  , 1.  , 0.  ],\n",
       "        [0.  , 0.  , 0.  , 1.  ]])"
      ]
     },
     "metadata": {},
     "output_type": "display_data"
    },
    {
     "data": {
      "text/plain": [
       "matrix([[ 7.53457421e+02],\n",
       "        [ 7.85795850e+01],\n",
       "        [-1.10273163e+00],\n",
       "        [-1.15006092e-01]])"
      ]
     },
     "metadata": {},
     "output_type": "display_data"
    },
    {
     "data": {
      "text/plain": [
       "matrix([[1.  , 0.  , 0.01, 0.  ],\n",
       "        [0.  , 1.  , 0.  , 0.01],\n",
       "        [0.  , 0.  , 1.  , 0.  ],\n",
       "        [0.  , 0.  , 0.  , 1.  ]])"
      ]
     },
     "metadata": {},
     "output_type": "display_data"
    },
    {
     "data": {
      "text/plain": [
       "matrix([[ 7.53446393e+02],\n",
       "        [ 7.85784350e+01],\n",
       "        [-1.10273163e+00],\n",
       "        [-1.15006092e-01]])"
      ]
     },
     "metadata": {},
     "output_type": "display_data"
    },
    {
     "data": {
      "text/plain": [
       "matrix([[1.  , 0.  , 0.01, 0.  ],\n",
       "        [0.  , 1.  , 0.  , 0.01],\n",
       "        [0.  , 0.  , 1.  , 0.  ],\n",
       "        [0.  , 0.  , 0.  , 1.  ]])"
      ]
     },
     "metadata": {},
     "output_type": "display_data"
    },
    {
     "data": {
      "text/plain": [
       "matrix([[ 7.53435366e+02],\n",
       "        [ 7.85772849e+01],\n",
       "        [-1.10273163e+00],\n",
       "        [-1.15006092e-01]])"
      ]
     },
     "metadata": {},
     "output_type": "display_data"
    },
    {
     "data": {
      "text/plain": [
       "matrix([[1.  , 0.  , 0.01, 0.  ],\n",
       "        [0.  , 1.  , 0.  , 0.01],\n",
       "        [0.  , 0.  , 1.  , 0.  ],\n",
       "        [0.  , 0.  , 0.  , 1.  ]])"
      ]
     },
     "metadata": {},
     "output_type": "display_data"
    },
    {
     "data": {
      "text/plain": [
       "matrix([[ 7.53424339e+02],\n",
       "        [ 7.85761349e+01],\n",
       "        [-1.10273163e+00],\n",
       "        [-1.15006092e-01]])"
      ]
     },
     "metadata": {},
     "output_type": "display_data"
    },
    {
     "data": {
      "text/plain": [
       "matrix([[1.  , 0.  , 0.01, 0.  ],\n",
       "        [0.  , 1.  , 0.  , 0.01],\n",
       "        [0.  , 0.  , 1.  , 0.  ],\n",
       "        [0.  , 0.  , 0.  , 1.  ]])"
      ]
     },
     "metadata": {},
     "output_type": "display_data"
    },
    {
     "data": {
      "text/plain": [
       "matrix([[ 7.53413311e+02],\n",
       "        [ 7.85749848e+01],\n",
       "        [-1.10273163e+00],\n",
       "        [-1.15006092e-01]])"
      ]
     },
     "metadata": {},
     "output_type": "display_data"
    },
    {
     "data": {
      "text/plain": [
       "matrix([[1.  , 0.  , 0.01, 0.  ],\n",
       "        [0.  , 1.  , 0.  , 0.01],\n",
       "        [0.  , 0.  , 1.  , 0.  ],\n",
       "        [0.  , 0.  , 0.  , 1.  ]])"
      ]
     },
     "metadata": {},
     "output_type": "display_data"
    },
    {
     "data": {
      "text/plain": [
       "matrix([[ 7.53402284e+02],\n",
       "        [ 7.85738347e+01],\n",
       "        [-1.10273163e+00],\n",
       "        [-1.15006092e-01]])"
      ]
     },
     "metadata": {},
     "output_type": "display_data"
    },
    {
     "data": {
      "text/plain": [
       "matrix([[1.  , 0.  , 0.01, 0.  ],\n",
       "        [0.  , 1.  , 0.  , 0.01],\n",
       "        [0.  , 0.  , 1.  , 0.  ],\n",
       "        [0.  , 0.  , 0.  , 1.  ]])"
      ]
     },
     "metadata": {},
     "output_type": "display_data"
    },
    {
     "data": {
      "text/plain": [
       "matrix([[ 7.53391257e+02],\n",
       "        [ 7.85726847e+01],\n",
       "        [-1.10273163e+00],\n",
       "        [-1.15006092e-01]])"
      ]
     },
     "metadata": {},
     "output_type": "display_data"
    },
    {
     "data": {
      "text/plain": [
       "matrix([[1.  , 0.  , 0.01, 0.  ],\n",
       "        [0.  , 1.  , 0.  , 0.01],\n",
       "        [0.  , 0.  , 1.  , 0.  ],\n",
       "        [0.  , 0.  , 0.  , 1.  ]])"
      ]
     },
     "metadata": {},
     "output_type": "display_data"
    },
    {
     "data": {
      "text/plain": [
       "matrix([[ 7.53380229e+02],\n",
       "        [ 7.85715346e+01],\n",
       "        [-1.10273163e+00],\n",
       "        [-1.15006092e-01]])"
      ]
     },
     "metadata": {},
     "output_type": "display_data"
    },
    {
     "data": {
      "text/plain": [
       "matrix([[1.  , 0.  , 0.01, 0.  ],\n",
       "        [0.  , 1.  , 0.  , 0.01],\n",
       "        [0.  , 0.  , 1.  , 0.  ],\n",
       "        [0.  , 0.  , 0.  , 1.  ]])"
      ]
     },
     "metadata": {},
     "output_type": "display_data"
    },
    {
     "data": {
      "text/plain": [
       "matrix([[ 7.53369202e+02],\n",
       "        [ 7.85703846e+01],\n",
       "        [-1.10273163e+00],\n",
       "        [-1.15006092e-01]])"
      ]
     },
     "metadata": {},
     "output_type": "display_data"
    },
    {
     "data": {
      "text/plain": [
       "matrix([[1.  , 0.  , 0.01, 0.  ],\n",
       "        [0.  , 1.  , 0.  , 0.01],\n",
       "        [0.  , 0.  , 1.  , 0.  ],\n",
       "        [0.  , 0.  , 0.  , 1.  ]])"
      ]
     },
     "metadata": {},
     "output_type": "display_data"
    },
    {
     "data": {
      "text/plain": [
       "matrix([[ 7.53358175e+02],\n",
       "        [ 7.85692345e+01],\n",
       "        [-1.10273163e+00],\n",
       "        [-1.15006092e-01]])"
      ]
     },
     "metadata": {},
     "output_type": "display_data"
    },
    {
     "data": {
      "text/plain": [
       "matrix([[1.  , 0.  , 0.01, 0.  ],\n",
       "        [0.  , 1.  , 0.  , 0.01],\n",
       "        [0.  , 0.  , 1.  , 0.  ],\n",
       "        [0.  , 0.  , 0.  , 1.  ]])"
      ]
     },
     "metadata": {},
     "output_type": "display_data"
    },
    {
     "data": {
      "text/plain": [
       "matrix([[ 7.53347147e+02],\n",
       "        [ 7.85680844e+01],\n",
       "        [-1.10273163e+00],\n",
       "        [-1.15006092e-01]])"
      ]
     },
     "metadata": {},
     "output_type": "display_data"
    },
    {
     "data": {
      "text/plain": [
       "matrix([[1.  , 0.  , 0.01, 0.  ],\n",
       "        [0.  , 1.  , 0.  , 0.01],\n",
       "        [0.  , 0.  , 1.  , 0.  ],\n",
       "        [0.  , 0.  , 0.  , 1.  ]])"
      ]
     },
     "metadata": {},
     "output_type": "display_data"
    },
    {
     "data": {
      "text/plain": [
       "matrix([[ 7.53336120e+02],\n",
       "        [ 7.85669344e+01],\n",
       "        [-1.10273163e+00],\n",
       "        [-1.15006092e-01]])"
      ]
     },
     "metadata": {},
     "output_type": "display_data"
    },
    {
     "data": {
      "text/plain": [
       "matrix([[1.  , 0.  , 0.01, 0.  ],\n",
       "        [0.  , 1.  , 0.  , 0.01],\n",
       "        [0.  , 0.  , 1.  , 0.  ],\n",
       "        [0.  , 0.  , 0.  , 1.  ]])"
      ]
     },
     "metadata": {},
     "output_type": "display_data"
    },
    {
     "data": {
      "text/plain": [
       "matrix([[ 7.53325093e+02],\n",
       "        [ 7.85657843e+01],\n",
       "        [-1.10273163e+00],\n",
       "        [-1.15006092e-01]])"
      ]
     },
     "metadata": {},
     "output_type": "display_data"
    },
    {
     "data": {
      "text/plain": [
       "matrix([[1.  , 0.  , 0.01, 0.  ],\n",
       "        [0.  , 1.  , 0.  , 0.01],\n",
       "        [0.  , 0.  , 1.  , 0.  ],\n",
       "        [0.  , 0.  , 0.  , 1.  ]])"
      ]
     },
     "metadata": {},
     "output_type": "display_data"
    },
    {
     "data": {
      "text/plain": [
       "matrix([[ 7.53314065e+02],\n",
       "        [ 7.85646343e+01],\n",
       "        [-1.10273163e+00],\n",
       "        [-1.15006092e-01]])"
      ]
     },
     "metadata": {},
     "output_type": "display_data"
    },
    {
     "data": {
      "text/plain": [
       "matrix([[1.  , 0.  , 0.01, 0.  ],\n",
       "        [0.  , 1.  , 0.  , 0.01],\n",
       "        [0.  , 0.  , 1.  , 0.  ],\n",
       "        [0.  , 0.  , 0.  , 1.  ]])"
      ]
     },
     "metadata": {},
     "output_type": "display_data"
    },
    {
     "data": {
      "text/plain": [
       "matrix([[ 7.53303038e+02],\n",
       "        [ 7.85634842e+01],\n",
       "        [-1.10273163e+00],\n",
       "        [-1.15006092e-01]])"
      ]
     },
     "metadata": {},
     "output_type": "display_data"
    },
    {
     "data": {
      "text/plain": [
       "matrix([[1.  , 0.  , 0.01, 0.  ],\n",
       "        [0.  , 1.  , 0.  , 0.01],\n",
       "        [0.  , 0.  , 1.  , 0.  ],\n",
       "        [0.  , 0.  , 0.  , 1.  ]])"
      ]
     },
     "metadata": {},
     "output_type": "display_data"
    },
    {
     "data": {
      "text/plain": [
       "matrix([[ 7.53292011e+02],\n",
       "        [ 7.85623341e+01],\n",
       "        [-1.10273163e+00],\n",
       "        [-1.15006092e-01]])"
      ]
     },
     "metadata": {},
     "output_type": "display_data"
    },
    {
     "data": {
      "text/plain": [
       "matrix([[1.  , 0.  , 0.01, 0.  ],\n",
       "        [0.  , 1.  , 0.  , 0.01],\n",
       "        [0.  , 0.  , 1.  , 0.  ],\n",
       "        [0.  , 0.  , 0.  , 1.  ]])"
      ]
     },
     "metadata": {},
     "output_type": "display_data"
    },
    {
     "data": {
      "text/plain": [
       "matrix([[ 7.53280984e+02],\n",
       "        [ 7.85611841e+01],\n",
       "        [-1.10273163e+00],\n",
       "        [-1.15006092e-01]])"
      ]
     },
     "metadata": {},
     "output_type": "display_data"
    },
    {
     "data": {
      "text/plain": [
       "matrix([[1.  , 0.  , 0.01, 0.  ],\n",
       "        [0.  , 1.  , 0.  , 0.01],\n",
       "        [0.  , 0.  , 1.  , 0.  ],\n",
       "        [0.  , 0.  , 0.  , 1.  ]])"
      ]
     },
     "metadata": {},
     "output_type": "display_data"
    },
    {
     "data": {
      "text/plain": [
       "matrix([[ 7.53269956e+02],\n",
       "        [ 7.85600340e+01],\n",
       "        [-1.10273163e+00],\n",
       "        [-1.15006092e-01]])"
      ]
     },
     "metadata": {},
     "output_type": "display_data"
    },
    {
     "data": {
      "text/plain": [
       "matrix([[1.  , 0.  , 0.01, 0.  ],\n",
       "        [0.  , 1.  , 0.  , 0.01],\n",
       "        [0.  , 0.  , 1.  , 0.  ],\n",
       "        [0.  , 0.  , 0.  , 1.  ]])"
      ]
     },
     "metadata": {},
     "output_type": "display_data"
    },
    {
     "data": {
      "text/plain": [
       "matrix([[ 7.53258929e+02],\n",
       "        [ 7.85588839e+01],\n",
       "        [-1.10273163e+00],\n",
       "        [-1.15006092e-01]])"
      ]
     },
     "metadata": {},
     "output_type": "display_data"
    },
    {
     "data": {
      "text/plain": [
       "matrix([[1.  , 0.  , 0.01, 0.  ],\n",
       "        [0.  , 1.  , 0.  , 0.01],\n",
       "        [0.  , 0.  , 1.  , 0.  ],\n",
       "        [0.  , 0.  , 0.  , 1.  ]])"
      ]
     },
     "metadata": {},
     "output_type": "display_data"
    },
    {
     "data": {
      "text/plain": [
       "matrix([[ 7.53247902e+02],\n",
       "        [ 7.85577339e+01],\n",
       "        [-1.10273163e+00],\n",
       "        [-1.15006092e-01]])"
      ]
     },
     "metadata": {},
     "output_type": "display_data"
    },
    {
     "data": {
      "text/plain": [
       "matrix([[1.  , 0.  , 0.01, 0.  ],\n",
       "        [0.  , 1.  , 0.  , 0.01],\n",
       "        [0.  , 0.  , 1.  , 0.  ],\n",
       "        [0.  , 0.  , 0.  , 1.  ]])"
      ]
     },
     "metadata": {},
     "output_type": "display_data"
    },
    {
     "data": {
      "text/plain": [
       "matrix([[ 7.53236874e+02],\n",
       "        [ 7.85565838e+01],\n",
       "        [-1.10273163e+00],\n",
       "        [-1.15006092e-01]])"
      ]
     },
     "metadata": {},
     "output_type": "display_data"
    },
    {
     "data": {
      "text/plain": [
       "matrix([[1.  , 0.  , 0.01, 0.  ],\n",
       "        [0.  , 1.  , 0.  , 0.01],\n",
       "        [0.  , 0.  , 1.  , 0.  ],\n",
       "        [0.  , 0.  , 0.  , 1.  ]])"
      ]
     },
     "metadata": {},
     "output_type": "display_data"
    },
    {
     "data": {
      "text/plain": [
       "matrix([[ 7.53225847e+02],\n",
       "        [ 7.85554338e+01],\n",
       "        [-1.10273163e+00],\n",
       "        [-1.15006092e-01]])"
      ]
     },
     "metadata": {},
     "output_type": "display_data"
    },
    {
     "data": {
      "text/plain": [
       "matrix([[1.  , 0.  , 0.01, 0.  ],\n",
       "        [0.  , 1.  , 0.  , 0.01],\n",
       "        [0.  , 0.  , 1.  , 0.  ],\n",
       "        [0.  , 0.  , 0.  , 1.  ]])"
      ]
     },
     "metadata": {},
     "output_type": "display_data"
    },
    {
     "data": {
      "text/plain": [
       "matrix([[ 7.53214820e+02],\n",
       "        [ 7.85542837e+01],\n",
       "        [-1.10273163e+00],\n",
       "        [-1.15006092e-01]])"
      ]
     },
     "metadata": {},
     "output_type": "display_data"
    },
    {
     "data": {
      "text/plain": [
       "matrix([[1.  , 0.  , 0.01, 0.  ],\n",
       "        [0.  , 1.  , 0.  , 0.01],\n",
       "        [0.  , 0.  , 1.  , 0.  ],\n",
       "        [0.  , 0.  , 0.  , 1.  ]])"
      ]
     },
     "metadata": {},
     "output_type": "display_data"
    },
    {
     "data": {
      "text/plain": [
       "matrix([[ 7.53203792e+02],\n",
       "        [ 7.85531336e+01],\n",
       "        [-1.10273163e+00],\n",
       "        [-1.15006092e-01]])"
      ]
     },
     "metadata": {},
     "output_type": "display_data"
    },
    {
     "data": {
      "text/plain": [
       "matrix([[1.  , 0.  , 0.01, 0.  ],\n",
       "        [0.  , 1.  , 0.  , 0.01],\n",
       "        [0.  , 0.  , 1.  , 0.  ],\n",
       "        [0.  , 0.  , 0.  , 1.  ]])"
      ]
     },
     "metadata": {},
     "output_type": "display_data"
    },
    {
     "data": {
      "text/plain": [
       "matrix([[ 7.53192765e+02],\n",
       "        [ 7.85519836e+01],\n",
       "        [-1.10273163e+00],\n",
       "        [-1.15006092e-01]])"
      ]
     },
     "metadata": {},
     "output_type": "display_data"
    },
    {
     "data": {
      "text/plain": [
       "matrix([[1.  , 0.  , 0.01, 0.  ],\n",
       "        [0.  , 1.  , 0.  , 0.01],\n",
       "        [0.  , 0.  , 1.  , 0.  ],\n",
       "        [0.  , 0.  , 0.  , 1.  ]])"
      ]
     },
     "metadata": {},
     "output_type": "display_data"
    },
    {
     "data": {
      "text/plain": [
       "matrix([[ 7.53181738e+02],\n",
       "        [ 7.85508335e+01],\n",
       "        [-1.10273163e+00],\n",
       "        [-1.15006092e-01]])"
      ]
     },
     "metadata": {},
     "output_type": "display_data"
    },
    {
     "data": {
      "text/plain": [
       "matrix([[1.  , 0.  , 0.01, 0.  ],\n",
       "        [0.  , 1.  , 0.  , 0.01],\n",
       "        [0.  , 0.  , 1.  , 0.  ],\n",
       "        [0.  , 0.  , 0.  , 1.  ]])"
      ]
     },
     "metadata": {},
     "output_type": "display_data"
    },
    {
     "data": {
      "text/plain": [
       "matrix([[ 7.53170710e+02],\n",
       "        [ 7.85496835e+01],\n",
       "        [-1.10273163e+00],\n",
       "        [-1.15006092e-01]])"
      ]
     },
     "metadata": {},
     "output_type": "display_data"
    },
    {
     "data": {
      "text/plain": [
       "matrix([[1.  , 0.  , 0.01, 0.  ],\n",
       "        [0.  , 1.  , 0.  , 0.01],\n",
       "        [0.  , 0.  , 1.  , 0.  ],\n",
       "        [0.  , 0.  , 0.  , 1.  ]])"
      ]
     },
     "metadata": {},
     "output_type": "display_data"
    },
    {
     "data": {
      "text/plain": [
       "matrix([[ 7.53159683e+02],\n",
       "        [ 7.85485334e+01],\n",
       "        [-1.10273163e+00],\n",
       "        [-1.15006092e-01]])"
      ]
     },
     "metadata": {},
     "output_type": "display_data"
    },
    {
     "data": {
      "text/plain": [
       "matrix([[1.  , 0.  , 0.01, 0.  ],\n",
       "        [0.  , 1.  , 0.  , 0.01],\n",
       "        [0.  , 0.  , 1.  , 0.  ],\n",
       "        [0.  , 0.  , 0.  , 1.  ]])"
      ]
     },
     "metadata": {},
     "output_type": "display_data"
    },
    {
     "data": {
      "text/plain": [
       "matrix([[ 7.53148656e+02],\n",
       "        [ 7.85473833e+01],\n",
       "        [-1.10273163e+00],\n",
       "        [-1.15006092e-01]])"
      ]
     },
     "metadata": {},
     "output_type": "display_data"
    },
    {
     "data": {
      "text/plain": [
       "matrix([[1.  , 0.  , 0.01, 0.  ],\n",
       "        [0.  , 1.  , 0.  , 0.01],\n",
       "        [0.  , 0.  , 1.  , 0.  ],\n",
       "        [0.  , 0.  , 0.  , 1.  ]])"
      ]
     },
     "metadata": {},
     "output_type": "display_data"
    },
    {
     "data": {
      "text/plain": [
       "matrix([[ 7.53137628e+02],\n",
       "        [ 7.85462333e+01],\n",
       "        [-1.10273163e+00],\n",
       "        [-1.15006092e-01]])"
      ]
     },
     "metadata": {},
     "output_type": "display_data"
    },
    {
     "data": {
      "text/plain": [
       "matrix([[1.  , 0.  , 0.01, 0.  ],\n",
       "        [0.  , 1.  , 0.  , 0.01],\n",
       "        [0.  , 0.  , 1.  , 0.  ],\n",
       "        [0.  , 0.  , 0.  , 1.  ]])"
      ]
     },
     "metadata": {},
     "output_type": "display_data"
    },
    {
     "data": {
      "text/plain": [
       "matrix([[ 7.53126601e+02],\n",
       "        [ 7.85450832e+01],\n",
       "        [-1.10273163e+00],\n",
       "        [-1.15006092e-01]])"
      ]
     },
     "metadata": {},
     "output_type": "display_data"
    },
    {
     "data": {
      "text/plain": [
       "matrix([[1.  , 0.  , 0.01, 0.  ],\n",
       "        [0.  , 1.  , 0.  , 0.01],\n",
       "        [0.  , 0.  , 1.  , 0.  ],\n",
       "        [0.  , 0.  , 0.  , 1.  ]])"
      ]
     },
     "metadata": {},
     "output_type": "display_data"
    },
    {
     "data": {
      "text/plain": [
       "matrix([[ 7.53115574e+02],\n",
       "        [ 7.85439332e+01],\n",
       "        [-1.10273163e+00],\n",
       "        [-1.15006092e-01]])"
      ]
     },
     "metadata": {},
     "output_type": "display_data"
    },
    {
     "data": {
      "text/plain": [
       "matrix([[1.  , 0.  , 0.01, 0.  ],\n",
       "        [0.  , 1.  , 0.  , 0.01],\n",
       "        [0.  , 0.  , 1.  , 0.  ],\n",
       "        [0.  , 0.  , 0.  , 1.  ]])"
      ]
     },
     "metadata": {},
     "output_type": "display_data"
    },
    {
     "data": {
      "text/plain": [
       "matrix([[ 7.53104546e+02],\n",
       "        [ 7.85427831e+01],\n",
       "        [-1.10273163e+00],\n",
       "        [-1.15006092e-01]])"
      ]
     },
     "metadata": {},
     "output_type": "display_data"
    },
    {
     "data": {
      "text/plain": [
       "matrix([[1.  , 0.  , 0.01, 0.  ],\n",
       "        [0.  , 1.  , 0.  , 0.01],\n",
       "        [0.  , 0.  , 1.  , 0.  ],\n",
       "        [0.  , 0.  , 0.  , 1.  ]])"
      ]
     },
     "metadata": {},
     "output_type": "display_data"
    },
    {
     "data": {
      "text/plain": [
       "matrix([[ 7.53093519e+02],\n",
       "        [ 7.85416330e+01],\n",
       "        [-1.10273163e+00],\n",
       "        [-1.15006092e-01]])"
      ]
     },
     "metadata": {},
     "output_type": "display_data"
    },
    {
     "data": {
      "text/plain": [
       "matrix([[1.  , 0.  , 0.01, 0.  ],\n",
       "        [0.  , 1.  , 0.  , 0.01],\n",
       "        [0.  , 0.  , 1.  , 0.  ],\n",
       "        [0.  , 0.  , 0.  , 1.  ]])"
      ]
     },
     "metadata": {},
     "output_type": "display_data"
    },
    {
     "data": {
      "text/plain": [
       "matrix([[ 7.53082492e+02],\n",
       "        [ 7.85404830e+01],\n",
       "        [-1.10273163e+00],\n",
       "        [-1.15006092e-01]])"
      ]
     },
     "metadata": {},
     "output_type": "display_data"
    },
    {
     "data": {
      "text/plain": [
       "matrix([[1.  , 0.  , 0.01, 0.  ],\n",
       "        [0.  , 1.  , 0.  , 0.01],\n",
       "        [0.  , 0.  , 1.  , 0.  ],\n",
       "        [0.  , 0.  , 0.  , 1.  ]])"
      ]
     },
     "metadata": {},
     "output_type": "display_data"
    },
    {
     "data": {
      "text/plain": [
       "matrix([[ 7.53071465e+02],\n",
       "        [ 7.85393329e+01],\n",
       "        [-1.10273163e+00],\n",
       "        [-1.15006092e-01]])"
      ]
     },
     "metadata": {},
     "output_type": "display_data"
    },
    {
     "data": {
      "text/plain": [
       "matrix([[1.  , 0.  , 0.01, 0.  ],\n",
       "        [0.  , 1.  , 0.  , 0.01],\n",
       "        [0.  , 0.  , 1.  , 0.  ],\n",
       "        [0.  , 0.  , 0.  , 1.  ]])"
      ]
     },
     "metadata": {},
     "output_type": "display_data"
    },
    {
     "data": {
      "text/plain": [
       "matrix([[ 7.53060437e+02],\n",
       "        [ 7.85381829e+01],\n",
       "        [-1.10273163e+00],\n",
       "        [-1.15006092e-01]])"
      ]
     },
     "metadata": {},
     "output_type": "display_data"
    },
    {
     "data": {
      "text/plain": [
       "matrix([[1.  , 0.  , 0.01, 0.  ],\n",
       "        [0.  , 1.  , 0.  , 0.01],\n",
       "        [0.  , 0.  , 1.  , 0.  ],\n",
       "        [0.  , 0.  , 0.  , 1.  ]])"
      ]
     },
     "metadata": {},
     "output_type": "display_data"
    },
    {
     "data": {
      "text/plain": [
       "matrix([[ 7.53049410e+02],\n",
       "        [ 7.85370328e+01],\n",
       "        [-1.10273163e+00],\n",
       "        [-1.15006092e-01]])"
      ]
     },
     "metadata": {},
     "output_type": "display_data"
    },
    {
     "data": {
      "text/plain": [
       "matrix([[1.  , 0.  , 0.01, 0.  ],\n",
       "        [0.  , 1.  , 0.  , 0.01],\n",
       "        [0.  , 0.  , 1.  , 0.  ],\n",
       "        [0.  , 0.  , 0.  , 1.  ]])"
      ]
     },
     "metadata": {},
     "output_type": "display_data"
    },
    {
     "data": {
      "text/plain": [
       "matrix([[ 7.53038383e+02],\n",
       "        [ 7.85358827e+01],\n",
       "        [-1.10273163e+00],\n",
       "        [-1.15006092e-01]])"
      ]
     },
     "metadata": {},
     "output_type": "display_data"
    },
    {
     "data": {
      "text/plain": [
       "matrix([[1.  , 0.  , 0.01, 0.  ],\n",
       "        [0.  , 1.  , 0.  , 0.01],\n",
       "        [0.  , 0.  , 1.  , 0.  ],\n",
       "        [0.  , 0.  , 0.  , 1.  ]])"
      ]
     },
     "metadata": {},
     "output_type": "display_data"
    },
    {
     "data": {
      "text/plain": [
       "matrix([[ 7.53027355e+02],\n",
       "        [ 7.85347327e+01],\n",
       "        [-1.10273163e+00],\n",
       "        [-1.15006092e-01]])"
      ]
     },
     "metadata": {},
     "output_type": "display_data"
    },
    {
     "data": {
      "text/plain": [
       "matrix([[1.  , 0.  , 0.01, 0.  ],\n",
       "        [0.  , 1.  , 0.  , 0.01],\n",
       "        [0.  , 0.  , 1.  , 0.  ],\n",
       "        [0.  , 0.  , 0.  , 1.  ]])"
      ]
     },
     "metadata": {},
     "output_type": "display_data"
    },
    {
     "data": {
      "text/plain": [
       "matrix([[ 7.53016328e+02],\n",
       "        [ 7.85335826e+01],\n",
       "        [-1.10273163e+00],\n",
       "        [-1.15006092e-01]])"
      ]
     },
     "metadata": {},
     "output_type": "display_data"
    },
    {
     "data": {
      "text/plain": [
       "matrix([[1.  , 0.  , 0.01, 0.  ],\n",
       "        [0.  , 1.  , 0.  , 0.01],\n",
       "        [0.  , 0.  , 1.  , 0.  ],\n",
       "        [0.  , 0.  , 0.  , 1.  ]])"
      ]
     },
     "metadata": {},
     "output_type": "display_data"
    },
    {
     "data": {
      "text/plain": [
       "matrix([[ 7.53005301e+02],\n",
       "        [ 7.85324325e+01],\n",
       "        [-1.10273163e+00],\n",
       "        [-1.15006092e-01]])"
      ]
     },
     "metadata": {},
     "output_type": "display_data"
    },
    {
     "data": {
      "text/plain": [
       "matrix([[1.  , 0.  , 0.01, 0.  ],\n",
       "        [0.  , 1.  , 0.  , 0.01],\n",
       "        [0.  , 0.  , 1.  , 0.  ],\n",
       "        [0.  , 0.  , 0.  , 1.  ]])"
      ]
     },
     "metadata": {},
     "output_type": "display_data"
    },
    {
     "data": {
      "text/plain": [
       "matrix([[ 7.52994273e+02],\n",
       "        [ 7.85312825e+01],\n",
       "        [-1.10273163e+00],\n",
       "        [-1.15006092e-01]])"
      ]
     },
     "metadata": {},
     "output_type": "display_data"
    },
    {
     "data": {
      "text/plain": [
       "matrix([[1.  , 0.  , 0.01, 0.  ],\n",
       "        [0.  , 1.  , 0.  , 0.01],\n",
       "        [0.  , 0.  , 1.  , 0.  ],\n",
       "        [0.  , 0.  , 0.  , 1.  ]])"
      ]
     },
     "metadata": {},
     "output_type": "display_data"
    },
    {
     "data": {
      "text/plain": [
       "matrix([[ 7.52983246e+02],\n",
       "        [ 7.85301324e+01],\n",
       "        [-1.10273163e+00],\n",
       "        [-1.15006092e-01]])"
      ]
     },
     "metadata": {},
     "output_type": "display_data"
    },
    {
     "data": {
      "text/plain": [
       "matrix([[1.  , 0.  , 0.01, 0.  ],\n",
       "        [0.  , 1.  , 0.  , 0.01],\n",
       "        [0.  , 0.  , 1.  , 0.  ],\n",
       "        [0.  , 0.  , 0.  , 1.  ]])"
      ]
     },
     "metadata": {},
     "output_type": "display_data"
    },
    {
     "data": {
      "text/plain": [
       "matrix([[ 7.52972219e+02],\n",
       "        [ 7.85289824e+01],\n",
       "        [-1.10273163e+00],\n",
       "        [-1.15006092e-01]])"
      ]
     },
     "metadata": {},
     "output_type": "display_data"
    },
    {
     "data": {
      "text/plain": [
       "matrix([[1.  , 0.  , 0.01, 0.  ],\n",
       "        [0.  , 1.  , 0.  , 0.01],\n",
       "        [0.  , 0.  , 1.  , 0.  ],\n",
       "        [0.  , 0.  , 0.  , 1.  ]])"
      ]
     },
     "metadata": {},
     "output_type": "display_data"
    },
    {
     "data": {
      "text/plain": [
       "matrix([[ 7.52961191e+02],\n",
       "        [ 7.85278323e+01],\n",
       "        [-1.10273163e+00],\n",
       "        [-1.15006092e-01]])"
      ]
     },
     "metadata": {},
     "output_type": "display_data"
    },
    {
     "data": {
      "text/plain": [
       "matrix([[1.  , 0.  , 0.01, 0.  ],\n",
       "        [0.  , 1.  , 0.  , 0.01],\n",
       "        [0.  , 0.  , 1.  , 0.  ],\n",
       "        [0.  , 0.  , 0.  , 1.  ]])"
      ]
     },
     "metadata": {},
     "output_type": "display_data"
    },
    {
     "data": {
      "text/plain": [
       "matrix([[ 7.52950164e+02],\n",
       "        [ 7.85266822e+01],\n",
       "        [-1.10273163e+00],\n",
       "        [-1.15006092e-01]])"
      ]
     },
     "metadata": {},
     "output_type": "display_data"
    },
    {
     "data": {
      "text/plain": [
       "matrix([[1.  , 0.  , 0.01, 0.  ],\n",
       "        [0.  , 1.  , 0.  , 0.01],\n",
       "        [0.  , 0.  , 1.  , 0.  ],\n",
       "        [0.  , 0.  , 0.  , 1.  ]])"
      ]
     },
     "metadata": {},
     "output_type": "display_data"
    },
    {
     "data": {
      "text/plain": [
       "matrix([[ 7.52939137e+02],\n",
       "        [ 7.85255322e+01],\n",
       "        [-1.10273163e+00],\n",
       "        [-1.15006092e-01]])"
      ]
     },
     "metadata": {},
     "output_type": "display_data"
    },
    {
     "data": {
      "text/plain": [
       "matrix([[1.  , 0.  , 0.01, 0.  ],\n",
       "        [0.  , 1.  , 0.  , 0.01],\n",
       "        [0.  , 0.  , 1.  , 0.  ],\n",
       "        [0.  , 0.  , 0.  , 1.  ]])"
      ]
     },
     "metadata": {},
     "output_type": "display_data"
    },
    {
     "data": {
      "text/plain": [
       "matrix([[ 7.52928109e+02],\n",
       "        [ 7.85243821e+01],\n",
       "        [-1.10273163e+00],\n",
       "        [-1.15006092e-01]])"
      ]
     },
     "metadata": {},
     "output_type": "display_data"
    },
    {
     "data": {
      "text/plain": [
       "matrix([[1.  , 0.  , 0.01, 0.  ],\n",
       "        [0.  , 1.  , 0.  , 0.01],\n",
       "        [0.  , 0.  , 1.  , 0.  ],\n",
       "        [0.  , 0.  , 0.  , 1.  ]])"
      ]
     },
     "metadata": {},
     "output_type": "display_data"
    },
    {
     "data": {
      "text/plain": [
       "matrix([[ 7.52917082e+02],\n",
       "        [ 7.85232321e+01],\n",
       "        [-1.10273163e+00],\n",
       "        [-1.15006092e-01]])"
      ]
     },
     "metadata": {},
     "output_type": "display_data"
    },
    {
     "data": {
      "text/plain": [
       "matrix([[1.  , 0.  , 0.01, 0.  ],\n",
       "        [0.  , 1.  , 0.  , 0.01],\n",
       "        [0.  , 0.  , 1.  , 0.  ],\n",
       "        [0.  , 0.  , 0.  , 1.  ]])"
      ]
     },
     "metadata": {},
     "output_type": "display_data"
    },
    {
     "data": {
      "text/plain": [
       "matrix([[ 7.52906055e+02],\n",
       "        [ 7.85220820e+01],\n",
       "        [-1.10273163e+00],\n",
       "        [-1.15006092e-01]])"
      ]
     },
     "metadata": {},
     "output_type": "display_data"
    },
    {
     "data": {
      "text/plain": [
       "matrix([[1.  , 0.  , 0.01, 0.  ],\n",
       "        [0.  , 1.  , 0.  , 0.01],\n",
       "        [0.  , 0.  , 1.  , 0.  ],\n",
       "        [0.  , 0.  , 0.  , 1.  ]])"
      ]
     },
     "metadata": {},
     "output_type": "display_data"
    },
    {
     "data": {
      "text/plain": [
       "matrix([[ 7.52895027e+02],\n",
       "        [ 7.85209319e+01],\n",
       "        [-1.10273163e+00],\n",
       "        [-1.15006092e-01]])"
      ]
     },
     "metadata": {},
     "output_type": "display_data"
    },
    {
     "data": {
      "text/plain": [
       "matrix([[1.  , 0.  , 0.01, 0.  ],\n",
       "        [0.  , 1.  , 0.  , 0.01],\n",
       "        [0.  , 0.  , 1.  , 0.  ],\n",
       "        [0.  , 0.  , 0.  , 1.  ]])"
      ]
     },
     "metadata": {},
     "output_type": "display_data"
    },
    {
     "data": {
      "text/plain": [
       "matrix([[ 7.52884000e+02],\n",
       "        [ 7.85197819e+01],\n",
       "        [-1.10273163e+00],\n",
       "        [-1.15006092e-01]])"
      ]
     },
     "metadata": {},
     "output_type": "display_data"
    },
    {
     "data": {
      "text/plain": [
       "matrix([[1.  , 0.  , 0.01, 0.  ],\n",
       "        [0.  , 1.  , 0.  , 0.01],\n",
       "        [0.  , 0.  , 1.  , 0.  ],\n",
       "        [0.  , 0.  , 0.  , 1.  ]])"
      ]
     },
     "metadata": {},
     "output_type": "display_data"
    },
    {
     "data": {
      "text/plain": [
       "matrix([[ 7.52872973e+02],\n",
       "        [ 7.85186318e+01],\n",
       "        [-1.10273163e+00],\n",
       "        [-1.15006092e-01]])"
      ]
     },
     "metadata": {},
     "output_type": "display_data"
    },
    {
     "data": {
      "text/plain": [
       "matrix([[1.  , 0.  , 0.01, 0.  ],\n",
       "        [0.  , 1.  , 0.  , 0.01],\n",
       "        [0.  , 0.  , 1.  , 0.  ],\n",
       "        [0.  , 0.  , 0.  , 1.  ]])"
      ]
     },
     "metadata": {},
     "output_type": "display_data"
    },
    {
     "data": {
      "text/plain": [
       "matrix([[ 7.52861946e+02],\n",
       "        [ 7.85174818e+01],\n",
       "        [-1.10273163e+00],\n",
       "        [-1.15006092e-01]])"
      ]
     },
     "metadata": {},
     "output_type": "display_data"
    },
    {
     "data": {
      "text/plain": [
       "matrix([[1.  , 0.  , 0.01, 0.  ],\n",
       "        [0.  , 1.  , 0.  , 0.01],\n",
       "        [0.  , 0.  , 1.  , 0.  ],\n",
       "        [0.  , 0.  , 0.  , 1.  ]])"
      ]
     },
     "metadata": {},
     "output_type": "display_data"
    },
    {
     "data": {
      "text/plain": [
       "matrix([[ 7.52850918e+02],\n",
       "        [ 7.85163317e+01],\n",
       "        [-1.10273163e+00],\n",
       "        [-1.15006092e-01]])"
      ]
     },
     "metadata": {},
     "output_type": "display_data"
    },
    {
     "data": {
      "text/plain": [
       "matrix([[1.  , 0.  , 0.01, 0.  ],\n",
       "        [0.  , 1.  , 0.  , 0.01],\n",
       "        [0.  , 0.  , 1.  , 0.  ],\n",
       "        [0.  , 0.  , 0.  , 1.  ]])"
      ]
     },
     "metadata": {},
     "output_type": "display_data"
    },
    {
     "data": {
      "text/plain": [
       "matrix([[ 7.52839891e+02],\n",
       "        [ 7.85151816e+01],\n",
       "        [-1.10273163e+00],\n",
       "        [-1.15006092e-01]])"
      ]
     },
     "metadata": {},
     "output_type": "display_data"
    },
    {
     "data": {
      "text/plain": [
       "matrix([[1.  , 0.  , 0.01, 0.  ],\n",
       "        [0.  , 1.  , 0.  , 0.01],\n",
       "        [0.  , 0.  , 1.  , 0.  ],\n",
       "        [0.  , 0.  , 0.  , 1.  ]])"
      ]
     },
     "metadata": {},
     "output_type": "display_data"
    },
    {
     "data": {
      "text/plain": [
       "matrix([[ 7.52828864e+02],\n",
       "        [ 7.85140316e+01],\n",
       "        [-1.10273163e+00],\n",
       "        [-1.15006092e-01]])"
      ]
     },
     "metadata": {},
     "output_type": "display_data"
    },
    {
     "data": {
      "text/plain": [
       "matrix([[1.  , 0.  , 0.01, 0.  ],\n",
       "        [0.  , 1.  , 0.  , 0.01],\n",
       "        [0.  , 0.  , 1.  , 0.  ],\n",
       "        [0.  , 0.  , 0.  , 1.  ]])"
      ]
     },
     "metadata": {},
     "output_type": "display_data"
    },
    {
     "data": {
      "text/plain": [
       "matrix([[ 7.52817836e+02],\n",
       "        [ 7.85128815e+01],\n",
       "        [-1.10273163e+00],\n",
       "        [-1.15006092e-01]])"
      ]
     },
     "metadata": {},
     "output_type": "display_data"
    },
    {
     "data": {
      "text/plain": [
       "matrix([[1.  , 0.  , 0.01, 0.  ],\n",
       "        [0.  , 1.  , 0.  , 0.01],\n",
       "        [0.  , 0.  , 1.  , 0.  ],\n",
       "        [0.  , 0.  , 0.  , 1.  ]])"
      ]
     },
     "metadata": {},
     "output_type": "display_data"
    },
    {
     "data": {
      "text/plain": [
       "matrix([[ 7.52806809e+02],\n",
       "        [ 7.85117314e+01],\n",
       "        [-1.10273163e+00],\n",
       "        [-1.15006092e-01]])"
      ]
     },
     "metadata": {},
     "output_type": "display_data"
    },
    {
     "data": {
      "text/plain": [
       "matrix([[1.  , 0.  , 0.01, 0.  ],\n",
       "        [0.  , 1.  , 0.  , 0.01],\n",
       "        [0.  , 0.  , 1.  , 0.  ],\n",
       "        [0.  , 0.  , 0.  , 1.  ]])"
      ]
     },
     "metadata": {},
     "output_type": "display_data"
    },
    {
     "data": {
      "text/plain": [
       "matrix([[ 7.52795782e+02],\n",
       "        [ 7.85105814e+01],\n",
       "        [-1.10273163e+00],\n",
       "        [-1.15006092e-01]])"
      ]
     },
     "metadata": {},
     "output_type": "display_data"
    },
    {
     "data": {
      "text/plain": [
       "matrix([[1.  , 0.  , 0.01, 0.  ],\n",
       "        [0.  , 1.  , 0.  , 0.01],\n",
       "        [0.  , 0.  , 1.  , 0.  ],\n",
       "        [0.  , 0.  , 0.  , 1.  ]])"
      ]
     },
     "metadata": {},
     "output_type": "display_data"
    },
    {
     "data": {
      "text/plain": [
       "matrix([[ 7.52784754e+02],\n",
       "        [ 7.85094313e+01],\n",
       "        [-1.10273163e+00],\n",
       "        [-1.15006092e-01]])"
      ]
     },
     "metadata": {},
     "output_type": "display_data"
    },
    {
     "data": {
      "text/plain": [
       "matrix([[1.  , 0.  , 0.01, 0.  ],\n",
       "        [0.  , 1.  , 0.  , 0.01],\n",
       "        [0.  , 0.  , 1.  , 0.  ],\n",
       "        [0.  , 0.  , 0.  , 1.  ]])"
      ]
     },
     "metadata": {},
     "output_type": "display_data"
    },
    {
     "data": {
      "text/plain": [
       "matrix([[ 7.52773727e+02],\n",
       "        [ 7.85082813e+01],\n",
       "        [-1.10273163e+00],\n",
       "        [-1.15006092e-01]])"
      ]
     },
     "metadata": {},
     "output_type": "display_data"
    },
    {
     "data": {
      "text/plain": [
       "matrix([[1.  , 0.  , 0.01, 0.  ],\n",
       "        [0.  , 1.  , 0.  , 0.01],\n",
       "        [0.  , 0.  , 1.  , 0.  ],\n",
       "        [0.  , 0.  , 0.  , 1.  ]])"
      ]
     },
     "metadata": {},
     "output_type": "display_data"
    },
    {
     "data": {
      "text/plain": [
       "matrix([[ 7.52762700e+02],\n",
       "        [ 7.85071312e+01],\n",
       "        [-1.10273163e+00],\n",
       "        [-1.15006092e-01]])"
      ]
     },
     "metadata": {},
     "output_type": "display_data"
    },
    {
     "data": {
      "text/plain": [
       "matrix([[1.  , 0.  , 0.01, 0.  ],\n",
       "        [0.  , 1.  , 0.  , 0.01],\n",
       "        [0.  , 0.  , 1.  , 0.  ],\n",
       "        [0.  , 0.  , 0.  , 1.  ]])"
      ]
     },
     "metadata": {},
     "output_type": "display_data"
    },
    {
     "data": {
      "text/plain": [
       "matrix([[ 7.52751672e+02],\n",
       "        [ 7.85059811e+01],\n",
       "        [-1.10273163e+00],\n",
       "        [-1.15006092e-01]])"
      ]
     },
     "metadata": {},
     "output_type": "display_data"
    },
    {
     "data": {
      "text/plain": [
       "matrix([[1.  , 0.  , 0.01, 0.  ],\n",
       "        [0.  , 1.  , 0.  , 0.01],\n",
       "        [0.  , 0.  , 1.  , 0.  ],\n",
       "        [0.  , 0.  , 0.  , 1.  ]])"
      ]
     },
     "metadata": {},
     "output_type": "display_data"
    },
    {
     "data": {
      "text/plain": [
       "matrix([[ 7.52740645e+02],\n",
       "        [ 7.85048311e+01],\n",
       "        [-1.10273163e+00],\n",
       "        [-1.15006092e-01]])"
      ]
     },
     "metadata": {},
     "output_type": "display_data"
    },
    {
     "data": {
      "text/plain": [
       "matrix([[1.  , 0.  , 0.01, 0.  ],\n",
       "        [0.  , 1.  , 0.  , 0.01],\n",
       "        [0.  , 0.  , 1.  , 0.  ],\n",
       "        [0.  , 0.  , 0.  , 1.  ]])"
      ]
     },
     "metadata": {},
     "output_type": "display_data"
    },
    {
     "data": {
      "text/plain": [
       "matrix([[ 7.52729618e+02],\n",
       "        [ 7.85036810e+01],\n",
       "        [-1.10273163e+00],\n",
       "        [-1.15006092e-01]])"
      ]
     },
     "metadata": {},
     "output_type": "display_data"
    },
    {
     "data": {
      "text/plain": [
       "matrix([[1.  , 0.  , 0.01, 0.  ],\n",
       "        [0.  , 1.  , 0.  , 0.01],\n",
       "        [0.  , 0.  , 1.  , 0.  ],\n",
       "        [0.  , 0.  , 0.  , 1.  ]])"
      ]
     },
     "metadata": {},
     "output_type": "display_data"
    },
    {
     "data": {
      "text/plain": [
       "matrix([[ 7.52718590e+02],\n",
       "        [ 7.85025310e+01],\n",
       "        [-1.10273163e+00],\n",
       "        [-1.15006092e-01]])"
      ]
     },
     "metadata": {},
     "output_type": "display_data"
    },
    {
     "data": {
      "text/plain": [
       "matrix([[1.  , 0.  , 0.01, 0.  ],\n",
       "        [0.  , 1.  , 0.  , 0.01],\n",
       "        [0.  , 0.  , 1.  , 0.  ],\n",
       "        [0.  , 0.  , 0.  , 1.  ]])"
      ]
     },
     "metadata": {},
     "output_type": "display_data"
    },
    {
     "data": {
      "text/plain": [
       "matrix([[ 7.52707563e+02],\n",
       "        [ 7.85013809e+01],\n",
       "        [-1.10273163e+00],\n",
       "        [-1.15006092e-01]])"
      ]
     },
     "metadata": {},
     "output_type": "display_data"
    },
    {
     "data": {
      "text/plain": [
       "matrix([[1.  , 0.  , 0.01, 0.  ],\n",
       "        [0.  , 1.  , 0.  , 0.01],\n",
       "        [0.  , 0.  , 1.  , 0.  ],\n",
       "        [0.  , 0.  , 0.  , 1.  ]])"
      ]
     },
     "metadata": {},
     "output_type": "display_data"
    },
    {
     "data": {
      "text/plain": [
       "matrix([[ 7.52696536e+02],\n",
       "        [ 7.85002308e+01],\n",
       "        [-1.10273163e+00],\n",
       "        [-1.15006092e-01]])"
      ]
     },
     "metadata": {},
     "output_type": "display_data"
    },
    {
     "data": {
      "text/plain": [
       "matrix([[1.  , 0.  , 0.01, 0.  ],\n",
       "        [0.  , 1.  , 0.  , 0.01],\n",
       "        [0.  , 0.  , 1.  , 0.  ],\n",
       "        [0.  , 0.  , 0.  , 1.  ]])"
      ]
     },
     "metadata": {},
     "output_type": "display_data"
    },
    {
     "data": {
      "text/plain": [
       "matrix([[ 7.52685508e+02],\n",
       "        [ 7.84990808e+01],\n",
       "        [-1.10273163e+00],\n",
       "        [-1.15006092e-01]])"
      ]
     },
     "metadata": {},
     "output_type": "display_data"
    },
    {
     "data": {
      "text/plain": [
       "matrix([[1.  , 0.  , 0.01, 0.  ],\n",
       "        [0.  , 1.  , 0.  , 0.01],\n",
       "        [0.  , 0.  , 1.  , 0.  ],\n",
       "        [0.  , 0.  , 0.  , 1.  ]])"
      ]
     },
     "metadata": {},
     "output_type": "display_data"
    },
    {
     "data": {
      "text/plain": [
       "matrix([[ 7.52674481e+02],\n",
       "        [ 7.84979307e+01],\n",
       "        [-1.10273163e+00],\n",
       "        [-1.15006092e-01]])"
      ]
     },
     "metadata": {},
     "output_type": "display_data"
    },
    {
     "data": {
      "text/plain": [
       "matrix([[1.  , 0.  , 0.01, 0.  ],\n",
       "        [0.  , 1.  , 0.  , 0.01],\n",
       "        [0.  , 0.  , 1.  , 0.  ],\n",
       "        [0.  , 0.  , 0.  , 1.  ]])"
      ]
     },
     "metadata": {},
     "output_type": "display_data"
    },
    {
     "data": {
      "text/plain": [
       "matrix([[ 7.52663454e+02],\n",
       "        [ 7.84967807e+01],\n",
       "        [-1.10273163e+00],\n",
       "        [-1.15006092e-01]])"
      ]
     },
     "metadata": {},
     "output_type": "display_data"
    },
    {
     "data": {
      "text/plain": [
       "matrix([[1.  , 0.  , 0.01, 0.  ],\n",
       "        [0.  , 1.  , 0.  , 0.01],\n",
       "        [0.  , 0.  , 1.  , 0.  ],\n",
       "        [0.  , 0.  , 0.  , 1.  ]])"
      ]
     },
     "metadata": {},
     "output_type": "display_data"
    },
    {
     "data": {
      "text/plain": [
       "matrix([[ 7.52652426e+02],\n",
       "        [ 7.84956306e+01],\n",
       "        [-1.10273163e+00],\n",
       "        [-1.15006092e-01]])"
      ]
     },
     "metadata": {},
     "output_type": "display_data"
    },
    {
     "data": {
      "text/plain": [
       "matrix([[1.  , 0.  , 0.01, 0.  ],\n",
       "        [0.  , 1.  , 0.  , 0.01],\n",
       "        [0.  , 0.  , 1.  , 0.  ],\n",
       "        [0.  , 0.  , 0.  , 1.  ]])"
      ]
     },
     "metadata": {},
     "output_type": "display_data"
    },
    {
     "data": {
      "text/plain": [
       "matrix([[ 7.52641399e+02],\n",
       "        [ 7.84944805e+01],\n",
       "        [-1.10273163e+00],\n",
       "        [-1.15006092e-01]])"
      ]
     },
     "metadata": {},
     "output_type": "display_data"
    },
    {
     "data": {
      "text/plain": [
       "matrix([[1.  , 0.  , 0.01, 0.  ],\n",
       "        [0.  , 1.  , 0.  , 0.01],\n",
       "        [0.  , 0.  , 1.  , 0.  ],\n",
       "        [0.  , 0.  , 0.  , 1.  ]])"
      ]
     },
     "metadata": {},
     "output_type": "display_data"
    },
    {
     "data": {
      "text/plain": [
       "matrix([[ 7.52630372e+02],\n",
       "        [ 7.84933305e+01],\n",
       "        [-1.10273163e+00],\n",
       "        [-1.15006092e-01]])"
      ]
     },
     "metadata": {},
     "output_type": "display_data"
    },
    {
     "data": {
      "text/plain": [
       "matrix([[1.  , 0.  , 0.01, 0.  ],\n",
       "        [0.  , 1.  , 0.  , 0.01],\n",
       "        [0.  , 0.  , 1.  , 0.  ],\n",
       "        [0.  , 0.  , 0.  , 1.  ]])"
      ]
     },
     "metadata": {},
     "output_type": "display_data"
    },
    {
     "data": {
      "text/plain": [
       "matrix([[ 7.52619345e+02],\n",
       "        [ 7.84921804e+01],\n",
       "        [-1.10273163e+00],\n",
       "        [-1.15006092e-01]])"
      ]
     },
     "metadata": {},
     "output_type": "display_data"
    },
    {
     "data": {
      "text/plain": [
       "matrix([[1.  , 0.  , 0.01, 0.  ],\n",
       "        [0.  , 1.  , 0.  , 0.01],\n",
       "        [0.  , 0.  , 1.  , 0.  ],\n",
       "        [0.  , 0.  , 0.  , 1.  ]])"
      ]
     },
     "metadata": {},
     "output_type": "display_data"
    },
    {
     "data": {
      "text/plain": [
       "matrix([[ 7.52608317e+02],\n",
       "        [ 7.84910304e+01],\n",
       "        [-1.10273163e+00],\n",
       "        [-1.15006092e-01]])"
      ]
     },
     "metadata": {},
     "output_type": "display_data"
    },
    {
     "data": {
      "text/plain": [
       "matrix([[1.  , 0.  , 0.01, 0.  ],\n",
       "        [0.  , 1.  , 0.  , 0.01],\n",
       "        [0.  , 0.  , 1.  , 0.  ],\n",
       "        [0.  , 0.  , 0.  , 1.  ]])"
      ]
     },
     "metadata": {},
     "output_type": "display_data"
    },
    {
     "data": {
      "text/plain": [
       "matrix([[ 7.52597290e+02],\n",
       "        [ 7.84898803e+01],\n",
       "        [-1.10273163e+00],\n",
       "        [-1.15006092e-01]])"
      ]
     },
     "metadata": {},
     "output_type": "display_data"
    },
    {
     "data": {
      "text/plain": [
       "matrix([[1.  , 0.  , 0.01, 0.  ],\n",
       "        [0.  , 1.  , 0.  , 0.01],\n",
       "        [0.  , 0.  , 1.  , 0.  ],\n",
       "        [0.  , 0.  , 0.  , 1.  ]])"
      ]
     },
     "metadata": {},
     "output_type": "display_data"
    },
    {
     "data": {
      "text/plain": [
       "matrix([[ 7.52586263e+02],\n",
       "        [ 7.84887302e+01],\n",
       "        [-1.10273163e+00],\n",
       "        [-1.15006092e-01]])"
      ]
     },
     "metadata": {},
     "output_type": "display_data"
    },
    {
     "data": {
      "text/plain": [
       "matrix([[1.  , 0.  , 0.01, 0.  ],\n",
       "        [0.  , 1.  , 0.  , 0.01],\n",
       "        [0.  , 0.  , 1.  , 0.  ],\n",
       "        [0.  , 0.  , 0.  , 1.  ]])"
      ]
     },
     "metadata": {},
     "output_type": "display_data"
    },
    {
     "data": {
      "text/plain": [
       "matrix([[ 7.52575235e+02],\n",
       "        [ 7.84875802e+01],\n",
       "        [-1.10273163e+00],\n",
       "        [-1.15006092e-01]])"
      ]
     },
     "metadata": {},
     "output_type": "display_data"
    },
    {
     "data": {
      "text/plain": [
       "matrix([[1.  , 0.  , 0.01, 0.  ],\n",
       "        [0.  , 1.  , 0.  , 0.01],\n",
       "        [0.  , 0.  , 1.  , 0.  ],\n",
       "        [0.  , 0.  , 0.  , 1.  ]])"
      ]
     },
     "metadata": {},
     "output_type": "display_data"
    },
    {
     "data": {
      "text/plain": [
       "matrix([[ 7.52564208e+02],\n",
       "        [ 7.84864301e+01],\n",
       "        [-1.10273163e+00],\n",
       "        [-1.15006092e-01]])"
      ]
     },
     "metadata": {},
     "output_type": "display_data"
    },
    {
     "data": {
      "text/plain": [
       "matrix([[1.  , 0.  , 0.01, 0.  ],\n",
       "        [0.  , 1.  , 0.  , 0.01],\n",
       "        [0.  , 0.  , 1.  , 0.  ],\n",
       "        [0.  , 0.  , 0.  , 1.  ]])"
      ]
     },
     "metadata": {},
     "output_type": "display_data"
    },
    {
     "data": {
      "text/plain": [
       "matrix([[ 7.52553181e+02],\n",
       "        [ 7.84852800e+01],\n",
       "        [-1.10273163e+00],\n",
       "        [-1.15006092e-01]])"
      ]
     },
     "metadata": {},
     "output_type": "display_data"
    },
    {
     "data": {
      "text/plain": [
       "matrix([[1.  , 0.  , 0.01, 0.  ],\n",
       "        [0.  , 1.  , 0.  , 0.01],\n",
       "        [0.  , 0.  , 1.  , 0.  ],\n",
       "        [0.  , 0.  , 0.  , 1.  ]])"
      ]
     },
     "metadata": {},
     "output_type": "display_data"
    },
    {
     "data": {
      "text/plain": [
       "matrix([[ 7.52542153e+02],\n",
       "        [ 7.84841300e+01],\n",
       "        [-1.10273163e+00],\n",
       "        [-1.15006092e-01]])"
      ]
     },
     "metadata": {},
     "output_type": "display_data"
    },
    {
     "data": {
      "text/plain": [
       "matrix([[1.  , 0.  , 0.01, 0.  ],\n",
       "        [0.  , 1.  , 0.  , 0.01],\n",
       "        [0.  , 0.  , 1.  , 0.  ],\n",
       "        [0.  , 0.  , 0.  , 1.  ]])"
      ]
     },
     "metadata": {},
     "output_type": "display_data"
    },
    {
     "data": {
      "text/plain": [
       "matrix([[ 7.52531126e+02],\n",
       "        [ 7.84829799e+01],\n",
       "        [-1.10273163e+00],\n",
       "        [-1.15006092e-01]])"
      ]
     },
     "metadata": {},
     "output_type": "display_data"
    },
    {
     "data": {
      "text/plain": [
       "matrix([[1.  , 0.  , 0.01, 0.  ],\n",
       "        [0.  , 1.  , 0.  , 0.01],\n",
       "        [0.  , 0.  , 1.  , 0.  ],\n",
       "        [0.  , 0.  , 0.  , 1.  ]])"
      ]
     },
     "metadata": {},
     "output_type": "display_data"
    },
    {
     "data": {
      "text/plain": [
       "matrix([[ 7.52520099e+02],\n",
       "        [ 7.84818299e+01],\n",
       "        [-1.10273163e+00],\n",
       "        [-1.15006092e-01]])"
      ]
     },
     "metadata": {},
     "output_type": "display_data"
    },
    {
     "data": {
      "text/plain": [
       "matrix([[1.  , 0.  , 0.01, 0.  ],\n",
       "        [0.  , 1.  , 0.  , 0.01],\n",
       "        [0.  , 0.  , 1.  , 0.  ],\n",
       "        [0.  , 0.  , 0.  , 1.  ]])"
      ]
     },
     "metadata": {},
     "output_type": "display_data"
    },
    {
     "data": {
      "text/plain": [
       "matrix([[ 7.52509071e+02],\n",
       "        [ 7.84806798e+01],\n",
       "        [-1.10273163e+00],\n",
       "        [-1.15006092e-01]])"
      ]
     },
     "metadata": {},
     "output_type": "display_data"
    },
    {
     "data": {
      "text/plain": [
       "matrix([[1.  , 0.  , 0.01, 0.  ],\n",
       "        [0.  , 1.  , 0.  , 0.01],\n",
       "        [0.  , 0.  , 1.  , 0.  ],\n",
       "        [0.  , 0.  , 0.  , 1.  ]])"
      ]
     },
     "metadata": {},
     "output_type": "display_data"
    },
    {
     "data": {
      "text/plain": [
       "matrix([[ 7.52498044e+02],\n",
       "        [ 7.84795297e+01],\n",
       "        [-1.10273163e+00],\n",
       "        [-1.15006092e-01]])"
      ]
     },
     "metadata": {},
     "output_type": "display_data"
    },
    {
     "data": {
      "text/plain": [
       "matrix([[1.  , 0.  , 0.01, 0.  ],\n",
       "        [0.  , 1.  , 0.  , 0.01],\n",
       "        [0.  , 0.  , 1.  , 0.  ],\n",
       "        [0.  , 0.  , 0.  , 1.  ]])"
      ]
     },
     "metadata": {},
     "output_type": "display_data"
    },
    {
     "data": {
      "text/plain": [
       "matrix([[ 7.52487017e+02],\n",
       "        [ 7.84783797e+01],\n",
       "        [-1.10273163e+00],\n",
       "        [-1.15006092e-01]])"
      ]
     },
     "metadata": {},
     "output_type": "display_data"
    },
    {
     "data": {
      "text/plain": [
       "matrix([[1.  , 0.  , 0.01, 0.  ],\n",
       "        [0.  , 1.  , 0.  , 0.01],\n",
       "        [0.  , 0.  , 1.  , 0.  ],\n",
       "        [0.  , 0.  , 0.  , 1.  ]])"
      ]
     },
     "metadata": {},
     "output_type": "display_data"
    },
    {
     "data": {
      "text/plain": [
       "matrix([[ 7.52475989e+02],\n",
       "        [ 7.84772296e+01],\n",
       "        [-1.10273163e+00],\n",
       "        [-1.15006092e-01]])"
      ]
     },
     "metadata": {},
     "output_type": "display_data"
    },
    {
     "data": {
      "text/plain": [
       "matrix([[1.  , 0.  , 0.01, 0.  ],\n",
       "        [0.  , 1.  , 0.  , 0.01],\n",
       "        [0.  , 0.  , 1.  , 0.  ],\n",
       "        [0.  , 0.  , 0.  , 1.  ]])"
      ]
     },
     "metadata": {},
     "output_type": "display_data"
    },
    {
     "data": {
      "text/plain": [
       "matrix([[ 7.52464962e+02],\n",
       "        [ 7.84760796e+01],\n",
       "        [-1.10273163e+00],\n",
       "        [-1.15006092e-01]])"
      ]
     },
     "metadata": {},
     "output_type": "display_data"
    },
    {
     "data": {
      "text/plain": [
       "matrix([[1.  , 0.  , 0.01, 0.  ],\n",
       "        [0.  , 1.  , 0.  , 0.01],\n",
       "        [0.  , 0.  , 1.  , 0.  ],\n",
       "        [0.  , 0.  , 0.  , 1.  ]])"
      ]
     },
     "metadata": {},
     "output_type": "display_data"
    },
    {
     "data": {
      "text/plain": [
       "matrix([[ 7.52453935e+02],\n",
       "        [ 7.84749295e+01],\n",
       "        [-1.10273163e+00],\n",
       "        [-1.15006092e-01]])"
      ]
     },
     "metadata": {},
     "output_type": "display_data"
    },
    {
     "data": {
      "text/plain": [
       "matrix([[1.  , 0.  , 0.01, 0.  ],\n",
       "        [0.  , 1.  , 0.  , 0.01],\n",
       "        [0.  , 0.  , 1.  , 0.  ],\n",
       "        [0.  , 0.  , 0.  , 1.  ]])"
      ]
     },
     "metadata": {},
     "output_type": "display_data"
    },
    {
     "data": {
      "text/plain": [
       "matrix([[ 7.52442907e+02],\n",
       "        [ 7.84737794e+01],\n",
       "        [-1.10273163e+00],\n",
       "        [-1.15006092e-01]])"
      ]
     },
     "metadata": {},
     "output_type": "display_data"
    },
    {
     "data": {
      "text/plain": [
       "matrix([[1.  , 0.  , 0.01, 0.  ],\n",
       "        [0.  , 1.  , 0.  , 0.01],\n",
       "        [0.  , 0.  , 1.  , 0.  ],\n",
       "        [0.  , 0.  , 0.  , 1.  ]])"
      ]
     },
     "metadata": {},
     "output_type": "display_data"
    },
    {
     "data": {
      "text/plain": [
       "matrix([[ 7.52431880e+02],\n",
       "        [ 7.84726294e+01],\n",
       "        [-1.10273163e+00],\n",
       "        [-1.15006092e-01]])"
      ]
     },
     "metadata": {},
     "output_type": "display_data"
    },
    {
     "data": {
      "text/plain": [
       "matrix([[1.  , 0.  , 0.01, 0.  ],\n",
       "        [0.  , 1.  , 0.  , 0.01],\n",
       "        [0.  , 0.  , 1.  , 0.  ],\n",
       "        [0.  , 0.  , 0.  , 1.  ]])"
      ]
     },
     "metadata": {},
     "output_type": "display_data"
    },
    {
     "data": {
      "text/plain": [
       "matrix([[ 7.52420853e+02],\n",
       "        [ 7.84714793e+01],\n",
       "        [-1.10273163e+00],\n",
       "        [-1.15006092e-01]])"
      ]
     },
     "metadata": {},
     "output_type": "display_data"
    },
    {
     "data": {
      "text/plain": [
       "matrix([[1.  , 0.  , 0.01, 0.  ],\n",
       "        [0.  , 1.  , 0.  , 0.01],\n",
       "        [0.  , 0.  , 1.  , 0.  ],\n",
       "        [0.  , 0.  , 0.  , 1.  ]])"
      ]
     },
     "metadata": {},
     "output_type": "display_data"
    },
    {
     "data": {
      "text/plain": [
       "matrix([[ 7.52409826e+02],\n",
       "        [ 7.84703293e+01],\n",
       "        [-1.10273163e+00],\n",
       "        [-1.15006092e-01]])"
      ]
     },
     "metadata": {},
     "output_type": "display_data"
    },
    {
     "data": {
      "text/plain": [
       "matrix([[1.  , 0.  , 0.01, 0.  ],\n",
       "        [0.  , 1.  , 0.  , 0.01],\n",
       "        [0.  , 0.  , 1.  , 0.  ],\n",
       "        [0.  , 0.  , 0.  , 1.  ]])"
      ]
     },
     "metadata": {},
     "output_type": "display_data"
    },
    {
     "data": {
      "text/plain": [
       "matrix([[ 7.52398798e+02],\n",
       "        [ 7.84691792e+01],\n",
       "        [-1.10273163e+00],\n",
       "        [-1.15006092e-01]])"
      ]
     },
     "metadata": {},
     "output_type": "display_data"
    },
    {
     "data": {
      "text/plain": [
       "matrix([[1.  , 0.  , 0.01, 0.  ],\n",
       "        [0.  , 1.  , 0.  , 0.01],\n",
       "        [0.  , 0.  , 1.  , 0.  ],\n",
       "        [0.  , 0.  , 0.  , 1.  ]])"
      ]
     },
     "metadata": {},
     "output_type": "display_data"
    },
    {
     "data": {
      "text/plain": [
       "matrix([[ 7.52387771e+02],\n",
       "        [ 7.84680291e+01],\n",
       "        [-1.10273163e+00],\n",
       "        [-1.15006092e-01]])"
      ]
     },
     "metadata": {},
     "output_type": "display_data"
    },
    {
     "data": {
      "text/plain": [
       "matrix([[1.  , 0.  , 0.01, 0.  ],\n",
       "        [0.  , 1.  , 0.  , 0.01],\n",
       "        [0.  , 0.  , 1.  , 0.  ],\n",
       "        [0.  , 0.  , 0.  , 1.  ]])"
      ]
     },
     "metadata": {},
     "output_type": "display_data"
    },
    {
     "data": {
      "text/plain": [
       "matrix([[ 7.52376744e+02],\n",
       "        [ 7.84668791e+01],\n",
       "        [-1.10273163e+00],\n",
       "        [-1.15006092e-01]])"
      ]
     },
     "metadata": {},
     "output_type": "display_data"
    },
    {
     "data": {
      "text/plain": [
       "matrix([[1.  , 0.  , 0.01, 0.  ],\n",
       "        [0.  , 1.  , 0.  , 0.01],\n",
       "        [0.  , 0.  , 1.  , 0.  ],\n",
       "        [0.  , 0.  , 0.  , 1.  ]])"
      ]
     },
     "metadata": {},
     "output_type": "display_data"
    },
    {
     "data": {
      "text/plain": [
       "matrix([[ 7.52365716e+02],\n",
       "        [ 7.84657290e+01],\n",
       "        [-1.10273163e+00],\n",
       "        [-1.15006092e-01]])"
      ]
     },
     "metadata": {},
     "output_type": "display_data"
    },
    {
     "data": {
      "text/plain": [
       "matrix([[1.  , 0.  , 0.01, 0.  ],\n",
       "        [0.  , 1.  , 0.  , 0.01],\n",
       "        [0.  , 0.  , 1.  , 0.  ],\n",
       "        [0.  , 0.  , 0.  , 1.  ]])"
      ]
     },
     "metadata": {},
     "output_type": "display_data"
    },
    {
     "data": {
      "text/plain": [
       "matrix([[ 7.52354689e+02],\n",
       "        [ 7.84645790e+01],\n",
       "        [-1.10273163e+00],\n",
       "        [-1.15006092e-01]])"
      ]
     },
     "metadata": {},
     "output_type": "display_data"
    },
    {
     "data": {
      "text/plain": [
       "matrix([[1.  , 0.  , 0.01, 0.  ],\n",
       "        [0.  , 1.  , 0.  , 0.01],\n",
       "        [0.  , 0.  , 1.  , 0.  ],\n",
       "        [0.  , 0.  , 0.  , 1.  ]])"
      ]
     },
     "metadata": {},
     "output_type": "display_data"
    },
    {
     "data": {
      "text/plain": [
       "matrix([[ 7.52343662e+02],\n",
       "        [ 7.84634289e+01],\n",
       "        [-1.10273163e+00],\n",
       "        [-1.15006092e-01]])"
      ]
     },
     "metadata": {},
     "output_type": "display_data"
    },
    {
     "data": {
      "text/plain": [
       "matrix([[1.  , 0.  , 0.01, 0.  ],\n",
       "        [0.  , 1.  , 0.  , 0.01],\n",
       "        [0.  , 0.  , 1.  , 0.  ],\n",
       "        [0.  , 0.  , 0.  , 1.  ]])"
      ]
     },
     "metadata": {},
     "output_type": "display_data"
    },
    {
     "data": {
      "text/plain": [
       "matrix([[ 7.52332634e+02],\n",
       "        [ 7.84622788e+01],\n",
       "        [-1.10273163e+00],\n",
       "        [-1.15006092e-01]])"
      ]
     },
     "metadata": {},
     "output_type": "display_data"
    },
    {
     "data": {
      "text/plain": [
       "matrix([[1.  , 0.  , 0.01, 0.  ],\n",
       "        [0.  , 1.  , 0.  , 0.01],\n",
       "        [0.  , 0.  , 1.  , 0.  ],\n",
       "        [0.  , 0.  , 0.  , 1.  ]])"
      ]
     },
     "metadata": {},
     "output_type": "display_data"
    },
    {
     "data": {
      "text/plain": [
       "matrix([[ 7.52321607e+02],\n",
       "        [ 7.84611288e+01],\n",
       "        [-1.10273163e+00],\n",
       "        [-1.15006092e-01]])"
      ]
     },
     "metadata": {},
     "output_type": "display_data"
    },
    {
     "data": {
      "text/plain": [
       "matrix([[1.  , 0.  , 0.01, 0.  ],\n",
       "        [0.  , 1.  , 0.  , 0.01],\n",
       "        [0.  , 0.  , 1.  , 0.  ],\n",
       "        [0.  , 0.  , 0.  , 1.  ]])"
      ]
     },
     "metadata": {},
     "output_type": "display_data"
    },
    {
     "data": {
      "text/plain": [
       "matrix([[ 7.52310580e+02],\n",
       "        [ 7.84599787e+01],\n",
       "        [-1.10273163e+00],\n",
       "        [-1.15006092e-01]])"
      ]
     },
     "metadata": {},
     "output_type": "display_data"
    },
    {
     "data": {
      "text/plain": [
       "matrix([[1.  , 0.  , 0.01, 0.  ],\n",
       "        [0.  , 1.  , 0.  , 0.01],\n",
       "        [0.  , 0.  , 1.  , 0.  ],\n",
       "        [0.  , 0.  , 0.  , 1.  ]])"
      ]
     },
     "metadata": {},
     "output_type": "display_data"
    },
    {
     "data": {
      "text/plain": [
       "matrix([[ 7.52299552e+02],\n",
       "        [ 7.84588286e+01],\n",
       "        [-1.10273163e+00],\n",
       "        [-1.15006092e-01]])"
      ]
     },
     "metadata": {},
     "output_type": "display_data"
    },
    {
     "data": {
      "text/plain": [
       "matrix([[1.  , 0.  , 0.01, 0.  ],\n",
       "        [0.  , 1.  , 0.  , 0.01],\n",
       "        [0.  , 0.  , 1.  , 0.  ],\n",
       "        [0.  , 0.  , 0.  , 1.  ]])"
      ]
     },
     "metadata": {},
     "output_type": "display_data"
    },
    {
     "data": {
      "text/plain": [
       "matrix([[ 7.52288525e+02],\n",
       "        [ 7.84576786e+01],\n",
       "        [-1.10273163e+00],\n",
       "        [-1.15006092e-01]])"
      ]
     },
     "metadata": {},
     "output_type": "display_data"
    },
    {
     "data": {
      "text/plain": [
       "matrix([[1.  , 0.  , 0.01, 0.  ],\n",
       "        [0.  , 1.  , 0.  , 0.01],\n",
       "        [0.  , 0.  , 1.  , 0.  ],\n",
       "        [0.  , 0.  , 0.  , 1.  ]])"
      ]
     },
     "metadata": {},
     "output_type": "display_data"
    },
    {
     "data": {
      "text/plain": [
       "matrix([[ 7.52277498e+02],\n",
       "        [ 7.84565285e+01],\n",
       "        [-1.10273163e+00],\n",
       "        [-1.15006092e-01]])"
      ]
     },
     "metadata": {},
     "output_type": "display_data"
    },
    {
     "data": {
      "text/plain": [
       "matrix([[1.  , 0.  , 0.01, 0.  ],\n",
       "        [0.  , 1.  , 0.  , 0.01],\n",
       "        [0.  , 0.  , 1.  , 0.  ],\n",
       "        [0.  , 0.  , 0.  , 1.  ]])"
      ]
     },
     "metadata": {},
     "output_type": "display_data"
    },
    {
     "data": {
      "text/plain": [
       "matrix([[ 7.52266470e+02],\n",
       "        [ 7.84553785e+01],\n",
       "        [-1.10273163e+00],\n",
       "        [-1.15006092e-01]])"
      ]
     },
     "metadata": {},
     "output_type": "display_data"
    },
    {
     "data": {
      "text/plain": [
       "matrix([[1.  , 0.  , 0.01, 0.  ],\n",
       "        [0.  , 1.  , 0.  , 0.01],\n",
       "        [0.  , 0.  , 1.  , 0.  ],\n",
       "        [0.  , 0.  , 0.  , 1.  ]])"
      ]
     },
     "metadata": {},
     "output_type": "display_data"
    },
    {
     "data": {
      "text/plain": [
       "matrix([[ 7.52255443e+02],\n",
       "        [ 7.84542284e+01],\n",
       "        [-1.10273163e+00],\n",
       "        [-1.15006092e-01]])"
      ]
     },
     "metadata": {},
     "output_type": "display_data"
    },
    {
     "data": {
      "text/plain": [
       "matrix([[1.  , 0.  , 0.01, 0.  ],\n",
       "        [0.  , 1.  , 0.  , 0.01],\n",
       "        [0.  , 0.  , 1.  , 0.  ],\n",
       "        [0.  , 0.  , 0.  , 1.  ]])"
      ]
     },
     "metadata": {},
     "output_type": "display_data"
    },
    {
     "data": {
      "text/plain": [
       "matrix([[ 7.52244416e+02],\n",
       "        [ 7.84530783e+01],\n",
       "        [-1.10273163e+00],\n",
       "        [-1.15006092e-01]])"
      ]
     },
     "metadata": {},
     "output_type": "display_data"
    },
    {
     "data": {
      "text/plain": [
       "matrix([[1.  , 0.  , 0.01, 0.  ],\n",
       "        [0.  , 1.  , 0.  , 0.01],\n",
       "        [0.  , 0.  , 1.  , 0.  ],\n",
       "        [0.  , 0.  , 0.  , 1.  ]])"
      ]
     },
     "metadata": {},
     "output_type": "display_data"
    },
    {
     "data": {
      "text/plain": [
       "matrix([[ 7.52233388e+02],\n",
       "        [ 7.84519283e+01],\n",
       "        [-1.10273163e+00],\n",
       "        [-1.15006092e-01]])"
      ]
     },
     "metadata": {},
     "output_type": "display_data"
    },
    {
     "data": {
      "text/plain": [
       "matrix([[1.  , 0.  , 0.01, 0.  ],\n",
       "        [0.  , 1.  , 0.  , 0.01],\n",
       "        [0.  , 0.  , 1.  , 0.  ],\n",
       "        [0.  , 0.  , 0.  , 1.  ]])"
      ]
     },
     "metadata": {},
     "output_type": "display_data"
    },
    {
     "data": {
      "text/plain": [
       "matrix([[ 7.52222361e+02],\n",
       "        [ 7.84507782e+01],\n",
       "        [-1.10273163e+00],\n",
       "        [-1.15006092e-01]])"
      ]
     },
     "metadata": {},
     "output_type": "display_data"
    },
    {
     "data": {
      "text/plain": [
       "matrix([[1.  , 0.  , 0.01, 0.  ],\n",
       "        [0.  , 1.  , 0.  , 0.01],\n",
       "        [0.  , 0.  , 1.  , 0.  ],\n",
       "        [0.  , 0.  , 0.  , 1.  ]])"
      ]
     },
     "metadata": {},
     "output_type": "display_data"
    },
    {
     "data": {
      "text/plain": [
       "matrix([[ 7.52211334e+02],\n",
       "        [ 7.84496282e+01],\n",
       "        [-1.10273163e+00],\n",
       "        [-1.15006092e-01]])"
      ]
     },
     "metadata": {},
     "output_type": "display_data"
    },
    {
     "data": {
      "text/plain": [
       "matrix([[1.  , 0.  , 0.01, 0.  ],\n",
       "        [0.  , 1.  , 0.  , 0.01],\n",
       "        [0.  , 0.  , 1.  , 0.  ],\n",
       "        [0.  , 0.  , 0.  , 1.  ]])"
      ]
     },
     "metadata": {},
     "output_type": "display_data"
    },
    {
     "data": {
      "text/plain": [
       "matrix([[ 7.52200307e+02],\n",
       "        [ 7.84484781e+01],\n",
       "        [-1.10273163e+00],\n",
       "        [-1.15006092e-01]])"
      ]
     },
     "metadata": {},
     "output_type": "display_data"
    },
    {
     "data": {
      "text/plain": [
       "matrix([[1.  , 0.  , 0.01, 0.  ],\n",
       "        [0.  , 1.  , 0.  , 0.01],\n",
       "        [0.  , 0.  , 1.  , 0.  ],\n",
       "        [0.  , 0.  , 0.  , 1.  ]])"
      ]
     },
     "metadata": {},
     "output_type": "display_data"
    },
    {
     "data": {
      "text/plain": [
       "matrix([[ 7.52189279e+02],\n",
       "        [ 7.84473280e+01],\n",
       "        [-1.10273163e+00],\n",
       "        [-1.15006092e-01]])"
      ]
     },
     "metadata": {},
     "output_type": "display_data"
    },
    {
     "data": {
      "text/plain": [
       "matrix([[1.  , 0.  , 0.01, 0.  ],\n",
       "        [0.  , 1.  , 0.  , 0.01],\n",
       "        [0.  , 0.  , 1.  , 0.  ],\n",
       "        [0.  , 0.  , 0.  , 1.  ]])"
      ]
     },
     "metadata": {},
     "output_type": "display_data"
    },
    {
     "data": {
      "text/plain": [
       "matrix([[ 7.52178252e+02],\n",
       "        [ 7.84461780e+01],\n",
       "        [-1.10273163e+00],\n",
       "        [-1.15006092e-01]])"
      ]
     },
     "metadata": {},
     "output_type": "display_data"
    },
    {
     "data": {
      "text/plain": [
       "matrix([[1.  , 0.  , 0.01, 0.  ],\n",
       "        [0.  , 1.  , 0.  , 0.01],\n",
       "        [0.  , 0.  , 1.  , 0.  ],\n",
       "        [0.  , 0.  , 0.  , 1.  ]])"
      ]
     },
     "metadata": {},
     "output_type": "display_data"
    },
    {
     "data": {
      "text/plain": [
       "matrix([[ 7.52167225e+02],\n",
       "        [ 7.84450279e+01],\n",
       "        [-1.10273163e+00],\n",
       "        [-1.15006092e-01]])"
      ]
     },
     "metadata": {},
     "output_type": "display_data"
    },
    {
     "data": {
      "text/plain": [
       "matrix([[1.  , 0.  , 0.01, 0.  ],\n",
       "        [0.  , 1.  , 0.  , 0.01],\n",
       "        [0.  , 0.  , 1.  , 0.  ],\n",
       "        [0.  , 0.  , 0.  , 1.  ]])"
      ]
     },
     "metadata": {},
     "output_type": "display_data"
    },
    {
     "data": {
      "text/plain": [
       "matrix([[ 7.52156197e+02],\n",
       "        [ 7.84438779e+01],\n",
       "        [-1.10273163e+00],\n",
       "        [-1.15006092e-01]])"
      ]
     },
     "metadata": {},
     "output_type": "display_data"
    },
    {
     "data": {
      "text/plain": [
       "matrix([[1.  , 0.  , 0.01, 0.  ],\n",
       "        [0.  , 1.  , 0.  , 0.01],\n",
       "        [0.  , 0.  , 1.  , 0.  ],\n",
       "        [0.  , 0.  , 0.  , 1.  ]])"
      ]
     },
     "metadata": {},
     "output_type": "display_data"
    },
    {
     "data": {
      "text/plain": [
       "matrix([[ 7.52145170e+02],\n",
       "        [ 7.84427278e+01],\n",
       "        [-1.10273163e+00],\n",
       "        [-1.15006092e-01]])"
      ]
     },
     "metadata": {},
     "output_type": "display_data"
    },
    {
     "data": {
      "text/plain": [
       "matrix([[1.  , 0.  , 0.01, 0.  ],\n",
       "        [0.  , 1.  , 0.  , 0.01],\n",
       "        [0.  , 0.  , 1.  , 0.  ],\n",
       "        [0.  , 0.  , 0.  , 1.  ]])"
      ]
     },
     "metadata": {},
     "output_type": "display_data"
    },
    {
     "data": {
      "text/plain": [
       "matrix([[ 7.52134143e+02],\n",
       "        [ 7.84415777e+01],\n",
       "        [-1.10273163e+00],\n",
       "        [-1.15006092e-01]])"
      ]
     },
     "metadata": {},
     "output_type": "display_data"
    },
    {
     "data": {
      "text/plain": [
       "matrix([[1.  , 0.  , 0.01, 0.  ],\n",
       "        [0.  , 1.  , 0.  , 0.01],\n",
       "        [0.  , 0.  , 1.  , 0.  ],\n",
       "        [0.  , 0.  , 0.  , 1.  ]])"
      ]
     },
     "metadata": {},
     "output_type": "display_data"
    },
    {
     "data": {
      "text/plain": [
       "matrix([[ 7.52123115e+02],\n",
       "        [ 7.84404277e+01],\n",
       "        [-1.10273163e+00],\n",
       "        [-1.15006092e-01]])"
      ]
     },
     "metadata": {},
     "output_type": "display_data"
    },
    {
     "data": {
      "text/plain": [
       "matrix([[1.  , 0.  , 0.01, 0.  ],\n",
       "        [0.  , 1.  , 0.  , 0.01],\n",
       "        [0.  , 0.  , 1.  , 0.  ],\n",
       "        [0.  , 0.  , 0.  , 1.  ]])"
      ]
     },
     "metadata": {},
     "output_type": "display_data"
    },
    {
     "data": {
      "text/plain": [
       "matrix([[ 7.52112088e+02],\n",
       "        [ 7.84392776e+01],\n",
       "        [-1.10273163e+00],\n",
       "        [-1.15006092e-01]])"
      ]
     },
     "metadata": {},
     "output_type": "display_data"
    },
    {
     "data": {
      "text/plain": [
       "matrix([[1.  , 0.  , 0.01, 0.  ],\n",
       "        [0.  , 1.  , 0.  , 0.01],\n",
       "        [0.  , 0.  , 1.  , 0.  ],\n",
       "        [0.  , 0.  , 0.  , 1.  ]])"
      ]
     },
     "metadata": {},
     "output_type": "display_data"
    },
    {
     "data": {
      "text/plain": [
       "matrix([[ 7.52101061e+02],\n",
       "        [ 7.84381276e+01],\n",
       "        [-1.10273163e+00],\n",
       "        [-1.15006092e-01]])"
      ]
     },
     "metadata": {},
     "output_type": "display_data"
    },
    {
     "data": {
      "text/plain": [
       "matrix([[1.  , 0.  , 0.01, 0.  ],\n",
       "        [0.  , 1.  , 0.  , 0.01],\n",
       "        [0.  , 0.  , 1.  , 0.  ],\n",
       "        [0.  , 0.  , 0.  , 1.  ]])"
      ]
     },
     "metadata": {},
     "output_type": "display_data"
    },
    {
     "data": {
      "text/plain": [
       "matrix([[ 7.52090033e+02],\n",
       "        [ 7.84369775e+01],\n",
       "        [-1.10273163e+00],\n",
       "        [-1.15006092e-01]])"
      ]
     },
     "metadata": {},
     "output_type": "display_data"
    },
    {
     "data": {
      "text/plain": [
       "matrix([[1.  , 0.  , 0.01, 0.  ],\n",
       "        [0.  , 1.  , 0.  , 0.01],\n",
       "        [0.  , 0.  , 1.  , 0.  ],\n",
       "        [0.  , 0.  , 0.  , 1.  ]])"
      ]
     },
     "metadata": {},
     "output_type": "display_data"
    },
    {
     "data": {
      "text/plain": [
       "matrix([[ 7.52079006e+02],\n",
       "        [ 7.84358274e+01],\n",
       "        [-1.10273163e+00],\n",
       "        [-1.15006092e-01]])"
      ]
     },
     "metadata": {},
     "output_type": "display_data"
    },
    {
     "data": {
      "text/plain": [
       "matrix([[1.  , 0.  , 0.01, 0.  ],\n",
       "        [0.  , 1.  , 0.  , 0.01],\n",
       "        [0.  , 0.  , 1.  , 0.  ],\n",
       "        [0.  , 0.  , 0.  , 1.  ]])"
      ]
     },
     "metadata": {},
     "output_type": "display_data"
    },
    {
     "data": {
      "text/plain": [
       "matrix([[ 7.52067979e+02],\n",
       "        [ 7.84346774e+01],\n",
       "        [-1.10273163e+00],\n",
       "        [-1.15006092e-01]])"
      ]
     },
     "metadata": {},
     "output_type": "display_data"
    },
    {
     "data": {
      "text/plain": [
       "matrix([[1.  , 0.  , 0.01, 0.  ],\n",
       "        [0.  , 1.  , 0.  , 0.01],\n",
       "        [0.  , 0.  , 1.  , 0.  ],\n",
       "        [0.  , 0.  , 0.  , 1.  ]])"
      ]
     },
     "metadata": {},
     "output_type": "display_data"
    },
    {
     "data": {
      "text/plain": [
       "matrix([[ 7.52056951e+02],\n",
       "        [ 7.84335273e+01],\n",
       "        [-1.10273163e+00],\n",
       "        [-1.15006092e-01]])"
      ]
     },
     "metadata": {},
     "output_type": "display_data"
    },
    {
     "data": {
      "text/plain": [
       "matrix([[1.  , 0.  , 0.01, 0.  ],\n",
       "        [0.  , 1.  , 0.  , 0.01],\n",
       "        [0.  , 0.  , 1.  , 0.  ],\n",
       "        [0.  , 0.  , 0.  , 1.  ]])"
      ]
     },
     "metadata": {},
     "output_type": "display_data"
    },
    {
     "data": {
      "text/plain": [
       "matrix([[ 7.52045924e+02],\n",
       "        [ 7.84323772e+01],\n",
       "        [-1.10273163e+00],\n",
       "        [-1.15006092e-01]])"
      ]
     },
     "metadata": {},
     "output_type": "display_data"
    },
    {
     "data": {
      "text/plain": [
       "matrix([[1.  , 0.  , 0.01, 0.  ],\n",
       "        [0.  , 1.  , 0.  , 0.01],\n",
       "        [0.  , 0.  , 1.  , 0.  ],\n",
       "        [0.  , 0.  , 0.  , 1.  ]])"
      ]
     },
     "metadata": {},
     "output_type": "display_data"
    },
    {
     "data": {
      "text/plain": [
       "matrix([[ 7.52034897e+02],\n",
       "        [ 7.84312272e+01],\n",
       "        [-1.10273163e+00],\n",
       "        [-1.15006092e-01]])"
      ]
     },
     "metadata": {},
     "output_type": "display_data"
    },
    {
     "data": {
      "text/plain": [
       "matrix([[1.  , 0.  , 0.01, 0.  ],\n",
       "        [0.  , 1.  , 0.  , 0.01],\n",
       "        [0.  , 0.  , 1.  , 0.  ],\n",
       "        [0.  , 0.  , 0.  , 1.  ]])"
      ]
     },
     "metadata": {},
     "output_type": "display_data"
    },
    {
     "data": {
      "text/plain": [
       "matrix([[ 7.52023869e+02],\n",
       "        [ 7.84300771e+01],\n",
       "        [-1.10273163e+00],\n",
       "        [-1.15006092e-01]])"
      ]
     },
     "metadata": {},
     "output_type": "display_data"
    },
    {
     "data": {
      "text/plain": [
       "matrix([[1.  , 0.  , 0.01, 0.  ],\n",
       "        [0.  , 1.  , 0.  , 0.01],\n",
       "        [0.  , 0.  , 1.  , 0.  ],\n",
       "        [0.  , 0.  , 0.  , 1.  ]])"
      ]
     },
     "metadata": {},
     "output_type": "display_data"
    },
    {
     "data": {
      "text/plain": [
       "matrix([[ 7.52012842e+02],\n",
       "        [ 7.84289271e+01],\n",
       "        [-1.10273163e+00],\n",
       "        [-1.15006092e-01]])"
      ]
     },
     "metadata": {},
     "output_type": "display_data"
    },
    {
     "data": {
      "text/plain": [
       "matrix([[1.  , 0.  , 0.01, 0.  ],\n",
       "        [0.  , 1.  , 0.  , 0.01],\n",
       "        [0.  , 0.  , 1.  , 0.  ],\n",
       "        [0.  , 0.  , 0.  , 1.  ]])"
      ]
     },
     "metadata": {},
     "output_type": "display_data"
    },
    {
     "data": {
      "text/plain": [
       "matrix([[ 7.52001815e+02],\n",
       "        [ 7.84277770e+01],\n",
       "        [-1.10273163e+00],\n",
       "        [-1.15006092e-01]])"
      ]
     },
     "metadata": {},
     "output_type": "display_data"
    },
    {
     "data": {
      "text/plain": [
       "matrix([[1.  , 0.  , 0.01, 0.  ],\n",
       "        [0.  , 1.  , 0.  , 0.01],\n",
       "        [0.  , 0.  , 1.  , 0.  ],\n",
       "        [0.  , 0.  , 0.  , 1.  ]])"
      ]
     },
     "metadata": {},
     "output_type": "display_data"
    },
    {
     "data": {
      "text/plain": [
       "matrix([[ 7.51990788e+02],\n",
       "        [ 7.84266269e+01],\n",
       "        [-1.10273163e+00],\n",
       "        [-1.15006092e-01]])"
      ]
     },
     "metadata": {},
     "output_type": "display_data"
    },
    {
     "data": {
      "text/plain": [
       "matrix([[1.  , 0.  , 0.01, 0.  ],\n",
       "        [0.  , 1.  , 0.  , 0.01],\n",
       "        [0.  , 0.  , 1.  , 0.  ],\n",
       "        [0.  , 0.  , 0.  , 1.  ]])"
      ]
     },
     "metadata": {},
     "output_type": "display_data"
    },
    {
     "data": {
      "text/plain": [
       "matrix([[ 7.51979760e+02],\n",
       "        [ 7.84254769e+01],\n",
       "        [-1.10273163e+00],\n",
       "        [-1.15006092e-01]])"
      ]
     },
     "metadata": {},
     "output_type": "display_data"
    },
    {
     "data": {
      "text/plain": [
       "matrix([[1.  , 0.  , 0.01, 0.  ],\n",
       "        [0.  , 1.  , 0.  , 0.01],\n",
       "        [0.  , 0.  , 1.  , 0.  ],\n",
       "        [0.  , 0.  , 0.  , 1.  ]])"
      ]
     },
     "metadata": {},
     "output_type": "display_data"
    },
    {
     "data": {
      "text/plain": [
       "matrix([[ 7.51968733e+02],\n",
       "        [ 7.84243268e+01],\n",
       "        [-1.10273163e+00],\n",
       "        [-1.15006092e-01]])"
      ]
     },
     "metadata": {},
     "output_type": "display_data"
    },
    {
     "data": {
      "text/plain": [
       "matrix([[1.  , 0.  , 0.01, 0.  ],\n",
       "        [0.  , 1.  , 0.  , 0.01],\n",
       "        [0.  , 0.  , 1.  , 0.  ],\n",
       "        [0.  , 0.  , 0.  , 1.  ]])"
      ]
     },
     "metadata": {},
     "output_type": "display_data"
    },
    {
     "data": {
      "text/plain": [
       "matrix([[ 7.51957706e+02],\n",
       "        [ 7.84231768e+01],\n",
       "        [-1.10273163e+00],\n",
       "        [-1.15006092e-01]])"
      ]
     },
     "metadata": {},
     "output_type": "display_data"
    },
    {
     "data": {
      "text/plain": [
       "matrix([[1.  , 0.  , 0.01, 0.  ],\n",
       "        [0.  , 1.  , 0.  , 0.01],\n",
       "        [0.  , 0.  , 1.  , 0.  ],\n",
       "        [0.  , 0.  , 0.  , 1.  ]])"
      ]
     },
     "metadata": {},
     "output_type": "display_data"
    },
    {
     "data": {
      "text/plain": [
       "matrix([[ 7.51946678e+02],\n",
       "        [ 7.84220267e+01],\n",
       "        [-1.10273163e+00],\n",
       "        [-1.15006092e-01]])"
      ]
     },
     "metadata": {},
     "output_type": "display_data"
    },
    {
     "data": {
      "text/plain": [
       "matrix([[1.  , 0.  , 0.01, 0.  ],\n",
       "        [0.  , 1.  , 0.  , 0.01],\n",
       "        [0.  , 0.  , 1.  , 0.  ],\n",
       "        [0.  , 0.  , 0.  , 1.  ]])"
      ]
     },
     "metadata": {},
     "output_type": "display_data"
    },
    {
     "data": {
      "text/plain": [
       "matrix([[ 7.51935651e+02],\n",
       "        [ 7.84208766e+01],\n",
       "        [-1.10273163e+00],\n",
       "        [-1.15006092e-01]])"
      ]
     },
     "metadata": {},
     "output_type": "display_data"
    },
    {
     "data": {
      "text/plain": [
       "matrix([[1.  , 0.  , 0.01, 0.  ],\n",
       "        [0.  , 1.  , 0.  , 0.01],\n",
       "        [0.  , 0.  , 1.  , 0.  ],\n",
       "        [0.  , 0.  , 0.  , 1.  ]])"
      ]
     },
     "metadata": {},
     "output_type": "display_data"
    },
    {
     "data": {
      "text/plain": [
       "matrix([[ 7.51924624e+02],\n",
       "        [ 7.84197266e+01],\n",
       "        [-1.10273163e+00],\n",
       "        [-1.15006092e-01]])"
      ]
     },
     "metadata": {},
     "output_type": "display_data"
    },
    {
     "data": {
      "text/plain": [
       "matrix([[1.  , 0.  , 0.01, 0.  ],\n",
       "        [0.  , 1.  , 0.  , 0.01],\n",
       "        [0.  , 0.  , 1.  , 0.  ],\n",
       "        [0.  , 0.  , 0.  , 1.  ]])"
      ]
     },
     "metadata": {},
     "output_type": "display_data"
    },
    {
     "data": {
      "text/plain": [
       "matrix([[ 7.51913596e+02],\n",
       "        [ 7.84185765e+01],\n",
       "        [-1.10273163e+00],\n",
       "        [-1.15006092e-01]])"
      ]
     },
     "metadata": {},
     "output_type": "display_data"
    },
    {
     "data": {
      "text/plain": [
       "matrix([[1.  , 0.  , 0.01, 0.  ],\n",
       "        [0.  , 1.  , 0.  , 0.01],\n",
       "        [0.  , 0.  , 1.  , 0.  ],\n",
       "        [0.  , 0.  , 0.  , 1.  ]])"
      ]
     },
     "metadata": {},
     "output_type": "display_data"
    },
    {
     "data": {
      "text/plain": [
       "matrix([[ 7.51902569e+02],\n",
       "        [ 7.84174265e+01],\n",
       "        [-1.10273163e+00],\n",
       "        [-1.15006092e-01]])"
      ]
     },
     "metadata": {},
     "output_type": "display_data"
    },
    {
     "data": {
      "text/plain": [
       "matrix([[1.  , 0.  , 0.01, 0.  ],\n",
       "        [0.  , 1.  , 0.  , 0.01],\n",
       "        [0.  , 0.  , 1.  , 0.  ],\n",
       "        [0.  , 0.  , 0.  , 1.  ]])"
      ]
     },
     "metadata": {},
     "output_type": "display_data"
    },
    {
     "data": {
      "text/plain": [
       "matrix([[ 7.51891542e+02],\n",
       "        [ 7.84162764e+01],\n",
       "        [-1.10273163e+00],\n",
       "        [-1.15006092e-01]])"
      ]
     },
     "metadata": {},
     "output_type": "display_data"
    },
    {
     "data": {
      "text/plain": [
       "matrix([[1.  , 0.  , 0.01, 0.  ],\n",
       "        [0.  , 1.  , 0.  , 0.01],\n",
       "        [0.  , 0.  , 1.  , 0.  ],\n",
       "        [0.  , 0.  , 0.  , 1.  ]])"
      ]
     },
     "metadata": {},
     "output_type": "display_data"
    },
    {
     "data": {
      "text/plain": [
       "matrix([[ 7.51880514e+02],\n",
       "        [ 7.84151263e+01],\n",
       "        [-1.10273163e+00],\n",
       "        [-1.15006092e-01]])"
      ]
     },
     "metadata": {},
     "output_type": "display_data"
    },
    {
     "data": {
      "text/plain": [
       "matrix([[1.  , 0.  , 0.01, 0.  ],\n",
       "        [0.  , 1.  , 0.  , 0.01],\n",
       "        [0.  , 0.  , 1.  , 0.  ],\n",
       "        [0.  , 0.  , 0.  , 1.  ]])"
      ]
     },
     "metadata": {},
     "output_type": "display_data"
    },
    {
     "data": {
      "text/plain": [
       "matrix([[ 7.51869487e+02],\n",
       "        [ 7.84139763e+01],\n",
       "        [-1.10273163e+00],\n",
       "        [-1.15006092e-01]])"
      ]
     },
     "metadata": {},
     "output_type": "display_data"
    },
    {
     "data": {
      "text/plain": [
       "matrix([[1.  , 0.  , 0.01, 0.  ],\n",
       "        [0.  , 1.  , 0.  , 0.01],\n",
       "        [0.  , 0.  , 1.  , 0.  ],\n",
       "        [0.  , 0.  , 0.  , 1.  ]])"
      ]
     },
     "metadata": {},
     "output_type": "display_data"
    },
    {
     "data": {
      "text/plain": [
       "matrix([[ 7.51858460e+02],\n",
       "        [ 7.84128262e+01],\n",
       "        [-1.10273163e+00],\n",
       "        [-1.15006092e-01]])"
      ]
     },
     "metadata": {},
     "output_type": "display_data"
    },
    {
     "data": {
      "text/plain": [
       "matrix([[1.  , 0.  , 0.01, 0.  ],\n",
       "        [0.  , 1.  , 0.  , 0.01],\n",
       "        [0.  , 0.  , 1.  , 0.  ],\n",
       "        [0.  , 0.  , 0.  , 1.  ]])"
      ]
     },
     "metadata": {},
     "output_type": "display_data"
    },
    {
     "data": {
      "text/plain": [
       "matrix([[ 7.51847432e+02],\n",
       "        [ 7.84116761e+01],\n",
       "        [-1.10273163e+00],\n",
       "        [-1.15006092e-01]])"
      ]
     },
     "metadata": {},
     "output_type": "display_data"
    },
    {
     "data": {
      "text/plain": [
       "matrix([[1.  , 0.  , 0.01, 0.  ],\n",
       "        [0.  , 1.  , 0.  , 0.01],\n",
       "        [0.  , 0.  , 1.  , 0.  ],\n",
       "        [0.  , 0.  , 0.  , 1.  ]])"
      ]
     },
     "metadata": {},
     "output_type": "display_data"
    },
    {
     "data": {
      "text/plain": [
       "matrix([[ 7.51836405e+02],\n",
       "        [ 7.84105261e+01],\n",
       "        [-1.10273163e+00],\n",
       "        [-1.15006092e-01]])"
      ]
     },
     "metadata": {},
     "output_type": "display_data"
    },
    {
     "data": {
      "text/plain": [
       "matrix([[1.  , 0.  , 0.01, 0.  ],\n",
       "        [0.  , 1.  , 0.  , 0.01],\n",
       "        [0.  , 0.  , 1.  , 0.  ],\n",
       "        [0.  , 0.  , 0.  , 1.  ]])"
      ]
     },
     "metadata": {},
     "output_type": "display_data"
    },
    {
     "data": {
      "text/plain": [
       "matrix([[ 7.51825378e+02],\n",
       "        [ 7.84093760e+01],\n",
       "        [-1.10273163e+00],\n",
       "        [-1.15006092e-01]])"
      ]
     },
     "metadata": {},
     "output_type": "display_data"
    },
    {
     "data": {
      "text/plain": [
       "matrix([[1.  , 0.  , 0.01, 0.  ],\n",
       "        [0.  , 1.  , 0.  , 0.01],\n",
       "        [0.  , 0.  , 1.  , 0.  ],\n",
       "        [0.  , 0.  , 0.  , 1.  ]])"
      ]
     },
     "metadata": {},
     "output_type": "display_data"
    },
    {
     "data": {
      "text/plain": [
       "matrix([[ 7.51814350e+02],\n",
       "        [ 7.84082260e+01],\n",
       "        [-1.10273163e+00],\n",
       "        [-1.15006092e-01]])"
      ]
     },
     "metadata": {},
     "output_type": "display_data"
    },
    {
     "data": {
      "text/plain": [
       "matrix([[1.  , 0.  , 0.01, 0.  ],\n",
       "        [0.  , 1.  , 0.  , 0.01],\n",
       "        [0.  , 0.  , 1.  , 0.  ],\n",
       "        [0.  , 0.  , 0.  , 1.  ]])"
      ]
     },
     "metadata": {},
     "output_type": "display_data"
    },
    {
     "data": {
      "text/plain": [
       "matrix([[ 7.51803323e+02],\n",
       "        [ 7.84070759e+01],\n",
       "        [-1.10273163e+00],\n",
       "        [-1.15006092e-01]])"
      ]
     },
     "metadata": {},
     "output_type": "display_data"
    },
    {
     "data": {
      "text/plain": [
       "matrix([[1.  , 0.  , 0.01, 0.  ],\n",
       "        [0.  , 1.  , 0.  , 0.01],\n",
       "        [0.  , 0.  , 1.  , 0.  ],\n",
       "        [0.  , 0.  , 0.  , 1.  ]])"
      ]
     },
     "metadata": {},
     "output_type": "display_data"
    },
    {
     "data": {
      "text/plain": [
       "matrix([[ 7.51792296e+02],\n",
       "        [ 7.84059258e+01],\n",
       "        [-1.10273163e+00],\n",
       "        [-1.15006092e-01]])"
      ]
     },
     "metadata": {},
     "output_type": "display_data"
    },
    {
     "data": {
      "text/plain": [
       "matrix([[1.  , 0.  , 0.01, 0.  ],\n",
       "        [0.  , 1.  , 0.  , 0.01],\n",
       "        [0.  , 0.  , 1.  , 0.  ],\n",
       "        [0.  , 0.  , 0.  , 1.  ]])"
      ]
     },
     "metadata": {},
     "output_type": "display_data"
    },
    {
     "data": {
      "text/plain": [
       "matrix([[ 7.51781269e+02],\n",
       "        [ 7.84047758e+01],\n",
       "        [-1.10273163e+00],\n",
       "        [-1.15006092e-01]])"
      ]
     },
     "metadata": {},
     "output_type": "display_data"
    },
    {
     "data": {
      "text/plain": [
       "matrix([[1.  , 0.  , 0.01, 0.  ],\n",
       "        [0.  , 1.  , 0.  , 0.01],\n",
       "        [0.  , 0.  , 1.  , 0.  ],\n",
       "        [0.  , 0.  , 0.  , 1.  ]])"
      ]
     },
     "metadata": {},
     "output_type": "display_data"
    },
    {
     "data": {
      "text/plain": [
       "matrix([[ 7.51770241e+02],\n",
       "        [ 7.84036257e+01],\n",
       "        [-1.10273163e+00],\n",
       "        [-1.15006092e-01]])"
      ]
     },
     "metadata": {},
     "output_type": "display_data"
    },
    {
     "data": {
      "text/plain": [
       "matrix([[1.  , 0.  , 0.01, 0.  ],\n",
       "        [0.  , 1.  , 0.  , 0.01],\n",
       "        [0.  , 0.  , 1.  , 0.  ],\n",
       "        [0.  , 0.  , 0.  , 1.  ]])"
      ]
     },
     "metadata": {},
     "output_type": "display_data"
    },
    {
     "data": {
      "text/plain": [
       "matrix([[ 7.51759214e+02],\n",
       "        [ 7.84024757e+01],\n",
       "        [-1.10273163e+00],\n",
       "        [-1.15006092e-01]])"
      ]
     },
     "metadata": {},
     "output_type": "display_data"
    },
    {
     "data": {
      "text/plain": [
       "matrix([[1.  , 0.  , 0.01, 0.  ],\n",
       "        [0.  , 1.  , 0.  , 0.01],\n",
       "        [0.  , 0.  , 1.  , 0.  ],\n",
       "        [0.  , 0.  , 0.  , 1.  ]])"
      ]
     },
     "metadata": {},
     "output_type": "display_data"
    },
    {
     "data": {
      "text/plain": [
       "matrix([[ 7.51748187e+02],\n",
       "        [ 7.84013256e+01],\n",
       "        [-1.10273163e+00],\n",
       "        [-1.15006092e-01]])"
      ]
     },
     "metadata": {},
     "output_type": "display_data"
    },
    {
     "data": {
      "text/plain": [
       "matrix([[1.  , 0.  , 0.01, 0.  ],\n",
       "        [0.  , 1.  , 0.  , 0.01],\n",
       "        [0.  , 0.  , 1.  , 0.  ],\n",
       "        [0.  , 0.  , 0.  , 1.  ]])"
      ]
     },
     "metadata": {},
     "output_type": "display_data"
    },
    {
     "data": {
      "text/plain": [
       "matrix([[ 7.51737159e+02],\n",
       "        [ 7.84001755e+01],\n",
       "        [-1.10273163e+00],\n",
       "        [-1.15006092e-01]])"
      ]
     },
     "metadata": {},
     "output_type": "display_data"
    },
    {
     "data": {
      "text/plain": [
       "matrix([[1.  , 0.  , 0.01, 0.  ],\n",
       "        [0.  , 1.  , 0.  , 0.01],\n",
       "        [0.  , 0.  , 1.  , 0.  ],\n",
       "        [0.  , 0.  , 0.  , 1.  ]])"
      ]
     },
     "metadata": {},
     "output_type": "display_data"
    },
    {
     "data": {
      "text/plain": [
       "matrix([[ 7.51726132e+02],\n",
       "        [ 7.83990255e+01],\n",
       "        [-1.10273163e+00],\n",
       "        [-1.15006092e-01]])"
      ]
     },
     "metadata": {},
     "output_type": "display_data"
    },
    {
     "data": {
      "text/plain": [
       "matrix([[1.  , 0.  , 0.01, 0.  ],\n",
       "        [0.  , 1.  , 0.  , 0.01],\n",
       "        [0.  , 0.  , 1.  , 0.  ],\n",
       "        [0.  , 0.  , 0.  , 1.  ]])"
      ]
     },
     "metadata": {},
     "output_type": "display_data"
    },
    {
     "data": {
      "text/plain": [
       "matrix([[ 7.51715105e+02],\n",
       "        [ 7.83978754e+01],\n",
       "        [-1.10273163e+00],\n",
       "        [-1.15006092e-01]])"
      ]
     },
     "metadata": {},
     "output_type": "display_data"
    },
    {
     "data": {
      "text/plain": [
       "matrix([[1.  , 0.  , 0.01, 0.  ],\n",
       "        [0.  , 1.  , 0.  , 0.01],\n",
       "        [0.  , 0.  , 1.  , 0.  ],\n",
       "        [0.  , 0.  , 0.  , 1.  ]])"
      ]
     },
     "metadata": {},
     "output_type": "display_data"
    },
    {
     "data": {
      "text/plain": [
       "matrix([[ 7.51704077e+02],\n",
       "        [ 7.83967254e+01],\n",
       "        [-1.10273163e+00],\n",
       "        [-1.15006092e-01]])"
      ]
     },
     "metadata": {},
     "output_type": "display_data"
    },
    {
     "data": {
      "text/plain": [
       "matrix([[1.  , 0.  , 0.01, 0.  ],\n",
       "        [0.  , 1.  , 0.  , 0.01],\n",
       "        [0.  , 0.  , 1.  , 0.  ],\n",
       "        [0.  , 0.  , 0.  , 1.  ]])"
      ]
     },
     "metadata": {},
     "output_type": "display_data"
    },
    {
     "data": {
      "text/plain": [
       "matrix([[ 7.51693050e+02],\n",
       "        [ 7.83955753e+01],\n",
       "        [-1.10273163e+00],\n",
       "        [-1.15006092e-01]])"
      ]
     },
     "metadata": {},
     "output_type": "display_data"
    },
    {
     "data": {
      "text/plain": [
       "matrix([[1.  , 0.  , 0.01, 0.  ],\n",
       "        [0.  , 1.  , 0.  , 0.01],\n",
       "        [0.  , 0.  , 1.  , 0.  ],\n",
       "        [0.  , 0.  , 0.  , 1.  ]])"
      ]
     },
     "metadata": {},
     "output_type": "display_data"
    },
    {
     "data": {
      "text/plain": [
       "matrix([[ 7.51682023e+02],\n",
       "        [ 7.83944252e+01],\n",
       "        [-1.10273163e+00],\n",
       "        [-1.15006092e-01]])"
      ]
     },
     "metadata": {},
     "output_type": "display_data"
    },
    {
     "data": {
      "text/plain": [
       "matrix([[1.  , 0.  , 0.01, 0.  ],\n",
       "        [0.  , 1.  , 0.  , 0.01],\n",
       "        [0.  , 0.  , 1.  , 0.  ],\n",
       "        [0.  , 0.  , 0.  , 1.  ]])"
      ]
     },
     "metadata": {},
     "output_type": "display_data"
    },
    {
     "data": {
      "text/plain": [
       "matrix([[ 7.51670995e+02],\n",
       "        [ 7.83932752e+01],\n",
       "        [-1.10273163e+00],\n",
       "        [-1.15006092e-01]])"
      ]
     },
     "metadata": {},
     "output_type": "display_data"
    },
    {
     "data": {
      "text/plain": [
       "matrix([[1.  , 0.  , 0.01, 0.  ],\n",
       "        [0.  , 1.  , 0.  , 0.01],\n",
       "        [0.  , 0.  , 1.  , 0.  ],\n",
       "        [0.  , 0.  , 0.  , 1.  ]])"
      ]
     },
     "metadata": {},
     "output_type": "display_data"
    },
    {
     "data": {
      "text/plain": [
       "matrix([[ 7.51659968e+02],\n",
       "        [ 7.83921251e+01],\n",
       "        [-1.10273163e+00],\n",
       "        [-1.15006092e-01]])"
      ]
     },
     "metadata": {},
     "output_type": "display_data"
    },
    {
     "data": {
      "text/plain": [
       "matrix([[1.  , 0.  , 0.01, 0.  ],\n",
       "        [0.  , 1.  , 0.  , 0.01],\n",
       "        [0.  , 0.  , 1.  , 0.  ],\n",
       "        [0.  , 0.  , 0.  , 1.  ]])"
      ]
     },
     "metadata": {},
     "output_type": "display_data"
    },
    {
     "data": {
      "text/plain": [
       "matrix([[ 7.51648941e+02],\n",
       "        [ 7.83909751e+01],\n",
       "        [-1.10273163e+00],\n",
       "        [-1.15006092e-01]])"
      ]
     },
     "metadata": {},
     "output_type": "display_data"
    },
    {
     "data": {
      "text/plain": [
       "matrix([[1.  , 0.  , 0.01, 0.  ],\n",
       "        [0.  , 1.  , 0.  , 0.01],\n",
       "        [0.  , 0.  , 1.  , 0.  ],\n",
       "        [0.  , 0.  , 0.  , 1.  ]])"
      ]
     },
     "metadata": {},
     "output_type": "display_data"
    },
    {
     "data": {
      "text/plain": [
       "matrix([[ 7.51637913e+02],\n",
       "        [ 7.83898250e+01],\n",
       "        [-1.10273163e+00],\n",
       "        [-1.15006092e-01]])"
      ]
     },
     "metadata": {},
     "output_type": "display_data"
    },
    {
     "data": {
      "text/plain": [
       "matrix([[1.  , 0.  , 0.01, 0.  ],\n",
       "        [0.  , 1.  , 0.  , 0.01],\n",
       "        [0.  , 0.  , 1.  , 0.  ],\n",
       "        [0.  , 0.  , 0.  , 1.  ]])"
      ]
     },
     "metadata": {},
     "output_type": "display_data"
    },
    {
     "data": {
      "text/plain": [
       "matrix([[ 7.51626886e+02],\n",
       "        [ 7.83886749e+01],\n",
       "        [-1.10273163e+00],\n",
       "        [-1.15006092e-01]])"
      ]
     },
     "metadata": {},
     "output_type": "display_data"
    },
    {
     "data": {
      "text/plain": [
       "matrix([[1.  , 0.  , 0.01, 0.  ],\n",
       "        [0.  , 1.  , 0.  , 0.01],\n",
       "        [0.  , 0.  , 1.  , 0.  ],\n",
       "        [0.  , 0.  , 0.  , 1.  ]])"
      ]
     },
     "metadata": {},
     "output_type": "display_data"
    },
    {
     "data": {
      "text/plain": [
       "matrix([[ 7.51615859e+02],\n",
       "        [ 7.83875249e+01],\n",
       "        [-1.10273163e+00],\n",
       "        [-1.15006092e-01]])"
      ]
     },
     "metadata": {},
     "output_type": "display_data"
    },
    {
     "data": {
      "text/plain": [
       "matrix([[1.  , 0.  , 0.01, 0.  ],\n",
       "        [0.  , 1.  , 0.  , 0.01],\n",
       "        [0.  , 0.  , 1.  , 0.  ],\n",
       "        [0.  , 0.  , 0.  , 1.  ]])"
      ]
     },
     "metadata": {},
     "output_type": "display_data"
    },
    {
     "data": {
      "text/plain": [
       "matrix([[ 7.51604831e+02],\n",
       "        [ 7.83863748e+01],\n",
       "        [-1.10273163e+00],\n",
       "        [-1.15006092e-01]])"
      ]
     },
     "metadata": {},
     "output_type": "display_data"
    },
    {
     "data": {
      "text/plain": [
       "matrix([[1.  , 0.  , 0.01, 0.  ],\n",
       "        [0.  , 1.  , 0.  , 0.01],\n",
       "        [0.  , 0.  , 1.  , 0.  ],\n",
       "        [0.  , 0.  , 0.  , 1.  ]])"
      ]
     },
     "metadata": {},
     "output_type": "display_data"
    },
    {
     "data": {
      "text/plain": [
       "matrix([[ 7.51593804e+02],\n",
       "        [ 7.83852247e+01],\n",
       "        [-1.10273163e+00],\n",
       "        [-1.15006092e-01]])"
      ]
     },
     "metadata": {},
     "output_type": "display_data"
    },
    {
     "data": {
      "text/plain": [
       "matrix([[1.  , 0.  , 0.01, 0.  ],\n",
       "        [0.  , 1.  , 0.  , 0.01],\n",
       "        [0.  , 0.  , 1.  , 0.  ],\n",
       "        [0.  , 0.  , 0.  , 1.  ]])"
      ]
     },
     "metadata": {},
     "output_type": "display_data"
    },
    {
     "data": {
      "text/plain": [
       "matrix([[ 7.51582777e+02],\n",
       "        [ 7.83840747e+01],\n",
       "        [-1.10273163e+00],\n",
       "        [-1.15006092e-01]])"
      ]
     },
     "metadata": {},
     "output_type": "display_data"
    },
    {
     "data": {
      "text/plain": [
       "matrix([[1.  , 0.  , 0.01, 0.  ],\n",
       "        [0.  , 1.  , 0.  , 0.01],\n",
       "        [0.  , 0.  , 1.  , 0.  ],\n",
       "        [0.  , 0.  , 0.  , 1.  ]])"
      ]
     },
     "metadata": {},
     "output_type": "display_data"
    },
    {
     "data": {
      "text/plain": [
       "matrix([[ 7.51571749e+02],\n",
       "        [ 7.83829246e+01],\n",
       "        [-1.10273163e+00],\n",
       "        [-1.15006092e-01]])"
      ]
     },
     "metadata": {},
     "output_type": "display_data"
    },
    {
     "data": {
      "text/plain": [
       "matrix([[1.  , 0.  , 0.01, 0.  ],\n",
       "        [0.  , 1.  , 0.  , 0.01],\n",
       "        [0.  , 0.  , 1.  , 0.  ],\n",
       "        [0.  , 0.  , 0.  , 1.  ]])"
      ]
     },
     "metadata": {},
     "output_type": "display_data"
    },
    {
     "data": {
      "text/plain": [
       "matrix([[ 7.51560722e+02],\n",
       "        [ 7.83817746e+01],\n",
       "        [-1.10273163e+00],\n",
       "        [-1.15006092e-01]])"
      ]
     },
     "metadata": {},
     "output_type": "display_data"
    },
    {
     "data": {
      "text/plain": [
       "matrix([[1.  , 0.  , 0.01, 0.  ],\n",
       "        [0.  , 1.  , 0.  , 0.01],\n",
       "        [0.  , 0.  , 1.  , 0.  ],\n",
       "        [0.  , 0.  , 0.  , 1.  ]])"
      ]
     },
     "metadata": {},
     "output_type": "display_data"
    },
    {
     "data": {
      "text/plain": [
       "matrix([[ 7.51549695e+02],\n",
       "        [ 7.83806245e+01],\n",
       "        [-1.10273163e+00],\n",
       "        [-1.15006092e-01]])"
      ]
     },
     "metadata": {},
     "output_type": "display_data"
    },
    {
     "data": {
      "text/plain": [
       "matrix([[1.  , 0.  , 0.01, 0.  ],\n",
       "        [0.  , 1.  , 0.  , 0.01],\n",
       "        [0.  , 0.  , 1.  , 0.  ],\n",
       "        [0.  , 0.  , 0.  , 1.  ]])"
      ]
     },
     "metadata": {},
     "output_type": "display_data"
    },
    {
     "data": {
      "text/plain": [
       "matrix([[ 7.51538668e+02],\n",
       "        [ 7.83794744e+01],\n",
       "        [-1.10273163e+00],\n",
       "        [-1.15006092e-01]])"
      ]
     },
     "metadata": {},
     "output_type": "display_data"
    },
    {
     "data": {
      "text/plain": [
       "matrix([[1.  , 0.  , 0.01, 0.  ],\n",
       "        [0.  , 1.  , 0.  , 0.01],\n",
       "        [0.  , 0.  , 1.  , 0.  ],\n",
       "        [0.  , 0.  , 0.  , 1.  ]])"
      ]
     },
     "metadata": {},
     "output_type": "display_data"
    },
    {
     "data": {
      "text/plain": [
       "matrix([[ 7.51527640e+02],\n",
       "        [ 7.83783244e+01],\n",
       "        [-1.10273163e+00],\n",
       "        [-1.15006092e-01]])"
      ]
     },
     "metadata": {},
     "output_type": "display_data"
    },
    {
     "data": {
      "text/plain": [
       "matrix([[1.  , 0.  , 0.01, 0.  ],\n",
       "        [0.  , 1.  , 0.  , 0.01],\n",
       "        [0.  , 0.  , 1.  , 0.  ],\n",
       "        [0.  , 0.  , 0.  , 1.  ]])"
      ]
     },
     "metadata": {},
     "output_type": "display_data"
    },
    {
     "data": {
      "text/plain": [
       "matrix([[ 7.51516613e+02],\n",
       "        [ 7.83771743e+01],\n",
       "        [-1.10273163e+00],\n",
       "        [-1.15006092e-01]])"
      ]
     },
     "metadata": {},
     "output_type": "display_data"
    },
    {
     "data": {
      "text/plain": [
       "matrix([[1.  , 0.  , 0.01, 0.  ],\n",
       "        [0.  , 1.  , 0.  , 0.01],\n",
       "        [0.  , 0.  , 1.  , 0.  ],\n",
       "        [0.  , 0.  , 0.  , 1.  ]])"
      ]
     },
     "metadata": {},
     "output_type": "display_data"
    },
    {
     "data": {
      "text/plain": [
       "matrix([[ 7.51505586e+02],\n",
       "        [ 7.83760243e+01],\n",
       "        [-1.10273163e+00],\n",
       "        [-1.15006092e-01]])"
      ]
     },
     "metadata": {},
     "output_type": "display_data"
    },
    {
     "data": {
      "text/plain": [
       "matrix([[1.  , 0.  , 0.01, 0.  ],\n",
       "        [0.  , 1.  , 0.  , 0.01],\n",
       "        [0.  , 0.  , 1.  , 0.  ],\n",
       "        [0.  , 0.  , 0.  , 1.  ]])"
      ]
     },
     "metadata": {},
     "output_type": "display_data"
    },
    {
     "data": {
      "text/plain": [
       "matrix([[ 7.51494558e+02],\n",
       "        [ 7.83748742e+01],\n",
       "        [-1.10273163e+00],\n",
       "        [-1.15006092e-01]])"
      ]
     },
     "metadata": {},
     "output_type": "display_data"
    },
    {
     "data": {
      "text/plain": [
       "matrix([[1.  , 0.  , 0.01, 0.  ],\n",
       "        [0.  , 1.  , 0.  , 0.01],\n",
       "        [0.  , 0.  , 1.  , 0.  ],\n",
       "        [0.  , 0.  , 0.  , 1.  ]])"
      ]
     },
     "metadata": {},
     "output_type": "display_data"
    },
    {
     "data": {
      "text/plain": [
       "matrix([[ 7.51483531e+02],\n",
       "        [ 7.83737241e+01],\n",
       "        [-1.10273163e+00],\n",
       "        [-1.15006092e-01]])"
      ]
     },
     "metadata": {},
     "output_type": "display_data"
    },
    {
     "data": {
      "text/plain": [
       "matrix([[1.  , 0.  , 0.01, 0.  ],\n",
       "        [0.  , 1.  , 0.  , 0.01],\n",
       "        [0.  , 0.  , 1.  , 0.  ],\n",
       "        [0.  , 0.  , 0.  , 1.  ]])"
      ]
     },
     "metadata": {},
     "output_type": "display_data"
    },
    {
     "data": {
      "text/plain": [
       "matrix([[ 7.51472504e+02],\n",
       "        [ 7.83725741e+01],\n",
       "        [-1.10273163e+00],\n",
       "        [-1.15006092e-01]])"
      ]
     },
     "metadata": {},
     "output_type": "display_data"
    },
    {
     "data": {
      "text/plain": [
       "matrix([[1.  , 0.  , 0.01, 0.  ],\n",
       "        [0.  , 1.  , 0.  , 0.01],\n",
       "        [0.  , 0.  , 1.  , 0.  ],\n",
       "        [0.  , 0.  , 0.  , 1.  ]])"
      ]
     },
     "metadata": {},
     "output_type": "display_data"
    },
    {
     "data": {
      "text/plain": [
       "matrix([[ 7.51461476e+02],\n",
       "        [ 7.83714240e+01],\n",
       "        [-1.10273163e+00],\n",
       "        [-1.15006092e-01]])"
      ]
     },
     "metadata": {},
     "output_type": "display_data"
    },
    {
     "data": {
      "text/plain": [
       "matrix([[1.  , 0.  , 0.01, 0.  ],\n",
       "        [0.  , 1.  , 0.  , 0.01],\n",
       "        [0.  , 0.  , 1.  , 0.  ],\n",
       "        [0.  , 0.  , 0.  , 1.  ]])"
      ]
     },
     "metadata": {},
     "output_type": "display_data"
    },
    {
     "data": {
      "text/plain": [
       "matrix([[ 7.51450449e+02],\n",
       "        [ 7.83702740e+01],\n",
       "        [-1.10273163e+00],\n",
       "        [-1.15006092e-01]])"
      ]
     },
     "metadata": {},
     "output_type": "display_data"
    },
    {
     "data": {
      "text/plain": [
       "matrix([[1.  , 0.  , 0.01, 0.  ],\n",
       "        [0.  , 1.  , 0.  , 0.01],\n",
       "        [0.  , 0.  , 1.  , 0.  ],\n",
       "        [0.  , 0.  , 0.  , 1.  ]])"
      ]
     },
     "metadata": {},
     "output_type": "display_data"
    },
    {
     "data": {
      "text/plain": [
       "matrix([[ 7.51439422e+02],\n",
       "        [ 7.83691239e+01],\n",
       "        [-1.10273163e+00],\n",
       "        [-1.15006092e-01]])"
      ]
     },
     "metadata": {},
     "output_type": "display_data"
    },
    {
     "data": {
      "text/plain": [
       "matrix([[1.  , 0.  , 0.01, 0.  ],\n",
       "        [0.  , 1.  , 0.  , 0.01],\n",
       "        [0.  , 0.  , 1.  , 0.  ],\n",
       "        [0.  , 0.  , 0.  , 1.  ]])"
      ]
     },
     "metadata": {},
     "output_type": "display_data"
    },
    {
     "data": {
      "text/plain": [
       "matrix([[ 7.51428394e+02],\n",
       "        [ 7.83679738e+01],\n",
       "        [-1.10273163e+00],\n",
       "        [-1.15006092e-01]])"
      ]
     },
     "metadata": {},
     "output_type": "display_data"
    },
    {
     "data": {
      "text/plain": [
       "matrix([[1.  , 0.  , 0.01, 0.  ],\n",
       "        [0.  , 1.  , 0.  , 0.01],\n",
       "        [0.  , 0.  , 1.  , 0.  ],\n",
       "        [0.  , 0.  , 0.  , 1.  ]])"
      ]
     },
     "metadata": {},
     "output_type": "display_data"
    },
    {
     "data": {
      "text/plain": [
       "matrix([[ 7.51417367e+02],\n",
       "        [ 7.83668238e+01],\n",
       "        [-1.10273163e+00],\n",
       "        [-1.15006092e-01]])"
      ]
     },
     "metadata": {},
     "output_type": "display_data"
    },
    {
     "data": {
      "text/plain": [
       "matrix([[1.  , 0.  , 0.01, 0.  ],\n",
       "        [0.  , 1.  , 0.  , 0.01],\n",
       "        [0.  , 0.  , 1.  , 0.  ],\n",
       "        [0.  , 0.  , 0.  , 1.  ]])"
      ]
     },
     "metadata": {},
     "output_type": "display_data"
    },
    {
     "data": {
      "text/plain": [
       "matrix([[ 7.51406340e+02],\n",
       "        [ 7.83656737e+01],\n",
       "        [-1.10273163e+00],\n",
       "        [-1.15006092e-01]])"
      ]
     },
     "metadata": {},
     "output_type": "display_data"
    },
    {
     "data": {
      "text/plain": [
       "matrix([[1.  , 0.  , 0.01, 0.  ],\n",
       "        [0.  , 1.  , 0.  , 0.01],\n",
       "        [0.  , 0.  , 1.  , 0.  ],\n",
       "        [0.  , 0.  , 0.  , 1.  ]])"
      ]
     },
     "metadata": {},
     "output_type": "display_data"
    },
    {
     "data": {
      "text/plain": [
       "matrix([[ 7.51395312e+02],\n",
       "        [ 7.83645237e+01],\n",
       "        [-1.10273163e+00],\n",
       "        [-1.15006092e-01]])"
      ]
     },
     "metadata": {},
     "output_type": "display_data"
    },
    {
     "data": {
      "text/plain": [
       "matrix([[1.  , 0.  , 0.01, 0.  ],\n",
       "        [0.  , 1.  , 0.  , 0.01],\n",
       "        [0.  , 0.  , 1.  , 0.  ],\n",
       "        [0.  , 0.  , 0.  , 1.  ]])"
      ]
     },
     "metadata": {},
     "output_type": "display_data"
    },
    {
     "data": {
      "text/plain": [
       "matrix([[ 7.51384285e+02],\n",
       "        [ 7.83633736e+01],\n",
       "        [-1.10273163e+00],\n",
       "        [-1.15006092e-01]])"
      ]
     },
     "metadata": {},
     "output_type": "display_data"
    },
    {
     "data": {
      "text/plain": [
       "matrix([[1.  , 0.  , 0.01, 0.  ],\n",
       "        [0.  , 1.  , 0.  , 0.01],\n",
       "        [0.  , 0.  , 1.  , 0.  ],\n",
       "        [0.  , 0.  , 0.  , 1.  ]])"
      ]
     },
     "metadata": {},
     "output_type": "display_data"
    },
    {
     "data": {
      "text/plain": [
       "matrix([[ 7.51373258e+02],\n",
       "        [ 7.83622235e+01],\n",
       "        [-1.10273163e+00],\n",
       "        [-1.15006092e-01]])"
      ]
     },
     "metadata": {},
     "output_type": "display_data"
    },
    {
     "data": {
      "text/plain": [
       "matrix([[1.  , 0.  , 0.01, 0.  ],\n",
       "        [0.  , 1.  , 0.  , 0.01],\n",
       "        [0.  , 0.  , 1.  , 0.  ],\n",
       "        [0.  , 0.  , 0.  , 1.  ]])"
      ]
     },
     "metadata": {},
     "output_type": "display_data"
    },
    {
     "data": {
      "text/plain": [
       "matrix([[ 7.51362230e+02],\n",
       "        [ 7.83610735e+01],\n",
       "        [-1.10273163e+00],\n",
       "        [-1.15006092e-01]])"
      ]
     },
     "metadata": {},
     "output_type": "display_data"
    },
    {
     "data": {
      "text/plain": [
       "matrix([[1.  , 0.  , 0.01, 0.  ],\n",
       "        [0.  , 1.  , 0.  , 0.01],\n",
       "        [0.  , 0.  , 1.  , 0.  ],\n",
       "        [0.  , 0.  , 0.  , 1.  ]])"
      ]
     },
     "metadata": {},
     "output_type": "display_data"
    },
    {
     "data": {
      "text/plain": [
       "matrix([[ 7.51351203e+02],\n",
       "        [ 7.83599234e+01],\n",
       "        [-1.10273163e+00],\n",
       "        [-1.15006092e-01]])"
      ]
     },
     "metadata": {},
     "output_type": "display_data"
    },
    {
     "data": {
      "text/plain": [
       "matrix([[1.  , 0.  , 0.01, 0.  ],\n",
       "        [0.  , 1.  , 0.  , 0.01],\n",
       "        [0.  , 0.  , 1.  , 0.  ],\n",
       "        [0.  , 0.  , 0.  , 1.  ]])"
      ]
     },
     "metadata": {},
     "output_type": "display_data"
    },
    {
     "data": {
      "text/plain": [
       "matrix([[ 7.51340176e+02],\n",
       "        [ 7.83587733e+01],\n",
       "        [-1.10273163e+00],\n",
       "        [-1.15006092e-01]])"
      ]
     },
     "metadata": {},
     "output_type": "display_data"
    },
    {
     "data": {
      "text/plain": [
       "matrix([[1.  , 0.  , 0.01, 0.  ],\n",
       "        [0.  , 1.  , 0.  , 0.01],\n",
       "        [0.  , 0.  , 1.  , 0.  ],\n",
       "        [0.  , 0.  , 0.  , 1.  ]])"
      ]
     },
     "metadata": {},
     "output_type": "display_data"
    },
    {
     "data": {
      "text/plain": [
       "matrix([[ 7.51329149e+02],\n",
       "        [ 7.83576233e+01],\n",
       "        [-1.10273163e+00],\n",
       "        [-1.15006092e-01]])"
      ]
     },
     "metadata": {},
     "output_type": "display_data"
    },
    {
     "data": {
      "text/plain": [
       "matrix([[1.  , 0.  , 0.01, 0.  ],\n",
       "        [0.  , 1.  , 0.  , 0.01],\n",
       "        [0.  , 0.  , 1.  , 0.  ],\n",
       "        [0.  , 0.  , 0.  , 1.  ]])"
      ]
     },
     "metadata": {},
     "output_type": "display_data"
    },
    {
     "data": {
      "text/plain": [
       "matrix([[ 7.51318121e+02],\n",
       "        [ 7.83564732e+01],\n",
       "        [-1.10273163e+00],\n",
       "        [-1.15006092e-01]])"
      ]
     },
     "metadata": {},
     "output_type": "display_data"
    },
    {
     "data": {
      "text/plain": [
       "matrix([[1.  , 0.  , 0.01, 0.  ],\n",
       "        [0.  , 1.  , 0.  , 0.01],\n",
       "        [0.  , 0.  , 1.  , 0.  ],\n",
       "        [0.  , 0.  , 0.  , 1.  ]])"
      ]
     },
     "metadata": {},
     "output_type": "display_data"
    },
    {
     "data": {
      "text/plain": [
       "matrix([[ 7.51307094e+02],\n",
       "        [ 7.83553232e+01],\n",
       "        [-1.10273163e+00],\n",
       "        [-1.15006092e-01]])"
      ]
     },
     "metadata": {},
     "output_type": "display_data"
    },
    {
     "data": {
      "text/plain": [
       "matrix([[1.  , 0.  , 0.01, 0.  ],\n",
       "        [0.  , 1.  , 0.  , 0.01],\n",
       "        [0.  , 0.  , 1.  , 0.  ],\n",
       "        [0.  , 0.  , 0.  , 1.  ]])"
      ]
     },
     "metadata": {},
     "output_type": "display_data"
    },
    {
     "data": {
      "text/plain": [
       "matrix([[ 7.51296067e+02],\n",
       "        [ 7.83541731e+01],\n",
       "        [-1.10273163e+00],\n",
       "        [-1.15006092e-01]])"
      ]
     },
     "metadata": {},
     "output_type": "display_data"
    },
    {
     "data": {
      "text/plain": [
       "matrix([[1.  , 0.  , 0.01, 0.  ],\n",
       "        [0.  , 1.  , 0.  , 0.01],\n",
       "        [0.  , 0.  , 1.  , 0.  ],\n",
       "        [0.  , 0.  , 0.  , 1.  ]])"
      ]
     },
     "metadata": {},
     "output_type": "display_data"
    },
    {
     "data": {
      "text/plain": [
       "matrix([[ 7.51285039e+02],\n",
       "        [ 7.83530230e+01],\n",
       "        [-1.10273163e+00],\n",
       "        [-1.15006092e-01]])"
      ]
     },
     "metadata": {},
     "output_type": "display_data"
    },
    {
     "data": {
      "text/plain": [
       "matrix([[1.  , 0.  , 0.01, 0.  ],\n",
       "        [0.  , 1.  , 0.  , 0.01],\n",
       "        [0.  , 0.  , 1.  , 0.  ],\n",
       "        [0.  , 0.  , 0.  , 1.  ]])"
      ]
     },
     "metadata": {},
     "output_type": "display_data"
    },
    {
     "data": {
      "text/plain": [
       "matrix([[ 7.51274012e+02],\n",
       "        [ 7.83518730e+01],\n",
       "        [-1.10273163e+00],\n",
       "        [-1.15006092e-01]])"
      ]
     },
     "metadata": {},
     "output_type": "display_data"
    },
    {
     "data": {
      "text/plain": [
       "matrix([[1.  , 0.  , 0.01, 0.  ],\n",
       "        [0.  , 1.  , 0.  , 0.01],\n",
       "        [0.  , 0.  , 1.  , 0.  ],\n",
       "        [0.  , 0.  , 0.  , 1.  ]])"
      ]
     },
     "metadata": {},
     "output_type": "display_data"
    },
    {
     "data": {
      "text/plain": [
       "matrix([[ 7.51262985e+02],\n",
       "        [ 7.83507229e+01],\n",
       "        [-1.10273163e+00],\n",
       "        [-1.15006092e-01]])"
      ]
     },
     "metadata": {},
     "output_type": "display_data"
    },
    {
     "data": {
      "text/plain": [
       "matrix([[1.  , 0.  , 0.01, 0.  ],\n",
       "        [0.  , 1.  , 0.  , 0.01],\n",
       "        [0.  , 0.  , 1.  , 0.  ],\n",
       "        [0.  , 0.  , 0.  , 1.  ]])"
      ]
     },
     "metadata": {},
     "output_type": "display_data"
    },
    {
     "data": {
      "text/plain": [
       "matrix([[ 7.51251957e+02],\n",
       "        [ 7.83495729e+01],\n",
       "        [-1.10273163e+00],\n",
       "        [-1.15006092e-01]])"
      ]
     },
     "metadata": {},
     "output_type": "display_data"
    },
    {
     "data": {
      "text/plain": [
       "matrix([[1.  , 0.  , 0.01, 0.  ],\n",
       "        [0.  , 1.  , 0.  , 0.01],\n",
       "        [0.  , 0.  , 1.  , 0.  ],\n",
       "        [0.  , 0.  , 0.  , 1.  ]])"
      ]
     },
     "metadata": {},
     "output_type": "display_data"
    },
    {
     "data": {
      "text/plain": [
       "matrix([[ 7.51240930e+02],\n",
       "        [ 7.83484228e+01],\n",
       "        [-1.10273163e+00],\n",
       "        [-1.15006092e-01]])"
      ]
     },
     "metadata": {},
     "output_type": "display_data"
    },
    {
     "data": {
      "text/plain": [
       "matrix([[1.  , 0.  , 0.01, 0.  ],\n",
       "        [0.  , 1.  , 0.  , 0.01],\n",
       "        [0.  , 0.  , 1.  , 0.  ],\n",
       "        [0.  , 0.  , 0.  , 1.  ]])"
      ]
     },
     "metadata": {},
     "output_type": "display_data"
    },
    {
     "data": {
      "text/plain": [
       "matrix([[ 7.51229903e+02],\n",
       "        [ 7.83472727e+01],\n",
       "        [-1.10273163e+00],\n",
       "        [-1.15006092e-01]])"
      ]
     },
     "metadata": {},
     "output_type": "display_data"
    },
    {
     "data": {
      "text/plain": [
       "matrix([[1.  , 0.  , 0.01, 0.  ],\n",
       "        [0.  , 1.  , 0.  , 0.01],\n",
       "        [0.  , 0.  , 1.  , 0.  ],\n",
       "        [0.  , 0.  , 0.  , 1.  ]])"
      ]
     },
     "metadata": {},
     "output_type": "display_data"
    },
    {
     "data": {
      "text/plain": [
       "matrix([[ 7.51218875e+02],\n",
       "        [ 7.83461227e+01],\n",
       "        [-1.10273163e+00],\n",
       "        [-1.15006092e-01]])"
      ]
     },
     "metadata": {},
     "output_type": "display_data"
    },
    {
     "data": {
      "text/plain": [
       "matrix([[1.  , 0.  , 0.01, 0.  ],\n",
       "        [0.  , 1.  , 0.  , 0.01],\n",
       "        [0.  , 0.  , 1.  , 0.  ],\n",
       "        [0.  , 0.  , 0.  , 1.  ]])"
      ]
     },
     "metadata": {},
     "output_type": "display_data"
    },
    {
     "data": {
      "text/plain": [
       "matrix([[ 7.51207848e+02],\n",
       "        [ 7.83449726e+01],\n",
       "        [-1.10273163e+00],\n",
       "        [-1.15006092e-01]])"
      ]
     },
     "metadata": {},
     "output_type": "display_data"
    },
    {
     "data": {
      "text/plain": [
       "matrix([[1.  , 0.  , 0.01, 0.  ],\n",
       "        [0.  , 1.  , 0.  , 0.01],\n",
       "        [0.  , 0.  , 1.  , 0.  ],\n",
       "        [0.  , 0.  , 0.  , 1.  ]])"
      ]
     },
     "metadata": {},
     "output_type": "display_data"
    },
    {
     "data": {
      "text/plain": [
       "matrix([[ 7.51196821e+02],\n",
       "        [ 7.83438226e+01],\n",
       "        [-1.10273163e+00],\n",
       "        [-1.15006092e-01]])"
      ]
     },
     "metadata": {},
     "output_type": "display_data"
    },
    {
     "data": {
      "text/plain": [
       "matrix([[1.  , 0.  , 0.01, 0.  ],\n",
       "        [0.  , 1.  , 0.  , 0.01],\n",
       "        [0.  , 0.  , 1.  , 0.  ],\n",
       "        [0.  , 0.  , 0.  , 1.  ]])"
      ]
     },
     "metadata": {},
     "output_type": "display_data"
    },
    {
     "data": {
      "text/plain": [
       "matrix([[ 7.51185793e+02],\n",
       "        [ 7.83426725e+01],\n",
       "        [-1.10273163e+00],\n",
       "        [-1.15006092e-01]])"
      ]
     },
     "metadata": {},
     "output_type": "display_data"
    },
    {
     "data": {
      "text/plain": [
       "matrix([[1.  , 0.  , 0.01, 0.  ],\n",
       "        [0.  , 1.  , 0.  , 0.01],\n",
       "        [0.  , 0.  , 1.  , 0.  ],\n",
       "        [0.  , 0.  , 0.  , 1.  ]])"
      ]
     },
     "metadata": {},
     "output_type": "display_data"
    },
    {
     "data": {
      "text/plain": [
       "matrix([[ 7.51174766e+02],\n",
       "        [ 7.83415224e+01],\n",
       "        [-1.10273163e+00],\n",
       "        [-1.15006092e-01]])"
      ]
     },
     "metadata": {},
     "output_type": "display_data"
    },
    {
     "data": {
      "text/plain": [
       "matrix([[1.  , 0.  , 0.01, 0.  ],\n",
       "        [0.  , 1.  , 0.  , 0.01],\n",
       "        [0.  , 0.  , 1.  , 0.  ],\n",
       "        [0.  , 0.  , 0.  , 1.  ]])"
      ]
     },
     "metadata": {},
     "output_type": "display_data"
    },
    {
     "data": {
      "text/plain": [
       "matrix([[ 7.51163739e+02],\n",
       "        [ 7.83403724e+01],\n",
       "        [-1.10273163e+00],\n",
       "        [-1.15006092e-01]])"
      ]
     },
     "metadata": {},
     "output_type": "display_data"
    },
    {
     "data": {
      "text/plain": [
       "matrix([[1.  , 0.  , 0.01, 0.  ],\n",
       "        [0.  , 1.  , 0.  , 0.01],\n",
       "        [0.  , 0.  , 1.  , 0.  ],\n",
       "        [0.  , 0.  , 0.  , 1.  ]])"
      ]
     },
     "metadata": {},
     "output_type": "display_data"
    },
    {
     "data": {
      "text/plain": [
       "matrix([[ 7.51152711e+02],\n",
       "        [ 7.83392223e+01],\n",
       "        [-1.10273163e+00],\n",
       "        [-1.15006092e-01]])"
      ]
     },
     "metadata": {},
     "output_type": "display_data"
    },
    {
     "data": {
      "text/plain": [
       "matrix([[1.  , 0.  , 0.01, 0.  ],\n",
       "        [0.  , 1.  , 0.  , 0.01],\n",
       "        [0.  , 0.  , 1.  , 0.  ],\n",
       "        [0.  , 0.  , 0.  , 1.  ]])"
      ]
     },
     "metadata": {},
     "output_type": "display_data"
    },
    {
     "data": {
      "text/plain": [
       "matrix([[ 7.51141684e+02],\n",
       "        [ 7.83380722e+01],\n",
       "        [-1.10273163e+00],\n",
       "        [-1.15006092e-01]])"
      ]
     },
     "metadata": {},
     "output_type": "display_data"
    },
    {
     "data": {
      "text/plain": [
       "matrix([[1.  , 0.  , 0.01, 0.  ],\n",
       "        [0.  , 1.  , 0.  , 0.01],\n",
       "        [0.  , 0.  , 1.  , 0.  ],\n",
       "        [0.  , 0.  , 0.  , 1.  ]])"
      ]
     },
     "metadata": {},
     "output_type": "display_data"
    },
    {
     "data": {
      "text/plain": [
       "matrix([[ 7.51130657e+02],\n",
       "        [ 7.83369222e+01],\n",
       "        [-1.10273163e+00],\n",
       "        [-1.15006092e-01]])"
      ]
     },
     "metadata": {},
     "output_type": "display_data"
    },
    {
     "data": {
      "text/plain": [
       "matrix([[1.  , 0.  , 0.01, 0.  ],\n",
       "        [0.  , 1.  , 0.  , 0.01],\n",
       "        [0.  , 0.  , 1.  , 0.  ],\n",
       "        [0.  , 0.  , 0.  , 1.  ]])"
      ]
     },
     "metadata": {},
     "output_type": "display_data"
    },
    {
     "data": {
      "text/plain": [
       "matrix([[ 7.51119630e+02],\n",
       "        [ 7.83357721e+01],\n",
       "        [-1.10273163e+00],\n",
       "        [-1.15006092e-01]])"
      ]
     },
     "metadata": {},
     "output_type": "display_data"
    },
    {
     "data": {
      "text/plain": [
       "matrix([[1.  , 0.  , 0.01, 0.  ],\n",
       "        [0.  , 1.  , 0.  , 0.01],\n",
       "        [0.  , 0.  , 1.  , 0.  ],\n",
       "        [0.  , 0.  , 0.  , 1.  ]])"
      ]
     },
     "metadata": {},
     "output_type": "display_data"
    },
    {
     "data": {
      "text/plain": [
       "matrix([[ 7.51108602e+02],\n",
       "        [ 7.83346221e+01],\n",
       "        [-1.10273163e+00],\n",
       "        [-1.15006092e-01]])"
      ]
     },
     "metadata": {},
     "output_type": "display_data"
    },
    {
     "data": {
      "text/plain": [
       "matrix([[1.  , 0.  , 0.01, 0.  ],\n",
       "        [0.  , 1.  , 0.  , 0.01],\n",
       "        [0.  , 0.  , 1.  , 0.  ],\n",
       "        [0.  , 0.  , 0.  , 1.  ]])"
      ]
     },
     "metadata": {},
     "output_type": "display_data"
    },
    {
     "data": {
      "text/plain": [
       "matrix([[ 7.51097575e+02],\n",
       "        [ 7.83334720e+01],\n",
       "        [-1.10273163e+00],\n",
       "        [-1.15006092e-01]])"
      ]
     },
     "metadata": {},
     "output_type": "display_data"
    },
    {
     "data": {
      "text/plain": [
       "matrix([[1.  , 0.  , 0.01, 0.  ],\n",
       "        [0.  , 1.  , 0.  , 0.01],\n",
       "        [0.  , 0.  , 1.  , 0.  ],\n",
       "        [0.  , 0.  , 0.  , 1.  ]])"
      ]
     },
     "metadata": {},
     "output_type": "display_data"
    },
    {
     "data": {
      "text/plain": [
       "matrix([[ 7.51086548e+02],\n",
       "        [ 7.83323219e+01],\n",
       "        [-1.10273163e+00],\n",
       "        [-1.15006092e-01]])"
      ]
     },
     "metadata": {},
     "output_type": "display_data"
    },
    {
     "data": {
      "text/plain": [
       "matrix([[1.  , 0.  , 0.01, 0.  ],\n",
       "        [0.  , 1.  , 0.  , 0.01],\n",
       "        [0.  , 0.  , 1.  , 0.  ],\n",
       "        [0.  , 0.  , 0.  , 1.  ]])"
      ]
     },
     "metadata": {},
     "output_type": "display_data"
    },
    {
     "data": {
      "text/plain": [
       "matrix([[ 7.51075520e+02],\n",
       "        [ 7.83311719e+01],\n",
       "        [-1.10273163e+00],\n",
       "        [-1.15006092e-01]])"
      ]
     },
     "metadata": {},
     "output_type": "display_data"
    },
    {
     "data": {
      "text/plain": [
       "matrix([[1.  , 0.  , 0.01, 0.  ],\n",
       "        [0.  , 1.  , 0.  , 0.01],\n",
       "        [0.  , 0.  , 1.  , 0.  ],\n",
       "        [0.  , 0.  , 0.  , 1.  ]])"
      ]
     },
     "metadata": {},
     "output_type": "display_data"
    },
    {
     "data": {
      "text/plain": [
       "matrix([[ 7.51064493e+02],\n",
       "        [ 7.83300218e+01],\n",
       "        [-1.10273163e+00],\n",
       "        [-1.15006092e-01]])"
      ]
     },
     "metadata": {},
     "output_type": "display_data"
    },
    {
     "data": {
      "text/plain": [
       "matrix([[1.  , 0.  , 0.01, 0.  ],\n",
       "        [0.  , 1.  , 0.  , 0.01],\n",
       "        [0.  , 0.  , 1.  , 0.  ],\n",
       "        [0.  , 0.  , 0.  , 1.  ]])"
      ]
     },
     "metadata": {},
     "output_type": "display_data"
    },
    {
     "data": {
      "text/plain": [
       "matrix([[ 7.51053466e+02],\n",
       "        [ 7.83288718e+01],\n",
       "        [-1.10273163e+00],\n",
       "        [-1.15006092e-01]])"
      ]
     },
     "metadata": {},
     "output_type": "display_data"
    },
    {
     "data": {
      "text/plain": [
       "matrix([[1.  , 0.  , 0.01, 0.  ],\n",
       "        [0.  , 1.  , 0.  , 0.01],\n",
       "        [0.  , 0.  , 1.  , 0.  ],\n",
       "        [0.  , 0.  , 0.  , 1.  ]])"
      ]
     },
     "metadata": {},
     "output_type": "display_data"
    },
    {
     "data": {
      "text/plain": [
       "matrix([[ 7.51042438e+02],\n",
       "        [ 7.83277217e+01],\n",
       "        [-1.10273163e+00],\n",
       "        [-1.15006092e-01]])"
      ]
     },
     "metadata": {},
     "output_type": "display_data"
    },
    {
     "data": {
      "text/plain": [
       "matrix([[1.  , 0.  , 0.01, 0.  ],\n",
       "        [0.  , 1.  , 0.  , 0.01],\n",
       "        [0.  , 0.  , 1.  , 0.  ],\n",
       "        [0.  , 0.  , 0.  , 1.  ]])"
      ]
     },
     "metadata": {},
     "output_type": "display_data"
    },
    {
     "data": {
      "text/plain": [
       "matrix([[ 7.51031411e+02],\n",
       "        [ 7.83265716e+01],\n",
       "        [-1.10273163e+00],\n",
       "        [-1.15006092e-01]])"
      ]
     },
     "metadata": {},
     "output_type": "display_data"
    },
    {
     "data": {
      "text/plain": [
       "matrix([[1.  , 0.  , 0.01, 0.  ],\n",
       "        [0.  , 1.  , 0.  , 0.01],\n",
       "        [0.  , 0.  , 1.  , 0.  ],\n",
       "        [0.  , 0.  , 0.  , 1.  ]])"
      ]
     },
     "metadata": {},
     "output_type": "display_data"
    },
    {
     "data": {
      "text/plain": [
       "matrix([[ 7.51020384e+02],\n",
       "        [ 7.83254216e+01],\n",
       "        [-1.10273163e+00],\n",
       "        [-1.15006092e-01]])"
      ]
     },
     "metadata": {},
     "output_type": "display_data"
    },
    {
     "data": {
      "text/plain": [
       "matrix([[1.  , 0.  , 0.01, 0.  ],\n",
       "        [0.  , 1.  , 0.  , 0.01],\n",
       "        [0.  , 0.  , 1.  , 0.  ],\n",
       "        [0.  , 0.  , 0.  , 1.  ]])"
      ]
     },
     "metadata": {},
     "output_type": "display_data"
    },
    {
     "data": {
      "text/plain": [
       "matrix([[ 7.51009356e+02],\n",
       "        [ 7.83242715e+01],\n",
       "        [-1.10273163e+00],\n",
       "        [-1.15006092e-01]])"
      ]
     },
     "metadata": {},
     "output_type": "display_data"
    },
    {
     "data": {
      "text/plain": [
       "matrix([[1.  , 0.  , 0.01, 0.  ],\n",
       "        [0.  , 1.  , 0.  , 0.01],\n",
       "        [0.  , 0.  , 1.  , 0.  ],\n",
       "        [0.  , 0.  , 0.  , 1.  ]])"
      ]
     },
     "metadata": {},
     "output_type": "display_data"
    },
    {
     "data": {
      "text/plain": [
       "matrix([[ 7.50998329e+02],\n",
       "        [ 7.83231215e+01],\n",
       "        [-1.10273163e+00],\n",
       "        [-1.15006092e-01]])"
      ]
     },
     "metadata": {},
     "output_type": "display_data"
    },
    {
     "data": {
      "text/plain": [
       "matrix([[1.  , 0.  , 0.01, 0.  ],\n",
       "        [0.  , 1.  , 0.  , 0.01],\n",
       "        [0.  , 0.  , 1.  , 0.  ],\n",
       "        [0.  , 0.  , 0.  , 1.  ]])"
      ]
     },
     "metadata": {},
     "output_type": "display_data"
    },
    {
     "data": {
      "text/plain": [
       "matrix([[ 7.50987302e+02],\n",
       "        [ 7.83219714e+01],\n",
       "        [-1.10273163e+00],\n",
       "        [-1.15006092e-01]])"
      ]
     },
     "metadata": {},
     "output_type": "display_data"
    },
    {
     "data": {
      "text/plain": [
       "matrix([[1.  , 0.  , 0.01, 0.  ],\n",
       "        [0.  , 1.  , 0.  , 0.01],\n",
       "        [0.  , 0.  , 1.  , 0.  ],\n",
       "        [0.  , 0.  , 0.  , 1.  ]])"
      ]
     },
     "metadata": {},
     "output_type": "display_data"
    },
    {
     "data": {
      "text/plain": [
       "matrix([[ 7.50976274e+02],\n",
       "        [ 7.83208213e+01],\n",
       "        [-1.10273163e+00],\n",
       "        [-1.15006092e-01]])"
      ]
     },
     "metadata": {},
     "output_type": "display_data"
    },
    {
     "data": {
      "text/plain": [
       "matrix([[1.  , 0.  , 0.01, 0.  ],\n",
       "        [0.  , 1.  , 0.  , 0.01],\n",
       "        [0.  , 0.  , 1.  , 0.  ],\n",
       "        [0.  , 0.  , 0.  , 1.  ]])"
      ]
     },
     "metadata": {},
     "output_type": "display_data"
    },
    {
     "data": {
      "text/plain": [
       "matrix([[ 7.50965247e+02],\n",
       "        [ 7.83196713e+01],\n",
       "        [-1.10273163e+00],\n",
       "        [-1.15006092e-01]])"
      ]
     },
     "metadata": {},
     "output_type": "display_data"
    },
    {
     "data": {
      "text/plain": [
       "matrix([[1.  , 0.  , 0.01, 0.  ],\n",
       "        [0.  , 1.  , 0.  , 0.01],\n",
       "        [0.  , 0.  , 1.  , 0.  ],\n",
       "        [0.  , 0.  , 0.  , 1.  ]])"
      ]
     },
     "metadata": {},
     "output_type": "display_data"
    },
    {
     "data": {
      "text/plain": [
       "matrix([[ 7.50954220e+02],\n",
       "        [ 7.83185212e+01],\n",
       "        [-1.10273163e+00],\n",
       "        [-1.15006092e-01]])"
      ]
     },
     "metadata": {},
     "output_type": "display_data"
    },
    {
     "data": {
      "text/plain": [
       "matrix([[1.  , 0.  , 0.01, 0.  ],\n",
       "        [0.  , 1.  , 0.  , 0.01],\n",
       "        [0.  , 0.  , 1.  , 0.  ],\n",
       "        [0.  , 0.  , 0.  , 1.  ]])"
      ]
     },
     "metadata": {},
     "output_type": "display_data"
    },
    {
     "data": {
      "text/plain": [
       "matrix([[ 7.50943192e+02],\n",
       "        [ 7.83173712e+01],\n",
       "        [-1.10273163e+00],\n",
       "        [-1.15006092e-01]])"
      ]
     },
     "metadata": {},
     "output_type": "display_data"
    },
    {
     "data": {
      "text/plain": [
       "matrix([[1.  , 0.  , 0.01, 0.  ],\n",
       "        [0.  , 1.  , 0.  , 0.01],\n",
       "        [0.  , 0.  , 1.  , 0.  ],\n",
       "        [0.  , 0.  , 0.  , 1.  ]])"
      ]
     },
     "metadata": {},
     "output_type": "display_data"
    },
    {
     "data": {
      "text/plain": [
       "matrix([[ 7.50932165e+02],\n",
       "        [ 7.83162211e+01],\n",
       "        [-1.10273163e+00],\n",
       "        [-1.15006092e-01]])"
      ]
     },
     "metadata": {},
     "output_type": "display_data"
    },
    {
     "data": {
      "text/plain": [
       "matrix([[1.  , 0.  , 0.01, 0.  ],\n",
       "        [0.  , 1.  , 0.  , 0.01],\n",
       "        [0.  , 0.  , 1.  , 0.  ],\n",
       "        [0.  , 0.  , 0.  , 1.  ]])"
      ]
     },
     "metadata": {},
     "output_type": "display_data"
    },
    {
     "data": {
      "text/plain": [
       "matrix([[ 7.50921138e+02],\n",
       "        [ 7.83150710e+01],\n",
       "        [-1.10273163e+00],\n",
       "        [-1.15006092e-01]])"
      ]
     },
     "metadata": {},
     "output_type": "display_data"
    },
    {
     "data": {
      "text/plain": [
       "matrix([[1.  , 0.  , 0.01, 0.  ],\n",
       "        [0.  , 1.  , 0.  , 0.01],\n",
       "        [0.  , 0.  , 1.  , 0.  ],\n",
       "        [0.  , 0.  , 0.  , 1.  ]])"
      ]
     },
     "metadata": {},
     "output_type": "display_data"
    },
    {
     "data": {
      "text/plain": [
       "matrix([[ 7.50910111e+02],\n",
       "        [ 7.83139210e+01],\n",
       "        [-1.10273163e+00],\n",
       "        [-1.15006092e-01]])"
      ]
     },
     "metadata": {},
     "output_type": "display_data"
    },
    {
     "data": {
      "text/plain": [
       "matrix([[1.  , 0.  , 0.01, 0.  ],\n",
       "        [0.  , 1.  , 0.  , 0.01],\n",
       "        [0.  , 0.  , 1.  , 0.  ],\n",
       "        [0.  , 0.  , 0.  , 1.  ]])"
      ]
     },
     "metadata": {},
     "output_type": "display_data"
    },
    {
     "data": {
      "text/plain": [
       "matrix([[ 7.50899083e+02],\n",
       "        [ 7.83127709e+01],\n",
       "        [-1.10273163e+00],\n",
       "        [-1.15006092e-01]])"
      ]
     },
     "metadata": {},
     "output_type": "display_data"
    },
    {
     "data": {
      "text/plain": [
       "matrix([[1.  , 0.  , 0.01, 0.  ],\n",
       "        [0.  , 1.  , 0.  , 0.01],\n",
       "        [0.  , 0.  , 1.  , 0.  ],\n",
       "        [0.  , 0.  , 0.  , 1.  ]])"
      ]
     },
     "metadata": {},
     "output_type": "display_data"
    },
    {
     "data": {
      "text/plain": [
       "matrix([[ 7.50888056e+02],\n",
       "        [ 7.83116208e+01],\n",
       "        [-1.10273163e+00],\n",
       "        [-1.15006092e-01]])"
      ]
     },
     "metadata": {},
     "output_type": "display_data"
    },
    {
     "data": {
      "text/plain": [
       "matrix([[1.  , 0.  , 0.01, 0.  ],\n",
       "        [0.  , 1.  , 0.  , 0.01],\n",
       "        [0.  , 0.  , 1.  , 0.  ],\n",
       "        [0.  , 0.  , 0.  , 1.  ]])"
      ]
     },
     "metadata": {},
     "output_type": "display_data"
    },
    {
     "data": {
      "text/plain": [
       "matrix([[ 7.50877029e+02],\n",
       "        [ 7.83104708e+01],\n",
       "        [-1.10273163e+00],\n",
       "        [-1.15006092e-01]])"
      ]
     },
     "metadata": {},
     "output_type": "display_data"
    },
    {
     "data": {
      "text/plain": [
       "matrix([[1.  , 0.  , 0.01, 0.  ],\n",
       "        [0.  , 1.  , 0.  , 0.01],\n",
       "        [0.  , 0.  , 1.  , 0.  ],\n",
       "        [0.  , 0.  , 0.  , 1.  ]])"
      ]
     },
     "metadata": {},
     "output_type": "display_data"
    },
    {
     "data": {
      "text/plain": [
       "matrix([[ 7.50866001e+02],\n",
       "        [ 7.83093207e+01],\n",
       "        [-1.10273163e+00],\n",
       "        [-1.15006092e-01]])"
      ]
     },
     "metadata": {},
     "output_type": "display_data"
    },
    {
     "data": {
      "text/plain": [
       "matrix([[1.  , 0.  , 0.01, 0.  ],\n",
       "        [0.  , 1.  , 0.  , 0.01],\n",
       "        [0.  , 0.  , 1.  , 0.  ],\n",
       "        [0.  , 0.  , 0.  , 1.  ]])"
      ]
     },
     "metadata": {},
     "output_type": "display_data"
    },
    {
     "data": {
      "text/plain": [
       "matrix([[ 7.50854974e+02],\n",
       "        [ 7.83081707e+01],\n",
       "        [-1.10273163e+00],\n",
       "        [-1.15006092e-01]])"
      ]
     },
     "metadata": {},
     "output_type": "display_data"
    },
    {
     "data": {
      "text/plain": [
       "matrix([[1.  , 0.  , 0.01, 0.  ],\n",
       "        [0.  , 1.  , 0.  , 0.01],\n",
       "        [0.  , 0.  , 1.  , 0.  ],\n",
       "        [0.  , 0.  , 0.  , 1.  ]])"
      ]
     },
     "metadata": {},
     "output_type": "display_data"
    },
    {
     "data": {
      "text/plain": [
       "matrix([[ 7.50843947e+02],\n",
       "        [ 7.83070206e+01],\n",
       "        [-1.10273163e+00],\n",
       "        [-1.15006092e-01]])"
      ]
     },
     "metadata": {},
     "output_type": "display_data"
    },
    {
     "data": {
      "text/plain": [
       "matrix([[1.  , 0.  , 0.01, 0.  ],\n",
       "        [0.  , 1.  , 0.  , 0.01],\n",
       "        [0.  , 0.  , 1.  , 0.  ],\n",
       "        [0.  , 0.  , 0.  , 1.  ]])"
      ]
     },
     "metadata": {},
     "output_type": "display_data"
    },
    {
     "data": {
      "text/plain": [
       "matrix([[ 7.50832919e+02],\n",
       "        [ 7.83058705e+01],\n",
       "        [-1.10273163e+00],\n",
       "        [-1.15006092e-01]])"
      ]
     },
     "metadata": {},
     "output_type": "display_data"
    },
    {
     "data": {
      "text/plain": [
       "matrix([[1.  , 0.  , 0.01, 0.  ],\n",
       "        [0.  , 1.  , 0.  , 0.01],\n",
       "        [0.  , 0.  , 1.  , 0.  ],\n",
       "        [0.  , 0.  , 0.  , 1.  ]])"
      ]
     },
     "metadata": {},
     "output_type": "display_data"
    },
    {
     "data": {
      "text/plain": [
       "matrix([[ 7.50821892e+02],\n",
       "        [ 7.83047205e+01],\n",
       "        [-1.10273163e+00],\n",
       "        [-1.15006092e-01]])"
      ]
     },
     "metadata": {},
     "output_type": "display_data"
    },
    {
     "data": {
      "text/plain": [
       "matrix([[1.  , 0.  , 0.01, 0.  ],\n",
       "        [0.  , 1.  , 0.  , 0.01],\n",
       "        [0.  , 0.  , 1.  , 0.  ],\n",
       "        [0.  , 0.  , 0.  , 1.  ]])"
      ]
     },
     "metadata": {},
     "output_type": "display_data"
    },
    {
     "data": {
      "text/plain": [
       "matrix([[ 7.50810865e+02],\n",
       "        [ 7.83035704e+01],\n",
       "        [-1.10273163e+00],\n",
       "        [-1.15006092e-01]])"
      ]
     },
     "metadata": {},
     "output_type": "display_data"
    },
    {
     "data": {
      "text/plain": [
       "matrix([[1.  , 0.  , 0.01, 0.  ],\n",
       "        [0.  , 1.  , 0.  , 0.01],\n",
       "        [0.  , 0.  , 1.  , 0.  ],\n",
       "        [0.  , 0.  , 0.  , 1.  ]])"
      ]
     },
     "metadata": {},
     "output_type": "display_data"
    },
    {
     "data": {
      "text/plain": [
       "matrix([[ 7.50799837e+02],\n",
       "        [ 7.83024204e+01],\n",
       "        [-1.10273163e+00],\n",
       "        [-1.15006092e-01]])"
      ]
     },
     "metadata": {},
     "output_type": "display_data"
    },
    {
     "data": {
      "text/plain": [
       "matrix([[1.  , 0.  , 0.01, 0.  ],\n",
       "        [0.  , 1.  , 0.  , 0.01],\n",
       "        [0.  , 0.  , 1.  , 0.  ],\n",
       "        [0.  , 0.  , 0.  , 1.  ]])"
      ]
     },
     "metadata": {},
     "output_type": "display_data"
    },
    {
     "data": {
      "text/plain": [
       "matrix([[ 7.50788810e+02],\n",
       "        [ 7.83012703e+01],\n",
       "        [-1.10273163e+00],\n",
       "        [-1.15006092e-01]])"
      ]
     },
     "metadata": {},
     "output_type": "display_data"
    },
    {
     "data": {
      "text/plain": [
       "matrix([[1.  , 0.  , 0.01, 0.  ],\n",
       "        [0.  , 1.  , 0.  , 0.01],\n",
       "        [0.  , 0.  , 1.  , 0.  ],\n",
       "        [0.  , 0.  , 0.  , 1.  ]])"
      ]
     },
     "metadata": {},
     "output_type": "display_data"
    },
    {
     "data": {
      "text/plain": [
       "matrix([[ 7.50777783e+02],\n",
       "        [ 7.83001202e+01],\n",
       "        [-1.10273163e+00],\n",
       "        [-1.15006092e-01]])"
      ]
     },
     "metadata": {},
     "output_type": "display_data"
    },
    {
     "data": {
      "text/plain": [
       "matrix([[1.  , 0.  , 0.01, 0.  ],\n",
       "        [0.  , 1.  , 0.  , 0.01],\n",
       "        [0.  , 0.  , 1.  , 0.  ],\n",
       "        [0.  , 0.  , 0.  , 1.  ]])"
      ]
     },
     "metadata": {},
     "output_type": "display_data"
    },
    {
     "data": {
      "text/plain": [
       "matrix([[ 7.50766755e+02],\n",
       "        [ 7.82989702e+01],\n",
       "        [-1.10273163e+00],\n",
       "        [-1.15006092e-01]])"
      ]
     },
     "metadata": {},
     "output_type": "display_data"
    },
    {
     "data": {
      "text/plain": [
       "matrix([[1.  , 0.  , 0.01, 0.  ],\n",
       "        [0.  , 1.  , 0.  , 0.01],\n",
       "        [0.  , 0.  , 1.  , 0.  ],\n",
       "        [0.  , 0.  , 0.  , 1.  ]])"
      ]
     },
     "metadata": {},
     "output_type": "display_data"
    },
    {
     "data": {
      "text/plain": [
       "matrix([[ 7.50755728e+02],\n",
       "        [ 7.82978201e+01],\n",
       "        [-1.10273163e+00],\n",
       "        [-1.15006092e-01]])"
      ]
     },
     "metadata": {},
     "output_type": "display_data"
    },
    {
     "data": {
      "text/plain": [
       "matrix([[1.  , 0.  , 0.01, 0.  ],\n",
       "        [0.  , 1.  , 0.  , 0.01],\n",
       "        [0.  , 0.  , 1.  , 0.  ],\n",
       "        [0.  , 0.  , 0.  , 1.  ]])"
      ]
     },
     "metadata": {},
     "output_type": "display_data"
    },
    {
     "data": {
      "text/plain": [
       "matrix([[ 7.50744701e+02],\n",
       "        [ 7.82966701e+01],\n",
       "        [-1.10273163e+00],\n",
       "        [-1.15006092e-01]])"
      ]
     },
     "metadata": {},
     "output_type": "display_data"
    },
    {
     "data": {
      "text/plain": [
       "matrix([[1.  , 0.  , 0.01, 0.  ],\n",
       "        [0.  , 1.  , 0.  , 0.01],\n",
       "        [0.  , 0.  , 1.  , 0.  ],\n",
       "        [0.  , 0.  , 0.  , 1.  ]])"
      ]
     },
     "metadata": {},
     "output_type": "display_data"
    },
    {
     "data": {
      "text/plain": [
       "matrix([[ 7.50733673e+02],\n",
       "        [ 7.82955200e+01],\n",
       "        [-1.10273163e+00],\n",
       "        [-1.15006092e-01]])"
      ]
     },
     "metadata": {},
     "output_type": "display_data"
    },
    {
     "data": {
      "text/plain": [
       "matrix([[1.  , 0.  , 0.01, 0.  ],\n",
       "        [0.  , 1.  , 0.  , 0.01],\n",
       "        [0.  , 0.  , 1.  , 0.  ],\n",
       "        [0.  , 0.  , 0.  , 1.  ]])"
      ]
     },
     "metadata": {},
     "output_type": "display_data"
    },
    {
     "data": {
      "text/plain": [
       "matrix([[ 7.50722646e+02],\n",
       "        [ 7.82943699e+01],\n",
       "        [-1.10273163e+00],\n",
       "        [-1.15006092e-01]])"
      ]
     },
     "metadata": {},
     "output_type": "display_data"
    },
    {
     "data": {
      "text/plain": [
       "matrix([[1.  , 0.  , 0.01, 0.  ],\n",
       "        [0.  , 1.  , 0.  , 0.01],\n",
       "        [0.  , 0.  , 1.  , 0.  ],\n",
       "        [0.  , 0.  , 0.  , 1.  ]])"
      ]
     },
     "metadata": {},
     "output_type": "display_data"
    },
    {
     "data": {
      "text/plain": [
       "matrix([[ 7.50711619e+02],\n",
       "        [ 7.82932199e+01],\n",
       "        [-1.10273163e+00],\n",
       "        [-1.15006092e-01]])"
      ]
     },
     "metadata": {},
     "output_type": "display_data"
    },
    {
     "data": {
      "text/plain": [
       "matrix([[1.  , 0.  , 0.01, 0.  ],\n",
       "        [0.  , 1.  , 0.  , 0.01],\n",
       "        [0.  , 0.  , 1.  , 0.  ],\n",
       "        [0.  , 0.  , 0.  , 1.  ]])"
      ]
     },
     "metadata": {},
     "output_type": "display_data"
    },
    {
     "data": {
      "text/plain": [
       "matrix([[ 7.50700592e+02],\n",
       "        [ 7.82920698e+01],\n",
       "        [-1.10273163e+00],\n",
       "        [-1.15006092e-01]])"
      ]
     },
     "metadata": {},
     "output_type": "display_data"
    },
    {
     "data": {
      "text/plain": [
       "matrix([[1.  , 0.  , 0.01, 0.  ],\n",
       "        [0.  , 1.  , 0.  , 0.01],\n",
       "        [0.  , 0.  , 1.  , 0.  ],\n",
       "        [0.  , 0.  , 0.  , 1.  ]])"
      ]
     },
     "metadata": {},
     "output_type": "display_data"
    },
    {
     "data": {
      "text/plain": [
       "matrix([[ 7.50689564e+02],\n",
       "        [ 7.82909198e+01],\n",
       "        [-1.10273163e+00],\n",
       "        [-1.15006092e-01]])"
      ]
     },
     "metadata": {},
     "output_type": "display_data"
    },
    {
     "data": {
      "text/plain": [
       "matrix([[1.  , 0.  , 0.01, 0.  ],\n",
       "        [0.  , 1.  , 0.  , 0.01],\n",
       "        [0.  , 0.  , 1.  , 0.  ],\n",
       "        [0.  , 0.  , 0.  , 1.  ]])"
      ]
     },
     "metadata": {},
     "output_type": "display_data"
    },
    {
     "data": {
      "text/plain": [
       "matrix([[ 7.50678537e+02],\n",
       "        [ 7.82897697e+01],\n",
       "        [-1.10273163e+00],\n",
       "        [-1.15006092e-01]])"
      ]
     },
     "metadata": {},
     "output_type": "display_data"
    },
    {
     "data": {
      "text/plain": [
       "matrix([[1.  , 0.  , 0.01, 0.  ],\n",
       "        [0.  , 1.  , 0.  , 0.01],\n",
       "        [0.  , 0.  , 1.  , 0.  ],\n",
       "        [0.  , 0.  , 0.  , 1.  ]])"
      ]
     },
     "metadata": {},
     "output_type": "display_data"
    },
    {
     "data": {
      "text/plain": [
       "matrix([[ 7.50667510e+02],\n",
       "        [ 7.82886196e+01],\n",
       "        [-1.10273163e+00],\n",
       "        [-1.15006092e-01]])"
      ]
     },
     "metadata": {},
     "output_type": "display_data"
    },
    {
     "data": {
      "text/plain": [
       "matrix([[1.  , 0.  , 0.01, 0.  ],\n",
       "        [0.  , 1.  , 0.  , 0.01],\n",
       "        [0.  , 0.  , 1.  , 0.  ],\n",
       "        [0.  , 0.  , 0.  , 1.  ]])"
      ]
     },
     "metadata": {},
     "output_type": "display_data"
    },
    {
     "data": {
      "text/plain": [
       "matrix([[ 7.50656482e+02],\n",
       "        [ 7.82874696e+01],\n",
       "        [-1.10273163e+00],\n",
       "        [-1.15006092e-01]])"
      ]
     },
     "metadata": {},
     "output_type": "display_data"
    },
    {
     "data": {
      "text/plain": [
       "matrix([[1.  , 0.  , 0.01, 0.  ],\n",
       "        [0.  , 1.  , 0.  , 0.01],\n",
       "        [0.  , 0.  , 1.  , 0.  ],\n",
       "        [0.  , 0.  , 0.  , 1.  ]])"
      ]
     },
     "metadata": {},
     "output_type": "display_data"
    },
    {
     "data": {
      "text/plain": [
       "matrix([[ 7.50645455e+02],\n",
       "        [ 7.82863195e+01],\n",
       "        [-1.10273163e+00],\n",
       "        [-1.15006092e-01]])"
      ]
     },
     "metadata": {},
     "output_type": "display_data"
    },
    {
     "data": {
      "text/plain": [
       "matrix([[1.  , 0.  , 0.01, 0.  ],\n",
       "        [0.  , 1.  , 0.  , 0.01],\n",
       "        [0.  , 0.  , 1.  , 0.  ],\n",
       "        [0.  , 0.  , 0.  , 1.  ]])"
      ]
     },
     "metadata": {},
     "output_type": "display_data"
    },
    {
     "data": {
      "text/plain": [
       "matrix([[ 7.50634428e+02],\n",
       "        [ 7.82851694e+01],\n",
       "        [-1.10273163e+00],\n",
       "        [-1.15006092e-01]])"
      ]
     },
     "metadata": {},
     "output_type": "display_data"
    },
    {
     "data": {
      "text/plain": [
       "matrix([[1.  , 0.  , 0.01, 0.  ],\n",
       "        [0.  , 1.  , 0.  , 0.01],\n",
       "        [0.  , 0.  , 1.  , 0.  ],\n",
       "        [0.  , 0.  , 0.  , 1.  ]])"
      ]
     },
     "metadata": {},
     "output_type": "display_data"
    },
    {
     "data": {
      "text/plain": [
       "matrix([[ 7.50623400e+02],\n",
       "        [ 7.82840194e+01],\n",
       "        [-1.10273163e+00],\n",
       "        [-1.15006092e-01]])"
      ]
     },
     "metadata": {},
     "output_type": "display_data"
    },
    {
     "data": {
      "text/plain": [
       "matrix([[1.  , 0.  , 0.01, 0.  ],\n",
       "        [0.  , 1.  , 0.  , 0.01],\n",
       "        [0.  , 0.  , 1.  , 0.  ],\n",
       "        [0.  , 0.  , 0.  , 1.  ]])"
      ]
     },
     "metadata": {},
     "output_type": "display_data"
    },
    {
     "data": {
      "text/plain": [
       "matrix([[ 7.50612373e+02],\n",
       "        [ 7.82828693e+01],\n",
       "        [-1.10273163e+00],\n",
       "        [-1.15006092e-01]])"
      ]
     },
     "metadata": {},
     "output_type": "display_data"
    },
    {
     "data": {
      "text/plain": [
       "matrix([[1.  , 0.  , 0.01, 0.  ],\n",
       "        [0.  , 1.  , 0.  , 0.01],\n",
       "        [0.  , 0.  , 1.  , 0.  ],\n",
       "        [0.  , 0.  , 0.  , 1.  ]])"
      ]
     },
     "metadata": {},
     "output_type": "display_data"
    },
    {
     "data": {
      "text/plain": [
       "matrix([[ 7.50601346e+02],\n",
       "        [ 7.82817193e+01],\n",
       "        [-1.10273163e+00],\n",
       "        [-1.15006092e-01]])"
      ]
     },
     "metadata": {},
     "output_type": "display_data"
    },
    {
     "data": {
      "text/plain": [
       "matrix([[1.  , 0.  , 0.01, 0.  ],\n",
       "        [0.  , 1.  , 0.  , 0.01],\n",
       "        [0.  , 0.  , 1.  , 0.  ],\n",
       "        [0.  , 0.  , 0.  , 1.  ]])"
      ]
     },
     "metadata": {},
     "output_type": "display_data"
    },
    {
     "data": {
      "text/plain": [
       "matrix([[ 7.50590318e+02],\n",
       "        [ 7.82805692e+01],\n",
       "        [-1.10273163e+00],\n",
       "        [-1.15006092e-01]])"
      ]
     },
     "metadata": {},
     "output_type": "display_data"
    },
    {
     "data": {
      "text/plain": [
       "matrix([[1.  , 0.  , 0.01, 0.  ],\n",
       "        [0.  , 1.  , 0.  , 0.01],\n",
       "        [0.  , 0.  , 1.  , 0.  ],\n",
       "        [0.  , 0.  , 0.  , 1.  ]])"
      ]
     },
     "metadata": {},
     "output_type": "display_data"
    },
    {
     "data": {
      "text/plain": [
       "matrix([[ 7.50579291e+02],\n",
       "        [ 7.82794191e+01],\n",
       "        [-1.10273163e+00],\n",
       "        [-1.15006092e-01]])"
      ]
     },
     "metadata": {},
     "output_type": "display_data"
    },
    {
     "data": {
      "text/plain": [
       "matrix([[1.  , 0.  , 0.01, 0.  ],\n",
       "        [0.  , 1.  , 0.  , 0.01],\n",
       "        [0.  , 0.  , 1.  , 0.  ],\n",
       "        [0.  , 0.  , 0.  , 1.  ]])"
      ]
     },
     "metadata": {},
     "output_type": "display_data"
    },
    {
     "data": {
      "text/plain": [
       "matrix([[ 7.50568264e+02],\n",
       "        [ 7.82782691e+01],\n",
       "        [-1.10273163e+00],\n",
       "        [-1.15006092e-01]])"
      ]
     },
     "metadata": {},
     "output_type": "display_data"
    },
    {
     "data": {
      "text/plain": [
       "matrix([[1.  , 0.  , 0.01, 0.  ],\n",
       "        [0.  , 1.  , 0.  , 0.01],\n",
       "        [0.  , 0.  , 1.  , 0.  ],\n",
       "        [0.  , 0.  , 0.  , 1.  ]])"
      ]
     },
     "metadata": {},
     "output_type": "display_data"
    },
    {
     "data": {
      "text/plain": [
       "matrix([[ 7.50557236e+02],\n",
       "        [ 7.82771190e+01],\n",
       "        [-1.10273163e+00],\n",
       "        [-1.15006092e-01]])"
      ]
     },
     "metadata": {},
     "output_type": "display_data"
    },
    {
     "data": {
      "text/plain": [
       "matrix([[1.  , 0.  , 0.01, 0.  ],\n",
       "        [0.  , 1.  , 0.  , 0.01],\n",
       "        [0.  , 0.  , 1.  , 0.  ],\n",
       "        [0.  , 0.  , 0.  , 1.  ]])"
      ]
     },
     "metadata": {},
     "output_type": "display_data"
    },
    {
     "data": {
      "text/plain": [
       "matrix([[ 7.50546209e+02],\n",
       "        [ 7.82759690e+01],\n",
       "        [-1.10273163e+00],\n",
       "        [-1.15006092e-01]])"
      ]
     },
     "metadata": {},
     "output_type": "display_data"
    },
    {
     "data": {
      "text/plain": [
       "matrix([[1.  , 0.  , 0.01, 0.  ],\n",
       "        [0.  , 1.  , 0.  , 0.01],\n",
       "        [0.  , 0.  , 1.  , 0.  ],\n",
       "        [0.  , 0.  , 0.  , 1.  ]])"
      ]
     },
     "metadata": {},
     "output_type": "display_data"
    },
    {
     "data": {
      "text/plain": [
       "matrix([[ 7.50535182e+02],\n",
       "        [ 7.82748189e+01],\n",
       "        [-1.10273163e+00],\n",
       "        [-1.15006092e-01]])"
      ]
     },
     "metadata": {},
     "output_type": "display_data"
    },
    {
     "data": {
      "text/plain": [
       "matrix([[1.  , 0.  , 0.01, 0.  ],\n",
       "        [0.  , 1.  , 0.  , 0.01],\n",
       "        [0.  , 0.  , 1.  , 0.  ],\n",
       "        [0.  , 0.  , 0.  , 1.  ]])"
      ]
     },
     "metadata": {},
     "output_type": "display_data"
    },
    {
     "data": {
      "text/plain": [
       "matrix([[ 7.50524154e+02],\n",
       "        [ 7.82736688e+01],\n",
       "        [-1.10273163e+00],\n",
       "        [-1.15006092e-01]])"
      ]
     },
     "metadata": {},
     "output_type": "display_data"
    },
    {
     "data": {
      "text/plain": [
       "matrix([[1.  , 0.  , 0.01, 0.  ],\n",
       "        [0.  , 1.  , 0.  , 0.01],\n",
       "        [0.  , 0.  , 1.  , 0.  ],\n",
       "        [0.  , 0.  , 0.  , 1.  ]])"
      ]
     },
     "metadata": {},
     "output_type": "display_data"
    },
    {
     "data": {
      "text/plain": [
       "matrix([[ 7.50513127e+02],\n",
       "        [ 7.82725188e+01],\n",
       "        [-1.10273163e+00],\n",
       "        [-1.15006092e-01]])"
      ]
     },
     "metadata": {},
     "output_type": "display_data"
    },
    {
     "data": {
      "text/plain": [
       "matrix([[1.  , 0.  , 0.01, 0.  ],\n",
       "        [0.  , 1.  , 0.  , 0.01],\n",
       "        [0.  , 0.  , 1.  , 0.  ],\n",
       "        [0.  , 0.  , 0.  , 1.  ]])"
      ]
     },
     "metadata": {},
     "output_type": "display_data"
    },
    {
     "data": {
      "text/plain": [
       "matrix([[ 7.50502100e+02],\n",
       "        [ 7.82713687e+01],\n",
       "        [-1.10273163e+00],\n",
       "        [-1.15006092e-01]])"
      ]
     },
     "metadata": {},
     "output_type": "display_data"
    },
    {
     "data": {
      "text/plain": [
       "matrix([[1.  , 0.  , 0.01, 0.  ],\n",
       "        [0.  , 1.  , 0.  , 0.01],\n",
       "        [0.  , 0.  , 1.  , 0.  ],\n",
       "        [0.  , 0.  , 0.  , 1.  ]])"
      ]
     },
     "metadata": {},
     "output_type": "display_data"
    },
    {
     "data": {
      "text/plain": [
       "matrix([[ 7.50491073e+02],\n",
       "        [ 7.82702187e+01],\n",
       "        [-1.10273163e+00],\n",
       "        [-1.15006092e-01]])"
      ]
     },
     "metadata": {},
     "output_type": "display_data"
    },
    {
     "data": {
      "text/plain": [
       "matrix([[1.  , 0.  , 0.01, 0.  ],\n",
       "        [0.  , 1.  , 0.  , 0.01],\n",
       "        [0.  , 0.  , 1.  , 0.  ],\n",
       "        [0.  , 0.  , 0.  , 1.  ]])"
      ]
     },
     "metadata": {},
     "output_type": "display_data"
    },
    {
     "data": {
      "text/plain": [
       "matrix([[ 7.50480045e+02],\n",
       "        [ 7.82690686e+01],\n",
       "        [-1.10273163e+00],\n",
       "        [-1.15006092e-01]])"
      ]
     },
     "metadata": {},
     "output_type": "display_data"
    },
    {
     "data": {
      "text/plain": [
       "matrix([[1.  , 0.  , 0.01, 0.  ],\n",
       "        [0.  , 1.  , 0.  , 0.01],\n",
       "        [0.  , 0.  , 1.  , 0.  ],\n",
       "        [0.  , 0.  , 0.  , 1.  ]])"
      ]
     },
     "metadata": {},
     "output_type": "display_data"
    },
    {
     "data": {
      "text/plain": [
       "matrix([[ 7.50469018e+02],\n",
       "        [ 7.82679185e+01],\n",
       "        [-1.10273163e+00],\n",
       "        [-1.15006092e-01]])"
      ]
     },
     "metadata": {},
     "output_type": "display_data"
    },
    {
     "data": {
      "text/plain": [
       "matrix([[1.  , 0.  , 0.01, 0.  ],\n",
       "        [0.  , 1.  , 0.  , 0.01],\n",
       "        [0.  , 0.  , 1.  , 0.  ],\n",
       "        [0.  , 0.  , 0.  , 1.  ]])"
      ]
     },
     "metadata": {},
     "output_type": "display_data"
    },
    {
     "data": {
      "text/plain": [
       "matrix([[ 7.50457991e+02],\n",
       "        [ 7.82667685e+01],\n",
       "        [-1.10273163e+00],\n",
       "        [-1.15006092e-01]])"
      ]
     },
     "metadata": {},
     "output_type": "display_data"
    },
    {
     "data": {
      "text/plain": [
       "matrix([[1.  , 0.  , 0.01, 0.  ],\n",
       "        [0.  , 1.  , 0.  , 0.01],\n",
       "        [0.  , 0.  , 1.  , 0.  ],\n",
       "        [0.  , 0.  , 0.  , 1.  ]])"
      ]
     },
     "metadata": {},
     "output_type": "display_data"
    },
    {
     "data": {
      "text/plain": [
       "matrix([[ 7.50446963e+02],\n",
       "        [ 7.82656184e+01],\n",
       "        [-1.10273163e+00],\n",
       "        [-1.15006092e-01]])"
      ]
     },
     "metadata": {},
     "output_type": "display_data"
    },
    {
     "data": {
      "text/plain": [
       "matrix([[1.  , 0.  , 0.01, 0.  ],\n",
       "        [0.  , 1.  , 0.  , 0.01],\n",
       "        [0.  , 0.  , 1.  , 0.  ],\n",
       "        [0.  , 0.  , 0.  , 1.  ]])"
      ]
     },
     "metadata": {},
     "output_type": "display_data"
    },
    {
     "data": {
      "text/plain": [
       "matrix([[ 7.50435936e+02],\n",
       "        [ 7.82644684e+01],\n",
       "        [-1.10273163e+00],\n",
       "        [-1.15006092e-01]])"
      ]
     },
     "metadata": {},
     "output_type": "display_data"
    },
    {
     "data": {
      "text/plain": [
       "matrix([[1.  , 0.  , 0.01, 0.  ],\n",
       "        [0.  , 1.  , 0.  , 0.01],\n",
       "        [0.  , 0.  , 1.  , 0.  ],\n",
       "        [0.  , 0.  , 0.  , 1.  ]])"
      ]
     },
     "metadata": {},
     "output_type": "display_data"
    },
    {
     "data": {
      "text/plain": [
       "matrix([[ 7.50424909e+02],\n",
       "        [ 7.82633183e+01],\n",
       "        [-1.10273163e+00],\n",
       "        [-1.15006092e-01]])"
      ]
     },
     "metadata": {},
     "output_type": "display_data"
    },
    {
     "data": {
      "text/plain": [
       "matrix([[1.  , 0.  , 0.01, 0.  ],\n",
       "        [0.  , 1.  , 0.  , 0.01],\n",
       "        [0.  , 0.  , 1.  , 0.  ],\n",
       "        [0.  , 0.  , 0.  , 1.  ]])"
      ]
     },
     "metadata": {},
     "output_type": "display_data"
    },
    {
     "data": {
      "text/plain": [
       "matrix([[ 7.50413881e+02],\n",
       "        [ 7.82621682e+01],\n",
       "        [-1.10273163e+00],\n",
       "        [-1.15006092e-01]])"
      ]
     },
     "metadata": {},
     "output_type": "display_data"
    },
    {
     "data": {
      "text/plain": [
       "matrix([[1.  , 0.  , 0.01, 0.  ],\n",
       "        [0.  , 1.  , 0.  , 0.01],\n",
       "        [0.  , 0.  , 1.  , 0.  ],\n",
       "        [0.  , 0.  , 0.  , 1.  ]])"
      ]
     },
     "metadata": {},
     "output_type": "display_data"
    },
    {
     "data": {
      "text/plain": [
       "matrix([[ 7.50402854e+02],\n",
       "        [ 7.82610182e+01],\n",
       "        [-1.10273163e+00],\n",
       "        [-1.15006092e-01]])"
      ]
     },
     "metadata": {},
     "output_type": "display_data"
    },
    {
     "data": {
      "text/plain": [
       "matrix([[1.  , 0.  , 0.01, 0.  ],\n",
       "        [0.  , 1.  , 0.  , 0.01],\n",
       "        [0.  , 0.  , 1.  , 0.  ],\n",
       "        [0.  , 0.  , 0.  , 1.  ]])"
      ]
     },
     "metadata": {},
     "output_type": "display_data"
    },
    {
     "data": {
      "text/plain": [
       "matrix([[ 7.50391827e+02],\n",
       "        [ 7.82598681e+01],\n",
       "        [-1.10273163e+00],\n",
       "        [-1.15006092e-01]])"
      ]
     },
     "metadata": {},
     "output_type": "display_data"
    },
    {
     "data": {
      "text/plain": [
       "matrix([[1.  , 0.  , 0.01, 0.  ],\n",
       "        [0.  , 1.  , 0.  , 0.01],\n",
       "        [0.  , 0.  , 1.  , 0.  ],\n",
       "        [0.  , 0.  , 0.  , 1.  ]])"
      ]
     },
     "metadata": {},
     "output_type": "display_data"
    },
    {
     "data": {
      "text/plain": [
       "matrix([[ 7.50380799e+02],\n",
       "        [ 7.82587180e+01],\n",
       "        [-1.10273163e+00],\n",
       "        [-1.15006092e-01]])"
      ]
     },
     "metadata": {},
     "output_type": "display_data"
    },
    {
     "data": {
      "text/plain": [
       "matrix([[1.  , 0.  , 0.01, 0.  ],\n",
       "        [0.  , 1.  , 0.  , 0.01],\n",
       "        [0.  , 0.  , 1.  , 0.  ],\n",
       "        [0.  , 0.  , 0.  , 1.  ]])"
      ]
     },
     "metadata": {},
     "output_type": "display_data"
    },
    {
     "data": {
      "text/plain": [
       "matrix([[ 7.50369772e+02],\n",
       "        [ 7.82575680e+01],\n",
       "        [-1.10273163e+00],\n",
       "        [-1.15006092e-01]])"
      ]
     },
     "metadata": {},
     "output_type": "display_data"
    },
    {
     "data": {
      "text/plain": [
       "matrix([[1.  , 0.  , 0.01, 0.  ],\n",
       "        [0.  , 1.  , 0.  , 0.01],\n",
       "        [0.  , 0.  , 1.  , 0.  ],\n",
       "        [0.  , 0.  , 0.  , 1.  ]])"
      ]
     },
     "metadata": {},
     "output_type": "display_data"
    },
    {
     "data": {
      "text/plain": [
       "matrix([[ 7.50358745e+02],\n",
       "        [ 7.82564179e+01],\n",
       "        [-1.10273163e+00],\n",
       "        [-1.15006092e-01]])"
      ]
     },
     "metadata": {},
     "output_type": "display_data"
    },
    {
     "data": {
      "text/plain": [
       "matrix([[1.  , 0.  , 0.01, 0.  ],\n",
       "        [0.  , 1.  , 0.  , 0.01],\n",
       "        [0.  , 0.  , 1.  , 0.  ],\n",
       "        [0.  , 0.  , 0.  , 1.  ]])"
      ]
     },
     "metadata": {},
     "output_type": "display_data"
    },
    {
     "data": {
      "text/plain": [
       "matrix([[ 7.50347717e+02],\n",
       "        [ 7.82552679e+01],\n",
       "        [-1.10273163e+00],\n",
       "        [-1.15006092e-01]])"
      ]
     },
     "metadata": {},
     "output_type": "display_data"
    },
    {
     "data": {
      "text/plain": [
       "matrix([[1.  , 0.  , 0.01, 0.  ],\n",
       "        [0.  , 1.  , 0.  , 0.01],\n",
       "        [0.  , 0.  , 1.  , 0.  ],\n",
       "        [0.  , 0.  , 0.  , 1.  ]])"
      ]
     },
     "metadata": {},
     "output_type": "display_data"
    },
    {
     "data": {
      "text/plain": [
       "matrix([[ 7.50336690e+02],\n",
       "        [ 7.82541178e+01],\n",
       "        [-1.10273163e+00],\n",
       "        [-1.15006092e-01]])"
      ]
     },
     "metadata": {},
     "output_type": "display_data"
    },
    {
     "data": {
      "text/plain": [
       "matrix([[1.  , 0.  , 0.01, 0.  ],\n",
       "        [0.  , 1.  , 0.  , 0.01],\n",
       "        [0.  , 0.  , 1.  , 0.  ],\n",
       "        [0.  , 0.  , 0.  , 1.  ]])"
      ]
     },
     "metadata": {},
     "output_type": "display_data"
    },
    {
     "data": {
      "text/plain": [
       "matrix([[ 7.50325663e+02],\n",
       "        [ 7.82529677e+01],\n",
       "        [-1.10273163e+00],\n",
       "        [-1.15006092e-01]])"
      ]
     },
     "metadata": {},
     "output_type": "display_data"
    },
    {
     "data": {
      "text/plain": [
       "matrix([[1.  , 0.  , 0.01, 0.  ],\n",
       "        [0.  , 1.  , 0.  , 0.01],\n",
       "        [0.  , 0.  , 1.  , 0.  ],\n",
       "        [0.  , 0.  , 0.  , 1.  ]])"
      ]
     },
     "metadata": {},
     "output_type": "display_data"
    },
    {
     "data": {
      "text/plain": [
       "matrix([[ 7.50314635e+02],\n",
       "        [ 7.82518177e+01],\n",
       "        [-1.10273163e+00],\n",
       "        [-1.15006092e-01]])"
      ]
     },
     "metadata": {},
     "output_type": "display_data"
    },
    {
     "data": {
      "text/plain": [
       "matrix([[1.  , 0.  , 0.01, 0.  ],\n",
       "        [0.  , 1.  , 0.  , 0.01],\n",
       "        [0.  , 0.  , 1.  , 0.  ],\n",
       "        [0.  , 0.  , 0.  , 1.  ]])"
      ]
     },
     "metadata": {},
     "output_type": "display_data"
    },
    {
     "data": {
      "text/plain": [
       "matrix([[ 7.50303608e+02],\n",
       "        [ 7.82506676e+01],\n",
       "        [-1.10273163e+00],\n",
       "        [-1.15006092e-01]])"
      ]
     },
     "metadata": {},
     "output_type": "display_data"
    },
    {
     "data": {
      "text/plain": [
       "matrix([[1.  , 0.  , 0.01, 0.  ],\n",
       "        [0.  , 1.  , 0.  , 0.01],\n",
       "        [0.  , 0.  , 1.  , 0.  ],\n",
       "        [0.  , 0.  , 0.  , 1.  ]])"
      ]
     },
     "metadata": {},
     "output_type": "display_data"
    },
    {
     "data": {
      "text/plain": [
       "matrix([[ 7.50292581e+02],\n",
       "        [ 7.82495176e+01],\n",
       "        [-1.10273163e+00],\n",
       "        [-1.15006092e-01]])"
      ]
     },
     "metadata": {},
     "output_type": "display_data"
    },
    {
     "data": {
      "text/plain": [
       "matrix([[1.  , 0.  , 0.01, 0.  ],\n",
       "        [0.  , 1.  , 0.  , 0.01],\n",
       "        [0.  , 0.  , 1.  , 0.  ],\n",
       "        [0.  , 0.  , 0.  , 1.  ]])"
      ]
     },
     "metadata": {},
     "output_type": "display_data"
    },
    {
     "data": {
      "text/plain": [
       "matrix([[ 7.50281553e+02],\n",
       "        [ 7.82483675e+01],\n",
       "        [-1.10273163e+00],\n",
       "        [-1.15006092e-01]])"
      ]
     },
     "metadata": {},
     "output_type": "display_data"
    },
    {
     "data": {
      "text/plain": [
       "matrix([[1.  , 0.  , 0.01, 0.  ],\n",
       "        [0.  , 1.  , 0.  , 0.01],\n",
       "        [0.  , 0.  , 1.  , 0.  ],\n",
       "        [0.  , 0.  , 0.  , 1.  ]])"
      ]
     },
     "metadata": {},
     "output_type": "display_data"
    },
    {
     "data": {
      "text/plain": [
       "matrix([[ 7.50270526e+02],\n",
       "        [ 7.82472174e+01],\n",
       "        [-1.10273163e+00],\n",
       "        [-1.15006092e-01]])"
      ]
     },
     "metadata": {},
     "output_type": "display_data"
    },
    {
     "data": {
      "text/plain": [
       "matrix([[1.  , 0.  , 0.01, 0.  ],\n",
       "        [0.  , 1.  , 0.  , 0.01],\n",
       "        [0.  , 0.  , 1.  , 0.  ],\n",
       "        [0.  , 0.  , 0.  , 1.  ]])"
      ]
     },
     "metadata": {},
     "output_type": "display_data"
    },
    {
     "data": {
      "text/plain": [
       "matrix([[ 7.50259499e+02],\n",
       "        [ 7.82460674e+01],\n",
       "        [-1.10273163e+00],\n",
       "        [-1.15006092e-01]])"
      ]
     },
     "metadata": {},
     "output_type": "display_data"
    },
    {
     "data": {
      "text/plain": [
       "matrix([[1.  , 0.  , 0.01, 0.  ],\n",
       "        [0.  , 1.  , 0.  , 0.01],\n",
       "        [0.  , 0.  , 1.  , 0.  ],\n",
       "        [0.  , 0.  , 0.  , 1.  ]])"
      ]
     },
     "metadata": {},
     "output_type": "display_data"
    },
    {
     "data": {
      "text/plain": [
       "matrix([[ 7.50248472e+02],\n",
       "        [ 7.82449173e+01],\n",
       "        [-1.10273163e+00],\n",
       "        [-1.15006092e-01]])"
      ]
     },
     "metadata": {},
     "output_type": "display_data"
    },
    {
     "data": {
      "text/plain": [
       "matrix([[1.  , 0.  , 0.01, 0.  ],\n",
       "        [0.  , 1.  , 0.  , 0.01],\n",
       "        [0.  , 0.  , 1.  , 0.  ],\n",
       "        [0.  , 0.  , 0.  , 1.  ]])"
      ]
     },
     "metadata": {},
     "output_type": "display_data"
    },
    {
     "data": {
      "text/plain": [
       "matrix([[ 7.50237444e+02],\n",
       "        [ 7.82437673e+01],\n",
       "        [-1.10273163e+00],\n",
       "        [-1.15006092e-01]])"
      ]
     },
     "metadata": {},
     "output_type": "display_data"
    },
    {
     "data": {
      "text/plain": [
       "matrix([[1.  , 0.  , 0.01, 0.  ],\n",
       "        [0.  , 1.  , 0.  , 0.01],\n",
       "        [0.  , 0.  , 1.  , 0.  ],\n",
       "        [0.  , 0.  , 0.  , 1.  ]])"
      ]
     },
     "metadata": {},
     "output_type": "display_data"
    },
    {
     "data": {
      "text/plain": [
       "matrix([[ 7.50226417e+02],\n",
       "        [ 7.82426172e+01],\n",
       "        [-1.10273163e+00],\n",
       "        [-1.15006092e-01]])"
      ]
     },
     "metadata": {},
     "output_type": "display_data"
    },
    {
     "data": {
      "text/plain": [
       "matrix([[1.  , 0.  , 0.01, 0.  ],\n",
       "        [0.  , 1.  , 0.  , 0.01],\n",
       "        [0.  , 0.  , 1.  , 0.  ],\n",
       "        [0.  , 0.  , 0.  , 1.  ]])"
      ]
     },
     "metadata": {},
     "output_type": "display_data"
    },
    {
     "data": {
      "text/plain": [
       "matrix([[ 7.50215390e+02],\n",
       "        [ 7.82414671e+01],\n",
       "        [-1.10273163e+00],\n",
       "        [-1.15006092e-01]])"
      ]
     },
     "metadata": {},
     "output_type": "display_data"
    },
    {
     "data": {
      "text/plain": [
       "matrix([[1.  , 0.  , 0.01, 0.  ],\n",
       "        [0.  , 1.  , 0.  , 0.01],\n",
       "        [0.  , 0.  , 1.  , 0.  ],\n",
       "        [0.  , 0.  , 0.  , 1.  ]])"
      ]
     },
     "metadata": {},
     "output_type": "display_data"
    },
    {
     "data": {
      "text/plain": [
       "matrix([[ 7.50204362e+02],\n",
       "        [ 7.82403171e+01],\n",
       "        [-1.10273163e+00],\n",
       "        [-1.15006092e-01]])"
      ]
     },
     "metadata": {},
     "output_type": "display_data"
    },
    {
     "data": {
      "text/plain": [
       "matrix([[1.  , 0.  , 0.01, 0.  ],\n",
       "        [0.  , 1.  , 0.  , 0.01],\n",
       "        [0.  , 0.  , 1.  , 0.  ],\n",
       "        [0.  , 0.  , 0.  , 1.  ]])"
      ]
     },
     "metadata": {},
     "output_type": "display_data"
    },
    {
     "data": {
      "text/plain": [
       "matrix([[ 7.50193335e+02],\n",
       "        [ 7.82391670e+01],\n",
       "        [-1.10273163e+00],\n",
       "        [-1.15006092e-01]])"
      ]
     },
     "metadata": {},
     "output_type": "display_data"
    },
    {
     "data": {
      "text/plain": [
       "matrix([[1.  , 0.  , 0.01, 0.  ],\n",
       "        [0.  , 1.  , 0.  , 0.01],\n",
       "        [0.  , 0.  , 1.  , 0.  ],\n",
       "        [0.  , 0.  , 0.  , 1.  ]])"
      ]
     },
     "metadata": {},
     "output_type": "display_data"
    },
    {
     "data": {
      "text/plain": [
       "matrix([[ 7.50182308e+02],\n",
       "        [ 7.82380169e+01],\n",
       "        [-1.10273163e+00],\n",
       "        [-1.15006092e-01]])"
      ]
     },
     "metadata": {},
     "output_type": "display_data"
    },
    {
     "data": {
      "text/plain": [
       "matrix([[1.  , 0.  , 0.01, 0.  ],\n",
       "        [0.  , 1.  , 0.  , 0.01],\n",
       "        [0.  , 0.  , 1.  , 0.  ],\n",
       "        [0.  , 0.  , 0.  , 1.  ]])"
      ]
     },
     "metadata": {},
     "output_type": "display_data"
    },
    {
     "data": {
      "text/plain": [
       "matrix([[ 7.50171280e+02],\n",
       "        [ 7.82368669e+01],\n",
       "        [-1.10273163e+00],\n",
       "        [-1.15006092e-01]])"
      ]
     },
     "metadata": {},
     "output_type": "display_data"
    },
    {
     "data": {
      "text/plain": [
       "matrix([[1.  , 0.  , 0.01, 0.  ],\n",
       "        [0.  , 1.  , 0.  , 0.01],\n",
       "        [0.  , 0.  , 1.  , 0.  ],\n",
       "        [0.  , 0.  , 0.  , 1.  ]])"
      ]
     },
     "metadata": {},
     "output_type": "display_data"
    },
    {
     "data": {
      "text/plain": [
       "matrix([[ 7.50160253e+02],\n",
       "        [ 7.82357168e+01],\n",
       "        [-1.10273163e+00],\n",
       "        [-1.15006092e-01]])"
      ]
     },
     "metadata": {},
     "output_type": "display_data"
    },
    {
     "data": {
      "text/plain": [
       "matrix([[1.  , 0.  , 0.01, 0.  ],\n",
       "        [0.  , 1.  , 0.  , 0.01],\n",
       "        [0.  , 0.  , 1.  , 0.  ],\n",
       "        [0.  , 0.  , 0.  , 1.  ]])"
      ]
     },
     "metadata": {},
     "output_type": "display_data"
    },
    {
     "data": {
      "text/plain": [
       "matrix([[ 7.50149226e+02],\n",
       "        [ 7.82345668e+01],\n",
       "        [-1.10273163e+00],\n",
       "        [-1.15006092e-01]])"
      ]
     },
     "metadata": {},
     "output_type": "display_data"
    },
    {
     "data": {
      "text/plain": [
       "matrix([[1.  , 0.  , 0.01, 0.  ],\n",
       "        [0.  , 1.  , 0.  , 0.01],\n",
       "        [0.  , 0.  , 1.  , 0.  ],\n",
       "        [0.  , 0.  , 0.  , 1.  ]])"
      ]
     },
     "metadata": {},
     "output_type": "display_data"
    },
    {
     "data": {
      "text/plain": [
       "matrix([[ 7.50138198e+02],\n",
       "        [ 7.82334167e+01],\n",
       "        [-1.10273163e+00],\n",
       "        [-1.15006092e-01]])"
      ]
     },
     "metadata": {},
     "output_type": "display_data"
    },
    {
     "data": {
      "text/plain": [
       "matrix([[1.  , 0.  , 0.01, 0.  ],\n",
       "        [0.  , 1.  , 0.  , 0.01],\n",
       "        [0.  , 0.  , 1.  , 0.  ],\n",
       "        [0.  , 0.  , 0.  , 1.  ]])"
      ]
     },
     "metadata": {},
     "output_type": "display_data"
    },
    {
     "data": {
      "text/plain": [
       "matrix([[ 7.50127171e+02],\n",
       "        [ 7.82322666e+01],\n",
       "        [-1.10273163e+00],\n",
       "        [-1.15006092e-01]])"
      ]
     },
     "metadata": {},
     "output_type": "display_data"
    },
    {
     "data": {
      "text/plain": [
       "matrix([[1.  , 0.  , 0.01, 0.  ],\n",
       "        [0.  , 1.  , 0.  , 0.01],\n",
       "        [0.  , 0.  , 1.  , 0.  ],\n",
       "        [0.  , 0.  , 0.  , 1.  ]])"
      ]
     },
     "metadata": {},
     "output_type": "display_data"
    },
    {
     "data": {
      "text/plain": [
       "matrix([[ 7.50116144e+02],\n",
       "        [ 7.82311166e+01],\n",
       "        [-1.10273163e+00],\n",
       "        [-1.15006092e-01]])"
      ]
     },
     "metadata": {},
     "output_type": "display_data"
    },
    {
     "data": {
      "text/plain": [
       "matrix([[1.  , 0.  , 0.01, 0.  ],\n",
       "        [0.  , 1.  , 0.  , 0.01],\n",
       "        [0.  , 0.  , 1.  , 0.  ],\n",
       "        [0.  , 0.  , 0.  , 1.  ]])"
      ]
     },
     "metadata": {},
     "output_type": "display_data"
    },
    {
     "data": {
      "text/plain": [
       "matrix([[ 7.50105116e+02],\n",
       "        [ 7.82299665e+01],\n",
       "        [-1.10273163e+00],\n",
       "        [-1.15006092e-01]])"
      ]
     },
     "metadata": {},
     "output_type": "display_data"
    },
    {
     "data": {
      "text/plain": [
       "matrix([[1.  , 0.  , 0.01, 0.  ],\n",
       "        [0.  , 1.  , 0.  , 0.01],\n",
       "        [0.  , 0.  , 1.  , 0.  ],\n",
       "        [0.  , 0.  , 0.  , 1.  ]])"
      ]
     },
     "metadata": {},
     "output_type": "display_data"
    },
    {
     "data": {
      "text/plain": [
       "matrix([[ 7.50094089e+02],\n",
       "        [ 7.82288165e+01],\n",
       "        [-1.10273163e+00],\n",
       "        [-1.15006092e-01]])"
      ]
     },
     "metadata": {},
     "output_type": "display_data"
    },
    {
     "data": {
      "text/plain": [
       "matrix([[1.  , 0.  , 0.01, 0.  ],\n",
       "        [0.  , 1.  , 0.  , 0.01],\n",
       "        [0.  , 0.  , 1.  , 0.  ],\n",
       "        [0.  , 0.  , 0.  , 1.  ]])"
      ]
     },
     "metadata": {},
     "output_type": "display_data"
    },
    {
     "data": {
      "text/plain": [
       "matrix([[ 7.50083062e+02],\n",
       "        [ 7.82276664e+01],\n",
       "        [-1.10273163e+00],\n",
       "        [-1.15006092e-01]])"
      ]
     },
     "metadata": {},
     "output_type": "display_data"
    },
    {
     "data": {
      "text/plain": [
       "matrix([[1.  , 0.  , 0.01, 0.  ],\n",
       "        [0.  , 1.  , 0.  , 0.01],\n",
       "        [0.  , 0.  , 1.  , 0.  ],\n",
       "        [0.  , 0.  , 0.  , 1.  ]])"
      ]
     },
     "metadata": {},
     "output_type": "display_data"
    },
    {
     "data": {
      "text/plain": [
       "matrix([[ 7.50072034e+02],\n",
       "        [ 7.82265163e+01],\n",
       "        [-1.10273163e+00],\n",
       "        [-1.15006092e-01]])"
      ]
     },
     "metadata": {},
     "output_type": "display_data"
    },
    {
     "data": {
      "text/plain": [
       "matrix([[1.  , 0.  , 0.01, 0.  ],\n",
       "        [0.  , 1.  , 0.  , 0.01],\n",
       "        [0.  , 0.  , 1.  , 0.  ],\n",
       "        [0.  , 0.  , 0.  , 1.  ]])"
      ]
     },
     "metadata": {},
     "output_type": "display_data"
    },
    {
     "data": {
      "text/plain": [
       "matrix([[ 7.50061007e+02],\n",
       "        [ 7.82253663e+01],\n",
       "        [-1.10273163e+00],\n",
       "        [-1.15006092e-01]])"
      ]
     },
     "metadata": {},
     "output_type": "display_data"
    },
    {
     "data": {
      "text/plain": [
       "matrix([[1.  , 0.  , 0.01, 0.  ],\n",
       "        [0.  , 1.  , 0.  , 0.01],\n",
       "        [0.  , 0.  , 1.  , 0.  ],\n",
       "        [0.  , 0.  , 0.  , 1.  ]])"
      ]
     },
     "metadata": {},
     "output_type": "display_data"
    },
    {
     "data": {
      "text/plain": [
       "matrix([[ 7.50049980e+02],\n",
       "        [ 7.82242162e+01],\n",
       "        [-1.10273163e+00],\n",
       "        [-1.15006092e-01]])"
      ]
     },
     "metadata": {},
     "output_type": "display_data"
    },
    {
     "data": {
      "text/plain": [
       "matrix([[1.  , 0.  , 0.01, 0.  ],\n",
       "        [0.  , 1.  , 0.  , 0.01],\n",
       "        [0.  , 0.  , 1.  , 0.  ],\n",
       "        [0.  , 0.  , 0.  , 1.  ]])"
      ]
     },
     "metadata": {},
     "output_type": "display_data"
    },
    {
     "data": {
      "text/plain": [
       "matrix([[ 7.50038953e+02],\n",
       "        [ 7.82230662e+01],\n",
       "        [-1.10273163e+00],\n",
       "        [-1.15006092e-01]])"
      ]
     },
     "metadata": {},
     "output_type": "display_data"
    },
    {
     "data": {
      "text/plain": [
       "matrix([[1.  , 0.  , 0.01, 0.  ],\n",
       "        [0.  , 1.  , 0.  , 0.01],\n",
       "        [0.  , 0.  , 1.  , 0.  ],\n",
       "        [0.  , 0.  , 0.  , 1.  ]])"
      ]
     },
     "metadata": {},
     "output_type": "display_data"
    },
    {
     "data": {
      "text/plain": [
       "matrix([[ 7.50027925e+02],\n",
       "        [ 7.82219161e+01],\n",
       "        [-1.10273163e+00],\n",
       "        [-1.15006092e-01]])"
      ]
     },
     "metadata": {},
     "output_type": "display_data"
    },
    {
     "data": {
      "text/plain": [
       "matrix([[1.  , 0.  , 0.01, 0.  ],\n",
       "        [0.  , 1.  , 0.  , 0.01],\n",
       "        [0.  , 0.  , 1.  , 0.  ],\n",
       "        [0.  , 0.  , 0.  , 1.  ]])"
      ]
     },
     "metadata": {},
     "output_type": "display_data"
    },
    {
     "data": {
      "text/plain": [
       "matrix([[ 7.50016898e+02],\n",
       "        [ 7.82207660e+01],\n",
       "        [-1.10273163e+00],\n",
       "        [-1.15006092e-01]])"
      ]
     },
     "metadata": {},
     "output_type": "display_data"
    },
    {
     "data": {
      "text/plain": [
       "matrix([[1.  , 0.  , 0.01, 0.  ],\n",
       "        [0.  , 1.  , 0.  , 0.01],\n",
       "        [0.  , 0.  , 1.  , 0.  ],\n",
       "        [0.  , 0.  , 0.  , 1.  ]])"
      ]
     },
     "metadata": {},
     "output_type": "display_data"
    },
    {
     "data": {
      "text/plain": [
       "matrix([[ 7.50005871e+02],\n",
       "        [ 7.82196160e+01],\n",
       "        [-1.10273163e+00],\n",
       "        [-1.15006092e-01]])"
      ]
     },
     "metadata": {},
     "output_type": "display_data"
    },
    {
     "data": {
      "text/plain": [
       "matrix([[1.  , 0.  , 0.01, 0.  ],\n",
       "        [0.  , 1.  , 0.  , 0.01],\n",
       "        [0.  , 0.  , 1.  , 0.  ],\n",
       "        [0.  , 0.  , 0.  , 1.  ]])"
      ]
     },
     "metadata": {},
     "output_type": "display_data"
    },
    {
     "data": {
      "text/plain": [
       "matrix([[ 7.49994843e+02],\n",
       "        [ 7.82184659e+01],\n",
       "        [-1.10273163e+00],\n",
       "        [-1.15006092e-01]])"
      ]
     },
     "metadata": {},
     "output_type": "display_data"
    },
    {
     "data": {
      "text/plain": [
       "matrix([[1.  , 0.  , 0.01, 0.  ],\n",
       "        [0.  , 1.  , 0.  , 0.01],\n",
       "        [0.  , 0.  , 1.  , 0.  ],\n",
       "        [0.  , 0.  , 0.  , 1.  ]])"
      ]
     },
     "metadata": {},
     "output_type": "display_data"
    },
    {
     "data": {
      "text/plain": [
       "matrix([[ 7.49983816e+02],\n",
       "        [ 7.82173159e+01],\n",
       "        [-1.10273163e+00],\n",
       "        [-1.15006092e-01]])"
      ]
     },
     "metadata": {},
     "output_type": "display_data"
    },
    {
     "data": {
      "text/plain": [
       "matrix([[1.  , 0.  , 0.01, 0.  ],\n",
       "        [0.  , 1.  , 0.  , 0.01],\n",
       "        [0.  , 0.  , 1.  , 0.  ],\n",
       "        [0.  , 0.  , 0.  , 1.  ]])"
      ]
     },
     "metadata": {},
     "output_type": "display_data"
    },
    {
     "data": {
      "text/plain": [
       "matrix([[ 7.49972789e+02],\n",
       "        [ 7.82161658e+01],\n",
       "        [-1.10273163e+00],\n",
       "        [-1.15006092e-01]])"
      ]
     },
     "metadata": {},
     "output_type": "display_data"
    },
    {
     "data": {
      "text/plain": [
       "matrix([[1.  , 0.  , 0.01, 0.  ],\n",
       "        [0.  , 1.  , 0.  , 0.01],\n",
       "        [0.  , 0.  , 1.  , 0.  ],\n",
       "        [0.  , 0.  , 0.  , 1.  ]])"
      ]
     },
     "metadata": {},
     "output_type": "display_data"
    },
    {
     "data": {
      "text/plain": [
       "matrix([[ 7.49961761e+02],\n",
       "        [ 7.82150157e+01],\n",
       "        [-1.10273163e+00],\n",
       "        [-1.15006092e-01]])"
      ]
     },
     "metadata": {},
     "output_type": "display_data"
    },
    {
     "data": {
      "text/plain": [
       "matrix([[1.  , 0.  , 0.01, 0.  ],\n",
       "        [0.  , 1.  , 0.  , 0.01],\n",
       "        [0.  , 0.  , 1.  , 0.  ],\n",
       "        [0.  , 0.  , 0.  , 1.  ]])"
      ]
     },
     "metadata": {},
     "output_type": "display_data"
    },
    {
     "data": {
      "text/plain": [
       "matrix([[ 7.49950734e+02],\n",
       "        [ 7.82138657e+01],\n",
       "        [-1.10273163e+00],\n",
       "        [-1.15006092e-01]])"
      ]
     },
     "metadata": {},
     "output_type": "display_data"
    },
    {
     "data": {
      "text/plain": [
       "matrix([[1.  , 0.  , 0.01, 0.  ],\n",
       "        [0.  , 1.  , 0.  , 0.01],\n",
       "        [0.  , 0.  , 1.  , 0.  ],\n",
       "        [0.  , 0.  , 0.  , 1.  ]])"
      ]
     },
     "metadata": {},
     "output_type": "display_data"
    },
    {
     "data": {
      "text/plain": [
       "matrix([[ 7.49939707e+02],\n",
       "        [ 7.82127156e+01],\n",
       "        [-1.10273163e+00],\n",
       "        [-1.15006092e-01]])"
      ]
     },
     "metadata": {},
     "output_type": "display_data"
    },
    {
     "data": {
      "text/plain": [
       "matrix([[1.  , 0.  , 0.01, 0.  ],\n",
       "        [0.  , 1.  , 0.  , 0.01],\n",
       "        [0.  , 0.  , 1.  , 0.  ],\n",
       "        [0.  , 0.  , 0.  , 1.  ]])"
      ]
     },
     "metadata": {},
     "output_type": "display_data"
    },
    {
     "data": {
      "text/plain": [
       "matrix([[ 7.49928679e+02],\n",
       "        [ 7.82115655e+01],\n",
       "        [-1.10273163e+00],\n",
       "        [-1.15006092e-01]])"
      ]
     },
     "metadata": {},
     "output_type": "display_data"
    },
    {
     "data": {
      "text/plain": [
       "matrix([[1.  , 0.  , 0.01, 0.  ],\n",
       "        [0.  , 1.  , 0.  , 0.01],\n",
       "        [0.  , 0.  , 1.  , 0.  ],\n",
       "        [0.  , 0.  , 0.  , 1.  ]])"
      ]
     },
     "metadata": {},
     "output_type": "display_data"
    },
    {
     "data": {
      "text/plain": [
       "matrix([[ 7.49917652e+02],\n",
       "        [ 7.82104155e+01],\n",
       "        [-1.10273163e+00],\n",
       "        [-1.15006092e-01]])"
      ]
     },
     "metadata": {},
     "output_type": "display_data"
    },
    {
     "data": {
      "text/plain": [
       "matrix([[1.  , 0.  , 0.01, 0.  ],\n",
       "        [0.  , 1.  , 0.  , 0.01],\n",
       "        [0.  , 0.  , 1.  , 0.  ],\n",
       "        [0.  , 0.  , 0.  , 1.  ]])"
      ]
     },
     "metadata": {},
     "output_type": "display_data"
    },
    {
     "data": {
      "text/plain": [
       "matrix([[ 7.49906625e+02],\n",
       "        [ 7.82092654e+01],\n",
       "        [-1.10273163e+00],\n",
       "        [-1.15006092e-01]])"
      ]
     },
     "metadata": {},
     "output_type": "display_data"
    },
    {
     "data": {
      "text/plain": [
       "matrix([[1.  , 0.  , 0.01, 0.  ],\n",
       "        [0.  , 1.  , 0.  , 0.01],\n",
       "        [0.  , 0.  , 1.  , 0.  ],\n",
       "        [0.  , 0.  , 0.  , 1.  ]])"
      ]
     },
     "metadata": {},
     "output_type": "display_data"
    },
    {
     "data": {
      "text/plain": [
       "matrix([[ 7.49895597e+02],\n",
       "        [ 7.82081154e+01],\n",
       "        [-1.10273163e+00],\n",
       "        [-1.15006092e-01]])"
      ]
     },
     "metadata": {},
     "output_type": "display_data"
    },
    {
     "data": {
      "text/plain": [
       "matrix([[1.  , 0.  , 0.01, 0.  ],\n",
       "        [0.  , 1.  , 0.  , 0.01],\n",
       "        [0.  , 0.  , 1.  , 0.  ],\n",
       "        [0.  , 0.  , 0.  , 1.  ]])"
      ]
     },
     "metadata": {},
     "output_type": "display_data"
    },
    {
     "data": {
      "text/plain": [
       "matrix([[ 7.49884570e+02],\n",
       "        [ 7.82069653e+01],\n",
       "        [-1.10273163e+00],\n",
       "        [-1.15006092e-01]])"
      ]
     },
     "metadata": {},
     "output_type": "display_data"
    },
    {
     "data": {
      "text/plain": [
       "matrix([[1.  , 0.  , 0.01, 0.  ],\n",
       "        [0.  , 1.  , 0.  , 0.01],\n",
       "        [0.  , 0.  , 1.  , 0.  ],\n",
       "        [0.  , 0.  , 0.  , 1.  ]])"
      ]
     },
     "metadata": {},
     "output_type": "display_data"
    },
    {
     "data": {
      "text/plain": [
       "matrix([[ 7.49873543e+02],\n",
       "        [ 7.82058152e+01],\n",
       "        [-1.10273163e+00],\n",
       "        [-1.15006092e-01]])"
      ]
     },
     "metadata": {},
     "output_type": "display_data"
    },
    {
     "data": {
      "text/plain": [
       "matrix([[1.  , 0.  , 0.01, 0.  ],\n",
       "        [0.  , 1.  , 0.  , 0.01],\n",
       "        [0.  , 0.  , 1.  , 0.  ],\n",
       "        [0.  , 0.  , 0.  , 1.  ]])"
      ]
     },
     "metadata": {},
     "output_type": "display_data"
    },
    {
     "data": {
      "text/plain": [
       "matrix([[ 7.49862515e+02],\n",
       "        [ 7.82046652e+01],\n",
       "        [-1.10273163e+00],\n",
       "        [-1.15006092e-01]])"
      ]
     },
     "metadata": {},
     "output_type": "display_data"
    },
    {
     "data": {
      "text/plain": [
       "matrix([[1.  , 0.  , 0.01, 0.  ],\n",
       "        [0.  , 1.  , 0.  , 0.01],\n",
       "        [0.  , 0.  , 1.  , 0.  ],\n",
       "        [0.  , 0.  , 0.  , 1.  ]])"
      ]
     },
     "metadata": {},
     "output_type": "display_data"
    },
    {
     "data": {
      "text/plain": [
       "matrix([[ 7.49851488e+02],\n",
       "        [ 7.82035151e+01],\n",
       "        [-1.10273163e+00],\n",
       "        [-1.15006092e-01]])"
      ]
     },
     "metadata": {},
     "output_type": "display_data"
    },
    {
     "data": {
      "text/plain": [
       "matrix([[1.  , 0.  , 0.01, 0.  ],\n",
       "        [0.  , 1.  , 0.  , 0.01],\n",
       "        [0.  , 0.  , 1.  , 0.  ],\n",
       "        [0.  , 0.  , 0.  , 1.  ]])"
      ]
     },
     "metadata": {},
     "output_type": "display_data"
    },
    {
     "data": {
      "text/plain": [
       "matrix([[ 7.49840461e+02],\n",
       "        [ 7.82023651e+01],\n",
       "        [-1.10273163e+00],\n",
       "        [-1.15006092e-01]])"
      ]
     },
     "metadata": {},
     "output_type": "display_data"
    },
    {
     "data": {
      "text/plain": [
       "matrix([[1.  , 0.  , 0.01, 0.  ],\n",
       "        [0.  , 1.  , 0.  , 0.01],\n",
       "        [0.  , 0.  , 1.  , 0.  ],\n",
       "        [0.  , 0.  , 0.  , 1.  ]])"
      ]
     },
     "metadata": {},
     "output_type": "display_data"
    },
    {
     "data": {
      "text/plain": [
       "matrix([[ 7.49829434e+02],\n",
       "        [ 7.82012150e+01],\n",
       "        [-1.10273163e+00],\n",
       "        [-1.15006092e-01]])"
      ]
     },
     "metadata": {},
     "output_type": "display_data"
    },
    {
     "data": {
      "text/plain": [
       "matrix([[1.  , 0.  , 0.01, 0.  ],\n",
       "        [0.  , 1.  , 0.  , 0.01],\n",
       "        [0.  , 0.  , 1.  , 0.  ],\n",
       "        [0.  , 0.  , 0.  , 1.  ]])"
      ]
     },
     "metadata": {},
     "output_type": "display_data"
    },
    {
     "data": {
      "text/plain": [
       "matrix([[ 7.49818406e+02],\n",
       "        [ 7.82000649e+01],\n",
       "        [-1.10273163e+00],\n",
       "        [-1.15006092e-01]])"
      ]
     },
     "metadata": {},
     "output_type": "display_data"
    },
    {
     "data": {
      "text/plain": [
       "matrix([[1.  , 0.  , 0.01, 0.  ],\n",
       "        [0.  , 1.  , 0.  , 0.01],\n",
       "        [0.  , 0.  , 1.  , 0.  ],\n",
       "        [0.  , 0.  , 0.  , 1.  ]])"
      ]
     },
     "metadata": {},
     "output_type": "display_data"
    },
    {
     "data": {
      "text/plain": [
       "matrix([[ 7.49807379e+02],\n",
       "        [ 7.81989149e+01],\n",
       "        [-1.10273163e+00],\n",
       "        [-1.15006092e-01]])"
      ]
     },
     "metadata": {},
     "output_type": "display_data"
    },
    {
     "data": {
      "text/plain": [
       "matrix([[1.  , 0.  , 0.01, 0.  ],\n",
       "        [0.  , 1.  , 0.  , 0.01],\n",
       "        [0.  , 0.  , 1.  , 0.  ],\n",
       "        [0.  , 0.  , 0.  , 1.  ]])"
      ]
     },
     "metadata": {},
     "output_type": "display_data"
    },
    {
     "data": {
      "text/plain": [
       "matrix([[ 7.49796352e+02],\n",
       "        [ 7.81977648e+01],\n",
       "        [-1.10273163e+00],\n",
       "        [-1.15006092e-01]])"
      ]
     },
     "metadata": {},
     "output_type": "display_data"
    },
    {
     "data": {
      "text/plain": [
       "matrix([[1.  , 0.  , 0.01, 0.  ],\n",
       "        [0.  , 1.  , 0.  , 0.01],\n",
       "        [0.  , 0.  , 1.  , 0.  ],\n",
       "        [0.  , 0.  , 0.  , 1.  ]])"
      ]
     },
     "metadata": {},
     "output_type": "display_data"
    },
    {
     "data": {
      "text/plain": [
       "matrix([[ 7.49785324e+02],\n",
       "        [ 7.81966148e+01],\n",
       "        [-1.10273163e+00],\n",
       "        [-1.15006092e-01]])"
      ]
     },
     "metadata": {},
     "output_type": "display_data"
    },
    {
     "data": {
      "text/plain": [
       "matrix([[1.  , 0.  , 0.01, 0.  ],\n",
       "        [0.  , 1.  , 0.  , 0.01],\n",
       "        [0.  , 0.  , 1.  , 0.  ],\n",
       "        [0.  , 0.  , 0.  , 1.  ]])"
      ]
     },
     "metadata": {},
     "output_type": "display_data"
    },
    {
     "data": {
      "text/plain": [
       "matrix([[ 7.49774297e+02],\n",
       "        [ 7.81954647e+01],\n",
       "        [-1.10273163e+00],\n",
       "        [-1.15006092e-01]])"
      ]
     },
     "metadata": {},
     "output_type": "display_data"
    },
    {
     "data": {
      "text/plain": [
       "matrix([[1.  , 0.  , 0.01, 0.  ],\n",
       "        [0.  , 1.  , 0.  , 0.01],\n",
       "        [0.  , 0.  , 1.  , 0.  ],\n",
       "        [0.  , 0.  , 0.  , 1.  ]])"
      ]
     },
     "metadata": {},
     "output_type": "display_data"
    },
    {
     "data": {
      "text/plain": [
       "matrix([[ 7.49763270e+02],\n",
       "        [ 7.81943146e+01],\n",
       "        [-1.10273163e+00],\n",
       "        [-1.15006092e-01]])"
      ]
     },
     "metadata": {},
     "output_type": "display_data"
    },
    {
     "data": {
      "text/plain": [
       "matrix([[1.  , 0.  , 0.01, 0.  ],\n",
       "        [0.  , 1.  , 0.  , 0.01],\n",
       "        [0.  , 0.  , 1.  , 0.  ],\n",
       "        [0.  , 0.  , 0.  , 1.  ]])"
      ]
     },
     "metadata": {},
     "output_type": "display_data"
    },
    {
     "data": {
      "text/plain": [
       "matrix([[ 7.49752242e+02],\n",
       "        [ 7.81931646e+01],\n",
       "        [-1.10273163e+00],\n",
       "        [-1.15006092e-01]])"
      ]
     },
     "metadata": {},
     "output_type": "display_data"
    },
    {
     "data": {
      "text/plain": [
       "matrix([[1.  , 0.  , 0.01, 0.  ],\n",
       "        [0.  , 1.  , 0.  , 0.01],\n",
       "        [0.  , 0.  , 1.  , 0.  ],\n",
       "        [0.  , 0.  , 0.  , 1.  ]])"
      ]
     },
     "metadata": {},
     "output_type": "display_data"
    },
    {
     "data": {
      "text/plain": [
       "matrix([[ 7.49741215e+02],\n",
       "        [ 7.81920145e+01],\n",
       "        [-1.10273163e+00],\n",
       "        [-1.15006092e-01]])"
      ]
     },
     "metadata": {},
     "output_type": "display_data"
    },
    {
     "data": {
      "text/plain": [
       "matrix([[1.  , 0.  , 0.01, 0.  ],\n",
       "        [0.  , 1.  , 0.  , 0.01],\n",
       "        [0.  , 0.  , 1.  , 0.  ],\n",
       "        [0.  , 0.  , 0.  , 1.  ]])"
      ]
     },
     "metadata": {},
     "output_type": "display_data"
    },
    {
     "data": {
      "text/plain": [
       "matrix([[ 7.49730188e+02],\n",
       "        [ 7.81908645e+01],\n",
       "        [-1.10273163e+00],\n",
       "        [-1.15006092e-01]])"
      ]
     },
     "metadata": {},
     "output_type": "display_data"
    },
    {
     "data": {
      "text/plain": [
       "matrix([[1.  , 0.  , 0.01, 0.  ],\n",
       "        [0.  , 1.  , 0.  , 0.01],\n",
       "        [0.  , 0.  , 1.  , 0.  ],\n",
       "        [0.  , 0.  , 0.  , 1.  ]])"
      ]
     },
     "metadata": {},
     "output_type": "display_data"
    },
    {
     "data": {
      "text/plain": [
       "matrix([[ 7.49719160e+02],\n",
       "        [ 7.81897144e+01],\n",
       "        [-1.10273163e+00],\n",
       "        [-1.15006092e-01]])"
      ]
     },
     "metadata": {},
     "output_type": "display_data"
    },
    {
     "data": {
      "text/plain": [
       "matrix([[1.  , 0.  , 0.01, 0.  ],\n",
       "        [0.  , 1.  , 0.  , 0.01],\n",
       "        [0.  , 0.  , 1.  , 0.  ],\n",
       "        [0.  , 0.  , 0.  , 1.  ]])"
      ]
     },
     "metadata": {},
     "output_type": "display_data"
    },
    {
     "data": {
      "text/plain": [
       "matrix([[ 7.49708133e+02],\n",
       "        [ 7.81885643e+01],\n",
       "        [-1.10273163e+00],\n",
       "        [-1.15006092e-01]])"
      ]
     },
     "metadata": {},
     "output_type": "display_data"
    },
    {
     "data": {
      "text/plain": [
       "matrix([[1.  , 0.  , 0.01, 0.  ],\n",
       "        [0.  , 1.  , 0.  , 0.01],\n",
       "        [0.  , 0.  , 1.  , 0.  ],\n",
       "        [0.  , 0.  , 0.  , 1.  ]])"
      ]
     },
     "metadata": {},
     "output_type": "display_data"
    },
    {
     "data": {
      "text/plain": [
       "matrix([[ 7.49697106e+02],\n",
       "        [ 7.81874143e+01],\n",
       "        [-1.10273163e+00],\n",
       "        [-1.15006092e-01]])"
      ]
     },
     "metadata": {},
     "output_type": "display_data"
    },
    {
     "data": {
      "text/plain": [
       "matrix([[1.  , 0.  , 0.01, 0.  ],\n",
       "        [0.  , 1.  , 0.  , 0.01],\n",
       "        [0.  , 0.  , 1.  , 0.  ],\n",
       "        [0.  , 0.  , 0.  , 1.  ]])"
      ]
     },
     "metadata": {},
     "output_type": "display_data"
    },
    {
     "data": {
      "text/plain": [
       "matrix([[ 7.49686078e+02],\n",
       "        [ 7.81862642e+01],\n",
       "        [-1.10273163e+00],\n",
       "        [-1.15006092e-01]])"
      ]
     },
     "metadata": {},
     "output_type": "display_data"
    },
    {
     "data": {
      "text/plain": [
       "matrix([[1.  , 0.  , 0.01, 0.  ],\n",
       "        [0.  , 1.  , 0.  , 0.01],\n",
       "        [0.  , 0.  , 1.  , 0.  ],\n",
       "        [0.  , 0.  , 0.  , 1.  ]])"
      ]
     },
     "metadata": {},
     "output_type": "display_data"
    },
    {
     "data": {
      "text/plain": [
       "matrix([[ 7.49675051e+02],\n",
       "        [ 7.81851141e+01],\n",
       "        [-1.10273163e+00],\n",
       "        [-1.15006092e-01]])"
      ]
     },
     "metadata": {},
     "output_type": "display_data"
    },
    {
     "data": {
      "text/plain": [
       "matrix([[1.  , 0.  , 0.01, 0.  ],\n",
       "        [0.  , 1.  , 0.  , 0.01],\n",
       "        [0.  , 0.  , 1.  , 0.  ],\n",
       "        [0.  , 0.  , 0.  , 1.  ]])"
      ]
     },
     "metadata": {},
     "output_type": "display_data"
    },
    {
     "data": {
      "text/plain": [
       "matrix([[ 7.49664024e+02],\n",
       "        [ 7.81839641e+01],\n",
       "        [-1.10273163e+00],\n",
       "        [-1.15006092e-01]])"
      ]
     },
     "metadata": {},
     "output_type": "display_data"
    },
    {
     "data": {
      "text/plain": [
       "matrix([[1.  , 0.  , 0.01, 0.  ],\n",
       "        [0.  , 1.  , 0.  , 0.01],\n",
       "        [0.  , 0.  , 1.  , 0.  ],\n",
       "        [0.  , 0.  , 0.  , 1.  ]])"
      ]
     },
     "metadata": {},
     "output_type": "display_data"
    },
    {
     "data": {
      "text/plain": [
       "matrix([[ 7.49652996e+02],\n",
       "        [ 7.81828140e+01],\n",
       "        [-1.10273163e+00],\n",
       "        [-1.15006092e-01]])"
      ]
     },
     "metadata": {},
     "output_type": "display_data"
    },
    {
     "data": {
      "text/plain": [
       "matrix([[1.  , 0.  , 0.01, 0.  ],\n",
       "        [0.  , 1.  , 0.  , 0.01],\n",
       "        [0.  , 0.  , 1.  , 0.  ],\n",
       "        [0.  , 0.  , 0.  , 1.  ]])"
      ]
     },
     "metadata": {},
     "output_type": "display_data"
    },
    {
     "data": {
      "text/plain": [
       "matrix([[ 7.49641969e+02],\n",
       "        [ 7.81816640e+01],\n",
       "        [-1.10273163e+00],\n",
       "        [-1.15006092e-01]])"
      ]
     },
     "metadata": {},
     "output_type": "display_data"
    },
    {
     "data": {
      "text/plain": [
       "matrix([[1.  , 0.  , 0.01, 0.  ],\n",
       "        [0.  , 1.  , 0.  , 0.01],\n",
       "        [0.  , 0.  , 1.  , 0.  ],\n",
       "        [0.  , 0.  , 0.  , 1.  ]])"
      ]
     },
     "metadata": {},
     "output_type": "display_data"
    },
    {
     "data": {
      "text/plain": [
       "matrix([[ 7.49630942e+02],\n",
       "        [ 7.81805139e+01],\n",
       "        [-1.10273163e+00],\n",
       "        [-1.15006092e-01]])"
      ]
     },
     "metadata": {},
     "output_type": "display_data"
    },
    {
     "data": {
      "text/plain": [
       "matrix([[1.  , 0.  , 0.01, 0.  ],\n",
       "        [0.  , 1.  , 0.  , 0.01],\n",
       "        [0.  , 0.  , 1.  , 0.  ],\n",
       "        [0.  , 0.  , 0.  , 1.  ]])"
      ]
     },
     "metadata": {},
     "output_type": "display_data"
    },
    {
     "data": {
      "text/plain": [
       "matrix([[ 7.49619915e+02],\n",
       "        [ 7.81793638e+01],\n",
       "        [-1.10273163e+00],\n",
       "        [-1.15006092e-01]])"
      ]
     },
     "metadata": {},
     "output_type": "display_data"
    },
    {
     "data": {
      "text/plain": [
       "matrix([[1.  , 0.  , 0.01, 0.  ],\n",
       "        [0.  , 1.  , 0.  , 0.01],\n",
       "        [0.  , 0.  , 1.  , 0.  ],\n",
       "        [0.  , 0.  , 0.  , 1.  ]])"
      ]
     },
     "metadata": {},
     "output_type": "display_data"
    },
    {
     "data": {
      "text/plain": [
       "matrix([[ 7.49608887e+02],\n",
       "        [ 7.81782138e+01],\n",
       "        [-1.10273163e+00],\n",
       "        [-1.15006092e-01]])"
      ]
     },
     "metadata": {},
     "output_type": "display_data"
    },
    {
     "data": {
      "text/plain": [
       "matrix([[1.  , 0.  , 0.01, 0.  ],\n",
       "        [0.  , 1.  , 0.  , 0.01],\n",
       "        [0.  , 0.  , 1.  , 0.  ],\n",
       "        [0.  , 0.  , 0.  , 1.  ]])"
      ]
     },
     "metadata": {},
     "output_type": "display_data"
    },
    {
     "data": {
      "text/plain": [
       "matrix([[ 7.49597860e+02],\n",
       "        [ 7.81770637e+01],\n",
       "        [-1.10273163e+00],\n",
       "        [-1.15006092e-01]])"
      ]
     },
     "metadata": {},
     "output_type": "display_data"
    },
    {
     "data": {
      "text/plain": [
       "matrix([[1.  , 0.  , 0.01, 0.  ],\n",
       "        [0.  , 1.  , 0.  , 0.01],\n",
       "        [0.  , 0.  , 1.  , 0.  ],\n",
       "        [0.  , 0.  , 0.  , 1.  ]])"
      ]
     },
     "metadata": {},
     "output_type": "display_data"
    },
    {
     "data": {
      "text/plain": [
       "matrix([[ 7.49586833e+02],\n",
       "        [ 7.81759137e+01],\n",
       "        [-1.10273163e+00],\n",
       "        [-1.15006092e-01]])"
      ]
     },
     "metadata": {},
     "output_type": "display_data"
    },
    {
     "data": {
      "text/plain": [
       "matrix([[1.  , 0.  , 0.01, 0.  ],\n",
       "        [0.  , 1.  , 0.  , 0.01],\n",
       "        [0.  , 0.  , 1.  , 0.  ],\n",
       "        [0.  , 0.  , 0.  , 1.  ]])"
      ]
     },
     "metadata": {},
     "output_type": "display_data"
    },
    {
     "data": {
      "text/plain": [
       "matrix([[ 7.49575805e+02],\n",
       "        [ 7.81747636e+01],\n",
       "        [-1.10273163e+00],\n",
       "        [-1.15006092e-01]])"
      ]
     },
     "metadata": {},
     "output_type": "display_data"
    },
    {
     "data": {
      "text/plain": [
       "matrix([[1.  , 0.  , 0.01, 0.  ],\n",
       "        [0.  , 1.  , 0.  , 0.01],\n",
       "        [0.  , 0.  , 1.  , 0.  ],\n",
       "        [0.  , 0.  , 0.  , 1.  ]])"
      ]
     },
     "metadata": {},
     "output_type": "display_data"
    },
    {
     "data": {
      "text/plain": [
       "matrix([[ 7.49564778e+02],\n",
       "        [ 7.81736135e+01],\n",
       "        [-1.10273163e+00],\n",
       "        [-1.15006092e-01]])"
      ]
     },
     "metadata": {},
     "output_type": "display_data"
    },
    {
     "data": {
      "text/plain": [
       "matrix([[1.  , 0.  , 0.01, 0.  ],\n",
       "        [0.  , 1.  , 0.  , 0.01],\n",
       "        [0.  , 0.  , 1.  , 0.  ],\n",
       "        [0.  , 0.  , 0.  , 1.  ]])"
      ]
     },
     "metadata": {},
     "output_type": "display_data"
    },
    {
     "data": {
      "text/plain": [
       "matrix([[ 7.49553751e+02],\n",
       "        [ 7.81724635e+01],\n",
       "        [-1.10273163e+00],\n",
       "        [-1.15006092e-01]])"
      ]
     },
     "metadata": {},
     "output_type": "display_data"
    },
    {
     "data": {
      "text/plain": [
       "matrix([[1.  , 0.  , 0.01, 0.  ],\n",
       "        [0.  , 1.  , 0.  , 0.01],\n",
       "        [0.  , 0.  , 1.  , 0.  ],\n",
       "        [0.  , 0.  , 0.  , 1.  ]])"
      ]
     },
     "metadata": {},
     "output_type": "display_data"
    },
    {
     "data": {
      "text/plain": [
       "matrix([[ 7.49542723e+02],\n",
       "        [ 7.81713134e+01],\n",
       "        [-1.10273163e+00],\n",
       "        [-1.15006092e-01]])"
      ]
     },
     "metadata": {},
     "output_type": "display_data"
    },
    {
     "data": {
      "text/plain": [
       "matrix([[1.  , 0.  , 0.01, 0.  ],\n",
       "        [0.  , 1.  , 0.  , 0.01],\n",
       "        [0.  , 0.  , 1.  , 0.  ],\n",
       "        [0.  , 0.  , 0.  , 1.  ]])"
      ]
     },
     "metadata": {},
     "output_type": "display_data"
    },
    {
     "data": {
      "text/plain": [
       "matrix([[ 7.49531696e+02],\n",
       "        [ 7.81701634e+01],\n",
       "        [-1.10273163e+00],\n",
       "        [-1.15006092e-01]])"
      ]
     },
     "metadata": {},
     "output_type": "display_data"
    },
    {
     "data": {
      "text/plain": [
       "matrix([[1.  , 0.  , 0.01, 0.  ],\n",
       "        [0.  , 1.  , 0.  , 0.01],\n",
       "        [0.  , 0.  , 1.  , 0.  ],\n",
       "        [0.  , 0.  , 0.  , 1.  ]])"
      ]
     },
     "metadata": {},
     "output_type": "display_data"
    },
    {
     "data": {
      "text/plain": [
       "matrix([[ 7.49520669e+02],\n",
       "        [ 7.81690133e+01],\n",
       "        [-1.10273163e+00],\n",
       "        [-1.15006092e-01]])"
      ]
     },
     "metadata": {},
     "output_type": "display_data"
    },
    {
     "data": {
      "text/plain": [
       "matrix([[1.  , 0.  , 0.01, 0.  ],\n",
       "        [0.  , 1.  , 0.  , 0.01],\n",
       "        [0.  , 0.  , 1.  , 0.  ],\n",
       "        [0.  , 0.  , 0.  , 1.  ]])"
      ]
     },
     "metadata": {},
     "output_type": "display_data"
    },
    {
     "data": {
      "text/plain": [
       "matrix([[ 7.49509641e+02],\n",
       "        [ 7.81678632e+01],\n",
       "        [-1.10273163e+00],\n",
       "        [-1.15006092e-01]])"
      ]
     },
     "metadata": {},
     "output_type": "display_data"
    },
    {
     "data": {
      "text/plain": [
       "matrix([[1.  , 0.  , 0.01, 0.  ],\n",
       "        [0.  , 1.  , 0.  , 0.01],\n",
       "        [0.  , 0.  , 1.  , 0.  ],\n",
       "        [0.  , 0.  , 0.  , 1.  ]])"
      ]
     },
     "metadata": {},
     "output_type": "display_data"
    },
    {
     "data": {
      "text/plain": [
       "matrix([[ 7.49498614e+02],\n",
       "        [ 7.81667132e+01],\n",
       "        [-1.10273163e+00],\n",
       "        [-1.15006092e-01]])"
      ]
     },
     "metadata": {},
     "output_type": "display_data"
    },
    {
     "data": {
      "text/plain": [
       "matrix([[1.  , 0.  , 0.01, 0.  ],\n",
       "        [0.  , 1.  , 0.  , 0.01],\n",
       "        [0.  , 0.  , 1.  , 0.  ],\n",
       "        [0.  , 0.  , 0.  , 1.  ]])"
      ]
     },
     "metadata": {},
     "output_type": "display_data"
    },
    {
     "data": {
      "text/plain": [
       "matrix([[ 7.49487587e+02],\n",
       "        [ 7.81655631e+01],\n",
       "        [-1.10273163e+00],\n",
       "        [-1.15006092e-01]])"
      ]
     },
     "metadata": {},
     "output_type": "display_data"
    },
    {
     "data": {
      "text/plain": [
       "matrix([[1.  , 0.  , 0.01, 0.  ],\n",
       "        [0.  , 1.  , 0.  , 0.01],\n",
       "        [0.  , 0.  , 1.  , 0.  ],\n",
       "        [0.  , 0.  , 0.  , 1.  ]])"
      ]
     },
     "metadata": {},
     "output_type": "display_data"
    },
    {
     "data": {
      "text/plain": [
       "matrix([[ 7.49476559e+02],\n",
       "        [ 7.81644130e+01],\n",
       "        [-1.10273163e+00],\n",
       "        [-1.15006092e-01]])"
      ]
     },
     "metadata": {},
     "output_type": "display_data"
    },
    {
     "data": {
      "text/plain": [
       "matrix([[1.  , 0.  , 0.01, 0.  ],\n",
       "        [0.  , 1.  , 0.  , 0.01],\n",
       "        [0.  , 0.  , 1.  , 0.  ],\n",
       "        [0.  , 0.  , 0.  , 1.  ]])"
      ]
     },
     "metadata": {},
     "output_type": "display_data"
    },
    {
     "data": {
      "text/plain": [
       "matrix([[ 7.49465532e+02],\n",
       "        [ 7.81632630e+01],\n",
       "        [-1.10273163e+00],\n",
       "        [-1.15006092e-01]])"
      ]
     },
     "metadata": {},
     "output_type": "display_data"
    },
    {
     "data": {
      "text/plain": [
       "matrix([[1.  , 0.  , 0.01, 0.  ],\n",
       "        [0.  , 1.  , 0.  , 0.01],\n",
       "        [0.  , 0.  , 1.  , 0.  ],\n",
       "        [0.  , 0.  , 0.  , 1.  ]])"
      ]
     },
     "metadata": {},
     "output_type": "display_data"
    },
    {
     "data": {
      "text/plain": [
       "matrix([[ 7.49454505e+02],\n",
       "        [ 7.81621129e+01],\n",
       "        [-1.10273163e+00],\n",
       "        [-1.15006092e-01]])"
      ]
     },
     "metadata": {},
     "output_type": "display_data"
    },
    {
     "data": {
      "text/plain": [
       "matrix([[1.  , 0.  , 0.01, 0.  ],\n",
       "        [0.  , 1.  , 0.  , 0.01],\n",
       "        [0.  , 0.  , 1.  , 0.  ],\n",
       "        [0.  , 0.  , 0.  , 1.  ]])"
      ]
     },
     "metadata": {},
     "output_type": "display_data"
    },
    {
     "data": {
      "text/plain": [
       "matrix([[ 7.49443477e+02],\n",
       "        [ 7.81609629e+01],\n",
       "        [-1.10273163e+00],\n",
       "        [-1.15006092e-01]])"
      ]
     },
     "metadata": {},
     "output_type": "display_data"
    },
    {
     "data": {
      "text/plain": [
       "matrix([[1.  , 0.  , 0.01, 0.  ],\n",
       "        [0.  , 1.  , 0.  , 0.01],\n",
       "        [0.  , 0.  , 1.  , 0.  ],\n",
       "        [0.  , 0.  , 0.  , 1.  ]])"
      ]
     },
     "metadata": {},
     "output_type": "display_data"
    },
    {
     "data": {
      "text/plain": [
       "matrix([[ 7.49432450e+02],\n",
       "        [ 7.81598128e+01],\n",
       "        [-1.10273163e+00],\n",
       "        [-1.15006092e-01]])"
      ]
     },
     "metadata": {},
     "output_type": "display_data"
    },
    {
     "data": {
      "text/plain": [
       "matrix([[1.  , 0.  , 0.01, 0.  ],\n",
       "        [0.  , 1.  , 0.  , 0.01],\n",
       "        [0.  , 0.  , 1.  , 0.  ],\n",
       "        [0.  , 0.  , 0.  , 1.  ]])"
      ]
     },
     "metadata": {},
     "output_type": "display_data"
    },
    {
     "data": {
      "text/plain": [
       "matrix([[ 7.49421423e+02],\n",
       "        [ 7.81586627e+01],\n",
       "        [-1.10273163e+00],\n",
       "        [-1.15006092e-01]])"
      ]
     },
     "metadata": {},
     "output_type": "display_data"
    },
    {
     "data": {
      "text/plain": [
       "matrix([[1.  , 0.  , 0.01, 0.  ],\n",
       "        [0.  , 1.  , 0.  , 0.01],\n",
       "        [0.  , 0.  , 1.  , 0.  ],\n",
       "        [0.  , 0.  , 0.  , 1.  ]])"
      ]
     },
     "metadata": {},
     "output_type": "display_data"
    },
    {
     "data": {
      "text/plain": [
       "matrix([[ 7.49410396e+02],\n",
       "        [ 7.81575127e+01],\n",
       "        [-1.10273163e+00],\n",
       "        [-1.15006092e-01]])"
      ]
     },
     "metadata": {},
     "output_type": "display_data"
    },
    {
     "data": {
      "text/plain": [
       "matrix([[1.  , 0.  , 0.01, 0.  ],\n",
       "        [0.  , 1.  , 0.  , 0.01],\n",
       "        [0.  , 0.  , 1.  , 0.  ],\n",
       "        [0.  , 0.  , 0.  , 1.  ]])"
      ]
     },
     "metadata": {},
     "output_type": "display_data"
    },
    {
     "data": {
      "text/plain": [
       "matrix([[ 7.49399368e+02],\n",
       "        [ 7.81563626e+01],\n",
       "        [-1.10273163e+00],\n",
       "        [-1.15006092e-01]])"
      ]
     },
     "metadata": {},
     "output_type": "display_data"
    },
    {
     "data": {
      "text/plain": [
       "matrix([[1.  , 0.  , 0.01, 0.  ],\n",
       "        [0.  , 1.  , 0.  , 0.01],\n",
       "        [0.  , 0.  , 1.  , 0.  ],\n",
       "        [0.  , 0.  , 0.  , 1.  ]])"
      ]
     },
     "metadata": {},
     "output_type": "display_data"
    },
    {
     "data": {
      "text/plain": [
       "matrix([[ 7.49388341e+02],\n",
       "        [ 7.81552126e+01],\n",
       "        [-1.10273163e+00],\n",
       "        [-1.15006092e-01]])"
      ]
     },
     "metadata": {},
     "output_type": "display_data"
    },
    {
     "data": {
      "text/plain": [
       "matrix([[1.  , 0.  , 0.01, 0.  ],\n",
       "        [0.  , 1.  , 0.  , 0.01],\n",
       "        [0.  , 0.  , 1.  , 0.  ],\n",
       "        [0.  , 0.  , 0.  , 1.  ]])"
      ]
     },
     "metadata": {},
     "output_type": "display_data"
    },
    {
     "data": {
      "text/plain": [
       "matrix([[ 7.49377314e+02],\n",
       "        [ 7.81540625e+01],\n",
       "        [-1.10273163e+00],\n",
       "        [-1.15006092e-01]])"
      ]
     },
     "metadata": {},
     "output_type": "display_data"
    },
    {
     "data": {
      "text/plain": [
       "matrix([[1.  , 0.  , 0.01, 0.  ],\n",
       "        [0.  , 1.  , 0.  , 0.01],\n",
       "        [0.  , 0.  , 1.  , 0.  ],\n",
       "        [0.  , 0.  , 0.  , 1.  ]])"
      ]
     },
     "metadata": {},
     "output_type": "display_data"
    },
    {
     "data": {
      "text/plain": [
       "matrix([[ 7.49366286e+02],\n",
       "        [ 7.81529124e+01],\n",
       "        [-1.10273163e+00],\n",
       "        [-1.15006092e-01]])"
      ]
     },
     "metadata": {},
     "output_type": "display_data"
    },
    {
     "data": {
      "text/plain": [
       "matrix([[1.  , 0.  , 0.01, 0.  ],\n",
       "        [0.  , 1.  , 0.  , 0.01],\n",
       "        [0.  , 0.  , 1.  , 0.  ],\n",
       "        [0.  , 0.  , 0.  , 1.  ]])"
      ]
     },
     "metadata": {},
     "output_type": "display_data"
    },
    {
     "data": {
      "text/plain": [
       "matrix([[ 7.49355259e+02],\n",
       "        [ 7.81517624e+01],\n",
       "        [-1.10273163e+00],\n",
       "        [-1.15006092e-01]])"
      ]
     },
     "metadata": {},
     "output_type": "display_data"
    },
    {
     "data": {
      "text/plain": [
       "matrix([[1.  , 0.  , 0.01, 0.  ],\n",
       "        [0.  , 1.  , 0.  , 0.01],\n",
       "        [0.  , 0.  , 1.  , 0.  ],\n",
       "        [0.  , 0.  , 0.  , 1.  ]])"
      ]
     },
     "metadata": {},
     "output_type": "display_data"
    },
    {
     "data": {
      "text/plain": [
       "matrix([[ 7.49344232e+02],\n",
       "        [ 7.81506123e+01],\n",
       "        [-1.10273163e+00],\n",
       "        [-1.15006092e-01]])"
      ]
     },
     "metadata": {},
     "output_type": "display_data"
    },
    {
     "data": {
      "text/plain": [
       "matrix([[1.  , 0.  , 0.01, 0.  ],\n",
       "        [0.  , 1.  , 0.  , 0.01],\n",
       "        [0.  , 0.  , 1.  , 0.  ],\n",
       "        [0.  , 0.  , 0.  , 1.  ]])"
      ]
     },
     "metadata": {},
     "output_type": "display_data"
    },
    {
     "data": {
      "text/plain": [
       "matrix([[ 7.49333204e+02],\n",
       "        [ 7.81494623e+01],\n",
       "        [-1.10273163e+00],\n",
       "        [-1.15006092e-01]])"
      ]
     },
     "metadata": {},
     "output_type": "display_data"
    },
    {
     "data": {
      "text/plain": [
       "matrix([[1.  , 0.  , 0.01, 0.  ],\n",
       "        [0.  , 1.  , 0.  , 0.01],\n",
       "        [0.  , 0.  , 1.  , 0.  ],\n",
       "        [0.  , 0.  , 0.  , 1.  ]])"
      ]
     },
     "metadata": {},
     "output_type": "display_data"
    },
    {
     "data": {
      "text/plain": [
       "matrix([[ 7.49322177e+02],\n",
       "        [ 7.81483122e+01],\n",
       "        [-1.10273163e+00],\n",
       "        [-1.15006092e-01]])"
      ]
     },
     "metadata": {},
     "output_type": "display_data"
    },
    {
     "data": {
      "text/plain": [
       "matrix([[1.  , 0.  , 0.01, 0.  ],\n",
       "        [0.  , 1.  , 0.  , 0.01],\n",
       "        [0.  , 0.  , 1.  , 0.  ],\n",
       "        [0.  , 0.  , 0.  , 1.  ]])"
      ]
     },
     "metadata": {},
     "output_type": "display_data"
    },
    {
     "data": {
      "text/plain": [
       "matrix([[ 7.49311150e+02],\n",
       "        [ 7.81471621e+01],\n",
       "        [-1.10273163e+00],\n",
       "        [-1.15006092e-01]])"
      ]
     },
     "metadata": {},
     "output_type": "display_data"
    },
    {
     "data": {
      "text/plain": [
       "matrix([[1.  , 0.  , 0.01, 0.  ],\n",
       "        [0.  , 1.  , 0.  , 0.01],\n",
       "        [0.  , 0.  , 1.  , 0.  ],\n",
       "        [0.  , 0.  , 0.  , 1.  ]])"
      ]
     },
     "metadata": {},
     "output_type": "display_data"
    },
    {
     "data": {
      "text/plain": [
       "matrix([[ 7.49300122e+02],\n",
       "        [ 7.81460121e+01],\n",
       "        [-1.10273163e+00],\n",
       "        [-1.15006092e-01]])"
      ]
     },
     "metadata": {},
     "output_type": "display_data"
    },
    {
     "data": {
      "text/plain": [
       "matrix([[1.  , 0.  , 0.01, 0.  ],\n",
       "        [0.  , 1.  , 0.  , 0.01],\n",
       "        [0.  , 0.  , 1.  , 0.  ],\n",
       "        [0.  , 0.  , 0.  , 1.  ]])"
      ]
     },
     "metadata": {},
     "output_type": "display_data"
    },
    {
     "data": {
      "text/plain": [
       "matrix([[ 7.49289095e+02],\n",
       "        [ 7.81448620e+01],\n",
       "        [-1.10273163e+00],\n",
       "        [-1.15006092e-01]])"
      ]
     },
     "metadata": {},
     "output_type": "display_data"
    },
    {
     "data": {
      "text/plain": [
       "matrix([[1.  , 0.  , 0.01, 0.  ],\n",
       "        [0.  , 1.  , 0.  , 0.01],\n",
       "        [0.  , 0.  , 1.  , 0.  ],\n",
       "        [0.  , 0.  , 0.  , 1.  ]])"
      ]
     },
     "metadata": {},
     "output_type": "display_data"
    },
    {
     "data": {
      "text/plain": [
       "matrix([[ 7.49278068e+02],\n",
       "        [ 7.81437120e+01],\n",
       "        [-1.10273163e+00],\n",
       "        [-1.15006092e-01]])"
      ]
     },
     "metadata": {},
     "output_type": "display_data"
    },
    {
     "data": {
      "text/plain": [
       "matrix([[1.  , 0.  , 0.01, 0.  ],\n",
       "        [0.  , 1.  , 0.  , 0.01],\n",
       "        [0.  , 0.  , 1.  , 0.  ],\n",
       "        [0.  , 0.  , 0.  , 1.  ]])"
      ]
     },
     "metadata": {},
     "output_type": "display_data"
    },
    {
     "data": {
      "text/plain": [
       "matrix([[ 7.49267040e+02],\n",
       "        [ 7.81425619e+01],\n",
       "        [-1.10273163e+00],\n",
       "        [-1.15006092e-01]])"
      ]
     },
     "metadata": {},
     "output_type": "display_data"
    },
    {
     "data": {
      "text/plain": [
       "matrix([[1.  , 0.  , 0.01, 0.  ],\n",
       "        [0.  , 1.  , 0.  , 0.01],\n",
       "        [0.  , 0.  , 1.  , 0.  ],\n",
       "        [0.  , 0.  , 0.  , 1.  ]])"
      ]
     },
     "metadata": {},
     "output_type": "display_data"
    },
    {
     "data": {
      "text/plain": [
       "matrix([[ 7.49256013e+02],\n",
       "        [ 7.81414118e+01],\n",
       "        [-1.10273163e+00],\n",
       "        [-1.15006092e-01]])"
      ]
     },
     "metadata": {},
     "output_type": "display_data"
    },
    {
     "data": {
      "text/plain": [
       "matrix([[1.  , 0.  , 0.01, 0.  ],\n",
       "        [0.  , 1.  , 0.  , 0.01],\n",
       "        [0.  , 0.  , 1.  , 0.  ],\n",
       "        [0.  , 0.  , 0.  , 1.  ]])"
      ]
     },
     "metadata": {},
     "output_type": "display_data"
    },
    {
     "data": {
      "text/plain": [
       "matrix([[ 7.49244986e+02],\n",
       "        [ 7.81402618e+01],\n",
       "        [-1.10273163e+00],\n",
       "        [-1.15006092e-01]])"
      ]
     },
     "metadata": {},
     "output_type": "display_data"
    }
   ],
   "source": [
    "# print (\"Input track number: \")\n",
    "objectID = int(input())\n",
    "\n",
    "times = np.linspace (startTime_Sec, endTime_Sec, int ((endTime_Sec/dtObject)))\n",
    "\n",
    "# varPx = np.zeros (len (timesTracking))\n",
    "# varPy = np.zeros (len (timesTracking))\n",
    "# varVx = np.zeros (len (timesTracking))\n",
    "# varVy = np.zeros (len (timesTracking))\n",
    "# varAx = np.zeros (len (timesTracking))\n",
    "# varAy = np.zeros (len (timesTracking))\n",
    "\n",
    "tracks = []\n",
    "\n",
    "RadarIdx = 1\n",
    "trackingIdx = 1\n",
    "\n",
    "for t_Idx, t in enumerate (times):\n",
    "    prevTime = t - dtObject\n",
    "    currTime = t\n",
    "    nextTime = t + dtObject\n",
    "    \n",
    "#    print ('object time:', t)\n",
    "    \n",
    "    if (objects[objectID].startTime > currTime) and (objects[objectID].startTime <= nextTime):\n",
    "#        print ('track initialized time:', objects[objectID].startTime)\n",
    "\n",
    "        # track initialize\n",
    "        track = Tracking(objectID, CV, radars[objectID].measurements[0], RADAR, objects[objectID].startTime)\n",
    "        tracks.append (track)\n",
    "        \n",
    "    if (objects[objectID].endTime > prevTime) and (objects[objectID].endTime < currTime):\n",
    "#        print ('track terminated time:', objects[objectID].endTime)\n",
    "        \n",
    "        # track terminate\n",
    "        trackForPlot = tracks[0]\n",
    "        del tracks[objectID]\n",
    "    \n",
    "    if tracks:\n",
    "        for trackIdx, track in enumerate (tracks):\n",
    "\n",
    "            if track.isFirstTime:\n",
    "#                print (\"track first time:\", t)\n",
    "                track.isFirstTime = False\n",
    "                continue\n",
    "            else:\n",
    "                predictTime = track.prevTime + dtTracking\n",
    "                updateTime = radars[objectID].times[RadarIdx]\n",
    "                \n",
    "                if (updateTime > currTime) and (updateTime <= nextTime):\n",
    "                    dt = updateTime - track.prevTime\n",
    "                    z = radars[objectID].measurements[RadarIdx]\n",
    "                    track.filter.predict(dt)\n",
    "                    track.filter.updateEKF(z)\n",
    "                    \n",
    "                    track.prevTime = updateTime\n",
    "                    track.times.append (updateTime)\n",
    "                    track.states.append (track.filter.x)\n",
    "                    track.trajectory.x.append (track.filter.x[0, 0])\n",
    "                    track.trajectory.y.append (track.filter.x[1, 0])\n",
    "                    \n",
    "                elif (predictTime > currTime and predictTime <= nextTime):\n",
    "                    dt = predictTime - track.prevTime\n",
    "                    track.filter.predict(dt)\n",
    "                    \n",
    "                    track.prevTime = predictTime\n",
    "                    track.times.append (predictTime)\n",
    "                    track.states.append (track.filter.x)\n",
    "                    track.trajectory.x.append (track.filter.x[0, 0])\n",
    "                    track.trajectory.y.append (track.filter.x[1, 0])\n",
    "#                 if (predictTime > currTime and predictTime <= nextTime):\n",
    "# #                    print (\"prediction time:\", predictTime)\n",
    "            \n",
    "#                     dt = predictTime - track.prevTime\n",
    "#                     track.filter.predict(dt)\n",
    "                    \n",
    "#                     track.prevTime = predictTime\n",
    "#                     track.times.append (predictTime)\n",
    "#                     track.states.append (track.filter.x)\n",
    "#                     track.trajectory.x.append (track.filter.x[0, 0])\n",
    "#                     track.trajectory.y.append (track.filter.x[1, 0])"
   ]
  },
  {
   "cell_type": "code",
   "execution_count": 20,
   "metadata": {},
   "outputs": [],
   "source": [
    "# # Tracking plot\n",
    "# plt.figure(figsize=(10,6), dpi=80)\n",
    "# plt.title(\"Covariance\")\n",
    "# plt.plot (timesTracking, varPx, label='variance Px')\n",
    "# plt.plot (timesTracking, varPy, label='variance Py')\n",
    "# plt.plot (timesTracking, varVx, label='variance Vx')\n",
    "# plt.plot (timesTracking, varVy, label='variance Vy')\n",
    "# # plt.plot (timesTracking, varAx, label='variance Ax')\n",
    "# # plt.plot (timesTracking, varAy, label='variance Ay')\n",
    "\n",
    "# plt.legend(loc='upper right', frameon=False)\n",
    "# plt.xlabel('time (sec)')\n",
    "# plt.ylabel('Variance')\n",
    "\n",
    "# plt.show()"
   ]
  },
  {
   "cell_type": "markdown",
   "metadata": {},
   "source": [
    "## Plot comparing Radar Tracking with Radar measurement and Ground truth"
   ]
  },
  {
   "cell_type": "code",
   "execution_count": 21,
   "metadata": {
    "scrolled": false
   },
   "outputs": [
    {
     "data": {
      "image/png": "[encoded data removed]",
      "text/plain": [
       "<Figure size 800x480 with 1 Axes>"
      ]
     },
     "metadata": {
      "needs_background": "light"
     },
     "output_type": "display_data"
    },
    {
     "data": {
      "image/png": "[encoded data removed]",
      "text/plain": [
       "<Figure size 800x480 with 1 Axes>"
      ]
     },
     "metadata": {
      "needs_background": "light"
     },
     "output_type": "display_data"
    },
    {
     "data": {
      "image/png": "[encoded data removed]",
      "text/plain": [
       "<Figure size 800x480 with 1 Axes>"
      ]
     },
     "metadata": {
      "needs_background": "light"
     },
     "output_type": "display_data"
    }
   ],
   "source": [
    "# Tracking plot\n",
    "plt.figure(figsize=(10,6), dpi=80)\n",
    "plt.title(\"Tracking\")\n",
    "radars[objectID].plot (objectID, TRAJECTORY)\n",
    "trackForPlot.plot (objectID, TRAJECTORY, COLOR['yellow'])\n",
    "objects[objectID].plot (objectID, TRAJECTORY, COLOR['red'])\n",
    "\n",
    "plt.legend(loc='upper right', frameon=False)\n",
    "plt.xlabel('x (m)')\n",
    "plt.ylabel('y (m)')\n",
    "plt.show()\n",
    "\n",
    "# x over time\n",
    "plt.figure(figsize=(10,6), dpi=80)\n",
    "plt.title(\"x over time\")\n",
    "radars[objectID].plot (objectID, X)\n",
    "trackForPlot.plot (objectID, X, COLOR['yellow'])\n",
    "objects[objectID].plot (objectID, X, COLOR['red'])\n",
    "\n",
    "plt.legend(loc='upper right', frameon=False)\n",
    "plt.xlabel('time (sec)')\n",
    "plt.ylabel('x distance (m)')\n",
    "plt.show()\n",
    "\n",
    "# y over time\n",
    "plt.figure(figsize=(10,6), dpi=80)\n",
    "plt.title(\"y over time\")\n",
    "radars[objectID].plot (objectID, Y)\n",
    "trackForPlot.plot (objectID, Y, COLOR['yellow'])\n",
    "objects[objectID].plot (objectID, Y, COLOR['red'])\n",
    "\n",
    "plt.legend(loc='upper right', frameon=False)\n",
    "plt.xlabel('time (sec)')\n",
    "plt.ylabel('y distance (m)')\n",
    "plt.show()"
   ]
  },
  {
   "cell_type": "code",
   "execution_count": 22,
   "metadata": {},
   "outputs": [
    {
     "name": "stdout",
     "output_type": "stream",
     "text": [
      "757.4824310728529 78.99936145834904\n"
     ]
    }
   ],
   "source": [
    "print (radars[0].trajectory.x[0], radars[0].trajectory.y[0])"
   ]
  }
 ],
 "metadata": {
  "kernelspec": {
   "display_name": "Python 3",
   "language": "python",
   "name": "python3"
  },
  "language_info": {
   "codemirror_mode": {
    "name": "ipython",
    "version": 3
   },
   "file_extension": ".py",
   "mimetype": "text/x-python",
   "name": "python",
   "nbconvert_exporter": "python",
   "pygments_lexer": "ipython3",
   "version": "3.7.3"
  }
 },
 "nbformat": 4,
 "nbformat_minor": 2
}
