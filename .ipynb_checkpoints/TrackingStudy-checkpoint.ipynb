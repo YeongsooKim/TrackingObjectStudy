{
 "cells": [
  {
   "cell_type": "markdown",
   "metadata": {},
   "source": [
    "# 1. Ground truth"
   ]
  },
  {
   "cell_type": "markdown",
   "metadata": {},
   "source": [
    "## Import\n",
    "\n",
    "* import numpy for matrix\n",
    "* import matplotlib.pyplot for plotting\n",
    "* import math for math function\n",
    "* import random for random variable. Creating noise or start point etc"
   ]
  },
  {
   "cell_type": "code",
   "execution_count": 1,
   "metadata": {},
   "outputs": [],
   "source": [
    "import numpy as np\n",
    "import matplotlib.pyplot as plt\n",
    "\n",
    "import math\n",
    "import random"
   ]
  },
  {
   "cell_type": "markdown",
   "metadata": {},
   "source": [
    "## Init constant value"
   ]
  },
  {
   "cell_type": "code",
   "execution_count": 2,
   "metadata": {},
   "outputs": [],
   "source": [
    "objectNum = 5\n",
    "\n",
    "startTime_Sec = 0\n",
    "endTime_Sec = 10\n",
    "dtObject = 0.005 # 5ms\n",
    "dtLidar = 0.025 # 25ms\n",
    "dtRadar = 0.050 # 50ms\n",
    "\n",
    "TRAJECTORY = 1\n",
    "X = 2\n",
    "Y = 3\n",
    "\n",
    "LidarNoiseSize = 5\n",
    "RadarNoiseSize = 50 # 0 < RadarNoiseSize < 100"
   ]
  },
  {
   "cell_type": "markdown",
   "metadata": {},
   "source": [
    "## Const accelerate equation"
   ]
  },
  {
   "cell_type": "code",
   "execution_count": 34,
   "metadata": {},
   "outputs": [],
   "source": [
    "def cart2pol(x, y):\n",
    "    rho = np.sqrt(x**2 + y**2)\n",
    "    phi = np.arctan2(y, x)\n",
    "    return(rho, phi)\n",
    "\n",
    "def pol2cart(rho, phi):\n",
    "    x = rho * np.cos(phi)\n",
    "    y = rho * np.sin(phi)\n",
    "    return(x, y)\n",
    "\n",
    "class Trajectory():\n",
    "    def __init__ (self, times):\n",
    "        self.x = np.zeros_like(times)\n",
    "        self.y = np.zeros_like(times)\n",
    "        \n",
    "        self.rho = np.zeros_like(times)\n",
    "        self.phi = np.zeros_like(times)"
   ]
  },
  {
   "cell_type": "code",
   "execution_count": 4,
   "metadata": {},
   "outputs": [],
   "source": [
    "class Object():\n",
    "    #def __init__ (self, times, x, y, ID, color):\n",
    "        #self.color = color\n",
    "    def __init__ (self, times, x, y, ID):\n",
    "        self.ID = ID\n",
    "        self.states = []\n",
    "        self.trajectory = Trajectory(times)\n",
    "        \n",
    "        #state: x, y, x`, y`, x``, y``\n",
    "        self.state_ca = np.matrix([0.0, 0.0, 0.0, 0.0, 0.0, 0.0]).T\n",
    "\n",
    "        self.state_ca[0] = x\n",
    "        self.state_ca[1] = y\n",
    "\n",
    "        self.F = np.matrix([[1.0, 0.0, dtObject, 0.0, 1/2.0*dtObject**2, 0.0],\n",
    "                         [0.0, 1.0, 0.0, dtObject, 0.0, 1/2.0*dtObject**2],\n",
    "                         [0.0, 0.0, 1.0, 0.0, dtObject, 0.0],\n",
    "                         [0.0, 0.0, 0.0, 1.0, 0.0, dtObject],\n",
    "                         [0.0, 0.0, 0.0, 0.0, 1.0, 0.0],\n",
    "                         [0.0, 0.0, 0.0, 0.0, 0.0, 1.0]])\n",
    "        \n",
    "        self.B = np.matrix([[0.0, 0.0],\n",
    "                           [0.0, 0.0],\n",
    "                           [0.0, 0.0],\n",
    "                           [0.0, 0.0],\n",
    "                           [1.0, 0.0],\n",
    "                           [0.0, 1.0]])\n",
    "    \n",
    "    def getState(self, ax, ay):\n",
    "        accel = np.matrix([ax, ay]).T\n",
    "        self.state_ca = self.F*self.state_ca + self.B*accel\n",
    "        \n",
    "        return self.state_ca\n",
    "        \n",
    "        \n",
    "    def subplots(self, times, axes, ID):\n",
    "        \n",
    "        axes[0].plot (self.trajectory.x, self.trajectory.y, label='Ground truth{0}'.format(ID))\n",
    "        axes[1].plot (times, self.trajectory.x, label='Ground truth{0}'.format(ID))\n",
    "        axes[2].plot (times, self.trajectory.y, label='Ground truth{0}'.format(ID))\n",
    "        \n",
    "        \n",
    "    def plot (self, times, ID, pltType):\n",
    "        if pltType == TRAJECTORY:\n",
    "            plt.plot(self.trajectory.x, self.trajectory.y, color=\"red\", linewidth=1.5, linestyle=\"--\",label=\"Ground truth {0}\".format(ID))\n",
    "                \n",
    "        elif pltType == X:\n",
    "            plt.plot(times, self.trajectory.x, color=\"red\", linewidth=1.5, linestyle=\"--\",label=\"Ground truth {0}\".format(ID))\n",
    "                \n",
    "        elif pltType == Y:\n",
    "            plt.plot(times, self.trajectory.y, color=\"red\", linewidth=1.5, linestyle=\"--\",label=\"Ground truth {0}\".format(ID))"
   ]
  },
  {
   "cell_type": "markdown",
   "metadata": {},
   "source": [
    "## Creating object and getting object states"
   ]
  },
  {
   "cell_type": "code",
   "execution_count": 5,
   "metadata": {},
   "outputs": [],
   "source": [
    "objects = []\n",
    "times = np.linspace (startTime_Sec, endTime_Sec, int(endTime_Sec/dtObject))\n",
    "\n",
    "# create object with random position\n",
    "for objectIdx in range(objectNum):\n",
    "    x = random.uniform(0.0, 1000.0)\n",
    "    y = random.uniform(0.0, 1000.0)\n",
    "    \n",
    "    object = Object(times, x, y, objectIdx)\n",
    "    objects.append(object)\n",
    "\n",
    "\n",
    "# get object state\n",
    "for objectIdx, object in enumerate(objects):\n",
    "    for t in range(len(times)):\n",
    "        accel = 0.0\n",
    "        radian = 0.0\n",
    "    \n",
    "        if (t % 5) == 0:\n",
    "            accel = random.uniform(-10.0, 10.0)\n",
    "            radian = random.uniform(-math.pi, math.pi)\n",
    "        \n",
    "        state = object.getState(accel*math.cos(radian), accel*math.sin(radian))\n",
    "\n",
    "        object.states.append(state)\n",
    "        object.trajectory.x[t] = state[0, 0]\n",
    "        object.trajectory.y[t] = state[1, 0]"
   ]
  },
  {
   "cell_type": "markdown",
   "metadata": {},
   "source": [
    "## Plotting object trajectory and x, y"
   ]
  },
  {
   "cell_type": "code",
   "execution_count": 6,
   "metadata": {},
   "outputs": [
    {
     "data": {
      "image/png": "[encoded data removed]",
      "text/plain": [
       "<Figure size 1152x360 with 3 Axes>"
      ]
     },
     "metadata": {
      "needs_background": "light"
     },
     "output_type": "display_data"
    }
   ],
   "source": [
    "fig, axes = plt.subplots(1, 3, figsize = (16, 5))\n",
    "\n",
    "for objectIdx, object in enumerate (objects):\n",
    "    object.subplots (times, axes, objectIdx)\n",
    "    \n",
    "    axes[0].legend(loc=\"upper right\")\n",
    "    axes[0].set(xlabel = 'x', ylabel = 'y')\n",
    "    axes[0].set_title('Trajectory')\n",
    "    \n",
    "    axes[1].legend(loc=\"upper right\")\n",
    "    axes[1].set(xlabel = 'times', ylabel = 'x')\n",
    "    axes[1].set_title('x over time')\n",
    "    \n",
    "    axes[2].legend(loc=\"upper right\")\n",
    "    axes[2].set(xlabel = 'times', ylabel = 'y')\n",
    "    axes[2].set_title('y over time')\n",
    "    \n",
    "    plt.tight_layout()\n",
    "    "
   ]
  },
  {
   "cell_type": "markdown",
   "metadata": {},
   "source": [
    "# 2. Sensor model"
   ]
  },
  {
   "cell_type": "markdown",
   "metadata": {},
   "source": [
    "### 2.1 lidar model"
   ]
  },
  {
   "cell_type": "code",
   "execution_count": 7,
   "metadata": {},
   "outputs": [],
   "source": [
    "class LiDAR():\n",
    "    def __init__(self, times):\n",
    "        self.measurements = []\n",
    "        self.trajectory = Trajectory(times)\n",
    "        self.H = np.matrix([[1.0, 0.0, 0.0, 0.0, 0.0, 0.0],\n",
    "                           [0.0, 1.0, 0.0, 0.0, 0.0, 0.0]])\n",
    "            \n",
    "            \n",
    "    def measure(self, states):\n",
    "        measurementIdx = 0\n",
    "        \n",
    "        for stateIdx, state in enumerate(states):\n",
    "            \n",
    "            # 25ms \n",
    "            if (stateIdx % (dtLidar/dtObject)) == 0:\n",
    "                #measurement = self.H*state + self.R\n",
    "                measurement = self.H*state\n",
    "\n",
    "                # Noise\n",
    "                sensor_noise = np.random.randn()*LidarNoiseSize\n",
    "                measurement[0, 0] = measurement[0, 0] + sensor_noise\n",
    "                \n",
    "                sensor_noise = np.random.randn()*LidarNoiseSize\n",
    "                measurement[1, 0] = measurement[1, 0] + sensor_noise\n",
    "                \n",
    "                self.measurements.append(measurement)\n",
    "                self.trajectory.x[measurementIdx] = measurement[0, 0]\n",
    "                self.trajectory.y[measurementIdx] = measurement[1, 0]\n",
    "                \n",
    "                measurementIdx = measurementIdx + 1\n",
    "                \n",
    "            else:\n",
    "                continue\n",
    "                \n",
    "                \n",
    "    def subplots(self, times, axes, ID):\n",
    "        axes[0].plot (self.trajectory.x, self.trajectory.y, label='Lidar{0}'.format(ID))\n",
    "        axes[1].plot (times, self.trajectory.x, label='Lidar{0}'.format(ID))\n",
    "        axes[2].plot (times, self.trajectory.y, label='Lidar{0}'.format(ID))\n",
    "    \n",
    "    \n",
    "    def plot (self, times, ID, pltType):\n",
    "        if pltType == TRAJECTORY:\n",
    "            plt.plot(self.trajectory.x, self.trajectory.y, color=\"blue\", linewidth=0.5, linestyle=\"-\",label=\"Lidar {0}\".format(ID))\n",
    "                \n",
    "        elif pltType == X:\n",
    "            plt.plot(times, self.trajectory.x, color=\"blue\", linewidth=0.5, linestyle=\"-\",label=\"Lidar {0}\".format(ID))\n",
    "                \n",
    "        elif pltType == Y:\n",
    "            plt.plot(times, self.trajectory.y, color=\"blue\", linewidth=0.5, linestyle=\"-\",label=\"Lidar {0}\".format(ID))"
   ]
  },
  {
   "cell_type": "markdown",
   "metadata": {},
   "source": [
    "### 2.2 Radar model"
   ]
  },
  {
   "cell_type": "code",
   "execution_count": 38,
   "metadata": {},
   "outputs": [],
   "source": [
    "class Radar():\n",
    "    def __init__(self, times):\n",
    "        self.measurements = []\n",
    "        self.trajectory = Trajectory(times)\n",
    "\n",
    "    def measure(self, states):\n",
    "        for stateIdx, state in enumerate(states):\n",
    "            measurementIdx = 0\n",
    "            \n",
    "            # 50ms\n",
    "            if (stateIdx % (dtRadar/dtObject)) == 0:\n",
    "                measurement = []\n",
    "                rho = math.sqrt(math.pow(state[0, 0], 2) + math.pow(state[1, 0], 2))\n",
    "                phi = math.atan2(state[1, 0], state[0, 0])\n",
    "                rhoRate = (state[0, 0]*state[2, 0] + state[1, 0]*state[3, 0])/rho\n",
    "\n",
    "                # noise\n",
    "                sensorNoise = np.random.randn() * math.pi * (RadarNoiseSize/100)\n",
    "                phi = phi + sensorNoise\n",
    "                \n",
    "                measurement.append(rho)\n",
    "                measurement.append(phi)\n",
    "                measurement.append(rhoRate)\n",
    "                \n",
    "                self.measurements.append(measurement)\n",
    "                self.trajectory.rho[measurementIdx] = measurement[0]\n",
    "                self.trajectory.phi[measurementIdx] = measurement[1]\n",
    "                self.trajectory.x[measurementIdx], self.trajectory.y[measurementIdx] = pol2cart(rho, phi)\n",
    "                \n",
    "                measurementIdx = measurementIdx + 1\n",
    "                \n",
    "            else:\n",
    "                continue\n",
    "            \n",
    "\n",
    "    def subplots(self, times, axes, ID):\n",
    "        axes[0].plot (self.trajectory.x, self.trajectory.y, label='Radar{0}'.format(ID))\n",
    "        axes[1].plot (times, self.trajectory.x, label='Radar{0}'.format(ID))\n",
    "        axes[2].plot (times, self.trajectory.y, label='Radar{0}'.format(ID))\n",
    "    \n",
    "    \n",
    "    def plot (self, times, ID, pltType):\n",
    "        if pltType == TRAJECTORY:\n",
    "            plt.plot(self.trajectory.x, self.trajectory.y, color=\"blue\", linewidth=0.5, linestyle=\"-\",label=\"Radar {0}\".format(ID))\n",
    "                \n",
    "        elif pltType == X:\n",
    "            plt.plot(times, self.trajectory.x, color=\"blue\", linewidth=0.5, linestyle=\"-\",label=\"Radar {0}\".format(ID))\n",
    "                \n",
    "        elif pltType == Y:\n",
    "            plt.plot(times, self.trajectory.y, color=\"blue\", linewidth=0.5, linestyle=\"-\",label=\"Radar {0}\".format(ID))"
   ]
  },
  {
   "cell_type": "code",
   "execution_count": 40,
   "metadata": {},
   "outputs": [
    {
     "data": {
      "image/png": "[encoded data removed]",
      "text/plain": [
       "<Figure size 432x288 with 1 Axes>"
      ]
     },
     "metadata": {
      "needs_background": "light"
     },
     "output_type": "display_data"
    }
   ],
   "source": [
    "objects[0].plot (times, 0, TRAJECTORY)\n",
    "\n",
    "plt.tight_layout()\n",
    "plt.show()"
   ]
  },
  {
   "cell_type": "code",
   "execution_count": 42,
   "metadata": {},
   "outputs": [
    {
     "data": {
      "image/png": "[encoded data removed]",
      "text/plain": [
       "<Figure size 432x288 with 1 Axes>"
      ]
     },
     "metadata": {
      "needs_background": "light"
     },
     "output_type": "display_data"
    }
   ],
   "source": [
    "radar0 = Radar(timesRadar)\n",
    "radar0.measure(objects[0].states)\n",
    "radar0.plot (timesRadar, 0, TRAJECTORY)\n"
   ]
  },
  {
   "cell_type": "markdown",
   "metadata": {},
   "source": [
    "## Generate LiDAR measurement and Radar measurement"
   ]
  },
  {
   "cell_type": "code",
   "execution_count": 16,
   "metadata": {},
   "outputs": [
    {
     "data": {
      "text/plain": [
       "[598.4203097846901,\n",
       " 598.4203097846901,\n",
       " 0.24502035252970766,\n",
       " 0.24502035252970766]"
      ]
     },
     "metadata": {},
     "output_type": "display_data"
    },
    {
     "data": {
      "text/plain": [
       "[598.4171754568764, 598.4171754568764, 0.3801502838987342, 0.3801502838987342]"
      ]
     },
     "metadata": {},
     "output_type": "display_data"
    },
    {
     "data": {
      "text/plain": [
       "[598.39925937686, 598.39925937686, 2.5147422933089683, 2.5147422933089683]"
      ]
     },
     "metadata": {},
     "output_type": "display_data"
    },
    {
     "data": {
      "text/plain": [
       "[598.3602530738973, 598.3602530738973, 2.859925890471635, 2.859925890471635]"
      ]
     },
     "metadata": {},
     "output_type": "display_data"
    },
    {
     "data": {
      "text/plain": [
       "[598.2826704380269, 598.2826704380269, 1.2448969583456162, 1.2448969583456162]"
      ]
     },
     "metadata": {},
     "output_type": "display_data"
    },
    {
     "data": {
      "text/plain": [
       "[598.1590985257935, 598.1590985257935, 0.1493323845663922, 0.1493323845663922]"
      ]
     },
     "metadata": {},
     "output_type": "display_data"
    },
    {
     "data": {
      "text/plain": [
       "[597.9991146423097, 597.9991146423097, 1.869611160339438, 1.869611160339438]"
      ]
     },
     "metadata": {},
     "output_type": "display_data"
    },
    {
     "data": {
      "text/plain": [
       "[597.8257354684692, 597.8257354684692, 1.973947502278624, 1.973947502278624]"
      ]
     },
     "metadata": {},
     "output_type": "display_data"
    },
    {
     "data": {
      "text/plain": [
       "[597.6435181552994,\n",
       " 597.6435181552994,\n",
       " -1.7946328923041068,\n",
       " -1.7946328923041068]"
      ]
     },
     "metadata": {},
     "output_type": "display_data"
    },
    {
     "data": {
      "text/plain": [
       "[597.4509632134115, 597.4509632134115, 5.703828399545828, 5.703828399545828]"
      ]
     },
     "metadata": {},
     "output_type": "display_data"
    },
    {
     "data": {
      "text/plain": [
       "[597.2476192645646, 597.2476192645646, 2.5442722281173498, 2.5442722281173498]"
      ]
     },
     "metadata": {},
     "output_type": "display_data"
    },
    {
     "data": {
      "text/plain": [
       "[597.0221245676203,\n",
       " 597.0221245676203,\n",
       " -2.1817148174001133,\n",
       " -2.1817148174001133]"
      ]
     },
     "metadata": {},
     "output_type": "display_data"
    },
    {
     "data": {
      "text/plain": [
       "[596.7628985330409, 596.7628985330409, 0.5772608714783509, 0.5772608714783509]"
      ]
     },
     "metadata": {},
     "output_type": "display_data"
    },
    {
     "data": {
      "text/plain": [
       "[596.4723081239067,\n",
       " 596.4723081239067,\n",
       " 0.23840251002033475,\n",
       " 0.23840251002033475]"
      ]
     },
     "metadata": {},
     "output_type": "display_data"
    },
    {
     "data": {
      "text/plain": [
       "[596.1420046537104, 596.1420046537104, 0.96555613239049, 0.96555613239049]"
      ]
     },
     "metadata": {},
     "output_type": "display_data"
    },
    {
     "data": {
      "text/plain": [
       "[595.7547967149771,\n",
       " 595.7547967149771,\n",
       " -2.1099467379284755,\n",
       " -2.1099467379284755]"
      ]
     },
     "metadata": {},
     "output_type": "display_data"
    },
    {
     "data": {
      "text/plain": [
       "[595.3034113553712,\n",
       " 595.3034113553712,\n",
       " 0.15339970333433528,\n",
       " 0.15339970333433528]"
      ]
     },
     "metadata": {},
     "output_type": "display_data"
    },
    {
     "data": {
      "text/plain": [
       "[594.798412146066, 594.798412146066, 0.44490660710578617, 0.44490660710578617]"
      ]
     },
     "metadata": {},
     "output_type": "display_data"
    },
    {
     "data": {
      "text/plain": [
       "[594.2479906634543, 594.2479906634543, 3.325741517337401, 3.325741517337401]"
      ]
     },
     "metadata": {},
     "output_type": "display_data"
    },
    {
     "data": {
      "text/plain": [
       "[593.649982715977, 593.649982715977, 2.995539588273236, 2.995539588273236]"
      ]
     },
     "metadata": {},
     "output_type": "display_data"
    },
    {
     "data": {
      "text/plain": [
       "[592.9948175182203, 592.9948175182203, 1.77274796912706, 1.77274796912706]"
      ]
     },
     "metadata": {},
     "output_type": "display_data"
    },
    {
     "data": {
      "text/plain": [
       "[592.2813388867625, 592.2813388867625, 2.2028078381109624, 2.2028078381109624]"
      ]
     },
     "metadata": {},
     "output_type": "display_data"
    },
    {
     "data": {
      "text/plain": [
       "[591.5110417049406, 591.5110417049406, 0.6324048813472987, 0.6324048813472987]"
      ]
     },
     "metadata": {},
     "output_type": "display_data"
    },
    {
     "data": {
      "text/plain": [
       "[590.683817215034, 590.683817215034, -0.5312100219997316, -0.5312100219997316]"
      ]
     },
     "metadata": {},
     "output_type": "display_data"
    },
    {
     "data": {
      "text/plain": [
       "[589.8009010703609, 589.8009010703609, 0.3646928430791704, 0.3646928430791704]"
      ]
     },
     "metadata": {},
     "output_type": "display_data"
    },
    {
     "data": {
      "text/plain": [
       "[588.8715979190879,\n",
       " 588.8715979190879,\n",
       " -0.7700053298350065,\n",
       " -0.7700053298350065]"
      ]
     },
     "metadata": {},
     "output_type": "display_data"
    },
    {
     "data": {
      "text/plain": [
       "[587.9191075980782,\n",
       " 587.9191075980782,\n",
       " -0.3852642137409441,\n",
       " -0.3852642137409441]"
      ]
     },
     "metadata": {},
     "output_type": "display_data"
    },
    {
     "data": {
      "text/plain": [
       "[586.9601068695187, 586.9601068695187, 1.282787096647356, 1.282787096647356]"
      ]
     },
     "metadata": {},
     "output_type": "display_data"
    },
    {
     "data": {
      "text/plain": [
       "[585.9910255973085, 585.9910255973085, 1.9094271868807589, 1.9094271868807589]"
      ]
     },
     "metadata": {},
     "output_type": "display_data"
    },
    {
     "data": {
      "text/plain": [
       "[585.0143896289438, 585.0143896289438, 0.7824851792686769, 0.7824851792686769]"
      ]
     },
     "metadata": {},
     "output_type": "display_data"
    },
    {
     "data": {
      "text/plain": [
       "[584.0345890450878,\n",
       " 584.0345890450878,\n",
       " -2.3442404283166782,\n",
       " -2.3442404283166782]"
      ]
     },
     "metadata": {},
     "output_type": "display_data"
    },
    {
     "data": {
      "text/plain": [
       "[583.0692064389074, 583.0692064389074, 1.396008329258407, 1.396008329258407]"
      ]
     },
     "metadata": {},
     "output_type": "display_data"
    },
    {
     "data": {
      "text/plain": [
       "[582.1301795678257,\n",
       " 582.1301795678257,\n",
       " -0.6438105301756973,\n",
       " -0.6438105301756973]"
      ]
     },
     "metadata": {},
     "output_type": "display_data"
    },
    {
     "data": {
      "text/plain": [
       "[581.206873891393, 581.206873891393, -0.6825081605052629, -0.6825081605052629]"
      ]
     },
     "metadata": {},
     "output_type": "display_data"
    },
    {
     "data": {
      "text/plain": [
       "[580.2917755596325, 580.2917755596325, 3.6211811011229704, 3.6211811011229704]"
      ]
     },
     "metadata": {},
     "output_type": "display_data"
    },
    {
     "data": {
      "text/plain": [
       "[579.3791653177702, 579.3791653177702, 1.8635272065776873, 1.8635272065776873]"
      ]
     },
     "metadata": {},
     "output_type": "display_data"
    },
    {
     "data": {
      "text/plain": [
       "[578.4651942194553, 578.4651942194553, 1.0221118851212379, 1.0221118851212379]"
      ]
     },
     "metadata": {},
     "output_type": "display_data"
    },
    {
     "data": {
      "text/plain": [
       "[577.5332134707966, 577.5332134707966, 2.112558864434268, 2.112558864434268]"
      ]
     },
     "metadata": {},
     "output_type": "display_data"
    },
    {
     "data": {
      "text/plain": [
       "[576.5591173174735, 576.5591173174735, 2.5722515586906063, 2.5722515586906063]"
      ]
     },
     "metadata": {},
     "output_type": "display_data"
    },
    {
     "data": {
      "text/plain": [
       "[575.5441014629199, 575.5441014629199, 1.4753559891215482, 1.4753559891215482]"
      ]
     },
     "metadata": {},
     "output_type": "display_data"
    },
    {
     "data": {
      "text/plain": [
       "[574.486962113289, 574.486962113289, -1.0208580670155125, -1.0208580670155125]"
      ]
     },
     "metadata": {},
     "output_type": "display_data"
    },
    {
     "data": {
      "text/plain": [
       "[573.3828281472743,\n",
       " 573.3828281472743,\n",
       " -0.43448622902561485,\n",
       " -0.43448622902561485]"
      ]
     },
     "metadata": {},
     "output_type": "display_data"
    },
    {
     "data": {
      "text/plain": [
       "[572.2252034960939, 572.2252034960939, 1.5430866278168274, 1.5430866278168274]"
      ]
     },
     "metadata": {},
     "output_type": "display_data"
    },
    {
     "data": {
      "text/plain": [
       "[571.0158214386572, 571.0158214386572, 1.0184384397656585, 1.0184384397656585]"
      ]
     },
     "metadata": {},
     "output_type": "display_data"
    },
    {
     "data": {
      "text/plain": [
       "[569.7509512597245,\n",
       " 569.7509512597245,\n",
       " 0.08481580993191595,\n",
       " 0.08481580993191595]"
      ]
     },
     "metadata": {},
     "output_type": "display_data"
    },
    {
     "data": {
      "text/plain": [
       "[568.4181496032227, 568.4181496032227, 1.4802439752384782, 1.4802439752384782]"
      ]
     },
     "metadata": {},
     "output_type": "display_data"
    },
    {
     "data": {
      "text/plain": [
       "[567.0251223075643, 567.0251223075643, 4.319551130652178, 4.319551130652178]"
      ]
     },
     "metadata": {},
     "output_type": "display_data"
    },
    {
     "data": {
      "text/plain": [
       "[565.5928372690382, 565.5928372690382, 0.8481467989919519, 0.8481467989919519]"
      ]
     },
     "metadata": {},
     "output_type": "display_data"
    },
    {
     "data": {
      "text/plain": [
       "[564.1235289706691, 564.1235289706691, 2.388606583807897, 2.388606583807897]"
      ]
     },
     "metadata": {},
     "output_type": "display_data"
    },
    {
     "data": {
      "text/plain": [
       "[562.614417059913, 562.614417059913, -0.7184862179161546, -0.7184862179161546]"
      ]
     },
     "metadata": {},
     "output_type": "display_data"
    },
    {
     "data": {
      "text/plain": [
       "[561.0626734196616, 561.0626734196616, -0.44336105126741, -0.44336105126741]"
      ]
     },
     "metadata": {},
     "output_type": "display_data"
    },
    {
     "data": {
      "text/plain": [
       "[559.4586061831745, 559.4586061831745, 0.5869659289226075, 0.5869659289226075]"
      ]
     },
     "metadata": {},
     "output_type": "display_data"
    },
    {
     "data": {
      "text/plain": [
       "[557.8079351779022, 557.8079351779022, 2.2907450254005406, 2.2907450254005406]"
      ]
     },
     "metadata": {},
     "output_type": "display_data"
    },
    {
     "data": {
      "text/plain": [
       "[556.1358961934326,\n",
       " 556.1358961934326,\n",
       " -1.5014523944106264,\n",
       " -1.5014523944106264]"
      ]
     },
     "metadata": {},
     "output_type": "display_data"
    },
    {
     "data": {
      "text/plain": [
       "[554.4537049639749,\n",
       " 554.4537049639749,\n",
       " -0.30614476274104274,\n",
       " -0.30614476274104274]"
      ]
     },
     "metadata": {},
     "output_type": "display_data"
    },
    {
     "data": {
      "text/plain": [
       "[552.7632327101906, 552.7632327101906, 2.533182713695229, 2.533182713695229]"
      ]
     },
     "metadata": {},
     "output_type": "display_data"
    },
    {
     "data": {
      "text/plain": [
       "[551.0654856668093, 551.0654856668093, 0.7770027965929729, 0.7770027965929729]"
      ]
     },
     "metadata": {},
     "output_type": "display_data"
    },
    {
     "data": {
      "text/plain": [
       "[549.371619410875, 549.371619410875, 0.5825940821991088, 0.5825940821991088]"
      ]
     },
     "metadata": {},
     "output_type": "display_data"
    },
    {
     "data": {
      "text/plain": [
       "[547.7004082904042,\n",
       " 547.7004082904042,\n",
       " -0.4480189165276669,\n",
       " -0.4480189165276669]"
      ]
     },
     "metadata": {},
     "output_type": "display_data"
    },
    {
     "data": {
      "text/plain": [
       "[546.0508356445966, 546.0508356445966, 2.0069806536364156, 2.0069806536364156]"
      ]
     },
     "metadata": {},
     "output_type": "display_data"
    },
    {
     "data": {
      "text/plain": [
       "[544.4323305931938, 544.4323305931938, 0.9058334211106248, 0.9058334211106248]"
      ]
     },
     "metadata": {},
     "output_type": "display_data"
    },
    {
     "data": {
      "text/plain": [
       "[542.8511973458303,\n",
       " 542.8511973458303,\n",
       " -0.0673698920296637,\n",
       " -0.0673698920296637]"
      ]
     },
     "metadata": {},
     "output_type": "display_data"
    },
    {
     "data": {
      "text/plain": [
       "[541.3206469177887,\n",
       " 541.3206469177887,\n",
       " -0.5996402371920955,\n",
       " -0.5996402371920955]"
      ]
     },
     "metadata": {},
     "output_type": "display_data"
    },
    {
     "data": {
      "text/plain": [
       "[539.8596152517777,\n",
       " 539.8596152517777,\n",
       " -0.5699004878939193,\n",
       " -0.5699004878939193]"
      ]
     },
     "metadata": {},
     "output_type": "display_data"
    },
    {
     "data": {
      "text/plain": [
       "[538.4851585973723, 538.4851585973723, 1.1855256611160483, 1.1855256611160483]"
      ]
     },
     "metadata": {},
     "output_type": "display_data"
    },
    {
     "data": {
      "text/plain": [
       "[537.2034159893096, 537.2034159893096, 2.2452578012382483, 2.2452578012382483]"
      ]
     },
     "metadata": {},
     "output_type": "display_data"
    },
    {
     "data": {
      "text/plain": [
       "[536.0241871553574, 536.0241871553574, 3.9202335482759674, 3.9202335482759674]"
      ]
     },
     "metadata": {},
     "output_type": "display_data"
    },
    {
     "data": {
      "text/plain": [
       "[534.9592206812735, 534.9592206812735, 2.975309616204859, 2.975309616204859]"
      ]
     },
     "metadata": {},
     "output_type": "display_data"
    },
    {
     "data": {
      "text/plain": [
       "[534.0154295965729, 534.0154295965729, 0.9911955299239161, 0.9911955299239161]"
      ]
     },
     "metadata": {},
     "output_type": "display_data"
    },
    {
     "data": {
      "text/plain": [
       "[533.200146839593, 533.200146839593, 1.9164590079878094, 1.9164590079878094]"
      ]
     },
     "metadata": {},
     "output_type": "display_data"
    },
    {
     "data": {
      "text/plain": [
       "[532.523326056004, 532.523326056004, 3.6474117850815704, 3.6474117850815704]"
      ]
     },
     "metadata": {},
     "output_type": "display_data"
    },
    {
     "data": {
      "text/plain": [
       "[531.9864726599005, 531.9864726599005, 4.113000899092847, 4.113000899092847]"
      ]
     },
     "metadata": {},
     "output_type": "display_data"
    },
    {
     "data": {
      "text/plain": [
       "[531.5859204508533,\n",
       " 531.5859204508533,\n",
       " -1.4302790336304698,\n",
       " -1.4302790336304698]"
      ]
     },
     "metadata": {},
     "output_type": "display_data"
    },
    {
     "data": {
      "text/plain": [
       "[531.338498047947, 531.338498047947, -0.930757839739667, -0.930757839739667]"
      ]
     },
     "metadata": {},
     "output_type": "display_data"
    },
    {
     "data": {
      "text/plain": [
       "[531.2506493422436, 531.2506493422436, 1.9360962389447776, 1.9360962389447776]"
      ]
     },
     "metadata": {},
     "output_type": "display_data"
    },
    {
     "data": {
      "text/plain": [
       "[531.3158531954481, 531.3158531954481, 1.2306922628208457, 1.2306922628208457]"
      ]
     },
     "metadata": {},
     "output_type": "display_data"
    },
    {
     "data": {
      "text/plain": [
       "[531.5454504206102, 531.5454504206102, 0.6100231670115476, 0.6100231670115476]"
      ]
     },
     "metadata": {},
     "output_type": "display_data"
    },
    {
     "data": {
      "text/plain": [
       "[531.9497941123212, 531.9497941123212, 4.627535985540799, 4.627535985540799]"
      ]
     },
     "metadata": {},
     "output_type": "display_data"
    },
    {
     "data": {
      "text/plain": [
       "[532.548430193067, 532.548430193067, 4.038422070380523, 4.038422070380523]"
      ]
     },
     "metadata": {},
     "output_type": "display_data"
    },
    {
     "data": {
      "text/plain": [
       "[533.3599679010633,\n",
       " 533.3599679010633,\n",
       " -0.7569500946294156,\n",
       " -0.7569500946294156]"
      ]
     },
     "metadata": {},
     "output_type": "display_data"
    },
    {
     "data": {
      "text/plain": [
       "[534.4122919811134,\n",
       " 534.4122919811134,\n",
       " 0.09229911382295497,\n",
       " 0.09229911382295497]"
      ]
     },
     "metadata": {},
     "output_type": "display_data"
    },
    {
     "data": {
      "text/plain": [
       "[535.7222137321672, 535.7222137321672, 1.0625040713136877, 1.0625040713136877]"
      ]
     },
     "metadata": {},
     "output_type": "display_data"
    },
    {
     "data": {
      "text/plain": [
       "[537.3086886656645, 537.3086886656645, 4.523720721864898, 4.523720721864898]"
      ]
     },
     "metadata": {},
     "output_type": "display_data"
    },
    {
     "data": {
      "text/plain": [
       "[539.1956226274813, 539.1956226274813, 0.5797471718775764, 0.5797471718775764]"
      ]
     },
     "metadata": {},
     "output_type": "display_data"
    },
    {
     "data": {
      "text/plain": [
       "[541.4059693970037, 541.4059693970037, 1.0369015141123694, 1.0369015141123694]"
      ]
     },
     "metadata": {},
     "output_type": "display_data"
    },
    {
     "data": {
      "text/plain": [
       "[543.9384885208565, 543.9384885208565, 2.571239046163475, 2.571239046163475]"
      ]
     },
     "metadata": {},
     "output_type": "display_data"
    },
    {
     "data": {
      "text/plain": [
       "[546.810977064113, 546.810977064113, 1.3076200164329859, 1.3076200164329859]"
      ]
     },
     "metadata": {},
     "output_type": "display_data"
    },
    {
     "data": {
      "text/plain": [
       "[550.0482121030057,\n",
       " 550.0482121030057,\n",
       " -0.6135978355369232,\n",
       " -0.6135978355369232]"
      ]
     },
     "metadata": {},
     "output_type": "display_data"
    },
    {
     "data": {
      "text/plain": [
       "[553.6444987086704, 553.6444987086704, 2.4041600236172256, 2.4041600236172256]"
      ]
     },
     "metadata": {},
     "output_type": "display_data"
    },
    {
     "data": {
      "text/plain": [
       "[557.6067903259814, 557.6067903259814, 1.884194100973933, 1.884194100973933]"
      ]
     },
     "metadata": {},
     "output_type": "display_data"
    },
    {
     "data": {
      "text/plain": [
       "[561.9501638595214, 561.9501638595214, 1.258846111792175, 1.258846111792175]"
      ]
     },
     "metadata": {},
     "output_type": "display_data"
    },
    {
     "data": {
      "text/plain": [
       "[566.6980841914585, 566.6980841914585, 0.6653358435248435, 0.6653358435248435]"
      ]
     },
     "metadata": {},
     "output_type": "display_data"
    },
    {
     "data": {
      "text/plain": [
       "[571.8720906979319, 571.8720906979319, 3.5564994375559205, 3.5564994375559205]"
      ]
     },
     "metadata": {},
     "output_type": "display_data"
    },
    {
     "data": {
      "text/plain": [
       "[577.4836872117876, 577.4836872117876, 0.2951033702241517, 0.2951033702241517]"
      ]
     },
     "metadata": {},
     "output_type": "display_data"
    },
    {
     "data": {
      "text/plain": [
       "[583.5369476916366, 583.5369476916366, 2.519634339832554, 2.519634339832554]"
      ]
     },
     "metadata": {},
     "output_type": "display_data"
    },
    {
     "data": {
      "text/plain": [
       "[590.0431098342038,\n",
       " 590.0431098342038,\n",
       " 0.031675101749303325,\n",
       " 0.031675101749303325]"
      ]
     },
     "metadata": {},
     "output_type": "display_data"
    },
    {
     "data": {
      "text/plain": [
       "[597.0352443634845, 597.0352443634845, 3.075099138778455, 3.075099138778455]"
      ]
     },
     "metadata": {},
     "output_type": "display_data"
    },
    {
     "data": {
      "text/plain": [
       "[604.5428913585052, 604.5428913585052, 5.003228373641999, 5.003228373641999]"
      ]
     },
     "metadata": {},
     "output_type": "display_data"
    },
    {
     "data": {
      "text/plain": [
       "[612.5751479340344, 612.5751479340344, 1.0696881321949312, 1.0696881321949312]"
      ]
     },
     "metadata": {},
     "output_type": "display_data"
    },
    {
     "data": {
      "text/plain": [
       "[621.1405427964147, 621.1405427964147, 2.12557599894384, 2.12557599894384]"
      ]
     },
     "metadata": {},
     "output_type": "display_data"
    },
    {
     "data": {
      "text/plain": [
       "[630.2402789918638,\n",
       " 630.2402789918638,\n",
       " -0.08254067966828638,\n",
       " -0.08254067966828638]"
      ]
     },
     "metadata": {},
     "output_type": "display_data"
    },
    {
     "data": {
      "text/plain": [
       "[639.8703203670348, 639.8703203670348, 3.650801439899472, 3.650801439899472]"
      ]
     },
     "metadata": {},
     "output_type": "display_data"
    },
    {
     "data": {
      "text/plain": [
       "[650.0436447589257, 650.0436447589257, 4.543921072619534, 4.543921072619534]"
      ]
     },
     "metadata": {},
     "output_type": "display_data"
    },
    {
     "data": {
      "text/plain": [
       "[660.7835784716376,\n",
       " 660.7835784716376,\n",
       " -0.17365367607163407,\n",
       " -0.17365367607163407]"
      ]
     },
     "metadata": {},
     "output_type": "display_data"
    },
    {
     "data": {
      "text/plain": [
       "[672.0939658349307, 672.0939658349307, 1.5651810546015654, 1.5651810546015654]"
      ]
     },
     "metadata": {},
     "output_type": "display_data"
    },
    {
     "data": {
      "text/plain": [
       "[683.9833729114972, 683.9833729114972, 2.3870307891538776, 2.3870307891538776]"
      ]
     },
     "metadata": {},
     "output_type": "display_data"
    },
    {
     "data": {
      "text/plain": [
       "[696.4451554209726, 696.4451554209726, 1.535194205199165, 1.535194205199165]"
      ]
     },
     "metadata": {},
     "output_type": "display_data"
    },
    {
     "data": {
      "text/plain": [
       "[709.4717136111823,\n",
       " 709.4717136111823,\n",
       " -0.9078639326358324,\n",
       " -0.9078639326358324]"
      ]
     },
     "metadata": {},
     "output_type": "display_data"
    },
    {
     "data": {
      "text/plain": [
       "[723.0419590374057, 723.0419590374057, 0.3907070588654378, 0.3907070588654378]"
      ]
     },
     "metadata": {},
     "output_type": "display_data"
    },
    {
     "data": {
      "text/plain": [
       "[737.1469455934639, 737.1469455934639, 2.335444910691578, 2.335444910691578]"
      ]
     },
     "metadata": {},
     "output_type": "display_data"
    },
    {
     "data": {
      "text/plain": [
       "[751.7614958835692, 751.7614958835692, 2.3517097712117883, 2.3517097712117883]"
      ]
     },
     "metadata": {},
     "output_type": "display_data"
    },
    {
     "data": {
      "text/plain": [
       "[766.8786306269183,\n",
       " 766.8786306269183,\n",
       " 0.24674041951341374,\n",
       " 0.24674041951341374]"
      ]
     },
     "metadata": {},
     "output_type": "display_data"
    },
    {
     "data": {
      "text/plain": [
       "[782.4923768139982, 782.4923768139982, 1.7627049061786346, 1.7627049061786346]"
      ]
     },
     "metadata": {},
     "output_type": "display_data"
    },
    {
     "data": {
      "text/plain": [
       "[798.602411518746, 798.602411518746, 5.481280043416829, 5.481280043416829]"
      ]
     },
     "metadata": {},
     "output_type": "display_data"
    },
    {
     "data": {
      "text/plain": [
       "[815.1993353408618, 815.1993353408618, 1.4487439322239637, 1.4487439322239637]"
      ]
     },
     "metadata": {},
     "output_type": "display_data"
    },
    {
     "data": {
      "text/plain": [
       "[832.2997130097222, 832.2997130097222, 4.395996327713956, 4.395996327713956]"
      ]
     },
     "metadata": {},
     "output_type": "display_data"
    },
    {
     "data": {
      "text/plain": [
       "[849.8987268828836, 849.8987268828836, 1.816034269951409, 1.816034269951409]"
      ]
     },
     "metadata": {},
     "output_type": "display_data"
    },
    {
     "data": {
      "text/plain": [
       "[867.9880512871094, 867.9880512871094, 2.699844070606668, 2.699844070606668]"
      ]
     },
     "metadata": {},
     "output_type": "display_data"
    },
    {
     "data": {
      "text/plain": [
       "[886.5547719184831, 886.5547719184831, 4.490487854296131, 4.490487854296131]"
      ]
     },
     "metadata": {},
     "output_type": "display_data"
    },
    {
     "data": {
      "text/plain": [
       "[905.5881870187845, 905.5881870187845, 3.3503801272525644, 3.3503801272525644]"
      ]
     },
     "metadata": {},
     "output_type": "display_data"
    },
    {
     "data": {
      "text/plain": [
       "[925.1001678323923, 925.1001678323923, 3.210973685072194, 3.210973685072194]"
      ]
     },
     "metadata": {},
     "output_type": "display_data"
    },
    {
     "data": {
      "text/plain": [
       "[945.0893973200612, 945.0893973200612, 3.3590735633324798, 3.3590735633324798]"
      ]
     },
     "metadata": {},
     "output_type": "display_data"
    },
    {
     "data": {
      "text/plain": [
       "[965.5663322181861, 965.5663322181861, 3.1244759033244107, 3.1244759033244107]"
      ]
     },
     "metadata": {},
     "output_type": "display_data"
    },
    {
     "data": {
      "text/plain": [
       "[986.5283807772468, 986.5283807772468, 3.8168475401698174, 3.8168475401698174]"
      ]
     },
     "metadata": {},
     "output_type": "display_data"
    },
    {
     "data": {
      "text/plain": [
       "[1007.9795464599429,\n",
       " 1007.9795464599429,\n",
       " 2.2564221058090577,\n",
       " 2.2564221058090577]"
      ]
     },
     "metadata": {},
     "output_type": "display_data"
    },
    {
     "data": {
      "text/plain": [
       "[1029.9258585788737, 1029.9258585788737, 2.697775122666807, 2.697775122666807]"
      ]
     },
     "metadata": {},
     "output_type": "display_data"
    },
    {
     "data": {
      "text/plain": [
       "[1052.3557386193982,\n",
       " 1052.3557386193982,\n",
       " 2.5193823322705997,\n",
       " 2.5193823322705997]"
      ]
     },
     "metadata": {},
     "output_type": "display_data"
    },
    {
     "data": {
      "text/plain": [
       "[1075.2573044496705, 1075.2573044496705, 4.250017927838112, 4.250017927838112]"
      ]
     },
     "metadata": {},
     "output_type": "display_data"
    },
    {
     "data": {
      "text/plain": [
       "[1098.638806334753, 1098.638806334753, 1.6501662338550303, 1.6501662338550303]"
      ]
     },
     "metadata": {},
     "output_type": "display_data"
    },
    {
     "data": {
      "text/plain": [
       "[1122.4953521092577,\n",
       " 1122.4953521092577,\n",
       " 2.1245084601994737,\n",
       " 2.1245084601994737]"
      ]
     },
     "metadata": {},
     "output_type": "display_data"
    },
    {
     "data": {
      "text/plain": [
       "[1146.8296030938143, 1146.8296030938143, 0.436446419437611, 0.436446419437611]"
      ]
     },
     "metadata": {},
     "output_type": "display_data"
    },
    {
     "data": {
      "text/plain": [
       "[1171.6277349773272, 1171.6277349773272, 2.732977351707196, 2.732977351707196]"
      ]
     },
     "metadata": {},
     "output_type": "display_data"
    },
    {
     "data": {
      "text/plain": [
       "[1196.8856551644953, 1196.8856551644953, 4.170377224012691, 4.170377224012691]"
      ]
     },
     "metadata": {},
     "output_type": "display_data"
    },
    {
     "data": {
      "text/plain": [
       "[1222.612721234904, 1222.612721234904, 1.7882311045192432, 1.7882311045192432]"
      ]
     },
     "metadata": {},
     "output_type": "display_data"
    },
    {
     "data": {
      "text/plain": [
       "[1248.8138748946963, 1248.8138748946963, 3.046540853719672, 3.046540853719672]"
      ]
     },
     "metadata": {},
     "output_type": "display_data"
    },
    {
     "data": {
      "text/plain": [
       "[1275.4755418158277, 1275.4755418158277, 5.659266946663755, 5.659266946663755]"
      ]
     },
     "metadata": {},
     "output_type": "display_data"
    },
    {
     "data": {
      "text/plain": [
       "[1302.6021416822477,\n",
       " 1302.6021416822477,\n",
       " 2.5302381570662718,\n",
       " 2.5302381570662718]"
      ]
     },
     "metadata": {},
     "output_type": "display_data"
    },
    {
     "data": {
      "text/plain": [
       "[1330.2061625054546,\n",
       " 1330.2061625054546,\n",
       " 0.8594210858211602,\n",
       " 0.8594210858211602]"
      ]
     },
     "metadata": {},
     "output_type": "display_data"
    },
    {
     "data": {
      "text/plain": [
       "[1358.298597419656, 1358.298597419656, 3.137538331219003, 3.137538331219003]"
      ]
     },
     "metadata": {},
     "output_type": "display_data"
    },
    {
     "data": {
      "text/plain": [
       "[1386.8785176025967, 1386.8785176025967, 4.004666323033227, 4.004666323033227]"
      ]
     },
     "metadata": {},
     "output_type": "display_data"
    },
    {
     "data": {
      "text/plain": [
       "[1415.9367168874883,\n",
       " 1415.9367168874883,\n",
       " 2.1141538990878095,\n",
       " 2.1141538990878095]"
      ]
     },
     "metadata": {},
     "output_type": "display_data"
    },
    {
     "data": {
      "text/plain": [
       "[1445.461685342155, 1445.461685342155, 3.143916998113727, 3.143916998113727]"
      ]
     },
     "metadata": {},
     "output_type": "display_data"
    },
    {
     "data": {
      "text/plain": [
       "[1475.4583845111251,\n",
       " 1475.4583845111251,\n",
       " 2.0750489430327717,\n",
       " 2.0750489430327717]"
      ]
     },
     "metadata": {},
     "output_type": "display_data"
    },
    {
     "data": {
      "text/plain": [
       "[1505.9277727913109,\n",
       " 1505.9277727913109,\n",
       " 3.1708389310114216,\n",
       " 3.1708389310114216]"
      ]
     },
     "metadata": {},
     "output_type": "display_data"
    },
    {
     "data": {
      "text/plain": [
       "[1536.861530091657, 1536.861530091657, 4.453328193641362, 4.453328193641362]"
      ]
     },
     "metadata": {},
     "output_type": "display_data"
    },
    {
     "data": {
      "text/plain": [
       "[1568.26568242706, 1568.26568242706, 2.8480743234599744, 2.8480743234599744]"
      ]
     },
     "metadata": {},
     "output_type": "display_data"
    },
    {
     "data": {
      "text/plain": [
       "[1600.1328067731915,\n",
       " 1600.1328067731915,\n",
       " 2.5845781388181104,\n",
       " 2.5845781388181104]"
      ]
     },
     "metadata": {},
     "output_type": "display_data"
    },
    {
     "data": {
      "text/plain": [
       "[1632.454193914294, 1632.454193914294, 5.360155831276669, 5.360155831276669]"
      ]
     },
     "metadata": {},
     "output_type": "display_data"
    },
    {
     "data": {
      "text/plain": [
       "[1665.2294905715535,\n",
       " 1665.2294905715535,\n",
       " 0.5456404768783583,\n",
       " 0.5456404768783583]"
      ]
     },
     "metadata": {},
     "output_type": "display_data"
    },
    {
     "data": {
      "text/plain": [
       "[1698.460385185699, 1698.460385185699, 2.6911658783751506, 2.6911658783751506]"
      ]
     },
     "metadata": {},
     "output_type": "display_data"
    },
    {
     "data": {
      "text/plain": [
       "[1732.1418349586284, 1732.1418349586284, 5.019700225968695, 5.019700225968695]"
      ]
     },
     "metadata": {},
     "output_type": "display_data"
    },
    {
     "data": {
      "text/plain": [
       "[1766.2731435595729,\n",
       " 1766.2731435595729,\n",
       " 2.6452230338598164,\n",
       " 2.6452230338598164]"
      ]
     },
     "metadata": {},
     "output_type": "display_data"
    },
    {
     "data": {
      "text/plain": [
       "[1800.867012212283, 1800.867012212283, 1.0965082591866673, 1.0965082591866673]"
      ]
     },
     "metadata": {},
     "output_type": "display_data"
    },
    {
     "data": {
      "text/plain": [
       "[1835.9454971846499,\n",
       " 1835.9454971846499,\n",
       " 1.9393579476390923,\n",
       " 1.9393579476390923]"
      ]
     },
     "metadata": {},
     "output_type": "display_data"
    },
    {
     "data": {
      "text/plain": [
       "[1871.5133356779243, 1871.5133356779243, 4.671068108161299, 4.671068108161299]"
      ]
     },
     "metadata": {},
     "output_type": "display_data"
    },
    {
     "data": {
      "text/plain": [
       "[1907.5616115250573,\n",
       " 1907.5616115250573,\n",
       " 3.3637576944252188,\n",
       " 3.3637576944252188]"
      ]
     },
     "metadata": {},
     "output_type": "display_data"
    },
    {
     "data": {
      "text/plain": [
       "[1944.0683104783595,\n",
       " 1944.0683104783595,\n",
       " 1.5198982575175557,\n",
       " 1.5198982575175557]"
      ]
     },
     "metadata": {},
     "output_type": "display_data"
    },
    {
     "data": {
      "text/plain": [
       "[1981.0341165400791,\n",
       " 1981.0341165400791,\n",
       " 1.9550862874350532,\n",
       " 1.9550862874350532]"
      ]
     },
     "metadata": {},
     "output_type": "display_data"
    },
    {
     "data": {
      "text/plain": [
       "[2018.465229058062, 2018.465229058062, 3.8002667532159444, 3.8002667532159444]"
      ]
     },
     "metadata": {},
     "output_type": "display_data"
    },
    {
     "data": {
      "text/plain": [
       "[2056.3436227521447,\n",
       " 2056.3436227521447,\n",
       " 0.8360391793725559,\n",
       " 0.8360391793725559]"
      ]
     },
     "metadata": {},
     "output_type": "display_data"
    },
    {
     "data": {
      "text/plain": [
       "[2094.656573347086, 2094.656573347086, 1.994223186836916, 1.994223186836916]"
      ]
     },
     "metadata": {},
     "output_type": "display_data"
    },
    {
     "data": {
      "text/plain": [
       "[2133.398114852523, 2133.398114852523, 2.464239076458586, 2.464239076458586]"
      ]
     },
     "metadata": {},
     "output_type": "display_data"
    },
    {
     "data": {
      "text/plain": [
       "[2172.565629348312, 2172.565629348312, 0.9064166098584707, 0.9064166098584707]"
      ]
     },
     "metadata": {},
     "output_type": "display_data"
    },
    {
     "data": {
      "text/plain": [
       "[2212.1605463001592, 2212.1605463001592, 2.098770923637474, 2.098770923637474]"
      ]
     },
     "metadata": {},
     "output_type": "display_data"
    },
    {
     "data": {
      "text/plain": [
       "[2252.1908434929596,\n",
       " 2252.1908434929596,\n",
       " 2.5837273542443544,\n",
       " 2.5837273542443544]"
      ]
     },
     "metadata": {},
     "output_type": "display_data"
    },
    {
     "data": {
      "text/plain": [
       "[2292.6682442829233,\n",
       " 2292.6682442829233,\n",
       " 0.7138662320746958,\n",
       " 0.7138662320746958]"
      ]
     },
     "metadata": {},
     "output_type": "display_data"
    },
    {
     "data": {
      "text/plain": [
       "[2333.580926363614, 2333.580926363614, 1.9474479161024996, 1.9474479161024996]"
      ]
     },
     "metadata": {},
     "output_type": "display_data"
    },
    {
     "data": {
      "text/plain": [
       "[2374.9188074362496,\n",
       " 2374.9188074362496,\n",
       " 2.6599588154960303,\n",
       " 2.6599588154960303]"
      ]
     },
     "metadata": {},
     "output_type": "display_data"
    },
    {
     "data": {
      "text/plain": [
       "[2416.6646123135706,\n",
       " 2416.6646123135706,\n",
       " 1.4409804397821886,\n",
       " 1.4409804397821886]"
      ]
     },
     "metadata": {},
     "output_type": "display_data"
    },
    {
     "data": {
      "text/plain": [
       "[2458.8036305369674,\n",
       " 2458.8036305369674,\n",
       " 2.9246595721783186,\n",
       " 2.9246595721783186]"
      ]
     },
     "metadata": {},
     "output_type": "display_data"
    },
    {
     "data": {
      "text/plain": [
       "[2501.346527974285, 2501.346527974285, 0.8448965651065543, 0.8448965651065543]"
      ]
     },
     "metadata": {},
     "output_type": "display_data"
    },
    {
     "data": {
      "text/plain": [
       "[2544.2991886052355,\n",
       " 2544.2991886052355,\n",
       " -0.5178570645913805,\n",
       " -0.5178570645913805]"
      ]
     },
     "metadata": {},
     "output_type": "display_data"
    },
    {
     "data": {
      "text/plain": [
       "[2587.659594172788, 2587.659594172788, 1.4739612250352991, 1.4739612250352991]"
      ]
     },
     "metadata": {},
     "output_type": "display_data"
    },
    {
     "data": {
      "text/plain": [
       "[2631.433092400074, 2631.433092400074, 3.104788933094818, 3.104788933094818]"
      ]
     },
     "metadata": {},
     "output_type": "display_data"
    },
    {
     "data": {
      "text/plain": [
       "[2675.6240765729444, 2675.6240765729444, 2.034980726820053, 2.034980726820053]"
      ]
     },
     "metadata": {},
     "output_type": "display_data"
    },
    {
     "data": {
      "text/plain": [
       "[2720.2370441738344,\n",
       " 2720.2370441738344,\n",
       " 2.4710814590305397,\n",
       " 2.4710814590305397]"
      ]
     },
     "metadata": {},
     "output_type": "display_data"
    },
    {
     "data": {
      "text/plain": [
       "[2765.262036579194, 2765.262036579194, 0.6078251053684967, 0.6078251053684967]"
      ]
     },
     "metadata": {},
     "output_type": "display_data"
    },
    {
     "data": {
      "text/plain": [
       "[2810.695808688722, 2810.695808688722, 4.851746203255325, 4.851746203255325]"
      ]
     },
     "metadata": {},
     "output_type": "display_data"
    },
    {
     "data": {
      "text/plain": [
       "[2856.5430618586106, 2856.5430618586106, 1.034455002137005, 1.034455002137005]"
      ]
     },
     "metadata": {},
     "output_type": "display_data"
    },
    {
     "data": {
      "text/plain": [
       "[2902.8072398307886,\n",
       " 2902.8072398307886,\n",
       " 1.5260266401541793,\n",
       " 1.5260266401541793]"
      ]
     },
     "metadata": {},
     "output_type": "display_data"
    },
    {
     "data": {
      "text/plain": [
       "[2949.4964011114903,\n",
       " 2949.4964011114903,\n",
       " 2.2147531166308583,\n",
       " 2.2147531166308583]"
      ]
     },
     "metadata": {},
     "output_type": "display_data"
    },
    {
     "data": {
      "text/plain": [
       "[2996.62529940223, 2996.62529940223, 3.5999192097007984, 3.5999192097007984]"
      ]
     },
     "metadata": {},
     "output_type": "display_data"
    },
    {
     "data": {
      "text/plain": [
       "[3044.1850759705203, 3044.1850759705203, 5.245190949233731, 5.245190949233731]"
      ]
     },
     "metadata": {},
     "output_type": "display_data"
    },
    {
     "data": {
      "text/plain": [
       "[3092.173630552404, 3092.173630552404, 3.703167611347397, 3.703167611347397]"
      ]
     },
     "metadata": {},
     "output_type": "display_data"
    },
    {
     "data": {
      "text/plain": [
       "[3140.588843342701, 3140.588843342701, 2.944038529596949, 2.944038529596949]"
      ]
     },
     "metadata": {},
     "output_type": "display_data"
    },
    {
     "data": {
      "text/plain": [
       "[3189.418561100455,\n",
       " 3189.418561100455,\n",
       " -0.20231277563194183,\n",
       " -0.20231277563194183]"
      ]
     },
     "metadata": {},
     "output_type": "display_data"
    },
    {
     "data": {
      "text/plain": [
       "[3238.654680834346, 3238.654680834346, 1.8196107790292433, 1.8196107790292433]"
      ]
     },
     "metadata": {},
     "output_type": "display_data"
    },
    {
     "data": {
      "text/plain": [
       "[3288.280781214138, 3288.280781214138, 2.837342978150146, 2.837342978150146]"
      ]
     },
     "metadata": {},
     "output_type": "display_data"
    },
    {
     "data": {
      "text/plain": [
       "[3338.2871283167756,\n",
       " 3338.2871283167756,\n",
       " 0.7366652068853128,\n",
       " 0.7366652068853128]"
      ]
     },
     "metadata": {},
     "output_type": "display_data"
    },
    {
     "data": {
      "text/plain": [
       "[3388.6533802022886, 3388.6533802022886, 2.391326346436575, 2.391326346436575]"
      ]
     },
     "metadata": {},
     "output_type": "display_data"
    },
    {
     "data": {
      "text/plain": [
       "[3439.376422864741, 3439.376422864741, 3.46450331509394, 3.46450331509394]"
      ]
     },
     "metadata": {},
     "output_type": "display_data"
    },
    {
     "data": {
      "text/plain": [
       "[3490.4517245281295,\n",
       " 3490.4517245281295,\n",
       " 3.5233160002314388,\n",
       " 3.5233160002314388]"
      ]
     },
     "metadata": {},
     "output_type": "display_data"
    },
    {
     "data": {
      "text/plain": [
       "[3541.880977930188, 3541.880977930188, 3.944386440507858, 3.944386440507858]"
      ]
     },
     "metadata": {},
     "output_type": "display_data"
    },
    {
     "data": {
      "text/plain": [
       "[3593.663288639156, 3593.663288639156, 5.282033447379622, 5.282033447379622]"
      ]
     },
     "metadata": {},
     "output_type": "display_data"
    },
    {
     "data": {
      "text/plain": [
       "[3645.789558238908, 3645.789558238908, 1.6943039364086263, 1.6943039364086263]"
      ]
     },
     "metadata": {},
     "output_type": "display_data"
    },
    {
     "data": {
      "text/plain": [
       "[3698.2664952822206,\n",
       " 3698.2664952822206,\n",
       " 2.4124028125720436,\n",
       " 2.4124028125720436]"
      ]
     },
     "metadata": {},
     "output_type": "display_data"
    },
    {
     "data": {
      "text/plain": [
       "[3751.109267040252, 3751.109267040252, 3.648054885628545, 3.648054885628545]"
      ]
     },
     "metadata": {},
     "output_type": "display_data"
    },
    {
     "data": {
      "text/plain": [
       "[3804.3122756756798, 3804.3122756756798, 2.985159515337048, 2.985159515337048]"
      ]
     },
     "metadata": {},
     "output_type": "display_data"
    },
    {
     "data": {
      "text/plain": [
       "[3857.8818186952954, 3857.8818186952954, 5.750138177231198, 5.750138177231198]"
      ]
     },
     "metadata": {},
     "output_type": "display_data"
    },
    {
     "data": {
      "text/plain": [
       "[3911.808908501445, 3911.808908501445, 1.944222982684829, 1.944222982684829]"
      ]
     },
     "metadata": {},
     "output_type": "display_data"
    },
    {
     "data": {
      "text/plain": [
       "[434.4092207981411, 434.4092207981411, 2.462627328036513, 2.462627328036513]"
      ]
     },
     "metadata": {},
     "output_type": "display_data"
    },
    {
     "data": {
      "text/plain": [
       "[434.411562603595, 434.411562603595, 0.11718444463129107, 0.11718444463129107]"
      ]
     },
     "metadata": {},
     "output_type": "display_data"
    },
    {
     "data": {
      "text/plain": [
       "[434.41181752599636, 434.41181752599636, 3.88860850735421, 3.88860850735421]"
      ]
     },
     "metadata": {},
     "output_type": "display_data"
    },
    {
     "data": {
      "text/plain": [
       "[434.3973422957515, 434.3973422957515, 3.5930128284392, 3.5930128284392]"
      ]
     },
     "metadata": {},
     "output_type": "display_data"
    },
    {
     "data": {
      "text/plain": [
       "[434.3635138837189, 434.3635138837189, 0.2742843785866538, 0.2742843785866538]"
      ]
     },
     "metadata": {},
     "output_type": "display_data"
    },
    {
     "data": {
      "text/plain": [
       "[434.30863043753146,\n",
       " 434.30863043753146,\n",
       " -0.5746357445895995,\n",
       " -0.5746357445895995]"
      ]
     },
     "metadata": {},
     "output_type": "display_data"
    },
    {
     "data": {
      "text/plain": [
       "[434.25426813495653,\n",
       " 434.25426813495653,\n",
       " 2.2986345861255635,\n",
       " 2.2986345861255635]"
      ]
     },
     "metadata": {},
     "output_type": "display_data"
    },
    {
     "data": {
      "text/plain": [
       "[434.2188342899676,\n",
       " 434.2188342899676,\n",
       " 0.06679459420843314,\n",
       " 0.06679459420843314]"
      ]
     },
     "metadata": {},
     "output_type": "display_data"
    },
    {
     "data": {
      "text/plain": [
       "[434.21156858080866, 434.21156858080866, 4.352433228716212, 4.352433228716212]"
      ]
     },
     "metadata": {},
     "output_type": "display_data"
    },
    {
     "data": {
      "text/plain": [
       "[434.23951621819634,\n",
       " 434.23951621819634,\n",
       " 1.8937319057658648,\n",
       " 1.8937319057658648]"
      ]
     },
     "metadata": {},
     "output_type": "display_data"
    },
    {
     "data": {
      "text/plain": [
       "[434.3229698136739,\n",
       " 434.3229698136739,\n",
       " 0.00012896635331638429,\n",
       " 0.00012896635331638429]"
      ]
     },
     "metadata": {},
     "output_type": "display_data"
    },
    {
     "data": {
      "text/plain": [
       "[434.4593573456635, 434.4593573456635, 3.2624807585620355, 3.2624807585620355]"
      ]
     },
     "metadata": {},
     "output_type": "display_data"
    },
    {
     "data": {
      "text/plain": [
       "[434.63768750599445,\n",
       " 434.63768750599445,\n",
       " 0.006027738304323016,\n",
       " 0.006027738304323016]"
      ]
     },
     "metadata": {},
     "output_type": "display_data"
    },
    {
     "data": {
      "text/plain": [
       "[434.85985101261866,\n",
       " 434.85985101261866,\n",
       " 0.5418291083255548,\n",
       " 0.5418291083255548]"
      ]
     },
     "metadata": {},
     "output_type": "display_data"
    },
    {
     "data": {
      "text/plain": [
       "[435.13150910906245,\n",
       " 435.13150910906245,\n",
       " 0.26125197229635444,\n",
       " 0.26125197229635444]"
      ]
     },
     "metadata": {},
     "output_type": "display_data"
    },
    {
     "data": {
      "text/plain": [
       "[435.4568143478498,\n",
       " 435.4568143478498,\n",
       " 0.29159109226457347,\n",
       " 0.29159109226457347]"
      ]
     },
     "metadata": {},
     "output_type": "display_data"
    },
    {
     "data": {
      "text/plain": [
       "[435.82801156778487,\n",
       " 435.82801156778487,\n",
       " 1.8811156759066703,\n",
       " 1.8811156759066703]"
      ]
     },
     "metadata": {},
     "output_type": "display_data"
    },
    {
     "data": {
      "text/plain": [
       "[436.23661298995813,\n",
       " 436.23661298995813,\n",
       " 2.3659935320004815,\n",
       " 2.3659935320004815]"
      ]
     },
     "metadata": {},
     "output_type": "display_data"
    },
    {
     "data": {
      "text/plain": [
       "[436.69179561886205,\n",
       " 436.69179561886205,\n",
       " 1.6243520309011288,\n",
       " 1.6243520309011288]"
      ]
     },
     "metadata": {},
     "output_type": "display_data"
    },
    {
     "data": {
      "text/plain": [
       "[437.2069879542403,\n",
       " 437.2069879542403,\n",
       " -1.1823486495131947,\n",
       " -1.1823486495131947]"
      ]
     },
     "metadata": {},
     "output_type": "display_data"
    },
    {
     "data": {
      "text/plain": [
       "[437.7721136204838, 437.7721136204838, 2.4140998888792082, 2.4140998888792082]"
      ]
     },
     "metadata": {},
     "output_type": "display_data"
    },
    {
     "data": {
      "text/plain": [
       "[438.4034588935833, 438.4034588935833, 4.408254263740799, 4.408254263740799]"
      ]
     },
     "metadata": {},
     "output_type": "display_data"
    },
    {
     "data": {
      "text/plain": [
       "[439.1258782061773, 439.1258782061773, 2.078837928720195, 2.078837928720195]"
      ]
     },
     "metadata": {},
     "output_type": "display_data"
    },
    {
     "data": {
      "text/plain": [
       "[439.935445946712, 439.935445946712, 2.9612582540923578, 2.9612582540923578]"
      ]
     },
     "metadata": {},
     "output_type": "display_data"
    },
    {
     "data": {
      "text/plain": [
       "[440.8378014971266, 440.8378014971266, 1.319061508672224, 1.319061508672224]"
      ]
     },
     "metadata": {},
     "output_type": "display_data"
    },
    {
     "data": {
      "text/plain": [
       "[441.82088347801624,\n",
       " 441.82088347801624,\n",
       " 0.9254422353291608,\n",
       " 0.9254422353291608]"
      ]
     },
     "metadata": {},
     "output_type": "display_data"
    },
    {
     "data": {
      "text/plain": [
       "[442.87470122727717, 442.87470122727717, 1.090049059382712, 1.090049059382712]"
      ]
     },
     "metadata": {},
     "output_type": "display_data"
    },
    {
     "data": {
      "text/plain": [
       "[443.98548201048925,\n",
       " 443.98548201048925,\n",
       " -0.6570462597389684,\n",
       " -0.6570462597389684]"
      ]
     },
     "metadata": {},
     "output_type": "display_data"
    },
    {
     "data": {
      "text/plain": [
       "[445.1494707896867, 445.1494707896867, 0.8983982740422989, 0.8983982740422989]"
      ]
     },
     "metadata": {},
     "output_type": "display_data"
    },
    {
     "data": {
      "text/plain": [
       "[446.38006099914924,\n",
       " 446.38006099914924,\n",
       " -0.19644129583297398,\n",
       " -0.19644129583297398]"
      ]
     },
     "metadata": {},
     "output_type": "display_data"
    },
    {
     "data": {
      "text/plain": [
       "[447.6832367245568, 447.6832367245568, 2.262974813370353, 2.262974813370353]"
      ]
     },
     "metadata": {},
     "output_type": "display_data"
    },
    {
     "data": {
      "text/plain": [
       "[449.07525463617003,\n",
       " 449.07525463617003,\n",
       " 0.5758071298493087,\n",
       " 0.5758071298493087]"
      ]
     },
     "metadata": {},
     "output_type": "display_data"
    },
    {
     "data": {
      "text/plain": [
       "[450.55279562070746,\n",
       " 450.55279562070746,\n",
       " 0.22807444958633327,\n",
       " 0.22807444958633327]"
      ]
     },
     "metadata": {},
     "output_type": "display_data"
    },
    {
     "data": {
      "text/plain": [
       "[452.1184047640819, 452.1184047640819, 3.576493528087247, 3.576493528087247]"
      ]
     },
     "metadata": {},
     "output_type": "display_data"
    },
    {
     "data": {
      "text/plain": [
       "[453.7869835548237,\n",
       " 453.7869835548237,\n",
       " -0.5288621475323625,\n",
       " -0.5288621475323625]"
      ]
     },
     "metadata": {},
     "output_type": "display_data"
    },
    {
     "data": {
      "text/plain": [
       "[455.55590512002766,\n",
       " 455.55590512002766,\n",
       " 0.3572180274205471,\n",
       " 0.3572180274205471]"
      ]
     },
     "metadata": {},
     "output_type": "display_data"
    },
    {
     "data": {
      "text/plain": [
       "[457.43252155463983,\n",
       " 457.43252155463983,\n",
       " -2.3976224598871747,\n",
       " -2.3976224598871747]"
      ]
     },
     "metadata": {},
     "output_type": "display_data"
    },
    {
     "data": {
      "text/plain": [
       "[459.4187386553231, 459.4187386553231, 3.7229262479342546, 3.7229262479342546]"
      ]
     },
     "metadata": {},
     "output_type": "display_data"
    },
    {
     "data": {
      "text/plain": [
       "[461.5095611959006, 461.5095611959006, 1.2658560833587844, 1.2658560833587844]"
      ]
     },
     "metadata": {},
     "output_type": "display_data"
    },
    {
     "data": {
      "text/plain": [
       "[463.69084313573455,\n",
       " 463.69084313573455,\n",
       " 1.8809414582717106,\n",
       " 1.8809414582717106]"
      ]
     },
     "metadata": {},
     "output_type": "display_data"
    },
    {
     "data": {
      "text/plain": [
       "[465.95378609251077,\n",
       " 465.95378609251077,\n",
       " 0.32802753235745075,\n",
       " 0.32802753235745075]"
      ]
     },
     "metadata": {},
     "output_type": "display_data"
    },
    {
     "data": {
      "text/plain": [
       "[468.3182909917552, 468.3182909917552, 1.2018578712973278, 1.2018578712973278]"
      ]
     },
     "metadata": {},
     "output_type": "display_data"
    },
    {
     "data": {
      "text/plain": [
       "[470.79094062969466, 470.79094062969466, 2.714686616754732, 2.714686616754732]"
      ]
     },
     "metadata": {},
     "output_type": "display_data"
    },
    {
     "data": {
      "text/plain": [
       "[473.3642702353695, 473.3642702353695, 1.3670837303943504, 1.3670837303943504]"
      ]
     },
     "metadata": {},
     "output_type": "display_data"
    },
    {
     "data": {
      "text/plain": [
       "[476.0204270199229, 476.0204270199229, 2.3520367392559267, 2.3520367392559267]"
      ]
     },
     "metadata": {},
     "output_type": "display_data"
    },
    {
     "data": {
      "text/plain": [
       "[478.746375473911, 478.746375473911, 0.9017665205003227, 0.9017665205003227]"
      ]
     },
     "metadata": {},
     "output_type": "display_data"
    },
    {
     "data": {
      "text/plain": [
       "[481.55445786260145,\n",
       " 481.55445786260145,\n",
       " -0.36501177539671925,\n",
       " -0.36501177539671925]"
      ]
     },
     "metadata": {},
     "output_type": "display_data"
    },
    {
     "data": {
      "text/plain": [
       "[484.45259892690336,\n",
       " 484.45259892690336,\n",
       " 3.3118546781527156,\n",
       " 3.3118546781527156]"
      ]
     },
     "metadata": {},
     "output_type": "display_data"
    },
    {
     "data": {
      "text/plain": [
       "[487.44219873661683,\n",
       " 487.44219873661683,\n",
       " -0.8940322320106073,\n",
       " -0.8940322320106073]"
      ]
     },
     "metadata": {},
     "output_type": "display_data"
    },
    {
     "data": {
      "text/plain": [
       "[490.53635218253123,\n",
       " 490.53635218253123,\n",
       " 0.17599130535542962,\n",
       " 0.17599130535542962]"
      ]
     },
     "metadata": {},
     "output_type": "display_data"
    },
    {
     "data": {
      "text/plain": [
       "[493.74454376704364,\n",
       " 493.74454376704364,\n",
       " 1.6934607421207923,\n",
       " 1.6934607421207923]"
      ]
     },
     "metadata": {},
     "output_type": "display_data"
    },
    {
     "data": {
      "text/plain": [
       "[497.0564388227559, 497.0564388227559, 1.7150893378736245, 1.7150893378736245]"
      ]
     },
     "metadata": {},
     "output_type": "display_data"
    },
    {
     "data": {
      "text/plain": [
       "[500.45896576890783, 500.45896576890783, 1.027330841807297, 1.027330841807297]"
      ]
     },
     "metadata": {},
     "output_type": "display_data"
    },
    {
     "data": {
      "text/plain": [
       "[503.93287702477426,\n",
       " 503.93287702477426,\n",
       " 0.5947242681237898,\n",
       " 0.5947242681237898]"
      ]
     },
     "metadata": {},
     "output_type": "display_data"
    },
    {
     "data": {
      "text/plain": [
       "[507.4686649303494, 507.4686649303494, 1.4780800340604954, 1.4780800340604954]"
      ]
     },
     "metadata": {},
     "output_type": "display_data"
    },
    {
     "data": {
      "text/plain": [
       "[511.0535980747055,\n",
       " 511.0535980747055,\n",
       " -1.0253833301448336,\n",
       " -1.0253833301448336]"
      ]
     },
     "metadata": {},
     "output_type": "display_data"
    },
    {
     "data": {
      "text/plain": [
       "[514.7070530794869, 514.7070530794869, 1.8489941774802312, 1.8489941774802312]"
      ]
     },
     "metadata": {},
     "output_type": "display_data"
    },
    {
     "data": {
      "text/plain": [
       "[518.4565756925501, 518.4565756925501, 3.7283822338671717, 3.7283822338671717]"
      ]
     },
     "metadata": {},
     "output_type": "display_data"
    },
    {
     "data": {
      "text/plain": [
       "[522.3001959468588, 522.3001959468588, 3.7078621404054166, 3.7078621404054166]"
      ]
     },
     "metadata": {},
     "output_type": "display_data"
    },
    {
     "data": {
      "text/plain": [
       "[526.2285954403382,\n",
       " 526.2285954403382,\n",
       " -0.3330398359936779,\n",
       " -0.3330398359936779]"
      ]
     },
     "metadata": {},
     "output_type": "display_data"
    },
    {
     "data": {
      "text/plain": [
       "[530.2474618428002, 530.2474618428002, -1.677269979340139, -1.677269979340139]"
      ]
     },
     "metadata": {},
     "output_type": "display_data"
    },
    {
     "data": {
      "text/plain": [
       "[534.3510842486154,\n",
       " 534.3510842486154,\n",
       " -1.7305789904620852,\n",
       " -1.7305789904620852]"
      ]
     },
     "metadata": {},
     "output_type": "display_data"
    },
    {
     "data": {
      "text/plain": [
       "[538.5476674288084, 538.5476674288084, 2.528361446726795, 2.528361446726795]"
      ]
     },
     "metadata": {},
     "output_type": "display_data"
    },
    {
     "data": {
      "text/plain": [
       "[542.8326101352393, 542.8326101352393, 3.073932501198337, 3.073932501198337]"
      ]
     },
     "metadata": {},
     "output_type": "display_data"
    },
    {
     "data": {
      "text/plain": [
       "[547.2038532424825, 547.2038532424825, 1.8998704537122513, 1.8998704537122513]"
      ]
     },
     "metadata": {},
     "output_type": "display_data"
    },
    {
     "data": {
      "text/plain": [
       "[551.6539841881963, 551.6539841881963, 3.2839412663182865, 3.2839412663182865]"
      ]
     },
     "metadata": {},
     "output_type": "display_data"
    },
    {
     "data": {
      "text/plain": [
       "[556.1886267003614, 556.1886267003614, 1.1726821413618096, 1.1726821413618096]"
      ]
     },
     "metadata": {},
     "output_type": "display_data"
    },
    {
     "data": {
      "text/plain": [
       "[560.8089762202019, 560.8089762202019, 1.3295884948463106, 1.3295884948463106]"
      ]
     },
     "metadata": {},
     "output_type": "display_data"
    },
    {
     "data": {
      "text/plain": [
       "[565.5377217865308,\n",
       " 565.5377217865308,\n",
       " -2.4283441978862275,\n",
       " -2.4283441978862275]"
      ]
     },
     "metadata": {},
     "output_type": "display_data"
    },
    {
     "data": {
      "text/plain": [
       "[570.3751419812618,\n",
       " 570.3751419812618,\n",
       " -0.8700011650945245,\n",
       " -0.8700011650945245]"
      ]
     },
     "metadata": {},
     "output_type": "display_data"
    },
    {
     "data": {
      "text/plain": [
       "[575.3100196507826, 575.3100196507826, 2.3942865636925608, 2.3942865636925608]"
      ]
     },
     "metadata": {},
     "output_type": "display_data"
    },
    {
     "data": {
      "text/plain": [
       "[580.3543668104053, 580.3543668104053, 1.40439853883065, 1.40439853883065]"
      ]
     },
     "metadata": {},
     "output_type": "display_data"
    },
    {
     "data": {
      "text/plain": [
       "[585.5120742599669,\n",
       " 585.5120742599669,\n",
       " -0.9542041322369106,\n",
       " -0.9542041322369106]"
      ]
     },
     "metadata": {},
     "output_type": "display_data"
    },
    {
     "data": {
      "text/plain": [
       "[590.776991113703, 590.776991113703, 0.7295997794328286, 0.7295997794328286]"
      ]
     },
     "metadata": {},
     "output_type": "display_data"
    },
    {
     "data": {
      "text/plain": [
       "[596.151123052334, 596.151123052334, 2.2851900571371897, 2.2851900571371897]"
      ]
     },
     "metadata": {},
     "output_type": "display_data"
    },
    {
     "data": {
      "text/plain": [
       "[601.6551421899808, 601.6551421899808, 1.0896880891820888, 1.0896880891820888]"
      ]
     },
     "metadata": {},
     "output_type": "display_data"
    },
    {
     "data": {
      "text/plain": [
       "[607.2922656988078, 607.2922656988078, 0.3388638530747762, 0.3388638530747762]"
      ]
     },
     "metadata": {},
     "output_type": "display_data"
    },
    {
     "data": {
      "text/plain": [
       "[613.0708298173257, 613.0708298173257, 1.4189832606229333, 1.4189832606229333]"
      ]
     },
     "metadata": {},
     "output_type": "display_data"
    },
    {
     "data": {
      "text/plain": [
       "[618.996038218009, 618.996038218009, 4.852854975359559, 4.852854975359559]"
      ]
     },
     "metadata": {},
     "output_type": "display_data"
    },
    {
     "data": {
      "text/plain": [
       "[625.0893401826958, 625.0893401826958, 1.567944257033718, 1.567944257033718]"
      ]
     },
     "metadata": {},
     "output_type": "display_data"
    },
    {
     "data": {
      "text/plain": [
       "[631.3619493614949, 631.3619493614949, 1.8120851278047334, 1.8120851278047334]"
      ]
     },
     "metadata": {},
     "output_type": "display_data"
    },
    {
     "data": {
      "text/plain": [
       "[637.8219970269073,\n",
       " 637.8219970269073,\n",
       " -1.0748211047350087,\n",
       " -1.0748211047350087]"
      ]
     },
     "metadata": {},
     "output_type": "display_data"
    },
    {
     "data": {
      "text/plain": [
       "[644.4775857173303, 644.4775857173303, 2.650480856148007, 2.650480856148007]"
      ]
     },
     "metadata": {},
     "output_type": "display_data"
    },
    {
     "data": {
      "text/plain": [
       "[651.3311922490054, 651.3311922490054, 1.6608455261097828, 1.6608455261097828]"
      ]
     },
     "metadata": {},
     "output_type": "display_data"
    },
    {
     "data": {
      "text/plain": [
       "[658.389213721582, 658.389213721582, 2.4368635076420073, 2.4368635076420073]"
      ]
     },
     "metadata": {},
     "output_type": "display_data"
    },
    {
     "data": {
      "text/plain": [
       "[665.6438698408643, 665.6438698408643, 0.9448701959885989, 0.9448701959885989]"
      ]
     },
     "metadata": {},
     "output_type": "display_data"
    },
    {
     "data": {
      "text/plain": [
       "[673.0958424373591,\n",
       " 673.0958424373591,\n",
       " -0.5142704408270999,\n",
       " -0.5142704408270999]"
      ]
     },
     "metadata": {},
     "output_type": "display_data"
    },
    {
     "data": {
      "text/plain": [
       "[680.7471564656682, 680.7471564656682, 2.4311960983992305, 2.4311960983992305]"
      ]
     },
     "metadata": {},
     "output_type": "display_data"
    },
    {
     "data": {
      "text/plain": [
       "[688.5958350105466, 688.5958350105466, 3.1564911799784476, 3.1564911799784476]"
      ]
     },
     "metadata": {},
     "output_type": "display_data"
    },
    {
     "data": {
      "text/plain": [
       "[696.6376656405408, 696.6376656405408, 1.5808201296997701, 1.5808201296997701]"
      ]
     },
     "metadata": {},
     "output_type": "display_data"
    },
    {
     "data": {
      "text/plain": [
       "[704.853533759641, 704.853533759641, 3.3406370831084837, 3.3406370831084837]"
      ]
     },
     "metadata": {},
     "output_type": "display_data"
    },
    {
     "data": {
      "text/plain": [
       "[713.2185052753675, 713.2185052753675, 1.3406885931150645, 1.3406885931150645]"
      ]
     },
     "metadata": {},
     "output_type": "display_data"
    },
    {
     "data": {
      "text/plain": [
       "[721.7292689953822, 721.7292689953822, 2.994355869244658, 2.994355869244658]"
      ]
     },
     "metadata": {},
     "output_type": "display_data"
    },
    {
     "data": {
      "text/plain": [
       "[730.3878914546833, 730.3878914546833, 1.7229001669636397, 1.7229001669636397]"
      ]
     },
     "metadata": {},
     "output_type": "display_data"
    },
    {
     "data": {
      "text/plain": [
       "[739.2034299678377, 739.2034299678377, 0.400160952166968, 0.400160952166968]"
      ]
     },
     "metadata": {},
     "output_type": "display_data"
    },
    {
     "data": {
      "text/plain": [
       "[748.1949546996782, 748.1949546996782, 1.4110371004516202, 1.4110371004516202]"
      ]
     },
     "metadata": {},
     "output_type": "display_data"
    },
    {
     "data": {
      "text/plain": [
       "[757.3759515470033, 757.3759515470033, 1.7096594417399293, 1.7096594417399293]"
      ]
     },
     "metadata": {},
     "output_type": "display_data"
    },
    {
     "data": {
      "text/plain": [
       "[766.7463003313401,\n",
       " 766.7463003313401,\n",
       " -1.2831555729150543,\n",
       " -1.2831555729150543]"
      ]
     },
     "metadata": {},
     "output_type": "display_data"
    },
    {
     "data": {
      "text/plain": [
       "[776.298373302922, 776.298373302922, -0.6582708647199531, -0.6582708647199531]"
      ]
     },
     "metadata": {},
     "output_type": "display_data"
    },
    {
     "data": {
      "text/plain": [
       "[786.0216578003829, 786.0216578003829, 0.3864279153558977, 0.3864279153558977]"
      ]
     },
     "metadata": {},
     "output_type": "display_data"
    },
    {
     "data": {
      "text/plain": [
       "[795.9165484656676, 795.9165484656676, 2.0658861006249847, 2.0658861006249847]"
      ]
     },
     "metadata": {},
     "output_type": "display_data"
    },
    {
     "data": {
      "text/plain": [
       "[805.9918251065724, 805.9918251065724, 1.0350698668211975, 1.0350698668211975]"
      ]
     },
     "metadata": {},
     "output_type": "display_data"
    },
    {
     "data": {
      "text/plain": [
       "[816.2360813090097, 816.2360813090097, 0.7551433466817008, 0.7551433466817008]"
      ]
     },
     "metadata": {},
     "output_type": "display_data"
    },
    {
     "data": {
      "text/plain": [
       "[826.6332683485132,\n",
       " 826.6332683485132,\n",
       " -0.5254246058837035,\n",
       " -0.5254246058837035]"
      ]
     },
     "metadata": {},
     "output_type": "display_data"
    },
    {
     "data": {
      "text/plain": [
       "[837.1655952323474, 837.1655952323474, -1.369672109140332, -1.369672109140332]"
      ]
     },
     "metadata": {},
     "output_type": "display_data"
    },
    {
     "data": {
      "text/plain": [
       "[847.8251560878869, 847.8251560878869, 0.3396240873400681, 0.3396240873400681]"
      ]
     },
     "metadata": {},
     "output_type": "display_data"
    },
    {
     "data": {
      "text/plain": [
       "[858.6055801466487, 858.6055801466487, 2.077774959996046, 2.077774959996046]"
      ]
     },
     "metadata": {},
     "output_type": "display_data"
    },
    {
     "data": {
      "text/plain": [
       "[869.4990889835229, 869.4990889835229, 2.7862049194077234, 2.7862049194077234]"
      ]
     },
     "metadata": {},
     "output_type": "display_data"
    },
    {
     "data": {
      "text/plain": [
       "[880.4998173738179, 880.4998173738179, 1.882522744769309, 1.882522744769309]"
      ]
     },
     "metadata": {},
     "output_type": "display_data"
    },
    {
     "data": {
      "text/plain": [
       "[891.5989836526331, 891.5989836526331, 2.16284140809477, 2.16284140809477]"
      ]
     },
     "metadata": {},
     "output_type": "display_data"
    },
    {
     "data": {
      "text/plain": [
       "[902.7993053158914, 902.7993053158914, -0.865818704355523, -0.865818704355523]"
      ]
     },
     "metadata": {},
     "output_type": "display_data"
    },
    {
     "data": {
      "text/plain": [
       "[914.1072352500055, 914.1072352500055, 1.0460001702329151, 1.0460001702329151]"
      ]
     },
     "metadata": {},
     "output_type": "display_data"
    },
    {
     "data": {
      "text/plain": [
       "[925.5256287985907, 925.5256287985907, 2.2669641316557385, 2.2669641316557385]"
      ]
     },
     "metadata": {},
     "output_type": "display_data"
    },
    {
     "data": {
      "text/plain": [
       "[937.0611442638755,\n",
       " 937.0611442638755,\n",
       " -0.01680807507388349,\n",
       " -0.01680807507388349]"
      ]
     },
     "metadata": {},
     "output_type": "display_data"
    },
    {
     "data": {
      "text/plain": [
       "[948.7176014984678, 948.7176014984678, -1.417664626046232, -1.417664626046232]"
      ]
     },
     "metadata": {},
     "output_type": "display_data"
    },
    {
     "data": {
      "text/plain": [
       "[960.4869634458886, 960.4869634458886, 1.88463954857129, 1.88463954857129]"
      ]
     },
     "metadata": {},
     "output_type": "display_data"
    },
    {
     "data": {
      "text/plain": [
       "[972.3635875153047, 972.3635875153047, 0.814919396850202, 0.814919396850202]"
      ]
     },
     "metadata": {},
     "output_type": "display_data"
    },
    {
     "data": {
      "text/plain": [
       "[984.3281234029611, 984.3281234029611, 2.241689460126522, 2.241689460126522]"
      ]
     },
     "metadata": {},
     "output_type": "display_data"
    },
    {
     "data": {
      "text/plain": [
       "[996.3594352790503, 996.3594352790503, 1.2774518257721557, 1.2774518257721557]"
      ]
     },
     "metadata": {},
     "output_type": "display_data"
    },
    {
     "data": {
      "text/plain": [
       "[1008.4329524549463,\n",
       " 1008.4329524549463,\n",
       " 2.5480244882125445,\n",
       " 2.5480244882125445]"
      ]
     },
     "metadata": {},
     "output_type": "display_data"
    },
    {
     "data": {
      "text/plain": [
       "[1020.5365833924598,\n",
       " 1020.5365833924598,\n",
       " 0.08900586284886547,\n",
       " 0.08900586284886547]"
      ]
     },
     "metadata": {},
     "output_type": "display_data"
    },
    {
     "data": {
      "text/plain": [
       "[1032.6623927158555,\n",
       " 1032.6623927158555,\n",
       " 1.0832883346302717,\n",
       " 1.0832883346302717]"
      ]
     },
     "metadata": {},
     "output_type": "display_data"
    },
    {
     "data": {
      "text/plain": [
       "[1044.8012807108246,\n",
       " 1044.8012807108246,\n",
       " 2.8807340187926824,\n",
       " 2.8807340187926824]"
      ]
     },
     "metadata": {},
     "output_type": "display_data"
    },
    {
     "data": {
      "text/plain": [
       "[1056.957462408659,\n",
       " 1056.957462408659,\n",
       " -0.13064381214947796,\n",
       " -0.13064381214947796]"
      ]
     },
     "metadata": {},
     "output_type": "display_data"
    },
    {
     "data": {
      "text/plain": [
       "[1069.1330423977208,\n",
       " 1069.1330423977208,\n",
       " 1.1100926005901617,\n",
       " 1.1100926005901617]"
      ]
     },
     "metadata": {},
     "output_type": "display_data"
    },
    {
     "data": {
      "text/plain": [
       "[1081.3275466126863, 1081.3275466126863, 2.046999360305238, 2.046999360305238]"
      ]
     },
     "metadata": {},
     "output_type": "display_data"
    },
    {
     "data": {
      "text/plain": [
       "[1093.5368687979083,\n",
       " 1093.5368687979083,\n",
       " 2.4592778564807203,\n",
       " 2.4592778564807203]"
      ]
     },
     "metadata": {},
     "output_type": "display_data"
    },
    {
     "data": {
      "text/plain": [
       "[1105.7468263981395,\n",
       " 1105.7468263981395,\n",
       " 0.6764826546574356,\n",
       " 0.6764826546574356]"
      ]
     },
     "metadata": {},
     "output_type": "display_data"
    },
    {
     "data": {
      "text/plain": [
       "[1117.956969970558, 1117.956969970558, 1.337873752292487, 1.337873752292487]"
      ]
     },
     "metadata": {},
     "output_type": "display_data"
    },
    {
     "data": {
      "text/plain": [
       "[1130.1710230276838,\n",
       " 1130.1710230276838,\n",
       " 1.7617567302621118,\n",
       " 1.7617567302621118]"
      ]
     },
     "metadata": {},
     "output_type": "display_data"
    },
    {
     "data": {
      "text/plain": [
       "[1142.3886466499057,\n",
       " 1142.3886466499057,\n",
       " 1.9046644015161855,\n",
       " 1.9046644015161855]"
      ]
     },
     "metadata": {},
     "output_type": "display_data"
    },
    {
     "data": {
      "text/plain": [
       "[1154.6171810553062,\n",
       " 1154.6171810553062,\n",
       " 1.3653433797662864,\n",
       " 1.3653433797662864]"
      ]
     },
     "metadata": {},
     "output_type": "display_data"
    },
    {
     "data": {
      "text/plain": [
       "[1166.8726586317025,\n",
       " 1166.8726586317025,\n",
       " 1.6840193801185181,\n",
       " 1.6840193801185181]"
      ]
     },
     "metadata": {},
     "output_type": "display_data"
    },
    {
     "data": {
      "text/plain": [
       "[1179.163004074358,\n",
       " 1179.163004074358,\n",
       " -0.3654724705928263,\n",
       " -0.3654724705928263]"
      ]
     },
     "metadata": {},
     "output_type": "display_data"
    },
    {
     "data": {
      "text/plain": [
       "[1191.479964978929, 1191.479964978929, 1.6251403240493159, 1.6251403240493159]"
      ]
     },
     "metadata": {},
     "output_type": "display_data"
    },
    {
     "data": {
      "text/plain": [
       "[1203.8170867740998,\n",
       " 1203.8170867740998,\n",
       " -0.09867626096193094,\n",
       " -0.09867626096193094]"
      ]
     },
     "metadata": {},
     "output_type": "display_data"
    },
    {
     "data": {
      "text/plain": [
       "[1216.1743236499053,\n",
       " 1216.1743236499053,\n",
       " 0.5699041375016418,\n",
       " 0.5699041375016418]"
      ]
     },
     "metadata": {},
     "output_type": "display_data"
    },
    {
     "data": {
      "text/plain": [
       "[1228.5460548762553, 1228.5460548762553, 2.452828397703806, 2.452828397703806]"
      ]
     },
     "metadata": {},
     "output_type": "display_data"
    },
    {
     "data": {
      "text/plain": [
       "[1240.9321662773261, 1240.9321662773261, 4.176823077414219, 4.176823077414219]"
      ]
     },
     "metadata": {},
     "output_type": "display_data"
    },
    {
     "data": {
      "text/plain": [
       "[1253.3256977322626,\n",
       " 1253.3256977322626,\n",
       " 0.7820242179105543,\n",
       " 0.7820242179105543]"
      ]
     },
     "metadata": {},
     "output_type": "display_data"
    },
    {
     "data": {
      "text/plain": [
       "[1265.7213413286718,\n",
       " 1265.7213413286718,\n",
       " 3.5453944279116434,\n",
       " 3.5453944279116434]"
      ]
     },
     "metadata": {},
     "output_type": "display_data"
    },
    {
     "data": {
      "text/plain": [
       "[1278.1209427232072,\n",
       " 1278.1209427232072,\n",
       " -2.742908089863378,\n",
       " -2.742908089863378]"
      ]
     },
     "metadata": {},
     "output_type": "display_data"
    },
    {
     "data": {
      "text/plain": [
       "[1290.518773364175, 1290.518773364175, 1.0425515373928684, 1.0425515373928684]"
      ]
     },
     "metadata": {},
     "output_type": "display_data"
    },
    {
     "data": {
      "text/plain": [
       "[1302.914310618994, 1302.914310618994, 3.6971402522996257, 3.6971402522996257]"
      ]
     },
     "metadata": {},
     "output_type": "display_data"
    },
    {
     "data": {
      "text/plain": [
       "[1315.3008361938241,\n",
       " 1315.3008361938241,\n",
       " 1.4132489244120587,\n",
       " 1.4132489244120587]"
      ]
     },
     "metadata": {},
     "output_type": "display_data"
    },
    {
     "data": {
      "text/plain": [
       "[1327.658402790982, 1327.658402790982, 2.4401893315444654, 2.4401893315444654]"
      ]
     },
     "metadata": {},
     "output_type": "display_data"
    },
    {
     "data": {
      "text/plain": [
       "[1339.975121015608, 1339.975121015608, 3.069940293292076, 3.069940293292076]"
      ]
     },
     "metadata": {},
     "output_type": "display_data"
    },
    {
     "data": {
      "text/plain": [
       "[1352.2395964704526,\n",
       " 1352.2395964704526,\n",
       " -0.2930820722571106,\n",
       " -0.2930820722571106]"
      ]
     },
     "metadata": {},
     "output_type": "display_data"
    },
    {
     "data": {
      "text/plain": [
       "[1364.4331552374927,\n",
       " 1364.4331552374927,\n",
       " 1.0957208883273062,\n",
       " 1.0957208883273062]"
      ]
     },
     "metadata": {},
     "output_type": "display_data"
    },
    {
     "data": {
      "text/plain": [
       "[1376.565322015813,\n",
       " 1376.565322015813,\n",
       " 0.14981640206074132,\n",
       " 0.14981640206074132]"
      ]
     },
     "metadata": {},
     "output_type": "display_data"
    },
    {
     "data": {
      "text/plain": [
       "[1388.6509914911, 1388.6509914911, 2.1181568420131485, 2.1181568420131485]"
      ]
     },
     "metadata": {},
     "output_type": "display_data"
    },
    {
     "data": {
      "text/plain": [
       "[1400.690847893, 1400.690847893, -0.24361392972689777, -0.24361392972689777]"
      ]
     },
     "metadata": {},
     "output_type": "display_data"
    },
    {
     "data": {
      "text/plain": [
       "[1412.6977560347368,\n",
       " 1412.6977560347368,\n",
       " 2.6019494197109676,\n",
       " 2.6019494197109676]"
      ]
     },
     "metadata": {},
     "output_type": "display_data"
    },
    {
     "data": {
      "text/plain": [
       "[1424.6663189572903, 1424.6663189572903, 2.232384382950004, 2.232384382950004]"
      ]
     },
     "metadata": {},
     "output_type": "display_data"
    },
    {
     "data": {
      "text/plain": [
       "[1436.6033091113786,\n",
       " 1436.6033091113786,\n",
       " 0.4758181148319752,\n",
       " 0.4758181148319752]"
      ]
     },
     "metadata": {},
     "output_type": "display_data"
    },
    {
     "data": {
      "text/plain": [
       "[1448.5081304119133, 1448.5081304119133, 4.338413432741875, 4.338413432741875]"
      ]
     },
     "metadata": {},
     "output_type": "display_data"
    },
    {
     "data": {
      "text/plain": [
       "[1460.3929867279435,\n",
       " 1460.3929867279435,\n",
       " -1.2660085742233185,\n",
       " -1.2660085742233185]"
      ]
     },
     "metadata": {},
     "output_type": "display_data"
    },
    {
     "data": {
      "text/plain": [
       "[1472.2520687683632,\n",
       " 1472.2520687683632,\n",
       " -0.8245921105775837,\n",
       " -0.8245921105775837]"
      ]
     },
     "metadata": {},
     "output_type": "display_data"
    },
    {
     "data": {
      "text/plain": [
       "[1484.088171549903, 1484.088171549903, 1.1943759407752481, 1.1943759407752481]"
      ]
     },
     "metadata": {},
     "output_type": "display_data"
    },
    {
     "data": {
      "text/plain": [
       "[1495.909069835151,\n",
       " 1495.909069835151,\n",
       " -0.24314025379110848,\n",
       " -0.24314025379110848]"
      ]
     },
     "metadata": {},
     "output_type": "display_data"
    },
    {
     "data": {
      "text/plain": [
       "[1507.733962310759, 1507.733962310759, 0.9403594103886429, 0.9403594103886429]"
      ]
     },
     "metadata": {},
     "output_type": "display_data"
    },
    {
     "data": {
      "text/plain": [
       "[1519.561629638613, 1519.561629638613, 2.0805013863210675, 2.0805013863210675]"
      ]
     },
     "metadata": {},
     "output_type": "display_data"
    },
    {
     "data": {
      "text/plain": [
       "[1531.3730918447948, 1531.3730918447948, 1.735095038118146, 1.735095038118146]"
      ]
     },
     "metadata": {},
     "output_type": "display_data"
    },
    {
     "data": {
      "text/plain": [
       "[1543.150890793644,\n",
       " 1543.150890793644,\n",
       " -1.0588961899560918,\n",
       " -1.0588961899560918]"
      ]
     },
     "metadata": {},
     "output_type": "display_data"
    },
    {
     "data": {
      "text/plain": [
       "[1554.8775586440865,\n",
       " 1554.8775586440865,\n",
       " -0.17008336734797425,\n",
       " -0.17008336734797425]"
      ]
     },
     "metadata": {},
     "output_type": "display_data"
    },
    {
     "data": {
      "text/plain": [
       "[1566.547361356005, 1566.547361356005, 2.69005912949391, 2.69005912949391]"
      ]
     },
     "metadata": {},
     "output_type": "display_data"
    },
    {
     "data": {
      "text/plain": [
       "[1578.1551505454663,\n",
       " 1578.1551505454663,\n",
       " 0.9089686884074883,\n",
       " 0.9089686884074883]"
      ]
     },
     "metadata": {},
     "output_type": "display_data"
    },
    {
     "data": {
      "text/plain": [
       "[1589.690783534577, 1589.690783534577, 3.556682847547778, 3.556682847547778]"
      ]
     },
     "metadata": {},
     "output_type": "display_data"
    },
    {
     "data": {
      "text/plain": [
       "[1601.1475940020925, 1601.1475940020925, 2.264976318904647, 2.264976318904647]"
      ]
     },
     "metadata": {},
     "output_type": "display_data"
    },
    {
     "data": {
      "text/plain": [
       "[1612.523169022805,\n",
       " 1612.523169022805,\n",
       " -0.5489553547648203,\n",
       " -0.5489553547648203]"
      ]
     },
     "metadata": {},
     "output_type": "display_data"
    },
    {
     "data": {
      "text/plain": [
       "[1623.8121999010423,\n",
       " 1623.8121999010423,\n",
       " -0.8039309223573208,\n",
       " -0.8039309223573208]"
      ]
     },
     "metadata": {},
     "output_type": "display_data"
    },
    {
     "data": {
      "text/plain": [
       "[1635.004631625746,\n",
       " 1635.004631625746,\n",
       " -0.006309935604970729,\n",
       " -0.006309935604970729]"
      ]
     },
     "metadata": {},
     "output_type": "display_data"
    },
    {
     "data": {
      "text/plain": [
       "[1646.1094042414084,\n",
       " 1646.1094042414084,\n",
       " -0.9561758069994613,\n",
       " -0.9561758069994613]"
      ]
     },
     "metadata": {},
     "output_type": "display_data"
    },
    {
     "data": {
      "text/plain": [
       "[1657.1397224276084,\n",
       " 1657.1397224276084,\n",
       " 1.5755840974514315,\n",
       " 1.5755840974514315]"
      ]
     },
     "metadata": {},
     "output_type": "display_data"
    },
    {
     "data": {
      "text/plain": [
       "[1668.0994762786736,\n",
       " 1668.0994762786736,\n",
       " 1.3375724791206922,\n",
       " 1.3375724791206922]"
      ]
     },
     "metadata": {},
     "output_type": "display_data"
    },
    {
     "data": {
      "text/plain": [
       "[1678.9845262138701,\n",
       " 1678.9845262138701,\n",
       " 4.3342665033875925,\n",
       " 4.3342665033875925]"
      ]
     },
     "metadata": {},
     "output_type": "display_data"
    },
    {
     "data": {
      "text/plain": [
       "[1689.7936379887062,\n",
       " 1689.7936379887062,\n",
       " -0.7523378268407701,\n",
       " -0.7523378268407701]"
      ]
     },
     "metadata": {},
     "output_type": "display_data"
    },
    {
     "data": {
      "text/plain": [
       "[1700.5234627961822,\n",
       " 1700.5234627961822,\n",
       " -0.673560679676152,\n",
       " -0.673560679676152]"
      ]
     },
     "metadata": {},
     "output_type": "display_data"
    },
    {
     "data": {
      "text/plain": [
       "[1711.1766750689392,\n",
       " 1711.1766750689392,\n",
       " 1.8572725244081634,\n",
       " 1.8572725244081634]"
      ]
     },
     "metadata": {},
     "output_type": "display_data"
    },
    {
     "data": {
      "text/plain": [
       "[1721.7450938532202,\n",
       " 1721.7450938532202,\n",
       " -2.056466242618254,\n",
       " -2.056466242618254]"
      ]
     },
     "metadata": {},
     "output_type": "display_data"
    },
    {
     "data": {
      "text/plain": [
       "[1732.2121994317793,\n",
       " 1732.2121994317793,\n",
       " 1.0688697866547143,\n",
       " 1.0688697866547143]"
      ]
     },
     "metadata": {},
     "output_type": "display_data"
    },
    {
     "data": {
      "text/plain": [
       "[1742.5671593204981,\n",
       " 1742.5671593204981,\n",
       " 0.9296201284322319,\n",
       " 0.9296201284322319]"
      ]
     },
     "metadata": {},
     "output_type": "display_data"
    },
    {
     "data": {
      "text/plain": [
       "[1752.7855885211422,\n",
       " 1752.7855885211422,\n",
       " 1.3500800740701593,\n",
       " 1.3500800740701593]"
      ]
     },
     "metadata": {},
     "output_type": "display_data"
    },
    {
     "data": {
      "text/plain": [
       "[1762.8735389426347,\n",
       " 1762.8735389426347,\n",
       " 2.1045959157852274,\n",
       " 2.1045959157852274]"
      ]
     },
     "metadata": {},
     "output_type": "display_data"
    },
    {
     "data": {
      "text/plain": [
       "[1772.826225417993, 1772.826225417993, 1.5995325379665455, 1.5995325379665455]"
      ]
     },
     "metadata": {},
     "output_type": "display_data"
    },
    {
     "data": {
      "text/plain": [
       "[1782.6232563640472,\n",
       " 1782.6232563640472,\n",
       " 0.4235719751747876,\n",
       " 0.4235719751747876]"
      ]
     },
     "metadata": {},
     "output_type": "display_data"
    },
    {
     "data": {
      "text/plain": [
       "[1792.2610325408482,\n",
       " 1792.2610325408482,\n",
       " 1.9840573413490126,\n",
       " 1.9840573413490126]"
      ]
     },
     "metadata": {},
     "output_type": "display_data"
    },
    {
     "data": {
      "text/plain": [
       "[1801.7475555154128,\n",
       " 1801.7475555154128,\n",
       " 2.3106504500317486,\n",
       " 2.3106504500317486]"
      ]
     },
     "metadata": {},
     "output_type": "display_data"
    },
    {
     "data": {
      "text/plain": [
       "[1811.0753574949993,\n",
       " 1811.0753574949993,\n",
       " 1.7252596256564723,\n",
       " 1.7252596256564723]"
      ]
     },
     "metadata": {},
     "output_type": "display_data"
    },
    {
     "data": {
      "text/plain": [
       "[1820.2414953930904,\n",
       " 1820.2414953930904,\n",
       " 2.6413232637566386,\n",
       " 2.6413232637566386]"
      ]
     },
     "metadata": {},
     "output_type": "display_data"
    },
    {
     "data": {
      "text/plain": [
       "[1829.267345469862, 1829.267345469862, 1.5922308261080977, 1.5922308261080977]"
      ]
     },
     "metadata": {},
     "output_type": "display_data"
    },
    {
     "data": {
      "text/plain": [
       "[1838.1765325050192,\n",
       " 1838.1765325050192,\n",
       " 0.9404472399329873,\n",
       " 0.9404472399329873]"
      ]
     },
     "metadata": {},
     "output_type": "display_data"
    },
    {
     "data": {
      "text/plain": [
       "[1846.971600577627, 1846.971600577627, 1.3928879305916473, 1.3928879305916473]"
      ]
     },
     "metadata": {},
     "output_type": "display_data"
    },
    {
     "data": {
      "text/plain": [
       "[1855.6601735699928,\n",
       " 1855.6601735699928,\n",
       " -0.41536193065994076,\n",
       " -0.41536193065994076]"
      ]
     },
     "metadata": {},
     "output_type": "display_data"
    },
    {
     "data": {
      "text/plain": [
       "[1864.2571215225832, 1864.2571215225832, 3.168501480232157, 3.168501480232157]"
      ]
     },
     "metadata": {},
     "output_type": "display_data"
    },
    {
     "data": {
      "text/plain": [
       "[1872.7710847371654, 1872.7710847371654, 2.3362957303169, 2.3362957303169]"
      ]
     },
     "metadata": {},
     "output_type": "display_data"
    },
    {
     "data": {
      "text/plain": [
       "[1881.1983560114181,\n",
       " 1881.1983560114181,\n",
       " 2.8502279647436106,\n",
       " 2.8502279647436106]"
      ]
     },
     "metadata": {},
     "output_type": "display_data"
    },
    {
     "data": {
      "text/plain": [
       "[1889.531287751898,\n",
       " 1889.531287751898,\n",
       " 0.33254613331088534,\n",
       " 0.33254613331088534]"
      ]
     },
     "metadata": {},
     "output_type": "display_data"
    },
    {
     "data": {
      "text/plain": [
       "[1897.7762538413353,\n",
       " 1897.7762538413353,\n",
       " -0.9692736546648328,\n",
       " -0.9692736546648328]"
      ]
     },
     "metadata": {},
     "output_type": "display_data"
    },
    {
     "data": {
      "text/plain": [
       "[1905.932384369632, 1905.932384369632, 2.9486830530459347, 2.9486830530459347]"
      ]
     },
     "metadata": {},
     "output_type": "display_data"
    },
    {
     "data": {
      "text/plain": [
       "[1076.9739059946005,\n",
       " 1076.9739059946005,\n",
       " -0.4901214597503145,\n",
       " -0.4901214597503145]"
      ]
     },
     "metadata": {},
     "output_type": "display_data"
    },
    {
     "data": {
      "text/plain": [
       "[1076.9680027003042, 1076.9680027003042, 5.333023143016544, 5.333023143016544]"
      ]
     },
     "metadata": {},
     "output_type": "display_data"
    },
    {
     "data": {
      "text/plain": [
       "[1076.934884953625,\n",
       " 1076.934884953625,\n",
       " -0.013445540797909494,\n",
       " -0.013445540797909494]"
      ]
     },
     "metadata": {},
     "output_type": "display_data"
    },
    {
     "data": {
      "text/plain": [
       "[1076.8666310397166, 1076.8666310397166, 2.056455030247136, 2.056455030247136]"
      ]
     },
     "metadata": {},
     "output_type": "display_data"
    },
    {
     "data": {
      "text/plain": [
       "[1076.7613729726947,\n",
       " 1076.7613729726947,\n",
       " 0.21441423948993427,\n",
       " 0.21441423948993427]"
      ]
     },
     "metadata": {},
     "output_type": "display_data"
    },
    {
     "data": {
      "text/plain": [
       "[1076.6049960054763, 1076.6049960054763, 2.305638506237017, 2.305638506237017]"
      ]
     },
     "metadata": {},
     "output_type": "display_data"
    },
    {
     "data": {
      "text/plain": [
       "[1076.3992512600848,\n",
       " 1076.3992512600848,\n",
       " 1.1367687385577243,\n",
       " 1.1367687385577243]"
      ]
     },
     "metadata": {},
     "output_type": "display_data"
    },
    {
     "data": {
      "text/plain": [
       "[1076.1471659063734,\n",
       " 1076.1471659063734,\n",
       " 2.6659101859423564,\n",
       " 2.6659101859423564]"
      ]
     },
     "metadata": {},
     "output_type": "display_data"
    },
    {
     "data": {
      "text/plain": [
       "[1075.8456631628912, 1075.8456631628912, -2.9817962097229, -2.9817962097229]"
      ]
     },
     "metadata": {},
     "output_type": "display_data"
    },
    {
     "data": {
      "text/plain": [
       "[1075.5056382732473,\n",
       " 1075.5056382732473,\n",
       " -0.8657399177726686,\n",
       " -0.8657399177726686]"
      ]
     },
     "metadata": {},
     "output_type": "display_data"
    },
    {
     "data": {
      "text/plain": [
       "[1075.139974048526, 1075.139974048526, 2.2297067350346325, 2.2297067350346325]"
      ]
     },
     "metadata": {},
     "output_type": "display_data"
    },
    {
     "data": {
      "text/plain": [
       "[1074.7589820281314,\n",
       " 1074.7589820281314,\n",
       " -2.0955239910643053,\n",
       " -2.0955239910643053]"
      ]
     },
     "metadata": {},
     "output_type": "display_data"
    },
    {
     "data": {
      "text/plain": [
       "[1074.3527563815608,\n",
       " 1074.3527563815608,\n",
       " 0.1506221382011657,\n",
       " 0.1506221382011657]"
      ]
     },
     "metadata": {},
     "output_type": "display_data"
    },
    {
     "data": {
      "text/plain": [
       "[1073.9157972573696,\n",
       " 1073.9157972573696,\n",
       " -2.0708163426153456,\n",
       " -2.0708163426153456]"
      ]
     },
     "metadata": {},
     "output_type": "display_data"
    },
    {
     "data": {
      "text/plain": [
       "[1073.4448506326203,\n",
       " 1073.4448506326203,\n",
       " 0.029096851142387248,\n",
       " 0.029096851142387248]"
      ]
     },
     "metadata": {},
     "output_type": "display_data"
    },
    {
     "data": {
      "text/plain": [
       "[1072.945463582818,\n",
       " 1072.945463582818,\n",
       " -1.6401509323047954,\n",
       " -1.6401509323047954]"
      ]
     },
     "metadata": {},
     "output_type": "display_data"
    },
    {
     "data": {
      "text/plain": [
       "[1072.4124034350266,\n",
       " 1072.4124034350266,\n",
       " -0.13838233563337088,\n",
       " -0.13838233563337088]"
      ]
     },
     "metadata": {},
     "output_type": "display_data"
    },
    {
     "data": {
      "text/plain": [
       "[1071.8424053095832, 1071.8424053095832, 1.966664009844426, 1.966664009844426]"
      ]
     },
     "metadata": {},
     "output_type": "display_data"
    },
    {
     "data": {
      "text/plain": [
       "[1071.2446207749554,\n",
       " 1071.2446207749554,\n",
       " -1.4981762608520208,\n",
       " -1.4981762608520208]"
      ]
     },
     "metadata": {},
     "output_type": "display_data"
    },
    {
     "data": {
      "text/plain": [
       "[1070.6197174315164,\n",
       " 1070.6197174315164,\n",
       " 0.5472240052815631,\n",
       " 0.5472240052815631]"
      ]
     },
     "metadata": {},
     "output_type": "display_data"
    },
    {
     "data": {
      "text/plain": [
       "[1069.9688567925548,\n",
       " 1069.9688567925548,\n",
       " 0.7057791225496566,\n",
       " 0.7057791225496566]"
      ]
     },
     "metadata": {},
     "output_type": "display_data"
    },
    {
     "data": {
      "text/plain": [
       "[1069.2970593809096,\n",
       " 1069.2970593809096,\n",
       " 2.4880832718833052,\n",
       " 2.4880832718833052]"
      ]
     },
     "metadata": {},
     "output_type": "display_data"
    },
    {
     "data": {
      "text/plain": [
       "[1068.6119167948627,\n",
       " 1068.6119167948627,\n",
       " 1.1959049539644075,\n",
       " 1.1959049539644075]"
      ]
     },
     "metadata": {},
     "output_type": "display_data"
    },
    {
     "data": {
      "text/plain": [
       "[1067.9310890853494,\n",
       " 1067.9310890853494,\n",
       " 2.3171919298157726,\n",
       " 2.3171919298157726]"
      ]
     },
     "metadata": {},
     "output_type": "display_data"
    },
    {
     "data": {
      "text/plain": [
       "[1067.2559528005925,\n",
       " 1067.2559528005925,\n",
       " -0.6741990607153872,\n",
       " -0.6741990607153872]"
      ]
     },
     "metadata": {},
     "output_type": "display_data"
    },
    {
     "data": {
      "text/plain": [
       "[1066.5757182623781,\n",
       " 1066.5757182623781,\n",
       " -1.9005047493500775,\n",
       " -1.9005047493500775]"
      ]
     },
     "metadata": {},
     "output_type": "display_data"
    },
    {
     "data": {
      "text/plain": [
       "[1065.8878527072052,\n",
       " 1065.8878527072052,\n",
       " -0.2792748354391039,\n",
       " -0.2792748354391039]"
      ]
     },
     "metadata": {},
     "output_type": "display_data"
    },
    {
     "data": {
      "text/plain": [
       "[1065.202868207097, 1065.202868207097, 1.2217217053035316, 1.2217217053035316]"
      ]
     },
     "metadata": {},
     "output_type": "display_data"
    },
    {
     "data": {
      "text/plain": [
       "[1064.5235950547387,\n",
       " 1064.5235950547387,\n",
       " 0.3120345520639788,\n",
       " 0.3120345520639788]"
      ]
     },
     "metadata": {},
     "output_type": "display_data"
    },
    {
     "data": {
      "text/plain": [
       "[1063.8398353370826,\n",
       " 1063.8398353370826,\n",
       " -0.7252147761659888,\n",
       " -0.7252147761659888]"
      ]
     },
     "metadata": {},
     "output_type": "display_data"
    },
    {
     "data": {
      "text/plain": [
       "[1063.1248971884581,\n",
       " 1063.1248971884581,\n",
       " 3.5251231064493873,\n",
       " 3.5251231064493873]"
      ]
     },
     "metadata": {},
     "output_type": "display_data"
    },
    {
     "data": {
      "text/plain": [
       "[1062.3730111784594,\n",
       " 1062.3730111784594,\n",
       " -0.077992838863292,\n",
       " -0.077992838863292]"
      ]
     },
     "metadata": {},
     "output_type": "display_data"
    },
    {
     "data": {
      "text/plain": [
       "[1061.5858749802892,\n",
       " 1061.5858749802892,\n",
       " 0.39304225190760667,\n",
       " 0.39304225190760667]"
      ]
     },
     "metadata": {},
     "output_type": "display_data"
    },
    {
     "data": {
      "text/plain": [
       "[1060.7711440924572,\n",
       " 1060.7711440924572,\n",
       " 0.7838970076200942,\n",
       " 0.7838970076200942]"
      ]
     },
     "metadata": {},
     "output_type": "display_data"
    },
    {
     "data": {
      "text/plain": [
       "[1059.9207406191804, 1059.9207406191804, 2.569491851239079, 2.569491851239079]"
      ]
     },
     "metadata": {},
     "output_type": "display_data"
    },
    {
     "data": {
      "text/plain": [
       "[1059.0545644778877,\n",
       " 1059.0545644778877,\n",
       " -1.7212094794227584,\n",
       " -1.7212094794227584]"
      ]
     },
     "metadata": {},
     "output_type": "display_data"
    },
    {
     "data": {
      "text/plain": [
       "[1058.1794579005766,\n",
       " 1058.1794579005766,\n",
       " 0.6098228178443736,\n",
       " 0.6098228178443736]"
      ]
     },
     "metadata": {},
     "output_type": "display_data"
    },
    {
     "data": {
      "text/plain": [
       "[1057.2862118395947,\n",
       " 1057.2862118395947,\n",
       " -0.34555583217248487,\n",
       " -0.34555583217248487]"
      ]
     },
     "metadata": {},
     "output_type": "display_data"
    },
    {
     "data": {
      "text/plain": [
       "[1056.366022714938, 1056.366022714938, 3.606384335117941, 3.606384335117941]"
      ]
     },
     "metadata": {},
     "output_type": "display_data"
    },
    {
     "data": {
      "text/plain": [
       "[1055.4178495606973, 1055.4178495606973, 2.666299233652067, 2.666299233652067]"
      ]
     },
     "metadata": {},
     "output_type": "display_data"
    },
    {
     "data": {
      "text/plain": [
       "[1054.4483160398809,\n",
       " 1054.4483160398809,\n",
       " 1.0817508359388783,\n",
       " 1.0817508359388783]"
      ]
     },
     "metadata": {},
     "output_type": "display_data"
    },
    {
     "data": {
      "text/plain": [
       "[1053.4510378376658,\n",
       " 1053.4510378376658,\n",
       " 0.7902292620403184,\n",
       " 0.7902292620403184]"
      ]
     },
     "metadata": {},
     "output_type": "display_data"
    },
    {
     "data": {
      "text/plain": [
       "[1052.4397973420296,\n",
       " 1052.4397973420296,\n",
       " 0.3745159587063984,\n",
       " 0.3745159587063984]"
      ]
     },
     "metadata": {},
     "output_type": "display_data"
    },
    {
     "data": {
      "text/plain": [
       "[1051.4231633119396, 1051.4231633119396, 1.380105730030233, 1.380105730030233]"
      ]
     },
     "metadata": {},
     "output_type": "display_data"
    },
    {
     "data": {
      "text/plain": [
       "[1050.3992632511508,\n",
       " 1050.3992632511508,\n",
       " 2.1710487779844945,\n",
       " 2.1710487779844945]"
      ]
     },
     "metadata": {},
     "output_type": "display_data"
    },
    {
     "data": {
      "text/plain": [
       "[1049.3693525464898,\n",
       " 1049.3693525464898,\n",
       " 0.26077107531542365,\n",
       " 0.26077107531542365]"
      ]
     },
     "metadata": {},
     "output_type": "display_data"
    },
    {
     "data": {
      "text/plain": [
       "[1048.3390939053209, 1048.3390939053209, 1.939668216722839, 1.939668216722839]"
      ]
     },
     "metadata": {},
     "output_type": "display_data"
    },
    {
     "data": {
      "text/plain": [
       "[1047.3039284157583,\n",
       " 1047.3039284157583,\n",
       " -0.6604589782518582,\n",
       " -0.6604589782518582]"
      ]
     },
     "metadata": {},
     "output_type": "display_data"
    },
    {
     "data": {
      "text/plain": [
       "[1046.270175769453, 1046.270175769453, 2.26545862862854, 2.26545862862854]"
      ]
     },
     "metadata": {},
     "output_type": "display_data"
    },
    {
     "data": {
      "text/plain": [
       "[1045.231002942802, 1045.231002942802, 4.8909938939543025, 4.8909938939543025]"
      ]
     },
     "metadata": {},
     "output_type": "display_data"
    },
    {
     "data": {
      "text/plain": [
       "[1044.1779925502185,\n",
       " 1044.1779925502185,\n",
       " 2.0936632491742064,\n",
       " 2.0936632491742064]"
      ]
     },
     "metadata": {},
     "output_type": "display_data"
    },
    {
     "data": {
      "text/plain": [
       "[1043.1168952583316,\n",
       " 1043.1168952583316,\n",
       " -0.0743408087019386,\n",
       " -0.0743408087019386]"
      ]
     },
     "metadata": {},
     "output_type": "display_data"
    },
    {
     "data": {
      "text/plain": [
       "[1042.055293204201, 1042.055293204201, 3.4229903762232974, 3.4229903762232974]"
      ]
     },
     "metadata": {},
     "output_type": "display_data"
    },
    {
     "data": {
      "text/plain": [
       "[1041.0073167912765,\n",
       " 1041.0073167912765,\n",
       " 1.2492750174058966,\n",
       " 1.2492750174058966]"
      ]
     },
     "metadata": {},
     "output_type": "display_data"
    },
    {
     "data": {
      "text/plain": [
       "[1039.9589782557075,\n",
       " 1039.9589782557075,\n",
       " 0.8244102438188241,\n",
       " 0.8244102438188241]"
      ]
     },
     "metadata": {},
     "output_type": "display_data"
    },
    {
     "data": {
      "text/plain": [
       "[1038.9059955019443,\n",
       " 1038.9059955019443,\n",
       " 0.15853259240023554,\n",
       " 0.15853259240023554]"
      ]
     },
     "metadata": {},
     "output_type": "display_data"
    },
    {
     "data": {
      "text/plain": [
       "[1037.8363129820584,\n",
       " 1037.8363129820584,\n",
       " -0.1350244594645924,\n",
       " -0.1350244594645924]"
      ]
     },
     "metadata": {},
     "output_type": "display_data"
    },
    {
     "data": {
      "text/plain": [
       "[1036.7415904573782, 1036.7415904573782, 1.190593087869002, 1.190593087869002]"
      ]
     },
     "metadata": {},
     "output_type": "display_data"
    },
    {
     "data": {
      "text/plain": [
       "[1035.6277799741642, 1035.6277799741642, 2.481771340967054, 2.481771340967054]"
      ]
     },
     "metadata": {},
     "output_type": "display_data"
    },
    {
     "data": {
      "text/plain": [
       "[1034.4862562500357,\n",
       " 1034.4862562500357,\n",
       " 0.9875972773393754,\n",
       " 0.9875972773393754]"
      ]
     },
     "metadata": {},
     "output_type": "display_data"
    },
    {
     "data": {
      "text/plain": [
       "[1033.302500584269, 1033.302500584269, 4.847190211656471, 4.847190211656471]"
      ]
     },
     "metadata": {},
     "output_type": "display_data"
    },
    {
     "data": {
      "text/plain": [
       "[1032.058270032039, 1032.058270032039, 2.9276480344851223, 2.9276480344851223]"
      ]
     },
     "metadata": {},
     "output_type": "display_data"
    },
    {
     "data": {
      "text/plain": [
       "[1030.730726398054, 1030.730726398054, 2.0746654442806385, 2.0746654442806385]"
      ]
     },
     "metadata": {},
     "output_type": "display_data"
    },
    {
     "data": {
      "text/plain": [
       "[1029.312431093364,\n",
       " 1029.312431093364,\n",
       " -0.4445517465482689,\n",
       " -0.4445517465482689]"
      ]
     },
     "metadata": {},
     "output_type": "display_data"
    },
    {
     "data": {
      "text/plain": [
       "[1027.7985662577921,\n",
       " 1027.7985662577921,\n",
       " -1.1386324226305011,\n",
       " -1.1386324226305011]"
      ]
     },
     "metadata": {},
     "output_type": "display_data"
    },
    {
     "data": {
      "text/plain": [
       "[1026.1864611913613,\n",
       " 1026.1864611913613,\n",
       " -0.041039323383732285,\n",
       " -0.041039323383732285]"
      ]
     },
     "metadata": {},
     "output_type": "display_data"
    },
    {
     "data": {
      "text/plain": [
       "[1024.4672558766606,\n",
       " 1024.4672558766606,\n",
       " 1.0247929387800105,\n",
       " 1.0247929387800105]"
      ]
     },
     "metadata": {},
     "output_type": "display_data"
    },
    {
     "data": {
      "text/plain": [
       "[1022.6502174313495,\n",
       " 1022.6502174313495,\n",
       " 0.8524750434391924,\n",
       " 0.8524750434391924]"
      ]
     },
     "metadata": {},
     "output_type": "display_data"
    },
    {
     "data": {
      "text/plain": [
       "[1020.7643923241993,\n",
       " 1020.7643923241993,\n",
       " 1.9707179173461582,\n",
       " 1.9707179173461582]"
      ]
     },
     "metadata": {},
     "output_type": "display_data"
    },
    {
     "data": {
      "text/plain": [
       "[1018.8253939035937,\n",
       " 1018.8253939035937,\n",
       " -0.950450509651512,\n",
       " -0.950450509651512]"
      ]
     },
     "metadata": {},
     "output_type": "display_data"
    },
    {
     "data": {
      "text/plain": [
       "[1016.8186975373843,\n",
       " 1016.8186975373843,\n",
       " 1.7672791395663108,\n",
       " 1.7672791395663108]"
      ]
     },
     "metadata": {},
     "output_type": "display_data"
    },
    {
     "data": {
      "text/plain": [
       "[1014.7250140125664,\n",
       " 1014.7250140125664,\n",
       " 1.5832835502549927,\n",
       " 1.5832835502549927]"
      ]
     },
     "metadata": {},
     "output_type": "display_data"
    },
    {
     "data": {
      "text/plain": [
       "[1012.5234084456431,\n",
       " 1012.5234084456431,\n",
       " 0.9276565374073843,\n",
       " 0.9276565374073843]"
      ]
     },
     "metadata": {},
     "output_type": "display_data"
    },
    {
     "data": {
      "text/plain": [
       "[1010.2015323046743,\n",
       " 1010.2015323046743,\n",
       " 1.0688632499061155,\n",
       " 1.0688632499061155]"
      ]
     },
     "metadata": {},
     "output_type": "display_data"
    },
    {
     "data": {
      "text/plain": [
       "[1007.7671822136624,\n",
       " 1007.7671822136624,\n",
       " 2.8358875398152072,\n",
       " 2.8358875398152072]"
      ]
     },
     "metadata": {},
     "output_type": "display_data"
    },
    {
     "data": {
      "text/plain": [
       "[1005.2135655169081,\n",
       " 1005.2135655169081,\n",
       " 1.1184049343522662,\n",
       " 1.1184049343522662]"
      ]
     },
     "metadata": {},
     "output_type": "display_data"
    },
    {
     "data": {
      "text/plain": [
       "[1002.5325247378629,\n",
       " 1002.5325247378629,\n",
       " 0.6474829326436725,\n",
       " 0.6474829326436725]"
      ]
     },
     "metadata": {},
     "output_type": "display_data"
    },
    {
     "data": {
      "text/plain": [
       "[999.7014508208524,\n",
       " 999.7014508208524,\n",
       " -1.5390365628827567,\n",
       " -1.5390365628827567]"
      ]
     },
     "metadata": {},
     "output_type": "display_data"
    },
    {
     "data": {
      "text/plain": [
       "[996.7135376802869, 996.7135376802869, 0.2845424681299948, 0.2845424681299948]"
      ]
     },
     "metadata": {},
     "output_type": "display_data"
    },
    {
     "data": {
      "text/plain": [
       "[993.5835256633022,\n",
       " 993.5835256633022,\n",
       " -0.7712579307321107,\n",
       " -0.7712579307321107]"
      ]
     },
     "metadata": {},
     "output_type": "display_data"
    },
    {
     "data": {
      "text/plain": [
       "[990.3290202420413,\n",
       " 990.3290202420413,\n",
       " -1.0283849131191571,\n",
       " -1.0283849131191571]"
      ]
     },
     "metadata": {},
     "output_type": "display_data"
    },
    {
     "data": {
      "text/plain": [
       "[986.9502936050459,\n",
       " 986.9502936050459,\n",
       " -0.4438231308559225,\n",
       " -0.4438231308559225]"
      ]
     },
     "metadata": {},
     "output_type": "display_data"
    },
    {
     "data": {
      "text/plain": [
       "[983.4594550384501, 983.4594550384501, 1.079893337794101, 1.079893337794101]"
      ]
     },
     "metadata": {},
     "output_type": "display_data"
    },
    {
     "data": {
      "text/plain": [
       "[979.8701377073348, 979.8701377073348, 1.013053761543933, 1.013053761543933]"
      ]
     },
     "metadata": {},
     "output_type": "display_data"
    },
    {
     "data": {
      "text/plain": [
       "[976.187558575218,\n",
       " 976.187558575218,\n",
       " -0.13040987536908644,\n",
       " -0.13040987536908644]"
      ]
     },
     "metadata": {},
     "output_type": "display_data"
    },
    {
     "data": {
      "text/plain": [
       "[972.4101094831524, 972.4101094831524, 2.319284223365443, 2.319284223365443]"
      ]
     },
     "metadata": {},
     "output_type": "display_data"
    },
    {
     "data": {
      "text/plain": [
       "[968.5423204059081, 968.5423204059081, 2.3768205158772435, 2.3768205158772435]"
      ]
     },
     "metadata": {},
     "output_type": "display_data"
    },
    {
     "data": {
      "text/plain": [
       "[964.5847764033508, 964.5847764033508, 1.2414405991500645, 1.2414405991500645]"
      ]
     },
     "metadata": {},
     "output_type": "display_data"
    },
    {
     "data": {
      "text/plain": [
       "[960.5342276444416,\n",
       " 960.5342276444416,\n",
       " -1.1775156885056748,\n",
       " -1.1775156885056748]"
      ]
     },
     "metadata": {},
     "output_type": "display_data"
    },
    {
     "data": {
      "text/plain": [
       "[956.3866277365241,\n",
       " 956.3866277365241,\n",
       " -3.1402967376105035,\n",
       " -3.1402967376105035]"
      ]
     },
     "metadata": {},
     "output_type": "display_data"
    },
    {
     "data": {
      "text/plain": [
       "[952.1465823568058, 952.1465823568058, 0.6067119618197202, 0.6067119618197202]"
      ]
     },
     "metadata": {},
     "output_type": "display_data"
    },
    {
     "data": {
      "text/plain": [
       "[947.8180827466243, 947.8180827466243, 3.067979557801552, 3.067979557801552]"
      ]
     },
     "metadata": {},
     "output_type": "display_data"
    },
    {
     "data": {
      "text/plain": [
       "[943.4058823078831, 943.4058823078831, 1.9723575382247756, 1.9723575382247756]"
      ]
     },
     "metadata": {},
     "output_type": "display_data"
    },
    {
     "data": {
      "text/plain": [
       "[938.9173306096484,\n",
       " 938.9173306096484,\n",
       " 0.03933324873191113,\n",
       " 0.03933324873191113]"
      ]
     },
     "metadata": {},
     "output_type": "display_data"
    },
    {
     "data": {
      "text/plain": [
       "[934.3560033333018,\n",
       " 934.3560033333018,\n",
       " 0.18209100774097225,\n",
       " 0.18209100774097225]"
      ]
     },
     "metadata": {},
     "output_type": "display_data"
    },
    {
     "data": {
      "text/plain": [
       "[929.7291633830074, 929.7291633830074, 2.7571720345342614, 2.7571720345342614]"
      ]
     },
     "metadata": {},
     "output_type": "display_data"
    },
    {
     "data": {
      "text/plain": [
       "[925.0394683811218, 925.0394683811218, 1.6490356285216503, 1.6490356285216503]"
      ]
     },
     "metadata": {},
     "output_type": "display_data"
    },
    {
     "data": {
      "text/plain": [
       "[920.2744022999782, 920.2744022999782, 1.2231498361194095, 1.2231498361194095]"
      ]
     },
     "metadata": {},
     "output_type": "display_data"
    },
    {
     "data": {
      "text/plain": [
       "[915.4333915640285, 915.4333915640285, 0.368926176544161, 0.368926176544161]"
      ]
     },
     "metadata": {},
     "output_type": "display_data"
    },
    {
     "data": {
      "text/plain": [
       "[910.5133641416857, 910.5133641416857, -1.293628062527608, -1.293628062527608]"
      ]
     },
     "metadata": {},
     "output_type": "display_data"
    },
    {
     "data": {
      "text/plain": [
       "[905.5097349360396, 905.5097349360396, 0.6782178847622474, 0.6782178847622474]"
      ]
     },
     "metadata": {},
     "output_type": "display_data"
    },
    {
     "data": {
      "text/plain": [
       "[900.4176228135985,\n",
       " 900.4176228135985,\n",
       " -1.1287347844577234,\n",
       " -1.1287347844577234]"
      ]
     },
     "metadata": {},
     "output_type": "display_data"
    },
    {
     "data": {
      "text/plain": [
       "[895.2390527613572, 895.2390527613572, 1.7329432241496314, 1.7329432241496314]"
      ]
     },
     "metadata": {},
     "output_type": "display_data"
    },
    {
     "data": {
      "text/plain": [
       "[889.9925027624603,\n",
       " 889.9925027624603,\n",
       " -2.0670212495015825,\n",
       " -2.0670212495015825]"
      ]
     },
     "metadata": {},
     "output_type": "display_data"
    },
    {
     "data": {
      "text/plain": [
       "[884.6946516762964, 884.6946516762964, 2.3683779257168625, 2.3683779257168625]"
      ]
     },
     "metadata": {},
     "output_type": "display_data"
    },
    {
     "data": {
      "text/plain": [
       "[879.3603144087573,\n",
       " 879.3603144087573,\n",
       " 0.39083292144573967,\n",
       " 0.39083292144573967]"
      ]
     },
     "metadata": {},
     "output_type": "display_data"
    },
    {
     "data": {
      "text/plain": [
       "[873.9754737495878,\n",
       " 873.9754737495878,\n",
       " -3.3156898122844205,\n",
       " -3.3156898122844205]"
      ]
     },
     "metadata": {},
     "output_type": "display_data"
    },
    {
     "data": {
      "text/plain": [
       "[868.5247156467576, 868.5247156467576, 1.4405722625395545, 1.4405722625395545]"
      ]
     },
     "metadata": {},
     "output_type": "display_data"
    },
    {
     "data": {
      "text/plain": [
       "[863.0010698560925, 863.0010698560925, 1.2315983606613483, 1.2315983606613483]"
      ]
     },
     "metadata": {},
     "output_type": "display_data"
    },
    {
     "data": {
      "text/plain": [
       "[857.4161586928074, 857.4161586928074, -0.671980450804752, -0.671980450804752]"
      ]
     },
     "metadata": {},
     "output_type": "display_data"
    },
    {
     "data": {
      "text/plain": [
       "[851.7584394632648,\n",
       " 851.7584394632648,\n",
       " -0.22208225628589373,\n",
       " -0.22208225628589373]"
      ]
     },
     "metadata": {},
     "output_type": "display_data"
    },
    {
     "data": {
      "text/plain": [
       "[846.020760138368, 846.020760138368, 0.5737291810054468, 0.5737291810054468]"
      ]
     },
     "metadata": {},
     "output_type": "display_data"
    },
    {
     "data": {
      "text/plain": [
       "[840.2053831456784,\n",
       " 840.2053831456784,\n",
       " -0.35163496648674664,\n",
       " -0.35163496648674664]"
      ]
     },
     "metadata": {},
     "output_type": "display_data"
    },
    {
     "data": {
      "text/plain": [
       "[834.3275870690248, 834.3275870690248, 1.8411483452923072, 1.8411483452923072]"
      ]
     },
     "metadata": {},
     "output_type": "display_data"
    },
    {
     "data": {
      "text/plain": [
       "[828.4050928378748, 828.4050928378748, 2.4571076872060056, 2.4571076872060056]"
      ]
     },
     "metadata": {},
     "output_type": "display_data"
    },
    {
     "data": {
      "text/plain": [
       "[822.4411420271912, 822.4411420271912, 2.431629021013578, 2.431629021013578]"
      ]
     },
     "metadata": {},
     "output_type": "display_data"
    },
    {
     "data": {
      "text/plain": [
       "[816.4412988215798, 816.4412988215798, 2.8655048006796098, 2.8655048006796098]"
      ]
     },
     "metadata": {},
     "output_type": "display_data"
    },
    {
     "data": {
      "text/plain": [
       "[810.4198176143298,\n",
       " 810.4198176143298,\n",
       " -0.9792894110729868,\n",
       " -0.9792894110729868]"
      ]
     },
     "metadata": {},
     "output_type": "display_data"
    },
    {
     "data": {
      "text/plain": [
       "[804.3857005745391, 804.3857005745391, 1.721054658960659, 1.721054658960659]"
      ]
     },
     "metadata": {},
     "output_type": "display_data"
    },
    {
     "data": {
      "text/plain": [
       "[798.3483032404152, 798.3483032404152, 2.163853396783142, 2.163853396783142]"
      ]
     },
     "metadata": {},
     "output_type": "display_data"
    },
    {
     "data": {
      "text/plain": [
       "[792.3077709957043,\n",
       " 792.3077709957043,\n",
       " -0.8491449771464158,\n",
       " -0.8491449771464158]"
      ]
     },
     "metadata": {},
     "output_type": "display_data"
    },
    {
     "data": {
      "text/plain": [
       "[786.2657167035608,\n",
       " 786.2657167035608,\n",
       " -0.29832282208329775,\n",
       " -0.29832282208329775]"
      ]
     },
     "metadata": {},
     "output_type": "display_data"
    },
    {
     "data": {
      "text/plain": [
       "[780.2402868190912, 780.2402868190912, 0.848818650774368, 0.848818650774368]"
      ]
     },
     "metadata": {},
     "output_type": "display_data"
    },
    {
     "data": {
      "text/plain": [
       "[774.2470630132071, 774.2470630132071, 1.3042959524932924, 1.3042959524932924]"
      ]
     },
     "metadata": {},
     "output_type": "display_data"
    },
    {
     "data": {
      "text/plain": [
       "[768.2946605828633,\n",
       " 768.2946605828633,\n",
       " -2.1693089433231734,\n",
       " -2.1693089433231734]"
      ]
     },
     "metadata": {},
     "output_type": "display_data"
    },
    {
     "data": {
      "text/plain": [
       "[762.3748747019035,\n",
       " 762.3748747019035,\n",
       " -0.9070113672728991,\n",
       " -0.9070113672728991]"
      ]
     },
     "metadata": {},
     "output_type": "display_data"
    },
    {
     "data": {
      "text/plain": [
       "[756.4882813234567, 756.4882813234567, -1.062923620257465, -1.062923620257465]"
      ]
     },
     "metadata": {},
     "output_type": "display_data"
    },
    {
     "data": {
      "text/plain": [
       "[750.6382361799512, 750.6382361799512, -1.900670896514053, -1.900670896514053]"
      ]
     },
     "metadata": {},
     "output_type": "display_data"
    },
    {
     "data": {
      "text/plain": [
       "[744.8242152776855, 744.8242152776855, 2.3654782139164388, 2.3654782139164388]"
      ]
     },
     "metadata": {},
     "output_type": "display_data"
    },
    {
     "data": {
      "text/plain": [
       "[739.057523965452, 739.057523965452, 1.437572683087245, 1.437572683087245]"
      ]
     },
     "metadata": {},
     "output_type": "display_data"
    },
    {
     "data": {
      "text/plain": [
       "[733.3334679989935, 733.3334679989935, 1.212283185814918, 1.212283185814918]"
      ]
     },
     "metadata": {},
     "output_type": "display_data"
    },
    {
     "data": {
      "text/plain": [
       "[727.6489974483912, 727.6489974483912, 1.6330472060812542, 1.6330472060812542]"
      ]
     },
     "metadata": {},
     "output_type": "display_data"
    },
    {
     "data": {
      "text/plain": [
       "[722.0112217419155, 722.0112217419155, 1.9623850555137157, 1.9623850555137157]"
      ]
     },
     "metadata": {},
     "output_type": "display_data"
    },
    {
     "data": {
      "text/plain": [
       "[716.4364394168524,\n",
       " 716.4364394168524,\n",
       " 0.12844028619602144,\n",
       " 0.12844028619602144]"
      ]
     },
     "metadata": {},
     "output_type": "display_data"
    },
    {
     "data": {
      "text/plain": [
       "[710.9317077745374, 710.9317077745374, 0.3009926803475733, 0.3009926803475733]"
      ]
     },
     "metadata": {},
     "output_type": "display_data"
    },
    {
     "data": {
      "text/plain": [
       "[705.4903178965571, 705.4903178965571, 2.337778870131573, 2.337778870131573]"
      ]
     },
     "metadata": {},
     "output_type": "display_data"
    },
    {
     "data": {
      "text/plain": [
       "[700.1116077067958,\n",
       " 700.1116077067958,\n",
       " -0.20660703477847497,\n",
       " -0.20660703477847497]"
      ]
     },
     "metadata": {},
     "output_type": "display_data"
    },
    {
     "data": {
      "text/plain": [
       "[694.8028365169582, 694.8028365169582, 5.425471882184934, 5.425471882184934]"
      ]
     },
     "metadata": {},
     "output_type": "display_data"
    },
    {
     "data": {
      "text/plain": [
       "[689.5738509925613, 689.5738509925613, 2.997554583373777, 2.997554583373777]"
      ]
     },
     "metadata": {},
     "output_type": "display_data"
    },
    {
     "data": {
      "text/plain": [
       "[684.4388857920212, 684.4388857920212, 3.2666582442684344, 3.2666582442684344]"
      ]
     },
     "metadata": {},
     "output_type": "display_data"
    },
    {
     "data": {
      "text/plain": [
       "[679.3943007209546,\n",
       " 679.3943007209546,\n",
       " 0.39888353693498846,\n",
       " 0.39888353693498846]"
      ]
     },
     "metadata": {},
     "output_type": "display_data"
    },
    {
     "data": {
      "text/plain": [
       "[674.4381584843504, 674.4381584843504, 1.984721965781488, 1.984721965781488]"
      ]
     },
     "metadata": {},
     "output_type": "display_data"
    },
    {
     "data": {
      "text/plain": [
       "[669.5948184646885,\n",
       " 669.5948184646885,\n",
       " -0.5926083301922481,\n",
       " -0.5926083301922481]"
      ]
     },
     "metadata": {},
     "output_type": "display_data"
    },
    {
     "data": {
      "text/plain": [
       "[664.8947652161538, 664.8947652161538, 5.386670823428244, 5.386670823428244]"
      ]
     },
     "metadata": {},
     "output_type": "display_data"
    },
    {
     "data": {
      "text/plain": [
       "[660.3606651790037,\n",
       " 660.3606651790037,\n",
       " -0.9963602397239211,\n",
       " -0.9963602397239211]"
      ]
     },
     "metadata": {},
     "output_type": "display_data"
    },
    {
     "data": {
      "text/plain": [
       "[656.0101768346532, 656.0101768346532, 1.764686372695609, 1.764686372695609]"
      ]
     },
     "metadata": {},
     "output_type": "display_data"
    },
    {
     "data": {
      "text/plain": [
       "[651.8516245580505,\n",
       " 651.8516245580505,\n",
       " -2.5246592101604843,\n",
       " -2.5246592101604843]"
      ]
     },
     "metadata": {},
     "output_type": "display_data"
    },
    {
     "data": {
      "text/plain": [
       "[647.9047624866183,\n",
       " 647.9047624866183,\n",
       " 0.45927869573209157,\n",
       " 0.45927869573209157]"
      ]
     },
     "metadata": {},
     "output_type": "display_data"
    },
    {
     "data": {
      "text/plain": [
       "[644.1799706574245, 644.1799706574245, 1.827772898065851, 1.827772898065851]"
      ]
     },
     "metadata": {},
     "output_type": "display_data"
    },
    {
     "data": {
      "text/plain": [
       "[640.6898894498531,\n",
       " 640.6898894498531,\n",
       " -0.1531209348150775,\n",
       " -0.1531209348150775]"
      ]
     },
     "metadata": {},
     "output_type": "display_data"
    },
    {
     "data": {
      "text/plain": [
       "[637.4615673651573, 637.4615673651573, 1.6095569170035677, 1.6095569170035677]"
      ]
     },
     "metadata": {},
     "output_type": "display_data"
    },
    {
     "data": {
      "text/plain": [
       "[634.5262410645478, 634.5262410645478, 1.3259929864173758, 1.3259929864173758]"
      ]
     },
     "metadata": {},
     "output_type": "display_data"
    },
    {
     "data": {
      "text/plain": [
       "[631.9125968699341,\n",
       " 631.9125968699341,\n",
       " -0.09959151125741994,\n",
       " -0.09959151125741994]"
      ]
     },
     "metadata": {},
     "output_type": "display_data"
    },
    {
     "data": {
      "text/plain": [
       "[629.6476445909768,\n",
       " 629.6476445909768,\n",
       " -0.6985342250392563,\n",
       " -0.6985342250392563]"
      ]
     },
     "metadata": {},
     "output_type": "display_data"
    },
    {
     "data": {
      "text/plain": [
       "[627.7555062983498, 627.7555062983498, 2.6781054627758634, 2.6781054627758634]"
      ]
     },
     "metadata": {},
     "output_type": "display_data"
    },
    {
     "data": {
      "text/plain": [
       "[626.2440582522172, 626.2440582522172, 0.7034435519367617, 0.7034435519367617]"
      ]
     },
     "metadata": {},
     "output_type": "display_data"
    },
    {
     "data": {
      "text/plain": [
       "[625.1254602925582, 625.1254602925582, 3.596591108585814, 3.596591108585814]"
      ]
     },
     "metadata": {},
     "output_type": "display_data"
    },
    {
     "data": {
      "text/plain": [
       "[624.405836447953, 624.405836447953, 1.437064668307519, 1.437064668307519]"
      ]
     },
     "metadata": {},
     "output_type": "display_data"
    },
    {
     "data": {
      "text/plain": [
       "[624.0968611117447, 624.0968611117447, 0.5954767195095699, 0.5954767195095699]"
      ]
     },
     "metadata": {},
     "output_type": "display_data"
    },
    {
     "data": {
      "text/plain": [
       "[624.2012289714411,\n",
       " 624.2012289714411,\n",
       " -0.5688310120133373,\n",
       " -0.5688310120133373]"
      ]
     },
     "metadata": {},
     "output_type": "display_data"
    },
    {
     "data": {
      "text/plain": [
       "[624.726944186299, 624.726944186299, 3.1945635103681926, 3.1945635103681926]"
      ]
     },
     "metadata": {},
     "output_type": "display_data"
    },
    {
     "data": {
      "text/plain": [
       "[625.7057196465375, 625.7057196465375, 1.6177398902914888, 1.6177398902914888]"
      ]
     },
     "metadata": {},
     "output_type": "display_data"
    },
    {
     "data": {
      "text/plain": [
       "[627.1791042431822, 627.1791042431822, 2.566254053482468, 2.566254053482468]"
      ]
     },
     "metadata": {},
     "output_type": "display_data"
    },
    {
     "data": {
      "text/plain": [
       "[629.176559106627, 629.176559106627, 1.2628341414197422, 1.2628341414197422]"
      ]
     },
     "metadata": {},
     "output_type": "display_data"
    },
    {
     "data": {
      "text/plain": [
       "[631.7111853741403, 631.7111853741403, 3.994488073314072, 3.994488073314072]"
      ]
     },
     "metadata": {},
     "output_type": "display_data"
    },
    {
     "data": {
      "text/plain": [
       "[634.8015956645925,\n",
       " 634.8015956645925,\n",
       " -0.7830841634084704,\n",
       " -0.7830841634084704]"
      ]
     },
     "metadata": {},
     "output_type": "display_data"
    },
    {
     "data": {
      "text/plain": [
       "[638.4686627174799, 638.4686627174799, 1.0715284051439666, 1.0715284051439666]"
      ]
     },
     "metadata": {},
     "output_type": "display_data"
    },
    {
     "data": {
      "text/plain": [
       "[642.7416318870705,\n",
       " 642.7416318870705,\n",
       " -0.4727695990419951,\n",
       " -0.4727695990419951]"
      ]
     },
     "metadata": {},
     "output_type": "display_data"
    },
    {
     "data": {
      "text/plain": [
       "[647.6384770126878, 647.6384770126878, 3.263452196464128, 3.263452196464128]"
      ]
     },
     "metadata": {},
     "output_type": "display_data"
    },
    {
     "data": {
      "text/plain": [
       "[653.1941399079299, 653.1941399079299, 3.9656234968062294, 3.9656234968062294]"
      ]
     },
     "metadata": {},
     "output_type": "display_data"
    },
    {
     "data": {
      "text/plain": [
       "[659.4296067646613, 659.4296067646613, 1.757647000477134, 1.757647000477134]"
      ]
     },
     "metadata": {},
     "output_type": "display_data"
    },
    {
     "data": {
      "text/plain": [
       "[666.346852379845, 666.346852379845, 1.784416609552203, 1.784416609552203]"
      ]
     },
     "metadata": {},
     "output_type": "display_data"
    },
    {
     "data": {
      "text/plain": [
       "[673.9423815428535, 673.9423815428535, 2.3589705454102914, 2.3589705454102914]"
      ]
     },
     "metadata": {},
     "output_type": "display_data"
    },
    {
     "data": {
      "text/plain": [
       "[682.22049969995, 682.22049969995, 4.60406460966126, 4.60406460966126]"
      ]
     },
     "metadata": {},
     "output_type": "display_data"
    },
    {
     "data": {
      "text/plain": [
       "[691.1829205502983, 691.1829205502983, 2.9352223155068295, 2.9352223155068295]"
      ]
     },
     "metadata": {},
     "output_type": "display_data"
    },
    {
     "data": {
      "text/plain": [
       "[700.8187882740297, 700.8187882740297, 2.065863958121996, 2.065863958121996]"
      ]
     },
     "metadata": {},
     "output_type": "display_data"
    },
    {
     "data": {
      "text/plain": [
       "[711.1000057957663, 711.1000057957663, 2.962628133566852, 2.962628133566852]"
      ]
     },
     "metadata": {},
     "output_type": "display_data"
    },
    {
     "data": {
      "text/plain": [
       "[722.0223286104502, 722.0223286104502, 2.0804478322766036, 2.0804478322766036]"
      ]
     },
     "metadata": {},
     "output_type": "display_data"
    },
    {
     "data": {
      "text/plain": [
       "[733.5872242182691, 733.5872242182691, 4.087060823343919, 4.087060823343919]"
      ]
     },
     "metadata": {},
     "output_type": "display_data"
    },
    {
     "data": {
      "text/plain": [
       "[745.7880078786461,\n",
       " 745.7880078786461,\n",
       " -0.1634048978178908,\n",
       " -0.1634048978178908]"
      ]
     },
     "metadata": {},
     "output_type": "display_data"
    },
    {
     "data": {
      "text/plain": [
       "[758.6287492174694, 758.6287492174694, 1.7383001513276328, 1.7383001513276328]"
      ]
     },
     "metadata": {},
     "output_type": "display_data"
    },
    {
     "data": {
      "text/plain": [
       "[772.0974953796933, 772.0974953796933, 0.6390405908577559, 0.6390405908577559]"
      ]
     },
     "metadata": {},
     "output_type": "display_data"
    },
    {
     "data": {
      "text/plain": [
       "[786.1941591549607, 786.1941591549607, 3.3112060437916684, 3.3112060437916684]"
      ]
     },
     "metadata": {},
     "output_type": "display_data"
    },
    {
     "data": {
      "text/plain": [
       "[800.919298598214, 800.919298598214, 2.9668456480485847, 2.9668456480485847]"
      ]
     },
     "metadata": {},
     "output_type": "display_data"
    },
    {
     "data": {
      "text/plain": [
       "[816.2782390573532, 816.2782390573532, 1.6230974882170228, 1.6230974882170228]"
      ]
     },
     "metadata": {},
     "output_type": "display_data"
    },
    {
     "data": {
      "text/plain": [
       "[832.2696894486589, 832.2696894486589, 0.5814457995906634, 0.5814457995906634]"
      ]
     },
     "metadata": {},
     "output_type": "display_data"
    },
    {
     "data": {
      "text/plain": [
       "[848.896818603375, 848.896818603375, 2.494148403340957, 2.494148403340957]"
      ]
     },
     "metadata": {},
     "output_type": "display_data"
    },
    {
     "data": {
      "text/plain": [
       "[866.1575429618606, 866.1575429618606, 0.7232314465686263, 0.7232314465686263]"
      ]
     },
     "metadata": {},
     "output_type": "display_data"
    },
    {
     "data": {
      "text/plain": [
       "[884.0328092106694, 884.0328092106694, 4.345580111368585, 4.345580111368585]"
      ]
     },
     "metadata": {},
     "output_type": "display_data"
    },
    {
     "data": {
      "text/plain": [
       "[902.5070958982144, 902.5070958982144, 0.5912715551003189, 0.5912715551003189]"
      ]
     },
     "metadata": {},
     "output_type": "display_data"
    },
    {
     "data": {
      "text/plain": [
       "[921.5635787312997, 921.5635787312997, 2.853397586696589, 2.853397586696589]"
      ]
     },
     "metadata": {},
     "output_type": "display_data"
    },
    {
     "data": {
      "text/plain": [
       "[941.1873888421075, 941.1873888421075, 1.2751978542786124, 1.2751978542786124]"
      ]
     },
     "metadata": {},
     "output_type": "display_data"
    },
    {
     "data": {
      "text/plain": [
       "[961.3658076721327, 961.3658076721327, 1.5728836313088335, 1.5728836313088335]"
      ]
     },
     "metadata": {},
     "output_type": "display_data"
    },
    {
     "data": {
      "text/plain": [
       "[982.1012954647542, 982.1012954647542, 1.0735014893553911, 1.0735014893553911]"
      ]
     },
     "metadata": {},
     "output_type": "display_data"
    },
    {
     "data": {
      "text/plain": [
       "[1003.402702765303, 1003.402702765303, 2.9422261677207198, 2.9422261677207198]"
      ]
     },
     "metadata": {},
     "output_type": "display_data"
    },
    {
     "data": {
      "text/plain": [
       "[1025.269383671036, 1025.269383671036, 2.183430949537551, 2.183430949537551]"
      ]
     },
     "metadata": {},
     "output_type": "display_data"
    },
    {
     "data": {
      "text/plain": [
       "[1047.6902518881827,\n",
       " 1047.6902518881827,\n",
       " -0.1765582587915182,\n",
       " -0.1765582587915182]"
      ]
     },
     "metadata": {},
     "output_type": "display_data"
    },
    {
     "data": {
      "text/plain": [
       "[1070.654996318455,\n",
       " 1070.654996318455,\n",
       " -1.3873383065274796,\n",
       " -1.3873383065274796]"
      ]
     },
     "metadata": {},
     "output_type": "display_data"
    },
    {
     "data": {
      "text/plain": [
       "[1094.1536686661937,\n",
       " 1094.1536686661937,\n",
       " 3.5042556572955945,\n",
       " 3.5042556572955945]"
      ]
     },
     "metadata": {},
     "output_type": "display_data"
    },
    {
     "data": {
      "text/plain": [
       "[1118.192083141794, 1118.192083141794, 3.4568616014499045, 3.4568616014499045]"
      ]
     },
     "metadata": {},
     "output_type": "display_data"
    },
    {
     "data": {
      "text/plain": [
       "[185.06526837936488,\n",
       " 185.06526837936488,\n",
       " 3.0754513881222625,\n",
       " 3.0754513881222625]"
      ]
     },
     "metadata": {},
     "output_type": "display_data"
    },
    {
     "data": {
      "text/plain": [
       "[185.06844032534232,\n",
       " 185.06844032534232,\n",
       " 1.0325458477353902,\n",
       " 1.0325458477353902]"
      ]
     },
     "metadata": {},
     "output_type": "display_data"
    },
    {
     "data": {
      "text/plain": [
       "[185.06655435237556,\n",
       " 185.06655435237556,\n",
       " -0.08659785994701474,\n",
       " -0.08659785994701474]"
      ]
     },
     "metadata": {},
     "output_type": "display_data"
    },
    {
     "data": {
      "text/plain": [
       "[185.0616642050996, 185.0616642050996, 2.9954336198848206, 2.9954336198848206]"
      ]
     },
     "metadata": {},
     "output_type": "display_data"
    },
    {
     "data": {
      "text/plain": [
       "[185.0563360557901, 185.0563360557901, 0.2478441442920909, 0.2478441442920909]"
      ]
     },
     "metadata": {},
     "output_type": "display_data"
    },
    {
     "data": {
      "text/plain": [
       "[185.03593549647564,\n",
       " 185.03593549647564,\n",
       " 1.9970236277293332,\n",
       " 1.9970236277293332]"
      ]
     },
     "metadata": {},
     "output_type": "display_data"
    },
    {
     "data": {
      "text/plain": [
       "[185.00520962755908,\n",
       " 185.00520962755908,\n",
       " 1.9567840810813997,\n",
       " 1.9567840810813997]"
      ]
     },
     "metadata": {},
     "output_type": "display_data"
    },
    {
     "data": {
      "text/plain": [
       "[184.98766081533753,\n",
       " 184.98766081533753,\n",
       " 0.42673339381641456,\n",
       " 0.42673339381641456]"
      ]
     },
     "metadata": {},
     "output_type": "display_data"
    },
    {
     "data": {
      "text/plain": [
       "[184.9960261540574, 184.9960261540574, 1.0344897024834352, 1.0344897024834352]"
      ]
     },
     "metadata": {},
     "output_type": "display_data"
    },
    {
     "data": {
      "text/plain": [
       "[185.0197331562614, 185.0197331562614, 1.2235766659462144, 1.2235766659462144]"
      ]
     },
     "metadata": {},
     "output_type": "display_data"
    },
    {
     "data": {
      "text/plain": [
       "[185.05557860254163,\n",
       " 185.05557860254163,\n",
       " 0.22293035033861197,\n",
       " 0.22293035033861197]"
      ]
     },
     "metadata": {},
     "output_type": "display_data"
    },
    {
     "data": {
      "text/plain": [
       "[185.12500089281147,\n",
       " 185.12500089281147,\n",
       " -0.5442381142751679,\n",
       " -0.5442381142751679]"
      ]
     },
     "metadata": {},
     "output_type": "display_data"
    },
    {
     "data": {
      "text/plain": [
       "[185.23626406392864, 185.23626406392864, 4.155608436659963, 4.155608436659963]"
      ]
     },
     "metadata": {},
     "output_type": "display_data"
    },
    {
     "data": {
      "text/plain": [
       "[185.3824630697493, 185.3824630697493, 0.9273234350252721, 0.9273234350252721]"
      ]
     },
     "metadata": {},
     "output_type": "display_data"
    },
    {
     "data": {
      "text/plain": [
       "[185.55703361795995,\n",
       " 185.55703361795995,\n",
       " -0.37594545426370496,\n",
       " -0.37594545426370496]"
      ]
     },
     "metadata": {},
     "output_type": "display_data"
    },
    {
     "data": {
      "text/plain": [
       "[185.74394417456452,\n",
       " 185.74394417456452,\n",
       " 0.6149108446143209,\n",
       " 0.6149108446143209]"
      ]
     },
     "metadata": {},
     "output_type": "display_data"
    },
    {
     "data": {
      "text/plain": [
       "[185.9406977881786, 185.9406977881786, 2.010669483012799, 2.010669483012799]"
      ]
     },
     "metadata": {},
     "output_type": "display_data"
    },
    {
     "data": {
      "text/plain": [
       "[186.15909449056102,\n",
       " 186.15909449056102,\n",
       " 1.0197020062562314,\n",
       " 1.0197020062562314]"
      ]
     },
     "metadata": {},
     "output_type": "display_data"
    },
    {
     "data": {
      "text/plain": [
       "[186.4006535226004,\n",
       " 186.4006535226004,\n",
       " 0.25570054494694944,\n",
       " 0.25570054494694944]"
      ]
     },
     "metadata": {},
     "output_type": "display_data"
    },
    {
     "data": {
      "text/plain": [
       "[186.65841679874413,\n",
       " 186.65841679874413,\n",
       " 2.1780131938421685,\n",
       " 2.1780131938421685]"
      ]
     },
     "metadata": {},
     "output_type": "display_data"
    },
    {
     "data": {
      "text/plain": [
       "[186.91540633466843, 186.91540633466843, 4.34641520270021, 4.34641520270021]"
      ]
     },
     "metadata": {},
     "output_type": "display_data"
    },
    {
     "data": {
      "text/plain": [
       "[187.18035503442022,\n",
       " 187.18035503442022,\n",
       " 1.8159852391014137,\n",
       " 1.8159852391014137]"
      ]
     },
     "metadata": {},
     "output_type": "display_data"
    },
    {
     "data": {
      "text/plain": [
       "[187.46005580481824, 187.46005580481824, 3.567740041075066, 3.567740041075066]"
      ]
     },
     "metadata": {},
     "output_type": "display_data"
    },
    {
     "data": {
      "text/plain": [
       "[187.7633571699513, 187.7633571699513, 1.7127714539478593, 1.7127714539478593]"
      ]
     },
     "metadata": {},
     "output_type": "display_data"
    },
    {
     "data": {
      "text/plain": [
       "[188.0916088959323, 188.0916088959323, 2.513393529232098, 2.513393529232098]"
      ]
     },
     "metadata": {},
     "output_type": "display_data"
    },
    {
     "data": {
      "text/plain": [
       "[188.44134308902403,\n",
       " 188.44134308902403,\n",
       " -2.2071479899394633,\n",
       " -2.2071479899394633]"
      ]
     },
     "metadata": {},
     "output_type": "display_data"
    },
    {
     "data": {
      "text/plain": [
       "[188.79652723299895, 188.79652723299895, 3.566758534993424, 3.566758534993424]"
      ]
     },
     "metadata": {},
     "output_type": "display_data"
    },
    {
     "data": {
      "text/plain": [
       "[189.14295300718436,\n",
       " 189.14295300718436,\n",
       " 1.3875274343305741,\n",
       " 1.3875274343305741]"
      ]
     },
     "metadata": {},
     "output_type": "display_data"
    },
    {
     "data": {
      "text/plain": [
       "[189.486461747173, 189.486461747173, 3.994142600369593, 3.994142600369593]"
      ]
     },
     "metadata": {},
     "output_type": "display_data"
    },
    {
     "data": {
      "text/plain": [
       "[189.8360950100093,\n",
       " 189.8360950100093,\n",
       " -0.6467962930453126,\n",
       " -0.6467962930453126]"
      ]
     },
     "metadata": {},
     "output_type": "display_data"
    },
    {
     "data": {
      "text/plain": [
       "[190.2102060710286,\n",
       " 190.2102060710286,\n",
       " -1.0033730610172653,\n",
       " -1.0033730610172653]"
      ]
     },
     "metadata": {},
     "output_type": "display_data"
    },
    {
     "data": {
      "text/plain": [
       "[190.62283673360827,\n",
       " 190.62283673360827,\n",
       " 1.9972888726306213,\n",
       " 1.9972888726306213]"
      ]
     },
     "metadata": {},
     "output_type": "display_data"
    },
    {
     "data": {
      "text/plain": [
       "[191.08728160603167,\n",
       " 191.08728160603167,\n",
       " 0.6732304234345285,\n",
       " 0.6732304234345285]"
      ]
     },
     "metadata": {},
     "output_type": "display_data"
    },
    {
     "data": {
      "text/plain": [
       "[191.6003086676612, 191.6003086676612, 2.195705094741131, 2.195705094741131]"
      ]
     },
     "metadata": {},
     "output_type": "display_data"
    },
    {
     "data": {
      "text/plain": [
       "[192.1577903213097, 192.1577903213097, -1.531682440674453, -1.531682440674453]"
      ]
     },
     "metadata": {},
     "output_type": "display_data"
    },
    {
     "data": {
      "text/plain": [
       "[192.747965120245, 192.747965120245, 0.8109600020052703, 0.8109600020052703]"
      ]
     },
     "metadata": {},
     "output_type": "display_data"
    },
    {
     "data": {
      "text/plain": [
       "[193.35839325242924,\n",
       " 193.35839325242924,\n",
       " -0.6705286594001634,\n",
       " -0.6705286594001634]"
      ]
     },
     "metadata": {},
     "output_type": "display_data"
    },
    {
     "data": {
      "text/plain": [
       "[193.990104736071, 193.990104736071, 1.5534946515902686, 1.5534946515902686]"
      ]
     },
     "metadata": {},
     "output_type": "display_data"
    },
    {
     "data": {
      "text/plain": [
       "[194.63495549391158,\n",
       " 194.63495549391158,\n",
       " 0.4182284938740926,\n",
       " 0.4182284938740926]"
      ]
     },
     "metadata": {},
     "output_type": "display_data"
    },
    {
     "data": {
      "text/plain": [
       "[195.28538269247005,\n",
       " 195.28538269247005,\n",
       " -0.03493191919534744,\n",
       " -0.03493191919534744]"
      ]
     },
     "metadata": {},
     "output_type": "display_data"
    },
    {
     "data": {
      "text/plain": [
       "[195.93732821908182, 195.93732821908182, 2.415878039489525, 2.415878039489525]"
      ]
     },
     "metadata": {},
     "output_type": "display_data"
    },
    {
     "data": {
      "text/plain": [
       "[196.59937092825535,\n",
       " 196.59937092825535,\n",
       " 2.6385909680741824,\n",
       " 2.6385909680741824]"
      ]
     },
     "metadata": {},
     "output_type": "display_data"
    },
    {
     "data": {
      "text/plain": [
       "[197.27586305995695,\n",
       " 197.27586305995695,\n",
       " -1.4461486078938401,\n",
       " -1.4461486078938401]"
      ]
     },
     "metadata": {},
     "output_type": "display_data"
    },
    {
     "data": {
      "text/plain": [
       "[197.96550915216693, 197.96550915216693, 1.650806356242339, 1.650806356242339]"
      ]
     },
     "metadata": {},
     "output_type": "display_data"
    },
    {
     "data": {
      "text/plain": [
       "[198.6680400060724, 198.6680400060724, 2.5478261394151787, 2.5478261394151787]"
      ]
     },
     "metadata": {},
     "output_type": "display_data"
    },
    {
     "data": {
      "text/plain": [
       "[199.37297304620762,\n",
       " 199.37297304620762,\n",
       " 2.2691608617500187,\n",
       " 2.2691608617500187]"
      ]
     },
     "metadata": {},
     "output_type": "display_data"
    },
    {
     "data": {
      "text/plain": [
       "[200.06460609081978,\n",
       " 200.06460609081978,\n",
       " 1.2990345913048253,\n",
       " 1.2990345913048253]"
      ]
     },
     "metadata": {},
     "output_type": "display_data"
    },
    {
     "data": {
      "text/plain": [
       "[200.7357272843945, 200.7357272843945, -1.215764229239941, -1.215764229239941]"
      ]
     },
     "metadata": {},
     "output_type": "display_data"
    },
    {
     "data": {
      "text/plain": [
       "[201.4003605161264, 201.4003605161264, 0.6255582520386579, 0.6255582520386579]"
      ]
     },
     "metadata": {},
     "output_type": "display_data"
    },
    {
     "data": {
      "text/plain": [
       "[202.07277642200606,\n",
       " 202.07277642200606,\n",
       " 2.6128742847626025,\n",
       " 2.6128742847626025]"
      ]
     },
     "metadata": {},
     "output_type": "display_data"
    },
    {
     "data": {
      "text/plain": [
       "[202.7634715653208,\n",
       " 202.7634715653208,\n",
       " -0.7599852237166145,\n",
       " -0.7599852237166145]"
      ]
     },
     "metadata": {},
     "output_type": "display_data"
    },
    {
     "data": {
      "text/plain": [
       "[203.45774484088662,\n",
       " 203.45774484088662,\n",
       " -0.5498074974040539,\n",
       " -0.5498074974040539]"
      ]
     },
     "metadata": {},
     "output_type": "display_data"
    },
    {
     "data": {
      "text/plain": [
       "[204.15546285998383, 204.15546285998383, 0.971614978495912, 0.971614978495912]"
      ]
     },
     "metadata": {},
     "output_type": "display_data"
    },
    {
     "data": {
      "text/plain": [
       "[204.86393003792358,\n",
       " 204.86393003792358,\n",
       " 2.5940138708599996,\n",
       " 2.5940138708599996]"
      ]
     },
     "metadata": {},
     "output_type": "display_data"
    },
    {
     "data": {
      "text/plain": [
       "[205.5860509910459,\n",
       " 205.5860509910459,\n",
       " -0.3553892579446183,\n",
       " -0.3553892579446183]"
      ]
     },
     "metadata": {},
     "output_type": "display_data"
    },
    {
     "data": {
      "text/plain": [
       "[206.31155178208743, 206.31155178208743, 3.906894279158281, 3.906894279158281]"
      ]
     },
     "metadata": {},
     "output_type": "display_data"
    },
    {
     "data": {
      "text/plain": [
       "[207.0354471577577,\n",
       " 207.0354471577577,\n",
       " -0.2540465127685554,\n",
       " -0.2540465127685554]"
      ]
     },
     "metadata": {},
     "output_type": "display_data"
    },
    {
     "data": {
      "text/plain": [
       "[207.77366097921907,\n",
       " 207.77366097921907,\n",
       " 0.7222107709270967,\n",
       " 0.7222107709270967]"
      ]
     },
     "metadata": {},
     "output_type": "display_data"
    },
    {
     "data": {
      "text/plain": [
       "[208.53549612911615,\n",
       " 208.53549612911615,\n",
       " 2.7516760741404287,\n",
       " 2.7516760741404287]"
      ]
     },
     "metadata": {},
     "output_type": "display_data"
    },
    {
     "data": {
      "text/plain": [
       "[209.33179030463575,\n",
       " 209.33179030463575,\n",
       " -0.39680860190209644,\n",
       " -0.39680860190209644]"
      ]
     },
     "metadata": {},
     "output_type": "display_data"
    },
    {
     "data": {
      "text/plain": [
       "[210.17220240282256,\n",
       " 210.17220240282256,\n",
       " 3.0900955040693816,\n",
       " 3.0900955040693816]"
      ]
     },
     "metadata": {},
     "output_type": "display_data"
    },
    {
     "data": {
      "text/plain": [
       "[211.04169666915158, 211.04169666915158, 2.068746873777317, 2.068746873777317]"
      ]
     },
     "metadata": {},
     "output_type": "display_data"
    },
    {
     "data": {
      "text/plain": [
       "[211.92910931052498,\n",
       " 211.92910931052498,\n",
       " 0.00566753127524211,\n",
       " 0.00566753127524211]"
      ]
     },
     "metadata": {},
     "output_type": "display_data"
    },
    {
     "data": {
      "text/plain": [
       "[212.84652156308113, 212.84652156308113, 2.225144354407554, 2.225144354407554]"
      ]
     },
     "metadata": {},
     "output_type": "display_data"
    },
    {
     "data": {
      "text/plain": [
       "[213.7814471954283,\n",
       " 213.7814471954283,\n",
       " -0.5065108252285357,\n",
       " -0.5065108252285357]"
      ]
     },
     "metadata": {},
     "output_type": "display_data"
    },
    {
     "data": {
      "text/plain": [
       "[214.71198392058585,\n",
       " 214.71198392058585,\n",
       " 0.17966387795749572,\n",
       " 0.17966387795749572]"
      ]
     },
     "metadata": {},
     "output_type": "display_data"
    },
    {
     "data": {
      "text/plain": [
       "[215.6456540460891, 215.6456540460891, 0.5855520218629382, 0.5855520218629382]"
      ]
     },
     "metadata": {},
     "output_type": "display_data"
    },
    {
     "data": {
      "text/plain": [
       "[216.6055265274589,\n",
       " 216.6055265274589,\n",
       " -0.9231172829954977,\n",
       " -0.9231172829954977]"
      ]
     },
     "metadata": {},
     "output_type": "display_data"
    },
    {
     "data": {
      "text/plain": [
       "[217.60193876623944, 217.60193876623944, 3.468347514442704, 3.468347514442704]"
      ]
     },
     "metadata": {},
     "output_type": "display_data"
    },
    {
     "data": {
      "text/plain": [
       "[218.63313741745708, 218.63313741745708, 0.450647659265458, 0.450647659265458]"
      ]
     },
     "metadata": {},
     "output_type": "display_data"
    },
    {
     "data": {
      "text/plain": [
       "[219.71097457324856,\n",
       " 219.71097457324856,\n",
       " -0.8062040503115346,\n",
       " -0.8062040503115346]"
      ]
     },
     "metadata": {},
     "output_type": "display_data"
    },
    {
     "data": {
      "text/plain": [
       "[220.8472181192373, 220.8472181192373, 1.9004530503695125, 1.9004530503695125]"
      ]
     },
     "metadata": {},
     "output_type": "display_data"
    },
    {
     "data": {
      "text/plain": [
       "[222.045185194772, 222.045185194772, 2.340976983302319, 2.340976983302319]"
      ]
     },
     "metadata": {},
     "output_type": "display_data"
    },
    {
     "data": {
      "text/plain": [
       "[223.31205909183194,\n",
       " 223.31205909183194,\n",
       " 2.4368503521185603,\n",
       " 2.4368503521185603]"
      ]
     },
     "metadata": {},
     "output_type": "display_data"
    },
    {
     "data": {
      "text/plain": [
       "[224.6705828342056, 224.6705828342056, 3.922503711471643, 3.922503711471643]"
      ]
     },
     "metadata": {},
     "output_type": "display_data"
    },
    {
     "data": {
      "text/plain": [
       "[226.15255169528788,\n",
       " 226.15255169528788,\n",
       " 1.3886931630132777,\n",
       " 1.3886931630132777]"
      ]
     },
     "metadata": {},
     "output_type": "display_data"
    },
    {
     "data": {
      "text/plain": [
       "[227.78686408341707,\n",
       " 227.78686408341707,\n",
       " 4.1210458404283745,\n",
       " 4.1210458404283745]"
      ]
     },
     "metadata": {},
     "output_type": "display_data"
    },
    {
     "data": {
      "text/plain": [
       "[229.59380979126732,\n",
       " 229.59380979126732,\n",
       " 3.7528176325051614,\n",
       " 3.7528176325051614]"
      ]
     },
     "metadata": {},
     "output_type": "display_data"
    },
    {
     "data": {
      "text/plain": [
       "[231.58330392450063,\n",
       " 231.58330392450063,\n",
       " 1.2107253220258238,\n",
       " 1.2107253220258238]"
      ]
     },
     "metadata": {},
     "output_type": "display_data"
    },
    {
     "data": {
      "text/plain": [
       "[233.7719737246895, 233.7719737246895, 1.5763121840350403, 1.5763121840350403]"
      ]
     },
     "metadata": {},
     "output_type": "display_data"
    },
    {
     "data": {
      "text/plain": [
       "[236.17045501510225,\n",
       " 236.17045501510225,\n",
       " 0.9884558800899651,\n",
       " 0.9884558800899651]"
      ]
     },
     "metadata": {},
     "output_type": "display_data"
    },
    {
     "data": {
      "text/plain": [
       "[238.78844482144612,\n",
       " 238.78844482144612,\n",
       " 2.6790996017992956,\n",
       " 2.6790996017992956]"
      ]
     },
     "metadata": {},
     "output_type": "display_data"
    },
    {
     "data": {
      "text/plain": [
       "[241.62370855068053,\n",
       " 241.62370855068053,\n",
       " 3.2764137819401626,\n",
       " 3.2764137819401626]"
      ]
     },
     "metadata": {},
     "output_type": "display_data"
    },
    {
     "data": {
      "text/plain": [
       "[244.68074754859262,\n",
       " 244.68074754859262,\n",
       " -1.7836229311894147,\n",
       " -1.7836229311894147]"
      ]
     },
     "metadata": {},
     "output_type": "display_data"
    },
    {
     "data": {
      "text/plain": [
       "[247.95901476691915,\n",
       " 247.95901476691915,\n",
       " 2.4946166464129154,\n",
       " 2.4946166464129154]"
      ]
     },
     "metadata": {},
     "output_type": "display_data"
    },
    {
     "data": {
      "text/plain": [
       "[251.4663120462876, 251.4663120462876, 3.963084272145932, 3.963084272145932]"
      ]
     },
     "metadata": {},
     "output_type": "display_data"
    },
    {
     "data": {
      "text/plain": [
       "[255.22622814819294,\n",
       " 255.22622814819294,\n",
       " 2.3785303529232866,\n",
       " 2.3785303529232866]"
      ]
     },
     "metadata": {},
     "output_type": "display_data"
    },
    {
     "data": {
      "text/plain": [
       "[259.2605876944704,\n",
       " 259.2605876944704,\n",
       " 0.06412557936110153,\n",
       " 0.06412557936110153]"
      ]
     },
     "metadata": {},
     "output_type": "display_data"
    },
    {
     "data": {
      "text/plain": [
       "[263.5858865606431, 263.5858865606431, 1.4058804507158704, 1.4058804507158704]"
      ]
     },
     "metadata": {},
     "output_type": "display_data"
    },
    {
     "data": {
      "text/plain": [
       "[268.21683990897395,\n",
       " 268.21683990897395,\n",
       " 1.9140117746562841,\n",
       " 1.9140117746562841]"
      ]
     },
     "metadata": {},
     "output_type": "display_data"
    },
    {
     "data": {
      "text/plain": [
       "[273.15875972198006,\n",
       " 273.15875972198006,\n",
       " 0.6245107264492844,\n",
       " 0.6245107264492844]"
      ]
     },
     "metadata": {},
     "output_type": "display_data"
    },
    {
     "data": {
      "text/plain": [
       "[278.4161936544064, 278.4161936544064, 4.801623949328492, 4.801623949328492]"
      ]
     },
     "metadata": {},
     "output_type": "display_data"
    },
    {
     "data": {
      "text/plain": [
       "[283.9947203078111, 283.9947203078111, 4.23386807054495, 4.23386807054495]"
      ]
     },
     "metadata": {},
     "output_type": "display_data"
    },
    {
     "data": {
      "text/plain": [
       "[289.9010423722769, 289.9010423722769, 3.4702684113239126, 3.4702684113239126]"
      ]
     },
     "metadata": {},
     "output_type": "display_data"
    },
    {
     "data": {
      "text/plain": [
       "[296.13613035328643,\n",
       " 296.13613035328643,\n",
       " 2.1287437089740084,\n",
       " 2.1287437089740084]"
      ]
     },
     "metadata": {},
     "output_type": "display_data"
    },
    {
     "data": {
      "text/plain": [
       "[302.7079828179289, 302.7079828179289, 4.463223879305944, 4.463223879305944]"
      ]
     },
     "metadata": {},
     "output_type": "display_data"
    },
    {
     "data": {
      "text/plain": [
       "[309.6170245382599, 309.6170245382599, 3.054883978128457, 3.054883978128457]"
      ]
     },
     "metadata": {},
     "output_type": "display_data"
    },
    {
     "data": {
      "text/plain": [
       "[316.8670787250441, 316.8670787250441, 1.7387685468859209, 1.7387685468859209]"
      ]
     },
     "metadata": {},
     "output_type": "display_data"
    },
    {
     "data": {
      "text/plain": [
       "[324.4681922475264, 324.4681922475264, 3.47017537311556, 3.47017537311556]"
      ]
     },
     "metadata": {},
     "output_type": "display_data"
    },
    {
     "data": {
      "text/plain": [
       "[332.4212448438377, 332.4212448438377, 2.7066473719805137, 2.7066473719805137]"
      ]
     },
     "metadata": {},
     "output_type": "display_data"
    },
    {
     "data": {
      "text/plain": [
       "[340.72819256868763, 340.72819256868763, 2.365802851355875, 2.365802851355875]"
      ]
     },
     "metadata": {},
     "output_type": "display_data"
    },
    {
     "data": {
      "text/plain": [
       "[349.38539804321306,\n",
       " 349.38539804321306,\n",
       " 2.7832107389246605,\n",
       " 2.7832107389246605]"
      ]
     },
     "metadata": {},
     "output_type": "display_data"
    },
    {
     "data": {
      "text/plain": [
       "[358.38753793365794,\n",
       " 358.38753793365794,\n",
       " 2.0103977209217208,\n",
       " 2.0103977209217208]"
      ]
     },
     "metadata": {},
     "output_type": "display_data"
    },
    {
     "data": {
      "text/plain": [
       "[367.7207684185255,\n",
       " 367.7207684185255,\n",
       " -1.7085525837321303,\n",
       " -1.7085525837321303]"
      ]
     },
     "metadata": {},
     "output_type": "display_data"
    },
    {
     "data": {
      "text/plain": [
       "[377.37149490247623,\n",
       " 377.37149490247623,\n",
       " 3.4537325619572665,\n",
       " 3.4537325619572665]"
      ]
     },
     "metadata": {},
     "output_type": "display_data"
    },
    {
     "data": {
      "text/plain": [
       "[387.3272575345452, 387.3272575345452, 2.7822395720664344, 2.7822395720664344]"
      ]
     },
     "metadata": {},
     "output_type": "display_data"
    },
    {
     "data": {
      "text/plain": [
       "[397.5957853746147, 397.5957853746147, 2.5299080688168765, 2.5299080688168765]"
      ]
     },
     "metadata": {},
     "output_type": "display_data"
    },
    {
     "data": {
      "text/plain": [
       "[408.1742578596301, 408.1742578596301, 3.8096335445282445, 3.8096335445282445]"
      ]
     },
     "metadata": {},
     "output_type": "display_data"
    },
    {
     "data": {
      "text/plain": [
       "[419.0625902503395,\n",
       " 419.0625902503395,\n",
       " -0.49064048148707284,\n",
       " -0.49064048148707284]"
      ]
     },
     "metadata": {},
     "output_type": "display_data"
    },
    {
     "data": {
      "text/plain": [
       "[430.27509668327986, 430.27509668327986, 5.211256466713129, 5.211256466713129]"
      ]
     },
     "metadata": {},
     "output_type": "display_data"
    },
    {
     "data": {
      "text/plain": [
       "[441.8103362005097, 441.8103362005097, 0.9157771240321366, 0.9157771240321366]"
      ]
     },
     "metadata": {},
     "output_type": "display_data"
    },
    {
     "data": {
      "text/plain": [
       "[453.65686384341916,\n",
       " 453.65686384341916,\n",
       " 4.7291017077938164,\n",
       " 4.7291017077938164]"
      ]
     },
     "metadata": {},
     "output_type": "display_data"
    },
    {
     "data": {
      "text/plain": [
       "[465.8283192721554, 465.8283192721554, 2.9820471046404893, 2.9820471046404893]"
      ]
     },
     "metadata": {},
     "output_type": "display_data"
    },
    {
     "data": {
      "text/plain": [
       "[478.3271724722425, 478.3271724722425, 5.680776613907611, 5.680776613907611]"
      ]
     },
     "metadata": {},
     "output_type": "display_data"
    },
    {
     "data": {
      "text/plain": [
       "[491.1492603434705, 491.1492603434705, 3.965492192891378, 3.965492192891378]"
      ]
     },
     "metadata": {},
     "output_type": "display_data"
    },
    {
     "data": {
      "text/plain": [
       "[504.28699979587543, 504.28699979587543, 2.85603693284353, 2.85603693284353]"
      ]
     },
     "metadata": {},
     "output_type": "display_data"
    },
    {
     "data": {
      "text/plain": [
       "[517.7148576097437, 517.7148576097437, 1.6987532146564137, 1.6987532146564137]"
      ]
     },
     "metadata": {},
     "output_type": "display_data"
    },
    {
     "data": {
      "text/plain": [
       "[531.4262739742488, 531.4262739742488, 2.883775666352422, 2.883775666352422]"
      ]
     },
     "metadata": {},
     "output_type": "display_data"
    },
    {
     "data": {
      "text/plain": [
       "[545.4192553556059, 545.4192553556059, 1.6542396791164187, 1.6542396791164187]"
      ]
     },
     "metadata": {},
     "output_type": "display_data"
    },
    {
     "data": {
      "text/plain": [
       "[559.6964368794545, 559.6964368794545, 0.9378197209161978, 0.9378197209161978]"
      ]
     },
     "metadata": {},
     "output_type": "display_data"
    },
    {
     "data": {
      "text/plain": [
       "[574.2524204359341, 574.2524204359341, 3.804397008551337, 3.804397008551337]"
      ]
     },
     "metadata": {},
     "output_type": "display_data"
    },
    {
     "data": {
      "text/plain": [
       "[589.0816142589642, 589.0816142589642, 3.4772983735624163, 3.4772983735624163]"
      ]
     },
     "metadata": {},
     "output_type": "display_data"
    },
    {
     "data": {
      "text/plain": [
       "[604.1895150255539, 604.1895150255539, 2.0771147587895338, 2.0771147587895338]"
      ]
     },
     "metadata": {},
     "output_type": "display_data"
    },
    {
     "data": {
      "text/plain": [
       "[619.5771272073833,\n",
       " 619.5771272073833,\n",
       " 0.12071085151697769,\n",
       " 0.12071085151697769]"
      ]
     },
     "metadata": {},
     "output_type": "display_data"
    },
    {
     "data": {
      "text/plain": [
       "[635.2380588723662, 635.2380588723662, 1.4330048833120028, 1.4330048833120028]"
      ]
     },
     "metadata": {},
     "output_type": "display_data"
    },
    {
     "data": {
      "text/plain": [
       "[651.1732462619842, 651.1732462619842, 5.122129923292159, 5.122129923292159]"
      ]
     },
     "metadata": {},
     "output_type": "display_data"
    },
    {
     "data": {
      "text/plain": [
       "[667.3876773555395, 667.3876773555395, 0.9604293882232362, 0.9604293882232362]"
      ]
     },
     "metadata": {},
     "output_type": "display_data"
    },
    {
     "data": {
      "text/plain": [
       "[683.8784712441135, 683.8784712441135, 3.4182151511840146, 3.4182151511840146]"
      ]
     },
     "metadata": {},
     "output_type": "display_data"
    },
    {
     "data": {
      "text/plain": [
       "[700.6248005818187, 700.6248005818187, 2.706626694231551, 2.706626694231551]"
      ]
     },
     "metadata": {},
     "output_type": "display_data"
    },
    {
     "data": {
      "text/plain": [
       "[717.6115830487278, 717.6115830487278, 5.986831509201538, 5.986831509201538]"
      ]
     },
     "metadata": {},
     "output_type": "display_data"
    },
    {
     "data": {
      "text/plain": [
       "[734.8259135087519, 734.8259135087519, 1.1391596949189418, 1.1391596949189418]"
      ]
     },
     "metadata": {},
     "output_type": "display_data"
    },
    {
     "data": {
      "text/plain": [
       "[752.2688215098607, 752.2688215098607, 5.588377685393214, 5.588377685393214]"
      ]
     },
     "metadata": {},
     "output_type": "display_data"
    },
    {
     "data": {
      "text/plain": [
       "[769.950232311174, 769.950232311174, 3.7024628949106746, 3.7024628949106746]"
      ]
     },
     "metadata": {},
     "output_type": "display_data"
    },
    {
     "data": {
      "text/plain": [
       "[787.8514851171617, 787.8514851171617, 5.275371563416357, 5.275371563416357]"
      ]
     },
     "metadata": {},
     "output_type": "display_data"
    },
    {
     "data": {
      "text/plain": [
       "[805.9618186032527, 805.9618186032527, 3.4863317259897784, 3.4863317259897784]"
      ]
     },
     "metadata": {},
     "output_type": "display_data"
    },
    {
     "data": {
      "text/plain": [
       "[824.262702357338, 824.262702357338, 2.043533835979818, 2.043533835979818]"
      ]
     },
     "metadata": {},
     "output_type": "display_data"
    },
    {
     "data": {
      "text/plain": [
       "[842.7348349924641, 842.7348349924641, 1.0661707483225373, 1.0661707483225373]"
      ]
     },
     "metadata": {},
     "output_type": "display_data"
    },
    {
     "data": {
      "text/plain": [
       "[861.3607006544173, 861.3607006544173, 2.416201820897861, 2.416201820897861]"
      ]
     },
     "metadata": {},
     "output_type": "display_data"
    },
    {
     "data": {
      "text/plain": [
       "[880.1387226787208, 880.1387226787208, 4.732572525684153, 4.732572525684153]"
      ]
     },
     "metadata": {},
     "output_type": "display_data"
    },
    {
     "data": {
      "text/plain": [
       "[899.0841270929013, 899.0841270929013, 2.280258221483359, 2.280258221483359]"
      ]
     },
     "metadata": {},
     "output_type": "display_data"
    },
    {
     "data": {
      "text/plain": [
       "[918.2069225097416, 918.2069225097416, 4.406838221982717, 4.406838221982717]"
      ]
     },
     "metadata": {},
     "output_type": "display_data"
    },
    {
     "data": {
      "text/plain": [
       "[937.5119882975262, 937.5119882975262, 5.857673641074631, 5.857673641074631]"
      ]
     },
     "metadata": {},
     "output_type": "display_data"
    },
    {
     "data": {
      "text/plain": [
       "[957.0086904887279, 957.0086904887279, 1.7620600942378233, 1.7620600942378233]"
      ]
     },
     "metadata": {},
     "output_type": "display_data"
    },
    {
     "data": {
      "text/plain": [
       "[976.7015774348448, 976.7015774348448, 2.4727659238790265, 2.4727659238790265]"
      ]
     },
     "metadata": {},
     "output_type": "display_data"
    },
    {
     "data": {
      "text/plain": [
       "[996.5898353814434, 996.5898353814434, 2.6638128447088594, 2.6638128447088594]"
      ]
     },
     "metadata": {},
     "output_type": "display_data"
    },
    {
     "data": {
      "text/plain": [
       "[1016.6677266878405,\n",
       " 1016.6677266878405,\n",
       " 3.4149548745307876,\n",
       " 3.4149548745307876]"
      ]
     },
     "metadata": {},
     "output_type": "display_data"
    },
    {
     "data": {
      "text/plain": [
       "[1036.937520511006, 1036.937520511006, 1.4051996627349939, 1.4051996627349939]"
      ]
     },
     "metadata": {},
     "output_type": "display_data"
    },
    {
     "data": {
      "text/plain": [
       "[1057.4056227956692,\n",
       " 1057.4056227956692,\n",
       " 2.0306677875930674,\n",
       " 2.0306677875930674]"
      ]
     },
     "metadata": {},
     "output_type": "display_data"
    },
    {
     "data": {
      "text/plain": [
       "[1078.0865894031622, 1078.0865894031622, 4.94075483729655, 4.94075483729655]"
      ]
     },
     "metadata": {},
     "output_type": "display_data"
    },
    {
     "data": {
      "text/plain": [
       "[1098.9911106560724, 1098.9911106560724, 2.223692966325462, 2.223692966325462]"
      ]
     },
     "metadata": {},
     "output_type": "display_data"
    },
    {
     "data": {
      "text/plain": [
       "[1120.120991858721, 1120.120991858721, 2.804235457686603, 2.804235457686603]"
      ]
     },
     "metadata": {},
     "output_type": "display_data"
    },
    {
     "data": {
      "text/plain": [
       "[1141.470735974221, 1141.470735974221, 2.3857521382265703, 2.3857521382265703]"
      ]
     },
     "metadata": {},
     "output_type": "display_data"
    },
    {
     "data": {
      "text/plain": [
       "[1163.0322833297282,\n",
       " 1163.0322833297282,\n",
       " 3.6931682965397403,\n",
       " 3.6931682965397403]"
      ]
     },
     "metadata": {},
     "output_type": "display_data"
    },
    {
     "data": {
      "text/plain": [
       "[1184.8121427092303, 1184.8121427092303, 3.770155370854003, 3.770155370854003]"
      ]
     },
     "metadata": {},
     "output_type": "display_data"
    },
    {
     "data": {
      "text/plain": [
       "[1206.8058758219597,\n",
       " 1206.8058758219597,\n",
       " 3.0772354686117978,\n",
       " 3.0772354686117978]"
      ]
     },
     "metadata": {},
     "output_type": "display_data"
    },
    {
     "data": {
      "text/plain": [
       "[1228.9989413007486, 1228.9989413007486, 2.342423887847287, 2.342423887847287]"
      ]
     },
     "metadata": {},
     "output_type": "display_data"
    },
    {
     "data": {
      "text/plain": [
       "[1251.377205757256, 1251.377205757256, 4.622993074349442, 4.622993074349442]"
      ]
     },
     "metadata": {},
     "output_type": "display_data"
    },
    {
     "data": {
      "text/plain": [
       "[1273.9217008935661, 1273.9217008935661, 4.296545774109472, 4.296545774109472]"
      ]
     },
     "metadata": {},
     "output_type": "display_data"
    },
    {
     "data": {
      "text/plain": [
       "[1296.6287873161225, 1296.6287873161225, 5.3201019513711, 5.3201019513711]"
      ]
     },
     "metadata": {},
     "output_type": "display_data"
    },
    {
     "data": {
      "text/plain": [
       "[1319.5023216473655,\n",
       " 1319.5023216473655,\n",
       " 1.7477258584642192,\n",
       " 1.7477258584642192]"
      ]
     },
     "metadata": {},
     "output_type": "display_data"
    },
    {
     "data": {
      "text/plain": [
       "[1342.5411087675488, 1342.5411087675488, 4.335901656826572, 4.335901656826572]"
      ]
     },
     "metadata": {},
     "output_type": "display_data"
    },
    {
     "data": {
      "text/plain": [
       "[1365.752269684527, 1365.752269684527, 3.5335624757586985, 3.5335624757586985]"
      ]
     },
     "metadata": {},
     "output_type": "display_data"
    },
    {
     "data": {
      "text/plain": [
       "[1389.1359828837826, 1389.1359828837826, 5.474411885523167, 5.474411885523167]"
      ]
     },
     "metadata": {},
     "output_type": "display_data"
    },
    {
     "data": {
      "text/plain": [
       "[1412.702482105132, 1412.702482105132, 3.4608114477865093, 3.4608114477865093]"
      ]
     },
     "metadata": {},
     "output_type": "display_data"
    },
    {
     "data": {
      "text/plain": [
       "[1436.45836246565, 1436.45836246565, 3.061329734119748, 3.061329734119748]"
      ]
     },
     "metadata": {},
     "output_type": "display_data"
    },
    {
     "data": {
      "text/plain": [
       "[1460.414689001292, 1460.414689001292, 3.2654175939554104, 3.2654175939554104]"
      ]
     },
     "metadata": {},
     "output_type": "display_data"
    },
    {
     "data": {
      "text/plain": [
       "[1484.582657181524, 1484.582657181524, 3.1743548978950615, 3.1743548978950615]"
      ]
     },
     "metadata": {},
     "output_type": "display_data"
    },
    {
     "data": {
      "text/plain": [
       "[1508.974406598687, 1508.974406598687, 3.6423213731077793, 3.6423213731077793]"
      ]
     },
     "metadata": {},
     "output_type": "display_data"
    },
    {
     "data": {
      "text/plain": [
       "[1533.6021593898968, 1533.6021593898968, 2.970848172388364, 2.970848172388364]"
      ]
     },
     "metadata": {},
     "output_type": "display_data"
    },
    {
     "data": {
      "text/plain": [
       "[1558.475722385823, 1558.475722385823, 0.6903958478473009, 0.6903958478473009]"
      ]
     },
     "metadata": {},
     "output_type": "display_data"
    },
    {
     "data": {
      "text/plain": [
       "[1583.606901182091,\n",
       " 1583.606901182091,\n",
       " 0.22520524528471775,\n",
       " 0.22520524528471775]"
      ]
     },
     "metadata": {},
     "output_type": "display_data"
    },
    {
     "data": {
      "text/plain": [
       "[1609.000260201736, 1609.000260201736, 2.218645914202447, 2.218645914202447]"
      ]
     },
     "metadata": {},
     "output_type": "display_data"
    },
    {
     "data": {
      "text/plain": [
       "[1634.6475276637395, 1634.6475276637395, 2.190781615798925, 2.190781615798925]"
      ]
     },
     "metadata": {},
     "output_type": "display_data"
    },
    {
     "data": {
      "text/plain": [
       "[1660.5524209815262, 1660.5524209815262, 3.941934218218788, 3.941934218218788]"
      ]
     },
     "metadata": {},
     "output_type": "display_data"
    },
    {
     "data": {
      "text/plain": [
       "[1686.711401645212, 1686.711401645212, 1.2624708217379246, 1.2624708217379246]"
      ]
     },
     "metadata": {},
     "output_type": "display_data"
    },
    {
     "data": {
      "text/plain": [
       "[1713.1279370848192,\n",
       " 1713.1279370848192,\n",
       " 1.5891139861392356,\n",
       " 1.5891139861392356]"
      ]
     },
     "metadata": {},
     "output_type": "display_data"
    },
    {
     "data": {
      "text/plain": [
       "[1739.7981234559843,\n",
       " 1739.7981234559843,\n",
       " 2.2610721695915745,\n",
       " 2.2610721695915745]"
      ]
     },
     "metadata": {},
     "output_type": "display_data"
    },
    {
     "data": {
      "text/plain": [
       "[1766.7297482981076,\n",
       " 1766.7297482981076,\n",
       " 1.7308817406820676,\n",
       " 1.7308817406820676]"
      ]
     },
     "metadata": {},
     "output_type": "display_data"
    },
    {
     "data": {
      "text/plain": [
       "[1793.9142260099825,\n",
       " 1793.9142260099825,\n",
       " 0.2217615752659814,\n",
       " 0.2217615752659814]"
      ]
     },
     "metadata": {},
     "output_type": "display_data"
    },
    {
     "data": {
      "text/plain": [
       "[1821.3399974684892, 1821.3399974684892, 4.125817355364253, 4.125817355364253]"
      ]
     },
     "metadata": {},
     "output_type": "display_data"
    },
    {
     "data": {
      "text/plain": [
       "[1849.02195848879, 1849.02195848879, 3.2033750586408547, 3.2033750586408547]"
      ]
     },
     "metadata": {},
     "output_type": "display_data"
    },
    {
     "data": {
      "text/plain": [
       "[1876.9536660534984,\n",
       " 1876.9536660534984,\n",
       " 2.6082626820256998,\n",
       " 2.6082626820256998]"
      ]
     },
     "metadata": {},
     "output_type": "display_data"
    },
    {
     "data": {
      "text/plain": [
       "[1905.1189145978049,\n",
       " 1905.1189145978049,\n",
       " 2.6988506693772587,\n",
       " 2.6988506693772587]"
      ]
     },
     "metadata": {},
     "output_type": "display_data"
    },
    {
     "data": {
      "text/plain": [
       "[1933.5194627244114, 1933.5194627244114, 4.74531005036622, 4.74531005036622]"
      ]
     },
     "metadata": {},
     "output_type": "display_data"
    },
    {
     "data": {
      "text/plain": [
       "[1962.1793111872253,\n",
       " 1962.1793111872253,\n",
       " 0.8368281773519883,\n",
       " 0.8368281773519883]"
      ]
     },
     "metadata": {},
     "output_type": "display_data"
    },
    {
     "data": {
      "text/plain": [
       "[1991.1146571604877, 1991.1146571604877, 4.360662176972831, 4.360662176972831]"
      ]
     },
     "metadata": {},
     "output_type": "display_data"
    },
    {
     "data": {
      "text/plain": [
       "[2020.3325085991269, 2020.3325085991269, 6.420563128795944, 6.420563128795944]"
      ]
     },
     "metadata": {},
     "output_type": "display_data"
    },
    {
     "data": {
      "text/plain": [
       "[2049.8328242869284,\n",
       " 2049.8328242869284,\n",
       " 4.9191253018110315,\n",
       " 4.9191253018110315]"
      ]
     },
     "metadata": {},
     "output_type": "display_data"
    },
    {
     "data": {
      "text/plain": [
       "[2079.6225567711244,\n",
       " 2079.6225567711244,\n",
       " 1.8547067977833316,\n",
       " 1.8547067977833316]"
      ]
     },
     "metadata": {},
     "output_type": "display_data"
    },
    {
     "data": {
      "text/plain": [
       "[2109.702247814491, 2109.702247814491, 2.1398771250246975, 2.1398771250246975]"
      ]
     },
     "metadata": {},
     "output_type": "display_data"
    },
    {
     "data": {
      "text/plain": [
       "[2140.0592718826524, 2140.0592718826524, 4.181480644518342, 4.181480644518342]"
      ]
     },
     "metadata": {},
     "output_type": "display_data"
    },
    {
     "data": {
      "text/plain": [
       "[2170.6837802368996, 2170.6837802368996, 4.317279377878933, 4.317279377878933]"
      ]
     },
     "metadata": {},
     "output_type": "display_data"
    },
    {
     "data": {
      "text/plain": [
       "[2201.5732432183, 2201.5732432183, 0.6510751017186927, 0.6510751017186927]"
      ]
     },
     "metadata": {},
     "output_type": "display_data"
    },
    {
     "data": {
      "text/plain": [
       "[2232.724324044357, 2232.724324044357, -0.351021007479674, -0.351021007479674]"
      ]
     },
     "metadata": {},
     "output_type": "display_data"
    },
    {
     "data": {
      "text/plain": [
       "[2264.135796467569, 2264.135796467569, 2.1262734473469047, 2.1262734473469047]"
      ]
     },
     "metadata": {},
     "output_type": "display_data"
    },
    {
     "data": {
      "text/plain": [
       "[2295.7917433717876, 2295.7917433717876, 4.020360396998248, 4.020360396998248]"
      ]
     },
     "metadata": {},
     "output_type": "display_data"
    },
    {
     "data": {
      "text/plain": [
       "[2327.694935118775,\n",
       " 2327.694935118775,\n",
       " -0.2518046704974508,\n",
       " -0.2518046704974508]"
      ]
     },
     "metadata": {},
     "output_type": "display_data"
    },
    {
     "data": {
      "text/plain": [
       "[2359.8389150949556,\n",
       " 2359.8389150949556,\n",
       " 2.3561103845323235,\n",
       " 2.3561103845323235]"
      ]
     },
     "metadata": {},
     "output_type": "display_data"
    },
    {
     "data": {
      "text/plain": [
       "[2392.2083989556922,\n",
       " 2392.2083989556922,\n",
       " 3.3187285322879365,\n",
       " 3.3187285322879365]"
      ]
     },
     "metadata": {},
     "output_type": "display_data"
    },
    {
     "data": {
      "text/plain": [
       "[2424.8094482174306, 2424.8094482174306, 1.977764768229561, 1.977764768229561]"
      ]
     },
     "metadata": {},
     "output_type": "display_data"
    },
    {
     "data": {
      "text/plain": [
       "[832.199051579256, 832.199051579256, -2.6225532283082105, -2.6225532283082105]"
      ]
     },
     "metadata": {},
     "output_type": "display_data"
    },
    {
     "data": {
      "text/plain": [
       "[832.1998737423717, 832.1998737423717, 1.2996682906934591, 1.2996682906934591]"
      ]
     },
     "metadata": {},
     "output_type": "display_data"
    },
    {
     "data": {
      "text/plain": [
       "[832.2027590215325, 832.2027590215325, 1.273520002193832, 1.273520002193832]"
      ]
     },
     "metadata": {},
     "output_type": "display_data"
    },
    {
     "data": {
      "text/plain": [
       "[832.218911188115, 832.218911188115, 2.1491153861294645, 2.1491153861294645]"
      ]
     },
     "metadata": {},
     "output_type": "display_data"
    },
    {
     "data": {
      "text/plain": [
       "[832.2824493917045,\n",
       " 832.2824493917045,\n",
       " -0.1800360257844269,\n",
       " -0.1800360257844269]"
      ]
     },
     "metadata": {},
     "output_type": "display_data"
    },
    {
     "data": {
      "text/plain": [
       "[832.4097342273545, 832.4097342273545, 2.3707382971086854, 2.3707382971086854]"
      ]
     },
     "metadata": {},
     "output_type": "display_data"
    },
    {
     "data": {
      "text/plain": [
       "[832.6043645592711,\n",
       " 832.6043645592711,\n",
       " -0.38107981887859976,\n",
       " -0.38107981887859976]"
      ]
     },
     "metadata": {},
     "output_type": "display_data"
    },
    {
     "data": {
      "text/plain": [
       "[832.8604142727633,\n",
       " 832.8604142727633,\n",
       " 0.19807424968904896,\n",
       " 0.19807424968904896]"
      ]
     },
     "metadata": {},
     "output_type": "display_data"
    },
    {
     "data": {
      "text/plain": [
       "[833.1764329112699, 833.1764329112699, 1.5985018884528497, 1.5985018884528497]"
      ]
     },
     "metadata": {},
     "output_type": "display_data"
    },
    {
     "data": {
      "text/plain": [
       "[833.5572282643332, 833.5572282643332, 0.991419094105275, 0.991419094105275]"
      ]
     },
     "metadata": {},
     "output_type": "display_data"
    },
    {
     "data": {
      "text/plain": [
       "[834.0044105381365,\n",
       " 834.0044105381365,\n",
       " -0.7563008820972941,\n",
       " -0.7563008820972941]"
      ]
     },
     "metadata": {},
     "output_type": "display_data"
    },
    {
     "data": {
      "text/plain": [
       "[834.5185364397352,\n",
       " 834.5185364397352,\n",
       " 0.30918021511020566,\n",
       " 0.30918021511020566]"
      ]
     },
     "metadata": {},
     "output_type": "display_data"
    },
    {
     "data": {
      "text/plain": [
       "[835.0961995342656, 835.0961995342656, 2.6899130005729486, 2.6899130005729486]"
      ]
     },
     "metadata": {},
     "output_type": "display_data"
    },
    {
     "data": {
      "text/plain": [
       "[835.7255285049866, 835.7255285049866, 1.7693108114213976, 1.7693108114213976]"
      ]
     },
     "metadata": {},
     "output_type": "display_data"
    },
    {
     "data": {
      "text/plain": [
       "[836.4205048411875, 836.4205048411875, 1.9415743482588703, 1.9415743482588703]"
      ]
     },
     "metadata": {},
     "output_type": "display_data"
    },
    {
     "data": {
      "text/plain": [
       "[837.1894334359766, 837.1894334359766, 2.9627441936914556, 2.9627441936914556]"
      ]
     },
     "metadata": {},
     "output_type": "display_data"
    },
    {
     "data": {
      "text/plain": [
       "[838.0092242598124, 838.0092242598124, 0.9778014707799005, 0.9778014707799005]"
      ]
     },
     "metadata": {},
     "output_type": "display_data"
    },
    {
     "data": {
      "text/plain": [
       "[838.8768246015464, 838.8768246015464, 1.6297240342573325, 1.6297240342573325]"
      ]
     },
     "metadata": {},
     "output_type": "display_data"
    },
    {
     "data": {
      "text/plain": [
       "[839.8061077544792, 839.8061077544792, 1.9717555094657084, 1.9717555094657084]"
      ]
     },
     "metadata": {},
     "output_type": "display_data"
    },
    {
     "data": {
      "text/plain": [
       "[840.8062639629622, 840.8062639629622, 1.5015949631002223, 1.5015949631002223]"
      ]
     },
     "metadata": {},
     "output_type": "display_data"
    },
    {
     "data": {
      "text/plain": [
       "[841.8734214802519, 841.8734214802519, 1.347198256773044, 1.347198256773044]"
      ]
     },
     "metadata": {},
     "output_type": "display_data"
    },
    {
     "data": {
      "text/plain": [
       "[843.0002972150651, 843.0002972150651, 3.319280219664668, 3.319280219664668]"
      ]
     },
     "metadata": {},
     "output_type": "display_data"
    },
    {
     "data": {
      "text/plain": [
       "[844.184697826717, 844.184697826717, 2.4594915278389564, 2.4594915278389564]"
      ]
     },
     "metadata": {},
     "output_type": "display_data"
    },
    {
     "data": {
      "text/plain": [
       "[845.442652502264,\n",
       " 845.442652502264,\n",
       " -0.12163250385515023,\n",
       " -0.12163250385515023]"
      ]
     },
     "metadata": {},
     "output_type": "display_data"
    },
    {
     "data": {
      "text/plain": [
       "[846.7900517496184,\n",
       " 846.7900517496184,\n",
       " -1.4922267111026792,\n",
       " -1.4922267111026792]"
      ]
     },
     "metadata": {},
     "output_type": "display_data"
    },
    {
     "data": {
      "text/plain": [
       "[848.2307769962979,\n",
       " 848.2307769962979,\n",
       " 0.09638702633977769,\n",
       " 0.09638702633977769]"
      ]
     },
     "metadata": {},
     "output_type": "display_data"
    },
    {
     "data": {
      "text/plain": [
       "[849.7503358686516, 849.7503358686516, 3.7155798190108547, 3.7155798190108547]"
      ]
     },
     "metadata": {},
     "output_type": "display_data"
    },
    {
     "data": {
      "text/plain": [
       "[851.3426982616478, 851.3426982616478, 2.3398342526140117, 2.3398342526140117]"
      ]
     },
     "metadata": {},
     "output_type": "display_data"
    },
    {
     "data": {
      "text/plain": [
       "[853.0070455348309, 853.0070455348309, 0.9712508286686344, 0.9712508286686344]"
      ]
     },
     "metadata": {},
     "output_type": "display_data"
    },
    {
     "data": {
      "text/plain": [
       "[854.7488789957692, 854.7488789957692, 0.3598616222611173, 0.3598616222611173]"
      ]
     },
     "metadata": {},
     "output_type": "display_data"
    },
    {
     "data": {
      "text/plain": [
       "[856.5855722098318, 856.5855722098318, -2.364336453992539, -2.364336453992539]"
      ]
     },
     "metadata": {},
     "output_type": "display_data"
    },
    {
     "data": {
      "text/plain": [
       "[858.5299383736834, 858.5299383736834, -1.552163978598204, -1.552163978598204]"
      ]
     },
     "metadata": {},
     "output_type": "display_data"
    },
    {
     "data": {
      "text/plain": [
       "[860.5833605098279, 860.5833605098279, 3.9207719321414416, 3.9207719321414416]"
      ]
     },
     "metadata": {},
     "output_type": "display_data"
    },
    {
     "data": {
      "text/plain": [
       "[862.7495760561135, 862.7495760561135, 0.7494295553677841, 0.7494295553677841]"
      ]
     },
     "metadata": {},
     "output_type": "display_data"
    },
    {
     "data": {
      "text/plain": [
       "[865.0331354545082, 865.0331354545082, 2.171045265789645, 2.171045265789645]"
      ]
     },
     "metadata": {},
     "output_type": "display_data"
    },
    {
     "data": {
      "text/plain": [
       "[867.4347808448999, 867.4347808448999, 2.0651670690325212, 2.0651670690325212]"
      ]
     },
     "metadata": {},
     "output_type": "display_data"
    },
    {
     "data": {
      "text/plain": [
       "[869.9607192099645, 869.9607192099645, 1.2487970504234926, 1.2487970504234926]"
      ]
     },
     "metadata": {},
     "output_type": "display_data"
    },
    {
     "data": {
      "text/plain": [
       "[872.6134802445151, 872.6134802445151, 3.876513366269043, 3.876513366269043]"
      ]
     },
     "metadata": {},
     "output_type": "display_data"
    },
    {
     "data": {
      "text/plain": [
       "[875.4196918353423, 875.4196918353423, 2.7131177956458035, 2.7131177956458035]"
      ]
     },
     "metadata": {},
     "output_type": "display_data"
    },
    {
     "data": {
      "text/plain": [
       "[878.3877037715847,\n",
       " 878.3877037715847,\n",
       " 0.07321632129219036,\n",
       " 0.07321632129219036]"
      ]
     },
     "metadata": {},
     "output_type": "display_data"
    },
    {
     "data": {
      "text/plain": [
       "[881.5100774170817,\n",
       " 881.5100774170817,\n",
       " -0.49659378274036103,\n",
       " -0.49659378274036103]"
      ]
     },
     "metadata": {},
     "output_type": "display_data"
    },
    {
     "data": {
      "text/plain": [
       "[884.7871806245724, 884.7871806245724, 3.5840919727825407, 3.5840919727825407]"
      ]
     },
     "metadata": {},
     "output_type": "display_data"
    },
    {
     "data": {
      "text/plain": [
       "[888.230327132915,\n",
       " 888.230327132915,\n",
       " -0.11688502510699172,\n",
       " -0.11688502510699172]"
      ]
     },
     "metadata": {},
     "output_type": "display_data"
    },
    {
     "data": {
      "text/plain": [
       "[891.8361843581812, 891.8361843581812, 2.781773111223292, 2.781773111223292]"
      ]
     },
     "metadata": {},
     "output_type": "display_data"
    },
    {
     "data": {
      "text/plain": [
       "[895.5899388240214, 895.5899388240214, 3.070003143593631, 3.070003143593631]"
      ]
     },
     "metadata": {},
     "output_type": "display_data"
    },
    {
     "data": {
      "text/plain": [
       "[899.4726716437103,\n",
       " 899.4726716437103,\n",
       " 0.34468512757038117,\n",
       " 0.34468512757038117]"
      ]
     },
     "metadata": {},
     "output_type": "display_data"
    },
    {
     "data": {
      "text/plain": [
       "[903.4908285603133, 903.4908285603133, 1.4098313213683227, 1.4098313213683227]"
      ]
     },
     "metadata": {},
     "output_type": "display_data"
    },
    {
     "data": {
      "text/plain": [
       "[907.6544309627328, 907.6544309627328, 1.7745318176858957, 1.7745318176858957]"
      ]
     },
     "metadata": {},
     "output_type": "display_data"
    },
    {
     "data": {
      "text/plain": [
       "[911.9713275337023,\n",
       " 911.9713275337023,\n",
       " -0.14954169542127493,\n",
       " -0.14954169542127493]"
      ]
     },
     "metadata": {},
     "output_type": "display_data"
    },
    {
     "data": {
      "text/plain": [
       "[916.4414430227089,\n",
       " 916.4414430227089,\n",
       " 0.008691499405327097,\n",
       " 0.008691499405327097]"
      ]
     },
     "metadata": {},
     "output_type": "display_data"
    },
    {
     "data": {
      "text/plain": [
       "[921.0607842442677, 921.0607842442677, 1.8944117238956089, 1.8944117238956089]"
      ]
     },
     "metadata": {},
     "output_type": "display_data"
    },
    {
     "data": {
      "text/plain": [
       "[925.8364776260864,\n",
       " 925.8364776260864,\n",
       " -1.3262277299011906,\n",
       " -1.3262277299011906]"
      ]
     },
     "metadata": {},
     "output_type": "display_data"
    },
    {
     "data": {
      "text/plain": [
       "[930.7842559118205, 930.7842559118205, 1.5836482359746904, 1.5836482359746904]"
      ]
     },
     "metadata": {},
     "output_type": "display_data"
    },
    {
     "data": {
      "text/plain": [
       "[935.9040127603635, 935.9040127603635, 1.2556513675756522, 1.2556513675756522]"
      ]
     },
     "metadata": {},
     "output_type": "display_data"
    },
    {
     "data": {
      "text/plain": [
       "[941.1960239987677,\n",
       " 941.1960239987677,\n",
       " -0.5595758406384892,\n",
       " -0.5595758406384892]"
      ]
     },
     "metadata": {},
     "output_type": "display_data"
    },
    {
     "data": {
      "text/plain": [
       "[946.656853072584, 946.656853072584, 2.0206247173272778, 2.0206247173272778]"
      ]
     },
     "metadata": {},
     "output_type": "display_data"
    },
    {
     "data": {
      "text/plain": [
       "[952.2949090160378,\n",
       " 952.2949090160378,\n",
       " -2.5996641482911276,\n",
       " -2.5996641482911276]"
      ]
     },
     "metadata": {},
     "output_type": "display_data"
    },
    {
     "data": {
      "text/plain": [
       "[958.1175607552055, 958.1175607552055, 1.2700966799190225, 1.2700966799190225]"
      ]
     },
     "metadata": {},
     "output_type": "display_data"
    },
    {
     "data": {
      "text/plain": [
       "[964.1373937332039, 964.1373937332039, 0.2645374458509737, 0.2645374458509737]"
      ]
     },
     "metadata": {},
     "output_type": "display_data"
    },
    {
     "data": {
      "text/plain": [
       "[970.3642290509148, 970.3642290509148, 1.0649219331861228, 1.0649219331861228]"
      ]
     },
     "metadata": {},
     "output_type": "display_data"
    },
    {
     "data": {
      "text/plain": [
       "[976.8048919994535, 976.8048919994535, 0.9197120954223548, 0.9197120954223548]"
      ]
     },
     "metadata": {},
     "output_type": "display_data"
    },
    {
     "data": {
      "text/plain": [
       "[983.4696933084916, 983.4696933084916, 2.294738915250341, 2.294738915250341]"
      ]
     },
     "metadata": {},
     "output_type": "display_data"
    },
    {
     "data": {
      "text/plain": [
       "[990.356584619189, 990.356584619189, 0.47981464028109977, 0.47981464028109977]"
      ]
     },
     "metadata": {},
     "output_type": "display_data"
    },
    {
     "data": {
      "text/plain": [
       "[997.4727450496277, 997.4727450496277, 1.2680271359878623, 1.2680271359878623]"
      ]
     },
     "metadata": {},
     "output_type": "display_data"
    },
    {
     "data": {
      "text/plain": [
       "[1004.8350632871773,\n",
       " 1004.8350632871773,\n",
       " 0.04744588908516034,\n",
       " 0.04744588908516034]"
      ]
     },
     "metadata": {},
     "output_type": "display_data"
    },
    {
     "data": {
      "text/plain": [
       "[1012.4488009028422,\n",
       " 1012.4488009028422,\n",
       " 2.4013548869484667,\n",
       " 2.4013548869484667]"
      ]
     },
     "metadata": {},
     "output_type": "display_data"
    },
    {
     "data": {
      "text/plain": [
       "[1020.3209637628499,\n",
       " 1020.3209637628499,\n",
       " 3.3074008979409424,\n",
       " 3.3074008979409424]"
      ]
     },
     "metadata": {},
     "output_type": "display_data"
    },
    {
     "data": {
      "text/plain": [
       "[1028.4408477039183,\n",
       " 1028.4408477039183,\n",
       " 0.23895108901799078,\n",
       " 0.23895108901799078]"
      ]
     },
     "metadata": {},
     "output_type": "display_data"
    },
    {
     "data": {
      "text/plain": [
       "[1036.8006268760234,\n",
       " 1036.8006268760234,\n",
       " 0.27434447819238594,\n",
       " 0.27434447819238594]"
      ]
     },
     "metadata": {},
     "output_type": "display_data"
    },
    {
     "data": {
      "text/plain": [
       "[1045.383034896905, 1045.383034896905, 2.1416160265260564, 2.1416160265260564]"
      ]
     },
     "metadata": {},
     "output_type": "display_data"
    },
    {
     "data": {
      "text/plain": [
       "[1054.181942273662, 1054.181942273662, 0.5942302182320488, 0.5942302182320488]"
      ]
     },
     "metadata": {},
     "output_type": "display_data"
    },
    {
     "data": {
      "text/plain": [
       "[1063.1780638399239,\n",
       " 1063.1780638399239,\n",
       " -0.36717464114774057,\n",
       " -0.36717464114774057]"
      ]
     },
     "metadata": {},
     "output_type": "display_data"
    },
    {
     "data": {
      "text/plain": [
       "[1072.3465486579285,\n",
       " 1072.3465486579285,\n",
       " 3.2451145227655473,\n",
       " 3.2451145227655473]"
      ]
     },
     "metadata": {},
     "output_type": "display_data"
    },
    {
     "data": {
      "text/plain": [
       "[1081.6789085807613,\n",
       " 1081.6789085807613,\n",
       " -1.7414543304994161,\n",
       " -1.7414543304994161]"
      ]
     },
     "metadata": {},
     "output_type": "display_data"
    },
    {
     "data": {
      "text/plain": [
       "[1091.1775259498781, 1091.1775259498781, 1.156816780832819, 1.156816780832819]"
      ]
     },
     "metadata": {},
     "output_type": "display_data"
    },
    {
     "data": {
      "text/plain": [
       "[1100.847228094541,\n",
       " 1100.847228094541,\n",
       " -1.4217533961430502,\n",
       " -1.4217533961430502]"
      ]
     },
     "metadata": {},
     "output_type": "display_data"
    },
    {
     "data": {
      "text/plain": [
       "[1110.6967776749798,\n",
       " 1110.6967776749798,\n",
       " 0.5746556067550431,\n",
       " 0.5746556067550431]"
      ]
     },
     "metadata": {},
     "output_type": "display_data"
    },
    {
     "data": {
      "text/plain": [
       "[1120.7341988902385,\n",
       " 1120.7341988902385,\n",
       " -0.8317683227399622,\n",
       " -0.8317683227399622]"
      ]
     },
     "metadata": {},
     "output_type": "display_data"
    },
    {
     "data": {
      "text/plain": [
       "[1130.9795984744253,\n",
       " 1130.9795984744253,\n",
       " -1.4747791908755459,\n",
       " -1.4747791908755459]"
      ]
     },
     "metadata": {},
     "output_type": "display_data"
    },
    {
     "data": {
      "text/plain": [
       "[1141.4462451386005,\n",
       " 1141.4462451386005,\n",
       " 2.9368566606798527,\n",
       " 2.9368566606798527]"
      ]
     },
     "metadata": {},
     "output_type": "display_data"
    },
    {
     "data": {
      "text/plain": [
       "[1152.1434704012354,\n",
       " 1152.1434704012354,\n",
       " 3.1737468090825187,\n",
       " 3.1737468090825187]"
      ]
     },
     "metadata": {},
     "output_type": "display_data"
    },
    {
     "data": {
      "text/plain": [
       "[1163.0777349501864,\n",
       " 1163.0777349501864,\n",
       " 0.19298466424570448,\n",
       " 0.19298466424570448]"
      ]
     },
     "metadata": {},
     "output_type": "display_data"
    },
    {
     "data": {
      "text/plain": [
       "[1174.2350468554048,\n",
       " 1174.2350468554048,\n",
       " -1.3990200284475245,\n",
       " -1.3990200284475245]"
      ]
     },
     "metadata": {},
     "output_type": "display_data"
    },
    {
     "data": {
      "text/plain": [
       "[1185.6010734827394, 1185.6010734827394, -0.91038374089195, -0.91038374089195]"
      ]
     },
     "metadata": {},
     "output_type": "display_data"
    },
    {
     "data": {
      "text/plain": [
       "[1197.1733679517229, 1197.1733679517229, 1.099746152537055, 1.099746152537055]"
      ]
     },
     "metadata": {},
     "output_type": "display_data"
    },
    {
     "data": {
      "text/plain": [
       "[1208.9459376587638,\n",
       " 1208.9459376587638,\n",
       " 0.4284833048185328,\n",
       " 0.4284833048185328]"
      ]
     },
     "metadata": {},
     "output_type": "display_data"
    },
    {
     "data": {
      "text/plain": [
       "[1220.9079974006493,\n",
       " 1220.9079974006493,\n",
       " 1.4228719494568596,\n",
       " 1.4228719494568596]"
      ]
     },
     "metadata": {},
     "output_type": "display_data"
    },
    {
     "data": {
      "text/plain": [
       "[1233.041779511184, 1233.041779511184, 3.8441944802671397, 3.8441944802671397]"
      ]
     },
     "metadata": {},
     "output_type": "display_data"
    },
    {
     "data": {
      "text/plain": [
       "[1245.34565103486, 1245.34565103486, 2.0842286877890848, 2.0842286877890848]"
      ]
     },
     "metadata": {},
     "output_type": "display_data"
    },
    {
     "data": {
      "text/plain": [
       "[1257.8119850716453,\n",
       " 1257.8119850716453,\n",
       " -0.027645811151362443,\n",
       " -0.027645811151362443]"
      ]
     },
     "metadata": {},
     "output_type": "display_data"
    },
    {
     "data": {
      "text/plain": [
       "[1270.4309052786436,\n",
       " 1270.4309052786436,\n",
       " 1.2869715132470814,\n",
       " 1.2869715132470814]"
      ]
     },
     "metadata": {},
     "output_type": "display_data"
    },
    {
     "data": {
      "text/plain": [
       "[1283.2160471818497, 1283.2160471818497, 0.454684256170489, 0.454684256170489]"
      ]
     },
     "metadata": {},
     "output_type": "display_data"
    },
    {
     "data": {
      "text/plain": [
       "[1296.173121975636, 1296.173121975636, 1.389469325599432, 1.389469325599432]"
      ]
     },
     "metadata": {},
     "output_type": "display_data"
    },
    {
     "data": {
      "text/plain": [
       "[1309.2968174211705,\n",
       " 1309.2968174211705,\n",
       " 1.5816722830447207,\n",
       " 1.5816722830447207]"
      ]
     },
     "metadata": {},
     "output_type": "display_data"
    },
    {
     "data": {
      "text/plain": [
       "[1322.5850345252904,\n",
       " 1322.5850345252904,\n",
       " 3.4493774453021686,\n",
       " 3.4493774453021686]"
      ]
     },
     "metadata": {},
     "output_type": "display_data"
    },
    {
     "data": {
      "text/plain": [
       "[1336.0437300485137,\n",
       " 1336.0437300485137,\n",
       " 2.7070359160088833,\n",
       " 2.7070359160088833]"
      ]
     },
     "metadata": {},
     "output_type": "display_data"
    },
    {
     "data": {
      "text/plain": [
       "[1349.6696411365986, 1349.6696411365986, 0.51247669843129, 0.51247669843129]"
      ]
     },
     "metadata": {},
     "output_type": "display_data"
    },
    {
     "data": {
      "text/plain": [
       "[1363.4659026931722,\n",
       " 1363.4659026931722,\n",
       " 0.20946979903932528,\n",
       " 0.20946979903932528]"
      ]
     },
     "metadata": {},
     "output_type": "display_data"
    },
    {
     "data": {
      "text/plain": [
       "[1377.4379984701488,\n",
       " 1377.4379984701488,\n",
       " 1.3921907745531619,\n",
       " 1.3921907745531619]"
      ]
     },
     "metadata": {},
     "output_type": "display_data"
    },
    {
     "data": {
      "text/plain": [
       "[1391.5860041831888,\n",
       " 1391.5860041831888,\n",
       " 0.7653349892098154,\n",
       " 0.7653349892098154]"
      ]
     },
     "metadata": {},
     "output_type": "display_data"
    },
    {
     "data": {
      "text/plain": [
       "[1405.9115787683072,\n",
       " 1405.9115787683072,\n",
       " -0.6442446433828197,\n",
       " -0.6442446433828197]"
      ]
     },
     "metadata": {},
     "output_type": "display_data"
    },
    {
     "data": {
      "text/plain": [
       "[1420.4177402122805,\n",
       " 1420.4177402122805,\n",
       " 2.5948292028103888,\n",
       " 2.5948292028103888]"
      ]
     },
     "metadata": {},
     "output_type": "display_data"
    },
    {
     "data": {
      "text/plain": [
       "[1435.102248823885, 1435.102248823885, 2.764917095827206, 2.764917095827206]"
      ]
     },
     "metadata": {},
     "output_type": "display_data"
    },
    {
     "data": {
      "text/plain": [
       "[1449.9718514211106,\n",
       " 1449.9718514211106,\n",
       " -0.09291119901740097,\n",
       " -0.09291119901740097]"
      ]
     },
     "metadata": {},
     "output_type": "display_data"
    },
    {
     "data": {
      "text/plain": [
       "[1465.0302931681028,\n",
       " 1465.0302931681028,\n",
       " -1.0542120001732591,\n",
       " -1.0542120001732591]"
      ]
     },
     "metadata": {},
     "output_type": "display_data"
    },
    {
     "data": {
      "text/plain": [
       "[1480.28613913875, 1480.28613913875, 2.001641839001616, 2.001641839001616]"
      ]
     },
     "metadata": {},
     "output_type": "display_data"
    },
    {
     "data": {
      "text/plain": [
       "[1495.7473962979764, 1495.7473962979764, 2.47118256731008, 2.47118256731008]"
      ]
     },
     "metadata": {},
     "output_type": "display_data"
    },
    {
     "data": {
      "text/plain": [
       "[1511.406539084809, 1511.406539084809, 3.958148439150651, 3.958148439150651]"
      ]
     },
     "metadata": {},
     "output_type": "display_data"
    },
    {
     "data": {
      "text/plain": [
       "[1527.2823009401568,\n",
       " 1527.2823009401568,\n",
       " 3.7811067530007536,\n",
       " 3.7811067530007536]"
      ]
     },
     "metadata": {},
     "output_type": "display_data"
    },
    {
     "data": {
      "text/plain": [
       "[1543.385988007572, 1543.385988007572, 3.353565929296713, 3.353565929296713]"
      ]
     },
     "metadata": {},
     "output_type": "display_data"
    },
    {
     "data": {
      "text/plain": [
       "[1559.7221108335577,\n",
       " 1559.7221108335577,\n",
       " 1.3232844021228372,\n",
       " 1.3232844021228372]"
      ]
     },
     "metadata": {},
     "output_type": "display_data"
    },
    {
     "data": {
      "text/plain": [
       "[1576.2850254194154, 1576.2850254194154, 1.820273847014173, 1.820273847014173]"
      ]
     },
     "metadata": {},
     "output_type": "display_data"
    },
    {
     "data": {
      "text/plain": [
       "[1593.0812737926635,\n",
       " 1593.0812737926635,\n",
       " 1.7142223993961987,\n",
       " 1.7142223993961987]"
      ]
     },
     "metadata": {},
     "output_type": "display_data"
    },
    {
     "data": {
      "text/plain": [
       "[1610.1255408653913,\n",
       " 1610.1255408653913,\n",
       " 1.0788879370957132,\n",
       " 1.0788879370957132]"
      ]
     },
     "metadata": {},
     "output_type": "display_data"
    },
    {
     "data": {
      "text/plain": [
       "[1627.4128752742483,\n",
       " 1627.4128752742483,\n",
       " 1.5433729391731474,\n",
       " 1.5433729391731474]"
      ]
     },
     "metadata": {},
     "output_type": "display_data"
    },
    {
     "data": {
      "text/plain": [
       "[1644.9400471334818, 1644.9400471334818, 4.396405880023465, 4.396405880023465]"
      ]
     },
     "metadata": {},
     "output_type": "display_data"
    },
    {
     "data": {
      "text/plain": [
       "[1662.7106551909833, 1662.7106551909833, 2.424783107630552, 2.424783107630552]"
      ]
     },
     "metadata": {},
     "output_type": "display_data"
    },
    {
     "data": {
      "text/plain": [
       "[1680.7215649492844,\n",
       " 1680.7215649492844,\n",
       " 1.0097095152760438,\n",
       " 1.0097095152760438]"
      ]
     },
     "metadata": {},
     "output_type": "display_data"
    },
    {
     "data": {
      "text/plain": [
       "[1698.9781552463028,\n",
       " 1698.9781552463028,\n",
       " -0.04761768925645837,\n",
       " -0.04761768925645837]"
      ]
     },
     "metadata": {},
     "output_type": "display_data"
    },
    {
     "data": {
      "text/plain": [
       "[1717.4750816910737,\n",
       " 1717.4750816910737,\n",
       " 2.3445789313650174,\n",
       " 2.3445789313650174]"
      ]
     },
     "metadata": {},
     "output_type": "display_data"
    },
    {
     "data": {
      "text/plain": [
       "[1736.209053481436,\n",
       " 1736.209053481436,\n",
       " -0.23330637925238773,\n",
       " -0.23330637925238773]"
      ]
     },
     "metadata": {},
     "output_type": "display_data"
    },
    {
     "data": {
      "text/plain": [
       "[1755.1709920588337,\n",
       " 1755.1709920588337,\n",
       " -0.6331820884833192,\n",
       " -0.6331820884833192]"
      ]
     },
     "metadata": {},
     "output_type": "display_data"
    },
    {
     "data": {
      "text/plain": [
       "[1774.3454995612744,\n",
       " 1774.3454995612744,\n",
       " 1.3803965567275838,\n",
       " 1.3803965567275838]"
      ]
     },
     "metadata": {},
     "output_type": "display_data"
    },
    {
     "data": {
      "text/plain": [
       "[1793.7358866605034, 1793.7358866605034, 2.153587097267045, 2.153587097267045]"
      ]
     },
     "metadata": {},
     "output_type": "display_data"
    },
    {
     "data": {
      "text/plain": [
       "[1813.3484306684195,\n",
       " 1813.3484306684195,\n",
       " 1.1223035096047997,\n",
       " 1.1223035096047997]"
      ]
     },
     "metadata": {},
     "output_type": "display_data"
    },
    {
     "data": {
      "text/plain": [
       "[1833.1762447495994,\n",
       " 1833.1762447495994,\n",
       " 1.6404803843520903,\n",
       " 1.6404803843520903]"
      ]
     },
     "metadata": {},
     "output_type": "display_data"
    },
    {
     "data": {
      "text/plain": [
       "[1853.2176132938464, 1853.2176132938464, 2.025791794521204, 2.025791794521204]"
      ]
     },
     "metadata": {},
     "output_type": "display_data"
    },
    {
     "data": {
      "text/plain": [
       "[1873.464410041985,\n",
       " 1873.464410041985,\n",
       " -0.028014792726237525,\n",
       " -0.028014792726237525]"
      ]
     },
     "metadata": {},
     "output_type": "display_data"
    },
    {
     "data": {
      "text/plain": [
       "[1893.914015330937, 1893.914015330937, 1.9673595959474037, 1.9673595959474037]"
      ]
     },
     "metadata": {},
     "output_type": "display_data"
    },
    {
     "data": {
      "text/plain": [
       "[1914.578816383779, 1914.578816383779, 2.1180408933948724, 2.1180408933948724]"
      ]
     },
     "metadata": {},
     "output_type": "display_data"
    },
    {
     "data": {
      "text/plain": [
       "[1935.4586713261847,\n",
       " 1935.4586713261847,\n",
       " 1.4055344189113115,\n",
       " 1.4055344189113115]"
      ]
     },
     "metadata": {},
     "output_type": "display_data"
    },
    {
     "data": {
      "text/plain": [
       "[1956.5381174994823,\n",
       " 1956.5381174994823,\n",
       " -0.3541654154534659,\n",
       " -0.3541654154534659]"
      ]
     },
     "metadata": {},
     "output_type": "display_data"
    },
    {
     "data": {
      "text/plain": [
       "[1977.8138015856507, 1977.8138015856507, 2.22195776787895, 2.22195776787895]"
      ]
     },
     "metadata": {},
     "output_type": "display_data"
    },
    {
     "data": {
      "text/plain": [
       "[1999.2898816954635,\n",
       " 1999.2898816954635,\n",
       " 1.5209918924916275,\n",
       " 1.5209918924916275]"
      ]
     },
     "metadata": {},
     "output_type": "display_data"
    },
    {
     "data": {
      "text/plain": [
       "[2020.9589119530567,\n",
       " 2020.9589119530567,\n",
       " -0.7089616538405157,\n",
       " -0.7089616538405157]"
      ]
     },
     "metadata": {},
     "output_type": "display_data"
    },
    {
     "data": {
      "text/plain": [
       "[2042.8162375056795,\n",
       " 2042.8162375056795,\n",
       " -2.5969482339880283,\n",
       " -2.5969482339880283]"
      ]
     },
     "metadata": {},
     "output_type": "display_data"
    },
    {
     "data": {
      "text/plain": [
       "[2064.8509081144375, 2064.8509081144375, 4.856520149322945, 4.856520149322945]"
      ]
     },
     "metadata": {},
     "output_type": "display_data"
    },
    {
     "data": {
      "text/plain": [
       "[2087.0535309450024,\n",
       " 2087.0535309450024,\n",
       " 1.0114390874505532,\n",
       " 1.0114390874505532]"
      ]
     },
     "metadata": {},
     "output_type": "display_data"
    },
    {
     "data": {
      "text/plain": [
       "[2109.43792679532, 2109.43792679532, 0.775107782785863, 0.775107782785863]"
      ]
     },
     "metadata": {},
     "output_type": "display_data"
    },
    {
     "data": {
      "text/plain": [
       "[2132.0254840756334, 2132.0254840756334, 2.456681628855309, 2.456681628855309]"
      ]
     },
     "metadata": {},
     "output_type": "display_data"
    },
    {
     "data": {
      "text/plain": [
       "[2154.838383545617, 2154.838383545617, 2.536469812080122, 2.536469812080122]"
      ]
     },
     "metadata": {},
     "output_type": "display_data"
    },
    {
     "data": {
      "text/plain": [
       "[2177.883821471398,\n",
       " 2177.883821471398,\n",
       " -1.7840024691214906,\n",
       " -1.7840024691214906]"
      ]
     },
     "metadata": {},
     "output_type": "display_data"
    },
    {
     "data": {
      "text/plain": [
       "[2201.157523766082,\n",
       " 2201.157523766082,\n",
       " -1.3981056718207634,\n",
       " -1.3981056718207634]"
      ]
     },
     "metadata": {},
     "output_type": "display_data"
    },
    {
     "data": {
      "text/plain": [
       "[2224.6580490012293,\n",
       " 2224.6580490012293,\n",
       " -0.30549479464805884,\n",
       " -0.30549479464805884]"
      ]
     },
     "metadata": {},
     "output_type": "display_data"
    },
    {
     "data": {
      "text/plain": [
       "[2248.382837642156, 2248.382837642156, 2.5655227230913464, 2.5655227230913464]"
      ]
     },
     "metadata": {},
     "output_type": "display_data"
    },
    {
     "data": {
      "text/plain": [
       "[2272.322739810519, 2272.322739810519, 1.8039334815231947, 1.8039334815231947]"
      ]
     },
     "metadata": {},
     "output_type": "display_data"
    },
    {
     "data": {
      "text/plain": [
       "[2296.492744222483, 2296.492744222483, 1.5638500230776216, 1.5638500230776216]"
      ]
     },
     "metadata": {},
     "output_type": "display_data"
    },
    {
     "data": {
      "text/plain": [
       "[2320.9159883628618,\n",
       " 2320.9159883628618,\n",
       " 0.5536438102656399,\n",
       " 0.5536438102656399]"
      ]
     },
     "metadata": {},
     "output_type": "display_data"
    },
    {
     "data": {
      "text/plain": [
       "[2345.5930733615373,\n",
       " 2345.5930733615373,\n",
       " 0.23165295345786086,\n",
       " 0.23165295345786086]"
      ]
     },
     "metadata": {},
     "output_type": "display_data"
    },
    {
     "data": {
      "text/plain": [
       "[2370.5219658000515, 2370.5219658000515, 4.086695605248771, 4.086695605248771]"
      ]
     },
     "metadata": {},
     "output_type": "display_data"
    },
    {
     "data": {
      "text/plain": [
       "[2395.6925879835007,\n",
       " 2395.6925879835007,\n",
       " 3.5848986708720747,\n",
       " 3.5848986708720747]"
      ]
     },
     "metadata": {},
     "output_type": "display_data"
    },
    {
     "data": {
      "text/plain": [
       "[2421.103569614535,\n",
       " 2421.103569614535,\n",
       " -0.014166670635865186,\n",
       " -0.014166670635865186]"
      ]
     },
     "metadata": {},
     "output_type": "display_data"
    },
    {
     "data": {
      "text/plain": [
       "[2446.7627728411862,\n",
       " 2446.7627728411862,\n",
       " 0.7574669111802106,\n",
       " 0.7574669111802106]"
      ]
     },
     "metadata": {},
     "output_type": "display_data"
    },
    {
     "data": {
      "text/plain": [
       "[2472.679152047113, 2472.679152047113, 1.485966176972647, 1.485966176972647]"
      ]
     },
     "metadata": {},
     "output_type": "display_data"
    },
    {
     "data": {
      "text/plain": [
       "[2498.8463668535983, 2498.8463668535983, 2.139316696368344, 2.139316696368344]"
      ]
     },
     "metadata": {},
     "output_type": "display_data"
    },
    {
     "data": {
      "text/plain": [
       "[2525.265507679884, 2525.265507679884, 0.6915328906626848, 0.6915328906626848]"
      ]
     },
     "metadata": {},
     "output_type": "display_data"
    },
    {
     "data": {
      "text/plain": [
       "[2551.9421608641155,\n",
       " 2551.9421608641155,\n",
       " -0.6701189354144592,\n",
       " -0.6701189354144592]"
      ]
     },
     "metadata": {},
     "output_type": "display_data"
    },
    {
     "data": {
      "text/plain": [
       "[2578.8795362158626,\n",
       " 2578.8795362158626,\n",
       " -0.5204839978607405,\n",
       " -0.5204839978607405]"
      ]
     },
     "metadata": {},
     "output_type": "display_data"
    },
    {
     "data": {
      "text/plain": [
       "[2606.066461502227, 2606.066461502227, 1.7530991731510666, 1.7530991731510666]"
      ]
     },
     "metadata": {},
     "output_type": "display_data"
    },
    {
     "data": {
      "text/plain": [
       "[2633.5022012108752, 2633.5022012108752, 3.874495393552972, 3.874495393552972]"
      ]
     },
     "metadata": {},
     "output_type": "display_data"
    },
    {
     "data": {
      "text/plain": [
       "[2661.190503395231, 2661.190503395231, 3.624077442761126, 3.624077442761126]"
      ]
     },
     "metadata": {},
     "output_type": "display_data"
    },
    {
     "data": {
      "text/plain": [
       "[2689.1286962475997,\n",
       " 2689.1286962475997,\n",
       " 2.9006911926404566,\n",
       " 2.9006911926404566]"
      ]
     },
     "metadata": {},
     "output_type": "display_data"
    },
    {
     "data": {
      "text/plain": [
       "[2717.311158563202,\n",
       " 2717.311158563202,\n",
       " 0.14990662644435337,\n",
       " 0.14990662644435337]"
      ]
     },
     "metadata": {},
     "output_type": "display_data"
    },
    {
     "data": {
      "text/plain": [
       "[2745.7213848321308, 2745.7213848321308, 1.044474103392835, 1.044474103392835]"
      ]
     },
     "metadata": {},
     "output_type": "display_data"
    },
    {
     "data": {
      "text/plain": [
       "[2774.3513113346135, 2774.3513113346135, 3.164630123229185, 3.164630123229185]"
      ]
     },
     "metadata": {},
     "output_type": "display_data"
    },
    {
     "data": {
      "text/plain": [
       "[2803.1946354921024, 2803.1946354921024, 2.454799527387431, 2.454799527387431]"
      ]
     },
     "metadata": {},
     "output_type": "display_data"
    },
    {
     "data": {
      "text/plain": [
       "[2832.251429560729, 2832.251429560729, 3.293929073949666, 3.293929073949666]"
      ]
     },
     "metadata": {},
     "output_type": "display_data"
    },
    {
     "data": {
      "text/plain": [
       "[2861.504027271727, 2861.504027271727, 5.507879951761218, 5.507879951761218]"
      ]
     },
     "metadata": {},
     "output_type": "display_data"
    },
    {
     "data": {
      "text/plain": [
       "[2890.9229239702604,\n",
       " 2890.9229239702604,\n",
       " 0.04974989701164434,\n",
       " 0.04974989701164434]"
      ]
     },
     "metadata": {},
     "output_type": "display_data"
    },
    {
     "data": {
      "text/plain": [
       "[2920.495562752559,\n",
       " 2920.495562752559,\n",
       " -0.3517177858799121,\n",
       " -0.3517177858799121]"
      ]
     },
     "metadata": {},
     "output_type": "display_data"
    },
    {
     "data": {
      "text/plain": [
       "[2950.2131213094076,\n",
       " 2950.2131213094076,\n",
       " 3.2429743080414672,\n",
       " 3.2429743080414672]"
      ]
     },
     "metadata": {},
     "output_type": "display_data"
    },
    {
     "data": {
      "text/plain": [
       "[2980.0583153405696,\n",
       " 2980.0583153405696,\n",
       " -0.37833397083500264,\n",
       " -0.37833397083500264]"
      ]
     },
     "metadata": {},
     "output_type": "display_data"
    },
    {
     "data": {
      "text/plain": [
       "[3010.0302827949677,\n",
       " 3010.0302827949677,\n",
       " 1.8888045257496504,\n",
       " 1.8888045257496504]"
      ]
     },
     "metadata": {},
     "output_type": "display_data"
    },
    {
     "data": {
      "text/plain": [
       "[3040.1179652476835,\n",
       " 3040.1179652476835,\n",
       " -0.041302710048763513,\n",
       " -0.041302710048763513]"
      ]
     },
     "metadata": {},
     "output_type": "display_data"
    },
    {
     "data": {
      "text/plain": [
       "[3070.3168512865577,\n",
       " 3070.3168512865577,\n",
       " -0.7235487478188909,\n",
       " -0.7235487478188909]"
      ]
     },
     "metadata": {},
     "output_type": "display_data"
    },
    {
     "data": {
      "text/plain": [
       "[3100.6192967926504,\n",
       " 3100.6192967926504,\n",
       " 1.6146751876043601,\n",
       " 1.6146751876043601]"
      ]
     },
     "metadata": {},
     "output_type": "display_data"
    },
    {
     "data": {
      "text/plain": [
       "[3131.0209003367604,\n",
       " 3131.0209003367604,\n",
       " 2.0881047223152334,\n",
       " 2.0881047223152334]"
      ]
     },
     "metadata": {},
     "output_type": "display_data"
    },
    {
     "data": {
      "text/plain": [
       "[3161.5115837424055,\n",
       " 3161.5115837424055,\n",
       " 3.0530313662979625,\n",
       " 3.0530313662979625]"
      ]
     },
     "metadata": {},
     "output_type": "display_data"
    },
    {
     "data": {
      "text/plain": [
       "[3192.092115606818,\n",
       " 3192.092115606818,\n",
       " 0.028223688132178237,\n",
       " 0.028223688132178237]"
      ]
     },
     "metadata": {},
     "output_type": "display_data"
    },
    {
     "data": {
      "text/plain": [
       "[3222.7661469563054,\n",
       " 3222.7661469563054,\n",
       " 0.7775502460639985,\n",
       " 0.7775502460639985]"
      ]
     },
     "metadata": {},
     "output_type": "display_data"
    },
    {
     "data": {
      "text/plain": [
       "[3253.5374285084354,\n",
       " 3253.5374285084354,\n",
       " -2.600516719296783,\n",
       " -2.600516719296783]"
      ]
     },
     "metadata": {},
     "output_type": "display_data"
    },
    {
     "data": {
      "text/plain": [
       "[3284.4058129206906,\n",
       " 3284.4058129206906,\n",
       " 0.7199003149230963,\n",
       " 0.7199003149230963]"
      ]
     },
     "metadata": {},
     "output_type": "display_data"
    },
    {
     "data": {
      "text/plain": [
       "[3315.36752030765, 3315.36752030765, -2.4183377227096394, -2.4183377227096394]"
      ]
     },
     "metadata": {},
     "output_type": "display_data"
    },
    {
     "data": {
      "text/plain": [
       "[3346.4211723854555,\n",
       " 3346.4211723854555,\n",
       " -0.6056367623977779,\n",
       " -0.6056367623977779]"
      ]
     },
     "metadata": {},
     "output_type": "display_data"
    },
    {
     "data": {
      "text/plain": [
       "[3377.5746773877, 3377.5746773877, 0.3847313089815769, 0.3847313089815769]"
      ]
     },
     "metadata": {},
     "output_type": "display_data"
    },
    {
     "data": {
      "text/plain": [
       "[3408.827052979301, 3408.827052979301, 3.120468386684953, 3.120468386684953]"
      ]
     },
     "metadata": {},
     "output_type": "display_data"
    },
    {
     "data": {
      "text/plain": [
       "[3440.155692539887, 3440.155692539887, 3.7413362756540254, 3.7413362756540254]"
      ]
     },
     "metadata": {},
     "output_type": "display_data"
    },
    {
     "data": {
      "text/plain": [
       "[3471.5458747302027,\n",
       " 3471.5458747302027,\n",
       " 0.6586973749398274,\n",
       " 0.6586973749398274]"
      ]
     },
     "metadata": {},
     "output_type": "display_data"
    },
    {
     "data": {
      "text/plain": [
       "[3502.988859611921,\n",
       " 3502.988859611921,\n",
       " 0.40050104368775696,\n",
       " 0.40050104368775696]"
      ]
     },
     "metadata": {},
     "output_type": "display_data"
    },
    {
     "data": {
      "text/plain": [
       "[3534.4947107697503,\n",
       " 3534.4947107697503,\n",
       " -0.23026342344518125,\n",
       " -0.23026342344518125]"
      ]
     },
     "metadata": {},
     "output_type": "display_data"
    },
    {
     "data": {
      "text/plain": [
       "[3566.0726784719272,\n",
       " 3566.0726784719272,\n",
       " 3.6008993851954734,\n",
       " 3.6008993851954734]"
      ]
     },
     "metadata": {},
     "output_type": "display_data"
    },
    {
     "data": {
      "text/plain": [
       "[3597.7161383484117, 3597.7161383484117, 1.064596013092321, 1.064596013092321]"
      ]
     },
     "metadata": {},
     "output_type": "display_data"
    },
    {
     "data": {
      "text/plain": [
       "[3629.400173335282, 3629.400173335282, 2.6500551952459177, 2.6500551952459177]"
      ]
     },
     "metadata": {},
     "output_type": "display_data"
    },
    {
     "data": {
      "text/plain": [
       "[3661.1088830944027,\n",
       " 3661.1088830944027,\n",
       " 2.7171432865140615,\n",
       " 2.7171432865140615]"
      ]
     },
     "metadata": {},
     "output_type": "display_data"
    },
    {
     "data": {
      "text/plain": [
       "[3692.8373963736994,\n",
       " 3692.8373963736994,\n",
       " 1.2284395268196835,\n",
       " 1.2284395268196835]"
      ]
     },
     "metadata": {},
     "output_type": "display_data"
    },
    {
     "data": {
      "text/plain": [
       "[3724.585628209258, 3724.585628209258, 1.6731352727596132, 1.6731352727596132]"
      ]
     },
     "metadata": {},
     "output_type": "display_data"
    },
    {
     "data": {
      "text/plain": [
       "[3756.3623939949834,\n",
       " 3756.3623939949834,\n",
       " -1.4700815696755742,\n",
       " -1.4700815696755742]"
      ]
     },
     "metadata": {},
     "output_type": "display_data"
    },
    {
     "data": {
      "text/plain": [
       "[3788.16068273619, 3788.16068273619, 3.7722610831825585, 3.7722610831825585]"
      ]
     },
     "metadata": {},
     "output_type": "display_data"
    },
    {
     "data": {
      "text/plain": [
       "[3819.978264692566, 3819.978264692566, 1.3373613814277363, 1.3373613814277363]"
      ]
     },
     "metadata": {},
     "output_type": "display_data"
    },
    {
     "data": {
      "text/plain": [
       "[3851.8180494739695,\n",
       " 3851.8180494739695,\n",
       " -0.4216427829490035,\n",
       " -0.4216427829490035]"
      ]
     },
     "metadata": {},
     "output_type": "display_data"
    }
   ],
   "source": [
    "lidars = []\n",
    "timesLidar = np.linspace (startTime_Sec, endTime_Sec, int(endTime_Sec/dtLidar))\n",
    "\n",
    "radars = []\n",
    "timesRadar = np.linspace (startTime_Sec, endTime_Sec, int(endTime_Sec/dtRadar))\n",
    "\n",
    "\n",
    "for object in objects:\n",
    "    lidar = LiDAR(timesLidar)\n",
    "    lidar.measure(object.states)\n",
    "    lidars.append(lidar)\n",
    "    \n",
    "    radar = Radar(timesRadar)\n",
    "    radar.measure(object.states)\n",
    "    radars.append(radar)"
   ]
  },
  {
   "cell_type": "markdown",
   "metadata": {},
   "source": [
    "## Comparison ground truth with Radar"
   ]
  },
  {
   "cell_type": "code",
   "execution_count": 10,
   "metadata": {},
   "outputs": [
    {
     "data": {
      "image/png": "[encoded data removed]",
      "text/plain": [
       "<Figure size 1080x216 with 3 Axes>"
      ]
     },
     "metadata": {
      "needs_background": "light"
     },
     "output_type": "display_data"
    },
    {
     "data": {
      "image/png": "[encoded data removed]",
      "text/plain": [
       "<Figure size 1080x216 with 3 Axes>"
      ]
     },
     "metadata": {
      "needs_background": "light"
     },
     "output_type": "display_data"
    },
    {
     "data": {
      "image/png": "[encoded data removed]",
      "text/plain": [
       "<Figure size 1080x216 with 3 Axes>"
      ]
     },
     "metadata": {
      "needs_background": "light"
     },
     "output_type": "display_data"
    },
    {
     "data": {
      "image/png": "[encoded data removed]",
      "text/plain": [
       "<Figure size 1080x216 with 3 Axes>"
      ]
     },
     "metadata": {
      "needs_background": "light"
     },
     "output_type": "display_data"
    },
    {
     "data": {
      "image/png": "[encoded data removed]",
      "text/plain": [
       "<Figure size 1080x216 with 3 Axes>"
      ]
     },
     "metadata": {
      "needs_background": "light"
     },
     "output_type": "display_data"
    }
   ],
   "source": [
    "for Idx, radar in enumerate(radars):\n",
    "    fig, axes = plt.subplots(1, 3, figsize = (15,3))\n",
    "    objects[Idx].subplots(times, axes, Idx)\n",
    "    radar.subplots(timesRadar, axes, Idx)\n",
    "    \n",
    "    axes[0].legend(loc=\"upper right\")\n",
    "    axes[0].set(xlabel = 'x', ylabel = 'y')\n",
    "    axes[0].set_title('Trajectory')\n",
    "\n",
    "    axes[1].legend(loc=\"upper right\")\n",
    "    axes[1].set(xlabel = 'times', ylabel = 'x')\n",
    "    axes[1].set_title('x over time')\n",
    "\n",
    "    axes[2].legend(loc=\"upper right\")\n",
    "    axes[2].set(xlabel = 'times', ylabel = 'y')\n",
    "    axes[2].set_title('y over time')\n",
    "    \n",
    "    plt.tight_layout()\n",
    "    plt.show()"
   ]
  },
  {
   "cell_type": "markdown",
   "metadata": {},
   "source": [
    "## Comparison ground truth with Lidar"
   ]
  },
  {
   "cell_type": "code",
   "execution_count": 11,
   "metadata": {
    "scrolled": false
   },
   "outputs": [
    {
     "data": {
      "image/png": "[encoded data removed]",
      "text/plain": [
       "<Figure size 1080x216 with 3 Axes>"
      ]
     },
     "metadata": {
      "needs_background": "light"
     },
     "output_type": "display_data"
    },
    {
     "data": {
      "image/png": "[encoded data removed]",
      "text/plain": [
       "<Figure size 1080x216 with 3 Axes>"
      ]
     },
     "metadata": {
      "needs_background": "light"
     },
     "output_type": "display_data"
    },
    {
     "data": {
      "image/png": "[encoded data removed]",
      "text/plain": [
       "<Figure size 1080x216 with 3 Axes>"
      ]
     },
     "metadata": {
      "needs_background": "light"
     },
     "output_type": "display_data"
    },
    {
     "data": {
      "image/png": "[encoded data removed]",
      "text/plain": [
       "<Figure size 1080x216 with 3 Axes>"
      ]
     },
     "metadata": {
      "needs_background": "light"
     },
     "output_type": "display_data"
    },
    {
     "data": {
      "image/png": "[encoded data removed]",
      "text/plain": [
       "<Figure size 1080x216 with 3 Axes>"
      ]
     },
     "metadata": {
      "needs_background": "light"
     },
     "output_type": "display_data"
    }
   ],
   "source": [
    "for Idx, lidar in enumerate(lidars):\n",
    "    fig, axes = plt.subplots(1, 3, figsize = (15,3))\n",
    "    objects[Idx].subplots(times, axes, Idx)\n",
    "    lidar.subplots(timesLidar, axes, Idx)\n",
    "    \n",
    "    axes[0].legend(loc=\"upper right\")\n",
    "    axes[0].set(xlabel = 'x', ylabel = 'y')\n",
    "    axes[0].set_title('Trajectory')\n",
    "\n",
    "    axes[1].legend(loc=\"upper right\")\n",
    "    axes[1].set(xlabel = 'times', ylabel = 'x')\n",
    "    axes[1].set_title('x over time')\n",
    "\n",
    "    axes[2].legend(loc=\"upper right\")\n",
    "    axes[2].set(xlabel = 'times', ylabel = 'y')\n",
    "    axes[2].set_title('y over time')\n",
    "    \n",
    "    plt.tight_layout()\n",
    "    plt.show()"
   ]
  },
  {
   "cell_type": "code",
   "execution_count": 12,
   "metadata": {},
   "outputs": [
    {
     "name": "stdout",
     "output_type": "stream",
     "text": [
      "1\n"
     ]
    },
    {
     "data": {
      "image/png": "[encoded data removed]",
      "text/plain": [
       "<Figure size 800x480 with 1 Axes>"
      ]
     },
     "metadata": {
      "needs_background": "light"
     },
     "output_type": "display_data"
    },
    {
     "data": {
      "image/png": "[encoded data removed]",
      "text/plain": [
       "<Figure size 800x480 with 1 Axes>"
      ]
     },
     "metadata": {
      "needs_background": "light"
     },
     "output_type": "display_data"
    },
    {
     "data": {
      "image/png": "[encoded data removed]",
      "text/plain": [
       "<Figure size 800x480 with 1 Axes>"
      ]
     },
     "metadata": {
      "needs_background": "light"
     },
     "output_type": "display_data"
    }
   ],
   "source": [
    "obj = int(input())\n",
    "\n",
    "# Trajectory\n",
    "plt.figure(figsize=(10,6), dpi=80)\n",
    "plt.title(\"Trajectory\")\n",
    "objects[obj].plot (times, obj, TRAJECTORY)\n",
    "lidars[obj].plot (timesLidar, obj, TRAJECTORY)\n",
    "\n",
    "plt.legend(loc='upper right', frameon=False)\n",
    "plt.xlabel('x (m)')\n",
    "plt.ylabel('y (m)')\n",
    "plt.show()\n",
    "\n",
    "# x over time\n",
    "plt.figure(figsize=(10,6), dpi=80)\n",
    "plt.title(\"x over time\")\n",
    "objects[obj].plot (times, obj, X)\n",
    "lidars[obj].plot (timesLidar, obj, X)\n",
    "\n",
    "plt.legend(loc='upper right', frameon=False)\n",
    "plt.xlabel('time (sec)')\n",
    "plt.ylabel('x distance (m)')\n",
    "plt.show()\n",
    "\n",
    "# y over time\n",
    "plt.figure(figsize=(10,6), dpi=80)\n",
    "plt.title(\"y over time\")\n",
    "objects[obj].plot (times, obj, Y)\n",
    "lidars[obj].plot (timesLidar, obj, Y)\n",
    "\n",
    "plt.legend(loc='upper right', frameon=False)\n",
    "plt.xlabel('time (sec)')\n",
    "plt.ylabel('y distance (m)')\n",
    "plt.show()"
   ]
  }
 ],
 "metadata": {
  "kernelspec": {
   "display_name": "Python 3",
   "language": "python",
   "name": "python3"
  },
  "language_info": {
   "codemirror_mode": {
    "name": "ipython",
    "version": 3
   },
   "file_extension": ".py",
   "mimetype": "text/x-python",
   "name": "python",
   "nbconvert_exporter": "python",
   "pygments_lexer": "ipython3",
   "version": "3.7.3"
  }
 },
 "nbformat": 4,
 "nbformat_minor": 2
}
