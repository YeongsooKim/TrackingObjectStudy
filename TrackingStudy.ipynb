{
 "cells": [
  {
   "cell_type": "markdown",
   "metadata": {},
   "source": [
    "# 1. Ground truth"
   ]
  },
  {
   "cell_type": "markdown",
   "metadata": {},
   "source": [
    "## Import\n",
    "\n",
    "* import numpy for matrix\n",
    "* import matplotlib.pyplot for plotting\n",
    "* import math for math function\n",
    "* import random for random variable. Creating noise or start point etc"
   ]
  },
  {
   "cell_type": "code",
   "execution_count": 1,
   "metadata": {},
   "outputs": [],
   "source": [
    "import numpy as np\n",
    "import matplotlib.pyplot as plt\n",
    "\n",
    "import math\n",
    "import random"
   ]
  },
  {
   "cell_type": "markdown",
   "metadata": {},
   "source": [
    "## Init constant value and other functions"
   ]
  },
  {
   "cell_type": "code",
   "execution_count": 2,
   "metadata": {},
   "outputs": [],
   "source": [
    "objectNum = 5\n",
    "\n",
    "startTime_Sec = 0\n",
    "endTime_Sec = 10\n",
    "dtObject = 0.005 # 5ms\n",
    "dtLidar = 0.025 # 25ms\n",
    "dtRadar = 0.050 # 50ms\n",
    "\n",
    "TRAJECTORY = 1\n",
    "X = 2\n",
    "Y = 3\n",
    "\n",
    "LidarNoiseSize = 2\n",
    "RadarNoiseSize = 10 # 0 < RadarNoiseSize < 1000\n",
    "\n",
    "def cart2pol(x, y):\n",
    "    rho = np.sqrt(x**2 + y**2)\n",
    "    phi = np.arctan2(y, x)\n",
    "    return(rho, phi)\n",
    "\n",
    "def pol2cart(rho, phi):\n",
    "    x = rho * np.cos(phi)\n",
    "    y = rho * np.sin(phi)\n",
    "    return (x, y)\n",
    "\n",
    "class Trajectory():\n",
    "    def __init__ (self, times):\n",
    "        self.x = np.zeros_like(times)\n",
    "        self.y = np.zeros_like(times)\n",
    "        self.rho = np.zeros_like(times)\n",
    "        self.phi = np.zeros_like(times)"
   ]
  },
  {
   "cell_type": "markdown",
   "metadata": {},
   "source": [
    "## Const accelerate equation"
   ]
  },
  {
   "cell_type": "code",
   "execution_count": 3,
   "metadata": {},
   "outputs": [],
   "source": [
    "class Object():\n",
    "    #def __init__ (self, times, x, y, ID, color):\n",
    "        #self.color = color\n",
    "    def __init__ (self, times, x, y, ID):\n",
    "        self.ID = ID\n",
    "        self.states = []\n",
    "        self.trajectory = Trajectory(times)\n",
    "        \n",
    "        #state: x, y, x`, y`, x``, y``\n",
    "        self.state_ca = np.matrix([0.0, 0.0, 0.0, 0.0, 0.0, 0.0]).T\n",
    "\n",
    "        self.state_ca[0] = x\n",
    "        self.state_ca[1] = y\n",
    "\n",
    "        self.F = np.matrix([[1.0, 0.0, dtObject, 0.0, 1/2.0*dtObject**2, 0.0],\n",
    "                         [0.0, 1.0, 0.0, dtObject, 0.0, 1/2.0*dtObject**2],\n",
    "                         [0.0, 0.0, 1.0, 0.0, dtObject, 0.0],\n",
    "                         [0.0, 0.0, 0.0, 1.0, 0.0, dtObject],\n",
    "                         [0.0, 0.0, 0.0, 0.0, 1.0, 0.0],\n",
    "                         [0.0, 0.0, 0.0, 0.0, 0.0, 1.0]])\n",
    "        \n",
    "        self.B = np.matrix([[0.0, 0.0],\n",
    "                           [0.0, 0.0],\n",
    "                           [0.0, 0.0],\n",
    "                           [0.0, 0.0],\n",
    "                           [1.0, 0.0],\n",
    "                           [0.0, 1.0]])\n",
    "    \n",
    "    def getState(self, ax, ay):\n",
    "        accel = np.matrix([ax, ay]).T\n",
    "        self.state_ca = self.F*self.state_ca + self.B*accel\n",
    "        \n",
    "        return self.state_ca\n",
    "        \n",
    "        \n",
    "    def subplots(self, times, axes, ID):\n",
    "        \n",
    "        axes[0].plot (self.trajectory.x, self.trajectory.y, color='red', label='Ground truth{0}'.format(ID))\n",
    "        axes[1].plot (times, self.trajectory.x, color='red', label='Ground truth{0}'.format(ID))\n",
    "        axes[2].plot (times, self.trajectory.y, color='red', label='Ground truth{0}'.format(ID))\n",
    "        \n",
    "        \n",
    "    def plot (self, times, ID, pltType):\n",
    "        if pltType == TRAJECTORY:\n",
    "            plt.plot(self.trajectory.x, self.trajectory.y, color=\"red\", linewidth=1.5, linestyle=\"-\",label=\"Ground truth {0}\".format(ID))\n",
    "                \n",
    "        elif pltType == X:\n",
    "            plt.plot(times, self.trajectory.x, color=\"red\", linewidth=1.5, linestyle=\"-\",label=\"Ground truth {0}\".format(ID))\n",
    "                \n",
    "        elif pltType == Y:\n",
    "            plt.plot(times, self.trajectory.y, color=\"red\", linewidth=1.5, linestyle=\"-\",label=\"Ground truth {0}\".format(ID))"
   ]
  },
  {
   "cell_type": "markdown",
   "metadata": {},
   "source": [
    "## Creating object and getting object states"
   ]
  },
  {
   "cell_type": "code",
   "execution_count": 4,
   "metadata": {},
   "outputs": [],
   "source": [
    "objects = []\n",
    "times = np.linspace (startTime_Sec, endTime_Sec, int(endTime_Sec/dtObject))\n",
    "\n",
    "# create object with random position\n",
    "for objectIdx in range(objectNum):\n",
    "    x = random.uniform(0.0, 1000.0)\n",
    "    y = random.uniform(0.0, 1000.0)\n",
    "    \n",
    "    object = Object(times, x, y, objectIdx)\n",
    "    objects.append(object)\n",
    "\n",
    "\n",
    "# get object state\n",
    "for objectIdx, object in enumerate(objects):\n",
    "    for t in range(len(times)):\n",
    "        accel = 0.0\n",
    "        radian = 0.0\n",
    "    \n",
    "        if (t % 5) == 0:\n",
    "            accel = random.uniform(-10.0, 10.0)\n",
    "            radian = random.uniform(-math.pi, math.pi)\n",
    "        \n",
    "        state = object.getState(accel*math.cos(radian), accel*math.sin(radian))\n",
    "\n",
    "        object.states.append(state)\n",
    "        object.trajectory.x[t] = state[0, 0]\n",
    "        object.trajectory.y[t] = state[1, 0]"
   ]
  },
  {
   "cell_type": "markdown",
   "metadata": {},
   "source": [
    "# 2. Sensor model"
   ]
  },
  {
   "cell_type": "markdown",
   "metadata": {},
   "source": [
    "### 2.1 Lidar model"
   ]
  },
  {
   "cell_type": "code",
   "execution_count": 5,
   "metadata": {},
   "outputs": [],
   "source": [
    "class LiDAR():\n",
    "    def __init__(self, times):\n",
    "        self.measurements = []\n",
    "        self.trajectory = Trajectory(times)\n",
    "        self.H = np.matrix([[1.0, 0.0, 0.0, 0.0, 0.0, 0.0],\n",
    "                           [0.0, 1.0, 0.0, 0.0, 0.0, 0.0]])\n",
    "            \n",
    "            \n",
    "    def measure(self, states):\n",
    "        measurementIdx = 0\n",
    "        \n",
    "        for stateIdx, state in enumerate(states):\n",
    "            \n",
    "            # 25ms \n",
    "            if (stateIdx % (dtLidar/dtObject)) == 0:\n",
    "                measurement = self.H*state\n",
    "\n",
    "                # Noise\n",
    "                sensor_noise = np.random.randn()*LidarNoiseSize\n",
    "                measurement[0, 0] = measurement[0, 0] + sensor_noise\n",
    "                \n",
    "                sensor_noise = np.random.randn()*LidarNoiseSize\n",
    "                measurement[1, 0] = measurement[1, 0] + sensor_noise\n",
    "                \n",
    "                self.measurements.append(measurement)\n",
    "                self.trajectory.x[measurementIdx] = measurement[0, 0]\n",
    "                self.trajectory.y[measurementIdx] = measurement[1, 0]\n",
    "                \n",
    "                measurementIdx = measurementIdx + 1\n",
    "                \n",
    "            else:\n",
    "                continue\n",
    "                \n",
    "    def subplots(self, times, axes, ID):\n",
    "        axes[0].plot (self.trajectory.x, self.trajectory.y, 'b.', markersize=4, label='Lidar{0}'.format(ID))\n",
    "        axes[1].plot (times, self.trajectory.x, 'b.', markersize=4, label='Lidar{0}'.format(ID))\n",
    "        axes[2].plot (times, self.trajectory.y, 'b.', markersize=4, label='Lidar{0}'.format(ID))\n",
    "    \n",
    "    \n",
    "    def plot (self, times, ID, pltType):\n",
    "        if pltType == TRAJECTORY:\n",
    "            plt.plot(self.trajectory.x, self.trajectory.y, 'bo', markersize=4, label=\"Lidar {0}\".format(ID))\n",
    "                \n",
    "        elif pltType == X:\n",
    "            plt.plot(times, self.trajectory.x, 'bo', markersize=4, label=\"Lidar {0}\".format(ID))\n",
    "                \n",
    "        elif pltType == Y:\n",
    "            plt.plot(times, self.trajectory.y, 'bo', markersize=4, label=\"Lidar {0}\".format(ID))"
   ]
  },
  {
   "cell_type": "markdown",
   "metadata": {},
   "source": [
    "### 2.2 Radar model"
   ]
  },
  {
   "cell_type": "code",
   "execution_count": 6,
   "metadata": {},
   "outputs": [],
   "source": [
    "class Radar():\n",
    "    def __init__(self, times):\n",
    "        self.measurements = []\n",
    "        self.trajectory = Trajectory(times)\n",
    "\n",
    "    def measure(self, states):\n",
    "\n",
    "        measurement = np.matrix([0.0, 0.0, 0.0]).T                                                                                                                                                                                                                                                                                                                                                                                                                                                                                                                                                                                                                                                                                                                                                                                                                                                                                                                                                                                                                                                                                                                                                                                                                                                                                                                                                                                                                                                                                                                                                                                                                                                                                                                                                                                                                                                                                                                                                                                                                                                                                                                   \n",
    "        measurementIdx = 0\n",
    "        for stateIdx, state in enumerate(states):\n",
    "\n",
    "            # 50ms\n",
    "            if (stateIdx % (dtRadar/dtObject)) == 0:\n",
    "                rho = math.sqrt(math.pow(state[0, 0], 2) + math.pow(state[1, 0], 2))\n",
    "                phi = math.atan2(state[1, 0], state[0, 0])\n",
    "                rhoRate = (state[0, 0]*state[2, 0] + state[1, 0]*state[3, 0])/rho\n",
    "\n",
    "                # noise\n",
    "                sensorNoise = np.random.randn() * math.pi * (RadarNoiseSize/1000)\n",
    "                phi = phi + sensorNoise\n",
    "                \n",
    "                measurement[0, 0] = rho\n",
    "                measurement[1, 0] = phi\n",
    "                measurement[2, 0] = rhoRate\n",
    "                \n",
    "                self.measurements.append(measurement)\n",
    "                self.trajectory.rho[measurementIdx] = rho\n",
    "                self.trajectory.phi[measurementIdx] = phi\n",
    "                self.trajectory.x[measurementIdx], self.trajectory.y[measurementIdx] = pol2cart(rho, phi)\n",
    "                \n",
    "                measurementIdx = measurementIdx + 1                            \n",
    "                \n",
    "            else:\n",
    "                continue\n",
    "\n",
    "                \n",
    "    def subplots(self, times, axes, ID):\n",
    "        axes[0].plot (self.trajectory.x, self.trajectory.y, 'g.', markersize=4, label='Radar{0}'.format(ID))\n",
    "        axes[1].plot (times, self.trajectory.x, 'g.', markersize=4, label='Radar{0}'.format(ID))\n",
    "        axes[2].plot (times, self.trajectory.y, 'g.', markersize=4, label='Radar{0}'.format(ID))\n",
    "    \n",
    "    \n",
    "    def plot (self, times, ID, pltType):\n",
    "        if pltType == TRAJECTORY:\n",
    "            plt.plot(self.trajectory.x, self.trajectory.y, 'go', markersize=4, label=\"Radar {0}\".format(ID))\n",
    "                \n",
    "        elif pltType == X:\n",
    "            plt.plot(times, self.trajectory.x, 'go', markersize=4, label=\"Radar {0}\".format(ID))\n",
    "                \n",
    "        elif pltType == Y:\n",
    "            plt.plot(times, self.trajectory.y, 'go', markersize=4, label=\"Radar {0}\".format(ID))"
   ]
  },
  {
   "cell_type": "markdown",
   "metadata": {},
   "source": [
    "## Generate LiDAR measurement and Radar measurement"
   ]
  },
  {
   "cell_type": "code",
   "execution_count": 7,
   "metadata": {
    "scrolled": false
   },
   "outputs": [],
   "source": [
    "lidars = []\n",
    "timesLidar = np.linspace (startTime_Sec, endTime_Sec, int(endTime_Sec/dtLidar))\n",
    "\n",
    "radars = []\n",
    "timesRadar = np.linspace (startTime_Sec, endTime_Sec, int(endTime_Sec/dtRadar))\n",
    "\n",
    "\n",
    "for object in objects:\n",
    "    lidar = LiDAR(timesLidar)\n",
    "    lidar.measure(object.states)\n",
    "    lidars.append(lidar)\n",
    "    \n",
    "    radar = Radar(timesRadar)\n",
    "    radar.measure(object.states)\n",
    "    radars.append(radar)"
   ]
  },
  {
   "cell_type": "markdown",
   "metadata": {},
   "source": [
    "## Comparison ground truth with Radar"
   ]
  },
  {
   "cell_type": "code",
   "execution_count": 8,
   "metadata": {
    "scrolled": false
   },
   "outputs": [
    {
     "data": {
      "image/png": "[encoded data removed]",
      "text/plain": [
       "<Figure size 1080x216 with 3 Axes>"
      ]
     },
     "metadata": {
      "needs_background": "light"
     },
     "output_type": "display_data"
    },
    {
     "data": {
      "image/png": "[encoded data removed]",
      "text/plain": [
       "<Figure size 1080x216 with 3 Axes>"
      ]
     },
     "metadata": {
      "needs_background": "light"
     },
     "output_type": "display_data"
    },
    {
     "data": {
      "image/png": "[encoded data removed]",
      "text/plain": [
       "<Figure size 1080x216 with 3 Axes>"
      ]
     },
     "metadata": {
      "needs_background": "light"
     },
     "output_type": "display_data"
    },
    {
     "data": {
      "image/png": "[encoded data removed]",
      "text/plain": [
       "<Figure size 1080x216 with 3 Axes>"
      ]
     },
     "metadata": {
      "needs_background": "light"
     },
     "output_type": "display_data"
    },
    {
     "data": {
      "image/png": "[encoded data removed]",
      "text/plain": [
       "<Figure size 1080x216 with 3 Axes>"
      ]
     },
     "metadata": {
      "needs_background": "light"
     },
     "output_type": "display_data"
    }
   ],
   "source": [
    "for Idx, radar in enumerate(radars):\n",
    "    fig, axes = plt.subplots(1, 3, figsize = (15,3))\n",
    "    radar.subplots(timesRadar, axes, Idx)\n",
    "    objects[Idx].subplots(times, axes, Idx)\n",
    "    \n",
    "    axes[0].legend(loc=\"upper right\")\n",
    "    axes[0].set(xlabel = 'x', ylabel = 'y')\n",
    "    axes[0].set_title('Trajectory')\n",
    "\n",
    "    axes[1].legend(loc=\"upper right\")\n",
    "    axes[1].set(xlabel = 'times', ylabel = 'x')\n",
    "    axes[1].set_title('x over time')\n",
    "\n",
    "    axes[2].legend(loc=\"upper right\")\n",
    "    axes[2].set(xlabel = 'times', ylabel = 'y')\n",
    "    axes[2].set_title('y over time')\n",
    "    \n",
    "    plt.tight_layout()\n",
    "    plt.show()"
   ]
  },
  {
   "cell_type": "code",
   "execution_count": 9,
   "metadata": {},
   "outputs": [
    {
     "name": "stdout",
     "output_type": "stream",
     "text": [
      "Input radar number: \n",
      "0\n"
     ]
    },
    {
     "data": {
      "image/png": "[encoded data removed]",
      "text/plain": [
       "<Figure size 800x480 with 1 Axes>"
      ]
     },
     "metadata": {
      "needs_background": "light"
     },
     "output_type": "display_data"
    },
    {
     "data": {
      "image/png": "[encoded data removed]",
      "text/plain": [
       "<Figure size 800x480 with 1 Axes>"
      ]
     },
     "metadata": {
      "needs_background": "light"
     },
     "output_type": "display_data"
    },
    {
     "data": {
      "image/png": "[encoded data removed]",
      "text/plain": [
       "<Figure size 800x480 with 1 Axes>"
      ]
     },
     "metadata": {
      "needs_background": "light"
     },
     "output_type": "display_data"
    }
   ],
   "source": [
    "print (\"Input radar number: \")\n",
    "obj = int(input())\n",
    "\n",
    "# Trajectory\n",
    "plt.figure(figsize=(10,6), dpi=80)\n",
    "plt.title(\"Trajectory\")\n",
    "radars[obj].plot (timesRadar, obj, TRAJECTORY)\n",
    "objects[obj].plot (times, obj, TRAJECTORY)\n",
    "\n",
    "plt.legend(loc='upper right', frameon=False)\n",
    "plt.xlabel('x (m)')\n",
    "plt.ylabel('y (m)')\n",
    "plt.show()\n",
    "\n",
    "# x over time\n",
    "plt.figure(figsize=(10,6), dpi=80)\n",
    "plt.title(\"x over time\")\n",
    "radars[obj].plot (timesRadar, obj, X)\n",
    "objects[obj].plot (times, obj, X)\n",
    "\n",
    "plt.legend(loc='upper right', frameon=False)\n",
    "plt.xlabel('time (sec)')\n",
    "plt.ylabel('x distance (m)')\n",
    "plt.show()\n",
    "\n",
    "# y over time\n",
    "plt.figure(figsize=(10,6), dpi=80)\n",
    "plt.title(\"y over time\")\n",
    "radars[obj].plot (timesRadar, obj, Y)\n",
    "objects[obj].plot (times, obj, Y)\n",
    "\n",
    "plt.legend(loc='upper right', frameon=False)\n",
    "plt.xlabel('time (sec)')\n",
    "plt.ylabel('y distance (m)')\n",
    "plt.show()"
   ]
  },
  {
   "cell_type": "markdown",
   "metadata": {},
   "source": [
    "# 3. Tracking \n",
    "\n",
    "dt = 10 ms"
   ]
  },
  {
   "cell_type": "markdown",
   "metadata": {},
   "source": [
    "## Kalman Filter"
   ]
  },
  {
   "cell_type": "code",
   "execution_count": 10,
   "metadata": {},
   "outputs": [],
   "source": [
    "dtTracking = 0.01 # 10ms\n",
    "\n",
    "\n",
    "def calculateJacobian (state):\n",
    "    px = state[0, 0]; py = state[1, 0]\n",
    "    vx = state[2, 0]; vy = state[3, 0]\n",
    "    ax = state[4, 0]; ay = state[5, 0]\n",
    "    \n",
    "    rhoDpx = px/math.sqrt(px**2 + py**2)\n",
    "    rhoDpy = py/math.sqrt(px**2 + py**2)\n",
    "    rhoDvx = 0; rhoDvy = 0\n",
    "    rhoDax = 0; rhoDay = 0\n",
    "    \n",
    "    phiDpx = -py/(px**2 + py**2)\n",
    "    phiDpy = px/(px**2 + py**2)\n",
    "    phiDvx = 0; phiDvy = 0\n",
    "    phiDax = 0; phiDay = 0\n",
    "    \n",
    "    rhoRateDpx = py*(vx*py - vy*px)/((px**2 + py**2)**(3/2))\n",
    "    rhoRateDpy = px*(vy*px - vx*py)/((px**2 + py**2)**(3/2))\n",
    "    rhoRateDvx = px/math.sqrt(px**2 + py**2)\n",
    "    rhoRateDvy = py/math.sqrt(px**2 + py**2)\n",
    "    rhoRateDax = 0; rhoRateDay = 0\n",
    "    \n",
    "    H = np.matrix([[rhoDpx, rhoDpy, rhoDvx, rhoDvy, rhoDax, rhoDay],\n",
    "                  [phiDpx, phiDpy, phiDvx, phiDvy, phiDax, phiDay],\n",
    "                  [rhoRateDpx, rhoRateDpy, rhoRateDvx, rhoRateDvy, rhoRateDax, rhoRateDay]])\n",
    "    \n",
    "    return H\n",
    "\n",
    "def h (state):\n",
    "    px = state[0, 0]\n",
    "    py = state[1, 0]\n",
    "    vx = state[2, 0]\n",
    "    vy = state[3, 0]\n",
    "\n",
    "    rho = math.sqrt(px**2 + py**2)\n",
    "    phi = math.atan2(py, px)\n",
    "    rhoRate = (px*vx + py*vy)/rho\n",
    "    \n",
    "    x = np.matrix([rho, phi, rhoRate]).T\n",
    "    \n",
    "    return x"
   ]
  },
  {
   "cell_type": "code",
   "execution_count": 11,
   "metadata": {},
   "outputs": [],
   "source": [
    "class KalmanFilter():\n",
    "    def __init__(self, x, y, varState, varMeas):\n",
    "                                                                                                                                                                                                                                                                                                                                                                                                                                                                                                                                                                                                                                                                                                                                                                                                                                                                                                                                                                                                                                                                                                                                                                                                                                                                                                                                                                                                                                                                                                                                                                                                                                                                                                                                                                                                                                                                                                                                                                                                                                                                                                                                                                                                                                                                                                                                                                                                                                                                                                                                                                                                                                                                                                                                                                                                                                                                                                                                                                                                                                                                                                                                                                                                                                                                                                                                                                                                                                                                                                                                                                                                                                                                                                                                                                                                                                                                                                                                                                                                                                                                                                                                                                                                                                                                                                                                                                                                                                                                                                                                                                                                                                                                                                                                                                                                                                                                                                                                                                                                                                                                                                                                                                                                                                                                                                                                                                                                                                                                                                                                                                                                                                                                                                                                                                                                                                                                                                                                                                                                                                                                                                                                                                                                                                                                                                                                                                                                                                                                                                                                                                                                                                                                                                                                                                                                                                                                                                                                                                                                                                                                                                                                                                                                                                                                                                                                                                                                                                                                                                                                                                                                                                                                                                                                                                                                                                                                                                                                                                                                                                                                                                                                                                                                                                                                                                                                                                                                                                                                                                                                                                                                                                                                                                                                                                                                                                                                                                                                                                                                                                                                                                                                                                                                                                                                                                                                                                                                                                                                                                                                                                                                                                                                                                                                                                                                                                                                                                                                                                                                                                                                                                                                                                                                                                                                                                                                                                                                                                                                                                                                                                                                                                                                                                                                                                                                                                                                                                                                                                                                                                                                                                                                                                                                                                                                                                                                                                                                                                                                                                                                                                                                                                                                                                                                                                                                                                                                                                                                                                                                                                                                                                                                                                                                                                                                                                                                                                                                                                                                                                                                                                                                                                                                                                                                                                                                                                                                                                                                                                                                                                                                                                                                                                                                                                                                                                                                                                                                                                                                                                                                                                                                                                                                                                                                                                                                                                                                                                                                                                                                                                                                                                                                                                                                                                                                                                                                                                                                                                                                                                                                                                                                                                                                                                                                                                                                                                                                                                                                                                                                                                                                                                                                                                                                                                                                                                                                                                                                                                                                                                                                                                                                                                                                                                                                                                                                                                                                                                                                                                                                                                                                                                                                                                                                                                                                                                                                                                                                                                                                                                                                                                                                                                                                                                                                                                                                                                                                                                                                                                                                                                                                                                                                                                                                                                                                                                                                                                                                                                                                                                                                                                                                                                                                                                                                                                                                                                                                                                                                                                                                                                                                                                                                                                                                                                                                                                                                                                                                                                                                                                                                                                                                                                                                                                                                                                                                                                                                                                                                                                                                                                                                                                                                                                                                                                                                                                                                                                                                                                                                                                                                                                                                                                                                                                                                                                                                                                                                                                                                                                                                                                                                                                                                                                                                                                                                                                                                                                                                                                                                                                                                                                                                                                                                                                                                                                                                                                                                                                                                                                                                                                                                                                                                                                                                                                                                                                                                                                                                                                                                                                                                                                                                                                                                                                                                                                                                                                                                                                                                                                                                                                                                                                                                                                                                                                                                                                                                                                                                                                                                                                                                                                                                                                                                                                                                                                                                                                                                                                                                                                                                                                                                                                                                                                                                                                                                                                                                                                                                                                                                                                                                                                                                                                                                                                                                                                                                                                                                                                                                                                                                                                                                                                                                                                                                                                                                                                                                                                                                                                                                                                                                                                                                                                                                                                                                                                                                                                                                                                                                                                                                                                                                                                                                                                                                                                                                                                                                                                                                                                                                                                                                                                                                                                                                                                                                                                                                                                                                                                                                                                                                                                                                                                                                                                                                                                                                                                                                                                                                                                                                                                                                                                                                                                                                                                                                                                                                                                                                                                                                                                                                                                                                                                                                                                                                                                                                                                                                                                                                                                                                                                                                                                                                                                                                                                                                                                                                                                                                                                                                                                                                                                                                                                                                                                                                                                                                                                                                                                                                                                                                                                                                                                                                                                                                                                                                                                                                                                                                                                                                                                                                                                                                                                                                                                                                                                                                                                                                                                                                                                                                                                                                                                                                                                                                                                                                                                                                                                                                                                                                                                                                                                                                                                                                                                                                                                                                                                                                                                                                                                                                                                                                                                                                                                                                                                                                                                                                                                                                                                                                                                                                                                                                                                                                                                                                                                                                                                                                                                                                                                                                                                                                                                                                                                                                                                                                                                                                                                                                                                                                                                                                                                                                                                                                                                                                                                                                                                                                                                                                                                                                                                                                                                                                                                                                                                                                                                                                                                                                                                                                                                                                                  \n",
    "        self.x = np.matrix([x, y, 0.0, 0.0, 0.0, 0.0]).T\n",
    "        \n",
    "        self.initCovar = 10*np.eye(6)\n",
    "        self.P = self.initCovar\n",
    "        \n",
    "        self.F = np.matrix([[1.0, 0.0, dtTracking, 0.0, 1/2.0*dtTracking**2, 0.0],\n",
    "                         [0.0, 1.0, 0.0, dtTracking, 0.0, 1/2.0*dtTracking**2],\n",
    "                         [0.0, 0.0, 1.0, 0.0, dtTracking, 0.0],\n",
    "                         [0.0, 0.0, 0.0, 1.0, 0.0, dtTracking],\n",
    "                         [0.0, 0.0, 0.0, 0.0, 1.0, 0.0],\n",
    "                         [0.0, 0.0, 0.0, 0.0, 0.0, 1.0]])\n",
    "        \n",
    "        # Process model                     \n",
    "        a = 0.5 * dtTracking**2\n",
    "        b = dtTracking\n",
    "        c = 1.0\n",
    "        # varState = 1000.0 # sigma x = sigma y\n",
    "        self.Q = np.matrix([[a*a*varState, 0.0, a*b*varState, 0.0, a*c*varState, 0.0],\n",
    "                         [0.0, a*a*varState, 0.0, a*b*varState, 0.0, a*c*varState],\n",
    "                         [a*b*varState, 0.0, b*b*varState, 0.0, b*c*varState, 0.0],\n",
    "                         [0.0, a*b*varState, 0.0, b*b*varState, 0.0, b*c*varState],\n",
    "                         [a*c*varState, 0.0, b*c*varState, 0.0, c*c*varState, 0.0],\n",
    "                         [0.0, a*c*varState, 0.0, b*c*varState, 0.0, c*c*varState]])\n",
    "        \n",
    "        self.H = np.matrix([[1.0, 0.0, 0.0, 0.0, 0.0, 0.0], \n",
    "                         [0.0, 1.0, 0.0, 0.0, 0.0, 0.0]])\n",
    "        \n",
    "        # varMeas = 10.0\n",
    "        self.R = np.matrix([[varMeas, 0.0],\n",
    "                           [0.0, varMeas]])\n",
    "\n",
    "        self.Rj = np.matrix([[varMeas, 0.0, 0.0],\n",
    "                            [0.0, varMeas, 0.0],\n",
    "                            [0.0, 0.0, varMeas]])\n",
    "\n",
    "        \n",
    "    def predict (self):\n",
    "        self.x = self.F * self.x\n",
    "        self.P = self.F * self.P * self.F.T + self.Q\n",
    "    \n",
    "    def updateKF (self, z):\n",
    "        e = z - self.H*self.x\n",
    "        S = self.H*self.P*self.H.T + self.R\n",
    "        K = self.P*self.H.T*np.linalg.pinv(S)\n",
    "\n",
    "        self.x = self.x + K*e\n",
    "        self.P = self.P - K*S*K.T\n",
    "            \n",
    "    def updateEKF (self, z):\n",
    "        Hj = calculateJacobian (self.x)\n",
    "        e = z - h(self.x)\n",
    "        \n",
    "        while (e[1, 0] > math.pi or e[1, 0] < -math.pi):\n",
    "            if e[1, 0] > math.pi:\n",
    "                e[1, 0] = e[1, 0] - math.pi\n",
    "            else:\n",
    "                e[1, 0] = e[1, 0] + math.pi\n",
    "        \n",
    "        S = Hj*self.P*Hj.T + self.Rj\n",
    "        K = self.P*Hj.T*np.linalg.pinv(S)\n",
    "\n",
    "        self.x = self.x + K*e\n",
    "        self.P = self.P - K*S*K.T \n",
    "        \n",
    "        display (self.P)"
   ]
  },
  {
   "cell_type": "code",
   "execution_count": 12,
   "metadata": {},
   "outputs": [],
   "source": [
    "class Tracking ():\n",
    "\n",
    "    def __init__ (self, times, x, y, ID, varState, varMeas):\n",
    "        self.states = []\n",
    "        self.trajectory = Trajectory(times)\n",
    "        self.filter = KalmanFilter(x, y, varState, varMeas)\n",
    "        self.varState = varState\n",
    "        self.varMeas = varMeas\n",
    "        \n",
    "                \n",
    "    def subplots(self, times, axes, ID):\n",
    "        axes[0].plot (self.trajectory.x, self.trajectory.y, 'm.', markersize=4, label='Tracking{0}'.format(ID))\n",
    "        axes[1].plot (times, self.trajectory.x, 'm.', markersize=4, label='Tracking{0}'.format(ID))\n",
    "        axes[2].plot (times, self.trajectory.y, 'm.', markersize=4, label='Tracking{0}'.format(ID))\n",
    "    \n",
    "    \n",
    "    def plot (self, times, ID, pltType, color):\n",
    "        if pltType == TRAJECTORY:\n",
    "            plt.plot(self.trajectory.x, self.trajectory.y, '{0}o'.format(color), markersize=4, label=\"Tracking {0}, v_s={1}, v_m={2}\".format(ID, self.varState, self.varMeas))\n",
    "                \n",
    "        elif pltType == X:\n",
    "            plt.plot(times, self.trajectory.x, '{0}o'.format(color), markersize=4, label=\"Tracking {0}, v_s={1}, v_m={2}\".format(ID, self.varState, self.varMeas))\n",
    "                \n",
    "        elif pltType == Y:\n",
    "            plt.plot(times, self.trajectory.y, '{0}o'.format(color), markersize=4, label=\"Tracking {0}, v_s={1}, v_m={2}\".format(ID, self.varState, self.varMeas))"
   ]
  },
  {
   "cell_type": "code",
   "execution_count": 13,
   "metadata": {
    "scrolled": false
   },
   "outputs": [
    {
     "name": "stdout",
     "output_type": "stream",
     "text": [
      "Input track number: \n",
      "0\n"
     ]
    },
    {
     "data": {
      "text/plain": [
       "matrix([[ 9.99142529, -0.02784677,  0.        ,  0.        ,  0.        ,\n",
       "          0.        ],\n",
       "        [-0.02784677,  9.90956467,  0.        ,  0.        ,  0.        ,\n",
       "          0.        ],\n",
       "        [ 0.        ,  0.        ,  9.99142542, -0.02784681,  0.        ,\n",
       "          0.        ],\n",
       "        [ 0.        ,  0.        , -0.02784681,  9.90956468,  0.        ,\n",
       "          0.        ],\n",
       "        [ 0.        ,  0.        ,  0.        ,  0.        , 10.        ,\n",
       "          0.        ],\n",
       "        [ 0.        ,  0.        ,  0.        ,  0.        ,  0.        ,\n",
       "         10.        ]])"
      ]
     },
     "metadata": {},
     "output_type": "display_data"
    },
    {
     "data": {
      "text/plain": [
       "matrix([[ 9.99985140e+00, -5.53382254e-02,  4.49109289e-01,\n",
       "         -3.93188640e-03,  1.50292353e+00, -1.64862756e-02],\n",
       "        [-5.53382254e-02,  9.83717466e+00, -3.93188640e-03,\n",
       "          4.37550797e-01, -1.64862756e-02,  1.45445914e+00],\n",
       "        [ 4.49109289e-01, -3.93188640e-03,  1.29931434e+01,\n",
       "         -7.42291102e-02,  1.00289064e+02, -3.60275398e-01],\n",
       "        [-3.93188640e-03,  4.37550797e-01, -7.42291102e-02,\n",
       "          1.27749335e+01, -3.60275398e-01,  9.92299693e+01],\n",
       "        [ 1.50292353e+00, -1.64862756e-02,  1.00289064e+02,\n",
       "         -3.60275398e-01,  4.00913797e+03, -2.79951612e+00],\n",
       "        [-1.64862756e-02,  1.45445914e+00, -3.60275398e-01,\n",
       "          9.92299693e+01, -2.79951612e+00,  4.00090829e+03]])"
      ]
     },
     "metadata": {},
     "output_type": "display_data"
    },
    {
     "data": {
      "text/plain": [
       "matrix([[ 1.00602930e+01, -8.35898874e-02,  1.44317721e+00,\n",
       "         -2.39762754e-02,  1.01707595e+01, -1.98884188e-01],\n",
       "        [-8.35898874e-02,  9.81456542e+00, -2.39762753e-02,\n",
       "          1.37269461e+00, -1.98884188e-01,  9.58610343e+00],\n",
       "        [ 1.44317721e+00, -2.39762753e-02,  3.03546469e+01,\n",
       "         -3.55135033e-01,  3.59745196e+02, -3.42558170e+00],\n",
       "        [-2.39762754e-02,  1.37269461e+00, -3.55135033e-01,\n",
       "          2.93106632e+01, -3.42558170e+00,  3.49675079e+02],\n",
       "        [ 1.01707595e+01, -1.98884188e-01,  3.59745196e+02,\n",
       "         -3.42558170e+00,  7.99828718e+03, -3.80385661e+01],\n",
       "        [-1.98884188e-01,  9.58610343e+00, -3.42558170e+00,\n",
       "          3.49675079e+02, -3.80385661e+01,  7.88646593e+03]])"
      ]
     },
     "metadata": {},
     "output_type": "display_data"
    },
    {
     "data": {
      "text/plain": [
       "matrix([[ 1.02597607e+01, -1.18642086e-01,  4.20651011e+00,\n",
       "         -1.43315978e-01,  3.21850546e+01, -1.25664238e+00],\n",
       "        [-1.18642086e-01,  9.91099075e+00, -1.43315977e-01,\n",
       "          3.78520686e+00, -1.25664237e+00,  2.84909269e+01],\n",
       "        [ 4.20651011e+00, -1.43315977e-01,  7.45037032e+01,\n",
       "         -2.07942832e+00,  7.75186130e+02, -1.95306460e+01],\n",
       "        [-1.43315978e-01,  3.78520686e+00, -2.07942832e+00,\n",
       "          6.83908473e+01, -1.95306460e+01,  7.17772262e+02],\n",
       "        [ 3.21850546e+01, -1.25664237e+00,  7.75186130e+02,\n",
       "         -1.95306460e+01,  1.19511417e+04, -1.91148342e+02],\n",
       "        [-1.25664238e+00,  2.84909269e+01, -1.95306460e+01,\n",
       "          7.17772262e+02, -1.91148342e+02,  1.13892265e+04]])"
      ]
     },
     "metadata": {},
     "output_type": "display_data"
    },
    {
     "data": {
      "text/plain": [
       "matrix([[ 1.08089314e+01, -1.89420644e-01,  1.06526096e+01,\n",
       "         -7.01060052e-01,  7.32765607e+01, -5.36321038e+00],\n",
       "        [-1.89420644e-01,  1.02520951e+01, -7.01060045e-01,\n",
       "          8.59171678e+00, -5.36321032e+00,  5.75104338e+01],\n",
       "        [ 1.06526096e+01, -7.01060045e-01,  1.57027152e+02,\n",
       "         -9.18696777e+00,  1.33924916e+03, -7.25865980e+01],\n",
       "        [-7.01060052e-01,  8.59171678e+00, -9.18696777e+00,\n",
       "          1.30020398e+02, -7.25865980e+01,  1.12586772e+03],\n",
       "        [ 7.32765607e+01, -5.36321032e+00,  1.33924916e+03,\n",
       "         -7.25865980e+01,  1.58299257e+04, -5.84809307e+02],\n",
       "        [-5.36321038e+00,  5.75104338e+01, -7.25865980e+01,\n",
       "          1.12586772e+03, -5.84809307e+02,  1.41107730e+04]])"
      ]
     },
     "metadata": {},
     "output_type": "display_data"
    },
    {
     "data": {
      "text/plain": [
       "matrix([[ 1.20913006e+01, -3.87645313e-01,  2.33046294e+01,\n",
       "         -2.55056812e+00,  1.38614235e+02, -1.65165233e+01],\n",
       "        [-3.87645313e-01,  1.09517470e+01, -2.55056809e+00,\n",
       "          1.58067733e+01, -1.65165230e+01,  9.00609288e+01],\n",
       "        [ 2.33046294e+01, -2.55056809e+00,  2.88429248e+02,\n",
       "         -2.91334141e+01,  2.04274544e+03, -1.92435132e+02],\n",
       "        [-2.55056812e+00,  1.58067733e+01, -2.91334141e+01,\n",
       "          2.02786310e+02, -1.92435132e+02,  1.47704757e+03],\n",
       "        [ 1.38614235e+02, -1.65165230e+01,  2.04274544e+03,\n",
       "         -1.92435132e+02,  1.96129028e+04, -1.28961300e+03],\n",
       "        [-1.65165233e+01,  9.00609288e+01, -1.92435132e+02,\n",
       "          1.47704757e+03, -1.28961300e+03,  1.58218522e+04]])"
      ]
     },
     "metadata": {},
     "output_type": "display_data"
    },
    {
     "data": {
      "text/plain": [
       "matrix([[ 1.47121362e+01, -9.08377011e-01,  4.52891555e+01,\n",
       "         -7.07964884e+00,  2.33233641e+02, -3.91477176e+01],\n",
       "        [-9.08377011e-01,  1.20417978e+01, -7.07964873e+00,\n",
       "          2.44772486e+01, -3.91477168e+01,  1.18151853e+02],\n",
       "        [ 4.52891555e+01, -7.07964873e+00,  4.78908861e+02,\n",
       "         -7.03661974e+01,  2.88066975e+03, -3.95331139e+02],\n",
       "        [-7.07964884e+00,  2.44772486e+01, -7.03661974e+01,\n",
       "          2.72054707e+02, -3.95331137e+02,  1.71852244e+03],\n",
       "        [ 2.33233641e+02, -3.91477168e+01,  2.88066975e+03,\n",
       "         -3.95331137e+02,  2.33162600e+04, -2.25299001e+03],\n",
       "        [-3.91477176e+01,  1.18151853e+02, -3.95331139e+02,\n",
       "          1.71852244e+03, -2.25299001e+03,  1.66931887e+04]])"
      ]
     },
     "metadata": {},
     "output_type": "display_data"
    },
    {
     "data": {
      "text/plain": [
       "matrix([[ 1.95570946e+01, -2.05919033e+00,  8.04267345e+01,\n",
       "         -1.59165609e+01,  3.62592672e+02, -7.63163772e+01],\n",
       "        [-2.05919033e+00,  1.35037328e+01, -1.59165606e+01,\n",
       "          3.36371299e+01, -7.63163749e+01,  1.38246906e+02],\n",
       "        [ 8.04267345e+01, -1.59165606e+01,  7.39411588e+02,\n",
       "         -1.38907660e+02,  3.85451871e+03, -6.76414213e+02],\n",
       "        [-1.59165609e+01,  3.36371299e+01, -1.38907660e+02,\n",
       "          3.31067437e+02, -6.76414208e+02,  1.86607700e+03],\n",
       "        [ 3.62592672e+02, -7.63163749e+01,  3.85451871e+03,\n",
       "         -6.76414208e+02,  2.69789373e+04, -3.34847880e+03],\n",
       "        [-7.63163772e+01,  1.38246906e+02, -6.76414213e+02,\n",
       "          1.86607700e+03, -3.34847880e+03,  1.71354793e+04]])"
      ]
     },
     "metadata": {},
     "output_type": "display_data"
    },
    {
     "data": {
      "text/plain": [
       "matrix([[ 2.78561517e+01, -4.25208357e+00,  1.33302488e+02,\n",
       "         -3.07006839e+01,  5.32629586e+02, -1.29522039e+02],\n",
       "        [-4.25208357e+00,  1.53563848e+01, -3.07006831e+01,\n",
       "          4.30522895e+01, -1.29522033e+02,  1.51876198e+02],\n",
       "        [ 1.33302488e+02, -3.07006831e+01,  1.08175988e+03,\n",
       "         -2.37932470e+02,  4.96881917e+03, -1.02098282e+03],\n",
       "        [-3.07006839e+01,  4.30522895e+01, -2.37932470e+02,\n",
       "          3.82314455e+02, -1.02098281e+03,  1.96745601e+03],\n",
       "        [ 5.32629586e+02, -1.29522033e+02,  4.96881917e+03,\n",
       "         -1.02098281e+03,  3.06331708e+04, -4.47138916e+03],\n",
       "        [-1.29522039e+02,  1.51876198e+02, -1.02098282e+03,\n",
       "          1.96745601e+03, -4.47138916e+03,  1.74887159e+04]])"
      ]
     },
     "metadata": {},
     "output_type": "display_data"
    },
    {
     "data": {
      "text/plain": [
       "matrix([[ 4.12434225e+01, -8.00873857e+00,  2.09261790e+02,\n",
       "         -5.30965474e+01,  7.49488598e+02, -1.99595363e+02],\n",
       "        [-8.00873857e+00,  1.77002920e+01, -5.30965454e+01,\n",
       "          5.31749244e+01, -1.99595348e+02,  1.62742100e+02],\n",
       "        [ 2.09261790e+02, -5.30965454e+01,  1.51814161e+03,\n",
       "         -3.69428489e+02,  6.22742363e+03, -1.41652548e+03],\n",
       "        [-5.30965474e+01,  5.31749244e+01, -3.69428489e+02,\n",
       "          4.32140004e+02, -1.41652544e+03,  2.06329189e+03],\n",
       "        [ 7.49488598e+02, -1.99595348e+02,  6.22742363e+03,\n",
       "         -1.41652544e+03,  3.42936341e+04, -5.57406653e+03],\n",
       "        [-1.99595363e+02,  1.62742100e+02, -1.41652548e+03,\n",
       "          2.06329189e+03, -5.57406653e+03,  1.79076618e+04]])"
      ]
     },
     "metadata": {},
     "output_type": "display_data"
    },
    {
     "data": {
      "text/plain": [
       "matrix([[ 6.18124832e+01, -1.39803906e+01,  3.14378688e+02,\n",
       "         -8.48963969e+01,  1.01931061e+03, -2.87377741e+02],\n",
       "        [-1.39803906e+01,  2.07146090e+01, -8.48963921e+01,\n",
       "          6.48104646e+01, -2.87377705e+02,  1.74512137e+02],\n",
       "        [ 3.14378688e+02, -8.48963921e+01,  2.06071087e+03,\n",
       "         -5.35493331e+02,  7.63241317e+03, -1.85628344e+03],\n",
       "        [-8.48963969e+01,  6.48104646e+01, -5.35493331e+02,\n",
       "          4.86531908e+02, -1.85628332e+03,  2.17553452e+03],\n",
       "        [ 1.01931061e+03, -2.87377705e+02,  7.63241317e+03,\n",
       "         -1.85628332e+03,  3.79624136e+04, -6.64973510e+03],\n",
       "        [-2.87377741e+02,  1.74512137e+02, -1.85628344e+03,\n",
       "          2.17553452e+03, -6.64973510e+03,  1.84143225e+04]])"
      ]
     },
     "metadata": {},
     "output_type": "display_data"
    },
    {
     "data": {
      "text/plain": [
       "matrix([[ 9.21706716e+01, -2.29710111e+01,  4.55434633e+02,\n",
       "         -1.28089251e+02,  1.34816759e+03, -3.93934421e+02],\n",
       "        [-2.29710111e+01,  2.46432585e+01, -1.28089240e+02,\n",
       "          7.88933045e+01, -3.93934336e+02,  1.90126875e+02],\n",
       "        [ 4.55434633e+02, -1.28089240e+02,  2.72146457e+03,\n",
       "         -7.38734898e+02,  9.18450169e+03, -2.33793793e+03],\n",
       "        [-1.28089251e+02,  7.88933045e+01, -7.38734898e+02,\n",
       "          5.49820803e+02, -2.33793765e+03,  2.31171459e+03],\n",
       "        [ 1.34816759e+03, -3.93934336e+02,  9.18450169e+03,\n",
       "         -2.33793765e+03,  4.16362784e+04, -7.70888617e+03],\n",
       "        [-3.93934421e+02,  1.90126875e+02, -2.33793793e+03,\n",
       "          2.31171459e+03, -7.70888617e+03,  1.89746272e+04]])"
      ]
     },
     "metadata": {},
     "output_type": "display_data"
    },
    {
     "data": {
      "text/plain": [
       "matrix([[ 1.35494000e+02, -3.59585024e+01,  6.39910347e+02,\n",
       "         -1.84887300e+02,  1.74206480e+03, -5.20547240e+02],\n",
       "        [-3.59585024e+01,  2.97875389e+01, -1.84887275e+02,\n",
       "          9.64010777e+01, -5.20547052e+02,  2.11823523e+02],\n",
       "        [ 6.39910347e+02, -1.84887275e+02,  3.51225788e+03,\n",
       "         -9.82221374e+02,  1.08836714e+04, -2.86154613e+03],\n",
       "        [-1.84887300e+02,  9.64010777e+01, -9.82221374e+02,\n",
       "          6.24842534e+02, -2.86154554e+03,  2.47164678e+03],\n",
       "        [ 1.74206480e+03, -5.20547052e+02,  1.08836714e+04,\n",
       "         -2.86154554e+03,  4.53111127e+04, -8.76488594e+03],\n",
       "        [-5.20547240e+02,  2.11823523e+02, -2.86154613e+03,\n",
       "          2.47164678e+03, -8.76488594e+03,  1.95451684e+04]])"
      ]
     },
     "metadata": {},
     "output_type": "display_data"
    },
    {
     "data": {
      "text/plain": [
       "matrix([[ 1.95582762e+02, -5.41136366e+01,  8.75984011e+02,\n",
       "         -2.57731794e+02,  2.20695602e+03, -6.68665152e+02],\n",
       "        [-5.41136366e+01,  3.65060597e+01, -2.57731739e+02,\n",
       "          1.18335530e+02, -6.68664763e+02,  2.41296608e+02],\n",
       "        [ 8.75984011e+02, -2.57731739e+02,  4.44485175e+03,\n",
       "         -1.26932684e+03,  1.27296211e+04, -3.42808587e+03],\n",
       "        [-2.57731794e+02,  1.18335530e+02, -1.26932684e+03,\n",
       "          7.13439549e+02, -3.42808470e+03,  2.65215610e+03],\n",
       "        [ 2.20695602e+03, -6.68664763e+02,  1.27296211e+04,\n",
       "         -3.42808470e+03,  4.89837896e+04, -9.82788783e+03],\n",
       "        [-6.68665152e+02,  2.41296608e+02, -3.42808587e+03,\n",
       "          2.65215610e+03, -9.82788783e+03,  2.00929731e+04]])"
      ]
     },
     "metadata": {},
     "output_type": "display_data"
    },
    {
     "data": {
      "text/plain": [
       "matrix([[ 2.76917556e+02, -7.88176372e+01,  1.17253127e+03,\n",
       "         -3.49292984e+02,  2.74875512e+03, -8.39866604e+02],\n",
       "        [-7.88176372e+01,  4.52190814e+01, -3.49292872e+02,\n",
       "          1.45722726e+02, -8.39865840e+02,  2.79820232e+02],\n",
       "        [ 1.17253127e+03, -3.49292872e+02,  5.53095444e+03,\n",
       "         -1.60359626e+03,  1.47220128e+04, -4.03865370e+03],\n",
       "        [-3.49292984e+02,  1.45722726e+02, -1.60359626e+03,\n",
       "          8.16899414e+02, -4.03865152e+03,  2.84968227e+03],\n",
       "        [ 2.74875512e+03, -8.39865840e+02,  1.47220128e+04,\n",
       "         -4.03865152e+03,  5.26526341e+04, -1.09033297e+04],\n",
       "        [-8.39866604e+02,  2.79820232e+02, -4.03865370e+03,\n",
       "          2.84968227e+03, -1.09033297e+04,  2.06003825e+04]])"
      ]
     },
     "metadata": {},
     "output_type": "display_data"
    },
    {
     "data": {
      "text/plain": [
       "matrix([[   384.71549814,   -111.67914685,   1539.12548229,\n",
       "           -462.46930962,   3373.34370561,  -1035.83482088],\n",
       "        [  -111.67914685,     56.41485487,   -462.46908759,\n",
       "            179.61570881,  -1035.83338063,    328.3284061 ],\n",
       "        [  1539.12548229,   -462.46908759,   6782.2500695 ,\n",
       "          -1988.65273698,  16860.58300965,  -4694.10431201],\n",
       "        [  -462.46930962,    179.61570881,  -1988.65273698,\n",
       "            936.25603239,  -4694.1003964 ,   3061.45104394],\n",
       "        [  3373.34370561,  -1035.83338063,  16860.58300965,\n",
       "          -4694.1003964 ,  56317.23649264, -11992.5409222 ],\n",
       "        [ -1035.83482088,    328.3284061 ,  -4694.10431201,\n",
       "           3061.45104394, -11992.5409222 ,  21063.08243353]])"
      ]
     },
     "metadata": {},
     "output_type": "display_data"
    },
    {
     "data": {
      "text/plain": [
       "matrix([[   524.98647992,   -154.55103412,   1986.03792427,\n",
       "           -600.38667678,   4086.57735051,  -1258.33731405],\n",
       "        [  -154.55103412,     70.6564828 ,   -600.38625077,\n",
       "            221.09688481,  -1258.33465876,    387.48180763],\n",
       "        [  1986.03792427,   -600.38625077,   8210.41568351,\n",
       "          -2428.14206711,  19145.17290311,  -5394.95180903],\n",
       "        [  -600.38667678,    221.09688481,  -2428.14206711,\n",
       "           1072.46992474,  -5394.94492917,   3285.79554316],\n",
       "        [  4086.57735051,  -1258.33465876,  19145.17290311,\n",
       "          -5394.94492917,  59978.02938593, -13094.11294848],\n",
       "        [ -1258.33731405,    387.48180763,  -5394.95180903,\n",
       "           3285.79554316, -13094.11294848,  21485.65158273]])"
      ]
     },
     "metadata": {},
     "output_type": "display_data"
    },
    {
     "data": {
      "text/plain": [
       "matrix([[   704.58940132,   -209.54728453,   2524.23806706,\n",
       "           -766.39751723,   4894.29207405,  -1509.2049332 ],\n",
       "        [  -209.54728453,     88.58851624,   -766.39670819,\n",
       "            271.2811943 ,  -1509.20005664,    457.73628212],\n",
       "        [  2524.23806706,   -766.39670819,   9827.12978391,\n",
       "          -2925.70474689,  21575.71622413,  -6141.40918677],\n",
       "        [  -766.39751723,    271.2811943 ,  -2925.70474689,\n",
       "           1226.51940588,  -6141.39710036,   3522.02939133],\n",
       "        [  4894.29207405,  -1509.20005664,  21575.71622413,\n",
       "          -6141.39710036,  63635.85483614, -14205.30677472],\n",
       "        [ -1509.2049332 ,    457.73628212,  -6141.40918677,\n",
       "           3522.02939133, -14205.30677472,  21876.99434412]])"
      ]
     },
     "metadata": {},
     "output_type": "display_data"
    },
    {
     "data": {
      "text/plain": [
       "matrix([[   931.28834206,   -279.06007003,   3165.39397206,\n",
       "           -964.07941865,   5802.31080843,  -1790.31072291],\n",
       "        [  -279.06007003,    110.94299163,   -964.07787014,\n",
       "            331.32081932,  -1790.30162396,    539.41262096],\n",
       "        [  3165.39397206,   -964.07787014,  11644.07528003,\n",
       "          -3484.96613063,  24152.20996176,  -6933.48292889],\n",
       "        [  -964.07941865,    331.32081932,  -3484.96613063,\n",
       "           1399.43334628,  -6933.46126231,   3770.14275726],\n",
       "        [  5802.31080843,  -1790.30162396,  24152.20996176,\n",
       "          -6933.46126231,  67291.63024062, -15323.13530342],\n",
       "        [ -1790.31072291,    539.41262096,  -6933.48292889,\n",
       "           3770.14275726, -15323.13530342,  22246.83024029]])"
      ]
     },
     "metadata": {},
     "output_type": "display_data"
    },
    {
     "data": {
      "text/plain": [
       "matrix([[  1213.80867039,   -365.77699897,   3921.87274836,\n",
       "          -1197.23349885,   6816.44911603,  -2103.55119365],\n",
       "        [  -365.77699897,    138.5449354 ,  -1197.23045014,\n",
       "            402.41114579,  -2103.533571  ,    632.76029479],\n",
       "        [  3921.87274836,  -1197.23045014,  13672.93910158,\n",
       "          -4109.53698273,  26874.68355829,  -7771.0720719 ],\n",
       "        [ -1197.23349885,    402.41114579,  -4109.53698273,\n",
       "           1592.29130823,  -7771.03157182,   4030.48890849],\n",
       "        [  6816.44911603,  -2103.533571  ,  26874.68355829,\n",
       "          -7771.03157182,  70946.14632016, -16445.01562147],\n",
       "        [ -2103.55119365,    632.76029479,  -7771.0720719 ,\n",
       "           4030.48890849, -16445.01562147,  22603.58856543]])"
      ]
     },
     "metadata": {},
     "output_type": "display_data"
    },
    {
     "data": {
      "text/plain": [
       "matrix([[  1561.89308576,   -472.69851982,   4806.7408934 ,\n",
       "          -1469.88301051,   7942.51917199,  -2450.83301536],\n",
       "        [  -472.69851982,    172.31752748,  -1469.87668915,\n",
       "            485.79720674,  -2450.79673466,    738.00891539],\n",
       "        [  4806.7408934 ,  -1469.87668915,  15925.40990228,\n",
       "          -4803.01919037,  29743.17324959,  -8654.04900434],\n",
       "        [ -1469.88301051,    485.79720674,  -4803.01919037,\n",
       "           1806.21028635,  -8653.96819218,   4303.54472933],\n",
       "        [  7942.51917199,  -2450.79673466,  29743.17324959,\n",
       "          -8653.96819218,  74599.97826617, -17569.04678907],\n",
       "        [ -2450.83301536,    738.00891539,  -8654.04900434,\n",
       "           4303.54472933, -17569.04678907,  22953.54109245]])"
      ]
     },
     "metadata": {},
     "output_type": "display_data"
    },
    {
     "data": {
      "text/plain": [
       "matrix([[  1986.35755353,   -603.15550624,   5833.76412491,\n",
       "          -1786.27316879,   9186.33062323,  -2834.06925285],\n",
       "        [  -603.15550624,    213.28717824,  -1786.25900103,\n",
       "            582.78008601,  -2833.98784465,    855.40601861],\n",
       "        [  5833.76412491,  -1786.25900103,  18413.17371976,\n",
       "          -5569.01485934,  32757.69991952,  -9582.32413112],\n",
       "        [ -1786.27316879,    582.78008601,  -5569.01485934,\n",
       "           2042.33094152,  -9582.14778978,   4589.7699876 ],\n",
       "        [  9186.33062323,  -2833.98784465,  32757.69991952,\n",
       "          -9582.14778978,  78253.46474659, -18694.04629842],\n",
       "        [ -2834.06925285,    855.40601861,  -9582.32413112,\n",
       "           4589.7699876 , -18694.04629842,  23300.78649107]])"
      ]
     },
     "metadata": {},
     "output_type": "display_data"
    },
    {
     "data": {
      "text/plain": [
       "matrix([[  2499.14692933,   -760.82729078,   7017.40553152,\n",
       "          -2150.87501972,  10553.68425052,  -3255.19699765],\n",
       "        [  -760.82729078,    262.58887946,  -2150.8398162 ,\n",
       "            694.72389709,  -3254.99331489,    985.24641803],\n",
       "        [  7017.40553152,  -2150.8398162 ,  21147.90375728,\n",
       "          -6411.14345222,  35918.23634361, -10555.92930625],\n",
       "        [ -2150.87501972,    694.72389709,  -6411.14345222,\n",
       "           2301.81331643, -10555.49933163,   4889.56494042],\n",
       "        [ 10553.68425052,  -3254.99331489,  35918.23634361,\n",
       "         -10555.49933163,  81906.68891221, -19819.50976939],\n",
       "        [ -3255.19699765,    985.24641803, -10555.92930625,\n",
       "           4889.56494042, -19819.50976939,  23647.71172157]])"
      ]
     },
     "metadata": {},
     "output_type": "display_data"
    },
    {
     "data": {
      "text/plain": [
       "matrix([[  3113.38942842,   -949.76133719,   8372.81761985,\n",
       "          -2568.40383504,  12050.34224335,  -3716.26370038],\n",
       "        [  -949.76133719,    321.47274126,  -2568.30498955,\n",
       "            823.06752544,  -3715.68653274,   1127.91253922],\n",
       "        [  8372.81761985,  -2568.30498955,  24141.22766565,\n",
       "          -7333.09086142,  39224.61208778, -11575.24673658],\n",
       "        [ -2568.40383504,    823.06752544,  -7333.09086142,\n",
       "           2585.86023408, -11574.05844554,   5203.34956959],\n",
       "        [ 12050.34224335,  -3715.68653274,  39224.61208778,\n",
       "         -11574.05844554,  85559.32872451, -20945.73913057],\n",
       "        [ -3716.26370038,   1127.91253922, -11575.24673658,\n",
       "           5203.34956959, -20945.73913057,  23995.7325928 ]])"
      ]
     },
     "metadata": {},
     "output_type": "display_data"
    },
    {
     "data": {
      "text/plain": [
       "matrix([[  3843.44615513,  -1174.39961376,   9915.80923524,\n",
       "          -3043.89613314,  13681.90474174,  -4219.78704536],\n",
       "        [ -1174.39961376,    391.31522862,  -3043.57999003,\n",
       "            969.35945038,  -4217.9257375 ,   1283.99871569],\n",
       "        [  9915.80923524,  -3043.57999003,  27404.60186724,\n",
       "          -8338.79071115,  42676.148857  , -12641.8841061 ],\n",
       "        [ -3043.89613314,    969.35945038,  -8338.79071115,\n",
       "           2895.83619287, -12638.14744214,   5531.94149475],\n",
       "        [ 13681.90474174,  -4217.9257375 ,  42676.148857  ,\n",
       "         -12638.14744214,  89209.93686062, -22074.80862905],\n",
       "        [ -4219.78704536,   1283.99871569, -12641.8841061 ,\n",
       "           5531.94149475, -22074.80862905,  24346.55472294]])"
      ]
     },
     "metadata": {},
     "output_type": "display_data"
    },
    {
     "data": {
      "text/plain": [
       "matrix([[  4704.93519382,  -1439.63379971,  11662.69304766,\n",
       "          -3583.04437107,  15453.25895606,  -4770.33033994],\n",
       "        [ -1439.63379971,    473.65067368,  -3581.89669215,\n",
       "           1135.39778979,  -4763.53452498,   1454.83936364],\n",
       "        [ 11662.69304766,  -3581.89669215,  30948.76031498,\n",
       "          -9433.1762128 ,  46270.08986431, -13762.39539755],\n",
       "        [ -3583.04437107,   1135.39778979,  -9433.1762128 ,\n",
       "           3233.78196622, -13749.09951957,   5878.10686693],\n",
       "        [ 15453.25895606,  -4763.53452498,  46270.08986431,\n",
       "         -13749.09951957,  92852.77120562, -23215.04515457],\n",
       "        [ -4770.33033994,   1454.83936364, -13762.39539755,\n",
       "           5878.10686693, -23215.04515457,  24705.69567744]])"
      ]
     },
     "metadata": {},
     "output_type": "display_data"
    },
    {
     "data": {
      "text/plain": [
       "matrix([[  5714.56471585,  -1750.97767301,  13629.39799909,\n",
       "          -4193.71614725,  17365.75905942,  -5381.86920482],\n",
       "        [ -1750.97767301,    570.29322618,  -4189.03949158,\n",
       "           1323.85983041,  -5354.09326406,   1644.97723165],\n",
       "        [ 13629.39799909,  -4189.03949158,  34780.7774692 ,\n",
       "         -10625.46690489,  49993.88899403, -14965.18195324],\n",
       "        [ -4193.71614725,   1323.85983041, -10625.46690489,\n",
       "           3604.72374628, -14912.24377764,   6253.47171453],\n",
       "        [ 17365.75905942,  -5354.09326406,  49993.88899403,\n",
       "         -14912.24377764,  96462.82725191, -24401.11292883],\n",
       "        [ -5381.86920482,   1644.97723165, -14965.18195324,\n",
       "           6253.47171453, -24401.11292883,  25096.68645798]])"
      ]
     },
     "metadata": {},
     "output_type": "display_data"
    },
    {
     "data": {
      "text/plain": [
       "matrix([[  6887.37782716,  -2114.84644022,  15823.08612782,\n",
       "          -4892.39453281,  19397.98359185,  -6113.50857072],\n",
       "        [ -2114.84644022,    683.77158148,  -4871.30236274,\n",
       "           1541.07957159,  -5988.12512716,   1874.16800423],\n",
       "        [ 15823.08612782,  -4871.30236274,  38880.47201103,\n",
       "         -11942.34260331,  53775.80294017, -16379.76974743],\n",
       "        [ -4892.39453281,   1541.07957159, -11942.34260331,\n",
       "           4027.12332421, -16147.01404444,   6711.20479634],\n",
       "        [ 19397.98359185,  -5988.12512716,  53775.80294017,\n",
       "         -16147.01404444,  99909.30901167, -25784.77016978],\n",
       "        [ -6113.50857072,   1874.16800423, -16379.76974743,\n",
       "           6711.20479634, -25784.77016978,  25627.39176011]])"
      ]
     },
     "metadata": {},
     "output_type": "display_data"
    },
    {
     "data": {
      "text/plain": [
       "matrix([[  8177.2218455 ,  -2526.16203706,  18097.14473408,\n",
       "          -5706.86315675,  21279.41109636,  -7219.16231877],\n",
       "        [ -2526.16203706,    815.37183391,  -5603.74379618,\n",
       "           1802.1008213 ,  -6606.53341122,   2229.2827937 ],\n",
       "        [ 18097.14473408,  -5603.74379618,  42850.51738629,\n",
       "         -13423.80894492,  56949.53112197, -18552.84499111],\n",
       "        [ -5706.86315675,   1802.1008213 , -13423.80894492,\n",
       "           4565.52015651, -17445.0447457 ,   7490.48013852],\n",
       "        [ 21279.41109636,  -6606.53341122,  56949.53112197,\n",
       "         -17445.0447457 , 102173.66213373, -27966.43204757],\n",
       "        [ -7219.16231877,   2229.2827937 , -18552.84499111,\n",
       "           7490.48013852, -27966.43204757,  26811.17298734]])"
      ]
     },
     "metadata": {},
     "output_type": "display_data"
    },
    {
     "data": {
      "text/plain": [
       "matrix([[  8135.77757655,  -2574.01990751,  17175.32737211,\n",
       "          -5906.95053812,  18754.41256692,  -8682.47475989],\n",
       "        [ -2574.01990751,    850.03726423,  -5450.78974771,\n",
       "           1909.96643553,  -5978.16897062,   2754.33905823],\n",
       "        [ 17175.32737211,  -5450.78974771,  39323.1548602 ,\n",
       "         -13389.04321304,  50009.00537077, -21293.22370423],\n",
       "        [ -5906.95053812,   1909.96643553, -13389.04321304,\n",
       "           4925.79623948, -16528.15009297,   8928.62009689],\n",
       "        [ 18754.41256692,  -5978.16897062,  50009.00537077,\n",
       "         -16528.15009297,  91126.34472879, -30245.11782406],\n",
       "        [ -8682.47475989,   2754.33905823, -21293.22370423,\n",
       "           8928.62009689, -30245.11782406,  30275.3761633 ]])"
      ]
     },
     "metadata": {},
     "output_type": "display_data"
    },
    {
     "data": {
      "text/plain": [
       "matrix([[  2458.89006348,   -839.0338295 ,   4303.33204884,\n",
       "          -2043.03590428,   2647.16639748,  -4168.72877424],\n",
       "        [  -839.0338295 ,    323.36933611,  -1499.66809719,\n",
       "            748.17377294,   -990.9248393 ,   1468.19023106],\n",
       "        [  4303.33204884,  -1499.66809719,  10603.7857926 ,\n",
       "          -4677.10558071,  14647.85602044, -11020.94519712],\n",
       "        [ -2043.03590428,    748.17377294,  -4677.10558071,\n",
       "           2474.12453485,  -5553.24920461,   6616.74182327],\n",
       "        [  2647.16639748,   -990.9248393 ,  14647.85602044,\n",
       "          -5553.24920461,  48378.08630522, -16783.20714335],\n",
       "        [ -4168.72877424,   1468.19023106, -11020.94519712,\n",
       "           6616.74182327, -16783.20714335,  30085.16577078]])"
      ]
     },
     "metadata": {},
     "output_type": "display_data"
    },
    {
     "data": {
      "text/plain": [
       "matrix([[ 1.37930495e+03, -5.15100457e+02,  1.82956939e+03,\n",
       "         -1.28252893e+03, -3.50027438e+02, -3.00913657e+03],\n",
       "        [-5.15100457e+02,  2.31692731e+02, -7.33171429e+02,\n",
       "          5.46903613e+02, -5.86292341e+00,  1.23122414e+03],\n",
       "        [ 1.82956939e+03, -7.33171429e+02,  5.34976092e+03,\n",
       "         -2.97319339e+03,  8.67564150e+03, -8.39918147e+03],\n",
       "        [-1.28252893e+03,  5.46903613e+02, -2.97319339e+03,\n",
       "          2.16057312e+03, -3.36517222e+03,  6.65395330e+03],\n",
       "        [-3.50027438e+02, -5.86292341e+00,  8.67564150e+03,\n",
       "         -3.36517222e+03,  4.19613700e+04, -1.30848683e+04],\n",
       "        [-3.00913657e+03,  1.23122414e+03, -8.39918147e+03,\n",
       "          6.65395330e+03, -1.30848683e+04,  3.21947559e+04]])"
      ]
     },
     "metadata": {},
     "output_type": "display_data"
    },
    {
     "data": {
      "text/plain": [
       "matrix([[  1122.6881788 ,   -461.91501066,   1189.20943967,\n",
       "          -1175.86173065,  -1082.47730074,  -2842.08427949],\n",
       "        [  -461.91501066,    232.5219891 ,   -561.2123095 ,\n",
       "            574.72263977,    256.96635679,   1353.20570301],\n",
       "        [  1189.20943967,   -561.2123095 ,   4079.5775968 ,\n",
       "          -2693.10472425,   7346.7102331 ,  -7998.54304989],\n",
       "        [ -1175.86173065,    574.72263977,  -2693.10472425,\n",
       "           2427.47986951,  -2866.53727801,   7597.41215399],\n",
       "        [ -1082.47730074,    256.96635679,   7346.7102331 ,\n",
       "          -2866.53727801,  40316.34673765, -12212.30827671],\n",
       "        [ -2842.08427949,   1353.20570301,  -7998.54304989,\n",
       "           7597.41215399, -12212.30827671,  35451.9559792 ]])"
      ]
     },
     "metadata": {},
     "output_type": "display_data"
    },
    {
     "data": {
      "text/plain": [
       "matrix([[   996.48687418,   -454.43560808,    884.00053627,\n",
       "          -1179.40642311,  -1320.5316821 ,  -2803.46743363],\n",
       "        [  -454.43560808,    254.00929959,   -498.67224263,\n",
       "            658.43605883,    366.28244472,   1553.94828132],\n",
       "        [   884.00053627,   -498.67224263,   3478.99819347,\n",
       "          -2650.35794483,   6650.43231218,  -7922.83806442],\n",
       "        [ -1179.40642311,    658.43605883,  -2650.35794483,\n",
       "           2850.65849949,  -2638.84114685,   8752.44929729],\n",
       "        [ -1320.5316821 ,    366.28244472,   6650.43231218,\n",
       "          -2638.84114685,  38519.28377263, -11824.05605684],\n",
       "        [ -2803.46743363,   1553.94828132,  -7922.83806442,\n",
       "           8752.44929729, -11824.05605684,  38789.00887915]])"
      ]
     },
     "metadata": {},
     "output_type": "display_data"
    },
    {
     "data": {
      "text/plain": [
       "matrix([[   902.99313531,   -459.07083211,    702.43115006,\n",
       "          -1212.77437914,  -1336.12798869,  -2783.13232734],\n",
       "        [  -459.07083211,    285.84139868,   -475.4469042 ,\n",
       "            773.4214967 ,    408.41119491,   1795.45362705],\n",
       "        [   702.43115006,   -475.4469042 ,   3071.08635616,\n",
       "          -2666.15614685,   6017.72734591,  -7883.08530425],\n",
       "        [ -1212.77437914,    773.4214967 ,  -2666.15614685,\n",
       "           3363.76116889,  -2449.52413422,  10004.15757936],\n",
       "        [ -1336.12798869,    408.41119491,   6017.72734591,\n",
       "          -2449.52413422,  36114.32178834, -11428.47330793],\n",
       "        [ -2783.13232734,   1795.45362705,  -7883.08530425,\n",
       "          10004.15757936, -11428.47330793,  42063.10030608]])"
      ]
     },
     "metadata": {},
     "output_type": "display_data"
    },
    {
     "data": {
      "text/plain": [
       "matrix([[   820.64707375,   -467.45172171,    580.66610227,\n",
       "          -1254.86204903,  -1254.19030229,  -2766.37594045],\n",
       "        [  -467.45172171,    325.99976316,   -469.07595883,\n",
       "            914.15516129,    427.01893651,   2071.7044384 ],\n",
       "        [   580.66610227,   -469.07595883,   2730.33480902,\n",
       "          -2685.21254524,   5355.66451034,  -7791.56108529],\n",
       "        [ -1254.86204903,    914.15516129,  -2685.21254524,\n",
       "           3946.5353555 ,  -2206.56870164,  11315.54728022],\n",
       "        [ -1254.19030229,    427.01893651,   5355.66451034,\n",
       "          -2206.56870164,  33448.47930387, -10804.491158  ],\n",
       "        [ -2766.37594045,   2071.7044384 ,  -7791.56108529,\n",
       "          11315.54728022, -10804.491158  ,  45237.13348201]])"
      ]
     },
     "metadata": {},
     "output_type": "display_data"
    },
    {
     "data": {
      "text/plain": [
       "matrix([[  746.14170486,  -478.02458016,   489.36137803, -1299.63619312,\n",
       "         -1154.65585329, -2753.96942966],\n",
       "        [ -478.02458016,   375.0668673 ,  -467.83152581,  1080.45063535,\n",
       "           456.42538672,  2383.08033085],\n",
       "        [  489.36137803,  -467.83152581,  2420.5902853 , -2683.7177537 ,\n",
       "          4693.12636056, -7617.51828749],\n",
       "        [-1299.63619312,  1080.45063535, -2683.7177537 ,  4592.18878421,\n",
       "         -1861.06828768, 12671.49969199],\n",
       "        [-1154.65585329,   456.42538672,  4693.12636056, -1861.06828768,\n",
       "         30950.44734848, -9875.71818018],\n",
       "        [-2753.96942966,  2383.08033085, -7617.51828749, 12671.49969199,\n",
       "         -9875.71818018, 48295.3694347 ]])"
      ]
     },
     "metadata": {},
     "output_type": "display_data"
    },
    {
     "data": {
      "text/plain": [
       "matrix([[  679.29702935,  -490.71170614,   412.25684976, -1344.57513517,\n",
       "         -1079.9680166 , -2744.0460807 ],\n",
       "        [ -490.71170614,   434.45461111,  -463.50886029,  1273.54987456,\n",
       "           521.61311826,  2729.16898105],\n",
       "        [  412.25684976,  -463.50886029,  2130.6630963 , -2646.57062889,\n",
       "          4069.64629068, -7346.77904081],\n",
       "        [-1344.57513517,  1273.54987456, -2646.57062889,  5297.01894126,\n",
       "         -1382.6724949 , 14059.42362333],\n",
       "        [-1079.9680166 ,   521.61311826,  4069.64629068, -1382.6724949 ,\n",
       "         28860.18829518, -8635.27832976],\n",
       "        [-2744.0460807 ,  2729.16898105, -7346.77904081, 14059.42362333,\n",
       "         -8635.27832976, 51219.87137099]])"
      ]
     },
     "metadata": {},
     "output_type": "display_data"
    },
    {
     "data": {
      "text/plain": [
       "matrix([[  619.37795764,  -505.22616767,   340.13808236, -1387.19624961,\n",
       "         -1045.1128548 , -2730.69623084],\n",
       "        [ -505.22616767,   505.69363692,  -449.41522447,  1494.52927897,\n",
       "           639.2047977 ,  3106.94852758],\n",
       "        [  340.13808236,  -449.41522447,  1856.56383762, -2560.58921053,\n",
       "          3511.24164011, -6968.00188532],\n",
       "        [-1387.19624961,  1494.52927897, -2560.58921053,  6055.63244393,\n",
       "          -750.24225839, 15461.06113204],\n",
       "        [-1045.1128548 ,   639.2047977 ,  3511.24164011,  -750.24225839,\n",
       "         27250.72008865, -7096.55578268],\n",
       "        [-2730.69623084,  3106.94852758, -6968.00188532, 15461.06113204,\n",
       "         -7096.55578268, 53980.45682252]])"
      ]
     },
     "metadata": {},
     "output_type": "display_data"
    },
    {
     "data": {
      "text/plain": [
       "matrix([[ 5.65078342e+02, -5.20885794e+02,  2.68231801e+02,\n",
       "         -1.42468752e+03, -1.04932558e+03, -2.70671547e+03],\n",
       "        [-5.20885794e+02,  5.90306357e+02, -4.19800382e+02,\n",
       "          1.74403337e+03,  8.19690725e+02,  3.51145516e+03],\n",
       "        [ 2.68231801e+02, -4.19800382e+02,  1.59870193e+03,\n",
       "         -2.41437735e+03,  3.03658023e+03, -6.47334759e+03],\n",
       "        [-1.42468752e+03,  1.74403337e+03, -2.41437735e+03,\n",
       "          6.86066590e+03,  4.83658953e+01,  1.68538097e+04],\n",
       "        [-1.04932558e+03,  8.19690725e+02,  3.03658023e+03,\n",
       "          4.83658953e+01,  2.61203219e+04, -5.28319560e+03],\n",
       "        [-2.70671547e+03,  3.51145516e+03, -6.47334759e+03,\n",
       "          1.68538097e+04, -5.28319560e+03,  5.65399820e+04]])"
      ]
     },
     "metadata": {},
     "output_type": "display_data"
    },
    {
     "data": {
      "text/plain": [
       "matrix([[  515.1159994 ,  -536.89496292,   194.85543531, -1454.66346369,\n",
       "         -1083.96231127, -2666.60277148],\n",
       "        [ -536.89496292,   690.04007007,  -369.94248431,  2023.05223227,\n",
       "          1068.77431459,  3938.03941546],\n",
       "        [  194.85543531,  -369.94248431,  1361.82535798, -2200.33878363,\n",
       "          2663.5178717 , -5863.3989317 ],\n",
       "        [-1454.66346369,  2023.05223227, -2200.33878363,  7706.10752218,\n",
       "          1013.53472794, 18218.76154983],\n",
       "        [-1083.96231127,  1068.77431459,  2663.5178717 ,  1013.53472794,\n",
       "         25447.14548568, -3235.06614196],\n",
       "        [-2666.60277148,  3938.03941546, -5863.3989317 , 18218.76154983,\n",
       "         -3235.06614196, 58871.42754908]])"
      ]
     },
     "metadata": {},
     "output_type": "display_data"
    },
    {
     "data": {
      "text/plain": [
       "matrix([[  468.58421367,  -552.65140333,   120.46199711, -1475.97517137,\n",
       "         -1137.1689529 , -2608.4589441 ],\n",
       "        [ -552.65140333,   807.3249744 ,  -296.30886247,  2334.34829512,\n",
       "          1388.25109939,  4385.3480063 ],\n",
       "        [  120.46199711,  -296.30886247,  1153.91703086, -1915.91775211,\n",
       "          2409.27135272, -5149.39613262],\n",
       "        [-1475.97517137,  2334.34829512, -1915.91775211,  8592.27598936,\n",
       "          2133.61390079, 19550.6257241 ],\n",
       "        [-1137.1689529 ,  1388.25109939,  2409.27135272,  2133.61390079,\n",
       "         25203.06195172, -1009.55359007],\n",
       "        [-2608.4589441 ,  4385.3480063 , -5149.39613262, 19550.6257241 ,\n",
       "         -1009.55359007, 60976.62042242]])"
      ]
     },
     "metadata": {},
     "output_type": "display_data"
    },
    {
     "data": {
      "text/plain": [
       "matrix([[ 4.24973253e+02, -5.67873036e+02,  4.66869204e+01,\n",
       "         -1.48890073e+03, -1.19694792e+03, -2.53405502e+03],\n",
       "        [-5.67873036e+02,  9.45779635e+02, -1.96307553e+02,\n",
       "          2.68381799e+03,  1.77738106e+03,  4.85759300e+03],\n",
       "        [ 4.66869204e+01, -1.96307553e+02,  9.83986512e+02,\n",
       "         -1.56261230e+03,  2.28693784e+03, -4.35021542e+03],\n",
       "        [-1.48890073e+03,  2.68381799e+03, -1.56261230e+03,\n",
       "          9.52961070e+03,  3.38926840e+03,  2.08636207e+04],\n",
       "        [-1.19694792e+03,  1.77738106e+03,  2.28693784e+03,\n",
       "          3.38926840e+03,  2.53500521e+04,  1.32792091e+03],\n",
       "        [-2.53405502e+03,  4.85759300e+03, -4.35021542e+03,\n",
       "          2.08636207e+04,  1.32792091e+03,  6.28945880e+04]])"
      ]
     },
     "metadata": {},
     "output_type": "display_data"
    },
    {
     "data": {
      "text/plain": [
       "matrix([[ 3.83986259e+02, -5.82466192e+02, -2.45408510e+01,\n",
       "         -1.49450100e+03, -1.25310099e+03, -2.44713678e+03],\n",
       "        [-5.82466192e+02,  1.11053644e+03, -6.75209189e+01,\n",
       "          3.08099771e+03,  2.23482342e+03,  5.36473596e+03],\n",
       "        [-2.45408510e+01, -6.75209189e+01,  8.59976934e+02,\n",
       "         -1.14303393e+03,  2.30258749e+03, -3.48562769e+03],\n",
       "        [-1.49450100e+03,  3.08099771e+03, -1.14303393e+03,\n",
       "          1.05387829e+04,  4.76056801e+03,  2.21891940e+04],\n",
       "        [-1.25310099e+03,  2.23482342e+03,  2.30258749e+03,\n",
       "          4.76056801e+03,  2.58370695e+04,  3.71878154e+03],\n",
       "        [-2.44713678e+03,  5.36473596e+03, -3.48562769e+03,\n",
       "          2.21891940e+04,  3.71878154e+03,  6.46928555e+04]])"
      ]
     },
     "metadata": {},
     "output_type": "display_data"
    },
    {
     "data": {
      "text/plain": [
       "matrix([[  345.32233414,  -596.19057303,   -91.56090296, -1493.4489509 ,\n",
       "         -1297.96035583, -2350.95061208],\n",
       "        [ -596.19057303,  1308.22480322,    93.26899375,  3538.33385975,\n",
       "          2760.39631139,  5920.28425192],\n",
       "        [  -91.56090296,    93.26899375,   787.8519432 ,  -657.61445769,\n",
       "          2455.27795002, -2569.74039058],\n",
       "        [-1493.4489509 ,  3538.33385975,  -657.61445769, 11646.62600962,\n",
       "          6232.94206093, 23566.14945395],\n",
       "        [-1297.96035583,  2760.39631139,  2455.27795002,  6232.94206093,\n",
       "         26604.11349112,  6122.47087536],\n",
       "        [-2350.95061208,  5920.28425192, -2569.74039058, 23566.14945395,\n",
       "          6122.47087536, 66445.58533187]])"
      ]
     },
     "metadata": {},
     "output_type": "display_data"
    },
    {
     "data": {
      "text/plain": [
       "matrix([[  308.55226007,  -608.25597058,  -153.08580091, -1484.8681792 ,\n",
       "         -1326.08000707, -2246.18799837],\n",
       "        [ -608.25597058,  1546.57986456,   290.83801009,  4069.38127731,\n",
       "          3356.02708553,  6537.52244487],\n",
       "        [ -153.08580091,   290.83801009,   772.02755145,  -102.54999671,\n",
       "          2739.73468857, -1607.74618842],\n",
       "        [-1484.8681792 ,  4069.38127731,  -102.54999671, 12879.360198  ,\n",
       "          7799.58020435, 25027.49537657],\n",
       "        [-1326.08000707,  3356.02708553,  2739.73468857,  7799.58020435,\n",
       "         27591.99152733,  8519.19902683],\n",
       "        [-2246.18799837,  6537.52244487, -1607.74618842, 25027.49537657,\n",
       "          8519.19902683, 68209.10190001]])"
      ]
     },
     "metadata": {},
     "output_type": "display_data"
    },
    {
     "data": {
      "text/plain": [
       "matrix([[  273.12139462,  -616.96692322,  -207.94555814, -1465.553686  ,\n",
       "         -1333.39910795, -2129.98225052],\n",
       "        [ -616.96692322,  1833.71256998,   531.83437141,  4686.30521382,\n",
       "          4025.94528264,  7225.23644182],\n",
       "        [ -207.94555814,   531.83437141,   816.60783782,   530.45490076,\n",
       "          3150.20169677,  -596.5394733 ],\n",
       "        [-1465.553686  ,  4686.30521382,   530.45490076, 14254.98091555,\n",
       "          9460.75697217, 26588.22396461],\n",
       "        [-1333.39910795,  4025.94528264,  3150.20169677,  9460.75697217,\n",
       "         28753.83425084, 10905.98792577],\n",
       "        [-2129.98225052,  7225.23644182,  -596.5394733 , 26588.22396461,\n",
       "         10905.98792577, 70003.22318744]])"
      ]
     },
     "metadata": {},
     "output_type": "display_data"
    },
    {
     "data": {
      "text/plain": [
       "matrix([[  238.45283946,  -619.47272739,  -254.66106871, -1429.68280406,\n",
       "         -1316.32906125, -1995.95593659],\n",
       "        [ -619.47272739,  2177.0656216 ,   824.65280371,  5396.95670349,\n",
       "          4776.59592192,  7983.54905218],\n",
       "        [ -254.66106871,   824.65280371,   926.80453175,  1252.95781577,\n",
       "          3684.27921398,   471.98630932],\n",
       "        [-1429.68280406,  5396.95670349,  1252.95781577, 15775.95156325,\n",
       "         11221.93483746, 28235.9480454 ],\n",
       "        [-1316.32906125,  4776.59592192,  3684.27921398, 11221.93483746,\n",
       "         30065.52214363, 13290.11953928],\n",
       "        [-1995.95593659,  7983.54905218,   471.98630932, 28235.9480454 ,\n",
       "         13290.11953928, 71800.91665055]])"
      ]
     },
     "metadata": {},
     "output_type": "display_data"
    },
    {
     "data": {
      "text/plain": [
       "matrix([[  204.112093  ,  -611.64696416,  -290.98329459, -1368.99436061,\n",
       "         -1270.89589521, -1835.07218501],\n",
       "        [ -611.64696416,  2582.04827952,  1178.91609655,  6201.65556183,\n",
       "          5616.47267403,  8800.07203103],\n",
       "        [ -290.98329459,  1178.91609655,  1110.15612276,  2077.51199236,\n",
       "          4346.14360364,  1606.20747973],\n",
       "        [-1368.99436061,  6201.65556183,  2077.51199236, 17422.68491631,\n",
       "         13091.52873323, 29924.64837826],\n",
       "        [-1270.89589521,  5616.47267403,  4346.14360364, 13091.52873323,\n",
       "         31532.89889088, 15682.00515442],\n",
       "        [-1835.07218501,  8800.07203103,  1606.20747973, 29924.64837826,\n",
       "         15682.00515442, 73525.19041777]])"
      ]
     },
     "metadata": {},
     "output_type": "display_data"
    },
    {
     "data": {
      "text/plain": [
       "matrix([[  170.00592318,  -588.12293238,  -313.45863742, -1273.41696203,\n",
       "         -1191.85328635, -1637.10092164],\n",
       "        [ -588.12293238,  3050.31092204,  1604.47422991,  7089.74411171,\n",
       "          6555.27763785,  9646.44105977],\n",
       "        [ -313.45863742,  1604.47422991,  1377.27054696,  3014.42441037,\n",
       "          5148.47465376,  2809.0738501 ],\n",
       "        [-1273.41696203,  7089.74411171,  3014.42441037, 19148.05602966,\n",
       "         15077.14560612, 31571.36313836],\n",
       "        [-1191.85328635,  6555.27763785,  5148.47465376, 15077.14560612,\n",
       "         33193.00860945, 18086.30226825],\n",
       "        [-1637.10092164,  9646.44105977,  2809.0738501 , 31571.36313836,\n",
       "         18086.30226825, 75051.6889084 ]])"
      ]
     },
     "metadata": {},
     "output_type": "display_data"
    },
    {
     "data": {
      "text/plain": [
       "matrix([[  136.59816775,  -542.54319375,  -317.07390671, -1132.19612219,\n",
       "         -1071.78708236, -1392.65831012],\n",
       "        [ -542.54319375,  3577.61528378,  2109.65285199,  8036.01564351,\n",
       "          7601.20757579, 10475.46637406],\n",
       "        [ -317.07390671,  2109.65285199,  1741.69769514,  4067.23383751,\n",
       "          6111.96237192,  4071.42431998],\n",
       "        [-1132.19612219,  8036.01564351,  4067.23383751, 20873.31591884,\n",
       "         17178.06482767, 33056.10214327],\n",
       "        [-1071.78708236,  7601.20757579,  6111.96237192, 17178.06482767,\n",
       "         35106.69194645, 20489.3298658 ],\n",
       "        [-1392.65831012, 10475.46637406,  4071.42431998, 33056.10214327,\n",
       "         20489.3298658 , 76216.65447442]])"
      ]
     },
     "metadata": {},
     "output_type": "display_data"
    },
    {
     "data": {
      "text/plain": [
       "matrix([[  105.12004983,  -468.13881126,  -295.11490325,  -935.66163137,\n",
       "          -900.5845967 , -1095.88253943],\n",
       "        [ -468.13881126,  4151.45442123,  2698.50470156,  8997.61018287,\n",
       "          8755.55955339, 11219.89344318],\n",
       "        [ -295.11490325,  2698.50470156,  2218.42194766,  5226.81895979,\n",
       "          7261.28038671,  5364.77105178],\n",
       "        [ -935.66163137,  8997.61018287,  5226.81895979, 22486.83219322,\n",
       "         19373.29898417, 34226.84303909],\n",
       "        [ -900.5845967 ,  8755.55955339,  7261.28038671, 19373.29898417,\n",
       "         37342.2173663 , 22843.73236195],\n",
       "        [-1095.88253943, 11219.89344318,  5364.77105178, 34226.84303909,\n",
       "         22843.73236195, 76832.16681476]])"
      ]
     },
     "metadata": {},
     "output_type": "display_data"
    },
    {
     "data": {
      "text/plain": [
       "matrix([[   77.72252399,  -358.78010175,  -239.47736172,  -677.7570769 ,\n",
       "          -665.91405306,  -747.69529573],\n",
       "        [ -358.78010175,  4749.20384141,  3367.27761322,  9913.24819952,\n",
       "         10005.39883487, 11795.27942435],\n",
       "        [ -239.47736172,  3367.27761322,  2820.64589457,  6465.18663454,\n",
       "          8617.27144185,  6635.54048514],\n",
       "        [ -677.7570769 ,  9913.24819952,  6465.18663454, 23849.50832522,\n",
       "         21608.3345465 , 34914.1571267 ],\n",
       "        [ -665.91405307, 10005.39883487,  8617.27144185, 21608.3345465 ,\n",
       "         39952.59557358, 25056.04084056],\n",
       "        [ -747.69529573, 11795.27942435,  6635.54048514, 34914.1571267 ,\n",
       "         25056.04084056, 76713.3153344 ]])"
      ]
     },
     "metadata": {},
     "output_type": "display_data"
    },
    {
     "data": {
      "text/plain": [
       "matrix([[ 5.74703738e+01, -2.10499358e+02, -1.41669707e+02,\n",
       "         -3.59064147e+02, -3.55244549e+02, -3.59020292e+02],\n",
       "        [-2.10499358e+02,  5.33855008e+03,  4.10130785e+03,\n",
       "          1.07082651e+04,  1.13172470e+04,  1.21108473e+04],\n",
       "        [-1.41669707e+02,  4.10130785e+03,  3.55523999e+03,\n",
       "          7.73196895e+03,  1.01866964e+04,  7.80488397e+03],\n",
       "        [-3.59064147e+02,  1.07082651e+04,  7.73196895e+03,\n",
       "          2.48130286e+04,  2.37878599e+04,  3.49614801e+04],\n",
       "        [-3.55244549e+02,  1.13172470e+04,  1.01866964e+04,\n",
       "          2.37878599e+04,  4.29513267e+04,  2.69866986e+04],\n",
       "        [-3.59020292e+02,  1.21108473e+04,  7.80488397e+03,\n",
       "          3.49614801e+04,  2.69866986e+04,  7.57220763e+04]])"
      ]
     },
     "metadata": {},
     "output_type": "display_data"
    },
    {
     "data": {
      "text/plain": [
       "matrix([[ 4.80634508e+01, -2.30527215e+01,  5.52587802e+00,\n",
       "          1.08444369e+01,  4.07546140e+01,  4.77193984e+01],\n",
       "        [-2.30527215e+01,  5.88237238e+03,  4.87476524e+03,\n",
       "          1.13087286e+04,  1.26368913e+04,  1.20906495e+04],\n",
       "        [ 5.52587802e+00,  4.87476524e+03,  4.41861598e+03,\n",
       "          8.95844196e+03,  1.19535040e+04,  8.77930756e+03],\n",
       "        [ 1.08444369e+01,  1.13087286e+04,  8.95844196e+03,\n",
       "          2.52545886e+04,  2.57844426e+04,  3.42715475e+04],\n",
       "        [ 4.07546140e+01,  1.26368913e+04,  1.19535040e+04,\n",
       "          2.57844426e+04,  4.62948329e+04,  2.84728673e+04],\n",
       "        [ 4.77193984e+01,  1.20906495e+04,  8.77930756e+03,\n",
       "          3.42715475e+04,  2.84728673e+04,  7.38234292e+04]])"
      ]
     },
     "metadata": {},
     "output_type": "display_data"
    },
    {
     "data": {
      "text/plain": [
       "matrix([[5.32815874e+01, 1.99460449e+02, 2.06386567e+02, 4.13717965e+02,\n",
       "         5.24883800e+02, 4.41087261e+02],\n",
       "        [1.99460449e+02, 6.34845465e+03, 5.65569266e+03, 1.16628888e+04,\n",
       "         1.38999776e+04, 1.16998660e+04],\n",
       "        [2.06386567e+02, 5.65569266e+03, 5.39616314e+03, 1.00723453e+04,\n",
       "         1.38780605e+04, 9.47363228e+03],\n",
       "        [4.13717965e+02, 1.16628888e+04, 1.00723453e+04, 2.51194951e+04,\n",
       "         2.74689312e+04, 3.28528280e+04],\n",
       "        [5.24883800e+02, 1.38999776e+04, 1.38780605e+04, 2.74689312e+04,\n",
       "         4.98840129e+04, 2.93754592e+04],\n",
       "        [4.41087261e+02, 1.16998660e+04, 9.47363228e+03, 3.28528280e+04,\n",
       "         2.93754592e+04, 7.11282739e+04]])"
      ]
     },
     "metadata": {},
     "output_type": "display_data"
    },
    {
     "data": {
      "text/plain": [
       "matrix([[   76.39633022,   449.83363743,   461.73471207,   826.82866051,\n",
       "          1092.52647348,   787.6701986 ],\n",
       "        [  449.83363743,  6720.03677846,  6415.70094301, 11759.46687934,\n",
       "         15051.44731922, 10961.20625388],\n",
       "        [  461.73471207,  6415.70094301,  6467.44821906, 11019.17862134,\n",
       "         15908.39862899,  9837.36955517],\n",
       "        [  826.82866051, 11759.46687934, 11019.17862134, 24447.1289119 ,\n",
       "         28752.40703428, 30833.97053306],\n",
       "        [ 1092.52647348, 15051.44731922, 15908.39862899, 28752.40703428,\n",
       "         53591.72153262, 29630.40833581],\n",
       "        [  787.6701986 , 10961.20625388,  9837.36955517, 30833.97053306,\n",
       "         29630.40833581, 67884.91502758]])"
      ]
     },
     "metadata": {},
     "output_type": "display_data"
    },
    {
     "data": {
      "text/plain": [
       "matrix([[  119.93689997,   720.53695883,   770.22979889,  1229.41675924,\n",
       "          1734.3769567 ,  1060.46496196],\n",
       "        [  720.53695883,  7000.45242523,  7139.06531018, 11629.79114444,\n",
       "         16062.71888752,  9947.59467833],\n",
       "        [  770.22979889,  7139.06531018,  7615.0727434 , 11777.5118548 ,\n",
       "         17998.41793097,  9867.93044922],\n",
       "        [ 1229.41675924, 11629.79114444, 11777.5118548 , 23358.05949588,\n",
       "         29613.851501  , 28426.45901847],\n",
       "        [ 1734.3769567 , 16062.71888752, 17998.41793097, 29613.851501  ,\n",
       "         57303.56155155, 29270.30918763],\n",
       "        [ 1060.46496196,  9947.59467833,  9867.93044922, 28426.45901847,\n",
       "         29270.30918763, 64407.44675006]])"
      ]
     },
     "metadata": {},
     "output_type": "display_data"
    },
    {
     "data": {
      "text/plain": [
       "matrix([[  185.97734007,  1006.40628006,  1130.71614709,  1607.58433381,\n",
       "          2441.05624437,  1243.70096732],\n",
       "        [ 1006.40628006,  7208.80268391,  7825.51227919, 11331.84886582,\n",
       "         16935.50253619,  8754.56701022],\n",
       "        [ 1130.71614709,  7825.51227919,  8831.58354813, 12358.58425807,\n",
       "         20121.28002891,  9602.08444756],\n",
       "        [ 1607.58433381, 11331.84886582, 12358.58425807, 22008.33770234,\n",
       "         30095.30992876, 25855.44516246],\n",
       "        [ 2441.05624437, 16935.50253619, 20121.28002891, 30095.30992876,\n",
       "         60946.60336923, 28401.56826902],\n",
       "        [ 1243.70096732,  8754.56701022,  9602.08444756, 25855.44516246,\n",
       "         28401.56826902, 60980.89292967]])"
      ]
     },
     "metadata": {},
     "output_type": "display_data"
    },
    {
     "data": {
      "text/plain": [
       "matrix([[  276.71837345,  1305.78052113,  1544.13325829,  1955.25445282,\n",
       "          3206.58601345,  1332.16329288],\n",
       "        [ 1305.78052113,  7370.512383  ,  8486.15115057, 10927.95447812,\n",
       "         17692.27918892,  7470.79918421],\n",
       "        [ 1544.13325829,  8486.15115057, 10120.73935285, 12793.00321047,\n",
       "         22271.0404866 ,  9094.09852158],\n",
       "        [ 1955.25445282, 10927.95447812, 12793.00321047, 20541.19879724,\n",
       "         30272.65304627, 23301.59361566],\n",
       "        [ 3206.58601345, 17692.27918892, 22271.0404866 , 30272.65304627,\n",
       "         64492.54937005, 27157.27933686],\n",
       "        [ 1332.16329288,  7470.79918421,  9094.09852158, 23301.59361566,\n",
       "         27157.27933686, 57798.81250493]])"
      ]
     },
     "metadata": {},
     "output_type": "display_data"
    },
    {
     "data": {
      "text/plain": [
       "matrix([[  395.00466168,  1620.01175125,  2014.16416684,  2271.98502935,\n",
       "          4029.27262359,  1327.15808479],\n",
       "        [ 1620.01175125,  7508.90878255,  9136.65182061, 10468.77444448,\n",
       "         18362.44727741,  6161.510473  ],\n",
       "        [ 2014.16416684,  9136.65182061, 11494.16796637, 13115.1055153 ,\n",
       "         24455.46447267,  8395.51606676],\n",
       "        [ 2271.98502935, 10468.77444448, 13115.1055153 , 19060.15155671,\n",
       "         30224.28155624, 20878.44084263],\n",
       "        [ 4029.27262359, 18362.44727741, 24455.46447267, 30224.28155624,\n",
       "         67942.92129089, 25656.85104059],\n",
       "        [ 1327.15808479,  6161.510473  ,  8395.51606676, 20878.44084263,\n",
       "         25656.85104059, 54953.62990973]])"
      ]
     },
     "metadata": {},
     "output_type": "display_data"
    },
    {
     "data": {
      "text/plain": [
       "matrix([[  544.59007299,  1952.20134911,  2546.82401235,  2559.86149147,\n",
       "          4910.64291764,  1232.26899074],\n",
       "        [ 1952.20134911,  7640.85602061,  9791.64594636,  9987.61969405,\n",
       "         18971.98240823,  4866.09370696],\n",
       "        [ 2546.82401235,  9791.64594636, 12966.64480545, 13352.55314   ,\n",
       "         26686.91362999,  7544.44097488],\n",
       "        [ 2559.86149147,  9987.61969405, 13352.55314   , 17625.52299518,\n",
       "         30012.18793947, 18639.6083806 ],\n",
       "        [ 4910.64291764, 18971.98240823, 26686.91362999, 30012.18793947,\n",
       "         71311.02742001, 23986.78464184],\n",
       "        [ 1232.26899074,  4866.09370696,  7544.44097488, 18639.6083806 ,\n",
       "         23986.78464184, 52461.75985837]])"
      ]
     },
     "metadata": {},
     "output_type": "display_data"
    },
    {
     "data": {
      "text/plain": [
       "matrix([[  730.16421602,  2305.94685567,  3149.58077136,  2821.00862468,\n",
       "          5853.72099077,  1050.54287704],\n",
       "        [ 2305.94685567,  7775.95316414, 10461.70203577,  9501.88473623,\n",
       "         19538.71598967,  3603.57994578],\n",
       "        [ 3149.58077136, 10461.70203577, 14552.24107772, 13522.31379956,\n",
       "         28975.6447821 ,  6563.45862774],\n",
       "        [ 2821.00862468,  9501.88473623, 13522.31379956, 16263.9350985 ,\n",
       "         29676.29227258, 16598.29983931],\n",
       "        [ 5853.72099077, 19538.71598967, 28975.6447821 , 29676.29227258,\n",
       "         74609.30503325, 22199.12149162],\n",
       "        [ 1050.54287704,  3603.57994578,  6563.45862774, 16598.29983931,\n",
       "         22199.12149162, 50297.33717702]])"
      ]
     },
     "metadata": {},
     "output_type": "display_data"
    },
    {
     "data": {
      "text/plain": [
       "matrix([[  957.22782335,  2684.42423169,  3830.43547798,  3056.11786935,\n",
       "          6861.48089903,   783.17656655],\n",
       "        [ 2684.42423169,  7917.57608205, 11152.35187698,  9017.24167599,\n",
       "         20071.67765844,  2379.80462518],\n",
       "        [ 3830.43547798, 11152.35187698, 16261.90704183, 13630.78340114,\n",
       "         31326.29636872,  5462.07066848],\n",
       "        [ 3056.11786935,  9017.24167599, 13630.78340114, 14980.63784793,\n",
       "         29236.65851962, 14746.17845591],\n",
       "        [ 6861.48089903, 20071.67765844, 31326.29636872, 29236.65851962,\n",
       "         77843.15405419, 20318.41832351],\n",
       "        [  783.17656655,  2379.80462518,  5462.07066848, 14746.17845591,\n",
       "         20318.41832351, 48419.33378647]])"
      ]
     },
     "metadata": {},
     "output_type": "display_data"
    },
    {
     "data": {
      "text/plain": [
       "matrix([[ 1231.88775064,  3089.80565461,  4597.11978335,  3263.76922588,\n",
       "          7935.72288959,   429.15341533],\n",
       "        [ 3089.80565461,  8064.41987133, 11864.20255053,  8531.85623311,\n",
       "         20572.33099962,  1193.24802833],\n",
       "        [ 4597.11978335, 11864.20255053, 18102.1495073 , 13675.6302776 ,\n",
       "         33736.61404955,  4240.32451182],\n",
       "        [ 3263.76922588,  8531.85623311, 13675.6302776 , 13769.6787021 ,\n",
       "         28698.48008549, 13066.74859945],\n",
       "        [ 7935.72288959, 20572.33099962, 33736.61404955, 28698.48008549,\n",
       "         81009.10085879, 18350.48340001],\n",
       "        [  429.15341533,  1193.24802833,  4240.32451182, 13066.74859945,\n",
       "         18350.48340001, 46788.32305613]])"
      ]
     },
     "metadata": {},
     "output_type": "display_data"
    },
    {
     "data": {
      "text/plain": [
       "matrix([[ 1.56060591e+03,  3.52290684e+03,  5.45641106e+03,\n",
       "          3.44021627e+03,  9.07630778e+03, -1.46875344e+01],\n",
       "        [ 3.52290684e+03,  8.21190004e+03,  1.25934354e+04,\n",
       "          8.03963312e+03,  2.10362618e+04,  3.89131794e+01],\n",
       "        [ 5.45641106e+03,  1.25934354e+04,  2.00743044e+04,\n",
       "          1.36479267e+04,  3.61972901e+04,  2.89204648e+03],\n",
       "        [ 3.44021627e+03,  8.03963312e+03,  1.36479267e+04,\n",
       "          1.26207709e+04,  2.80570342e+04,  1.15432249e+04],\n",
       "        [ 9.07630778e+03,  2.10362618e+04,  3.61972901e+04,\n",
       "          2.80570342e+04,  8.40950061e+04,  1.62898371e+04],\n",
       "        [-1.46875344e+01,  3.89131794e+01,  2.89204648e+03,\n",
       "          1.15432249e+04,  1.62898371e+04,  4.53747187e+04]])"
      ]
     },
     "metadata": {},
     "output_type": "display_data"
    },
    {
     "data": {
      "text/plain": [
       "matrix([[ 1949.91308346,  3982.96904529,  6413.5201167 ,  3579.40321498,\n",
       "         10280.60986322,  -553.43553335],\n",
       "        [ 3982.96904529,  8353.24183753, 13332.35488071,  7532.44888756,\n",
       "         21454.68290578, -1089.34572018],\n",
       "        [ 6413.5201167 , 13332.35488071, 22174.06085114, 13534.01969346,\n",
       "         38692.18611195,  1407.30212011],\n",
       "        [ 3579.40321498,  7532.44888756, 13534.01969346, 11523.43369097,\n",
       "         27301.65313304, 10162.50190669],\n",
       "        [10280.60986322, 21454.68290578, 38692.18611195, 27301.65313304,\n",
       "         87080.91651564, 14125.25521661],\n",
       "        [ -553.43553335, -1089.34572018,  1407.30212011, 10162.50190669,\n",
       "         14125.25521661, 44161.52738426]])"
      ]
     },
     "metadata": {},
     "output_type": "display_data"
    },
    {
     "data": {
      "text/plain": [
       "matrix([[ 2406.0911362 ,  4467.52297622,  7471.51974049,  3673.10744146,\n",
       "         11543.08623338, -1193.82970529],\n",
       "        [ 4467.52297622,  8480.29673045, 14069.89570795,  7001.65476767,\n",
       "         21815.62015412, -2197.41972493],\n",
       "        [ 7471.51974049, 14069.89570795, 24391.09296505, 13317.0899722 ,\n",
       "         41198.62945565,  -225.72678043],\n",
       "        [ 3673.10744146,  7001.65476767, 13317.0899722 , 10469.3421045 ,\n",
       "         26418.70851239,  8916.83952398],\n",
       "        [11543.08623338, 21815.62015412, 41198.62945565, 26418.70851239,\n",
       "         89939.9848641 , 11843.77323577],\n",
       "        [-1193.82970529, -2197.41972493,  -225.72678043,  8916.83952398,\n",
       "         11843.77323577, 43144.09798001]])"
      ]
     },
     "metadata": {},
     "output_type": "display_data"
    },
    {
     "data": {
      "text/plain": [
       "matrix([[ 2934.83043859,  4972.31868192,  8630.81451521,  3711.18589262,\n",
       "         12854.92862036, -1943.88857291],\n",
       "        [ 4972.31868192,  8584.18140892, 14792.11550559,  6439.14769417,\n",
       "         22104.86999062, -3289.9753955 ],\n",
       "        [ 8630.81451521, 14792.11550559, 26708.80798135, 12978.53821762,\n",
       "         43687.76544883, -2019.11298308],\n",
       "        [ 3711.18589262,  6439.14769417, 12978.53821762,  9453.64518557,\n",
       "         25393.93207312,  7804.37700967],\n",
       "        [12854.92862036, 22104.86999062, 43687.76544883, 25393.93207312,\n",
       "         92639.39942123,  9433.75044866],\n",
       "        [-1943.88857291, -3289.9753955 , -2019.11298308,  7804.37700967,\n",
       "          9433.75044866, 42328.44546694]])"
      ]
     },
     "metadata": {},
     "output_type": "display_data"
    },
    {
     "data": {
      "text/plain": [
       "matrix([[ 3540.87761439,  5491.32842536,  9888.68587153,  3681.94247618,\n",
       "         14203.82598931, -2812.38521672],\n",
       "        [ 5491.32842536,  8655.82550955, 15482.74502907,  5838.2145715 ,\n",
       "         22306.88365166, -4369.6469348 ],\n",
       "        [ 9888.68587153, 15482.74502907, 29104.31389862, 12499.35534771,\n",
       "         46125.10751644, -3983.54500766],\n",
       "        [ 3681.94247618,  5838.2145715 , 12499.35534771,  8475.71283348,\n",
       "         24214.39028006,  6829.07084849],\n",
       "        [14203.82598931, 22306.88365166, 46125.10751644, 24214.39028006,\n",
       "         95141.51965375,  6887.43648247],\n",
       "        [-2812.38521672, -4369.6469348 , -3983.54500766,  6829.07084849,\n",
       "          6887.43648247, 41728.97388914]])"
      ]
     },
     "metadata": {},
     "output_type": "display_data"
    },
    {
     "data": {
      "text/plain": [
       "matrix([[ 4227.69944382,  6016.84022116, 11238.97135595,  3572.63500056,\n",
       "         15573.90798032, -3808.13366782],\n",
       "        [ 6016.84022116,  8686.48392367, 16123.86040466,  5194.24671949,\n",
       "         22405.70745482, -5436.31551719],\n",
       "        [11238.97135595, 16123.86040466, 31548.74539422, 11861.5589553 ,\n",
       "         48471.47472116, -6126.59900904],\n",
       "        [ 3572.63500056,  5194.24671949, 11861.5589553 ,  7539.51467125,\n",
       "         22870.29049338,  6000.27739554],\n",
       "        [15573.90798032, 22405.70745482, 48471.47472116, 22870.29049338,\n",
       "         97405.46545059,  4203.19735752],\n",
       "        [-3808.13366781, -5436.31551719, -6126.59900904,  6000.27739554,\n",
       "          4203.19735752, 41365.94256447]])"
      ]
     },
     "metadata": {},
     "output_type": "display_data"
    },
    {
     "data": {
      "text/plain": [
       "matrix([[ 4997.19818091,  6539.65940482, 12671.94820164,  3370.1170569 ,\n",
       "         16945.95136513, -4939.11385692],\n",
       "        [ 6539.65940482,  8668.23620501, 16696.71139802,  4505.33460703,\n",
       "         22386.04224055, -6486.5341614 ],\n",
       "        [12671.94820164, 16696.71139802, 34008.06881498, 11049.67549418,\n",
       "         50684.45956246, -8451.02985499],\n",
       "        [ 3370.1170569 ,  4505.33460703, 11049.67549418,  6653.67389386,\n",
       "         21356.62408836,  5332.00263789],\n",
       "        [16945.95136513, 22386.04224055, 50684.45956246, 21356.62408836,\n",
       "         99389.30827519,  1387.29506466],\n",
       "        [-4939.11385692, -6486.5341614 , -8451.02985499,  5332.00263789,\n",
       "          1387.29506466, 41262.79678472]])"
      ]
     },
     "metadata": {},
     "output_type": "display_data"
    },
    {
     "data": {
      "text/plain": [
       "matrix([[  5849.5182511 ,   7049.42545787,  14174.48243288,\n",
       "           3061.57575072,  18297.909878  ,  -6211.52827835],\n",
       "        [  7049.42545786,   8594.46512274,  17182.69205458,\n",
       "           3772.70073858,  22234.40144287,  -7513.21209066],\n",
       "        [ 14174.48243288,  17182.69205458,  36444.4183528 ,\n",
       "          10052.15467718,  52720.44967098, -10953.31922787],\n",
       "        [  3061.57575072,   3772.70073858,  10052.15467718,\n",
       "           5831.17466792,  19674.52043714,   4841.79442006],\n",
       "        [ 18297.909878  ,  22234.40144287,  52720.44967098,\n",
       "          19674.52043714, 101052.81708442,  -1545.02630734],\n",
       "        [ -6211.52827835,  -7513.21209066, -10953.31922787,\n",
       "           4841.79442006,  -1545.02630734,  41443.44948507]])"
      ]
     },
     "metadata": {},
     "output_type": "display_data"
    },
    {
     "data": {
      "text/plain": [
       "matrix([[  6782.97992921,   7535.03257031,  15730.47309994,\n",
       "           2635.29330665,  19605.77427379,  -7628.92722874],\n",
       "        [  7535.03257031,   8460.28225444,  17564.38787703,\n",
       "           3000.912341  ,  21940.26963055,  -8505.65753704],\n",
       "        [ 15730.47309994,  17564.38787703,  38817.9095553 ,\n",
       "           8862.54797323,  54537.07052694, -13622.74994464],\n",
       "        [  2635.29330665,   3000.912341  ,   8862.54797323,\n",
       "           5088.71176692,  17832.12835818,   4549.3042563 ],\n",
       "        [ 19605.77427379,  21940.26963055,  54537.07052694,\n",
       "          17832.12835818, 102360.49475936,  -4569.38215476],\n",
       "        [ -7628.92722874,  -8505.65753704, -13622.74994464,\n",
       "           4549.3042563 ,  -4569.38215476,  41929.65853551]])"
      ]
     },
     "metadata": {},
     "output_type": "display_data"
    },
    {
     "data": {
      "text/plain": [
       "matrix([[  7794.15975638,   7985.11925432,  17321.57042755,\n",
       "           2081.3409296 ,  20844.69728977,  -9191.54497143],\n",
       "        [  7985.11925432,   8262.85511891,  17826.59021741,\n",
       "           2197.83088873,  21497.11294054,  -9450.01435908],\n",
       "        [ 17321.57042755,  17826.59021741,  41088.75870878,\n",
       "           7480.28148734,  56095.77071961, -16441.20691352],\n",
       "        [  2081.3409296 ,   2197.83088873,   7480.28148734,\n",
       "           4445.72341729,  15844.8668633 ,   4474.63443696],\n",
       "        [ 20844.69728977,  21497.11294054,  56095.77071961,\n",
       "          15844.8668633 , 103284.48042599,  -7653.11303786],\n",
       "        [ -9191.54497143,  -9450.01435907, -16441.20691352,\n",
       "           4474.63443696,  -7653.11303786,  42738.70957787]])"
      ]
     },
     "metadata": {},
     "output_type": "display_data"
    },
    {
     "data": {
      "text/plain": [
       "matrix([[  8878.11200061,   8388.572198  ,  18928.08929125,\n",
       "           1392.11516095,  21990.24989165, -10895.9541057 ],\n",
       "        [  8388.572198  ,   8001.59215112,  17957.14911923,\n",
       "           1374.2932902 ,  20903.0865411 , -10330.04546586],\n",
       "        [ 18928.08929125,  17957.14911923,  43219.44375278,\n",
       "           5910.90546782,  57364.18698908, -19383.76577096],\n",
       "        [  1392.11516095,   1374.2932902 ,   5910.90546782,\n",
       "           3923.21007463,  13734.97940966,   4636.65859041],\n",
       "        [ 21990.24989165,  20903.0865411 ,  57364.18698908,\n",
       "          13734.97940966, 103806.84930051, -10757.07315515],\n",
       "        [-10895.9541057 , -10330.04546585, -19383.76577095,\n",
       "           4636.65859041, -10757.07315515,  43881.63087939]])"
      ]
     },
     "metadata": {},
     "output_type": "display_data"
    },
    {
     "data": {
      "text/plain": [
       "matrix([[ 10028.69714571,   8734.98068566,  20529.99405105,\n",
       "            562.65220592,  23019.63527388, -12735.08089159],\n",
       "        [  8734.98068566,   7678.15960516,  17947.5505797 ,\n",
       "            543.56613094,  20161.32630897, -11128.14450405],\n",
       "        [ 20529.99405105,  17947.5505797 ,  45176.60877227,\n",
       "           4165.793362  ,  58317.93703232, -22419.96886286],\n",
       "        [   562.65220592,    543.56613094,   4165.79336201,\n",
       "           3542.48577505,  11530.45200489,   5051.52727431],\n",
       "        [ 23019.63527388,  20161.32630897,  58317.93703232,\n",
       "          11530.45200489, 103920.93371471, -13838.05673675],\n",
       "        [-12735.08089159, -11128.14450405, -22419.96886286,\n",
       "           5051.52727431, -13838.05673674,  45362.11512517]])"
      ]
     },
     "metadata": {},
     "output_type": "display_data"
    },
    {
     "data": {
      "text/plain": [
       "matrix([[ 11238.96142216,   9014.9851336 ,  22107.81396841,\n",
       "           -409.30191061,  23912.69117098, -14698.55066177],\n",
       "        [  9014.9851336 ,   7296.33310105,  17793.15146369,\n",
       "           -279.34589791,  19279.78940382, -11826.4184882 ],\n",
       "        [ 22107.81396841,  17793.15146369,  46932.45605588,\n",
       "           2261.36520471,  58941.5945178 , -25515.55607881],\n",
       "        [  -409.30191061,   -279.34589791,   2261.36520471,\n",
       "           3324.01802005,   9263.47321358,   5731.53599697],\n",
       "        [ 23912.69117098,  19279.78940381,  58941.5945178 ,\n",
       "           9263.47321358, 103631.48701939, -16851.46718261],\n",
       "        [-14698.55066177, -11826.4184882 , -25515.5560788 ,\n",
       "           5731.53599697, -16851.46718261,  47176.2164188 ]])"
      ]
     },
     "metadata": {},
     "output_type": "display_data"
    },
    {
     "data": {
      "text/plain": [
       "matrix([[ 12501.50325   ,   9220.48521769,  23643.36680734,\n",
       "          -1523.44062337,  24652.55834295, -16773.27192287],\n",
       "        [  9220.48521769,   6861.71634716,  17493.07077096,\n",
       "          -1078.43614363,  18270.69554091, -12407.68675127],\n",
       "        [ 23643.36680734,  17493.07077096,  48465.47585108,\n",
       "            217.99194363,  59228.76855156, -28634.35227183],\n",
       "        [ -1523.44062337,  -1078.43614363,    217.99194363,\n",
       "           3286.4840277 ,   6968.68631499,   6684.45504856],\n",
       "        [ 24652.55834295,  18270.69554091,  59228.76855156,\n",
       "           6968.68631499, 102953.74971833, -19753.82506815],\n",
       "        [-16773.27192287, -12407.68675127, -28634.35227183,\n",
       "           6684.45504856, -19753.82506815,  49312.76328981]])"
      ]
     },
     "metadata": {},
     "output_type": "display_data"
    },
    {
     "data": {
      "text/plain": [
       "matrix([[ 13808.77045685,   9344.70263032,  25120.2152609 ,\n",
       "          -2777.20339264,  25225.96707489, -18944.13614913],\n",
       "        [  9344.70263032,   6381.38066421,  17049.79875105,\n",
       "          -1837.38017225,  17149.68974374, -12856.27997588],\n",
       "        [ 25120.2152609 ,  17049.79875105,  49760.49983383,\n",
       "          -1941.22380977,  59181.3845117 , -31740.025143  ],\n",
       "        [ -2777.20339264,  -1837.38017225,  -1941.22380977,\n",
       "           3446.11625001,   4681.4919648 ,   7913.3261975 ],\n",
       "        [ 25225.96707489,  17149.68974374,  59181.3845117 ,\n",
       "           4681.4919648 , 101911.67971404, -22504.79599791],\n",
       "        [-18944.13614913, -12856.27997588, -31740.025143  ,\n",
       "           7913.3261975 , -22504.79599791,  51754.3197791 ]])"
      ]
     },
     "metadata": {},
     "output_type": "display_data"
    },
    {
     "data": {
      "text/plain": [
       "matrix([[ 15153.2526643 ,   9382.12131082,  26523.84039408,\n",
       "          -4166.15906927,  25623.16990571, -21194.71201049],\n",
       "        [  9382.12131082,   5863.48544089,  16468.62721716,\n",
       "          -2540.09714176,  15934.87988214, -13158.58090726],\n",
       "        [ 26523.84039408,  16468.62721716,  50808.18799194,\n",
       "          -4191.60542848,  58808.39364505, -34797.5025337 ],\n",
       "        [ -4166.15906927,  -2540.09714176,  -4191.60542848,\n",
       "           3816.34685062,   2436.60879101,   9416.64975844],\n",
       "        [ 25623.16990571,  15934.87988214,  58808.39364505,\n",
       "           2436.60879101, 100535.7225099 , -25068.56116201],\n",
       "        [-21194.71201049, -13158.58090726, -34797.5025337 ,\n",
       "           9416.64975844, -25068.56116201,  54478.46568389]])"
      ]
     },
     "metadata": {},
     "output_type": "display_data"
    },
    {
     "data": {
      "text/plain": [
       "matrix([[ 16527.5589894 ,   9328.34649496,  27841.57030254,\n",
       "          -5684.38832184,  25837.60632363, -23507.84102172],\n",
       "        [  9328.34649496,   5316.9316438 ,  15757.01676802,\n",
       "          -3171.15398204,  14645.8952964 , -13303.30649697],\n",
       "        [ 27841.57030254,  15757.01676802,  51604.13838046,\n",
       "          -6507.86200099,  58124.1969154 , -37773.94417839],\n",
       "        [ -5684.38832184,  -3171.15398204,  -6507.86200098,\n",
       "           4407.70767773,    267.01283706,  11188.83644775],\n",
       "        [ 25837.60632363,  14645.8952964 ,  58124.1969154 ,\n",
       "            267.01283705,  98860.50743301, -27414.50484473],\n",
       "        [-23507.84102172, -13303.30649697, -37773.94417838,\n",
       "          11188.83644775, -27414.50484473,  57459.16285424]])"
      ]
     },
     "metadata": {},
     "output_type": "display_data"
    },
    {
     "data": {
      "text/plain": [
       "matrix([[ 17924.39448806,   9179.92990006,  29062.33762057,\n",
       "          -7324.80634069,  25865.41265492, -25866.08306761],\n",
       "        [  9179.92990006,   4751.08278963,  14924.0018717 ,\n",
       "          -3716.01363439,  13303.07624811, -13281.57489945],\n",
       "        [ 29062.33762057,  14924.0018717 ,  52147.8329765 ,\n",
       "          -8864.78085076,  57147.05419371, -40639.26612926],\n",
       "        [ -7324.80634069,  -3716.01363439,  -8864.78085076,\n",
       "           5227.91064955,  -1796.71583247,  13220.78720126],\n",
       "        [ 25865.41265492,  13303.07624811,  57147.05419371,\n",
       "          -1796.71583247,  96922.78216288, -29517.31431639],\n",
       "        [-25866.08306761, -13281.57489945, -40639.26612925,\n",
       "          13220.78720126, -29517.31431639,  60668.01706551]])"
      ]
     },
     "metadata": {},
     "output_type": "display_data"
    },
    {
     "data": {
      "text/plain": [
       "matrix([[ 19336.46455138,   8934.20321749,  30176.35230206,\n",
       "          -9079.39364411,  25704.88876096, -28252.00134581],\n",
       "        [  8934.20321749,   4175.56712829,  13979.70310398,\n",
       "          -4161.15482942,  11926.85442185, -13086.82332803],\n",
       "        [ 30176.35230206,  13979.70310398,  52441.60883176,\n",
       "         -11237.64789893,  55897.68523201, -43366.29213885],\n",
       "        [ -9079.39364411,  -4161.15482942, -11237.64789893,\n",
       "           6282.02571643,  -3726.68569754,  15500.48357369],\n",
       "        [ 25704.88876096,  11926.85442185,  55897.68523201,\n",
       "          -3726.68569754,  94759.78041463, -31356.65777825],\n",
       "        [-28252.00134581, -13086.82332803, -43366.29213884,\n",
       "          15500.48357369, -31356.65777824,  64075.31303423]])"
      ]
     },
     "metadata": {},
     "output_type": "display_data"
    },
    {
     "data": {
      "text/plain": [
       "matrix([[ 20756.34268552,   8589.14970673,  31174.76860656,\n",
       "         -10939.32887374,  25356.01006957, -30648.30754416],\n",
       "        [  8589.14970673,   3600.15677093,  12934.97880765,\n",
       "          -4494.10419964,  10537.33696621, -12714.64544295],\n",
       "        [ 31174.76860656,  12934.97880765,  52489.78907072,\n",
       "         -13602.43853826,  54398.18142676, -45930.64563895],\n",
       "        [-10939.32887374,  -4494.10419964, -13602.43853825,\n",
       "           7572.68476822,  -5497.71654221,  18013.50819758],\n",
       "        [ 25356.01006957,  10537.33696621,  54398.18142676,\n",
       "          -5497.71654221,  92408.09436633, -32916.62421487],\n",
       "        [-30648.30754416, -12714.64544295, -45930.64563895,\n",
       "          18013.50819759, -32916.62421487,  67650.77211387]])"
      ]
     },
     "metadata": {},
     "output_type": "display_data"
    },
    {
     "data": {
      "text/plain": [
       "matrix([[ 22176.33613235,   8143.32940841,  32049.40698442,\n",
       "         -12895.03738459,  24820.04269599, -33037.90603484],\n",
       "        [  8143.32940841,   3034.70768846,  11801.21681237,\n",
       "          -4703.42289874,   9154.07171833, -12162.60583005],\n",
       "        [ 32049.40698442,  11801.21681237,  52298.04786109,\n",
       "         -15935.84726   ,  52671.26750288, -48310.50247246],\n",
       "        [-12895.03738459,  -4703.42289874, -15935.84726   ,\n",
       "           9100.26151453,  -7087.19781977,  20743.454968  ],\n",
       "        [ 24820.04269599,   9154.07171833,  52671.26750288,\n",
       "          -7087.19781977,  89903.02784579, -34185.08884478],\n",
       "        [-33037.90603483, -12162.60583005, -48310.50247245,\n",
       "          20743.454968  , -34185.08884478,  71364.04051685]])"
      ]
     },
     "metadata": {},
     "output_type": "display_data"
    },
    {
     "data": {
      "text/plain": [
       "matrix([[ 23588.37490294,   7595.85940899,  32792.56378884,\n",
       "         -14936.18083147,  24099.28313888, -35403.88032355],\n",
       "        [  7595.85940899,   2489.13876228,  10590.24272351,\n",
       "          -4778.68283831,   7795.94920371, -11430.07084699],\n",
       "        [ 32792.56378884,  10590.24272351,  51873.02054358,\n",
       "         -18215.22907858,  50739.88165803, -50486.30543457],\n",
       "        [-14936.18083147,  -4778.68283831, -18215.22907857,\n",
       "          10863.0017844 ,  -8474.87830108,  23672.22373952],\n",
       "        [ 24099.28313888,   7795.94920371,  50739.88165803,\n",
       "          -8474.87830109,  87278.33543698, -35153.12279339],\n",
       "        [-35403.88032355, -11430.07084699, -50486.30543456,\n",
       "          23672.22373952, -35153.12279339,  75184.95695474]])"
      ]
     },
     "metadata": {},
     "output_type": "display_data"
    },
    {
     "data": {
      "text/plain": [
       "matrix([[ 24983.94684936,   6946.44336226,  33396.93054999,\n",
       "         -17051.61793402,  23196.93063887, -37729.46393448],\n",
       "        [  6946.44336226,   1973.42920542,   9314.31409505,\n",
       "          -4710.45711343,   6481.19555644, -10518.07785104],\n",
       "        [ 33396.93054999,   9314.31409505,  51222.14943352,\n",
       "         -20418.51944876,  48627.02654556, -52440.51957277],\n",
       "        [-17051.61793402,  -4710.45711343, -20418.51944875,\n",
       "          12857.09923539,  -9642.66368679,  26780.21656655],\n",
       "        [ 23196.93063887,   6481.19555644,  48627.02654556,\n",
       "          -9642.66368679,  84566.24900008, -35814.52620905],\n",
       "        [-37729.46393448, -10518.07785104, -52440.51957276,\n",
       "          26780.21656655, -35814.52620905,  79083.66185589]])"
      ]
     },
     "metadata": {},
     "output_type": "display_data"
    },
    {
     "data": {
      "text/plain": [
       "matrix([[ 26354.07059063,   6195.43140052,  33855.5887827 ,\n",
       "         -19229.35861064,  22117.04141229, -39998.01691577],\n",
       "        [  6195.43140052,   1497.61477572,   7986.15432372,\n",
       "          -4490.33544253,   5227.40027394,  -9429.24471156],\n",
       "        [ 33855.5887827 ,   7986.15432371,  50353.66602685,\n",
       "         -22524.17072563,  46355.7578367 , -54157.45029993],\n",
       "        [-19229.35861064,  -4490.33544253, -22524.17072563,\n",
       "          15076.72660737, -10574.45709388,  30046.46805276],\n",
       "        [ 22117.04141229,   5227.40027394,  46355.7578367 ,\n",
       "         -10574.45709388,  81797.62034358, -36165.48696762],\n",
       "        [-39998.01691577,  -9429.24471156, -54157.45029993,\n",
       "          30046.46805276, -36165.48696762,  83030.62583524]])"
      ]
     },
     "metadata": {},
     "output_type": "display_data"
    },
    {
     "data": {
      "text/plain": [
       "matrix([[ 27689.36590886,   5343.91204623,  34162.16400831,\n",
       "         -21456.5544563 ,  20864.64353074, -42193.06578324],\n",
       "        [  5343.91204623,   1071.7754178 ,   6619.02201231,\n",
       "          -4110.97374102,   4051.57227247,  -8167.72642111],\n",
       "        [ 34162.16400831,   6619.02201231,  49276.8179654 ,\n",
       "         -24511.17495137,  43949.40523532, -55623.21745731],\n",
       "        [-21456.5544563 ,  -4110.97374102, -24511.17495136,\n",
       "          17514.0439782 , -11256.11269347,  33448.74219062],\n",
       "        [ 20864.64353074,   4051.57227247,  43949.40523532,\n",
       "         -11256.11269347,  79002.25654941, -36204.45920874],\n",
       "        [-42193.06578324,  -8167.72642111, -55623.21745731,\n",
       "          33448.74219062, -36204.45920874,  86996.63252487]])"
      ]
     },
     "metadata": {},
     "output_type": "display_data"
    },
    {
     "data": {
      "text/plain": [
       "matrix([[ 28979.99609648,   4393.7683739 ,  34310.75235907,\n",
       "         -23719.44315245,  19445.59829249, -44298.25817794],\n",
       "        [  4393.7683739 ,    705.99443397,   5226.70405616,\n",
       "          -3566.14903181,   2970.11062486,  -6739.16475894],\n",
       "        [ 34310.75235907,   5226.70405616,  48001.69778139,\n",
       "         -26359.01009512,  41431.36035641, -56825.57200481],\n",
       "        [-23719.44315245,  -3566.14903181, -26359.01009511,\n",
       "          20159.17762561, -11675.30093159,  36963.6066613 ],\n",
       "        [ 19445.59829249,   2970.11062486,  41431.36035641,\n",
       "         -11675.3009316 ,  76208.78726439, -35931.85229906],\n",
       "        [-44298.25817793,  -6739.16475894, -56825.57200481,\n",
       "          36963.6066613 , -35931.85229906,  90952.80741598]])"
      ]
     },
     "metadata": {},
     "output_type": "display_data"
    },
    {
     "data": {
      "text/plain": [
       "matrix([[ 30216.3257644 ,   3347.85392943,  34296.96220348,\n",
       "         -26003.68601476,  17867.59699432, -46297.90107478],\n",
       "        [  3347.85392943,    410.32141356,   3823.67919086,\n",
       "          -2850.89954307,   1998.94116922,  -5150.76426578],\n",
       "        [ 34296.96220348,   3823.67919086,  46540.75731197,\n",
       "         -28048.25665576,  38826.51511907, -57754.7853338 ],\n",
       "        [-26003.68601475,  -2850.89954306, -28048.25665575,\n",
       "          23000.354361  , -11822.12424108,  40566.67236197],\n",
       "        [ 17867.59699432,   1998.94116922,  38826.51511907,\n",
       "         -11822.12424108,  73446.04903624, -35351.02002627],\n",
       "        [-46297.90107478,  -5150.76426578, -57754.7853338 ,\n",
       "          40566.67236197, -35351.02002626,  94870.68452935]])"
      ]
     },
     "metadata": {},
     "output_type": "display_data"
    },
    {
     "data": {
      "text/plain": [
       "matrix([[ 31386.8427951 ,   2209.75277889,  34114.6926042 ,\n",
       "         -28293.12710318,  16136.79816203, -48175.16350771],\n",
       "        [  2209.75277889,    194.65552848,   2424.64528809,\n",
       "          -1961.42494156,   1153.03538573,  -3410.97786156],\n",
       "        [ 34114.6926042 ,   2424.64528808,  44903.88453971,\n",
       "         -29558.58647636,  36156.39618537, -58400.36394941],\n",
       "        [-28293.12710318,  -1961.42494156, -29558.58647636,\n",
       "          26023.26349556, -11686.80581494,  44231.96465083],\n",
       "        [ 16136.79816203,   1153.03538573,  36156.39618537,\n",
       "         -11686.80581495,  70738.67344418, -34464.24199722],\n",
       "        [-48175.1635077 ,  -3410.97786155, -58400.36394941,\n",
       "          44231.96465083, -34464.24199722,  98721.87350229]])"
      ]
     },
     "metadata": {},
     "output_type": "display_data"
    },
    {
     "data": {
      "text/plain": [
       "matrix([[ 3.24877628e+04,  9.84708844e+02,  3.37704253e+04,\n",
       "         -3.05761606e+04,  1.42720088e+04, -4.99210050e+04],\n",
       "        [ 9.84708844e+02,  6.87459771e+01,  1.04571817e+03,\n",
       "         -8.95798808e+02,  4.47482586e+02, -1.53045446e+03],\n",
       "        [ 3.37704253e+04,  1.04571817e+03,  4.31188555e+04,\n",
       "         -3.08788622e+04,  3.34584774e+04, -5.87660850e+04],\n",
       "        [-3.05761606e+04, -8.95798808e+02, -3.08788622e+04,\n",
       "          2.92148121e+04, -1.12705138e+04,  4.79364393e+04],\n",
       "        [ 1.42720088e+04,  4.47482586e+02,  3.34584774e+04,\n",
       "         -1.12705138e+04,  6.81239074e+04, -3.32902195e+04],\n",
       "        [-4.99210050e+04, -1.53045446e+03, -5.87660850e+04,\n",
       "          4.79364393e+04, -3.32902195e+04,  1.02481608e+05]])"
      ]
     },
     "metadata": {},
     "output_type": "display_data"
    },
    {
     "data": {
      "text/plain": [
       "matrix([[ 3.34813502e+04, -3.22547171e+02,  3.32228091e+04,\n",
       "         -3.28156868e+04,  1.22451828e+04, -5.14931982e+04],\n",
       "        [-3.22547171e+02,  4.19526096e+01, -2.98538859e+02,\n",
       "          3.47689186e+02, -1.04968317e+02,  4.80754184e+02],\n",
       "        [ 3.32228091e+04, -2.98538859e+02,  4.11469915e+04,\n",
       "         -3.19612433e+04,  3.07079595e+04, -5.88029414e+04],\n",
       "        [-3.28156868e+04,  3.47689186e+02, -3.19612433e+04,\n",
       "          3.25431611e+04, -1.05366151e+04,  5.16361737e+04],\n",
       "        [ 1.22451828e+04, -1.04968317e+02,  3.07079595e+04,\n",
       "         -1.05366151e+04,  6.55863295e+04, -3.17869190e+04],\n",
       "        [-5.14931982e+04,  4.80754184e+02, -5.88029414e+04,\n",
       "          5.16361737e+04, -3.17869190e+04,  1.06107098e+05]])"
      ]
     },
     "metadata": {},
     "output_type": "display_data"
    },
    {
     "data": {
      "text/plain": [
       "matrix([[ 34486.27243892,  -1705.60293193,  32650.38381241,\n",
       "         -35097.34119106,  10240.94548029, -53012.47236451],\n",
       "        [ -1705.60293192,    123.27055552,  -1593.56074027,\n",
       "           1768.10460252,   -494.69675846,   2608.40518544],\n",
       "        [ 32650.38381241,  -1593.56074027,  39243.70777954,\n",
       "         -32940.32630863,  28143.769302  , -58718.73497631],\n",
       "        [-35097.34119106,   1768.10460253, -32940.32630863,\n",
       "          36066.1693376 ,  -9639.07933105,  55396.00615984],\n",
       "        [ 10240.94548029,   -494.69675846,  28143.769302  ,\n",
       "          -9639.07933105,  63316.38799287, -30202.33039079],\n",
       "        [-53012.47236451,   2608.40518544, -58718.73497631,\n",
       "          55396.00615984, -30202.33039079, 109663.19110727]])"
      ]
     },
     "metadata": {},
     "output_type": "display_data"
    },
    {
     "data": {
      "text/plain": [
       "matrix([[ 34838.35199823,  -3126.0041553 ,  31186.24822153,\n",
       "         -36835.23006051,   7471.30666168, -53725.28607135],\n",
       "        [ -3126.0041553 ,    319.61115286,  -2778.15007531,\n",
       "           3338.35381269,   -661.63979243,   4810.37709655],\n",
       "        [ 31186.24822153,  -2778.15007531,  36326.10797245,\n",
       "         -33018.74097537,  24850.82037973, -57435.77855422],\n",
       "        [-36835.23006051,   3338.35381269, -33018.74097536,\n",
       "          39286.2806043 ,  -7808.71324234,  58603.7220532 ],\n",
       "        [  7471.30666168,   -661.63979243,  24850.82037973,\n",
       "          -7808.71324235,  60657.86510319, -27403.33914965],\n",
       "        [-53725.28607135,   4810.37709655, -57435.77855422,\n",
       "          58603.7220532 , -27403.33914965, 112485.82004144]])"
      ]
     },
     "metadata": {},
     "output_type": "display_data"
    },
    {
     "data": {
      "text/plain": [
       "matrix([[ 36715.9222355 ,  -4715.33688234,  32016.52995714,\n",
       "         -39835.38381037,   7395.13878192, -55669.08988421],\n",
       "        [ -4715.33688234,    644.99316636,  -4087.8705835 ,\n",
       "           5149.82004285,   -933.77294855,   7135.89004621],\n",
       "        [ 32016.52995713,  -4087.8705835 ,  36604.81335673,\n",
       "         -35075.20057708,  24784.13166684, -58648.02703738],\n",
       "        [-39835.38381037,   5149.82004285, -35075.20057708,\n",
       "          43575.30950979,  -8504.76506623,  62549.41027976],\n",
       "        [  7395.13878192,   -933.77294855,  24784.13166684,\n",
       "          -8504.76506623,  60402.78360202, -28388.54020673],\n",
       "        [-55669.0898842 ,   7135.89004622, -58648.02703738,\n",
       "          62549.41027976, -28388.54020672, 115234.84935304]])"
      ]
     },
     "metadata": {},
     "output_type": "display_data"
    },
    {
     "data": {
      "text/plain": [
       "matrix([[ 18763.85460388,  -3302.38260738,  12057.79912851,\n",
       "         -21691.10432217,  -5301.82240146, -28765.50656318],\n",
       "        [ -3302.38260737,    621.31520682,  -2114.82552965,\n",
       "           3855.33505059,    914.7028931 ,   5079.48528573],\n",
       "        [ 12057.79912851,  -2114.82552965,  15261.92987924,\n",
       "         -14722.58797437,  11869.8821138 , -28904.13029634],\n",
       "        [-21691.10432217,   3855.3350506 , -14722.58797437,\n",
       "          25510.18680725,   4815.31513871,  36137.24463998],\n",
       "        [ -5301.82240146,    914.7028931 ,  11869.8821138 ,\n",
       "           4815.31513871,  53132.27217347,  -9068.55127288],\n",
       "        [-28765.50656318,   5079.48528573, -28904.13029633,\n",
       "          36137.24463998,  -9068.55127287,  77588.01713379]])"
      ]
     },
     "metadata": {},
     "output_type": "display_data"
    },
    {
     "data": {
      "text/plain": [
       "matrix([[  6968.58103599,  -1391.35322623,   3515.03123055,\n",
       "          -7438.103646  ,  -2877.32739976,  -5880.69408408],\n",
       "        [ -1391.35322623,    318.29380933,   -641.83359405,\n",
       "           1517.64253171,    663.01184001,   1121.38791042],\n",
       "        [  3515.03123056,   -641.83359405,   9830.37495179,\n",
       "          -4328.18990765,  15202.43958329, -11630.8102134 ],\n",
       "        [ -7438.103646  ,   1517.64253171,  -4328.18990764,\n",
       "           8328.23565197,   2214.54652307,   8659.87050605],\n",
       "        [ -2877.32739975,    663.01184001,  15202.4395833 ,\n",
       "           2214.54652307,  56533.908766  , -11634.93319227],\n",
       "        [ -5880.69408408,   1121.38791043, -11630.8102134 ,\n",
       "           8659.87050606, -11634.93319227,  33008.80070774]])"
      ]
     },
     "metadata": {},
     "output_type": "display_data"
    },
    {
     "data": {
      "text/plain": [
       "matrix([[ 5688.54622599, -1420.1367536 ,  1390.67367824, -6377.60602479,\n",
       "         -5339.22124016, -4975.26075204],\n",
       "        [-1420.1367536 ,   395.92328032,  -314.5479301 ,  1629.20158072,\n",
       "          1360.8957402 ,  1227.54652951],\n",
       "        [ 1390.67367824,  -314.5479301 ,  6428.83169448, -2506.58373086,\n",
       "         10612.84880397, -9969.81593171],\n",
       "        [-6377.60602479,  1629.20158072, -2506.58373085,  7664.76915243,\n",
       "          4490.38928423,  8775.44704457],\n",
       "        [-5339.22124015,  1360.89574019, 10612.84880398,  4490.38928422,\n",
       "         49518.23896775, -8934.28867958],\n",
       "        [-4975.26075204,  1227.54652951, -9969.8159317 ,  8775.44704457,\n",
       "         -8934.28867957, 35798.22856034]])"
      ]
     },
     "metadata": {},
     "output_type": "display_data"
    },
    {
     "data": {
      "text/plain": [
       "matrix([[  5739.97320134,  -1661.57337452,   1571.20273875,\n",
       "          -6546.75067143,  -4480.68574172,  -5058.24337002],\n",
       "        [ -1661.57337451,    523.17764832,   -417.86680628,\n",
       "           1931.93566996,   1330.12463022,   1441.77779739],\n",
       "        [  1571.20273876,   -417.86680629,   7065.09057717,\n",
       "          -3042.95818573,  11699.85722298, -11149.592867  ],\n",
       "        [ -6546.75067142,   1931.93566996,  -3042.95818572,\n",
       "           8073.99937463,   3080.5444887 ,   9439.45135327],\n",
       "        [ -4480.68574171,   1330.12463022,  11699.85722298,\n",
       "           3080.54448868,  50146.28639889, -11722.55256101],\n",
       "        [ -5058.24337002,   1441.77779739, -11149.59286699,\n",
       "           9439.45135327, -11722.552561  ,  37492.38857603]])"
      ]
     },
     "metadata": {},
     "output_type": "display_data"
    },
    {
     "data": {
      "text/plain": [
       "matrix([[  5868.15730514,  -1950.48017816,   1674.57642322,\n",
       "          -6892.91215747,  -4041.61563474,  -5538.63545298],\n",
       "        [ -1950.48017816,    691.53369699,   -522.11217371,\n",
       "           2329.58709343,   1368.44795806,   1823.50947914],\n",
       "        [  1674.57642323,   -522.11217371,   7322.11626018,\n",
       "          -3563.06332201,  11895.65672779, -12345.94652651],\n",
       "        [ -6892.91215747,   2329.58709343,  -3563.063322  ,\n",
       "           8850.01016451,   2162.21504068,  10867.10797426],\n",
       "        [ -4041.61563473,   1368.44795806,  11895.65672779,\n",
       "           2162.21504066,  49347.24565278, -13556.04761055],\n",
       "        [ -5538.63545298,   1823.50947914, -12345.94652651,\n",
       "          10867.10797427, -13556.04761053,  40789.2433783 ]])"
      ]
     },
     "metadata": {},
     "output_type": "display_data"
    },
    {
     "data": {
      "text/plain": [
       "matrix([[  6007.7014469 ,  -2257.55305511,   1819.24286306,\n",
       "          -7279.37659837,  -3567.15668889,  -6058.42840227],\n",
       "        [ -2257.5530551 ,    892.74640284,   -650.42541268,\n",
       "           2775.64899693,   1360.34773989,   2262.98828806],\n",
       "        [  1819.24286306,   -650.42541269,   7631.68050207,\n",
       "          -4155.51421437,  12108.68068529, -13562.75495526],\n",
       "        [ -7279.37659837,   2775.64899694,  -4155.51421436,\n",
       "           9750.3897375 ,   1201.42840933,  12447.47671615],\n",
       "        [ -3567.15668888,   1360.34773989,  12108.6806853 ,\n",
       "           1201.42840932,  48558.92716835, -15293.89276293],\n",
       "        [ -6058.42840227,   2262.98828806, -13562.75495525,\n",
       "          12447.47671615, -15293.89276292,  44157.76725315]])"
      ]
     },
     "metadata": {},
     "output_type": "display_data"
    },
    {
     "data": {
      "text/plain": [
       "matrix([[  6155.4497541 ,  -2587.17589344,   1949.15713597,\n",
       "          -7715.53637588,  -3199.47361014,  -6655.98625194],\n",
       "        [ -2587.17589344,   1133.18735001,   -787.27162761,\n",
       "           3285.26718777,   1360.09916808,   2788.72598732],\n",
       "        [  1949.15713597,   -787.27162761,   7876.74097268,\n",
       "          -4752.75911238,  12146.43631544, -14724.48152365],\n",
       "        [ -7715.53637587,   3285.26718777,  -4752.75911237,\n",
       "          10811.81419421,    396.01655732,  14261.14463384],\n",
       "        [ -3199.47361013,   1360.09916807,  12146.43631544,\n",
       "            396.01655731,  47556.85367691, -16668.16145792],\n",
       "        [ -6655.98625194,   2788.72598732, -14724.48152364,\n",
       "          14261.14463384, -16668.16145791,  47779.58799963]])"
      ]
     },
     "metadata": {},
     "output_type": "display_data"
    },
    {
     "data": {
      "text/plain": [
       "matrix([[  6305.10470917,  -2938.73999551,   2054.33589928,\n",
       "          -8193.51773273,  -2946.91670685,  -7311.33168413],\n",
       "        [ -2938.7399955 ,   1417.06259845,   -926.35991615,\n",
       "           3863.74401528,   1385.53436304,   3403.98382048],\n",
       "        [  2054.33589928,   -926.35991615,   8054.88575746,\n",
       "          -5334.74161854,  12031.80321772, -15803.34600137],\n",
       "        [ -8193.51773272,   3863.74401528,  -5334.74161853,\n",
       "          12030.89909434,   -225.37180066,  16281.62018834],\n",
       "        [ -2946.91670685,   1385.53436303,  12031.80321772,\n",
       "           -225.37180067,  46416.64166699, -17670.02345443],\n",
       "        [ -7311.33168412,   3403.98382048, -15803.34600136,\n",
       "          16281.62018835, -17670.02345442,  51584.06568341]])"
      ]
     },
     "metadata": {},
     "output_type": "display_data"
    },
    {
     "data": {
      "text/plain": [
       "matrix([[  6446.83415809,  -3309.69078991,   2115.69109637,\n",
       "          -8700.18954596,  -2834.3405262 ,  -8001.29048441],\n",
       "        [ -3309.69078991,   1748.27508908,  -1055.44987563,\n",
       "           4514.15755066,   1464.90893601,   4109.37716195],\n",
       "        [  2115.69109638,  -1055.44987564,   8142.95886213,\n",
       "          -5865.4033003 ,  11751.65787576, -16750.18225236],\n",
       "        [ -8700.18954595,   4514.15755066,  -5865.40330029,\n",
       "          13397.33461152,   -603.60361243,  18480.55749738],\n",
       "        [ -2834.34052619,   1464.908936  ,  11751.65787576,\n",
       "           -603.60361244,  45155.2588394 , -18235.20101066],\n",
       "        [ -8001.2904844 ,   4109.37716195, -16750.18225235,\n",
       "          18480.55749738, -18235.20101065,  55523.27558025]])"
      ]
     },
     "metadata": {},
     "output_type": "display_data"
    },
    {
     "data": {
      "text/plain": [
       "matrix([[  6571.07772799,  -3695.76930247,   2121.88358313,\n",
       "          -9219.80892561,  -2864.56248055,  -8696.28694353],\n",
       "        [ -3695.76930246,   2129.78835002,  -1162.68491975,\n",
       "           5236.26385559,   1619.85485072,   4898.30290438],\n",
       "        [  2121.88358313,  -1162.68491976,   8133.59869919,\n",
       "          -6315.62991278,  11321.0136956 , -17524.79022555],\n",
       "        [ -9219.80892561,   5236.26385559,  -6315.62991276,\n",
       "          14892.78473404,   -707.47376185,  20813.62301699],\n",
       "        [ -2864.56248054,   1619.85485071,  11321.0136956 ,\n",
       "           -707.47376186,  43822.49550029, -18338.41034058],\n",
       "        [ -8696.28694352,   4898.30290439, -17524.79022554,\n",
       "          20813.623017  , -18338.41034057,  59521.27081809]])"
      ]
     },
     "metadata": {},
     "output_type": "display_data"
    },
    {
     "data": {
      "text/plain": [
       "matrix([[  6669.37134025,  -4091.72669795,   2065.28423574,\n",
       "          -9736.13286896,  -3031.835761  ,  -9366.61700588],\n",
       "        [ -4091.72669794,   2563.81635244,  -1235.86119263,\n",
       "           6027.4783342 ,   1868.78966348,   5759.52368804],\n",
       "        [  2065.28423575,  -1235.86119264,   8025.77572096,\n",
       "          -6658.90849758,  10763.92180124, -18092.06549758],\n",
       "        [ -9736.13286895,   6027.4783342 ,  -6658.90849757,\n",
       "          16494.59080804,   -516.82678225,  23230.37801338],\n",
       "        [ -3031.83576099,   1868.78966347,  10763.92180124,\n",
       "           -516.82678227,  42474.17197246, -17969.08594098],\n",
       "        [ -9366.61700588,   5759.52368804, -18092.06549757,\n",
       "          23230.37801338, -17969.08594097,  63495.71943261]])"
      ]
     },
     "metadata": {},
     "output_type": "display_data"
    },
    {
     "data": {
      "text/plain": [
       "matrix([[ 6.73607087e+03, -4.49246152e+03,  1.94427422e+03,\n",
       "         -1.02356340e+04, -3.31974749e+03, -9.98729866e+03],\n",
       "        [-4.49246152e+03,  3.05228664e+03, -1.26449615e+03,\n",
       "          6.88454781e+03,  2.22373308e+03,  6.67967380e+03],\n",
       "        [ 1.94427422e+03, -1.26449615e+03,  7.82794806e+03,\n",
       "         -6.87657450e+03,  1.01160909e+04, -1.84302045e+04],\n",
       "        [-1.02356340e+04,  6.88454781e+03, -6.87657450e+03,\n",
       "          1.81810146e+04, -2.96029879e+01,  2.56817804e+04],\n",
       "        [-3.31974749e+03,  2.22373308e+03,  1.01160909e+04,\n",
       "         -2.96029879e+01,  4.11727610e+04, -1.71436732e+04],\n",
       "        [-9.98729866e+03,  6.67967380e+03, -1.84302045e+04,\n",
       "          2.56817804e+04, -1.71436732e+04,  6.73670084e+04]])"
      ]
     },
     "metadata": {},
     "output_type": "display_data"
    },
    {
     "data": {
      "text/plain": [
       "matrix([[  6767.93694929,  -4893.3560947 ,   1761.01489776,\n",
       "         -10707.72370581,  -3707.47675324, -10539.46132691],\n",
       "        [ -4893.35609469,   3597.16090335,  -1239.56920763,\n",
       "           7804.33340009,   2692.18890674,   7645.12317914],\n",
       "        [  1761.01489776,  -1239.56920764,   7553.91424667,\n",
       "          -6955.74196158,   9416.74098927, -18528.42193936],\n",
       "        [-10707.7237058 ,   7804.33340009,  -6955.74196156,\n",
       "          19932.6925386 ,    745.87851769,  28124.10852888],\n",
       "        [ -3707.47675323,   2692.18890673,   9416.74098928,\n",
       "            745.87851767,  39976.45576923, -15894.5991359 ],\n",
       "        [-10539.46132691,   7645.12317914, -18528.42193935,\n",
       "          28124.10852888, -15894.59913589,  71066.30943151]])"
      ]
     },
     "metadata": {},
     "output_type": "display_data"
    },
    {
     "data": {
      "text/plain": [
       "matrix([[  6763.86728543,  -5290.55790048,   1520.74512103,\n",
       "         -11145.05995365,  -4171.84800731, -11010.99610258],\n",
       "        [ -5290.55790047,   4200.77955773,  -1153.79214953,\n",
       "           8784.63763004,   3277.51832894,   8643.58793161],\n",
       "        [  1520.74512104,  -1153.79214955,   7221.57026438,\n",
       "          -6889.39464077,   8705.96478453, -18387.06581504],\n",
       "        [-11145.05995364,   8784.63763004,  -6889.39464075,\n",
       "          21734.36274775,   1792.67164459,  30522.05934712],\n",
       "        [ -4171.8480073 ,   3277.51832893,   8705.96478454,\n",
       "           1792.67164458,  38935.84278999, -14267.702535  ],\n",
       "        [-11010.99610257,   8643.58793162, -18387.06581503,\n",
       "          30522.05934712, -14267.70253499,  74540.4034329 ]])"
      ]
     },
     "metadata": {},
     "output_type": "display_data"
    },
    {
     "data": {
      "text/plain": [
       "matrix([[  6723.80170002,  -5680.59613916,   1229.85693339,\n",
       "         -11542.11176749,  -4690.87878805, -11394.68525267],\n",
       "        [ -5680.59613915,   4865.81105365,  -1000.75318562,\n",
       "           9823.85902194,   3981.09980366,   9664.13196909],\n",
       "        [  1229.85693339,  -1000.75318563,   6850.21632758,\n",
       "          -6673.6780807 ,   8021.00680507, -18013.49044114],\n",
       "        [-11542.11176748,   9823.85902194,  -6673.67808068,\n",
       "          23573.32489816,   3091.04575521,  32847.31985785],\n",
       "        [ -4690.87878804,   3981.09980366,   8021.00680508,\n",
       "           3091.04575519,  38091.43037436, -12313.12031135],\n",
       "        [-11394.68525267,   9664.1319691 , -18013.49044113,\n",
       "          32847.31985785, -12313.12031133,  77750.51259422]])"
      ]
     },
     "metadata": {},
     "output_type": "display_data"
    },
    {
     "data": {
      "text/plain": [
       "matrix([[  6648.26629629,  -6060.18338976,    895.39310767,\n",
       "         -11894.57450866,  -5244.33154146, -11687.13053453],\n",
       "        [ -6060.18338975,   5595.22938311,   -774.70255347,\n",
       "          10920.90048182,   4802.95677302,  10697.2740752 ],\n",
       "        [   895.39310767,   -774.70255348,   6459.88644907,\n",
       "          -6307.325067  ,   7395.77252371, -17420.67193141],\n",
       "        [-11894.57450865,  10920.90048182,  -6307.32506698,\n",
       "          25439.12007323,   4619.6298008 ,  35078.1568877 ],\n",
       "        [ -5244.33154145,   4802.95677302,   7395.77252372,\n",
       "           4619.62980079,  37474.54949184, -10082.98395446],\n",
       "        [-11687.13053453,  10697.2740752 , -17420.6719314 ,\n",
       "          35078.15688771, -10082.98395445,  80671.43505955]])"
      ]
     },
     "metadata": {},
     "output_type": "display_data"
    },
    {
     "data": {
      "text/plain": [
       "matrix([[  6537.66398617,  -6425.66010076,    524.10793322,\n",
       "         -12197.94977642,  -5814.85084619, -11886.55505389],\n",
       "        [ -6425.66010075,   6391.92799807,   -469.76906636,\n",
       "          12074.17588595,   5743.18958108,  11733.83622576],\n",
       "        [   524.10793323,   -469.76906637,   6070.21373952,\n",
       "          -5789.73129406,   6860.11310527, -16623.91796287],\n",
       "        [-12197.9497764 ,  12074.17588596,  -5789.73129404,\n",
       "          27321.00503463,   6358.43035914,  37195.97554667],\n",
       "        [ -5814.85084618,   5743.18958108,   6860.11310528,\n",
       "           6358.43035913,  37108.94066063,  -7626.38722025],\n",
       "        [-11886.55505388,  11733.83622576, -16623.91796286,\n",
       "          37195.97554668,  -7626.38722024,  83286.59539004]])"
      ]
     },
     "metadata": {},
     "output_type": "display_data"
    },
    {
     "data": {
      "text/plain": [
       "matrix([[ 6.39236569e+03, -6.77294026e+03,  1.22793075e+02,\n",
       "         -1.24476030e+04, -6.38699795e+03, -1.19925151e+04],\n",
       "        [-6.77294026e+03,  7.25860668e+03, -8.01006903e+01,\n",
       "          1.32815183e+04,  6.80169902e+03,  1.27648853e+04],\n",
       "        [ 1.22793075e+02, -8.01006904e+01,  5.70066368e+03,\n",
       "         -5.12141989e+03,  6.44060805e+03, -1.56408704e+04],\n",
       "        [-1.24476030e+04,  1.32815183e+04, -5.12141989e+03,\n",
       "          2.92081442e+04,  8.28773266e+03,  3.91852786e+04],\n",
       "        [-6.38699795e+03,  6.80169902e+03,  6.44060805e+03,\n",
       "          8.28773266e+03,  3.70123336e+04, -4.99038574e+03],\n",
       "        [-1.19925151e+04,  1.27648853e+04, -1.56408704e+04,\n",
       "          3.91852786e+04, -4.99038574e+03,  8.55872195e+04]])"
      ]
     },
     "metadata": {},
     "output_type": "display_data"
    },
    {
     "data": {
      "text/plain": [
       "matrix([[  6212.367886  ,  -7097.02798272,   -302.12630539,\n",
       "         -12637.69749172,  -6947.54439169, -12004.22706847],\n",
       "        [ -7097.02798271,   8197.1916156 ,    400.69391849,\n",
       "          14538.91868653,   7979.05227933,  13780.15272176],\n",
       "        [  -302.12630538,    400.69391847,   5370.05424964,\n",
       "          -4302.73707618,   6160.70863817, -14489.19493301],\n",
       "        [-12637.69749171,  14538.91868653,  -4302.73707616,\n",
       "          31086.82795261,  10389.80947218,  41029.78215073],\n",
       "        [ -6947.54439168,   7979.05227932,   6160.70863818,\n",
       "          10389.80947217,  37198.51756526,  -2217.15546487],\n",
       "        [-12004.22706846,  13780.15272176, -14489.194933  ,\n",
       "          41029.78215073,  -2217.15546486,  87566.62254176]])"
      ]
     },
     "metadata": {},
     "output_type": "display_data"
    },
    {
     "data": {
      "text/plain": [
       "matrix([[  5997.91500126,  -7392.42873591,   -743.68121929,\n",
       "         -12762.41243301,  -7483.80908859, -11921.90073004],\n",
       "        [ -7392.4287359 ,   9209.01335321,    978.74668629,\n",
       "          15841.31914818,   9275.1331259 ,  14769.1206048 ],\n",
       "        [  -743.68121928,    978.74668627,   5097.12251104,\n",
       "          -3335.63188782,   6041.40637479, -13188.44847353],\n",
       "        [-12762.41243299,  15841.31914819,  -3335.6318878 ,\n",
       "          32942.97655083,  12645.98459258,  42715.40545911],\n",
       "        [ -7483.80908858,   9275.13312589,   6041.4063748 ,\n",
       "          12645.98459257,  37677.06705313,    652.33686802],\n",
       "        [-11921.90073003,  14769.1206048 , -13188.44847352,\n",
       "          42715.40545911,    652.33686803,  89223.3785919 ]])"
      ]
     },
     "metadata": {},
     "output_type": "display_data"
    },
    {
     "data": {
      "text/plain": [
       "matrix([[  5748.99451667,  -7652.44081081,  -1194.99940475,\n",
       "         -12814.31355395,  -7984.470986  , -11744.46563322],\n",
       "        [ -7652.44081079,  10293.78733015,   1660.73607392,\n",
       "          17180.40203672,  10690.40883932,  15718.25208633],\n",
       "        [ -1194.99940474,   1660.73607391,   4900.00332953,\n",
       "          -2221.72143978,   6101.48203178, -11757.16022308],\n",
       "        [-12814.31355394,  17180.40203672,  -2221.72143975,\n",
       "          34757.18518271,  15039.29832397,  44223.69570739],\n",
       "        [ -7984.47098599,  10690.40883932,   6101.48203179,\n",
       "          15039.29832396,  38456.21441359,   3582.09741473],\n",
       "        [-11744.46563322,  15718.25208634, -11757.16022307,\n",
       "          44223.6957074 ,   3582.09741474,  90552.33619874]])"
      ]
     },
     "metadata": {},
     "output_type": "display_data"
    },
    {
     "data": {
      "text/plain": [
       "matrix([[  5466.69311836,  -7870.57792645,  -1647.73849846,\n",
       "         -12787.81845434,  -8437.16611231, -11473.831506  ],\n",
       "        [ -7870.57792644,  11450.94086701,   2451.93375943,\n",
       "          18548.1689452 ,  12222.89037331,  16615.67427001],\n",
       "        [ -1647.73849845,   2451.93375941,   4796.80457418,\n",
       "           -966.18887975,   6357.14680887, -10217.43642414],\n",
       "        [-12787.81845432,  18548.1689452 ,   -966.18887973,\n",
       "          36513.55811796,  17548.96007628,  45542.93037941],\n",
       "        [ -8437.1661123 ,  12222.8903733 ,   6357.14680888,\n",
       "          17548.96007627,  39538.31269589,   6534.1579042 ],\n",
       "        [-11473.83150599,  16615.67427001, -10217.43642413,\n",
       "          45542.93037942,   6534.15790421,  91558.23785609]])"
      ]
     },
     "metadata": {},
     "output_type": "display_data"
    },
    {
     "data": {
      "text/plain": [
       "matrix([[  5151.56079889,  -8038.44907904,  -2093.90373832,\n",
       "         -12674.26208824,  -8831.09791495, -11108.507644  ],\n",
       "        [ -8038.44907902,  12676.65005004,   3358.53144746,\n",
       "          19930.25851954,  13871.79354081,  17442.76708436],\n",
       "        [ -2093.90373831,   3358.53144744,   4804.95538041,\n",
       "            427.19944604,   6823.47549613,  -8588.4909123 ],\n",
       "        [-12674.26208822,  19930.25851954,    427.19944606,\n",
       "          38184.61922093,  20157.11100569,  46648.87331522],\n",
       "        [ -8831.09791494,  13871.79354081,   6823.47549614,\n",
       "          20157.11100568,  40928.56015557,   9476.9425949 ],\n",
       "        [-11108.50764399,  17442.76708436,  -8588.49091229,\n",
       "          46648.87331522,   9476.9425949 ,  92231.04241524]])"
      ]
     },
     "metadata": {},
     "output_type": "display_data"
    },
    {
     "data": {
      "text/plain": [
       "matrix([[  4807.16173478,  -8150.60738599,  -2522.610068  ,\n",
       "         -12472.72212523,  -9152.51200672, -10656.97860197],\n",
       "        [ -8150.60738597,  13970.16554026,   4382.57317381,\n",
       "          21320.67894766,  15629.97767575,  18192.80662841],\n",
       "        [ -2522.61006799,   4382.57317379,   4941.09044297,\n",
       "           1946.75098794,   7510.00269599,  -6897.5840098 ],\n",
       "        [-12472.72212521,  21320.67894766,   1946.75098796,\n",
       "          39764.11063015,  22836.93990225,  47545.54270519],\n",
       "        [ -9152.5120067 ,  15629.97767575,   7510.002696  ,\n",
       "          22836.93990225,  42615.96513682,  12371.65711472],\n",
       "        [-10656.97860196,  18192.80662841,  -6897.5840098 ,\n",
       "          47545.54270519,  12371.65711473,  92596.20406663]])"
      ]
     },
     "metadata": {},
     "output_type": "display_data"
    },
    {
     "data": {
      "text/plain": [
       "matrix([[  4433.32917045,  -8194.49382885,  -2925.67072469,\n",
       "         -12168.02117478,  -9392.30187772, -10110.39074155],\n",
       "        [ -8194.49382883,  15318.44988963,   5530.86717356,\n",
       "          22688.03578134,  17497.33536133,  18828.93754882],\n",
       "        [ -2925.67072468,   5530.86717354,   5222.30403385,\n",
       "           3589.08185287,   8431.83985615,  -5161.1795268 ],\n",
       "        [-12168.02117475,  22688.03578134,   3589.08185289,\n",
       "          41194.54105674,  25572.19480048,  48175.76839293],\n",
       "        [ -9392.30187771,  17497.33536133,   8431.83985616,\n",
       "          25572.19480048,  44616.01413652,  15192.61463396],\n",
       "        [-10110.39074154,  18828.93754882,  -5161.17952679,\n",
       "          48175.76839294,  15192.61463396,  92604.70588275]])"
      ]
     },
     "metadata": {},
     "output_type": "display_data"
    },
    {
     "data": {
      "text/plain": [
       "matrix([[  4041.31989954,  -8175.45329905,  -3287.64681015,\n",
       "         -11783.28826691,  -9533.20199257,  -9506.43905334],\n",
       "        [ -8175.45329903,  16737.00676941,   6796.15144182,\n",
       "          24063.27451207,  19453.4497337 ,  19392.27696419],\n",
       "        [ -3287.64681014,   6796.15144181,   5659.09073791,\n",
       "           5328.41407833,   9578.79117647,  -3417.90666202],\n",
       "        [-11783.28826689,  24063.27451207,   5328.41407835,\n",
       "          42549.45923202,  28324.38465415,  48642.35449717],\n",
       "        [ -9533.20199256,  19453.4497337 ,   9578.79117648,\n",
       "          28324.38465415,  46865.75967392,  17898.83450388],\n",
       "        [ -9506.43905333,  19392.27696419,  -3417.90666201,\n",
       "          48642.35449717,  17898.83450388,  92399.48451261]])"
      ]
     },
     "metadata": {},
     "output_type": "display_data"
    },
    {
     "data": {
      "text/plain": [
       "matrix([[  3618.39731818,  -8052.94790866,  -3604.05791348,\n",
       "         -11249.63491178,  -9571.52759822,  -8772.61526551],\n",
       "        [ -8052.94790864,  18154.41333377,   8194.85958253,\n",
       "          25300.06665194,  21511.40626234,  19710.66512625],\n",
       "        [ -3604.05791347,   8194.85958251,   6278.29397561,\n",
       "           7172.11759202,  10999.10809379,  -1674.48636916],\n",
       "        [-11249.63491176,  25300.06665194,   7172.11759203,\n",
       "          43551.35205204,  31080.39533681,  48631.27875684],\n",
       "        [ -9571.52759821,  21511.40626234,  10999.1080938 ,\n",
       "          31080.39533681,  49491.59968341,  20455.69519214],\n",
       "        [ -8772.6152655 ,  19710.66512625,  -1674.48636915,\n",
       "          48631.27875684,  20455.69519214,  91631.32111432]])"
      ]
     },
     "metadata": {},
     "output_type": "display_data"
    },
    {
     "data": {
      "text/plain": [
       "matrix([[ 3.21454056e+03, -7.91298300e+03, -3.85083095e+03,\n",
       "         -1.07480169e+04, -9.48447810e+03, -8.13179684e+03],\n",
       "        [-7.91298300e+03,  1.97543844e+04,  9.69013401e+03,\n",
       "          2.67668608e+04,  2.36074632e+04,  2.02315225e+04],\n",
       "        [-3.85083095e+03,  9.69013401e+03,  7.04751188e+03,\n",
       "          9.07044338e+03,  1.25590264e+04,  2.89408379e+01],\n",
       "        [-1.07480169e+04,  2.67668608e+04,  9.07044338e+03,\n",
       "          4.49245347e+04,  3.38110031e+04,  4.90079052e+04],\n",
       "        [-9.48447810e+03,  2.36074632e+04,  1.25590264e+04,\n",
       "          3.38110031e+04,  5.20763213e+04,  2.29016485e+04],\n",
       "        [-8.13179684e+03,  2.02315225e+04,  2.89408379e+01,\n",
       "          4.90079052e+04,  2.29016485e+04,  9.13198294e+04]])"
      ]
     },
     "metadata": {},
     "output_type": "display_data"
    },
    {
     "data": {
      "text/plain": [
       "matrix([[ 2709.03404922, -7448.34041412, -4009.80003807, -9721.06512841,\n",
       "         -9220.53688237, -6956.15945215],\n",
       "        [-7448.34041409, 20813.78559177, 11286.43692674, 27102.90743368,\n",
       "         25692.85535267, 19386.56073146],\n",
       "        [-4009.80003805, 11286.43692672,  8091.67956661, 10932.53861778,\n",
       "         14597.02909166,  1514.83325884],\n",
       "        [-9721.06512838, 27102.90743368, 10932.5386178 , 44187.62291569,\n",
       "         36168.50411932, 46969.12442097],\n",
       "        [-9220.53688235, 25692.85535267, 14597.02909167, 36168.50411931,\n",
       "         55621.18059196, 24646.72529484],\n",
       "        [-6956.15945214, 19386.56073146,  1514.83325885, 46969.12442097,\n",
       "         24646.72529484, 88338.52310825]])"
      ]
     },
     "metadata": {},
     "output_type": "display_data"
    },
    {
     "data": {
      "text/plain": [
       "matrix([[ 2365.20327104, -7271.23889951, -4001.88361041, -9403.14728504,\n",
       "         -8597.9974559 , -6752.92721622],\n",
       "        [-7271.23889948, 22763.28940753, 12628.11131734, 29348.87315935,\n",
       "         26834.12979201, 21034.95052117],\n",
       "        [-4001.88361039, 12628.11131733,  8819.61591745, 12588.83121778,\n",
       "         15454.7519688 ,  3015.80906444],\n",
       "        [-9403.14728501, 29348.87315935, 12588.83121779, 47288.11344957,\n",
       "         37768.22979979, 49666.45481795],\n",
       "        [-8597.99745589, 26834.12979202, 15454.75196882, 37768.22979981,\n",
       "         55449.08399117, 26399.9902913 ],\n",
       "        [-6752.92721622, 21034.95052116,  3015.80906444, 49666.45481794,\n",
       "         26399.99029128, 90954.79379782]])"
      ]
     },
     "metadata": {},
     "output_type": "display_data"
    },
    {
     "data": {
      "text/plain": [
       "matrix([[ 1136.5075503 , -4023.51748321, -2822.03863622, -4316.68519385,\n",
       "         -5525.05798553, -1843.6280622 ],\n",
       "        [-4023.51748318, 14785.77256247, 10457.77182588, 15848.14165074,\n",
       "         20251.2581599 ,  6861.06032155],\n",
       "        [-2822.03863621, 10457.77182585,  8625.27384407,  8492.54357781,\n",
       "         14561.13628586, -1398.12721946],\n",
       "        [-4316.68519383, 15848.14165075,  8492.54357785, 25470.81889891,\n",
       "         26491.8366197 , 27261.49452771],\n",
       "        [-5525.05798551, 20251.2581599 , 14561.13628588, 26491.83661967,\n",
       "         52667.92462328, 14647.38211913],\n",
       "        [-1843.62806221,  6861.06032158, -1398.12721943, 27261.49452773,\n",
       "         14647.38211917, 68107.02460145]])"
      ]
     },
     "metadata": {},
     "output_type": "display_data"
    },
    {
     "data": {
      "text/plain": [
       "matrix([[  547.92081582, -2059.93820881, -1356.30727122, -2020.20509509,\n",
       "         -1873.31319489,  -532.96950343],\n",
       "        [-2059.93820878,  8372.11653512,  5674.46537493,  8008.42400783,\n",
       "          7500.06127893,  1827.02190592],\n",
       "        [-1356.3072712 ,  5674.46537491,  5251.68703837,  2368.33387954,\n",
       "          5940.74208622, -5692.16411911],\n",
       "        [-2020.20509507,  8008.42400785,  2368.33387958, 16633.12888148,\n",
       "         10006.75614007, 22290.090195  ],\n",
       "        [-1873.31319488,  7500.06127895,  5940.74208625, 10006.75614006,\n",
       "         29844.54059314,  2104.99843942],\n",
       "        [ -532.96950344,  1827.02190597, -5692.16411907, 22290.09019504,\n",
       "          2104.99843947, 66111.59587573]])"
      ]
     },
     "metadata": {},
     "output_type": "display_data"
    },
    {
     "data": {
      "text/plain": [
       "matrix([[  293.31991001, -1280.42745838, -1046.84720487,  -876.31557326,\n",
       "         -1441.88170857,   449.75057851],\n",
       "        [-1280.42745835,  6480.99618294,  5441.92625065,  4373.13428119,\n",
       "          7233.19187165, -2253.86665754],\n",
       "        [-1046.84720485,  5441.92625062,  5348.10370304,  1947.25539156,\n",
       "          6641.59239952, -5729.36688801],\n",
       "        [ -876.31557324,  4373.13428123,  1947.25539162,  9918.90669135,\n",
       "          9734.30817341, 14224.3743549 ],\n",
       "        [-1441.88170855,  7233.19187166,  6641.59239955,  9734.30817337,\n",
       "         32998.07842135,  2577.00836011],\n",
       "        [  449.7505785 , -2253.86665746, -5729.36688795, 14224.37435497,\n",
       "          2577.0083602 , 55515.34861475]])"
      ]
     },
     "metadata": {},
     "output_type": "display_data"
    },
    {
     "data": {
      "text/plain": [
       "matrix([[  215.61233814, -1075.12975466,  -852.86962621,  -776.01644695,\n",
       "         -1094.78889818,   212.60862962],\n",
       "        [-1075.12975462,  6575.15603105,  5406.63402705,  4598.37909128,\n",
       "          6565.66083274, -1439.70117811],\n",
       "        [ -852.86962619,  5406.63402702,  5215.69148952,  1956.86570773,\n",
       "          6032.06837842, -5258.9521582 ],\n",
       "        [ -776.01644694,  4598.37909133,  1956.86570779, 11089.55423255,\n",
       "          9498.97901617, 16613.16604668],\n",
       "        [-1094.78889816,  6565.66083275,  6032.06837846,  9498.97901614,\n",
       "         30903.05755237,  3653.99285485],\n",
       "        [  212.60862961, -1439.70117802, -5258.95215813, 16613.16604675,\n",
       "          3653.99285494, 59323.30506431]])"
      ]
     },
     "metadata": {},
     "output_type": "display_data"
    },
    {
     "data": {
      "text/plain": [
       "matrix([[  148.13134033,  -868.21983166,  -698.74077568,  -631.60700975,\n",
       "          -912.6170428 ,   111.88422842],\n",
       "        [ -868.21983162,  6932.18939696,  5819.82803819,  4894.88821367,\n",
       "          7146.63321026,  -970.4196497 ],\n",
       "        [ -698.74077566,  5819.82803815,  5520.12796115,  2558.67027829,\n",
       "          6636.22541715, -4260.83287298],\n",
       "        [ -631.60700973,  4894.88821372,  2558.67027836, 11698.52231796,\n",
       "         11004.91373786, 17481.17112588],\n",
       "        [ -912.61704278,  7146.63321027,  6636.22541719, 11004.91373782,\n",
       "         32578.06767514,  6364.84779607],\n",
       "        [  111.88422841,  -970.41964961, -4260.83287291, 17481.17112595,\n",
       "          6364.84779616, 60145.85764835]])"
      ]
     },
     "metadata": {},
     "output_type": "display_data"
    },
    {
     "data": {
      "text/plain": [
       "matrix([[ 9.71410460e+01, -6.52836564e+02, -5.21790351e+02,\n",
       "         -4.97050255e+02, -6.89124619e+02,  7.69169228e+00],\n",
       "        [-6.52836564e+02,  7.34007852e+03,  6.20858143e+03,\n",
       "          5.38077571e+03,  7.55584918e+03, -1.90057882e+02],\n",
       "        [-5.21790351e+02,  6.20858143e+03,  5.79944662e+03,\n",
       "          3.19392416e+03,  7.09505049e+03, -3.17108065e+03],\n",
       "        [-4.97050255e+02,  5.38077571e+03,  3.19392416e+03,\n",
       "          1.27772037e+04,  1.23686790e+04,  1.90050963e+04],\n",
       "        [-6.89124619e+02,  7.55584918e+03,  7.09505049e+03,\n",
       "          1.23686790e+04,  3.36394859e+04,  8.96570325e+03],\n",
       "        [ 7.69169227e+00, -1.90057882e+02, -3.17108065e+03,\n",
       "          1.90050963e+04,  8.96570325e+03,  6.18437969e+04]])"
      ]
     },
     "metadata": {},
     "output_type": "display_data"
    },
    {
     "data": {
      "text/plain": [
       "matrix([[ 6.03352194e+01, -4.08769785e+02, -3.20937019e+02,\n",
       "         -3.24490123e+02, -4.44435719e+02, -2.98128121e+01],\n",
       "        [-4.08769785e+02,  7.78475764e+03,  6.69421505e+03,\n",
       "          5.86112494e+03,  8.18305379e+03,  4.70804476e+02],\n",
       "        [-3.20937019e+02,  6.69421505e+03,  6.22143349e+03,\n",
       "          3.95237010e+03,  7.87417136e+03, -2.01312535e+03],\n",
       "        [-3.24490123e+02,  5.86112494e+03,  3.95237010e+03,\n",
       "          1.36997773e+04,  1.39685689e+04,  2.00909308e+04],\n",
       "        [-4.44435719e+02,  8.18305379e+03,  7.87417136e+03,\n",
       "          1.39685689e+04,  3.54340884e+04,  1.16074212e+04],\n",
       "        [-2.98128121e+01,  4.70804476e+02, -2.01312535e+03,\n",
       "          2.00909308e+04,  1.16074212e+04,  6.26784322e+04]])"
      ]
     },
     "metadata": {},
     "output_type": "display_data"
    },
    {
     "data": {
      "text/plain": [
       "matrix([[ 4.10232284e+01, -1.36607972e+02, -8.87212850e+01,\n",
       "         -1.21423217e+02, -1.59961591e+02, -2.17354010e+01],\n",
       "        [-1.36607972e+02,  8.26560249e+03,  7.24349374e+03,\n",
       "          6.38344135e+03,  8.90289983e+03,  1.12631587e+03],\n",
       "        [-8.87212850e+01,  7.24349374e+03,  6.75011227e+03,\n",
       "          4.79702000e+03,  8.83488272e+03, -8.16559296e+02],\n",
       "        [-1.21423217e+02,  6.38344135e+03,  4.79702000e+03,\n",
       "          1.46502595e+04,  1.56496833e+04,  2.10971805e+04],\n",
       "        [-1.59961591e+02,  8.90289983e+03,  8.83488272e+03,\n",
       "          1.56496833e+04,  3.74860103e+04,  1.41703756e+04],\n",
       "        [-2.17354010e+01,  1.12631587e+03, -8.16559296e+02,\n",
       "          2.10971805e+04,  1.41703756e+04,  6.33065130e+04]])"
      ]
     },
     "metadata": {},
     "output_type": "display_data"
    },
    {
     "data": {
      "text/plain": [
       "matrix([[4.20668287e+01, 1.70253025e+02, 1.84410907e+02, 1.18706740e+02,\n",
       "         1.79234127e+02, 3.12632072e+01],\n",
       "        [1.70253025e+02, 8.76854456e+03, 7.87215339e+03, 6.88513673e+03,\n",
       "         9.76540659e+03, 1.65695317e+03],\n",
       "        [1.84410907e+02, 7.87215339e+03, 7.42675219e+03, 5.71107304e+03,\n",
       "         1.00664367e+04, 3.47413060e+02],\n",
       "        [1.18706740e+02, 6.88513673e+03, 5.71107304e+03, 1.54754996e+04,\n",
       "         1.74115587e+04, 2.17900993e+04],\n",
       "        [1.79234127e+02, 9.76540659e+03, 1.00664367e+04, 1.74115587e+04,\n",
       "         4.00085766e+04, 1.65678604e+04],\n",
       "        [3.12632072e+01, 1.65695317e+03, 3.47413060e+02, 2.17900993e+04,\n",
       "         1.65678604e+04, 6.34159873e+04]])"
      ]
     },
     "metadata": {},
     "output_type": "display_data"
    },
    {
     "data": {
      "text/plain": [
       "matrix([[   67.25581689,   513.63767705,   506.24533217,   393.04523651,\n",
       "           585.4010414 ,   115.65044518],\n",
       "        [  513.6376771 ,  9289.49001212,  8571.82288635,  7369.19751784,\n",
       "         10732.55428636,  2083.0311224 ],\n",
       "        [  506.2453322 ,  8571.8228863 ,  8249.78606575,  6677.7683216 ,\n",
       "         11535.08382635,  1457.04965234],\n",
       "        [  393.04523655,  7369.19751791,  6677.76832169, 16206.26127308,\n",
       "         19199.40303376, 22252.43506839],\n",
       "        [  585.40104143, 10732.55428637, 11535.08382639, 19199.4030337 ,\n",
       "         42875.13328537, 18758.135717  ],\n",
       "        [  115.65044518,  2083.03112251,  1457.04965243, 22252.43506847,\n",
       "         18758.1357171 , 63183.11614498]])"
      ]
     },
     "metadata": {},
     "output_type": "display_data"
    },
    {
     "data": {
      "text/plain": [
       "matrix([[  120.83228667,   895.79847638,   885.46092019,   698.01877977,\n",
       "          1070.92111573,   216.47422476],\n",
       "        [  895.79847643,  9812.21496886,  9335.75534514,  7798.24989279,\n",
       "         11790.37741481,  2352.33870214],\n",
       "        [  885.46092021,  9335.75534509,  9229.17386514,  7665.02429371,\n",
       "         13249.26673941,  2452.90065486],\n",
       "        [  698.0187798 ,  7798.24989286,  7665.0242938 , 16774.22008343,\n",
       "         20960.57247613, 22406.41714132],\n",
       "        [ 1070.92111576, 11790.37741481, 13249.26673945, 20960.57247607,\n",
       "         46098.83356259, 20657.4274564 ],\n",
       "        [  216.47422476,  2352.33870225,  2452.90065496, 22406.4171414 ,\n",
       "         20657.42745649, 62535.5887205 ]])"
      ]
     },
     "metadata": {},
     "output_type": "display_data"
    },
    {
     "data": {
      "text/plain": [
       "matrix([[  207.24644961,  1317.15397242,  1328.77931781,  1028.22440095,\n",
       "          1642.3638556 ,   319.01531233],\n",
       "        [ 1317.15397248, 10333.0223636 , 10156.22712534,  8173.66839094,\n",
       "         12907.76583189,  2483.3190153 ],\n",
       "        [ 1328.77931784, 10156.22712528, 10362.97711256,  8657.49449975,\n",
       "         15178.89171726,  3320.72562098],\n",
       "        [ 1028.22440099,  8173.66839101,  8657.49449985, 17198.27691638,\n",
       "         22654.69711824, 22310.14176378],\n",
       "        [ 1642.36385564, 12907.76583189, 15178.8917173 , 22654.69711817,\n",
       "         49586.74284392, 22248.27623404],\n",
       "        [  319.01531233,  2483.31901542,  3320.72562108, 22310.14176386,\n",
       "         22248.27623414, 61589.8649141 ]])"
      ]
     },
     "metadata": {},
     "output_type": "display_data"
    },
    {
     "data": {
      "text/plain": [
       "matrix([[  331.1734499 ,  1777.29915808,  1842.52820817,  1375.74524515,\n",
       "          2304.82053096,   405.39364456],\n",
       "        [ 1777.29915814, 10839.24563017, 11021.7744609 ,  8472.7577669 ,\n",
       "         14058.8592255 ,  2453.67173934],\n",
       "        [ 1842.5282082 , 11021.77446084, 11649.87415627,  9623.99024047,\n",
       "         17306.61572789,  4016.76448445],\n",
       "        [ 1375.74524519,  8472.75776698,  9623.99024058, 17445.53406949,\n",
       "         24230.154294  , 21941.60237642],\n",
       "        [ 2304.820531  , 14058.8592255 , 17306.61572793, 24230.15429393,\n",
       "         53299.66537856, 23474.42943889],\n",
       "        [  405.39364456,  2453.67173945,  4016.76448454, 21941.6023765 ,\n",
       "         23474.42943898, 60344.55415205]])"
      ]
     },
     "metadata": {},
     "output_type": "display_data"
    },
    {
     "data": {
      "text/plain": [
       "matrix([[  497.42904054,  2276.13419878,  2432.38137483,  1734.97339298,\n",
       "          3059.5085667 ,   463.9905138 ],\n",
       "        [ 2276.13419884, 11332.42378536, 11928.34026176,  8705.76966234,\n",
       "         15222.18432805,  2293.71710086],\n",
       "        [ 2432.38137486, 11928.34026169, 13088.27295883, 10557.44898123,\n",
       "         19603.65212029,  4543.51719286],\n",
       "        [ 1734.97339302,  8705.76966242, 10557.44898134, 17547.33685405,\n",
       "         25668.33136628, 21369.03759333],\n",
       "        [ 3059.50856674, 15222.18432804, 19603.65212033, 25668.3313662 ,\n",
       "         57156.72349168, 24353.14934272],\n",
       "        [  463.99051381,  2293.71710097,  4543.51719295, 21369.03759341,\n",
       "         24353.14934281, 58910.90126407]])"
      ]
     },
     "metadata": {},
     "output_type": "display_data"
    },
    {
     "data": {
      "text/plain": [
       "matrix([[  710.87712799,  2811.93980262,  3102.85142977,  2096.1189622 ,\n",
       "          3906.0228008 ,   477.34908565],\n",
       "        [ 2811.93980269, 11801.76888242, 12863.42979146,  8855.09457072,\n",
       "         16373.74989969,  1989.02680123],\n",
       "        [ 3102.8514298 , 12863.42979139, 14671.76732301, 11427.6905021 ,\n",
       "         22045.51923426,  4864.02882365],\n",
       "        [ 2096.11896225,  8855.09457081, 11427.69050222, 17482.38944324,\n",
       "         26926.53888882, 20584.11416474],\n",
       "        [ 3906.02280084, 16373.74989968, 22045.51923431, 26926.53888875,\n",
       "         61112.75442558, 24844.91270808],\n",
       "        [  477.34908566,  1989.02680135,  4864.02882375, 20584.11416482,\n",
       "         24844.91270816, 57297.62101659]])"
      ]
     },
     "metadata": {},
     "output_type": "display_data"
    },
    {
     "data": {
      "text/plain": [
       "matrix([[  976.97251713,  3385.62836932,  3860.09051147,  2456.10956817,\n",
       "          4843.57763712,   440.33876158],\n",
       "        [ 3385.6283694 , 12254.99857087, 13829.55501357,  8941.45587025,\n",
       "         17506.13126865,  1582.217797  ],\n",
       "        [ 3860.09051151, 13829.55501349, 16403.39416807, 12240.91770636,\n",
       "         24611.90136649,  5002.08702294],\n",
       "        [ 2456.10956822,  8941.45587034, 12240.91770649, 17297.87641513,\n",
       "         28014.20558447, 19668.20016837],\n",
       "        [ 4843.57763716, 17506.13126864, 24611.90136654, 28014.20558439,\n",
       "         65106.70190953, 25006.05276631],\n",
       "        [  440.33876159,  1582.21779712,  5002.08702304, 19668.20016844,\n",
       "         25006.05276639, 55616.32919568]])"
      ]
     },
     "metadata": {},
     "output_type": "display_data"
    },
    {
     "data": {
      "text/plain": [
       "matrix([[ 1300.49677038,  3993.19344105,  4705.8876381 ,  2801.14699208,\n",
       "          5866.99159121,   331.9766779 ],\n",
       "        [ 3993.19344113, 12675.60894809, 14807.29268631,  8937.68244301,\n",
       "         18591.92092725,  1044.1595518 ],\n",
       "        [ 4705.88763813, 14807.29268623, 18267.28946113, 12955.31476941,\n",
       "         27270.67645605,  4905.62365614],\n",
       "        [ 2801.14699214,  8937.68244311, 12955.31476954, 16959.79016128,\n",
       "         28880.2705824 , 18594.19572876],\n",
       "        [ 5866.99159126, 18591.92092724, 27270.67645609, 28880.27058232,\n",
       "         69096.40799184, 24778.20619739],\n",
       "        [  331.97667792,  1044.15955192,  4905.62365624, 18594.19572884,\n",
       "         24778.20619748, 53850.99898017]])"
      ]
     },
     "metadata": {},
     "output_type": "display_data"
    },
    {
     "data": {
      "text/plain": [
       "matrix([[ 1688.49500154,  4639.1060492 ,  5650.19021637,  3135.55613087,\n",
       "          6978.65480059,   160.110832  ],\n",
       "        [ 4639.10604929, 13083.22137587, 15813.61949467,  8885.71904813,\n",
       "         19646.11845569,   444.78228714],\n",
       "        [ 5650.19021641, 15813.61949459, 20281.72637971, 13605.80631966,\n",
       "         30022.78377876,  4641.20397749],\n",
       "        [ 3135.55613094,  8885.71904823, 13605.80631979, 16547.52329461,\n",
       "         29580.69175148, 17476.04950949],\n",
       "        [ 6978.65480064, 19646.11845567, 30022.7837788 , 29580.6917514 ,\n",
       "         73051.46203176, 24285.39540279],\n",
       "        [  160.11083202,   444.78228726,  4641.20397759, 17476.04950957,\n",
       "         24285.39540287, 52133.61477096]])"
      ]
     },
     "metadata": {},
     "output_type": "display_data"
    },
    {
     "data": {
      "text/plain": [
       "matrix([[ 2143.37379077,  5310.33128633,  6684.05737186,  3429.60904168,\n",
       "          8160.40198157,  -117.07469744],\n",
       "        [ 5310.33128642, 13436.96567525, 16799.18241525,  8717.90381262,\n",
       "         20609.36447661,  -301.32724698],\n",
       "        [ 6684.05737189, 16799.18241516, 22393.82332425, 14098.93401543,\n",
       "         32797.43407882,  4084.58108105],\n",
       "        [ 3429.60904175,  8717.90381272, 14098.93401557, 15970.19991669,\n",
       "         29999.62780683, 16218.32421585],\n",
       "        [ 8160.40198162, 20609.36447659, 32797.43407887, 29999.62780674,\n",
       "         76902.0162192 , 23362.37971868],\n",
       "        [ -117.07469742,  -301.32724685,  4084.58108115, 16218.32421592,\n",
       "         23362.37971877, 50383.8174665 ]])"
      ]
     },
     "metadata": {},
     "output_type": "display_data"
    },
    {
     "data": {
      "text/plain": [
       "matrix([[ 2678.78321891,  6027.7918507 ,  7838.15669414,  3718.23481189,\n",
       "          9438.42261773,  -446.1097159 ],\n",
       "        [ 6027.79185079, 13800.94645038, 17838.2980331 ,  8551.80618745,\n",
       "         21569.29496466, -1023.1021661 ],\n",
       "        [ 7838.15669418, 17838.298033  , 24693.44995687, 14573.5118059 ,\n",
       "         35682.49841663,  3450.21056722],\n",
       "        [ 3718.23481196,  8551.80618756, 14573.51180604, 15413.91346061,\n",
       "         30337.89778841, 15049.78237665],\n",
       "        [ 9438.42261778, 21569.29496464, 35682.49841667, 30337.89778832,\n",
       "         80713.71138408, 22352.58872193],\n",
       "        [ -446.10971588, -1023.10216597,  3450.21056732, 15049.78237673,\n",
       "         22352.58872201, 48817.36333589]])"
      ]
     },
     "metadata": {},
     "output_type": "display_data"
    },
    {
     "data": {
      "text/plain": [
       "matrix([[ 3279.58829184,  6734.51638527,  9044.99555088,  3898.29137374,\n",
       "         10725.2868526 ,  -968.07651309],\n",
       "        [ 6734.51638537, 14032.64762007, 18743.57907573,  8158.93505056,\n",
       "         22302.51767574, -2018.32354163],\n",
       "        [ 9044.99555093, 18743.57907562, 26941.5117357 , 14709.80442456,\n",
       "         38390.88787982,  2306.60442708],\n",
       "        [ 3898.29137382,  8158.93505067, 14709.80442471, 14573.90227168,\n",
       "         30179.99112267, 13643.73778585],\n",
       "        [10725.28685266, 22302.51767571, 38390.88787987, 30179.99112258,\n",
       "         84192.57764941, 20639.77144158],\n",
       "        [ -968.07651306, -2018.3235415 ,  2306.60442718, 13643.73778593,\n",
       "         20639.77144166, 47186.80575383]])"
      ]
     },
     "metadata": {},
     "output_type": "display_data"
    },
    {
     "data": {
      "text/plain": [
       "matrix([[ 4002.0244307 ,  7546.37699038, 10467.99784561,  4167.78281538,\n",
       "         12203.19201085, -1398.84895585],\n",
       "        [ 7546.37699049, 14407.10986035, 19886.57134447,  7994.64466375,\n",
       "         23255.61577181, -2666.18225211],\n",
       "        [10467.99784566, 19886.57134436, 29643.71618542, 15142.02709915,\n",
       "         41503.13154748,  1552.14188713],\n",
       "        [ 4167.78281547,  7994.64466387, 15142.0270993 , 14074.3391505 ,\n",
       "         30385.23241177, 12682.77504073],\n",
       "        [12203.19201091, 23255.61577178, 41503.13154752, 30385.23241168,\n",
       "         87941.4947268 , 19553.8764106 ],\n",
       "        [-1398.84895583, -2666.18225197,  1552.14188723, 12682.77504081,\n",
       "         19553.87641067, 45975.36900794]])"
      ]
     },
     "metadata": {},
     "output_type": "display_data"
    },
    {
     "data": {
      "text/plain": [
       "matrix([[ 4678.07893559,  8104.35189788, 11589.83259736,  3977.34897825,\n",
       "         13242.31110868, -2444.09441173],\n",
       "        [ 8104.351898  , 14195.66312049, 20202.82820515,  6998.90454594,\n",
       "         23139.17411948, -4280.38850523],\n",
       "        [11589.8325974 , 20202.82820503, 31250.65105027, 14277.02046573,\n",
       "         43152.8180416 ,  -837.68709366],\n",
       "        [ 3977.34897834,  6998.90454606, 14277.0204659 , 12615.42782663,\n",
       "         28866.65374507, 10889.38559052],\n",
       "        [13242.31110874, 23139.17411945, 43152.81804165, 28866.65374497,\n",
       "         89854.3768644 , 16202.68767925],\n",
       "        [-2444.0944117 , -4280.38850509,  -837.68709355, 10889.3855906 ,\n",
       "         16202.68767933, 44489.26283371]])"
      ]
     },
     "metadata": {},
     "output_type": "display_data"
    },
    {
     "data": {
      "text/plain": [
       "matrix([[ 5.59681749e+03,  9.00283231e+03,  1.32988574e+04,\n",
       "          4.45707812e+03,  1.48353998e+04, -2.34970652e+03],\n",
       "        [ 9.00283231e+03,  1.46208539e+04,  2.15092812e+04,\n",
       "          7.28248475e+03,  2.40649928e+04, -3.79885074e+03],\n",
       "        [ 1.32988574e+04,  2.15092812e+04,  3.44680885e+04,\n",
       "          1.53663076e+04,  4.64165331e+04, -2.72255389e+00],\n",
       "        [ 4.45707812e+03,  7.28248475e+03,  1.53663076e+04,\n",
       "          1.28660025e+04,  2.98563936e+04,  1.10377714e+04],\n",
       "        [ 1.48353998e+04,  2.40649928e+04,  4.64165331e+04,\n",
       "          2.98563936e+04,  9.31274683e+04,  1.74569632e+04],\n",
       "        [-2.34970652e+03, -3.79885074e+03, -2.72255381e+00,\n",
       "          1.10377714e+04,  1.74569632e+04,  4.38849528e+04]])"
      ]
     },
     "metadata": {},
     "output_type": "display_data"
    },
    {
     "data": {
      "text/plain": [
       "matrix([[ 4836.30726519,  7106.30187171, 10508.56781746,  1891.94872287,\n",
       "         10811.70086528, -4955.49679755],\n",
       "        [ 7106.30187184, 10564.73578967, 15520.94786144,  2834.90641109,\n",
       "         15981.45288478, -7368.29427786],\n",
       "        [10508.56781751, 15520.94786132, 25841.95996966,  8565.88061664,\n",
       "         34961.24845158, -6149.1631088 ],\n",
       "        [ 1891.94872299,  2834.90641124,  8565.88061684,  8464.76914281,\n",
       "         20653.46851442,  8003.75315963],\n",
       "        [10811.70086535, 15981.45288476, 34961.24845165, 20653.4685143 ,\n",
       "         78398.11910508,  8873.42949893],\n",
       "        [-4955.49679749, -7368.29427768, -6149.16310864,  8003.75315973,\n",
       "          8873.42949907, 42947.10911209]])"
      ]
     },
     "metadata": {},
     "output_type": "display_data"
    },
    {
     "data": {
      "text/plain": [
       "matrix([[ 3686.74663183,  5119.40043075,  7395.38359032,  1340.59846763,\n",
       "          6050.95145024, -2369.90360229],\n",
       "        [ 5119.40043089,  7222.77622141, 10372.04203459,  1971.69528851,\n",
       "          8590.00024585, -3279.26115795],\n",
       "        [ 7395.38359039, 10372.04203446, 18058.86281179,  7546.09294195,\n",
       "         23614.96467887,   833.4273187 ],\n",
       "        [ 1340.59846776,  1971.69528868,  7546.09294216,  8933.45338818,\n",
       "         18806.22401248, 10822.66419734],\n",
       "        [ 6050.95145035,  8590.00024588, 23614.964679  , 18806.22401237,\n",
       "         61610.76268321, 18350.61431872],\n",
       "        [-2369.90360225, -3279.26115779,   833.42731883, 10822.66419744,\n",
       "         18350.61431885, 42625.47584707]])"
      ]
     },
     "metadata": {},
     "output_type": "display_data"
    },
    {
     "data": {
      "text/plain": [
       "matrix([[ 2803.22161706,  3528.0486477 ,  4743.56792662,  -644.04090459,\n",
       "          2707.11258676, -4467.87404339],\n",
       "        [ 3528.04864785,  4541.50197551,  6017.55469455,  -784.97712684,\n",
       "          3427.91762468, -5718.80598181],\n",
       "        [ 4743.5679267 ,  6017.55469443, 10978.12785779,  2610.32086136,\n",
       "         15209.66619644, -4387.96859579],\n",
       "        [ -644.04090443,  -784.97712664,  2610.32086163,  5673.85273921,\n",
       "         12109.51903474,  7638.1960572 ],\n",
       "        [ 2707.11258691,  3427.91762474, 15209.66619661, 12109.51903459,\n",
       "         51933.28342907, 10098.75088503],\n",
       "        [-4467.8740433 , -5718.80598159, -4387.96859557,  7638.19605733,\n",
       "         10098.75088525, 40040.54892523]])"
      ]
     },
     "metadata": {},
     "output_type": "display_data"
    },
    {
     "data": {
      "text/plain": [
       "matrix([[ 2925.68053497,  3460.54142671,  4780.17891536,  -541.8996461 ,\n",
       "          2546.0552577 , -3679.76866939],\n",
       "        [ 3460.54142687,  4186.85224651,  5714.30786402,  -589.90446637,\n",
       "          3090.35443708, -4403.55066549],\n",
       "        [ 4780.17891545,  5714.3078639 , 11161.71044042,  3309.78815122,\n",
       "         15579.43764713, -1888.39406292],\n",
       "        [ -541.89964593,  -589.90446616,  3309.78815149,  6216.89572148,\n",
       "         13189.35708747,  8569.24813161],\n",
       "        [ 2546.05525787,  3090.35443715, 15579.43764731, 13189.35708732,\n",
       "         52497.64666157, 13987.34248546],\n",
       "        [-3679.76866931, -4403.55066528, -1888.3940627 ,  8569.24813174,\n",
       "         13987.34248568, 39624.57430494]])"
      ]
     },
     "metadata": {},
     "output_type": "display_data"
    },
    {
     "data": {
      "text/plain": [
       "matrix([[ 3292.1073857 ,  3612.79491992,  5240.33651512,  -731.64079793,\n",
       "          3076.84182394, -4130.47454801],\n",
       "        [ 3612.7949201 ,  4050.73482034,  5797.92239022,  -765.66150348,\n",
       "          3425.47100955, -4593.9663241 ],\n",
       "        [ 5240.33651522,  5797.92239009, 12059.22737568,  3116.50130666,\n",
       "         17302.30535156, -2766.84984515],\n",
       "        [ -731.64079774,  -765.66150326,  3116.50130695,  5864.32575427,\n",
       "         12994.91873014,  7824.41205002],\n",
       "        [ 3076.84182412,  3425.47100961, 17302.30535175, 12994.91872997,\n",
       "         55968.96669809, 12349.20259512],\n",
       "        [-4130.47454792, -4593.96632387, -2766.84984492,  7824.41205016,\n",
       "         12349.20259536, 38249.45258822]])"
      ]
     },
     "metadata": {},
     "output_type": "display_data"
    },
    {
     "data": {
      "text/plain": [
       "matrix([[ 3724.27659684,  3816.44714724,  5883.82607834,  -706.32905318,\n",
       "          3802.16217452, -4069.666612  ],\n",
       "        [ 3816.44714743,  3990.76603863,  6075.6692386 ,  -683.89753957,\n",
       "          3951.98915901, -4220.44119366],\n",
       "        [ 5883.82607845,  6075.66923846, 13521.46634149,  3503.92534545,\n",
       "         19642.91276854, -2396.26583029],\n",
       "        [ -706.32905297,  -683.89753934,  3503.92534576,  5902.50696481,\n",
       "         13592.15662801,  7624.65227034],\n",
       "        [ 3802.16217471,  3951.98915907, 19642.91276873, 13592.15662783,\n",
       "         59950.73201953, 12636.22874214],\n",
       "        [-4069.6666119 , -4220.44119343, -2396.26583005,  7624.65227048,\n",
       "         12636.22874237, 37110.16755865]])"
      ]
     },
     "metadata": {},
     "output_type": "display_data"
    },
    {
     "data": {
      "text/plain": [
       "matrix([[ 4218.96510683,  4028.49133996,  6595.48644018,  -786.53755596,\n",
       "          4602.7487004 , -4316.82622576],\n",
       "        [ 4028.49134016,  3921.02234612,  6338.85027592,  -714.28481768,\n",
       "          4442.59860553, -4169.34508644],\n",
       "        [ 6595.48644029,  6338.85027576, 15005.0850833 ,  3573.49028594,\n",
       "         21928.18442728, -2874.5532166 ],\n",
       "        [ -786.53755574,  -714.28481745,  3573.49028627,  5724.13949817,\n",
       "         13643.66102742,  7107.13924492],\n",
       "        [ 4602.74870059,  4442.59860558, 21928.18442747, 13643.66102723,\n",
       "         63708.30529271, 11516.0263404 ],\n",
       "        [-4316.82622565, -4169.3450862 , -2874.55321635,  7107.13924505,\n",
       "         11516.02634064, 35907.06027332]])"
      ]
     },
     "metadata": {},
     "output_type": "display_data"
    },
    {
     "data": {
      "text/plain": [
       "matrix([[ 4775.18365929,  4253.00371648,  7415.28913352,  -846.94666631,\n",
       "          5511.83350143, -4522.46118846],\n",
       "        [ 4253.0037167 ,  3857.64414112,  6643.20539783,  -717.85484161,\n",
       "          4955.83121372, -4070.09041565],\n",
       "        [ 7415.28913364,  6643.20539766, 16714.53702261,  3687.0463013 ,\n",
       "         24406.60256474, -3280.68524776],\n",
       "        [ -846.94666607,  -717.85484136,  3687.04630164,  5582.22697355,\n",
       "         13719.19476732,  6663.45509956],\n",
       "        [ 5511.83350162,  4955.83121377, 24406.60256493, 13719.19476712,\n",
       "         67514.52599534, 10523.99180801],\n",
       "        [-4522.46118834, -4070.09041541, -3280.68524751,  6663.4550997 ,\n",
       "         10523.99180824, 34815.65022685]])"
      ]
     },
     "metadata": {},
     "output_type": "display_data"
    },
    {
     "data": {
      "text/plain": [
       "matrix([[ 5387.98208395,  4471.00061814,  8288.11637399,  -990.21495309,\n",
       "          6446.0875162 , -4933.11134484],\n",
       "        [ 4471.00061838,  3775.67546951,  6913.11173467,  -786.78091935,\n",
       "          5391.13084041, -4132.78523571],\n",
       "        [ 8288.11637412,  6913.1117345 , 18431.12764515,  3594.49092392,\n",
       "         26766.20138975, -4159.42633851],\n",
       "        [ -990.21495283,  -786.78091909,  3594.49092428,  5371.54172065,\n",
       "         13469.66745746,  6180.82365847],\n",
       "        [ 6446.08751641,  5391.13084045, 26766.20138994, 13469.66745726,\n",
       "         70953.78103704,  8871.61468317],\n",
       "        [-4933.11134471, -4132.78523545, -4159.42633825,  6180.82365862,\n",
       "          8871.6146834 , 33946.07436539]])"
      ]
     },
     "metadata": {},
     "output_type": "display_data"
    },
    {
     "data": {
      "text/plain": [
       "matrix([[ 6066.03408453,  4687.59592128,  9245.85178602, -1174.47189377,\n",
       "          7441.96132068, -5431.16206729],\n",
       "        [ 4687.59592154,  3684.38546947,  7178.23971452,  -873.35351477,\n",
       "          5790.77872032, -4233.06756753],\n",
       "        [ 9245.85178615,  7178.23971434, 20264.8852857 ,  3418.0880918 ,\n",
       "         29157.54373169, -5205.11608285],\n",
       "        [-1174.47189349,  -873.3535145 ,  3418.08809217,  5168.48523307,\n",
       "         13096.09660253,  5767.77223481],\n",
       "        [ 7441.96132089,  5790.77872035, 29157.54373187, 13096.09660232,\n",
       "         74247.87280616,  7061.83443809],\n",
       "        [-5431.16206716, -4233.06756727, -5205.11608258,  5767.77223495,\n",
       "          7061.83443832, 33302.62806079]])"
      ]
     },
     "metadata": {},
     "output_type": "display_data"
    },
    {
     "data": {
      "text/plain": [
       "matrix([[ 6794.49459891,  4881.67442497, 10230.69199867, -1454.77312495,\n",
       "          8411.92129466, -6126.56686151],\n",
       "        [ 4881.67442524,  3566.17313143,  7381.38819357, -1012.16539552,\n",
       "          6079.8518583 , -4435.7436032 ],\n",
       "        [10230.69199881,  7381.38819337, 22044.46184888,  3043.63150882,\n",
       "         31339.39350122, -6625.52712791],\n",
       "        [-1454.77312465, -1012.16539524,  3043.63150922,  4954.03441101,\n",
       "         12454.45206562,  5426.92227848],\n",
       "        [ 8411.92129488,  6079.85185832, 31339.39350141, 12454.4520654 ,\n",
       "         77078.80798084,  4819.80142979],\n",
       "        [-6126.56686136, -4435.74360293, -6625.52712763,  5426.92227863,\n",
       "          4819.80143002, 33002.54229792]])"
      ]
     },
     "metadata": {},
     "output_type": "display_data"
    },
    {
     "data": {
      "text/plain": [
       "matrix([[ 7585.50937576,  5059.70936204, 11276.7956636 , -1803.46994381,\n",
       "          9398.88941048, -6940.02229029],\n",
       "        [ 5059.70936233,  3430.95409891,  7550.95899556, -1170.58924433,\n",
       "          6302.99883602, -4661.0158058 ],\n",
       "        [11276.79566375,  7550.95899535, 23869.46061801,  2549.17767248,\n",
       "         33452.71918549, -8230.35074701],\n",
       "        [-1803.4699435 , -1170.58924404,  2549.17767289,  4769.52687252,\n",
       "         11672.09680405,  5204.14434269],\n",
       "        [ 9398.8894107 ,  6302.99883603, 33452.71918568, 11672.09680383,\n",
       "         79662.35509553,  2438.12420903],\n",
       "        [-6940.02229014, -4661.01580552, -8230.35074673,  5204.14434284,\n",
       "          2438.12420926, 32994.55021942]])"
      ]
     },
     "metadata": {},
     "output_type": "display_data"
    },
    {
     "data": {
      "text/plain": [
       "matrix([[  8416.29943945,   5198.96090317,  12316.24696404,\n",
       "          -2261.01409641,  10304.86188904,  -7939.88157442],\n",
       "        [  5198.96090348,   3265.05849122,   7635.01822178,\n",
       "          -1365.31020826,   6395.71396347,  -4934.97944911],\n",
       "        [ 12316.2469642 ,   7635.01822155,  25566.24622385,\n",
       "           1861.43907734,  35262.40197476, -10132.00059604],\n",
       "        [ -2261.01409608,  -1365.31020796,   1861.43907778,\n",
       "           4618.81527003,  10665.03508086,   5127.08189386],\n",
       "        [ 10304.86188927,   6395.71396348,  35262.40197494,\n",
       "          10665.03508063,  81696.93163704,   -223.0385659 ],\n",
       "        [ -7939.88157427,  -4934.97944883, -10132.00059575,\n",
       "           5127.08189401,   -223.03856568,  33390.57987892]])"
      ]
     },
     "metadata": {},
     "output_type": "display_data"
    },
    {
     "data": {
      "text/plain": [
       "matrix([[  9311.58913606,   5313.84239593,  13410.91922094,\n",
       "          -2795.36058929,  11211.94722069,  -9043.04424875],\n",
       "        [  5313.84239626,   3083.78566514,   7678.71714928,\n",
       "          -1564.38519851,   6426.31730193,  -5189.30960961],\n",
       "        [ 13410.9192211 ,   7678.71714904,  27291.75832161,\n",
       "           1060.14125442,  36987.62202022, -12156.78143583],\n",
       "        [ -2795.36058893,  -1564.3851982 ,   1060.14125487,\n",
       "           4529.78477503,   9555.00955196,   5206.55552668],\n",
       "        [ 11211.94722092,   6426.31730193,  36987.6220204 ,\n",
       "           9555.00955173,  83500.82133725,  -2920.0720795 ],\n",
       "        [ -9043.04424858,  -5189.30960932, -12156.78143553,\n",
       "           5206.55552684,  -2920.07207928,  34074.07932953]])"
      ]
     },
     "metadata": {},
     "output_type": "display_data"
    },
    {
     "data": {
      "text/plain": [
       "matrix([[ 1.02309114e+04,  5.37365874e+03,  1.44552828e+04,\n",
       "         -3.44969239e+03,  1.19747723e+04, -1.03199742e+04],\n",
       "        [ 5.37365874e+03,  2.87183674e+03,  7.61605912e+03,\n",
       "         -1.78191402e+03,  6.31399690e+03, -5.44785891e+03],\n",
       "        [ 1.44552828e+04,  7.61605912e+03,  2.87980059e+04,\n",
       "          7.34901133e+01,  3.83020779e+04, -1.44099803e+04],\n",
       "        [-3.44969239e+03, -1.78191402e+03,  7.34901138e+01,\n",
       "          4.51608358e+03,  8.26316340e+03,  5.48704995e+03],\n",
       "        [ 1.19747723e+04,  6.31399690e+03,  3.83020779e+04,\n",
       "          8.26316340e+03,  8.46578043e+04, -5.77805139e+03],\n",
       "        [-1.03199742e+04, -5.44785891e+03, -1.44099803e+04,\n",
       "          5.48704995e+03, -5.77805138e+03,  3.52002966e+04]])"
      ]
     },
     "metadata": {},
     "output_type": "display_data"
    },
    {
     "data": {
      "text/plain": [
       "matrix([[ 11234.62394524,   5411.6527389 ,  15590.94589917,\n",
       "          -4175.47210094,  12782.58610253, -11660.3915269 ],\n",
       "        [  5411.65273928,   2654.43381658,   7532.69692252,\n",
       "          -1981.55827457,   6180.25114886,  -5642.76424327],\n",
       "        [ 15590.94589935,   7532.69692224,  30412.20004191,\n",
       "           -995.57931253,  39648.18610875, -16697.6655362 ],\n",
       "        [ -4175.47210054,  -1981.55827424,   -995.57931205,\n",
       "           4590.60510321,   6932.31566983,   5931.45978735],\n",
       "        [ 12782.58610277,   6180.25114885,  39648.18610893,\n",
       "           6932.31566959,  85772.77236439,  -8553.44634623],\n",
       "        [-11660.39152673,  -5642.76424296, -16697.6655359 ,\n",
       "           5931.45978752,  -8553.44634601,  36523.32314716]])"
      ]
     },
     "metadata": {},
     "output_type": "display_data"
    },
    {
     "data": {
      "text/plain": [
       "matrix([[ 12218.68571   ,   5366.71274753,  16572.72078776,\n",
       "          -5039.65399286,  13309.37165656, -13180.16852444],\n",
       "        [  5366.71274795,   2403.32429212,   7299.71296561,\n",
       "          -2184.5992421 ,   5864.49636088,  -5813.75644335],\n",
       "        [ 16572.72078795,   7299.71296532,  31595.46035346,\n",
       "          -2250.55587743,  40330.25293372, -19171.93964593],\n",
       "        [ -5039.65399244,  -2184.59924175,  -2250.55587693,\n",
       "           4784.93823622,   5451.43906844,   6639.83289497],\n",
       "        [ 13309.3716568 ,   5864.49636086,  40330.2529339 ,\n",
       "           5451.43906819,  85960.31860652, -11406.84123694],\n",
       "        [-13180.16852426,  -5813.75644303, -19171.93964563,\n",
       "           6639.83289514, -11406.84123673,  38387.6385963 ]])"
      ]
     },
     "metadata": {},
     "output_type": "display_data"
    },
    {
     "data": {
      "text/plain": [
       "matrix([[ 13365.43918294,   5327.57931879,  17809.95324597,\n",
       "          -5950.49822016,  14096.071336  , -14686.84123469],\n",
       "        [  5327.57931923,   2168.43202333,   7119.78345125,\n",
       "          -2342.73977157,   5638.01312339,  -5877.8026373 ],\n",
       "        [ 17809.95324616,   7119.78345094,  33233.4155427 ,\n",
       "          -3533.50179784,  41505.86630843, -21572.73323345],\n",
       "        [ -5950.49821971,  -2342.73977121,  -3533.50179733,\n",
       "           5072.04321325,   4010.15699499,   7449.17356125],\n",
       "        [ 14096.07133624,   5638.01312337,  41505.8663086 ,\n",
       "           4010.15699475,  86727.66300458, -14075.85002775],\n",
       "        [-14686.8412345 ,  -5877.80263697, -21572.73323315,\n",
       "           7449.17356143, -14075.85002756,  40164.08668799]])"
      ]
     },
     "metadata": {},
     "output_type": "display_data"
    },
    {
     "data": {
      "text/plain": [
       "matrix([[ 14294.92863303,   5119.65593617,  18478.83770805,\n",
       "          -7033.13397284,  14078.61431075, -16410.91193755],\n",
       "        [  5119.65593664,   1877.20619664,   6635.49951168,\n",
       "          -2490.88005871,   5054.18266802,  -5899.30180324],\n",
       "        [ 18478.83770825,   6635.49951135,  33627.42075946,\n",
       "          -5003.40077061,  41030.62791073, -24102.85701746],\n",
       "        [ -7033.13397236,  -2490.88005833,  -5003.40077007,\n",
       "           5554.38608651,   2465.15739867,   8677.84994857],\n",
       "        [ 14078.61431101,   5054.18266799,  41030.6279109 ,\n",
       "           2465.15739842,  85395.51090798, -16672.00511235],\n",
       "        [-16410.91193734,  -5899.30180291, -24102.85701715,\n",
       "           8677.84994875, -16672.00511215,  42893.71982257]])"
      ]
     },
     "metadata": {},
     "output_type": "display_data"
    },
    {
     "data": {
      "text/plain": [
       "matrix([[ 15693.08007818,   5029.53705909,  20082.5848543 ,\n",
       "          -8068.72735565,  15230.68736628, -17860.55151155],\n",
       "        [  5029.53705959,   1654.5502324 ,   6456.83496531,\n",
       "          -2556.44020359,   4900.74702333,  -5745.68624302],\n",
       "        [ 20082.5848545 ,   6456.83496496,  35886.15058934,\n",
       "          -6403.00510789,  42872.28196226, -26353.97629214],\n",
       "        [ -8068.72735515,  -2556.4402032 ,  -6403.00510736,\n",
       "           6029.19380723,   1018.48058051,   9642.88172835],\n",
       "        [ 15230.68736652,   4900.74702329,  42872.28196242,\n",
       "           1018.48058028,  86950.99512077, -19065.41608957],\n",
       "        [-17860.55151137,  -5745.68624269, -26353.97629187,\n",
       "           9642.88172853, -19065.41608942,  44370.47350839]])"
      ]
     },
     "metadata": {},
     "output_type": "display_data"
    },
    {
     "data": {
      "text/plain": [
       "matrix([[ 15551.663974  ,   4355.72878607,  18670.21299986,\n",
       "          -9114.94575406,  12681.66814595, -19151.50034231],\n",
       "        [  4355.7287866 ,   1261.66589401,   5240.35701238,\n",
       "          -2526.4554616 ,   3550.10727761,  -5380.91119057],\n",
       "        [ 18670.2130001 ,   5240.35701202,  32481.70998172,\n",
       "          -7549.15050089,  37912.84230411, -27646.64347826],\n",
       "        [ -9114.94575352,  -2526.45546119,  -7549.1505003 ,\n",
       "           6847.07870477,     95.47226172,  11440.70177716],\n",
       "        [ 12681.66814625,   3550.10727758,  37912.84230432,\n",
       "             95.47226144,  80455.19524806, -19807.91934281],\n",
       "        [-19151.50034206,  -5380.91119021, -27646.64347789,\n",
       "          11440.70177735, -19807.91934254,  48146.13677819]])"
      ]
     },
     "metadata": {},
     "output_type": "display_data"
    },
    {
     "data": {
      "text/plain": [
       "matrix([[ 15871.34255187,   3933.18496284,  19289.20218943,\n",
       "          -9079.60221649,  13612.55868764, -17350.78731926],\n",
       "        [  3933.18496341,   1015.70176176,   4808.68337386,\n",
       "          -2217.55699668,   3410.42772378,  -4322.50283775],\n",
       "        [ 19289.20218966,   4808.68337347,  34299.46504184,\n",
       "          -7569.6605107 ,  40501.40405966, -25709.39773964],\n",
       "        [ -9079.60221594,  -2217.55699627,  -7569.66051013,\n",
       "           6657.47754442,   -219.80304633,  10243.44935127],\n",
       "        [ 13612.55868792,   3410.42772374,  40501.40405984,\n",
       "           -219.80304658,  84000.04222769, -18789.41239537],\n",
       "        [-17350.78731915,  -4322.50283741, -25709.39773945,\n",
       "          10243.44935151, -18789.41239526,  43082.65177889]])"
      ]
     },
     "metadata": {},
     "output_type": "display_data"
    },
    {
     "data": {
      "text/plain": [
       "matrix([[  9853.83066393,   1988.49841356,   8881.17267274,\n",
       "          -7406.70012093,   2015.72752393, -12791.88207066],\n",
       "        [  1988.49841416,    441.66861496,   1788.5708248 ,\n",
       "          -1470.36413198,    372.53333976,  -2583.38526453],\n",
       "        [  8881.17267317,   1788.57082443,  16906.27662143,\n",
       "          -4514.15396839,  21136.31204361, -17790.11213217],\n",
       "        [ -7406.70012027,  -1470.36413153,  -4514.15396759,\n",
       "           6440.74192464,   3125.02895508,   9855.04617915],\n",
       "        [  2015.72752461,    372.5333398 ,  21136.31204412,\n",
       "           3125.02895453,  62267.16856018,  -9995.8126491 ],\n",
       "        [-12791.8820704 ,  -2583.38526415, -17790.11213161,\n",
       "           9855.0461794 ,  -9995.81264845,  42632.34042499]])"
      ]
     },
     "metadata": {},
     "output_type": "display_data"
    },
    {
     "data": {
      "text/plain": [
       "matrix([[  8107.92806002,   1414.66800578,   7033.11846038,\n",
       "          -5845.53042521,   1386.37056477,  -7908.97472753],\n",
       "        [  1414.66800642,    286.70036722,   1258.43384721,\n",
       "           -986.71946493,    284.45533641,  -1402.49107712],\n",
       "        [  7033.11846088,   1258.43384682,  15786.09280276,\n",
       "          -2631.15150081,  21941.22088319, -11791.66416769],\n",
       "        [ -5845.53042453,   -986.71946447,  -2631.15149996,\n",
       "           5177.52855895,   4228.49390943,   6247.84946416],\n",
       "        [  1386.37056556,    284.45533644,  21941.22088377,\n",
       "           4228.49390879,  65007.41972073,  -5698.66445508],\n",
       "        [ -7908.97472749,  -1402.49107676, -11791.66416726,\n",
       "           6247.84946457,  -5698.66445437,  31728.05701848]])"
      ]
     },
     "metadata": {},
     "output_type": "display_data"
    },
    {
     "data": {
      "text/plain": [
       "matrix([[  7500.91138111,    993.59580822,   5442.23921284,\n",
       "          -6079.76847707,   -671.55808362,  -8393.926808  ],\n",
       "        [   993.59580891,    171.07575845,    728.75838071,\n",
       "           -776.88759819,    -98.00562927,  -1118.95732497],\n",
       "        [  5442.23921346,    728.75838031,  12563.23543147,\n",
       "          -2812.99362129,  17646.76026265, -12552.8176298 ],\n",
       "        [ -6079.76847631,   -776.88759771,  -2812.99362029,\n",
       "           5567.74760713,   3934.34704764,   7367.49478081],\n",
       "        [  -671.55808259,    -98.00562921,  17646.7602634 ,\n",
       "           3934.34704682,  59011.74026063,  -6834.38588796],\n",
       "        [ -8393.92680785,  -1118.95732458, -12552.81762917,\n",
       "           7367.49478121,  -6834.38588702,  35239.71709014]])"
      ]
     },
     "metadata": {},
     "output_type": "display_data"
    },
    {
     "data": {
      "text/plain": [
       "matrix([[ 7.74949120e+03,  7.73794292e+02,  5.91843001e+03,\n",
       "         -6.20933832e+03,  3.32496802e+02, -8.04226863e+03],\n",
       "        [ 7.73794293e+02,  1.16374387e+02,  6.09629943e+02,\n",
       "         -5.89437985e+02,  4.70127778e+01, -8.18385538e+02],\n",
       "        [ 5.91843001e+03,  6.09629942e+02,  1.40202569e+04,\n",
       "         -3.16062147e+03,  2.00549183e+04, -1.29208648e+04],\n",
       "        [-6.20933832e+03, -5.89437985e+02, -3.16062147e+03,\n",
       "          5.57910874e+03,  3.10191420e+03,  7.07712893e+03],\n",
       "        [ 3.32496803e+02,  4.70127779e+01,  2.00549183e+04,\n",
       "          3.10191420e+03,  6.24536800e+04, -8.54698674e+03],\n",
       "        [-8.04226863e+03, -8.18385538e+02, -1.29208648e+04,\n",
       "          7.07712893e+03, -8.54698674e+03,  3.38921671e+04]])"
      ]
     },
     "metadata": {},
     "output_type": "display_data"
    },
    {
     "data": {
      "text/plain": [
       "matrix([[ 8.13293669e+03,  5.12259635e+02,  6.15619587e+03,\n",
       "         -6.75785560e+03,  5.26904601e+02, -8.89372382e+03],\n",
       "        [ 5.12259636e+02,  7.11619182e+01,  3.99562102e+02,\n",
       "         -3.95554592e+02,  3.19674075e+01, -5.69065373e+02],\n",
       "        [ 6.15619587e+03,  3.99562101e+02,  1.42648926e+04,\n",
       "         -3.92572237e+03,  2.00736203e+04, -1.46180019e+04],\n",
       "        [-6.75785559e+03, -3.95554591e+02, -3.92572237e+03,\n",
       "          6.10100748e+03,  2.10390996e+03,  8.16847045e+03],\n",
       "        [ 5.26904602e+02,  3.19674075e+01,  2.00736203e+04,\n",
       "          2.10390996e+03,  6.18636692e+04, -1.09927905e+04],\n",
       "        [-8.89372382e+03, -5.69065373e+02, -1.46180019e+04,\n",
       "          8.16847046e+03, -1.09927905e+04,  3.65607761e+04]])"
      ]
     },
     "metadata": {},
     "output_type": "display_data"
    },
    {
     "data": {
      "text/plain": [
       "matrix([[ 8.64053106e+03,  2.48613125e+02,  6.80692775e+03,\n",
       "         -7.27043374e+03,  1.41428251e+03, -9.44159465e+03],\n",
       "        [ 2.48613126e+02,  4.59077136e+01,  2.10120928e+02,\n",
       "         -1.78359770e+02,  4.41457961e+01, -2.81926551e+02],\n",
       "        [ 6.80692775e+03,  2.10120927e+02,  1.55203309e+04,\n",
       "         -4.77820428e+03,  2.16009721e+04, -1.61509508e+04],\n",
       "        [-7.27043374e+03, -1.78359769e+02, -4.77820427e+03,\n",
       "          6.54351988e+03,  8.69428255e+02,  8.88383882e+03],\n",
       "        [ 1.41428251e+03,  4.41457960e+01,  2.16009721e+04,\n",
       "          8.69428254e+02,  6.34225952e+04, -1.35554883e+04],\n",
       "        [-9.44159465e+03, -2.81926551e+02, -1.61509508e+04,\n",
       "          8.88383882e+03, -1.35554883e+04,  3.78586314e+04]])"
      ]
     },
     "metadata": {},
     "output_type": "display_data"
    },
    {
     "data": {
      "text/plain": [
       "matrix([[ 9.15059113e+03, -6.10799701e+01,  7.26400730e+03,\n",
       "         -7.93110526e+03,  1.81861459e+03, -1.03719521e+04],\n",
       "        [-6.10799692e+01,  3.91339674e+01, -3.69358473e+01,\n",
       "          8.42569004e+01, -1.46363247e+01,  6.30027517e+01],\n",
       "        [ 7.26400730e+03, -3.69358479e+01,  1.61353661e+04,\n",
       "         -5.70865207e+03,  2.19516905e+04, -1.79242620e+04],\n",
       "        [-7.93110526e+03,  8.42569010e+01, -5.70865206e+03,\n",
       "          7.24470550e+03, -2.33102697e+02,  1.01952140e+04],\n",
       "        [ 1.81861459e+03, -1.46363248e+01,  2.19516905e+04,\n",
       "         -2.33102698e+02,  6.31226026e+04, -1.58762627e+04],\n",
       "        [-1.03719521e+04,  6.30027522e+01, -1.79242620e+04,\n",
       "          1.01952140e+04, -1.58762627e+04,  4.06021906e+04]])"
      ]
     },
     "metadata": {},
     "output_type": "display_data"
    },
    {
     "data": {
      "text/plain": [
       "matrix([[ 9.73856828e+03, -4.00697905e+02,  7.90199356e+03,\n",
       "         -8.64543843e+03,  2.47613481e+03, -1.12784297e+04],\n",
       "        [-4.00697904e+02,  5.52635992e+01, -3.12654363e+02,\n",
       "          3.87773335e+02, -1.02943865e+02,  4.58272823e+02],\n",
       "        [ 7.90199356e+03, -3.12654364e+02,  1.71290315e+04,\n",
       "         -6.75601525e+03,  2.28119806e+04, -1.97241626e+04],\n",
       "        [-8.64543843e+03,  3.87773336e+02, -6.75601525e+03,\n",
       "          8.01935035e+03, -1.47448378e+03,  1.15132523e+04],\n",
       "        [ 2.47613481e+03, -1.02943865e+02,  2.28119806e+04,\n",
       "         -1.47448378e+03,  6.35266695e+04, -1.82530169e+04],\n",
       "        [-1.12784297e+04,  4.58272823e+02, -1.97241626e+04,\n",
       "          1.15132523e+04, -1.82530169e+04,  4.30270785e+04]])"
      ]
     },
     "metadata": {},
     "output_type": "display_data"
    },
    {
     "data": {
      "text/plain": [
       "matrix([[ 10291.25142182,   -785.76528166,   8340.46537123,\n",
       "          -9438.99457584,   2708.6758103 , -12369.58349501],\n",
       "        [  -785.76528064,     98.93014807,   -625.85402384,\n",
       "            753.62369958,   -211.21034732,    942.19988237],\n",
       "        [  8340.46537212,   -625.8540245 ,  17613.45383235,\n",
       "          -7772.15775437,  22821.61058547, -21489.29986962],\n",
       "        [ -9438.99457478,    753.62370018,  -7772.15775301,\n",
       "           8998.77790435,  -2457.17018315,  13235.28638276],\n",
       "        [  2708.67581151,   -211.21034741,  22821.61058624,\n",
       "          -2457.17018414,  62732.53497506, -20140.24473283],\n",
       "        [-12369.58349477,    942.19988292, -21489.2998688 ,\n",
       "          13235.28638325, -20140.24473188,  46283.26294695]])"
      ]
     },
     "metadata": {},
     "output_type": "display_data"
    },
    {
     "data": {
      "text/plain": [
       "matrix([[ 10912.0099859 ,  -1212.39561387,   8899.97844706,\n",
       "         -10313.60136262,   3087.09356974, -13497.702917  ],\n",
       "        [ -1212.39561278,    173.88026503,   -977.05706303,\n",
       "           1179.7315245 ,   -346.23262433,   1498.29236904],\n",
       "        [  8899.97844799,   -977.05706374,  18322.70981149,\n",
       "          -8900.7315514 ,  23120.74406957, -23299.93658763],\n",
       "        [-10313.6013615 ,   1179.73152513,  -8900.73154999,\n",
       "          10112.28403333,  -3527.75991956,  15066.14532752],\n",
       "        [  3087.09357096,   -346.23262445,  23120.74407033,\n",
       "          -3527.75992055,  62356.38549576, -22046.18238365],\n",
       "        [-13497.70291674,   1498.29236962, -23299.93658678,\n",
       "          15066.14532802, -22046.18238274,  49449.11390941]])"
      ]
     },
     "metadata": {},
     "output_type": "display_data"
    },
    {
     "data": {
      "text/plain": [
       "matrix([[ 11445.98787442,  -1678.89989965,   9193.83098377,\n",
       "         -11207.51638422,   2989.83996617, -14685.08053319],\n",
       "        [ -1678.89989848,    285.78926991,  -1337.90865959,\n",
       "           1678.93740832,   -444.29017572,   2156.3364137 ],\n",
       "        [  9193.83098476,  -1337.90866035,  18475.6788859 ,\n",
       "          -9884.28447947,  22598.25507096, -24872.83427156],\n",
       "        [-11207.51638303,   1678.93740897,  -9884.28447799,\n",
       "          11390.72813206,  -4192.58733772,  17192.62636152],\n",
       "        [  2989.83996742,   -444.29017585,  22598.25507174,\n",
       "          -4192.58733875,  60955.79331734, -23244.74402581],\n",
       "        [-14685.08053288,   2156.3364143 , -24872.83427067,\n",
       "          17192.62636202, -23244.74402488,  53182.5418584 ]])"
      ]
     },
     "metadata": {},
     "output_type": "display_data"
    },
    {
     "data": {
      "text/plain": [
       "matrix([[ 12071.09905317,  -2196.3697263 ,   9649.68014636,\n",
       "         -12209.75385214,   3111.45621498, -15926.00287124],\n",
       "        [ -2196.36972506,    439.59977412,  -1743.88776034,\n",
       "           2257.63115462,   -570.05163096,   2900.63927688],\n",
       "        [  9649.68014738,  -1743.88776115,  18920.39834353,\n",
       "         -11020.51177519,  22474.79273444, -26542.72891964],\n",
       "        [-12209.75385088,   2257.6311553 , -11020.51177366,\n",
       "          12842.61834151,  -5010.94787245,  19442.85342646],\n",
       "        [  3111.45621623,   -570.0516311 ,  22474.7927352 ,\n",
       "          -5010.94787346,  60113.49265821, -24595.00558308],\n",
       "        [-15926.00287091,   2900.63927751, -26542.72891874,\n",
       "          19442.85342698, -24595.0055822 ,  56798.68839578]])"
      ]
     },
     "metadata": {},
     "output_type": "display_data"
    },
    {
     "data": {
      "text/plain": [
       "matrix([[ 12512.41926555,  -2733.23201072,   9684.97069547,\n",
       "         -13126.99219397,   2580.68581612, -17069.04416197],\n",
       "        [ -2733.2320094 ,    637.58161237,  -2105.05711601,\n",
       "           2905.11183933,   -570.4027788 ,   3736.1474214 ],\n",
       "        [  9684.97069655,  -2105.05711688,  18600.49579387,\n",
       "         -11810.64707762,  21339.20015768, -27680.71768422],\n",
       "        [-13126.99219264,   2905.11184003, -11810.64707601,\n",
       "          14373.93048946,  -5154.75176386,  21850.65662803],\n",
       "        [  2580.68581743,   -570.40277897,  21339.20015847,\n",
       "          -5154.7517649 ,  58132.65322777, -24851.28096268],\n",
       "        [-17069.0441616 ,   3736.14742204, -27680.71768326,\n",
       "          21850.65662854, -24851.28096177,  60785.65848896]])"
      ]
     },
     "metadata": {},
     "output_type": "display_data"
    },
    {
     "data": {
      "text/plain": [
       "matrix([[ 13156.59977222,  -3346.94851015,  10102.24730513,\n",
       "         -14256.37658101,   2607.76881018, -18357.68619639],\n",
       "        [ -3346.94850875,    892.61292433,  -2556.97445044,\n",
       "           3665.30089665,   -666.42752418,   4676.5297679 ],\n",
       "        [ 10102.24730624,  -2556.97445136,  18941.21756093,\n",
       "         -12970.2233358 ,  21094.38289845, -29204.83085388],\n",
       "        [-14256.37657961,   3665.30089737, -12970.22333415,\n",
       "          16177.28459708,  -5808.51405768,  24428.54406348],\n",
       "        [  2607.76881147,   -666.42752435,  21094.38289921,\n",
       "          -5808.51405867,  57248.47976529, -25835.27340968],\n",
       "        [-18357.68619601,   4676.52976858, -29204.83085294,\n",
       "          24428.54406402, -25835.27340886,  64564.43903974]])"
      ]
     },
     "metadata": {},
     "output_type": "display_data"
    },
    {
     "data": {
      "text/plain": [
       "matrix([[ 13325.09131645,  -3898.76285466,   9624.02272994,\n",
       "         -14978.6868561 ,   1391.71310237, -19140.0227583 ],\n",
       "        [ -3898.76285316,   1182.72250802,  -2805.70508179,\n",
       "           4423.59611165,   -415.17993056,   5614.59005342],\n",
       "        [  9624.02273113,  -2805.70508278,  17832.84998148,\n",
       "         -13208.61712585,  19092.44562961, -29411.14630277],\n",
       "        [-14978.68685461,   4423.5961124 , -13208.61712411,\n",
       "          17734.60288577,  -5019.57030926,  26761.17858156],\n",
       "        [  1391.71310377,   -415.17993077,  19092.44563044,\n",
       "          -5019.57031035,  54557.79570874, -24594.38445822],\n",
       "        [-19140.02275786,   5614.59005411, -29411.14630174,\n",
       "          26761.17858208, -24594.38445729,  68313.59500177]])"
      ]
     },
     "metadata": {},
     "output_type": "display_data"
    },
    {
     "data": {
      "text/plain": [
       "matrix([[ 14030.43242512,  -4614.22312774,  10218.24479343,\n",
       "         -16248.29914544,   1802.85093621, -20383.18610011],\n",
       "        [ -4614.22312615,   1560.32542838,  -3344.3311105 ,\n",
       "           5384.62981578,   -591.88982448,   6710.60037101],\n",
       "        [ 10218.24479462,  -3344.33111153,  18508.50084821,\n",
       "         -14589.56614761,  19410.87389525, -31019.96878751],\n",
       "        [-16248.29914389,   5384.62981655, -14589.56614587,\n",
       "          19882.27402912,  -6030.33320264,  29462.89177815],\n",
       "        [  1802.85093748,   -591.88982465,  19410.87389598,\n",
       "          -6030.33320355,  54365.20900323, -26047.5906401 ],\n",
       "        [-20383.18609971,   6710.60037175, -31019.96878659,\n",
       "          29462.89177874, -26047.59063942,  71669.82438984]])"
      ]
     },
     "metadata": {},
     "output_type": "display_data"
    },
    {
     "data": {
      "text/plain": [
       "matrix([[ 12991.51695905,  -4815.54002869,   8081.37387636,\n",
       "         -15562.89624511,  -1137.94032448, -19153.77050093],\n",
       "        [ -4815.54002701,   1828.98235904,  -2987.64960329,\n",
       "           5814.80105738,    409.98611493,   7126.86882654],\n",
       "        [  8081.37387776,  -2987.64960443,  15267.63222914,\n",
       "         -12712.59565875,  15429.37793017, -28122.97837728],\n",
       "        [-15562.89624348,   5814.80105818, -12712.59565677,\n",
       "          19934.58558017,  -2797.10306952,  29610.54641937],\n",
       "        [ -1137.94032282,    409.98611463,  15429.37793115,\n",
       "          -2797.10307085,  50230.0794611 , -21115.71294718],\n",
       "        [-19153.77050047,   7126.86882728, -28122.9783761 ,\n",
       "          29610.54641993, -21115.71294598,  72385.75986234]])"
      ]
     },
     "metadata": {},
     "output_type": "display_data"
    },
    {
     "data": {
      "text/plain": [
       "matrix([[ 12731.17180673,  -5154.44243418,   8408.62408537,\n",
       "         -15513.12931442,    534.7057458 , -17994.31463621],\n",
       "        [ -5154.44243238,   2131.84574859,  -3377.76293019,\n",
       "           6321.94103868,   -201.02649516,   7280.53217047],\n",
       "        [  8408.62408673,  -3377.76293137,  16401.5964098 ,\n",
       "         -13636.87885681,  17493.62726832, -28616.42964567],\n",
       "        [-15513.12931276,   6321.94103953, -13636.87885491,\n",
       "          20360.77600312,  -5347.35480848,  29009.62579551],\n",
       "        [   534.70574715,   -201.02649535,  17493.62726908,\n",
       "          -5347.3548094 ,  51943.89310871, -24759.01919025],\n",
       "        [-17994.31463605,   7280.53217139, -28616.4296448 ,\n",
       "          29009.62579642, -24759.01918956,  69602.1247845 ]])"
      ]
     },
     "metadata": {},
     "output_type": "display_data"
    },
    {
     "data": {
      "text/plain": [
       "matrix([[  8531.00318208,  -3874.51345873,   2957.72364905,\n",
       "         -10415.09950689,  -4790.77421881, -10878.27709523],\n",
       "        [ -3874.51345683,   1806.49856585,  -1337.68557502,\n",
       "           4783.95961516,   2162.48288054,   4987.78304322],\n",
       "        [  2957.72365103,  -1337.68557651,   9516.67988553,\n",
       "          -6858.53528053,  10831.63245433, -18869.46142799],\n",
       "        [-10415.09950524,   4783.95961607,  -6858.53527793,\n",
       "          14385.24685351,   1802.39875386,  21005.63674144],\n",
       "        [ -4790.7742163 ,   2162.48287986,  10831.63245582,\n",
       "           1802.39875155,  46030.8344473 , -13886.44000708],\n",
       "        [-10878.27709533,   4987.78304428, -18869.46142651,\n",
       "          21005.63674257, -13886.44000485,  59451.83361426]])"
      ]
     },
     "metadata": {},
     "output_type": "display_data"
    },
    {
     "data": {
      "text/plain": [
       "matrix([[  7242.99071482,  -3525.7870968 ,   2658.99856261,\n",
       "          -8774.21969584,  -2749.71301236,  -7769.41140683],\n",
       "        [ -3525.78709477,   1764.19382845,  -1256.78298093,\n",
       "           4312.44432592,   1368.27480517,   3765.68407758],\n",
       "        [  2658.9985647 ,  -1256.78298256,  10286.34039921,\n",
       "          -6758.82979199,  13310.44211189, -18098.00875948],\n",
       "        [ -8774.2196942 ,   4312.44432694,  -6758.82978927,\n",
       "          12397.93662256,  -1341.72623047,  17096.88956475],\n",
       "        [ -2749.71301006,   1368.27480454,  13310.44211329,\n",
       "          -1341.72623259,  48101.96298727, -18639.71725266],\n",
       "        [ -7769.4114075 ,   3765.68407904, -18098.00875811,\n",
       "          17096.88956656, -18639.71725044,  51738.23357933]])"
      ]
     },
     "metadata": {},
     "output_type": "display_data"
    },
    {
     "data": {
      "text/plain": [
       "matrix([[  6281.18445647,  -3376.50992289,   1124.20127394,\n",
       "          -7722.27885777,  -4673.71643508,  -6563.46774348],\n",
       "        [ -3376.50992073,   1865.11571224,   -584.63107913,\n",
       "           4204.85884532,   2517.01716914,   3557.99103403],\n",
       "        [  1124.20127647,   -584.63108105,   7896.8860683 ,\n",
       "          -4831.33958119,  10173.2068375 , -15501.71906919],\n",
       "        [ -7722.27885611,   4204.85884642,  -4831.33957795,\n",
       "          11498.04949698,   1650.55666564,  16487.09223194],\n",
       "        [ -4673.716432  ,   2517.01716809,  10173.20683932,\n",
       "           1650.55666257,  44287.89547706, -13968.13751908],\n",
       "        [ -6563.46774426,   3557.99103563, -15501.71906742,\n",
       "          16487.09223387, -13968.13751602,  52420.66996786]])"
      ]
     },
     "metadata": {},
     "output_type": "display_data"
    },
    {
     "data": {
      "text/plain": [
       "matrix([[  6194.63366251,  -3585.21892855,   1403.97022441,\n",
       "          -7879.82575064,  -3582.90243442,  -6618.38556019],\n",
       "        [ -3585.21892624,   2126.7437037 ,   -780.02491681,\n",
       "           4609.82818878,   2092.52963629,   3833.96805585],\n",
       "        [  1403.97022699,   -780.02491886,   8592.83208931,\n",
       "          -5673.28153413,  11220.2860658 , -16727.89619129],\n",
       "        [ -7879.82574891,   4609.82818997,  -5673.28153079,\n",
       "          12315.73434486,   -211.99063378,  17550.67402055],\n",
       "        [ -3582.90243151,   2092.52963529,  11220.28606753,\n",
       "           -211.99063666,  44624.21834317, -16991.36481338],\n",
       "        [ -6618.38556107,   3833.96805765, -16727.89618949,\n",
       "          17550.6740227 , -16991.36481047,  53899.44805465]])"
      ]
     },
     "metadata": {},
     "output_type": "display_data"
    },
    {
     "data": {
      "text/plain": [
       "matrix([[  6122.58794244,  -3851.31344657,   1121.13869995,\n",
       "          -8103.77008871,  -4046.56203432,  -7023.51455815],\n",
       "        [ -3851.31344411,   2476.76653228,   -679.46579146,\n",
       "           5154.69174895,   2554.5665054 ,   4444.36973368],\n",
       "        [  1121.13870276,   -679.46579374,   7975.09908113,\n",
       "          -5549.55609336,  10036.97752608, -16631.24297838],\n",
       "        [ -8103.77008689,   5154.69175022,  -5549.55608972,\n",
       "          13348.59373842,    669.47344397,  19374.24591845],\n",
       "        [ -4046.56203109,   2554.56650418,  10036.97752796,\n",
       "            669.4734407 ,  42652.1438822 , -15529.90240648],\n",
       "        [ -7023.51455898,   4444.36973557, -16631.24297636,\n",
       "          19374.2459206 , -15529.90240331,  57493.33195352]])"
      ]
     },
     "metadata": {},
     "output_type": "display_data"
    },
    {
     "data": {
      "text/plain": [
       "matrix([[  6208.61755458,  -4202.20096937,   1327.40250679,\n",
       "          -8612.18079659,  -3538.97471014,  -7671.50408924],\n",
       "        [ -4202.20096674,   2900.74401394,   -868.0271832 ,\n",
       "           5886.97087727,   2408.15727504,   5212.66042005],\n",
       "        [  1327.40250968,   -868.02718563,   8220.04761545,\n",
       "          -6285.85933206,  10107.22963758, -17685.47259648],\n",
       "        [ -8612.18079466,   5886.97087862,  -6285.85932827,\n",
       "          14950.47672178,   -163.1070071 ,  21698.43592316],\n",
       "        [ -3538.97470694,   2408.15727383,  10107.22963943,\n",
       "           -163.10701028,  41860.81550227, -16731.81224656],\n",
       "        [ -7671.50409001,   5212.66042205, -17685.47259439,\n",
       "          21698.43592536, -16731.81224352,  61176.7951156 ]])"
      ]
     },
     "metadata": {},
     "output_type": "display_data"
    },
    {
     "data": {
      "text/plain": [
       "matrix([[  6221.36283089,  -4541.89127474,   1193.96385414,\n",
       "          -9015.32786653,  -3812.2646583 ,  -8224.45981972],\n",
       "        [ -4541.89127194,   3375.2795091 ,   -843.62528622,\n",
       "           6646.19061343,   2792.75286532,   6039.25845988],\n",
       "        [  1193.96385722,   -843.62528887,   7836.18854271,\n",
       "          -6373.25758311,   9244.6817032 , -17764.98702718],\n",
       "        [ -9015.32786449,   6646.19061486,  -6373.25757907,\n",
       "          16445.52429583,    524.26488712,  23935.82146466],\n",
       "        [ -3812.2646549 ,   2792.75286394,   9244.68170514,\n",
       "            524.26488369,  40334.73007244, -15509.86283386],\n",
       "        [ -8224.45982042,   6039.25846197, -17764.98702493,\n",
       "          23935.82146685, -15509.86283069,  64895.72343935]])"
      ]
     },
     "metadata": {},
     "output_type": "display_data"
    },
    {
     "data": {
      "text/plain": [
       "matrix([[  6310.24675281,  -4943.59083364,   1283.12875416,\n",
       "          -9597.91377393,  -3644.5393214 ,  -8944.31403877],\n",
       "        [ -4943.59083065,   3935.51912504,   -973.93505027,\n",
       "           7586.62887428,   2867.46267323,   7041.76846459],\n",
       "        [  1283.12875735,   -973.93505309,   7817.93551564,\n",
       "          -6889.59103276,   8915.38569497, -18402.25468591],\n",
       "        [ -9597.91377176,   7586.62887578,  -6889.59102856,\n",
       "          18401.68325632,    393.979297  ,  26622.48656574],\n",
       "        [ -3644.53931799,   2867.46267183,   8915.38569691,\n",
       "            393.97929362,  39279.29661105, -15551.76683264],\n",
       "        [ -8944.31403937,   7041.76846677, -18402.25468358,\n",
       "          26622.48656794, -15551.7668296 ,  68885.67088694]])"
      ]
     },
     "metadata": {},
     "output_type": "display_data"
    }
   ],
   "source": [
    "print (\"Input track number: \")\n",
    "obj = int(input())\n",
    "\n",
    "dt = 0.005 # 5ms, tracking, emasurement 최소공배수\n",
    "timesShared = np.linspace (startTime_Sec, endTime_Sec, int (endTime_Sec/dt))\n",
    "timesTracking = np.linspace (startTime_Sec, endTime_Sec, int (endTime_Sec/dtTracking))\n",
    "\n",
    "# object initial pose range: 0 ~ 1000 -> track initial pose 500\n",
    "trackRadar = Tracking(timesTracking, objects[obj].states[0][0, 0], objects[obj].states[0][1, 0], obj, varState = 1000.0, varMeas = 1000.0)\n",
    "\n",
    "RadarIdx = 0\n",
    "trackingIdx = 0\n",
    "\n",
    "for t in range (len (timesShared)):\n",
    "    \n",
    "    # 50ms\n",
    "    if (t % int (dtRadar/dt) == 0):\n",
    "        z = radars[obj].measurements[RadarIdx]\n",
    "        \n",
    "        trackRadar.filter.updateEKF(z)\n",
    "        \n",
    "        RadarIdx = RadarIdx + 1\n",
    "    \n",
    "    # 10ms\n",
    "    elif  (t % int (dtTracking/dt) == 0):\n",
    "        trackRadar.filter.predict()\n",
    "        \n",
    "    else:\n",
    "        continue\n",
    "        \n",
    "    # 10ms\n",
    "    if (t % int (dtTracking/dt) == 0):\n",
    "        trackRadar.states.append(trackRadar.filter.x)\n",
    "        trackRadar.trajectory.x[trackingIdx] = trackRadar.filter.x[0, 0]\n",
    "        trackRadar.trajectory.y[trackingIdx] = trackRadar.filter.x[1, 0]\n",
    "        \n",
    "        trackingIdx = trackingIdx + 1"
   ]
  },
  {
   "cell_type": "markdown",
   "metadata": {},
   "source": [
    "## Plot comparing Lidar Tracking with Lidar measurement"
   ]
  },
  {
   "cell_type": "code",
   "execution_count": 14,
   "metadata": {},
   "outputs": [
    {
     "data": {
      "image/png": "[encoded data removed]",
      "text/plain": [
       "<Figure size 800x480 with 1 Axes>"
      ]
     },
     "metadata": {
      "needs_background": "light"
     },
     "output_type": "display_data"
    },
    {
     "data": {
      "image/png": "[encoded data removed]",
      "text/plain": [
       "<Figure size 800x480 with 1 Axes>"
      ]
     },
     "metadata": {
      "needs_background": "light"
     },
     "output_type": "display_data"
    },
    {
     "data": {
      "image/png": "[encoded data removed]",
      "text/plain": [
       "<Figure size 800x480 with 1 Axes>"
      ]
     },
     "metadata": {
      "needs_background": "light"
     },
     "output_type": "display_data"
    }
   ],
   "source": [
    "# Tracking plot\n",
    "plt.figure(figsize=(10,6), dpi=80)\n",
    "plt.title(\"Tracking\")\n",
    "radars[obj].plot (timesRadar, obj, TRAJECTORY)\n",
    "trackRadar.plot (timesTracking, obj, TRAJECTORY, 'k')\n",
    "objects[obj].plot (times, obj, TRAJECTORY)\n",
    "\n",
    "plt.legend(loc='upper right', frameon=False)\n",
    "plt.xlabel('x (m)')\n",
    "plt.ylabel('y (m)')\n",
    "plt.show()\n",
    "\n",
    "# x over time\n",
    "plt.figure(figsize=(10,6), dpi=80)\n",
    "plt.title(\"x over time\")\n",
    "radars[obj].plot (timesRadar, obj, X)\n",
    "trackRadar.plot (timesTracking, obj, X, 'k')\n",
    "objects[obj].plot (times, obj, X)\n",
    "\n",
    "plt.legend(loc='upper right', frameon=False)\n",
    "plt.xlabel('time (sec)')\n",
    "plt.ylabel('x distance (m)')\n",
    "plt.show()\n",
    "\n",
    "# y over time\n",
    "plt.figure(figsize=(10,6), dpi=80)\n",
    "plt.title(\"y over time\")\n",
    "radars[obj].plot (timesRadar, obj, Y)\n",
    "trackRadar.plot (timesTracking, obj, Y, 'k')\n",
    "objects[obj].plot (times, obj, Y)\n",
    "\n",
    "plt.legend(loc='upper right', frameon=False)\n",
    "plt.xlabel('time (sec)')\n",
    "plt.ylabel('y distance (m)')\n",
    "plt.show()"
   ]
  },
  {
   "cell_type": "code",
   "execution_count": null,
   "metadata": {},
   "outputs": [],
   "source": []
  }
 ],
 "metadata": {
  "kernelspec": {
   "display_name": "Python 3",
   "language": "python",
   "name": "python3"
  },
  "language_info": {
   "codemirror_mode": {
    "name": "ipython",
    "version": 3
   },
   "file_extension": ".py",
   "mimetype": "text/x-python",
   "name": "python",
   "nbconvert_exporter": "python",
   "pygments_lexer": "ipython3",
   "version": "3.7.3"
  }
 },
 "nbformat": 4,
 "nbformat_minor": 2
}
